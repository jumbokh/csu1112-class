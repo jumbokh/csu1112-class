{
  "cells": [
    {
      "cell_type": "markdown",
      "metadata": {
        "id": "kacOwSGueBBB"
      },
      "source": [
        "# 第1章 预备知识"
      ]
    },
    {
      "cell_type": "markdown",
      "metadata": {
        "id": "s-9It4BmeBBG"
      },
      "source": [
        "## 1.1 数据操作"
      ]
    },
    {
      "cell_type": "markdown",
      "metadata": {
        "id": "UCZOxLaweBBH"
      },
      "source": [
        "## 1.1.1 创建Tensor"
      ]
    },
    {
      "cell_type": "markdown",
      "metadata": {
        "id": "6V5yglsKeBBH"
      },
      "source": [
        "导入PyTorch"
      ]
    },
    {
      "cell_type": "code",
      "execution_count": null,
      "metadata": {
        "id": "9VOGoFx2eBBI",
        "outputId": "5d9534a6-a495-4c4a-a69f-fb6b93b1c555"
      },
      "outputs": [
        {
          "name": "stdout",
          "output_type": "stream",
          "text": [
            "版本号为：1.1.0\n"
          ]
        }
      ],
      "source": [
        "import torch\n",
        "print(\"版本号为：{}\".format(torch.__version__))"
      ]
    },
    {
      "cell_type": "markdown",
      "metadata": {
        "id": "mzVjd2lUeBBK"
      },
      "source": [
        "创建行向量"
      ]
    },
    {
      "cell_type": "code",
      "execution_count": null,
      "metadata": {
        "id": "NXfkAV81eBBK",
        "outputId": "38a2ea76-8824-4a55-d653-3dac83fdfd93"
      },
      "outputs": [
        {
          "data": {
            "text/plain": [
              "tensor([ 0,  1,  2,  3,  4,  5,  6,  7,  8,  9, 10, 11])"
            ]
          },
          "execution_count": 2,
          "metadata": {},
          "output_type": "execute_result"
        }
      ],
      "source": [
        "tensor_a = torch.arange(0, 12)\n",
        "tensor_a"
      ]
    },
    {
      "cell_type": "code",
      "execution_count": null,
      "metadata": {
        "id": "WGM_3KA5eBBL",
        "outputId": "d248f8eb-24ff-4d99-a789-26da9a85df10"
      },
      "outputs": [
        {
          "name": "stdout",
          "output_type": "stream",
          "text": [
            "张量的存储位置：cpu\n"
          ]
        }
      ],
      "source": [
        "print(\"张量的存储位置：{}\".format(tensor_a.device))"
      ]
    },
    {
      "cell_type": "markdown",
      "metadata": {
        "id": "L4-wbS-YeBBL"
      },
      "source": [
        "获取张量的形状"
      ]
    },
    {
      "cell_type": "code",
      "execution_count": null,
      "metadata": {
        "id": "dnjzacfYeBBM",
        "outputId": "74a62580-1d43-46cb-89e1-d5afc6d75082"
      },
      "outputs": [
        {
          "data": {
            "text/plain": [
              "torch.Size([12])"
            ]
          },
          "execution_count": 4,
          "metadata": {},
          "output_type": "execute_result"
        }
      ],
      "source": [
        "tensor_a.shape"
      ]
    },
    {
      "cell_type": "markdown",
      "metadata": {
        "id": "nyXv-YuweBBM"
      },
      "source": [
        "获取张量中元素总数"
      ]
    },
    {
      "cell_type": "code",
      "execution_count": null,
      "metadata": {
        "id": "2Ah7q6iPeBBN",
        "outputId": "903a718d-3bef-4117-b37c-7dad8740a35a"
      },
      "outputs": [
        {
          "data": {
            "text/plain": [
              "12"
            ]
          },
          "execution_count": 5,
          "metadata": {},
          "output_type": "execute_result"
        }
      ],
      "source": [
        "tensor_a.numel()"
      ]
    },
    {
      "cell_type": "markdown",
      "metadata": {
        "id": "XiG8E8MueBBN"
      },
      "source": [
        "维度变换"
      ]
    },
    {
      "cell_type": "code",
      "execution_count": null,
      "metadata": {
        "id": "SeMEA-rKeBBN",
        "outputId": "3e9566f7-5d68-4b0d-95e9-4fbfa68475fe"
      },
      "outputs": [
        {
          "data": {
            "text/plain": [
              "tensor([[ 0,  1,  2,  3],\n",
              "        [ 4,  5,  6,  7],\n",
              "        [ 8,  9, 10, 11]])"
            ]
          },
          "execution_count": 6,
          "metadata": {},
          "output_type": "execute_result"
        }
      ],
      "source": [
        "X = tensor_a.view(3, 4)\n",
        "X"
      ]
    },
    {
      "cell_type": "code",
      "execution_count": null,
      "metadata": {
        "id": "OKpP0TsTeBBO",
        "outputId": "579c2f86-2304-44e1-8ad6-9cff4ecba473"
      },
      "outputs": [
        {
          "data": {
            "text/plain": [
              "tensor([[ 0,  1,  2,  3],\n",
              "        [ 4,  5,  6,  7],\n",
              "        [ 8,  9, 10, 11]])"
            ]
          },
          "execution_count": 7,
          "metadata": {},
          "output_type": "execute_result"
        }
      ],
      "source": [
        "X = tensor_a.view(3, -1)\n",
        "X"
      ]
    },
    {
      "cell_type": "code",
      "execution_count": null,
      "metadata": {
        "id": "q4yVIrz_eBBO",
        "outputId": "7ce7ffe3-150d-45b9-8fb3-41f271dab3ff"
      },
      "outputs": [
        {
          "data": {
            "text/plain": [
              "tensor([[ 0,  1,  2,  3],\n",
              "        [ 4,  5,  6,  7],\n",
              "        [ 8,  9, 10, 11]])"
            ]
          },
          "execution_count": 8,
          "metadata": {},
          "output_type": "execute_result"
        }
      ],
      "source": [
        "X = tensor_a.view(-1, 4)\n",
        "X"
      ]
    },
    {
      "cell_type": "markdown",
      "metadata": {
        "id": "-RrR8jOveBBO"
      },
      "source": [
        "全0张量"
      ]
    },
    {
      "cell_type": "code",
      "execution_count": null,
      "metadata": {
        "id": "jZd6YW6meBBO",
        "outputId": "8a75a22c-6196-490d-b429-f3937cf87d3f"
      },
      "outputs": [
        {
          "data": {
            "text/plain": [
              "tensor([[[0., 0., 0., 0.],\n",
              "         [0., 0., 0., 0.],\n",
              "         [0., 0., 0., 0.]],\n",
              "\n",
              "        [[0., 0., 0., 0.],\n",
              "         [0., 0., 0., 0.],\n",
              "         [0., 0., 0., 0.]]])"
            ]
          },
          "execution_count": 9,
          "metadata": {},
          "output_type": "execute_result"
        }
      ],
      "source": [
        "torch.zeros((2, 3, 4))"
      ]
    },
    {
      "cell_type": "markdown",
      "metadata": {
        "id": "7owLa57UeBBP"
      },
      "source": [
        "全1张量"
      ]
    },
    {
      "cell_type": "code",
      "execution_count": null,
      "metadata": {
        "id": "et_ftn5oeBBP",
        "outputId": "fd79de79-e892-403f-c513-ff7d28fe769e"
      },
      "outputs": [
        {
          "data": {
            "text/plain": [
              "tensor([[1., 1., 1., 1.],\n",
              "        [1., 1., 1., 1.],\n",
              "        [1., 1., 1., 1.]])"
            ]
          },
          "execution_count": 10,
          "metadata": {},
          "output_type": "execute_result"
        }
      ],
      "source": [
        "torch.ones((3, 4))"
      ]
    },
    {
      "cell_type": "markdown",
      "metadata": {
        "id": "ddqF5WxCeBBP"
      },
      "source": [
        "通过列表创建张量"
      ]
    },
    {
      "cell_type": "code",
      "execution_count": null,
      "metadata": {
        "id": "mrRUfyjfeBBQ",
        "outputId": "548925a7-91a3-471d-f413-8374b1ceb52d"
      },
      "outputs": [
        {
          "data": {
            "text/plain": [
              "tensor([[2, 1, 4, 3],\n",
              "        [1, 2, 3, 4],\n",
              "        [4, 3, 2, 1]])"
            ]
          },
          "execution_count": 11,
          "metadata": {},
          "output_type": "execute_result"
        }
      ],
      "source": [
        "Y = torch.tensor([[2, 1, 4, 3], [1, 2, 3, 4], [4, 3, 2, 1]])\n",
        "Y"
      ]
    },
    {
      "cell_type": "markdown",
      "metadata": {
        "id": "xNy_pkKNeBBQ"
      },
      "source": [
        "正态分布随机初始化张量的值"
      ]
    },
    {
      "cell_type": "code",
      "execution_count": null,
      "metadata": {
        "id": "UlUnYPzQeBBQ",
        "outputId": "80c54fd2-7282-4088-e69a-c74426ff3915"
      },
      "outputs": [
        {
          "data": {
            "text/plain": [
              "tensor([[ 0.7397, -1.2009,  0.7753, -0.9972],\n",
              "        [ 1.0678,  1.0227, -0.4779,  0.0222],\n",
              "        [ 0.7110, -1.4663,  1.5332,  2.0392]])"
            ]
          },
          "execution_count": 12,
          "metadata": {},
          "output_type": "execute_result"
        }
      ],
      "source": [
        "torch.randn((3, 4))"
      ]
    },
    {
      "cell_type": "markdown",
      "metadata": {
        "id": "u7EbnBR_eBBQ"
      },
      "source": [
        "## 1.1.2 运算"
      ]
    },
    {
      "cell_type": "markdown",
      "metadata": {
        "id": "ePlSz1cneBBQ"
      },
      "source": [
        "按元素加法"
      ]
    },
    {
      "cell_type": "code",
      "execution_count": null,
      "metadata": {
        "id": "XpnF7dgoeBBR",
        "outputId": "0d68b2a7-5356-4b60-8681-883ab719376e"
      },
      "outputs": [
        {
          "data": {
            "text/plain": [
              "tensor([[ 2,  2,  6,  6],\n",
              "        [ 5,  7,  9, 11],\n",
              "        [12, 12, 12, 12]])"
            ]
          },
          "execution_count": 13,
          "metadata": {},
          "output_type": "execute_result"
        }
      ],
      "source": [
        "X + Y"
      ]
    },
    {
      "cell_type": "markdown",
      "metadata": {
        "id": "EXatXxf6eBBR"
      },
      "source": [
        "按元素乘法"
      ]
    },
    {
      "cell_type": "code",
      "execution_count": null,
      "metadata": {
        "id": "gz50u7RkeBBR",
        "outputId": "0c5b34e0-568f-428a-99a1-effdd8715bf0"
      },
      "outputs": [
        {
          "data": {
            "text/plain": [
              "tensor([[ 0,  1,  8,  9],\n",
              "        [ 4, 10, 18, 28],\n",
              "        [32, 27, 20, 11]])"
            ]
          },
          "execution_count": 14,
          "metadata": {},
          "output_type": "execute_result"
        }
      ],
      "source": [
        "X * Y"
      ]
    },
    {
      "cell_type": "markdown",
      "metadata": {
        "id": "XsFjzmPkeBBR"
      },
      "source": [
        "按元素除法"
      ]
    },
    {
      "cell_type": "code",
      "execution_count": null,
      "metadata": {
        "id": "3DnoaMVIeBBR",
        "outputId": "bd49e48f-0345-4af7-a7d7-df87eacbb488"
      },
      "outputs": [
        {
          "data": {
            "text/plain": [
              "tensor([[ 0.0000,  1.0000,  0.5000,  1.0000],\n",
              "        [ 4.0000,  2.5000,  2.0000,  1.7500],\n",
              "        [ 2.0000,  3.0000,  5.0000, 11.0000]])"
            ]
          },
          "execution_count": 15,
          "metadata": {},
          "output_type": "execute_result"
        }
      ],
      "source": [
        "X.float() / Y.float()"
      ]
    },
    {
      "cell_type": "markdown",
      "metadata": {
        "id": "ZkB3xQMfeBBS"
      },
      "source": [
        "按元素做指数运算"
      ]
    },
    {
      "cell_type": "code",
      "execution_count": null,
      "metadata": {
        "id": "8vSYXzpQeBBS",
        "outputId": "b2e6abcc-10e4-42b0-855f-7bea25587a49"
      },
      "outputs": [
        {
          "data": {
            "text/plain": [
              "tensor([[ 7.3891,  2.7183, 54.5981, 20.0855],\n",
              "        [ 2.7183,  7.3891, 20.0855, 54.5981],\n",
              "        [54.5981, 20.0855,  7.3891,  2.7183]])"
            ]
          },
          "execution_count": 16,
          "metadata": {},
          "output_type": "execute_result"
        }
      ],
      "source": [
        "torch.exp(Y.float())"
      ]
    },
    {
      "cell_type": "markdown",
      "metadata": {
        "id": "KXEpcs5MeBBS"
      },
      "source": [
        "矩阵乘法"
      ]
    },
    {
      "cell_type": "code",
      "execution_count": null,
      "metadata": {
        "id": "MYZmJiLYeBBS",
        "outputId": "f9926985-1d05-46d2-c381-3e20bcb4da3d"
      },
      "outputs": [
        {
          "data": {
            "text/plain": [
              "tensor([[ 18,  20,  10],\n",
              "        [ 58,  60,  50],\n",
              "        [ 98, 100,  90]])"
            ]
          },
          "execution_count": 17,
          "metadata": {},
          "output_type": "execute_result"
        }
      ],
      "source": [
        "X @ Y.t()"
      ]
    },
    {
      "cell_type": "markdown",
      "metadata": {
        "id": "sSiO--ONeBBS"
      },
      "source": [
        "纵向拼接与横向拼接"
      ]
    },
    {
      "cell_type": "code",
      "execution_count": null,
      "metadata": {
        "id": "hAd21j3-eBBT",
        "outputId": "3934faf6-ec5a-494e-e870-8e600c1333ae"
      },
      "outputs": [
        {
          "data": {
            "text/plain": [
              "(tensor([[ 0,  1,  2,  3],\n",
              "         [ 4,  5,  6,  7],\n",
              "         [ 8,  9, 10, 11],\n",
              "         [ 2,  1,  4,  3],\n",
              "         [ 1,  2,  3,  4],\n",
              "         [ 4,  3,  2,  1]]),\n",
              " tensor([[ 0,  1,  2,  3,  2,  1,  4,  3],\n",
              "         [ 4,  5,  6,  7,  1,  2,  3,  4],\n",
              "         [ 8,  9, 10, 11,  4,  3,  2,  1]]))"
            ]
          },
          "execution_count": 18,
          "metadata": {},
          "output_type": "execute_result"
        }
      ],
      "source": [
        "torch.cat((X, Y), 0), torch.cat((X, Y), 1)"
      ]
    },
    {
      "cell_type": "markdown",
      "metadata": {
        "id": "EohnB2xWeBBT"
      },
      "source": [
        "条件判别式"
      ]
    },
    {
      "cell_type": "code",
      "execution_count": null,
      "metadata": {
        "id": "ptx8w_21eBBT",
        "outputId": "0e741f13-a1ac-4117-ecb6-24e3c4900440"
      },
      "outputs": [
        {
          "data": {
            "text/plain": [
              "tensor([[0, 1, 0, 1],\n",
              "        [0, 0, 0, 0],\n",
              "        [0, 0, 0, 0]], dtype=torch.uint8)"
            ]
          },
          "execution_count": 19,
          "metadata": {},
          "output_type": "execute_result"
        }
      ],
      "source": [
        "X == Y"
      ]
    },
    {
      "cell_type": "markdown",
      "metadata": {
        "id": "nnAWXOs_eBBT"
      },
      "source": [
        "张量内元素求和"
      ]
    },
    {
      "cell_type": "code",
      "execution_count": null,
      "metadata": {
        "id": "9dIqjZNceBBT",
        "outputId": "67b88d0d-75f9-45c6-b86e-49f0100c49a9"
      },
      "outputs": [
        {
          "data": {
            "text/plain": [
              "tensor(66)"
            ]
          },
          "execution_count": 20,
          "metadata": {},
          "output_type": "execute_result"
        }
      ],
      "source": [
        "torch.sum(X)"
      ]
    },
    {
      "cell_type": "markdown",
      "metadata": {
        "id": "GZN4kckLeBBT"
      },
      "source": [
        "计算结果转换为标量"
      ]
    },
    {
      "cell_type": "code",
      "execution_count": null,
      "metadata": {
        "id": "Eagd9_EjeBBU",
        "outputId": "2adbfff7-218d-4907-c954-bdd66fe0e1a7"
      },
      "outputs": [
        {
          "data": {
            "text/plain": [
              "22.494443893432617"
            ]
          },
          "execution_count": 21,
          "metadata": {},
          "output_type": "execute_result"
        }
      ],
      "source": [
        "torch.norm(X.float()).item()"
      ]
    },
    {
      "cell_type": "markdown",
      "metadata": {
        "id": "P9MYOPXaeBBU"
      },
      "source": [
        "## 1.1.3 广播机制"
      ]
    },
    {
      "cell_type": "markdown",
      "metadata": {
        "id": "5TTxw2bMeBBU"
      },
      "source": [
        "创建张量"
      ]
    },
    {
      "cell_type": "code",
      "execution_count": null,
      "metadata": {
        "id": "waHI0VYbeBBU",
        "outputId": "8bf45002-44ab-4152-8a11-59f41a668404"
      },
      "outputs": [
        {
          "data": {
            "text/plain": [
              "(tensor([[0],\n",
              "         [1],\n",
              "         [2]]),\n",
              " tensor([[0, 1]]))"
            ]
          },
          "execution_count": 22,
          "metadata": {},
          "output_type": "execute_result"
        }
      ],
      "source": [
        "A = torch.arange(0, 3).view(3, 1)\n",
        "B = torch.arange(0, 2).view(1, 2)\n",
        "A, B"
      ]
    },
    {
      "cell_type": "code",
      "execution_count": null,
      "metadata": {
        "id": "nW2cEXzGeBBU",
        "outputId": "d6b00146-f052-459e-f7ce-a8f66ab3065d"
      },
      "outputs": [
        {
          "data": {
            "text/plain": [
              "tensor([[0, 1],\n",
              "        [1, 2],\n",
              "        [2, 3]])"
            ]
          },
          "execution_count": 23,
          "metadata": {},
          "output_type": "execute_result"
        }
      ],
      "source": [
        "A + B"
      ]
    },
    {
      "cell_type": "markdown",
      "metadata": {
        "id": "tYznDe2reBBV"
      },
      "source": [
        "### 1.1.4 索引"
      ]
    },
    {
      "cell_type": "code",
      "execution_count": null,
      "metadata": {
        "id": "QeVtube-eBBV",
        "outputId": "40fe55b9-7c7b-490a-ac06-f11dfb4d4692"
      },
      "outputs": [
        {
          "data": {
            "text/plain": [
              "tensor([[ 4,  5,  6,  7],\n",
              "        [ 8,  9, 10, 11]])"
            ]
          },
          "execution_count": 24,
          "metadata": {},
          "output_type": "execute_result"
        }
      ],
      "source": [
        "X[1:3]"
      ]
    },
    {
      "cell_type": "markdown",
      "metadata": {
        "id": "uFqVRIlfeBBV"
      },
      "source": [
        "修改张量中某位置元素的值"
      ]
    },
    {
      "cell_type": "code",
      "execution_count": null,
      "metadata": {
        "id": "uDIegnkEeBBV",
        "outputId": "cac2f90e-f33a-413f-b5d4-ce21b9c7d9fe"
      },
      "outputs": [
        {
          "data": {
            "text/plain": [
              "tensor([[ 0,  1,  2,  3],\n",
              "        [ 4,  5,  9,  7],\n",
              "        [ 8,  9, 10, 11]])"
            ]
          },
          "execution_count": 25,
          "metadata": {},
          "output_type": "execute_result"
        }
      ],
      "source": [
        "X[1, 2] = 9\n",
        "X"
      ]
    },
    {
      "cell_type": "markdown",
      "metadata": {
        "id": "kqZc5ODOeBBV"
      },
      "source": [
        "对部分元素重新赋值"
      ]
    },
    {
      "cell_type": "code",
      "execution_count": null,
      "metadata": {
        "id": "QhPagwN9eBBW",
        "outputId": "04bd5029-a5a1-415d-88f2-b15a88d770fb"
      },
      "outputs": [
        {
          "data": {
            "text/plain": [
              "tensor([[ 0,  1,  2,  3],\n",
              "        [12, 12, 12, 12],\n",
              "        [ 8,  9, 10, 11]])"
            ]
          },
          "execution_count": 26,
          "metadata": {},
          "output_type": "execute_result"
        }
      ],
      "source": [
        "X[1:2, :] = 12\n",
        "X"
      ]
    },
    {
      "cell_type": "markdown",
      "metadata": {
        "id": "Rvq6xpxJeBBW"
      },
      "source": [
        "### 1.1.5 运算的内存开销"
      ]
    },
    {
      "cell_type": "markdown",
      "metadata": {
        "id": "g2MBD5QReBBW"
      },
      "source": [
        "内存不同"
      ]
    },
    {
      "cell_type": "code",
      "execution_count": null,
      "metadata": {
        "id": "TFKka2_OeBBW",
        "outputId": "ea6ea7bb-639c-4597-fd01-bc8a5320f0f8"
      },
      "outputs": [
        {
          "data": {
            "text/plain": [
              "False"
            ]
          },
          "execution_count": 27,
          "metadata": {},
          "output_type": "execute_result"
        }
      ],
      "source": [
        "before = id(Y)\n",
        "Y = Y + X\n",
        "id(Y) == before"
      ]
    },
    {
      "cell_type": "markdown",
      "metadata": {
        "id": "OjVg3pw6eBBW"
      },
      "source": [
        "内存相同"
      ]
    },
    {
      "cell_type": "code",
      "execution_count": null,
      "metadata": {
        "id": "14q8ERQ1eBBX",
        "outputId": "0135604c-3f3c-4d1a-d852-3574a6dd6697"
      },
      "outputs": [
        {
          "data": {
            "text/plain": [
              "True"
            ]
          },
          "execution_count": 28,
          "metadata": {},
          "output_type": "execute_result"
        }
      ],
      "source": [
        "Z = torch.zeros_like(Y)\n",
        "before = id(Z)\n",
        "Z[:] = X + Y\n",
        "id(Z) == before"
      ]
    },
    {
      "cell_type": "code",
      "execution_count": null,
      "metadata": {
        "id": "C2vRpiTNeBBX",
        "outputId": "d640adee-4e47-4216-b1d1-ae242cbc95d4"
      },
      "outputs": [
        {
          "data": {
            "text/plain": [
              "True"
            ]
          },
          "execution_count": 29,
          "metadata": {},
          "output_type": "execute_result"
        }
      ],
      "source": [
        "torch.add(X, Y, out=Z)\n",
        "id(Z) == before"
      ]
    },
    {
      "cell_type": "code",
      "execution_count": null,
      "metadata": {
        "id": "gED-mNdreBBX",
        "outputId": "3c3b192e-93cc-41a0-cf5b-cf82661a41d5"
      },
      "outputs": [
        {
          "data": {
            "text/plain": [
              "True"
            ]
          },
          "execution_count": 30,
          "metadata": {},
          "output_type": "execute_result"
        }
      ],
      "source": [
        "before = id(X)\n",
        "X += Y\n",
        "id(X) == before"
      ]
    },
    {
      "cell_type": "markdown",
      "metadata": {
        "id": "1QRhUwOmeBBX"
      },
      "source": [
        "### 1.1.6 Tensor和NumPy相互变换"
      ]
    },
    {
      "cell_type": "markdown",
      "metadata": {
        "id": "9LVLRPLteBBX"
      },
      "source": [
        "将NumPy变换为Tensor"
      ]
    },
    {
      "cell_type": "code",
      "execution_count": null,
      "metadata": {
        "id": "guIRqwH4eBBY",
        "outputId": "649d04d2-712f-445d-89a5-d8fc0523f78b"
      },
      "outputs": [
        {
          "data": {
            "text/plain": [
              "tensor([[1., 1., 1.],\n",
              "        [1., 1., 1.]], dtype=torch.float64)"
            ]
          },
          "execution_count": 31,
          "metadata": {},
          "output_type": "execute_result"
        }
      ],
      "source": [
        "import numpy as np\n",
        "P = np.ones((2, 3))\n",
        "D = torch.from_numpy(P)\n",
        "D"
      ]
    },
    {
      "cell_type": "markdown",
      "metadata": {
        "id": "lS04YvdteBBY"
      },
      "source": [
        "将Tensor变换为NumPy"
      ]
    },
    {
      "cell_type": "code",
      "execution_count": null,
      "metadata": {
        "id": "X7SLglNFeBBY",
        "outputId": "c92d6aaf-c911-462e-be8d-8a242c6a727e"
      },
      "outputs": [
        {
          "data": {
            "text/plain": [
              "array([[1., 1., 1.],\n",
              "       [1., 1., 1.]])"
            ]
          },
          "execution_count": 32,
          "metadata": {},
          "output_type": "execute_result"
        }
      ],
      "source": [
        "D.numpy()"
      ]
    },
    {
      "cell_type": "markdown",
      "metadata": {
        "id": "GMcguEc5eBBY"
      },
      "source": [
        "## 1.2 自动求梯度"
      ]
    },
    {
      "cell_type": "code",
      "execution_count": null,
      "metadata": {
        "id": "R0OFNdtneBBY"
      },
      "outputs": [],
      "source": [
        "from torch import autograd"
      ]
    },
    {
      "cell_type": "markdown",
      "metadata": {
        "id": "aqE3AO1FeBBZ"
      },
      "source": [
        "### 1.2.1 简单例子"
      ]
    },
    {
      "cell_type": "code",
      "execution_count": null,
      "metadata": {
        "id": "TY9I3Jj8eBBZ",
        "outputId": "8cecd088-63cb-4cc4-ebec-6dbc55fa7c53"
      },
      "outputs": [
        {
          "data": {
            "text/plain": [
              "tensor([0., 1., 2., 3.])"
            ]
          },
          "execution_count": 34,
          "metadata": {},
          "output_type": "execute_result"
        }
      ],
      "source": [
        "x = torch.arange(4).float()\n",
        "x"
      ]
    },
    {
      "cell_type": "code",
      "execution_count": null,
      "metadata": {
        "id": "rBGw1i7HeBBZ",
        "outputId": "ce0b20ff-b4ba-42dd-8bc0-01978b786606"
      },
      "outputs": [
        {
          "data": {
            "text/plain": [
              "tensor([0., 1., 2., 3.], requires_grad=True)"
            ]
          },
          "execution_count": 35,
          "metadata": {},
          "output_type": "execute_result"
        }
      ],
      "source": [
        "x.requires_grad_(True)"
      ]
    },
    {
      "cell_type": "code",
      "execution_count": null,
      "metadata": {
        "id": "r1cwGLwDeBBZ"
      },
      "outputs": [],
      "source": [
        "y = 2*torch.dot(x, x.t())"
      ]
    },
    {
      "cell_type": "code",
      "execution_count": null,
      "metadata": {
        "id": "EqlhH5sjeBBZ"
      },
      "outputs": [],
      "source": [
        "y.backward()"
      ]
    },
    {
      "cell_type": "code",
      "execution_count": null,
      "metadata": {
        "id": "h701MLjneBBZ",
        "outputId": "d5e00707-cd22-4b67-fa4e-fc02c3593140"
      },
      "outputs": [
        {
          "name": "stdout",
          "output_type": "stream",
          "text": [
            "tensor([ 0.,  4.,  8., 12.])\n"
          ]
        }
      ],
      "source": [
        "print(x.grad)"
      ]
    },
    {
      "cell_type": "markdown",
      "metadata": {
        "id": "aFnQYevSeBBa"
      },
      "source": [
        "## 1.3 查阅文档"
      ]
    },
    {
      "cell_type": "code",
      "execution_count": null,
      "metadata": {
        "id": "oPvxpkWAeBBa",
        "outputId": "40449a87-906c-4fdd-bf6c-7e1654f84d92"
      },
      "outputs": [
        {
          "name": "stdout",
          "output_type": "stream",
          "text": [
            "['__builtins__', '__cached__', '__doc__', '__file__', '__loader__', '__name__', '__package__', '__spec__', '_fork_rng_warned_already', 'contextlib', 'default_generator', 'fork_rng', 'get_rng_state', 'initial_seed', 'manual_seed', 'set_rng_state', 'warnings']\n"
          ]
        }
      ],
      "source": [
        "print(dir(torch.random))"
      ]
    },
    {
      "cell_type": "code",
      "execution_count": null,
      "metadata": {
        "id": "nfcHopGreBBa",
        "outputId": "d1601b0f-642d-4fe3-fa35-2a2d471f4145"
      },
      "outputs": [
        {
          "name": "stdout",
          "output_type": "stream",
          "text": [
            "Help on built-in function ones_like:\n",
            "\n",
            "ones_like(...)\n",
            "    ones_like(input, dtype=None, layout=None, device=None, requires_grad=False) -> Tensor\n",
            "    \n",
            "    Returns a tensor filled with the scalar value `1`, with the same size as\n",
            "    :attr:`input`. ``torch.ones_like(input)`` is equivalent to\n",
            "    ``torch.ones(input.size(), dtype=input.dtype, layout=input.layout, device=input.device)``.\n",
            "    \n",
            "    .. warning::\n",
            "        As of 0.4, this function does not support an :attr:`out` keyword. As an alternative,\n",
            "        the old ``torch.ones_like(input, out=output)`` is equivalent to\n",
            "        ``torch.ones(input.size(), out=output)``.\n",
            "    \n",
            "    Args:\n",
            "        input (Tensor): the size of :attr:`input` will determine size of the output tensor\n",
            "        dtype (:class:`torch.dtype`, optional): the desired data type of returned Tensor.\n",
            "            Default: if ``None``, defaults to the dtype of :attr:`input`.\n",
            "        layout (:class:`torch.layout`, optional): the desired layout of returned tensor.\n",
            "            Default: if ``None``, defaults to the layout of :attr:`input`.\n",
            "        device (:class:`torch.device`, optional): the desired device of returned tensor.\n",
            "            Default: if ``None``, defaults to the device of :attr:`input`.\n",
            "        requires_grad (bool, optional): If autograd should record operations on the\n",
            "            returned tensor. Default: ``False``.\n",
            "    \n",
            "    Example::\n",
            "    \n",
            "        >>> input = torch.empty(2, 3)\n",
            "        >>> torch.ones_like(input)\n",
            "        tensor([[ 1.,  1.,  1.],\n",
            "                [ 1.,  1.,  1.]])\n",
            "\n"
          ]
        }
      ],
      "source": [
        "help(torch.ones_like)"
      ]
    },
    {
      "cell_type": "code",
      "execution_count": null,
      "metadata": {
        "id": "AE_jv0fQeBBa",
        "outputId": "aef9aefc-8c09-4f4f-dd74-00fa582cfa7d"
      },
      "outputs": [
        {
          "data": {
            "text/plain": [
              "tensor([[1, 1, 1],\n",
              "        [1, 1, 1]])"
            ]
          },
          "execution_count": 41,
          "metadata": {},
          "output_type": "execute_result"
        }
      ],
      "source": [
        "x = torch.tensor([[0, 0, 0], [2, 2, 2]])\n",
        "y = torch.ones_like(x)\n",
        "y"
      ]
    },
    {
      "cell_type": "code",
      "execution_count": null,
      "metadata": {
        "id": "PKm40XQLeBBa",
        "outputId": "37999390-b6d0-4429-dbc6-2ed911a357a4"
      },
      "outputs": [
        {
          "data": {
            "text/plain": [
              "\u001b[0;31mDocstring:\u001b[0m\n",
              "ones_like(input, dtype=None, layout=None, device=None, requires_grad=False) -> Tensor\n",
              "\n",
              "Returns a tensor filled with the scalar value `1`, with the same size as\n",
              ":attr:`input`. ``torch.ones_like(input)`` is equivalent to\n",
              "``torch.ones(input.size(), dtype=input.dtype, layout=input.layout, device=input.device)``.\n",
              "\n",
              ".. warning::\n",
              "    As of 0.4, this function does not support an :attr:`out` keyword. As an alternative,\n",
              "    the old ``torch.ones_like(input, out=output)`` is equivalent to\n",
              "    ``torch.ones(input.size(), out=output)``.\n",
              "\n",
              "Args:\n",
              "    input (Tensor): the size of :attr:`input` will determine size of the output tensor\n",
              "    dtype (:class:`torch.dtype`, optional): the desired data type of returned Tensor.\n",
              "        Default: if ``None``, defaults to the dtype of :attr:`input`.\n",
              "    layout (:class:`torch.layout`, optional): the desired layout of returned tensor.\n",
              "        Default: if ``None``, defaults to the layout of :attr:`input`.\n",
              "    device (:class:`torch.device`, optional): the desired device of returned tensor.\n",
              "        Default: if ``None``, defaults to the device of :attr:`input`.\n",
              "    requires_grad (bool, optional): If autograd should record operations on the\n",
              "        returned tensor. Default: ``False``.\n",
              "\n",
              "Example::\n",
              "\n",
              "    >>> input = torch.empty(2, 3)\n",
              "    >>> torch.ones_like(input)\n",
              "    tensor([[ 1.,  1.,  1.],\n",
              "            [ 1.,  1.,  1.]])\n",
              "\u001b[0;31mType:\u001b[0m      builtin_function_or_method\n"
            ]
          },
          "metadata": {},
          "output_type": "display_data"
        }
      ],
      "source": [
        "torch.ones_like?"
      ]
    },
    {
      "cell_type": "code",
      "execution_count": null,
      "metadata": {
        "id": "7akABY0seBBb",
        "outputId": "a8791294-4f0e-4838-e9ba-311674e9ef52"
      },
      "outputs": [
        {
          "data": {
            "text/plain": [
              "\u001b[0;31mDocstring:\u001b[0m\n",
              "ones_like(input, dtype=None, layout=None, device=None, requires_grad=False) -> Tensor\n",
              "\n",
              "Returns a tensor filled with the scalar value `1`, with the same size as\n",
              ":attr:`input`. ``torch.ones_like(input)`` is equivalent to\n",
              "``torch.ones(input.size(), dtype=input.dtype, layout=input.layout, device=input.device)``.\n",
              "\n",
              ".. warning::\n",
              "    As of 0.4, this function does not support an :attr:`out` keyword. As an alternative,\n",
              "    the old ``torch.ones_like(input, out=output)`` is equivalent to\n",
              "    ``torch.ones(input.size(), out=output)``.\n",
              "\n",
              "Args:\n",
              "    input (Tensor): the size of :attr:`input` will determine size of the output tensor\n",
              "    dtype (:class:`torch.dtype`, optional): the desired data type of returned Tensor.\n",
              "        Default: if ``None``, defaults to the dtype of :attr:`input`.\n",
              "    layout (:class:`torch.layout`, optional): the desired layout of returned tensor.\n",
              "        Default: if ``None``, defaults to the layout of :attr:`input`.\n",
              "    device (:class:`torch.device`, optional): the desired device of returned tensor.\n",
              "        Default: if ``None``, defaults to the device of :attr:`input`.\n",
              "    requires_grad (bool, optional): If autograd should record operations on the\n",
              "        returned tensor. Default: ``False``.\n",
              "\n",
              "Example::\n",
              "\n",
              "    >>> input = torch.empty(2, 3)\n",
              "    >>> torch.ones_like(input)\n",
              "    tensor([[ 1.,  1.,  1.],\n",
              "            [ 1.,  1.,  1.]])\n",
              "\u001b[0;31mType:\u001b[0m      builtin_function_or_method\n"
            ]
          },
          "metadata": {},
          "output_type": "display_data"
        }
      ],
      "source": [
        "torch.ones_like??"
      ]
    }
  ],
  "metadata": {
    "kernelspec": {
      "display_name": "Python [conda env:PyTorch] *",
      "language": "python",
      "name": "conda-env-PyTorch-py"
    },
    "language_info": {
      "codemirror_mode": {
        "name": "ipython",
        "version": 3
      },
      "file_extension": ".py",
      "mimetype": "text/x-python",
      "name": "python",
      "nbconvert_exporter": "python",
      "pygments_lexer": "ipython3",
      "version": "3.7.9"
    },
    "colab": {
      "provenance": []
    }
  },
  "nbformat": 4,
  "nbformat_minor": 0
}