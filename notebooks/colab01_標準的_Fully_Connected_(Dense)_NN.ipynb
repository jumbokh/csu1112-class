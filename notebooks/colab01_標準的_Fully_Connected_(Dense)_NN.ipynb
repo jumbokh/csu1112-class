{
  "nbformat": 4,
  "nbformat_minor": 0,
  "metadata": {
    "kernelspec": {
      "display_name": "Python 3",
      "language": "python",
      "name": "python3"
    },
    "language_info": {
      "codemirror_mode": {
        "name": "ipython",
        "version": 3
      },
      "file_extension": ".py",
      "mimetype": "text/x-python",
      "name": "python",
      "nbconvert_exporter": "python",
      "pygments_lexer": "ipython3",
      "version": "3.7.3"
    },
    "colab": {
      "provenance": [],
      "include_colab_link": true
    },
    "widgets": {
      "application/vnd.jupyter.widget-state+json": {
        "c0f36abb272b4ad58a4bfccb89b36ea1": {
          "model_module": "@jupyter-widgets/controls",
          "model_name": "VBoxModel",
          "state": {
            "_view_name": "VBoxView",
            "_dom_classes": [
              "widget-interact"
            ],
            "_model_name": "VBoxModel",
            "_view_module": "@jupyter-widgets/controls",
            "_model_module_version": "1.5.0",
            "_view_count": null,
            "_view_module_version": "1.5.0",
            "box_style": "",
            "layout": "IPY_MODEL_9694a84430b24a1b876803ee20202a4a",
            "_model_module": "@jupyter-widgets/controls",
            "children": [
              "IPY_MODEL_d8acfb7f4b3a466699f3121640d28783",
              "IPY_MODEL_55644f7683524d45a5c43d3143bca5a7",
              "IPY_MODEL_46f863ed34024ce39a9f06e69501f908"
            ]
          },
          "model_module_version": "1.5.0"
        },
        "9694a84430b24a1b876803ee20202a4a": {
          "model_module": "@jupyter-widgets/base",
          "model_name": "LayoutModel",
          "state": {
            "_view_name": "LayoutView",
            "grid_template_rows": null,
            "right": null,
            "justify_content": null,
            "_view_module": "@jupyter-widgets/base",
            "overflow": null,
            "_model_module_version": "1.2.0",
            "_view_count": null,
            "flex_flow": null,
            "width": null,
            "min_width": null,
            "border": null,
            "align_items": null,
            "bottom": null,
            "_model_module": "@jupyter-widgets/base",
            "top": null,
            "grid_column": null,
            "overflow_y": null,
            "overflow_x": null,
            "grid_auto_flow": null,
            "grid_area": null,
            "grid_template_columns": null,
            "flex": null,
            "_model_name": "LayoutModel",
            "justify_items": null,
            "grid_row": null,
            "max_height": null,
            "align_content": null,
            "visibility": null,
            "align_self": null,
            "height": null,
            "min_height": null,
            "padding": null,
            "grid_auto_rows": null,
            "grid_gap": null,
            "max_width": null,
            "order": null,
            "_view_module_version": "1.2.0",
            "grid_template_areas": null,
            "object_position": null,
            "object_fit": null,
            "grid_auto_columns": null,
            "margin": null,
            "display": null,
            "left": null
          },
          "model_module_version": "1.2.0"
        },
        "d8acfb7f4b3a466699f3121640d28783": {
          "model_module": "@jupyter-widgets/controls",
          "model_name": "IntSliderModel",
          "state": {
            "_view_name": "IntSliderView",
            "style": "IPY_MODEL_86db740d3bf040719a69f4cbfab26901",
            "_dom_classes": [],
            "description": "測試編號",
            "step": 1,
            "_model_name": "IntSliderModel",
            "orientation": "horizontal",
            "max": 9999,
            "_view_module": "@jupyter-widgets/controls",
            "_model_module_version": "1.5.0",
            "value": 2773,
            "_view_count": null,
            "disabled": false,
            "_view_module_version": "1.5.0",
            "min": 0,
            "continuous_update": true,
            "readout_format": "d",
            "description_tooltip": null,
            "readout": true,
            "_model_module": "@jupyter-widgets/controls",
            "layout": "IPY_MODEL_8cd5638e42174c5c8aacc4ea85373de7"
          },
          "model_module_version": "1.5.0"
        },
        "55644f7683524d45a5c43d3143bca5a7": {
          "model_module": "@jupyter-widgets/controls",
          "model_name": "ButtonModel",
          "state": {
            "_view_name": "ButtonView",
            "style": "IPY_MODEL_edc1941e844d4278b9250feb83e23470",
            "_dom_classes": [],
            "description": "Run Interact",
            "_model_name": "ButtonModel",
            "button_style": "",
            "_view_module": "@jupyter-widgets/controls",
            "_model_module_version": "1.5.0",
            "tooltip": "",
            "_view_count": null,
            "disabled": false,
            "_view_module_version": "1.5.0",
            "layout": "IPY_MODEL_01ec796bd19d48eaa35a09347febc86b",
            "_model_module": "@jupyter-widgets/controls",
            "icon": ""
          },
          "model_module_version": "1.5.0"
        },
        "46f863ed34024ce39a9f06e69501f908": {
          "model_module": "@jupyter-widgets/output",
          "model_name": "OutputModel",
          "state": {
            "_view_name": "OutputView",
            "msg_id": "",
            "_dom_classes": [],
            "_model_name": "OutputModel",
            "outputs": [
              {
                "output_type": "stream",
                "metadata": {
                  "tags": []
                },
                "text": "神經網路判斷為: 5\n",
                "stream": "stdout"
              },
              {
                "output_type": "display_data",
                "metadata": {
                  "tags": [],
                  "needs_background": "light"
                },
                "image/png": "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\n",
                "text/plain": "<Figure size 432x288 with 1 Axes>"
              }
            ],
            "_view_module": "@jupyter-widgets/output",
            "_model_module_version": "1.0.0",
            "_view_count": null,
            "_view_module_version": "1.0.0",
            "layout": "IPY_MODEL_6bc7b25d76ec4bba9831023e24937f41",
            "_model_module": "@jupyter-widgets/output"
          },
          "model_module_version": "1.0.0"
        },
        "86db740d3bf040719a69f4cbfab26901": {
          "model_module": "@jupyter-widgets/controls",
          "model_name": "SliderStyleModel",
          "state": {
            "_view_name": "StyleView",
            "handle_color": null,
            "_model_name": "SliderStyleModel",
            "description_width": "",
            "_view_module": "@jupyter-widgets/base",
            "_model_module_version": "1.5.0",
            "_view_count": null,
            "_view_module_version": "1.2.0",
            "_model_module": "@jupyter-widgets/controls"
          },
          "model_module_version": "1.5.0"
        },
        "8cd5638e42174c5c8aacc4ea85373de7": {
          "model_module": "@jupyter-widgets/base",
          "model_name": "LayoutModel",
          "state": {
            "_view_name": "LayoutView",
            "grid_template_rows": null,
            "right": null,
            "justify_content": null,
            "_view_module": "@jupyter-widgets/base",
            "overflow": null,
            "_model_module_version": "1.2.0",
            "_view_count": null,
            "flex_flow": null,
            "width": null,
            "min_width": null,
            "border": null,
            "align_items": null,
            "bottom": null,
            "_model_module": "@jupyter-widgets/base",
            "top": null,
            "grid_column": null,
            "overflow_y": null,
            "overflow_x": null,
            "grid_auto_flow": null,
            "grid_area": null,
            "grid_template_columns": null,
            "flex": null,
            "_model_name": "LayoutModel",
            "justify_items": null,
            "grid_row": null,
            "max_height": null,
            "align_content": null,
            "visibility": null,
            "align_self": null,
            "height": null,
            "min_height": null,
            "padding": null,
            "grid_auto_rows": null,
            "grid_gap": null,
            "max_width": null,
            "order": null,
            "_view_module_version": "1.2.0",
            "grid_template_areas": null,
            "object_position": null,
            "object_fit": null,
            "grid_auto_columns": null,
            "margin": null,
            "display": null,
            "left": null
          },
          "model_module_version": "1.2.0"
        },
        "edc1941e844d4278b9250feb83e23470": {
          "model_module": "@jupyter-widgets/controls",
          "model_name": "ButtonStyleModel",
          "state": {
            "_view_name": "StyleView",
            "_model_name": "ButtonStyleModel",
            "_view_module": "@jupyter-widgets/base",
            "_model_module_version": "1.5.0",
            "_view_count": null,
            "button_color": null,
            "font_weight": "",
            "_view_module_version": "1.2.0",
            "_model_module": "@jupyter-widgets/controls"
          },
          "model_module_version": "1.5.0"
        },
        "01ec796bd19d48eaa35a09347febc86b": {
          "model_module": "@jupyter-widgets/base",
          "model_name": "LayoutModel",
          "state": {
            "_view_name": "LayoutView",
            "grid_template_rows": null,
            "right": null,
            "justify_content": null,
            "_view_module": "@jupyter-widgets/base",
            "overflow": null,
            "_model_module_version": "1.2.0",
            "_view_count": null,
            "flex_flow": null,
            "width": null,
            "min_width": null,
            "border": null,
            "align_items": null,
            "bottom": null,
            "_model_module": "@jupyter-widgets/base",
            "top": null,
            "grid_column": null,
            "overflow_y": null,
            "overflow_x": null,
            "grid_auto_flow": null,
            "grid_area": null,
            "grid_template_columns": null,
            "flex": null,
            "_model_name": "LayoutModel",
            "justify_items": null,
            "grid_row": null,
            "max_height": null,
            "align_content": null,
            "visibility": null,
            "align_self": null,
            "height": null,
            "min_height": null,
            "padding": null,
            "grid_auto_rows": null,
            "grid_gap": null,
            "max_width": null,
            "order": null,
            "_view_module_version": "1.2.0",
            "grid_template_areas": null,
            "object_position": null,
            "object_fit": null,
            "grid_auto_columns": null,
            "margin": null,
            "display": null,
            "left": null
          },
          "model_module_version": "1.2.0"
        },
        "6bc7b25d76ec4bba9831023e24937f41": {
          "model_module": "@jupyter-widgets/base",
          "model_name": "LayoutModel",
          "state": {
            "_view_name": "LayoutView",
            "grid_template_rows": null,
            "right": null,
            "justify_content": null,
            "_view_module": "@jupyter-widgets/base",
            "overflow": null,
            "_model_module_version": "1.2.0",
            "_view_count": null,
            "flex_flow": null,
            "width": null,
            "min_width": null,
            "border": null,
            "align_items": null,
            "bottom": null,
            "_model_module": "@jupyter-widgets/base",
            "top": null,
            "grid_column": null,
            "overflow_y": null,
            "overflow_x": null,
            "grid_auto_flow": null,
            "grid_area": null,
            "grid_template_columns": null,
            "flex": null,
            "_model_name": "LayoutModel",
            "justify_items": null,
            "grid_row": null,
            "max_height": null,
            "align_content": null,
            "visibility": null,
            "align_self": null,
            "height": null,
            "min_height": null,
            "padding": null,
            "grid_auto_rows": null,
            "grid_gap": null,
            "max_width": null,
            "order": null,
            "_view_module_version": "1.2.0",
            "grid_template_areas": null,
            "object_position": null,
            "object_fit": null,
            "grid_auto_columns": null,
            "margin": null,
            "display": null,
            "left": null
          },
          "model_module_version": "1.2.0"
        }
      }
    }
  },
  "cells": [
    {
      "cell_type": "markdown",
      "metadata": {
        "id": "view-in-github",
        "colab_type": "text"
      },
      "source": [
        "<a href=\"https://colab.research.google.com/github/jumbokh/csu1112-class/blob/main/notebooks/colab01_%E6%A8%99%E6%BA%96%E7%9A%84_Fully_Connected_(Dense)_NN.ipynb\" target=\"_parent\"><img src=\"https://colab.research.google.com/assets/colab-badge.svg\" alt=\"Open In Colab\"/></a>"
      ]
    },
    {
      "cell_type": "markdown",
      "metadata": {
        "id": "NVdCNGyQyl8v"
      },
      "source": [
        "![Jupyter 工作室.001.jpeg](data:image/jpeg;base64,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)"
      ]
    },
    {
      "cell_type": "code",
      "metadata": {
        "id": "DEi2mXryyj4h"
      },
      "source": [
        "%matplotlib inline\n",
        "\n",
        "import numpy as np\n",
        "import matplotlib.pyplot as plt\n",
        "import pandas as pd"
      ],
      "execution_count": null,
      "outputs": []
    },
    {
      "cell_type": "code",
      "metadata": {
        "id": "zkJA1VpWyj4j"
      },
      "source": [
        "from tensorflow.keras.utils import to_categorical\n",
        "from tensorflow.keras.models import Sequential\n",
        "from tensorflow.keras.layers import Dense\n",
        "from tensorflow.keras.optimizers import SGD"
      ],
      "execution_count": null,
      "outputs": []
    },
    {
      "cell_type": "markdown",
      "metadata": {
        "id": "JyJv4vGZyj4k"
      },
      "source": [
        "### 1. 讀入 MNSIT 數據集"
      ]
    },
    {
      "cell_type": "code",
      "metadata": {
        "id": "J5xv8zkbyj4k"
      },
      "source": [
        "from tensorflow.keras.datasets import mnist"
      ],
      "execution_count": null,
      "outputs": []
    },
    {
      "cell_type": "code",
      "metadata": {
        "id": "sJxUPSS6yj4l",
        "outputId": "3949f982-ead1-4e0c-e90d-e1c3f4721c38",
        "colab": {
          "base_uri": "https://localhost:8080/"
        }
      },
      "source": [
        "(x_train, y_train), (x_test, y_test) = mnist.load_data()"
      ],
      "execution_count": null,
      "outputs": [
        {
          "output_type": "stream",
          "text": [
            "Downloading data from https://storage.googleapis.com/tensorflow/tf-keras-datasets/mnist.npz\n",
            "11493376/11490434 [==============================] - 0s 0us/step\n"
          ],
          "name": "stdout"
        }
      ]
    },
    {
      "cell_type": "markdown",
      "metadata": {
        "id": "LR8gxxfhyj4l"
      },
      "source": [
        "#### 你也可以讀入 Fasion 版的 MNIST"
      ]
    },
    {
      "cell_type": "code",
      "metadata": {
        "id": "kvxAqFEgyj4l"
      },
      "source": [
        "# from tensorflow.keras.datasets import fashion_mnist\n",
        "# (x_train, y_train), (x_test, y_test) = fashion_mnist.load_data()"
      ],
      "execution_count": null,
      "outputs": []
    },
    {
      "cell_type": "markdown",
      "metadata": {
        "id": "6oFZw4Tqyj4m"
      },
      "source": [
        "### 2. 欣賞數據集內容 (非執行必要)"
      ]
    },
    {
      "cell_type": "code",
      "metadata": {
        "id": "SD9q5be2yj4m",
        "outputId": "54b96745-5d70-45df-8335-52986bb4d3cd",
        "colab": {
          "base_uri": "https://localhost:8080/"
        }
      },
      "source": [
        "len(x_train)"
      ],
      "execution_count": null,
      "outputs": [
        {
          "output_type": "execute_result",
          "data": {
            "text/plain": [
              "60000"
            ]
          },
          "metadata": {
            "tags": []
          },
          "execution_count": 5
        }
      ]
    },
    {
      "cell_type": "code",
      "metadata": {
        "id": "HHajNlmDyj4n",
        "outputId": "d838f9f8-8ef7-475f-fb25-8f8bff78558e",
        "colab": {
          "base_uri": "https://localhost:8080/"
        }
      },
      "source": [
        "len(x_test)"
      ],
      "execution_count": null,
      "outputs": [
        {
          "output_type": "execute_result",
          "data": {
            "text/plain": [
              "10000"
            ]
          },
          "metadata": {
            "tags": []
          },
          "execution_count": 6
        }
      ]
    },
    {
      "cell_type": "code",
      "metadata": {
        "id": "fkk2kEgayj4n"
      },
      "source": [
        "n = 9487"
      ],
      "execution_count": null,
      "outputs": []
    },
    {
      "cell_type": "code",
      "metadata": {
        "id": "jmRbVGfIyj4o",
        "outputId": "b04827dd-d6a6-44b0-efc6-34aa4eeb39e3",
        "colab": {
          "base_uri": "https://localhost:8080/"
        }
      },
      "source": [
        "x_train[n]"
      ],
      "execution_count": null,
      "outputs": [
        {
          "output_type": "execute_result",
          "data": {
            "text/plain": [
              "array([[  0,   0,   0,   0,   0,   0,   0,   0,   0,   0,   0,   0,   0,\n",
              "          0,   0,   0,   0,   0,   0,   0,   0,   0,   0,   0,   0,   0,\n",
              "          0,   0],\n",
              "       [  0,   0,   0,   0,   0,   0,   0,   0,   0,   0,   0,   0,   0,\n",
              "          0,   0,   0,   0,   0,   0,   0,   0,   0,   0,   0,   0,   0,\n",
              "          0,   0],\n",
              "       [  0,   0,   0,   0,   0,   0,   0,   0,   0,   0,   0,   0,   0,\n",
              "          0,   0,   0,   0,   0,   0,   0,   0,   0,   0,   0,   0,   0,\n",
              "          0,   0],\n",
              "       [  0,   0,   0,   0,   0,   0,   0,   0,   0,   0,   0,   0,   0,\n",
              "          0,   0,   0,   0,   0,   0,   0,   0,   0,   0,   0,   0,   0,\n",
              "          0,   0],\n",
              "       [  0,   0,   0,   0,   0,   0,   0,   0,   0,   0,   0,   0, 240,\n",
              "        253, 165,   0,   0,   0,   0,   0,   0,   0,   0,   0,   0,   0,\n",
              "          0,   0],\n",
              "       [  0,   0,   0,   0,   0,   0,   0,   0,   0,   0,   0,  32, 241,\n",
              "        252, 252,   0,   0,   0,   0,   0,   0,   0,   0,   0,   0,   0,\n",
              "          0,   0],\n",
              "       [  0,   0,   0,   0,   0,   0,   0,   0,   0,   0,   2, 141, 252,\n",
              "        252, 252,  98,   0,   0,   0,   0,   0,   0,   0,   0,   0,   0,\n",
              "          0,   0],\n",
              "       [  0,   0,   0,   0,   0,   0,   0,   0,   0,   0,  30, 252, 252,\n",
              "        252, 252, 149,   0,   0,   0,   0,   0,   0,   0,   0,   0,   0,\n",
              "          0,   0],\n",
              "       [  0,   0,   0,   0,   0,   0,   0,   0,   0,   0,  21, 217, 252,\n",
              "        252, 252, 149,   0,   0,   0,   0,   0,   0,   0,   0,   0,   0,\n",
              "          0,   0],\n",
              "       [  0,   0,   0,   0,   0,   0,   0,   0,   0,   0,   0, 134, 252,\n",
              "        252, 252, 223,  31,   0,   0,   0,   0,   0,   0,   0,   0,   0,\n",
              "          0,   0],\n",
              "       [  0,   0,   0,   0,   0,   0,   0,   0,   0,   0,   0, 134, 252,\n",
              "        252, 252, 253,  44,   0,   0,   0,   0,   0,   0,   0,   0,   0,\n",
              "          0,   0],\n",
              "       [  0,   0,   0,   0,   0,   0,   0,   0,   0,   0,   0,   8, 239,\n",
              "        252, 252, 253,  44,   0,   0,   0,   0,   0,   0,   0,   0,   0,\n",
              "          0,   0],\n",
              "       [  0,   0,   0,   0,   0,   0,   0,   0,   0,   0,   0,   0, 238,\n",
              "        252, 252, 253,  44,   0,   0,   0,   0,   0,   0,   0,   0,   0,\n",
              "          0,   0],\n",
              "       [  0,   0,   0,   0,   0,   0,   0,   0,   0,   0,   0,   0, 238,\n",
              "        252, 252, 253,  44,   0,   0,   0,   0,   0,   0,   0,   0,   0,\n",
              "          0,   0],\n",
              "       [  0,   0,   0,   0,   0,   0,   0,   0,   0,   0,   0,   0, 178,\n",
              "        253, 253, 255, 106,   0,   0,   0,   0,   0,   0,   0,   0,   0,\n",
              "          0,   0],\n",
              "       [  0,   0,   0,   0,   0,   0,   0,   0,   0,   0,   0,   0,  90,\n",
              "        252, 252, 253, 206,  21,   0,   0,   0,   0,   0,   0,   0,   0,\n",
              "          0,   0],\n",
              "       [  0,   0,   0,   0,   0,   0,   0,   0,   0,   0,   0,   0,  90,\n",
              "        252, 252, 253, 252,  88,   0,   0,   0,   0,   0,   0,   0,   0,\n",
              "          0,   0],\n",
              "       [  0,   0,   0,   0,   0,   0,   0,   0,   0,   0,   0,   0,  90,\n",
              "        252, 252, 253, 252,  88,   0,   0,   0,   0,   0,   0,   0,   0,\n",
              "          0,   0],\n",
              "       [  0,   0,   0,   0,   0,   0,   0,   0,   0,   0,   0,   0,  63,\n",
              "        234, 252, 253, 252, 220,   0,   0,   0,   0,   0,   0,   0,   0,\n",
              "          0,   0],\n",
              "       [  0,   0,   0,   0,   0,   0,   0,   0,   0,   0,   0,   0,   0,\n",
              "        176, 252, 253, 252, 237,   0,   0,   0,   0,   0,   0,   0,   0,\n",
              "          0,   0],\n",
              "       [  0,   0,   0,   0,   0,   0,   0,   0,   0,   0,   0,   0,   0,\n",
              "         45, 252, 253, 252, 245,  71,   0,   0,   0,   0,   0,   0,   0,\n",
              "          0,   0],\n",
              "       [  0,   0,   0,   0,   0,   0,   0,   0,   0,   0,   0,   0,   0,\n",
              "         29, 215, 253, 252, 237,   8,   0,   0,   0,   0,   0,   0,   0,\n",
              "          0,   0],\n",
              "       [  0,   0,   0,   0,   0,   0,   0,   0,   0,   0,   0,   0,   0,\n",
              "          0, 149, 253, 252, 237,   0,   0,   0,   0,   0,   0,   0,   0,\n",
              "          0,   0],\n",
              "       [  0,   0,   0,   0,   0,   0,   0,   0,   0,   0,   0,   0,   0,\n",
              "          0,  61, 165, 252, 237,   0,   0,   0,   0,   0,   0,   0,   0,\n",
              "          0,   0],\n",
              "       [  0,   0,   0,   0,   0,   0,   0,   0,   0,   0,   0,   0,   0,\n",
              "          0,   0,   0,   0,   0,   0,   0,   0,   0,   0,   0,   0,   0,\n",
              "          0,   0],\n",
              "       [  0,   0,   0,   0,   0,   0,   0,   0,   0,   0,   0,   0,   0,\n",
              "          0,   0,   0,   0,   0,   0,   0,   0,   0,   0,   0,   0,   0,\n",
              "          0,   0],\n",
              "       [  0,   0,   0,   0,   0,   0,   0,   0,   0,   0,   0,   0,   0,\n",
              "          0,   0,   0,   0,   0,   0,   0,   0,   0,   0,   0,   0,   0,\n",
              "          0,   0],\n",
              "       [  0,   0,   0,   0,   0,   0,   0,   0,   0,   0,   0,   0,   0,\n",
              "          0,   0,   0,   0,   0,   0,   0,   0,   0,   0,   0,   0,   0,\n",
              "          0,   0]], dtype=uint8)"
            ]
          },
          "metadata": {
            "tags": []
          },
          "execution_count": 8
        }
      ]
    },
    {
      "cell_type": "code",
      "metadata": {
        "id": "Xk_HZ7jlyj4o",
        "outputId": "2c3ef02f-82cb-457c-c6a1-7bc0e1c60a35",
        "colab": {
          "base_uri": "https://localhost:8080/"
        }
      },
      "source": [
        "y_train[n]"
      ],
      "execution_count": null,
      "outputs": [
        {
          "output_type": "execute_result",
          "data": {
            "text/plain": [
              "1"
            ]
          },
          "metadata": {
            "tags": []
          },
          "execution_count": 9
        }
      ]
    },
    {
      "cell_type": "code",
      "metadata": {
        "id": "6R_hyd4Tyj4o",
        "outputId": "422f1f35-2855-4738-e1d7-c6f9cf5aafab",
        "colab": {
          "base_uri": "https://localhost:8080/",
          "height": 283
        }
      },
      "source": [
        "plt.imshow(x_train[n], cmap='Greys')"
      ],
      "execution_count": null,
      "outputs": [
        {
          "output_type": "execute_result",
          "data": {
            "text/plain": [
              "<matplotlib.image.AxesImage at 0x7f75f7815750>"
            ]
          },
          "metadata": {
            "tags": []
          },
          "execution_count": 10
        },
        {
          "output_type": "display_data",
          "data": {
            "image/png": "[encoded data removed]",
            "text/plain": [
              "<Figure size 432x288 with 1 Axes>"
            ]
          },
          "metadata": {
            "tags": [],
            "needs_background": "light"
          }
        }
      ]
    },
    {
      "cell_type": "markdown",
      "metadata": {
        "id": "JtMuHcBnyj4o"
      },
      "source": [
        "### 3. 資料整理"
      ]
    },
    {
      "cell_type": "markdown",
      "metadata": {
        "id": "aqGUiBbsyj4p"
      },
      "source": [
        "先看個範例, 因為 `numpy` 「廣播」的特性, 我們對 `array` 中所有數字要同除以一個數可瞬間完成!"
      ]
    },
    {
      "cell_type": "code",
      "metadata": {
        "id": "ztNByJRPyj4p"
      },
      "source": [
        "x_train = x_train.reshape(60000, 784)/255\n",
        "x_test = x_test.reshape(10000, 784)/255"
      ],
      "execution_count": null,
      "outputs": []
    },
    {
      "cell_type": "code",
      "metadata": {
        "id": "V84Rvl6Syj4p"
      },
      "source": [
        "y_train = to_categorical(y_train, 10)\n",
        "y_test = to_categorical(y_test, 10)"
      ],
      "execution_count": null,
      "outputs": []
    },
    {
      "cell_type": "markdown",
      "metadata": {
        "id": "fegPHmLAyj4p"
      },
      "source": [
        "### 4. step 1: 打造神經網路"
      ]
    },
    {
      "cell_type": "code",
      "metadata": {
        "id": "8H9fHM05yj4p"
      },
      "source": [
        "model = Sequential()"
      ],
      "execution_count": null,
      "outputs": []
    },
    {
      "cell_type": "code",
      "metadata": {
        "id": "zL-TElJiyj4q"
      },
      "source": [
        "model.add(Dense(100, input_dim=784, activation='relu'))"
      ],
      "execution_count": null,
      "outputs": []
    },
    {
      "cell_type": "code",
      "metadata": {
        "id": "Pvqjrvcoyj4q"
      },
      "source": [
        "model.add(Dense(100, activation='relu'))"
      ],
      "execution_count": null,
      "outputs": []
    },
    {
      "cell_type": "code",
      "metadata": {
        "id": "rc1FGyR2yj4q"
      },
      "source": [
        "model.add(Dense(10, activation='softmax'))"
      ],
      "execution_count": null,
      "outputs": []
    },
    {
      "cell_type": "markdown",
      "metadata": {
        "id": "0YWYsTj8yj4q"
      },
      "source": [
        "#### 組裝我們的神經網路"
      ]
    },
    {
      "cell_type": "code",
      "metadata": {
        "id": "j18Wnbnsyj4q"
      },
      "source": [
        "model.compile(loss='mse', optimizer=SGD(learning_rate=0.087), \n",
        "              metrics=['accuracy'])"
      ],
      "execution_count": null,
      "outputs": []
    },
    {
      "cell_type": "markdown",
      "metadata": {
        "id": "-ms0idguyj4r"
      },
      "source": [
        "#### 欣賞我們的作品"
      ]
    },
    {
      "cell_type": "code",
      "metadata": {
        "id": "GNuaHo6kyj4r",
        "outputId": "191b60ff-faeb-449f-fce8-96fee77e6cc1",
        "colab": {
          "base_uri": "https://localhost:8080/"
        }
      },
      "source": [
        "model.summary()"
      ],
      "execution_count": null,
      "outputs": [
        {
          "output_type": "stream",
          "text": [
            "Model: \"sequential\"\n",
            "_________________________________________________________________\n",
            "Layer (type)                 Output Shape              Param #   \n",
            "=================================================================\n",
            "dense (Dense)                (None, 100)               78500     \n",
            "_________________________________________________________________\n",
            "dense_1 (Dense)              (None, 100)               10100     \n",
            "_________________________________________________________________\n",
            "dense_2 (Dense)              (None, 10)                1010      \n",
            "=================================================================\n",
            "Total params: 89,610\n",
            "Trainable params: 89,610\n",
            "Non-trainable params: 0\n",
            "_________________________________________________________________\n"
          ],
          "name": "stdout"
        }
      ]
    },
    {
      "cell_type": "markdown",
      "metadata": {
        "id": "4IeweJmpyj4r"
      },
      "source": [
        "### 5. step 2: 訓練"
      ]
    },
    {
      "cell_type": "code",
      "metadata": {
        "scrolled": true,
        "id": "mSMj24QSyj4r",
        "outputId": "744e72d5-803e-4b1c-d417-602cef215ba1",
        "colab": {
          "base_uri": "https://localhost:8080/"
        }
      },
      "source": [
        "model.fit(x_train, y_train, batch_size=100, epochs=20)"
      ],
      "execution_count": null,
      "outputs": [
        {
          "output_type": "stream",
          "text": [
            "Epoch 1/20\n",
            "600/600 [==============================] - 2s 2ms/step - loss: 0.0816 - accuracy: 0.3828\n",
            "Epoch 2/20\n",
            "600/600 [==============================] - 1s 2ms/step - loss: 0.0506 - accuracy: 0.7111\n",
            "Epoch 3/20\n",
            "600/600 [==============================] - 1s 2ms/step - loss: 0.0287 - accuracy: 0.8415\n",
            "Epoch 4/20\n",
            "600/600 [==============================] - 1s 2ms/step - loss: 0.0216 - accuracy: 0.8723\n",
            "Epoch 5/20\n",
            "600/600 [==============================] - 1s 2ms/step - loss: 0.0185 - accuracy: 0.8870\n",
            "Epoch 6/20\n",
            "600/600 [==============================] - 1s 2ms/step - loss: 0.0168 - accuracy: 0.8962\n",
            "Epoch 7/20\n",
            "600/600 [==============================] - 1s 2ms/step - loss: 0.0156 - accuracy: 0.9025\n",
            "Epoch 8/20\n",
            "600/600 [==============================] - 1s 2ms/step - loss: 0.0147 - accuracy: 0.9066\n",
            "Epoch 9/20\n",
            "600/600 [==============================] - 1s 2ms/step - loss: 0.0141 - accuracy: 0.9111\n",
            "Epoch 10/20\n",
            "600/600 [==============================] - 1s 2ms/step - loss: 0.0135 - accuracy: 0.9144\n",
            "Epoch 11/20\n",
            "600/600 [==============================] - 1s 2ms/step - loss: 0.0130 - accuracy: 0.9171\n",
            "Epoch 12/20\n",
            "600/600 [==============================] - 1s 2ms/step - loss: 0.0126 - accuracy: 0.9201\n",
            "Epoch 13/20\n",
            "600/600 [==============================] - 1s 2ms/step - loss: 0.0122 - accuracy: 0.9222\n",
            "Epoch 14/20\n",
            "600/600 [==============================] - 1s 2ms/step - loss: 0.0119 - accuracy: 0.9244\n",
            "Epoch 15/20\n",
            "600/600 [==============================] - 1s 2ms/step - loss: 0.0116 - accuracy: 0.9263\n",
            "Epoch 16/20\n",
            "600/600 [==============================] - 1s 2ms/step - loss: 0.0113 - accuracy: 0.9280\n",
            "Epoch 17/20\n",
            "600/600 [==============================] - 1s 2ms/step - loss: 0.0111 - accuracy: 0.9298\n",
            "Epoch 18/20\n",
            "600/600 [==============================] - 1s 2ms/step - loss: 0.0109 - accuracy: 0.9309\n",
            "Epoch 19/20\n",
            "600/600 [==============================] - 1s 2ms/step - loss: 0.0106 - accuracy: 0.9320\n",
            "Epoch 20/20\n",
            "600/600 [==============================] - 1s 2ms/step - loss: 0.0104 - accuracy: 0.9338\n"
          ],
          "name": "stdout"
        },
        {
          "output_type": "execute_result",
          "data": {
            "text/plain": [
              "<tensorflow.python.keras.callbacks.History at 0x7f7601a75d10>"
            ]
          },
          "metadata": {
            "tags": []
          },
          "execution_count": 19
        }
      ]
    },
    {
      "cell_type": "markdown",
      "metadata": {
        "id": "LjYPFwXcyj4r"
      },
      "source": [
        "### 6. step 3: 預測 (testing)"
      ]
    },
    {
      "cell_type": "code",
      "metadata": {
        "id": "_OHmiM6Kyj4s"
      },
      "source": [
        "y_predict = np.argmax(model.predict(x_test), axis=-1)"
      ],
      "execution_count": null,
      "outputs": []
    },
    {
      "cell_type": "code",
      "metadata": {
        "id": "yqzqrmwqyj4s",
        "outputId": "44c8f942-566d-4956-b553-5ae3c009c874",
        "colab": {
          "base_uri": "https://localhost:8080/",
          "height": 283
        }
      },
      "source": [
        "n = 9999\n",
        "\n",
        "print('神經網路預測是:', y_predict[n])\n",
        "plt.imshow(x_test[n].reshape(28,28), cmap='Greys');"
      ],
      "execution_count": null,
      "outputs": [
        {
          "output_type": "stream",
          "text": [
            "神經網路預測是: 6\n"
          ],
          "name": "stdout"
        },
        {
          "output_type": "display_data",
          "data": {
            "image/png": "[encoded data removed]",
            "text/plain": [
              "<Figure size 432x288 with 1 Axes>"
            ]
          },
          "metadata": {
            "tags": [],
            "needs_background": "light"
          }
        }
      ]
    },
    {
      "cell_type": "markdown",
      "metadata": {
        "id": "IWRRU-Z4z_nv"
      },
      "source": [
        "我們用互動模式展示我們的訓練成果。"
      ]
    },
    {
      "cell_type": "code",
      "metadata": {
        "id": "2y6xLYcF0JHk"
      },
      "source": [
        "from ipywidgets import interact_manual"
      ],
      "execution_count": null,
      "outputs": []
    },
    {
      "cell_type": "code",
      "metadata": {
        "id": "faiNnYFV0Qbg"
      },
      "source": [
        "def test(測試編號):\n",
        "    plt.imshow(x_test[測試編號].reshape(28,28), cmap='Greys')\n",
        "    print('神經網路判斷為:', y_predict[測試編號])"
      ],
      "execution_count": null,
      "outputs": []
    },
    {
      "cell_type": "code",
      "metadata": {
        "id": "0Dp_UGsd0a7Z",
        "outputId": "f29b4d9a-a09c-4438-c67c-00de94c0d088",
        "colab": {
          "base_uri": "https://localhost:8080/",
          "height": 347,
          "referenced_widgets": [
            "c0f36abb272b4ad58a4bfccb89b36ea1",
            "9694a84430b24a1b876803ee20202a4a",
            "d8acfb7f4b3a466699f3121640d28783",
            "55644f7683524d45a5c43d3143bca5a7",
            "46f863ed34024ce39a9f06e69501f908",
            "86db740d3bf040719a69f4cbfab26901",
            "8cd5638e42174c5c8aacc4ea85373de7",
            "edc1941e844d4278b9250feb83e23470",
            "01ec796bd19d48eaa35a09347febc86b",
            "6bc7b25d76ec4bba9831023e24937f41"
          ]
        }
      },
      "source": [
        "interact_manual(test, 測試編號=(0, 9999));"
      ],
      "execution_count": null,
      "outputs": [
        {
          "output_type": "display_data",
          "data": {
            "application/vnd.jupyter.widget-view+json": {
              "model_id": "c0f36abb272b4ad58a4bfccb89b36ea1",
              "version_minor": 0,
              "version_major": 2
            },
            "text/plain": [
              "interactive(children=(IntSlider(value=4999, description='測試編號', max=9999), Button(description='Run Interact', …"
            ]
          },
          "metadata": {
            "tags": []
          }
        }
      ]
    },
    {
      "cell_type": "markdown",
      "metadata": {
        "id": "tH0QNU3L0dCg"
      },
      "source": [
        "到底測試資料總的狀況如何呢? 我們可以給我們神經網路「總評量」。"
      ]
    },
    {
      "cell_type": "code",
      "metadata": {
        "id": "DIb4a8Wu0lSp",
        "outputId": "e3a4def0-509c-4c44-bf0a-7c8c3528a965",
        "colab": {
          "base_uri": "https://localhost:8080/"
        }
      },
      "source": [
        "score = model.evaluate(x_test, y_test)"
      ],
      "execution_count": null,
      "outputs": [
        {
          "output_type": "stream",
          "text": [
            "313/313 [==============================] - 0s 1ms/step - loss: 0.0103 - accuracy: 0.9351\n"
          ],
          "name": "stdout"
        }
      ]
    },
    {
      "cell_type": "code",
      "metadata": {
        "id": "oQqCCVkK0muS",
        "outputId": "9c7a420c-1398-49f6-f39e-6f9fa531521a",
        "colab": {
          "base_uri": "https://localhost:8080/"
        }
      },
      "source": [
        "print('loss:', score[0])\n",
        "print('正確率', score[1])"
      ],
      "execution_count": null,
      "outputs": [
        {
          "output_type": "stream",
          "text": [
            "loss: 0.010294688865542412\n",
            "正確率 0.9351000189781189\n"
          ],
          "name": "stdout"
        }
      ]
    },
    {
      "cell_type": "markdown",
      "metadata": {
        "id": "8oEML3omyj4s"
      },
      "source": [
        "### 7. 儲存我們的 model\n",
        "\n",
        "如果對訓練成果滿意, 我們當然不想每次都再訓練一次! 我們可以把神經網路的架構和訓練好的參數都存起來, 以供日後使用!\n",
        "\n",
        "在 Colab 上, 我們要先連到自己的 Google Drive。"
      ]
    },
    {
      "cell_type": "code",
      "metadata": {
        "id": "XxoK0QYQyj4s",
        "outputId": "caaf3aff-32f0-4ef8-c0cb-ca41ace46344",
        "colab": {
          "base_uri": "https://localhost:8080/"
        }
      },
      "source": [
        "from google.colab import drive\n",
        "\n",
        "drive.mount('/content/drive')"
      ],
      "execution_count": null,
      "outputs": [
        {
          "output_type": "stream",
          "text": [
            "Mounted at /content/drive\n"
          ],
          "name": "stdout"
        }
      ]
    },
    {
      "cell_type": "markdown",
      "metadata": {
        "id": "KcMfW-bkyj4s"
      },
      "source": [
        "再來是 cd 到你的資料夾中, 我們通常是放到自己 Colab Notebooks 中, 自然你可以指定其他的資料夾。"
      ]
    },
    {
      "cell_type": "code",
      "metadata": {
        "id": "dK0UP55c09hc",
        "outputId": "96896d55-d5c7-477c-d07e-ec14e3e90828",
        "colab": {
          "base_uri": "https://localhost:8080/"
        }
      },
      "source": [
        "%cd '/content/drive/My Drive/Colab Notebooks'"
      ],
      "execution_count": null,
      "outputs": [
        {
          "output_type": "stream",
          "text": [
            "/content/drive/My Drive/Colab Notebooks\n"
          ],
          "name": "stdout"
        }
      ]
    },
    {
      "cell_type": "code",
      "metadata": {
        "id": "sguipFRK0_cH",
        "outputId": "32c3e5fc-09e9-4445-813b-370afe6f004a",
        "colab": {
          "base_uri": "https://localhost:8080/"
        }
      },
      "source": [
        "model.save('my_dnn_model')"
      ],
      "execution_count": null,
      "outputs": [
        {
          "output_type": "stream",
          "text": [
            "INFO:tensorflow:Assets written to: my_dnn_model/assets\n"
          ],
          "name": "stdout"
        }
      ]
    }
  ]
}