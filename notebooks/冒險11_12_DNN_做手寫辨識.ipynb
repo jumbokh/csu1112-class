{
  "nbformat": 4,
  "nbformat_minor": 0,
  "metadata": {
    "colab": {
      "name": "冒險11_12_DNN 做手寫辨識.ipynb",
      "provenance": [],
      "include_colab_link": true
    },
    "kernelspec": {
      "name": "python3",
      "display_name": "Python 3"
    },
    "language_info": {
      "name": "python"
    },
    "widgets": {
      "application/vnd.jupyter.widget-state+json": {
        "6583ec05d48c4e46b3dc68aca9399e38": {
          "model_module": "@jupyter-widgets/controls",
          "model_name": "VBoxModel",
          "model_module_version": "1.5.0",
          "state": {
            "_dom_classes": [
              "widget-interact"
            ],
            "_model_module": "@jupyter-widgets/controls",
            "_model_module_version": "1.5.0",
            "_model_name": "VBoxModel",
            "_view_count": null,
            "_view_module": "@jupyter-widgets/controls",
            "_view_module_version": "1.5.0",
            "_view_name": "VBoxView",
            "box_style": "",
            "children": [
              "IPY_MODEL_4ed0678bf9b748819bb107c0d6323b4c",
              "IPY_MODEL_cde7464b4d5042219f83756897031d03",
              "IPY_MODEL_10685aabcefd407e8bbc6854b47def47"
            ],
            "layout": "IPY_MODEL_3b37e7211f5f4c2a896e9b24b09cb273"
          }
        },
        "4ed0678bf9b748819bb107c0d6323b4c": {
          "model_module": "@jupyter-widgets/controls",
          "model_name": "IntSliderModel",
          "model_module_version": "1.5.0",
          "state": {
            "_dom_classes": [],
            "_model_module": "@jupyter-widgets/controls",
            "_model_module_version": "1.5.0",
            "_model_name": "IntSliderModel",
            "_view_count": null,
            "_view_module": "@jupyter-widgets/controls",
            "_view_module_version": "1.5.0",
            "_view_name": "IntSliderView",
            "continuous_update": true,
            "description": "測試編號",
            "description_tooltip": null,
            "disabled": false,
            "layout": "IPY_MODEL_5e3b613bbc8b447299abc95a1db6b363",
            "max": 9999,
            "min": 0,
            "orientation": "horizontal",
            "readout": true,
            "readout_format": "d",
            "step": 1,
            "style": "IPY_MODEL_f4d4fd9178e848468f76d6c1472c3a9a",
            "value": 7208
          }
        },
        "cde7464b4d5042219f83756897031d03": {
          "model_module": "@jupyter-widgets/controls",
          "model_name": "ButtonModel",
          "model_module_version": "1.5.0",
          "state": {
            "_dom_classes": [],
            "_model_module": "@jupyter-widgets/controls",
            "_model_module_version": "1.5.0",
            "_model_name": "ButtonModel",
            "_view_count": null,
            "_view_module": "@jupyter-widgets/controls",
            "_view_module_version": "1.5.0",
            "_view_name": "ButtonView",
            "button_style": "",
            "description": "Run Interact",
            "disabled": false,
            "icon": "",
            "layout": "IPY_MODEL_79b677f75901403fa57875078ee851b3",
            "style": "IPY_MODEL_a845b89e018e4e5fbaf1d53d8315c282",
            "tooltip": ""
          }
        },
        "10685aabcefd407e8bbc6854b47def47": {
          "model_module": "@jupyter-widgets/output",
          "model_name": "OutputModel",
          "model_module_version": "1.0.0",
          "state": {
            "_dom_classes": [],
            "_model_module": "@jupyter-widgets/output",
            "_model_module_version": "1.0.0",
            "_model_name": "OutputModel",
            "_view_count": null,
            "_view_module": "@jupyter-widgets/output",
            "_view_module_version": "1.0.0",
            "_view_name": "OutputView",
            "layout": "IPY_MODEL_1b44766b651443c98b8b801b9850e49d",
            "msg_id": "",
            "outputs": [
              {
                "output_type": "stream",
                "name": "stdout",
                "text": [
                  "神經網路判斷為: 8\n"
                ]
              },
              {
                "output_type": "display_data",
                "data": {
                  "text/plain": "<Figure size 432x288 with 1 Axes>",
                  "image/png": "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\n"
                },
                "metadata": {
                  "needs_background": "light"
                }
              }
            ]
          }
        },
        "3b37e7211f5f4c2a896e9b24b09cb273": {
          "model_module": "@jupyter-widgets/base",
          "model_name": "LayoutModel",
          "model_module_version": "1.2.0",
          "state": {
            "_model_module": "@jupyter-widgets/base",
            "_model_module_version": "1.2.0",
            "_model_name": "LayoutModel",
            "_view_count": null,
            "_view_module": "@jupyter-widgets/base",
            "_view_module_version": "1.2.0",
            "_view_name": "LayoutView",
            "align_content": null,
            "align_items": null,
            "align_self": null,
            "border": null,
            "bottom": null,
            "display": null,
            "flex": null,
            "flex_flow": null,
            "grid_area": null,
            "grid_auto_columns": null,
            "grid_auto_flow": null,
            "grid_auto_rows": null,
            "grid_column": null,
            "grid_gap": null,
            "grid_row": null,
            "grid_template_areas": null,
            "grid_template_columns": null,
            "grid_template_rows": null,
            "height": null,
            "justify_content": null,
            "justify_items": null,
            "left": null,
            "margin": null,
            "max_height": null,
            "max_width": null,
            "min_height": null,
            "min_width": null,
            "object_fit": null,
            "object_position": null,
            "order": null,
            "overflow": null,
            "overflow_x": null,
            "overflow_y": null,
            "padding": null,
            "right": null,
            "top": null,
            "visibility": null,
            "width": null
          }
        },
        "5e3b613bbc8b447299abc95a1db6b363": {
          "model_module": "@jupyter-widgets/base",
          "model_name": "LayoutModel",
          "model_module_version": "1.2.0",
          "state": {
            "_model_module": "@jupyter-widgets/base",
            "_model_module_version": "1.2.0",
            "_model_name": "LayoutModel",
            "_view_count": null,
            "_view_module": "@jupyter-widgets/base",
            "_view_module_version": "1.2.0",
            "_view_name": "LayoutView",
            "align_content": null,
            "align_items": null,
            "align_self": null,
            "border": null,
            "bottom": null,
            "display": null,
            "flex": null,
            "flex_flow": null,
            "grid_area": null,
            "grid_auto_columns": null,
            "grid_auto_flow": null,
            "grid_auto_rows": null,
            "grid_column": null,
            "grid_gap": null,
            "grid_row": null,
            "grid_template_areas": null,
            "grid_template_columns": null,
            "grid_template_rows": null,
            "height": null,
            "justify_content": null,
            "justify_items": null,
            "left": null,
            "margin": null,
            "max_height": null,
            "max_width": null,
            "min_height": null,
            "min_width": null,
            "object_fit": null,
            "object_position": null,
            "order": null,
            "overflow": null,
            "overflow_x": null,
            "overflow_y": null,
            "padding": null,
            "right": null,
            "top": null,
            "visibility": null,
            "width": null
          }
        },
        "f4d4fd9178e848468f76d6c1472c3a9a": {
          "model_module": "@jupyter-widgets/controls",
          "model_name": "SliderStyleModel",
          "model_module_version": "1.5.0",
          "state": {
            "_model_module": "@jupyter-widgets/controls",
            "_model_module_version": "1.5.0",
            "_model_name": "SliderStyleModel",
            "_view_count": null,
            "_view_module": "@jupyter-widgets/base",
            "_view_module_version": "1.2.0",
            "_view_name": "StyleView",
            "description_width": "",
            "handle_color": null
          }
        },
        "79b677f75901403fa57875078ee851b3": {
          "model_module": "@jupyter-widgets/base",
          "model_name": "LayoutModel",
          "model_module_version": "1.2.0",
          "state": {
            "_model_module": "@jupyter-widgets/base",
            "_model_module_version": "1.2.0",
            "_model_name": "LayoutModel",
            "_view_count": null,
            "_view_module": "@jupyter-widgets/base",
            "_view_module_version": "1.2.0",
            "_view_name": "LayoutView",
            "align_content": null,
            "align_items": null,
            "align_self": null,
            "border": null,
            "bottom": null,
            "display": null,
            "flex": null,
            "flex_flow": null,
            "grid_area": null,
            "grid_auto_columns": null,
            "grid_auto_flow": null,
            "grid_auto_rows": null,
            "grid_column": null,
            "grid_gap": null,
            "grid_row": null,
            "grid_template_areas": null,
            "grid_template_columns": null,
            "grid_template_rows": null,
            "height": null,
            "justify_content": null,
            "justify_items": null,
            "left": null,
            "margin": null,
            "max_height": null,
            "max_width": null,
            "min_height": null,
            "min_width": null,
            "object_fit": null,
            "object_position": null,
            "order": null,
            "overflow": null,
            "overflow_x": null,
            "overflow_y": null,
            "padding": null,
            "right": null,
            "top": null,
            "visibility": null,
            "width": null
          }
        },
        "a845b89e018e4e5fbaf1d53d8315c282": {
          "model_module": "@jupyter-widgets/controls",
          "model_name": "ButtonStyleModel",
          "model_module_version": "1.5.0",
          "state": {
            "_model_module": "@jupyter-widgets/controls",
            "_model_module_version": "1.5.0",
            "_model_name": "ButtonStyleModel",
            "_view_count": null,
            "_view_module": "@jupyter-widgets/base",
            "_view_module_version": "1.2.0",
            "_view_name": "StyleView",
            "button_color": null,
            "font_weight": ""
          }
        },
        "1b44766b651443c98b8b801b9850e49d": {
          "model_module": "@jupyter-widgets/base",
          "model_name": "LayoutModel",
          "model_module_version": "1.2.0",
          "state": {
            "_model_module": "@jupyter-widgets/base",
            "_model_module_version": "1.2.0",
            "_model_name": "LayoutModel",
            "_view_count": null,
            "_view_module": "@jupyter-widgets/base",
            "_view_module_version": "1.2.0",
            "_view_name": "LayoutView",
            "align_content": null,
            "align_items": null,
            "align_self": null,
            "border": null,
            "bottom": null,
            "display": null,
            "flex": null,
            "flex_flow": null,
            "grid_area": null,
            "grid_auto_columns": null,
            "grid_auto_flow": null,
            "grid_auto_rows": null,
            "grid_column": null,
            "grid_gap": null,
            "grid_row": null,
            "grid_template_areas": null,
            "grid_template_columns": null,
            "grid_template_rows": null,
            "height": null,
            "justify_content": null,
            "justify_items": null,
            "left": null,
            "margin": null,
            "max_height": null,
            "max_width": null,
            "min_height": null,
            "min_width": null,
            "object_fit": null,
            "object_position": null,
            "order": null,
            "overflow": null,
            "overflow_x": null,
            "overflow_y": null,
            "padding": null,
            "right": null,
            "top": null,
            "visibility": null,
            "width": null
          }
        }
      }
    }
  },
  "cells": [
    {
      "cell_type": "markdown",
      "metadata": {
        "id": "view-in-github",
        "colab_type": "text"
      },
      "source": [
        "<a href=\"https://colab.research.google.com/github/jumbokh/csu1112-class/blob/main/notebooks/%E5%86%92%E9%9A%AA11_12_DNN_%E5%81%9A%E6%89%8B%E5%AF%AB%E8%BE%A8%E8%AD%98.ipynb\" target=\"_parent\"><img src=\"https://colab.research.google.com/assets/colab-badge.svg\" alt=\"Open In Colab\"/></a>"
      ]
    },
    {
      "cell_type": "markdown",
      "source": [
        "![image.png](data:image/png;base64,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)"
      ],
      "metadata": {
        "id": "clvckT13l0ee"
      }
    },
    {
      "cell_type": "markdown",
      "source": [
        "# 11.2讀入基本套件"
      ],
      "metadata": {
        "id": "LVc-aAycAhws"
      }
    },
    {
      "cell_type": "code",
      "source": [
        "import numpy as np\n",
        "import pandas as pd\n",
        "import matplotlib.pyplot as plt"
      ],
      "metadata": {
        "id": "nTlcsbmkAl5V"
      },
      "execution_count": 1,
      "outputs": []
    },
    {
      "cell_type": "code",
      "source": [
        "from tensorflow.keras.utils import to_categorical\n",
        "from tensorflow.keras.models import Sequential\n",
        "from tensorflow.keras.layers import Dense\n",
        "from tensorflow.keras.optimizers import SGD"
      ],
      "metadata": {
        "id": "2zXzL33AAsny"
      },
      "execution_count": 2,
      "outputs": []
    },
    {
      "cell_type": "code",
      "source": [
        "from tensorflow.keras.datasets import mnist #一般手寫辨識資料"
      ],
      "metadata": {
        "id": "2AVryhwiyblf"
      },
      "execution_count": 3,
      "outputs": []
    },
    {
      "cell_type": "code",
      "source": [
        "import tensorflow as tf\n",
        "print(tf.__version__)\n",
        "import tensorflow.keras as K\n",
        "print(K.__version__)"
      ],
      "metadata": {
        "id": "YJ3cy3oGRHlE",
        "outputId": "ee5d9c5f-dbf3-4a2c-97c0-87bbbc0f0a37",
        "colab": {
          "base_uri": "https://localhost:8080/"
        }
      },
      "execution_count": 6,
      "outputs": [
        {
          "output_type": "stream",
          "name": "stdout",
          "text": [
            "2.9.2\n",
            "2.9.0\n"
          ]
        }
      ]
    },
    {
      "cell_type": "markdown",
      "source": [
        "# 11.4切分訓練資料和測試資料"
      ],
      "metadata": {
        "id": "sILmJM0xAsvM"
      }
    },
    {
      "cell_type": "code",
      "source": [
        "(x_train, y_train), (x_test, y_test) = mnist.load_data()"
      ],
      "metadata": {
        "id": "teSiESZVAulg"
      },
      "execution_count": 7,
      "outputs": []
    },
    {
      "cell_type": "markdown",
      "source": [
        "# 11.5欣賞一下資料"
      ],
      "metadata": {
        "id": "G3pLp5B5hP_o"
      }
    },
    {
      "cell_type": "code",
      "source": [
        "x_train.shape"
      ],
      "metadata": {
        "colab": {
          "base_uri": "https://localhost:8080/"
        },
        "id": "hAj5skhugiZn",
        "outputId": "3d85f6fa-c419-43dc-8eba-15fc8a7aab55"
      },
      "execution_count": 8,
      "outputs": [
        {
          "output_type": "execute_result",
          "data": {
            "text/plain": [
              "(60000, 28, 28)"
            ]
          },
          "metadata": {},
          "execution_count": 8
        }
      ]
    },
    {
      "cell_type": "code",
      "source": [
        "n = 9487 #隨機看一筆資料的長相\n",
        "x_train[n] #讀出第 n 筆資料"
      ],
      "metadata": {
        "colab": {
          "base_uri": "https://localhost:8080/"
        },
        "id": "VhVtpaqXAuwf",
        "outputId": "51b28e89-900e-4ab6-b66e-e8aee87e5983"
      },
      "execution_count": 9,
      "outputs": [
        {
          "output_type": "execute_result",
          "data": {
            "text/plain": [
              "array([[  0,   0,   0,   0,   0,   0,   0,   0,   0,   0,   0,   0,   0,\n",
              "          0,   0,   0,   0,   0,   0,   0,   0,   0,   0,   0,   0,   0,\n",
              "          0,   0],\n",
              "       [  0,   0,   0,   0,   0,   0,   0,   0,   0,   0,   0,   0,   0,\n",
              "          0,   0,   0,   0,   0,   0,   0,   0,   0,   0,   0,   0,   0,\n",
              "          0,   0],\n",
              "       [  0,   0,   0,   0,   0,   0,   0,   0,   0,   0,   0,   0,   0,\n",
              "          0,   0,   0,   0,   0,   0,   0,   0,   0,   0,   0,   0,   0,\n",
              "          0,   0],\n",
              "       [  0,   0,   0,   0,   0,   0,   0,   0,   0,   0,   0,   0,   0,\n",
              "          0,   0,   0,   0,   0,   0,   0,   0,   0,   0,   0,   0,   0,\n",
              "          0,   0],\n",
              "       [  0,   0,   0,   0,   0,   0,   0,   0,   0,   0,   0,   0, 240,\n",
              "        253, 165,   0,   0,   0,   0,   0,   0,   0,   0,   0,   0,   0,\n",
              "          0,   0],\n",
              "       [  0,   0,   0,   0,   0,   0,   0,   0,   0,   0,   0,  32, 241,\n",
              "        252, 252,   0,   0,   0,   0,   0,   0,   0,   0,   0,   0,   0,\n",
              "          0,   0],\n",
              "       [  0,   0,   0,   0,   0,   0,   0,   0,   0,   0,   2, 141, 252,\n",
              "        252, 252,  98,   0,   0,   0,   0,   0,   0,   0,   0,   0,   0,\n",
              "          0,   0],\n",
              "       [  0,   0,   0,   0,   0,   0,   0,   0,   0,   0,  30, 252, 252,\n",
              "        252, 252, 149,   0,   0,   0,   0,   0,   0,   0,   0,   0,   0,\n",
              "          0,   0],\n",
              "       [  0,   0,   0,   0,   0,   0,   0,   0,   0,   0,  21, 217, 252,\n",
              "        252, 252, 149,   0,   0,   0,   0,   0,   0,   0,   0,   0,   0,\n",
              "          0,   0],\n",
              "       [  0,   0,   0,   0,   0,   0,   0,   0,   0,   0,   0, 134, 252,\n",
              "        252, 252, 223,  31,   0,   0,   0,   0,   0,   0,   0,   0,   0,\n",
              "          0,   0],\n",
              "       [  0,   0,   0,   0,   0,   0,   0,   0,   0,   0,   0, 134, 252,\n",
              "        252, 252, 253,  44,   0,   0,   0,   0,   0,   0,   0,   0,   0,\n",
              "          0,   0],\n",
              "       [  0,   0,   0,   0,   0,   0,   0,   0,   0,   0,   0,   8, 239,\n",
              "        252, 252, 253,  44,   0,   0,   0,   0,   0,   0,   0,   0,   0,\n",
              "          0,   0],\n",
              "       [  0,   0,   0,   0,   0,   0,   0,   0,   0,   0,   0,   0, 238,\n",
              "        252, 252, 253,  44,   0,   0,   0,   0,   0,   0,   0,   0,   0,\n",
              "          0,   0],\n",
              "       [  0,   0,   0,   0,   0,   0,   0,   0,   0,   0,   0,   0, 238,\n",
              "        252, 252, 253,  44,   0,   0,   0,   0,   0,   0,   0,   0,   0,\n",
              "          0,   0],\n",
              "       [  0,   0,   0,   0,   0,   0,   0,   0,   0,   0,   0,   0, 178,\n",
              "        253, 253, 255, 106,   0,   0,   0,   0,   0,   0,   0,   0,   0,\n",
              "          0,   0],\n",
              "       [  0,   0,   0,   0,   0,   0,   0,   0,   0,   0,   0,   0,  90,\n",
              "        252, 252, 253, 206,  21,   0,   0,   0,   0,   0,   0,   0,   0,\n",
              "          0,   0],\n",
              "       [  0,   0,   0,   0,   0,   0,   0,   0,   0,   0,   0,   0,  90,\n",
              "        252, 252, 253, 252,  88,   0,   0,   0,   0,   0,   0,   0,   0,\n",
              "          0,   0],\n",
              "       [  0,   0,   0,   0,   0,   0,   0,   0,   0,   0,   0,   0,  90,\n",
              "        252, 252, 253, 252,  88,   0,   0,   0,   0,   0,   0,   0,   0,\n",
              "          0,   0],\n",
              "       [  0,   0,   0,   0,   0,   0,   0,   0,   0,   0,   0,   0,  63,\n",
              "        234, 252, 253, 252, 220,   0,   0,   0,   0,   0,   0,   0,   0,\n",
              "          0,   0],\n",
              "       [  0,   0,   0,   0,   0,   0,   0,   0,   0,   0,   0,   0,   0,\n",
              "        176, 252, 253, 252, 237,   0,   0,   0,   0,   0,   0,   0,   0,\n",
              "          0,   0],\n",
              "       [  0,   0,   0,   0,   0,   0,   0,   0,   0,   0,   0,   0,   0,\n",
              "         45, 252, 253, 252, 245,  71,   0,   0,   0,   0,   0,   0,   0,\n",
              "          0,   0],\n",
              "       [  0,   0,   0,   0,   0,   0,   0,   0,   0,   0,   0,   0,   0,\n",
              "         29, 215, 253, 252, 237,   8,   0,   0,   0,   0,   0,   0,   0,\n",
              "          0,   0],\n",
              "       [  0,   0,   0,   0,   0,   0,   0,   0,   0,   0,   0,   0,   0,\n",
              "          0, 149, 253, 252, 237,   0,   0,   0,   0,   0,   0,   0,   0,\n",
              "          0,   0],\n",
              "       [  0,   0,   0,   0,   0,   0,   0,   0,   0,   0,   0,   0,   0,\n",
              "          0,  61, 165, 252, 237,   0,   0,   0,   0,   0,   0,   0,   0,\n",
              "          0,   0],\n",
              "       [  0,   0,   0,   0,   0,   0,   0,   0,   0,   0,   0,   0,   0,\n",
              "          0,   0,   0,   0,   0,   0,   0,   0,   0,   0,   0,   0,   0,\n",
              "          0,   0],\n",
              "       [  0,   0,   0,   0,   0,   0,   0,   0,   0,   0,   0,   0,   0,\n",
              "          0,   0,   0,   0,   0,   0,   0,   0,   0,   0,   0,   0,   0,\n",
              "          0,   0],\n",
              "       [  0,   0,   0,   0,   0,   0,   0,   0,   0,   0,   0,   0,   0,\n",
              "          0,   0,   0,   0,   0,   0,   0,   0,   0,   0,   0,   0,   0,\n",
              "          0,   0],\n",
              "       [  0,   0,   0,   0,   0,   0,   0,   0,   0,   0,   0,   0,   0,\n",
              "          0,   0,   0,   0,   0,   0,   0,   0,   0,   0,   0,   0,   0,\n",
              "          0,   0]], dtype=uint8)"
            ]
          },
          "metadata": {},
          "execution_count": 9
        }
      ]
    },
    {
      "cell_type": "code",
      "source": [
        "plt.imshow(x_train[n], cmap='Greys')"
      ],
      "metadata": {
        "colab": {
          "base_uri": "https://localhost:8080/",
          "height": 282
        },
        "id": "F-YlT6gs2Vqm",
        "outputId": "f950a63d-8f83-44c8-92d2-c69e8cc53cfa"
      },
      "execution_count": 10,
      "outputs": [
        {
          "output_type": "execute_result",
          "data": {
            "text/plain": [
              "<matplotlib.image.AxesImage at 0x7f3430462a30>"
            ]
          },
          "metadata": {},
          "execution_count": 10
        },
        {
          "output_type": "display_data",
          "data": {
            "text/plain": [
              "<Figure size 432x288 with 1 Axes>"
            ],
            "image/png": "[encoded data removed]"
          },
          "metadata": {
            "needs_background": "light"
          }
        }
      ]
    },
    {
      "cell_type": "code",
      "source": [
        "y_train[n] #第 n 筆資料的答案"
      ],
      "metadata": {
        "colab": {
          "base_uri": "https://localhost:8080/"
        },
        "id": "4Tj1fwFo1TcD",
        "outputId": "ec3dc32b-405e-4a9d-9051-e4e4db1f9722"
      },
      "execution_count": 11,
      "outputs": [
        {
          "output_type": "execute_result",
          "data": {
            "text/plain": [
              "1"
            ]
          },
          "metadata": {},
          "execution_count": 11
        }
      ]
    },
    {
      "cell_type": "markdown",
      "source": [
        "# 11.6打造函數學習機前的資料處理"
      ],
      "metadata": {
        "id": "ffmSnl6qhImb"
      }
    },
    {
      "cell_type": "markdown",
      "source": [
        "因為 `numpy` 「廣播」的特性, 我們對 `array` 中所有數字要同除以一個數可瞬間完成!"
      ],
      "metadata": {
        "id": "jRNuwCl02ZOP"
      }
    },
    {
      "cell_type": "code",
      "source": [
        "x_train = x_train.reshape(60000, 784)/255\n",
        "x_test = x_test.reshape(10000, 784)/255"
      ],
      "metadata": {
        "id": "2v9NvUyruW98"
      },
      "execution_count": 12,
      "outputs": []
    },
    {
      "cell_type": "code",
      "source": [
        "y_train = to_categorical(y_train, 10)\n",
        "y_test = to_categorical(y_test, 10)"
      ],
      "metadata": {
        "id": "4WIVJkqJuXAG"
      },
      "execution_count": 13,
      "outputs": []
    },
    {
      "cell_type": "code",
      "source": [
        "y_train.shape"
      ],
      "metadata": {
        "colab": {
          "base_uri": "https://localhost:8080/"
        },
        "id": "A5QfzFRkuyEZ",
        "outputId": "6b97b561-2422-4be0-cb47-15a3a3f6c4d5"
      },
      "execution_count": 14,
      "outputs": [
        {
          "output_type": "execute_result",
          "data": {
            "text/plain": [
              "(60000, 10)"
            ]
          },
          "metadata": {},
          "execution_count": 14
        }
      ]
    },
    {
      "cell_type": "code",
      "source": [
        "y_train[n]"
      ],
      "metadata": {
        "colab": {
          "base_uri": "https://localhost:8080/"
        },
        "id": "36D2xNvowm6u",
        "outputId": "c2876e4a-0148-4e4a-eafc-071bc922668b"
      },
      "execution_count": 15,
      "outputs": [
        {
          "output_type": "execute_result",
          "data": {
            "text/plain": [
              "array([0., 1., 0., 0., 0., 0., 0., 0., 0., 0.], dtype=float32)"
            ]
          },
          "metadata": {},
          "execution_count": 15
        }
      ]
    },
    {
      "cell_type": "markdown",
      "source": [
        "# 12.1第一部曲：打造神經網路"
      ],
      "metadata": {
        "id": "i_oad7WP0ElB"
      }
    },
    {
      "cell_type": "code",
      "source": [
        "model = Sequential()"
      ],
      "metadata": {
        "id": "gtNMvxSr0F7F"
      },
      "execution_count": 16,
      "outputs": []
    },
    {
      "cell_type": "code",
      "source": [
        "model.add(Dense(100, input_dim=784, activation='relu'))"
      ],
      "metadata": {
        "id": "Abno6VZk0Gme"
      },
      "execution_count": 17,
      "outputs": []
    },
    {
      "cell_type": "code",
      "source": [
        "model.add(Dense(100, activation='relu'))"
      ],
      "metadata": {
        "id": "Mrx6GnNP0GqC"
      },
      "execution_count": 18,
      "outputs": []
    },
    {
      "cell_type": "code",
      "source": [
        "model.add(Dense(100, activation='relu'))"
      ],
      "metadata": {
        "id": "kgRnh7FAljkr"
      },
      "execution_count": 19,
      "outputs": []
    },
    {
      "cell_type": "code",
      "source": [
        "model.add(Dense(10, activation='softmax'))"
      ],
      "metadata": {
        "id": "R_z6brg30Gum"
      },
      "execution_count": 20,
      "outputs": []
    },
    {
      "cell_type": "markdown",
      "source": [
        "# 12.2組裝自己的神經網路"
      ],
      "metadata": {
        "id": "CnMuyOXJiQJm"
      }
    },
    {
      "cell_type": "code",
      "source": [
        "# 組裝神經網路\n",
        "model.compile(loss='mse', optimizer=SGD(learning_rate=0.087), \n",
        "              metrics=['accuracy'])"
      ],
      "metadata": {
        "id": "jLIBFtIL0Gw4"
      },
      "execution_count": 21,
      "outputs": []
    },
    {
      "cell_type": "markdown",
      "source": [
        "# 12.3欣賞自己的神經網路"
      ],
      "metadata": {
        "id": "_qekH-0Kiad4"
      }
    },
    {
      "cell_type": "code",
      "source": [
        "# 看一下神經網路\n",
        "model.summary()"
      ],
      "metadata": {
        "colab": {
          "base_uri": "https://localhost:8080/"
        },
        "id": "zIKvVSPr7pNi",
        "outputId": "93c1f56c-b4ee-4562-de68-866f405fb446"
      },
      "execution_count": 22,
      "outputs": [
        {
          "output_type": "stream",
          "name": "stdout",
          "text": [
            "Model: \"sequential\"\n",
            "_________________________________________________________________\n",
            " Layer (type)                Output Shape              Param #   \n",
            "=================================================================\n",
            " dense (Dense)               (None, 100)               78500     \n",
            "                                                                 \n",
            " dense_1 (Dense)             (None, 100)               10100     \n",
            "                                                                 \n",
            " dense_2 (Dense)             (None, 100)               10100     \n",
            "                                                                 \n",
            " dense_3 (Dense)             (None, 10)                1010      \n",
            "                                                                 \n",
            "=================================================================\n",
            "Total params: 99,710\n",
            "Trainable params: 99,710\n",
            "Non-trainable params: 0\n",
            "_________________________________________________________________\n"
          ]
        }
      ]
    },
    {
      "cell_type": "markdown",
      "source": [
        "# 12.4第二部曲：訓練"
      ],
      "metadata": {
        "id": "VOGbCoJniifN"
      }
    },
    {
      "cell_type": "code",
      "source": [
        "#訓練\n",
        "model.fit(x_train, y_train, batch_size=100, epochs=20)"
      ],
      "metadata": {
        "colab": {
          "base_uri": "https://localhost:8080/"
        },
        "id": "ZiunfAmq8yMW",
        "outputId": "1baf0e40-469e-437f-8611-e05660dcc658"
      },
      "execution_count": 23,
      "outputs": [
        {
          "output_type": "stream",
          "name": "stdout",
          "text": [
            "Epoch 1/20\n",
            "600/600 [==============================] - 3s 4ms/step - loss: 0.0869 - accuracy: 0.2283\n",
            "Epoch 2/20\n",
            "600/600 [==============================] - 2s 4ms/step - loss: 0.0682 - accuracy: 0.5351\n",
            "Epoch 3/20\n",
            "600/600 [==============================] - 2s 4ms/step - loss: 0.0357 - accuracy: 0.7986\n",
            "Epoch 4/20\n",
            "600/600 [==============================] - 2s 4ms/step - loss: 0.0225 - accuracy: 0.8676\n",
            "Epoch 5/20\n",
            "600/600 [==============================] - 3s 4ms/step - loss: 0.0185 - accuracy: 0.8864\n",
            "Epoch 6/20\n",
            "600/600 [==============================] - 2s 4ms/step - loss: 0.0165 - accuracy: 0.8967\n",
            "Epoch 7/20\n",
            "600/600 [==============================] - 2s 4ms/step - loss: 0.0152 - accuracy: 0.9044\n",
            "Epoch 8/20\n",
            "600/600 [==============================] - 2s 4ms/step - loss: 0.0142 - accuracy: 0.9100\n",
            "Epoch 9/20\n",
            "600/600 [==============================] - 2s 4ms/step - loss: 0.0135 - accuracy: 0.9141\n",
            "Epoch 10/20\n",
            "600/600 [==============================] - 2s 4ms/step - loss: 0.0129 - accuracy: 0.9180\n",
            "Epoch 11/20\n",
            "600/600 [==============================] - 2s 4ms/step - loss: 0.0124 - accuracy: 0.9214\n",
            "Epoch 12/20\n",
            "600/600 [==============================] - 2s 4ms/step - loss: 0.0119 - accuracy: 0.9241\n",
            "Epoch 13/20\n",
            "600/600 [==============================] - 2s 4ms/step - loss: 0.0115 - accuracy: 0.9270\n",
            "Epoch 14/20\n",
            "600/600 [==============================] - 2s 4ms/step - loss: 0.0111 - accuracy: 0.9290\n",
            "Epoch 15/20\n",
            "600/600 [==============================] - 2s 4ms/step - loss: 0.0108 - accuracy: 0.9316\n",
            "Epoch 16/20\n",
            "600/600 [==============================] - 2s 4ms/step - loss: 0.0105 - accuracy: 0.9341\n",
            "Epoch 17/20\n",
            "600/600 [==============================] - 2s 4ms/step - loss: 0.0102 - accuracy: 0.9359\n",
            "Epoch 18/20\n",
            "600/600 [==============================] - 2s 4ms/step - loss: 0.0099 - accuracy: 0.9381\n",
            "Epoch 19/20\n",
            "600/600 [==============================] - 2s 4ms/step - loss: 0.0096 - accuracy: 0.9398\n",
            "Epoch 20/20\n",
            "600/600 [==============================] - 3s 5ms/step - loss: 0.0094 - accuracy: 0.9411\n"
          ]
        },
        {
          "output_type": "execute_result",
          "data": {
            "text/plain": [
              "<keras.callbacks.History at 0x7f342b8e72e0>"
            ]
          },
          "metadata": {},
          "execution_count": 23
        }
      ]
    },
    {
      "cell_type": "markdown",
      "source": [
        "# 12.5第三部曲：預測"
      ],
      "metadata": {
        "id": "MbRof3DeivB2"
      }
    },
    {
      "cell_type": "code",
      "source": [
        "x_test[5].shape"
      ],
      "metadata": {
        "colab": {
          "base_uri": "https://localhost:8080/"
        },
        "id": "KxdhhPXXi0vx",
        "outputId": "4f8a3c5c-61b1-48cb-a7b4-8bfe363571f6"
      },
      "execution_count": 24,
      "outputs": [
        {
          "output_type": "execute_result",
          "data": {
            "text/plain": [
              "(784,)"
            ]
          },
          "metadata": {},
          "execution_count": 24
        }
      ]
    },
    {
      "cell_type": "code",
      "source": [
        "inp = x_test[5].reshape(1,784)"
      ],
      "metadata": {
        "id": "eniWEyASjAHR"
      },
      "execution_count": 25,
      "outputs": []
    },
    {
      "cell_type": "code",
      "source": [
        "model.predict(inp)"
      ],
      "metadata": {
        "colab": {
          "base_uri": "https://localhost:8080/"
        },
        "id": "OS-YYRJL8hHm",
        "outputId": "6bae8fe7-80a4-4100-d45b-a32ff822af5e"
      },
      "execution_count": 26,
      "outputs": [
        {
          "output_type": "stream",
          "name": "stdout",
          "text": [
            "1/1 [==============================] - 0s 253ms/step\n"
          ]
        },
        {
          "output_type": "execute_result",
          "data": {
            "text/plain": [
              "array([[2.8697309e-06, 9.8748106e-01, 3.0888403e-03, 1.7865493e-03,\n",
              "        3.4748540e-05, 8.4642415e-05, 1.8545806e-04, 4.0160348e-03,\n",
              "        2.0254578e-03, 1.2943276e-03]], dtype=float32)"
            ]
          },
          "metadata": {},
          "execution_count": 26
        }
      ]
    },
    {
      "cell_type": "code",
      "source": [
        "np.argmax([9, 4, 6, 7])"
      ],
      "metadata": {
        "colab": {
          "base_uri": "https://localhost:8080/"
        },
        "id": "TpObVEBojNS5",
        "outputId": "7c3e8e84-a5f5-454e-cd49-550af8ef99fa"
      },
      "execution_count": 27,
      "outputs": [
        {
          "output_type": "execute_result",
          "data": {
            "text/plain": [
              "0"
            ]
          },
          "metadata": {},
          "execution_count": 27
        }
      ]
    },
    {
      "cell_type": "code",
      "source": [
        "np.argmax(model.predict(inp), axis=-1)"
      ],
      "metadata": {
        "colab": {
          "base_uri": "https://localhost:8080/"
        },
        "id": "NBCkCtGLjZnQ",
        "outputId": "a3c8f732-41b0-4605-e26c-15ed441c9917"
      },
      "execution_count": 28,
      "outputs": [
        {
          "output_type": "stream",
          "name": "stdout",
          "text": [
            "1/1 [==============================] - 0s 17ms/step\n"
          ]
        },
        {
          "output_type": "execute_result",
          "data": {
            "text/plain": [
              "array([1])"
            ]
          },
          "metadata": {},
          "execution_count": 28
        }
      ]
    },
    {
      "cell_type": "code",
      "source": [
        "y_predict = np.argmax(model.predict(x_test), axis=-1)"
      ],
      "metadata": {
        "id": "20Mop_CtZz-F",
        "outputId": "069db835-bf77-4cd8-a1cc-9dfbfeec4de6",
        "colab": {
          "base_uri": "https://localhost:8080/"
        }
      },
      "execution_count": 29,
      "outputs": [
        {
          "output_type": "stream",
          "name": "stdout",
          "text": [
            "313/313 [==============================] - 1s 2ms/step\n"
          ]
        }
      ]
    },
    {
      "cell_type": "code",
      "source": [
        "n = 5\n",
        "print('神經網路預測是：', y_predict[n])\n",
        "plt.imshow(x_test[n].reshape(28,28), cmap='Greys');"
      ],
      "metadata": {
        "colab": {
          "base_uri": "https://localhost:8080/",
          "height": 282
        },
        "id": "dfkSRj9bjkb_",
        "outputId": "0c5fc47b-f77c-4e4a-97e2-8f006eb9b811"
      },
      "execution_count": 30,
      "outputs": [
        {
          "output_type": "stream",
          "name": "stdout",
          "text": [
            "神經網路預測是： 1\n"
          ]
        },
        {
          "output_type": "display_data",
          "data": {
            "text/plain": [
              "<Figure size 432x288 with 1 Axes>"
            ],
            "image/png": "[encoded data removed]"
          },
          "metadata": {
            "needs_background": "light"
          }
        }
      ]
    },
    {
      "cell_type": "markdown",
      "source": [
        "# 12.6更酷炫的互動呈現"
      ],
      "metadata": {
        "id": "55lpPKNJfO06"
      }
    },
    {
      "cell_type": "code",
      "source": [
        "from ipywidgets import interact_manual"
      ],
      "metadata": {
        "id": "EojtC-gvfO5D"
      },
      "execution_count": 31,
      "outputs": []
    },
    {
      "cell_type": "code",
      "source": [
        "def test(測試編號):\n",
        "  plt.imshow(x_test[測試編號].reshape(28,28), cmap='Greys') #要將拉平的維度弄回 (28, 28)\n",
        "  print('神經網路判斷為:', y_predict[測試編號])"
      ],
      "metadata": {
        "id": "uw0h0NLJfVkX"
      },
      "execution_count": 32,
      "outputs": []
    },
    {
      "cell_type": "code",
      "source": [
        "interact_manual(test, 測試編號=(0, 9999));"
      ],
      "metadata": {
        "colab": {
          "base_uri": "https://localhost:8080/",
          "height": 346,
          "referenced_widgets": [
            "6583ec05d48c4e46b3dc68aca9399e38",
            "4ed0678bf9b748819bb107c0d6323b4c",
            "cde7464b4d5042219f83756897031d03",
            "10685aabcefd407e8bbc6854b47def47",
            "3b37e7211f5f4c2a896e9b24b09cb273",
            "5e3b613bbc8b447299abc95a1db6b363",
            "f4d4fd9178e848468f76d6c1472c3a9a",
            "79b677f75901403fa57875078ee851b3",
            "a845b89e018e4e5fbaf1d53d8315c282",
            "1b44766b651443c98b8b801b9850e49d"
          ]
        },
        "id": "wy_gyTMKgjhv",
        "outputId": "57faf8b2-6156-48b9-dbdc-7a8823837071"
      },
      "execution_count": 33,
      "outputs": [
        {
          "output_type": "display_data",
          "data": {
            "text/plain": [
              "interactive(children=(IntSlider(value=4999, description='測試編號', max=9999), Button(description='Run Interact', …"
            ],
            "application/vnd.jupyter.widget-view+json": {
              "version_major": 2,
              "version_minor": 0,
              "model_id": "6583ec05d48c4e46b3dc68aca9399e38"
            }
          },
          "metadata": {}
        }
      ]
    },
    {
      "cell_type": "markdown",
      "metadata": {
        "id": "tH0QNU3L0dCg"
      },
      "source": [
        "到底測試資料總的狀況如何呢? 我們可以給我們神經網路「總評量」。"
      ]
    },
    {
      "cell_type": "code",
      "source": [
        "score = model.evaluate(x_test, y_test)"
      ],
      "metadata": {
        "colab": {
          "base_uri": "https://localhost:8080/"
        },
        "id": "AeBW8p81gwAD",
        "outputId": "575c2476-ba84-4708-89a4-29accc016855"
      },
      "execution_count": 34,
      "outputs": [
        {
          "output_type": "stream",
          "name": "stdout",
          "text": [
            "313/313 [==============================] - 1s 2ms/step - loss: 0.0091 - accuracy: 0.9423\n"
          ]
        }
      ]
    },
    {
      "cell_type": "code",
      "source": [
        "print('loss', score[0])\n",
        "print('正確率', score[1])"
      ],
      "metadata": {
        "colab": {
          "base_uri": "https://localhost:8080/"
        },
        "id": "t4uFMHBehzhr",
        "outputId": "4139341d-5dfd-47fb-8d62-e079acd9c821"
      },
      "execution_count": 35,
      "outputs": [
        {
          "output_type": "stream",
          "name": "stdout",
          "text": [
            "loss 0.00914856605231762\n",
            "正確率 0.942300021648407\n"
          ]
        }
      ]
    },
    {
      "cell_type": "markdown",
      "source": [
        "# 12.7儲存我們完整模型\n",
        "\n",
        "如果對訓練成果滿意, 我們當然不想每次都再訓練一次! 我們可以把神經網路的架構和訓練好的參數都存起來, 以供日後使用!\n",
        "\n",
        "在 Colab 上, 我們要先連到自己的 Google Drive。"
      ],
      "metadata": {
        "id": "S44VDXj0kWSe"
      }
    },
    {
      "cell_type": "code",
      "source": [
        "#儲存 model\n",
        "from google.colab import drive\n",
        "drive.mount('/content/drive')"
      ],
      "metadata": {
        "colab": {
          "base_uri": "https://localhost:8080/"
        },
        "id": "is5480sNiG9D",
        "outputId": "88f5e72f-d255-4498-a630-62c76ff621a5"
      },
      "execution_count": 36,
      "outputs": [
        {
          "output_type": "stream",
          "name": "stdout",
          "text": [
            "Mounted at /content/drive\n"
          ]
        }
      ]
    },
    {
      "cell_type": "markdown",
      "source": [
        "再來是 cd 到你的資料夾中, 我們通常是放到自己 Colab Notebooks 中, 自然你可以指定其他的資料夾。"
      ],
      "metadata": {
        "id": "4CIcesmj3X4G"
      }
    },
    {
      "cell_type": "code",
      "source": [
        "%cd '/content/drive/My Drive/Colab Notebooks'"
      ],
      "metadata": {
        "colab": {
          "base_uri": "https://localhost:8080/"
        },
        "id": "upYAMjesiyFp",
        "outputId": "af440f19-e78e-48d7-8dd3-4e763370a6f9"
      },
      "execution_count": 37,
      "outputs": [
        {
          "output_type": "stream",
          "name": "stdout",
          "text": [
            "/content/drive/My Drive/Colab Notebooks\n"
          ]
        }
      ]
    },
    {
      "cell_type": "code",
      "source": [
        "model.save('my_dnn_model')"
      ],
      "metadata": {
        "id": "x_NoyXFGkAji"
      },
      "execution_count": 38,
      "outputs": []
    }
  ]
}