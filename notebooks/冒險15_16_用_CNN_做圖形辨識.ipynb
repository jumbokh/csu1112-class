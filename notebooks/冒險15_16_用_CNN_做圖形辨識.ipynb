{
  "nbformat": 4,
  "nbformat_minor": 0,
  "metadata": {
    "kernelspec": {
      "display_name": "Python 3",
      "language": "python",
      "name": "python3"
    },
    "language_info": {
      "codemirror_mode": {
        "name": "ipython",
        "version": 3
      },
      "file_extension": ".py",
      "mimetype": "text/x-python",
      "name": "python",
      "nbconvert_exporter": "python",
      "pygments_lexer": "ipython3",
      "version": "3.7.3"
    },
    "colab": {
      "name": "冒險15-16_用 CNN 做圖形辨識",
      "provenance": [],
      "include_colab_link": true
    },
    "accelerator": "GPU",
    "widgets": {
      "application/vnd.jupyter.widget-state+json": {
        "97526af26b6c40189141a80918095710": {
          "model_module": "@jupyter-widgets/controls",
          "model_name": "VBoxModel",
          "model_module_version": "1.5.0",
          "state": {
            "_dom_classes": [
              "widget-interact"
            ],
            "_model_module": "@jupyter-widgets/controls",
            "_model_module_version": "1.5.0",
            "_model_name": "VBoxModel",
            "_view_count": null,
            "_view_module": "@jupyter-widgets/controls",
            "_view_module_version": "1.5.0",
            "_view_name": "VBoxView",
            "box_style": "",
            "children": [
              "IPY_MODEL_f08d14252fd64653a96328b49c86228e",
              "IPY_MODEL_02f4a66af301451eb5d18f76e1063862",
              "IPY_MODEL_cece2c5c9a1e4c8abcedcd822a7f826a"
            ],
            "layout": "IPY_MODEL_70f0d0e47ae74b20b885b141dc58569f"
          }
        },
        "f08d14252fd64653a96328b49c86228e": {
          "model_module": "@jupyter-widgets/controls",
          "model_name": "IntSliderModel",
          "model_module_version": "1.5.0",
          "state": {
            "_dom_classes": [],
            "_model_module": "@jupyter-widgets/controls",
            "_model_module_version": "1.5.0",
            "_model_name": "IntSliderModel",
            "_view_count": null,
            "_view_module": "@jupyter-widgets/controls",
            "_view_module_version": "1.5.0",
            "_view_name": "IntSliderView",
            "continuous_update": true,
            "description": "測試編號",
            "description_tooltip": null,
            "disabled": false,
            "layout": "IPY_MODEL_44dde57bfd734a4a82f8ba6d9c888bdb",
            "max": 9999,
            "min": 0,
            "orientation": "horizontal",
            "readout": true,
            "readout_format": "d",
            "step": 1,
            "style": "IPY_MODEL_f9107b1d71f240809c1d1956dcaeac02",
            "value": 5
          }
        },
        "02f4a66af301451eb5d18f76e1063862": {
          "model_module": "@jupyter-widgets/controls",
          "model_name": "ButtonModel",
          "model_module_version": "1.5.0",
          "state": {
            "_dom_classes": [],
            "_model_module": "@jupyter-widgets/controls",
            "_model_module_version": "1.5.0",
            "_model_name": "ButtonModel",
            "_view_count": null,
            "_view_module": "@jupyter-widgets/controls",
            "_view_module_version": "1.5.0",
            "_view_name": "ButtonView",
            "button_style": "",
            "description": "Run Interact",
            "disabled": false,
            "icon": "",
            "layout": "IPY_MODEL_e8a94d356f7646b0baab74b4d6779ddc",
            "style": "IPY_MODEL_aded5882c5bc4460ab8b1402801da57f",
            "tooltip": ""
          }
        },
        "cece2c5c9a1e4c8abcedcd822a7f826a": {
          "model_module": "@jupyter-widgets/output",
          "model_name": "OutputModel",
          "model_module_version": "1.0.0",
          "state": {
            "_dom_classes": [],
            "_model_module": "@jupyter-widgets/output",
            "_model_module_version": "1.0.0",
            "_model_name": "OutputModel",
            "_view_count": null,
            "_view_module": "@jupyter-widgets/output",
            "_view_module_version": "1.0.0",
            "_view_name": "OutputView",
            "layout": "IPY_MODEL_cb884f8b33b14396b1e7fd482728778f",
            "msg_id": "",
            "outputs": [
              {
                "output_type": "stream",
                "name": "stdout",
                "text": [
                  "神經網路判斷為: 青蛙\n"
                ]
              },
              {
                "output_type": "display_data",
                "data": {
                  "text/plain": "<Figure size 432x288 with 1 Axes>",
                  "image/png": "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\n"
                },
                "metadata": {
                  "needs_background": "light"
                }
              }
            ]
          }
        },
        "70f0d0e47ae74b20b885b141dc58569f": {
          "model_module": "@jupyter-widgets/base",
          "model_name": "LayoutModel",
          "model_module_version": "1.2.0",
          "state": {
            "_model_module": "@jupyter-widgets/base",
            "_model_module_version": "1.2.0",
            "_model_name": "LayoutModel",
            "_view_count": null,
            "_view_module": "@jupyter-widgets/base",
            "_view_module_version": "1.2.0",
            "_view_name": "LayoutView",
            "align_content": null,
            "align_items": null,
            "align_self": null,
            "border": null,
            "bottom": null,
            "display": null,
            "flex": null,
            "flex_flow": null,
            "grid_area": null,
            "grid_auto_columns": null,
            "grid_auto_flow": null,
            "grid_auto_rows": null,
            "grid_column": null,
            "grid_gap": null,
            "grid_row": null,
            "grid_template_areas": null,
            "grid_template_columns": null,
            "grid_template_rows": null,
            "height": null,
            "justify_content": null,
            "justify_items": null,
            "left": null,
            "margin": null,
            "max_height": null,
            "max_width": null,
            "min_height": null,
            "min_width": null,
            "object_fit": null,
            "object_position": null,
            "order": null,
            "overflow": null,
            "overflow_x": null,
            "overflow_y": null,
            "padding": null,
            "right": null,
            "top": null,
            "visibility": null,
            "width": null
          }
        },
        "44dde57bfd734a4a82f8ba6d9c888bdb": {
          "model_module": "@jupyter-widgets/base",
          "model_name": "LayoutModel",
          "model_module_version": "1.2.0",
          "state": {
            "_model_module": "@jupyter-widgets/base",
            "_model_module_version": "1.2.0",
            "_model_name": "LayoutModel",
            "_view_count": null,
            "_view_module": "@jupyter-widgets/base",
            "_view_module_version": "1.2.0",
            "_view_name": "LayoutView",
            "align_content": null,
            "align_items": null,
            "align_self": null,
            "border": null,
            "bottom": null,
            "display": null,
            "flex": null,
            "flex_flow": null,
            "grid_area": null,
            "grid_auto_columns": null,
            "grid_auto_flow": null,
            "grid_auto_rows": null,
            "grid_column": null,
            "grid_gap": null,
            "grid_row": null,
            "grid_template_areas": null,
            "grid_template_columns": null,
            "grid_template_rows": null,
            "height": null,
            "justify_content": null,
            "justify_items": null,
            "left": null,
            "margin": null,
            "max_height": null,
            "max_width": null,
            "min_height": null,
            "min_width": null,
            "object_fit": null,
            "object_position": null,
            "order": null,
            "overflow": null,
            "overflow_x": null,
            "overflow_y": null,
            "padding": null,
            "right": null,
            "top": null,
            "visibility": null,
            "width": null
          }
        },
        "f9107b1d71f240809c1d1956dcaeac02": {
          "model_module": "@jupyter-widgets/controls",
          "model_name": "SliderStyleModel",
          "model_module_version": "1.5.0",
          "state": {
            "_model_module": "@jupyter-widgets/controls",
            "_model_module_version": "1.5.0",
            "_model_name": "SliderStyleModel",
            "_view_count": null,
            "_view_module": "@jupyter-widgets/base",
            "_view_module_version": "1.2.0",
            "_view_name": "StyleView",
            "description_width": "",
            "handle_color": null
          }
        },
        "e8a94d356f7646b0baab74b4d6779ddc": {
          "model_module": "@jupyter-widgets/base",
          "model_name": "LayoutModel",
          "model_module_version": "1.2.0",
          "state": {
            "_model_module": "@jupyter-widgets/base",
            "_model_module_version": "1.2.0",
            "_model_name": "LayoutModel",
            "_view_count": null,
            "_view_module": "@jupyter-widgets/base",
            "_view_module_version": "1.2.0",
            "_view_name": "LayoutView",
            "align_content": null,
            "align_items": null,
            "align_self": null,
            "border": null,
            "bottom": null,
            "display": null,
            "flex": null,
            "flex_flow": null,
            "grid_area": null,
            "grid_auto_columns": null,
            "grid_auto_flow": null,
            "grid_auto_rows": null,
            "grid_column": null,
            "grid_gap": null,
            "grid_row": null,
            "grid_template_areas": null,
            "grid_template_columns": null,
            "grid_template_rows": null,
            "height": null,
            "justify_content": null,
            "justify_items": null,
            "left": null,
            "margin": null,
            "max_height": null,
            "max_width": null,
            "min_height": null,
            "min_width": null,
            "object_fit": null,
            "object_position": null,
            "order": null,
            "overflow": null,
            "overflow_x": null,
            "overflow_y": null,
            "padding": null,
            "right": null,
            "top": null,
            "visibility": null,
            "width": null
          }
        },
        "aded5882c5bc4460ab8b1402801da57f": {
          "model_module": "@jupyter-widgets/controls",
          "model_name": "ButtonStyleModel",
          "model_module_version": "1.5.0",
          "state": {
            "_model_module": "@jupyter-widgets/controls",
            "_model_module_version": "1.5.0",
            "_model_name": "ButtonStyleModel",
            "_view_count": null,
            "_view_module": "@jupyter-widgets/base",
            "_view_module_version": "1.2.0",
            "_view_name": "StyleView",
            "button_color": null,
            "font_weight": ""
          }
        },
        "cb884f8b33b14396b1e7fd482728778f": {
          "model_module": "@jupyter-widgets/base",
          "model_name": "LayoutModel",
          "model_module_version": "1.2.0",
          "state": {
            "_model_module": "@jupyter-widgets/base",
            "_model_module_version": "1.2.0",
            "_model_name": "LayoutModel",
            "_view_count": null,
            "_view_module": "@jupyter-widgets/base",
            "_view_module_version": "1.2.0",
            "_view_name": "LayoutView",
            "align_content": null,
            "align_items": null,
            "align_self": null,
            "border": null,
            "bottom": null,
            "display": null,
            "flex": null,
            "flex_flow": null,
            "grid_area": null,
            "grid_auto_columns": null,
            "grid_auto_flow": null,
            "grid_auto_rows": null,
            "grid_column": null,
            "grid_gap": null,
            "grid_row": null,
            "grid_template_areas": null,
            "grid_template_columns": null,
            "grid_template_rows": null,
            "height": null,
            "justify_content": null,
            "justify_items": null,
            "left": null,
            "margin": null,
            "max_height": null,
            "max_width": null,
            "min_height": null,
            "min_width": null,
            "object_fit": null,
            "object_position": null,
            "order": null,
            "overflow": null,
            "overflow_x": null,
            "overflow_y": null,
            "padding": null,
            "right": null,
            "top": null,
            "visibility": null,
            "width": null
          }
        }
      }
    }
  },
  "cells": [
    {
      "cell_type": "markdown",
      "metadata": {
        "id": "view-in-github",
        "colab_type": "text"
      },
      "source": [
        "<a href=\"https://colab.research.google.com/github/jumbokh/csu1112-class/blob/main/notebooks/%E5%86%92%E9%9A%AA15_16_%E7%94%A8_CNN_%E5%81%9A%E5%9C%96%E5%BD%A2%E8%BE%A8%E8%AD%98.ipynb\" target=\"_parent\"><img src=\"https://colab.research.google.com/assets/colab-badge.svg\" alt=\"Open In Colab\"/></a>"
      ]
    },
    {
      "cell_type": "markdown",
      "metadata": {
        "id": "kIdTh9oW7PBM"
      },
      "source": [
        "![Jupyter 工作室.001.jpeg](data:image/jpeg;base64,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)"
      ]
    },
    {
      "cell_type": "code",
      "metadata": {
        "id": "aGo1CZOD7L8i"
      },
      "source": [
        "%matplotlib inline\n",
        "import matplotlib.pyplot as plt \n",
        "import numpy as np\n",
        "import pandas as pd"
      ],
      "execution_count": 1,
      "outputs": []
    },
    {
      "cell_type": "code",
      "metadata": {
        "id": "qydn4g7F7L8l"
      },
      "source": [
        "from tensorflow.keras.datasets import cifar10\n",
        "from tensorflow.keras.utils import to_categorical\n",
        "from tensorflow.keras.models import Sequential\n",
        "from tensorflow.keras.layers import Conv2D, MaxPool2D\n",
        "from tensorflow.keras.layers import Dense, Flatten\n",
        "from tensorflow.keras.optimizers import SGD, Adam"
      ],
      "execution_count": 2,
      "outputs": []
    },
    {
      "cell_type": "markdown",
      "metadata": {
        "id": "ZB1Rlp897L8l"
      },
      "source": [
        "### 1. 讀入 CIFAR-10 數據集\n",
        "\n",
        "CIFAR-10 是一個小尺吋（32x32）彩色圖片資料集，其中，訓練集包含了 50000 張大小為 32x32 的彩色圖片；測試集包含了 10000 張大小為 32x32 的彩色圖片。CIFAR-10 的圖片資料可分為以下 10 個種類：\n",
        "* 飛機 (airplan)\n",
        "* 交通工具 (automobile)\n",
        "* 鳥 (bird)\n",
        "* 貓 (cat)\n",
        "* 鹿 (deer)\n",
        "* 狗 (dog)\n",
        "* 青蛙 (frog)\n",
        "* 馬 (horse)\n",
        "* 船 (ship)\n",
        "* 卡車 (truck)\n",
        "\n",
        "在這裡，我們將讓大家練習建構在 CIFAR-10 上的 CNN 分類模型\n"
      ]
    },
    {
      "cell_type": "code",
      "metadata": {
        "id": "KBQvx21g7L8m",
        "outputId": "f26f9d14-3fe2-483e-f6aa-91428610dd50",
        "colab": {
          "base_uri": "https://localhost:8080/"
        }
      },
      "source": [
        "(x_train, y_train), (x_test, y_test) = cifar10.load_data()"
      ],
      "execution_count": 3,
      "outputs": [
        {
          "output_type": "stream",
          "name": "stdout",
          "text": [
            "Downloading data from https://www.cs.toronto.edu/~kriz/cifar-10-python.tar.gz\n",
            "170498071/170498071 [==============================] - 2s 0us/step\n"
          ]
        }
      ]
    },
    {
      "cell_type": "markdown",
      "metadata": {
        "id": "dTqfalXt7L8m"
      },
      "source": [
        "### 2. 資料整理"
      ]
    },
    {
      "cell_type": "markdown",
      "metadata": {
        "id": "kBGLl4D67L8n"
      },
      "source": [
        "#### 資料尺寸與通道數（Channel）\n",
        "\n",
        "由於 CNN 模型的輸入資料必須是圖片，所以我們需要注意一張圖有多少個 channel。\n",
        "\n",
        "因為CIFAR-10資料集的資料為彩色圖片，每一個像素點，其實包含了紅色（Red）、綠色（Green）以及藍色（Blue）三原色的強度，所以每一張圖有三個 channel，以及代表三種顏色的強度。"
      ]
    },
    {
      "cell_type": "code",
      "source": [
        "x_train.shape"
      ],
      "metadata": {
        "colab": {
          "base_uri": "https://localhost:8080/"
        },
        "id": "F4z8-qXmAGqG",
        "outputId": "f27df4d3-2d53-4b04-d6b4-f75cc5e6c0ad"
      },
      "execution_count": 4,
      "outputs": [
        {
          "output_type": "execute_result",
          "data": {
            "text/plain": [
              "(50000, 32, 32, 3)"
            ]
          },
          "metadata": {},
          "execution_count": 4
        }
      ]
    },
    {
      "cell_type": "code",
      "source": [
        "np.unique(y_train)"
      ],
      "metadata": {
        "colab": {
          "base_uri": "https://localhost:8080/"
        },
        "id": "_d9dNNUpAIrY",
        "outputId": "0a814f27-f295-4170-d801-b290ddca5691"
      },
      "execution_count": 5,
      "outputs": [
        {
          "output_type": "execute_result",
          "data": {
            "text/plain": [
              "array([0, 1, 2, 3, 4, 5, 6, 7, 8, 9], dtype=uint8)"
            ]
          },
          "metadata": {},
          "execution_count": 5
        }
      ]
    },
    {
      "cell_type": "code",
      "source": [
        "print(f\"資料的最小值: {np.min(x_train)}\")\n",
        "print(f\"資料的最大值: {np.max(x_train)}\")"
      ],
      "metadata": {
        "colab": {
          "base_uri": "https://localhost:8080/"
        },
        "id": "jc1_vtd2AJsF",
        "outputId": "16267baf-7d87-4094-db30-53af93e287a5"
      },
      "execution_count": 6,
      "outputs": [
        {
          "output_type": "stream",
          "name": "stdout",
          "text": [
            "資料的最小值: 0\n",
            "資料的最大值: 255\n"
          ]
        }
      ]
    },
    {
      "cell_type": "code",
      "source": [
        "print(f\"資料的最小值: {np.min(x_test)}\")\n",
        "print(f\"資料的最大值: {np.max(x_test)}\")"
      ],
      "metadata": {
        "colab": {
          "base_uri": "https://localhost:8080/"
        },
        "id": "tNet60WGAMda",
        "outputId": "47815e6b-d2c7-4b62-d91d-f02d17b14a12"
      },
      "execution_count": 7,
      "outputs": [
        {
          "output_type": "stream",
          "name": "stdout",
          "text": [
            "資料的最小值: 0\n",
            "資料的最大值: 255\n"
          ]
        }
      ]
    },
    {
      "cell_type": "code",
      "metadata": {
        "id": "7aXZ78m07L8n"
      },
      "source": [
        "x_train = x_train/255\n",
        "x_test = x_test/255"
      ],
      "execution_count": 8,
      "outputs": []
    },
    {
      "cell_type": "code",
      "metadata": {
        "id": "hRH__4rU7L8o"
      },
      "source": [
        "y_train = to_categorical(y_train, 10)\n",
        "y_test = to_categorical(y_test, 10)"
      ],
      "execution_count": 9,
      "outputs": []
    },
    {
      "cell_type": "code",
      "source": [
        "y_train.shape"
      ],
      "metadata": {
        "colab": {
          "base_uri": "https://localhost:8080/"
        },
        "id": "hpJ28BMGAQxz",
        "outputId": "4ccd7530-c5fd-47a6-d0a6-9247aaaa266d"
      },
      "execution_count": 10,
      "outputs": [
        {
          "output_type": "execute_result",
          "data": {
            "text/plain": [
              "(50000, 10)"
            ]
          },
          "metadata": {},
          "execution_count": 10
        }
      ]
    },
    {
      "cell_type": "markdown",
      "metadata": {
        "id": "VzB2J0-T7L8o"
      },
      "source": [
        "### 3. step 1: 打造函數學習機 (CNN)"
      ]
    },
    {
      "cell_type": "code",
      "metadata": {
        "id": "Qc2iY67A7L8o"
      },
      "source": [
        "model = Sequential()"
      ],
      "execution_count": 11,
      "outputs": []
    },
    {
      "cell_type": "code",
      "metadata": {
        "id": "sRN_Y-gL7L8p"
      },
      "source": [
        "model.add(Conv2D(16, (5, 5), padding='same', \n",
        "                 input_shape=(32, 32, 3), \n",
        "                 activation='relu'))"
      ],
      "execution_count": 12,
      "outputs": []
    },
    {
      "cell_type": "code",
      "source": [
        "model.summary()"
      ],
      "metadata": {
        "colab": {
          "base_uri": "https://localhost:8080/"
        },
        "id": "hrjEry3WBCiK",
        "outputId": "19fdd9e7-0e39-49a9-83a6-4d39ca4dccbb"
      },
      "execution_count": 13,
      "outputs": [
        {
          "output_type": "stream",
          "name": "stdout",
          "text": [
            "Model: \"sequential\"\n",
            "_________________________________________________________________\n",
            " Layer (type)                Output Shape              Param #   \n",
            "=================================================================\n",
            " conv2d (Conv2D)             (None, 32, 32, 16)        1216      \n",
            "                                                                 \n",
            "=================================================================\n",
            "Total params: 1,216\n",
            "Trainable params: 1,216\n",
            "Non-trainable params: 0\n",
            "_________________________________________________________________\n"
          ]
        }
      ]
    },
    {
      "cell_type": "code",
      "metadata": {
        "id": "0WLsmgaS7L8p"
      },
      "source": [
        "model.add(MaxPool2D())"
      ],
      "execution_count": 14,
      "outputs": []
    },
    {
      "cell_type": "code",
      "source": [
        "model.summary()"
      ],
      "metadata": {
        "colab": {
          "base_uri": "https://localhost:8080/"
        },
        "id": "0QKHB_ftBuh5",
        "outputId": "892a9cf0-5d59-4e1e-e2c5-1bd92406fe46"
      },
      "execution_count": 15,
      "outputs": [
        {
          "output_type": "stream",
          "name": "stdout",
          "text": [
            "Model: \"sequential\"\n",
            "_________________________________________________________________\n",
            " Layer (type)                Output Shape              Param #   \n",
            "=================================================================\n",
            " conv2d (Conv2D)             (None, 32, 32, 16)        1216      \n",
            "                                                                 \n",
            " max_pooling2d (MaxPooling2D  (None, 16, 16, 16)       0         \n",
            " )                                                               \n",
            "                                                                 \n",
            "=================================================================\n",
            "Total params: 1,216\n",
            "Trainable params: 1,216\n",
            "Non-trainable params: 0\n",
            "_________________________________________________________________\n"
          ]
        }
      ]
    },
    {
      "cell_type": "code",
      "metadata": {
        "id": "eLCxB5lH7L8p"
      },
      "source": [
        "model.add(Conv2D(32, (5, 5), padding='same', activation='relu'))"
      ],
      "execution_count": 16,
      "outputs": []
    },
    {
      "cell_type": "code",
      "metadata": {
        "id": "1P3Fmcdz7L8p"
      },
      "source": [
        "model.add(MaxPool2D())"
      ],
      "execution_count": 17,
      "outputs": []
    },
    {
      "cell_type": "code",
      "source": [
        "model.summary()"
      ],
      "metadata": {
        "colab": {
          "base_uri": "https://localhost:8080/"
        },
        "id": "MQOIWmlFB4QC",
        "outputId": "8e8ffaad-7472-490f-b99d-955e1dfc2943"
      },
      "execution_count": 18,
      "outputs": [
        {
          "output_type": "stream",
          "name": "stdout",
          "text": [
            "Model: \"sequential\"\n",
            "_________________________________________________________________\n",
            " Layer (type)                Output Shape              Param #   \n",
            "=================================================================\n",
            " conv2d (Conv2D)             (None, 32, 32, 16)        1216      \n",
            "                                                                 \n",
            " max_pooling2d (MaxPooling2D  (None, 16, 16, 16)       0         \n",
            " )                                                               \n",
            "                                                                 \n",
            " conv2d_1 (Conv2D)           (None, 16, 16, 32)        12832     \n",
            "                                                                 \n",
            " max_pooling2d_1 (MaxPooling  (None, 8, 8, 32)         0         \n",
            " 2D)                                                             \n",
            "                                                                 \n",
            "=================================================================\n",
            "Total params: 14,048\n",
            "Trainable params: 14,048\n",
            "Non-trainable params: 0\n",
            "_________________________________________________________________\n"
          ]
        }
      ]
    },
    {
      "cell_type": "code",
      "source": [
        "model.add(Conv2D(64, (5, 5), padding='same', activation='relu'))\n",
        "model.add(MaxPool2D())"
      ],
      "metadata": {
        "id": "ek2vCteeC7I7"
      },
      "execution_count": 19,
      "outputs": []
    },
    {
      "cell_type": "code",
      "source": [
        "model.summary()"
      ],
      "metadata": {
        "colab": {
          "base_uri": "https://localhost:8080/"
        },
        "id": "G4jX8njuC7ND",
        "outputId": "04e86518-5fad-451c-d1b2-3191b75a0976"
      },
      "execution_count": 20,
      "outputs": [
        {
          "output_type": "stream",
          "name": "stdout",
          "text": [
            "Model: \"sequential\"\n",
            "_________________________________________________________________\n",
            " Layer (type)                Output Shape              Param #   \n",
            "=================================================================\n",
            " conv2d (Conv2D)             (None, 32, 32, 16)        1216      \n",
            "                                                                 \n",
            " max_pooling2d (MaxPooling2D  (None, 16, 16, 16)       0         \n",
            " )                                                               \n",
            "                                                                 \n",
            " conv2d_1 (Conv2D)           (None, 16, 16, 32)        12832     \n",
            "                                                                 \n",
            " max_pooling2d_1 (MaxPooling  (None, 8, 8, 32)         0         \n",
            " 2D)                                                             \n",
            "                                                                 \n",
            " conv2d_2 (Conv2D)           (None, 8, 8, 64)          51264     \n",
            "                                                                 \n",
            " max_pooling2d_2 (MaxPooling  (None, 4, 4, 64)         0         \n",
            " 2D)                                                             \n",
            "                                                                 \n",
            "=================================================================\n",
            "Total params: 65,312\n",
            "Trainable params: 65,312\n",
            "Non-trainable params: 0\n",
            "_________________________________________________________________\n"
          ]
        }
      ]
    },
    {
      "cell_type": "code",
      "metadata": {
        "id": "d9CzoAFg7L8q"
      },
      "source": [
        "model.add(Flatten())"
      ],
      "execution_count": 21,
      "outputs": []
    },
    {
      "cell_type": "code",
      "source": [
        "model.summary()"
      ],
      "metadata": {
        "colab": {
          "base_uri": "https://localhost:8080/"
        },
        "id": "RhZVC2CdCQJL",
        "outputId": "b51c4a58-de42-4cdf-a113-a891f5f4af35"
      },
      "execution_count": 22,
      "outputs": [
        {
          "output_type": "stream",
          "name": "stdout",
          "text": [
            "Model: \"sequential\"\n",
            "_________________________________________________________________\n",
            " Layer (type)                Output Shape              Param #   \n",
            "=================================================================\n",
            " conv2d (Conv2D)             (None, 32, 32, 16)        1216      \n",
            "                                                                 \n",
            " max_pooling2d (MaxPooling2D  (None, 16, 16, 16)       0         \n",
            " )                                                               \n",
            "                                                                 \n",
            " conv2d_1 (Conv2D)           (None, 16, 16, 32)        12832     \n",
            "                                                                 \n",
            " max_pooling2d_1 (MaxPooling  (None, 8, 8, 32)         0         \n",
            " 2D)                                                             \n",
            "                                                                 \n",
            " conv2d_2 (Conv2D)           (None, 8, 8, 64)          51264     \n",
            "                                                                 \n",
            " max_pooling2d_2 (MaxPooling  (None, 4, 4, 64)         0         \n",
            " 2D)                                                             \n",
            "                                                                 \n",
            " flatten (Flatten)           (None, 1024)              0         \n",
            "                                                                 \n",
            "=================================================================\n",
            "Total params: 65,312\n",
            "Trainable params: 65,312\n",
            "Non-trainable params: 0\n",
            "_________________________________________________________________\n"
          ]
        }
      ]
    },
    {
      "cell_type": "code",
      "metadata": {
        "id": "Gfj7YGlN7L8q"
      },
      "source": [
        "model.add(Dense(32, activation='relu'))\n",
        "model.add(Dense(10, activation='softmax'))"
      ],
      "execution_count": 23,
      "outputs": []
    },
    {
      "cell_type": "markdown",
      "metadata": {
        "id": "1Y8TVlN17L8r"
      },
      "source": [
        "#### 看一下我們的神經網路"
      ]
    },
    {
      "cell_type": "code",
      "metadata": {
        "id": "3eXWhtYc7L8r",
        "colab": {
          "base_uri": "https://localhost:8080/"
        },
        "outputId": "08dcd7d5-c4de-43a0-9bd9-df54cef012ed"
      },
      "source": [
        "model.summary()"
      ],
      "execution_count": 24,
      "outputs": [
        {
          "output_type": "stream",
          "name": "stdout",
          "text": [
            "Model: \"sequential\"\n",
            "_________________________________________________________________\n",
            " Layer (type)                Output Shape              Param #   \n",
            "=================================================================\n",
            " conv2d (Conv2D)             (None, 32, 32, 16)        1216      \n",
            "                                                                 \n",
            " max_pooling2d (MaxPooling2D  (None, 16, 16, 16)       0         \n",
            " )                                                               \n",
            "                                                                 \n",
            " conv2d_1 (Conv2D)           (None, 16, 16, 32)        12832     \n",
            "                                                                 \n",
            " max_pooling2d_1 (MaxPooling  (None, 8, 8, 32)         0         \n",
            " 2D)                                                             \n",
            "                                                                 \n",
            " conv2d_2 (Conv2D)           (None, 8, 8, 64)          51264     \n",
            "                                                                 \n",
            " max_pooling2d_2 (MaxPooling  (None, 4, 4, 64)         0         \n",
            " 2D)                                                             \n",
            "                                                                 \n",
            " flatten (Flatten)           (None, 1024)              0         \n",
            "                                                                 \n",
            " dense (Dense)               (None, 32)                32800     \n",
            "                                                                 \n",
            " dense_1 (Dense)             (None, 10)                330       \n",
            "                                                                 \n",
            "=================================================================\n",
            "Total params: 98,442\n",
            "Trainable params: 98,442\n",
            "Non-trainable params: 0\n",
            "_________________________________________________________________\n"
          ]
        }
      ]
    },
    {
      "cell_type": "markdown",
      "metadata": {
        "id": "YbX29tpF7L8s"
      },
      "source": [
        "#### 組裝"
      ]
    },
    {
      "cell_type": "code",
      "metadata": {
        "id": "_naOUBlK7L8s"
      },
      "source": [
        "model.compile(loss='mse', \n",
        "              optimizer=Adam(learning_rate=0.001),\n",
        "              metrics=['accuracy'])"
      ],
      "execution_count": 25,
      "outputs": []
    },
    {
      "cell_type": "markdown",
      "metadata": {
        "id": "QhKz5DIF7L8s"
      },
      "source": [
        "### 4. step 2: fit"
      ]
    },
    {
      "cell_type": "code",
      "metadata": {
        "scrolled": true,
        "id": "_48y-caB7L8s",
        "colab": {
          "base_uri": "https://localhost:8080/"
        },
        "outputId": "b1f01482-37a7-4edd-f662-1726ded454dc"
      },
      "source": [
        "model.fit(x_train, y_train, batch_size=100, epochs=20)"
      ],
      "execution_count": 26,
      "outputs": [
        {
          "output_type": "stream",
          "name": "stdout",
          "text": [
            "Epoch 1/20\n",
            "500/500 [==============================] - 11s 5ms/step - loss: 0.0731 - accuracy: 0.3952\n",
            "Epoch 2/20\n",
            "500/500 [==============================] - 2s 5ms/step - loss: 0.0588 - accuracy: 0.5464\n",
            "Epoch 3/20\n",
            "500/500 [==============================] - 2s 5ms/step - loss: 0.0518 - accuracy: 0.6091\n",
            "Epoch 4/20\n",
            "500/500 [==============================] - 2s 5ms/step - loss: 0.0468 - accuracy: 0.6544\n",
            "Epoch 5/20\n",
            "500/500 [==============================] - 2s 5ms/step - loss: 0.0432 - accuracy: 0.6855\n",
            "Epoch 6/20\n",
            "500/500 [==============================] - 2s 5ms/step - loss: 0.0403 - accuracy: 0.7093\n",
            "Epoch 7/20\n",
            "500/500 [==============================] - 2s 5ms/step - loss: 0.0374 - accuracy: 0.7331\n",
            "Epoch 8/20\n",
            "500/500 [==============================] - 2s 5ms/step - loss: 0.0351 - accuracy: 0.7509\n",
            "Epoch 9/20\n",
            "500/500 [==============================] - 2s 5ms/step - loss: 0.0328 - accuracy: 0.7700\n",
            "Epoch 10/20\n",
            "500/500 [==============================] - 2s 5ms/step - loss: 0.0312 - accuracy: 0.7818\n",
            "Epoch 11/20\n",
            "500/500 [==============================] - 2s 5ms/step - loss: 0.0297 - accuracy: 0.7948\n",
            "Epoch 12/20\n",
            "500/500 [==============================] - 2s 5ms/step - loss: 0.0278 - accuracy: 0.8090\n",
            "Epoch 13/20\n",
            "500/500 [==============================] - 2s 5ms/step - loss: 0.0264 - accuracy: 0.8206\n",
            "Epoch 14/20\n",
            "500/500 [==============================] - 2s 5ms/step - loss: 0.0255 - accuracy: 0.8273\n",
            "Epoch 15/20\n",
            "500/500 [==============================] - 2s 5ms/step - loss: 0.0242 - accuracy: 0.8374\n",
            "Epoch 16/20\n",
            "500/500 [==============================] - 2s 5ms/step - loss: 0.0227 - accuracy: 0.8493\n",
            "Epoch 17/20\n",
            "500/500 [==============================] - 2s 5ms/step - loss: 0.0219 - accuracy: 0.8543\n",
            "Epoch 18/20\n",
            "500/500 [==============================] - 2s 5ms/step - loss: 0.0210 - accuracy: 0.8606\n",
            "Epoch 19/20\n",
            "500/500 [==============================] - 2s 5ms/step - loss: 0.0202 - accuracy: 0.8672\n",
            "Epoch 20/20\n",
            "500/500 [==============================] - 2s 5ms/step - loss: 0.0196 - accuracy: 0.8715\n"
          ]
        },
        {
          "output_type": "execute_result",
          "data": {
            "text/plain": [
              "<keras.callbacks.History at 0x7fb430f79e50>"
            ]
          },
          "metadata": {},
          "execution_count": 26
        }
      ]
    },
    {
      "cell_type": "markdown",
      "metadata": {
        "id": "KGqiIkBi7L8t"
      },
      "source": [
        "### 5. Step 3: 預測"
      ]
    },
    {
      "cell_type": "code",
      "metadata": {
        "id": "d8ILAWiy7L8t",
        "colab": {
          "base_uri": "https://localhost:8080/"
        },
        "outputId": "49b87b14-944a-4eae-b655-b3126b915319"
      },
      "source": [
        "x_test[5].shape"
      ],
      "execution_count": 27,
      "outputs": [
        {
          "output_type": "execute_result",
          "data": {
            "text/plain": [
              "(32, 32, 3)"
            ]
          },
          "metadata": {},
          "execution_count": 27
        }
      ]
    },
    {
      "cell_type": "code",
      "source": [
        "plt.imshow(x_test[5])\n",
        "plt.title(f\"Label: {y_test[5].argmax()}\");"
      ],
      "metadata": {
        "colab": {
          "base_uri": "https://localhost:8080/",
          "height": 281
        },
        "id": "P1OJsUdtFlVD",
        "outputId": "bbbded0a-1687-4f47-d172-38c3bdc1dd3f"
      },
      "execution_count": 28,
      "outputs": [
        {
          "output_type": "display_data",
          "data": {
            "text/plain": [
              "<Figure size 432x288 with 1 Axes>"
            ],
            "image/png": "[encoded data removed]"
          },
          "metadata": {
            "needs_background": "light"
          }
        }
      ]
    },
    {
      "cell_type": "code",
      "source": [
        "inp = x_test[5].reshape(1, 32, 32, 3)"
      ],
      "metadata": {
        "id": "HVq32QNMGP_5"
      },
      "execution_count": 29,
      "outputs": []
    },
    {
      "cell_type": "code",
      "source": [
        "model.predict(inp)"
      ],
      "metadata": {
        "colab": {
          "base_uri": "https://localhost:8080/"
        },
        "id": "cgJJu3aQGQB_",
        "outputId": "f015861c-b11a-4466-85be-575a30809b04"
      },
      "execution_count": 30,
      "outputs": [
        {
          "output_type": "stream",
          "name": "stdout",
          "text": [
            "1/1 [==============================] - 0s 140ms/step\n"
          ]
        },
        {
          "output_type": "execute_result",
          "data": {
            "text/plain": [
              "array([[9.9622746e-05, 1.0846953e-05, 9.6077332e-04, 4.8058052e-03,\n",
              "        5.6895573e-04, 6.3352287e-03, 9.8716170e-01, 3.1463722e-05,\n",
              "        5.5906617e-06, 2.0070940e-05]], dtype=float32)"
            ]
          },
          "metadata": {},
          "execution_count": 30
        }
      ]
    },
    {
      "cell_type": "code",
      "source": [
        "np.argmax(model.predict(inp), axis=-1)"
      ],
      "metadata": {
        "colab": {
          "base_uri": "https://localhost:8080/"
        },
        "id": "NRk4vGkuGQD9",
        "outputId": "b44b8185-22ac-4684-8688-af2784621848"
      },
      "execution_count": 31,
      "outputs": [
        {
          "output_type": "stream",
          "name": "stdout",
          "text": [
            "1/1 [==============================] - 0s 16ms/step\n"
          ]
        },
        {
          "output_type": "execute_result",
          "data": {
            "text/plain": [
              "array([6])"
            ]
          },
          "metadata": {},
          "execution_count": 31
        }
      ]
    },
    {
      "cell_type": "code",
      "source": [
        "y_predict = np.argmax(model.predict(x_test), axis=-1)"
      ],
      "metadata": {
        "id": "WajpKUnrGQGM",
        "outputId": "62f64e3c-216b-4531-e32d-47a1590f29f1",
        "colab": {
          "base_uri": "https://localhost:8080/"
        }
      },
      "execution_count": 32,
      "outputs": [
        {
          "output_type": "stream",
          "name": "stdout",
          "text": [
            "313/313 [==============================] - 1s 2ms/step\n"
          ]
        }
      ]
    },
    {
      "cell_type": "code",
      "source": [
        "n = 5\n",
        " \n",
        "print('神經網路預測是:', y_predict[n])\n",
        "plt.imshow(x_test[n], cmap='Greys');"
      ],
      "metadata": {
        "colab": {
          "base_uri": "https://localhost:8080/",
          "height": 283
        },
        "id": "tGearoM2G5sy",
        "outputId": "b52dae22-eafe-4192-eacc-ecd56a9b71c6"
      },
      "execution_count": 33,
      "outputs": [
        {
          "output_type": "stream",
          "name": "stdout",
          "text": [
            "神經網路預測是: 6\n"
          ]
        },
        {
          "output_type": "display_data",
          "data": {
            "text/plain": [
              "<Figure size 432x288 with 1 Axes>"
            ],
            "image/png": "[encoded data removed]"
          },
          "metadata": {
            "needs_background": "light"
          }
        }
      ]
    },
    {
      "cell_type": "code",
      "source": [
        "score = model.evaluate(x_test, y_test)"
      ],
      "metadata": {
        "colab": {
          "base_uri": "https://localhost:8080/"
        },
        "id": "g-wNviscIz7h",
        "outputId": "76b87aca-9cc5-4b70-898f-f79818282077"
      },
      "execution_count": 34,
      "outputs": [
        {
          "output_type": "stream",
          "name": "stdout",
          "text": [
            "313/313 [==============================] - 1s 3ms/step - loss: 0.0466 - accuracy: 0.6922\n"
          ]
        }
      ]
    },
    {
      "cell_type": "code",
      "source": [
        "print(f\"loss: {score[0]}\")\n",
        "print(f\"正確率: {score[1]*100:.2f}%\")"
      ],
      "metadata": {
        "colab": {
          "base_uri": "https://localhost:8080/"
        },
        "id": "__mS_xlbI2Zn",
        "outputId": "5eabe634-a0ef-4a57-82bf-b35bf9dfc8cd"
      },
      "execution_count": 35,
      "outputs": [
        {
          "output_type": "stream",
          "name": "stdout",
          "text": [
            "loss: 0.04664399102330208\n",
            "正確率: 69.22%\n"
          ]
        }
      ]
    },
    {
      "cell_type": "markdown",
      "source": [
        "### 6. 更酷炫的互動呈現"
      ],
      "metadata": {
        "id": "xurPsh8CHSrz"
      }
    },
    {
      "cell_type": "markdown",
      "source": [
        "我們先來準備標籤資料的中英文對照"
      ],
      "metadata": {
        "id": "F1GsGFMvHW4t"
      }
    },
    {
      "cell_type": "code",
      "metadata": {
        "id": "tzVJpLQz7L8u"
      },
      "source": [
        "from ipywidgets import interact_manual"
      ],
      "execution_count": 36,
      "outputs": []
    },
    {
      "cell_type": "code",
      "metadata": {
        "id": "-iDHmLOs7L8u"
      },
      "source": [
        "class_name = ['飛機', '汽車', '鳥', '貓', '鹿', '狗', '青蛙', '馬', '船', '卡車']"
      ],
      "execution_count": 37,
      "outputs": []
    },
    {
      "cell_type": "code",
      "source": [
        "def test(測試編號):\n",
        "    plt.imshow(x_test[測試編號], cmap='Greys')\n",
        "    print('神經網路判斷為:', class_name[y_predict[測試編號]])"
      ],
      "metadata": {
        "id": "D7RYnjjoHz3F"
      },
      "execution_count": 38,
      "outputs": []
    },
    {
      "cell_type": "code",
      "metadata": {
        "id": "BGCogG2Q7L8u",
        "colab": {
          "base_uri": "https://localhost:8080/",
          "height": 347,
          "referenced_widgets": [
            "97526af26b6c40189141a80918095710",
            "f08d14252fd64653a96328b49c86228e",
            "02f4a66af301451eb5d18f76e1063862",
            "cece2c5c9a1e4c8abcedcd822a7f826a",
            "70f0d0e47ae74b20b885b141dc58569f",
            "44dde57bfd734a4a82f8ba6d9c888bdb",
            "f9107b1d71f240809c1d1956dcaeac02",
            "e8a94d356f7646b0baab74b4d6779ddc",
            "aded5882c5bc4460ab8b1402801da57f",
            "cb884f8b33b14396b1e7fd482728778f"
          ]
        },
        "outputId": "6b5f0470-0ce4-4409-d2a2-0f4241d4ed62"
      },
      "source": [
        "interact_manual(test, 測試編號=(0, 9999));"
      ],
      "execution_count": 39,
      "outputs": [
        {
          "output_type": "display_data",
          "data": {
            "text/plain": [
              "interactive(children=(IntSlider(value=4999, description='測試編號', max=9999), Button(description='Run Interact', …"
            ],
            "application/vnd.jupyter.widget-view+json": {
              "version_major": 2,
              "version_minor": 0,
              "model_id": "97526af26b6c40189141a80918095710"
            }
          },
          "metadata": {}
        }
      ]
    },
    {
      "cell_type": "markdown",
      "source": [
        "到底測試資料整體的表現如何呢？我們可以給神經網路「總評量」。"
      ],
      "metadata": {
        "id": "r0tSU0SLNT2e"
      }
    },
    {
      "cell_type": "code",
      "source": [
        "score = model.evaluate(x_test, y_test)"
      ],
      "metadata": {
        "colab": {
          "base_uri": "https://localhost:8080/"
        },
        "id": "KaucpmamNUND",
        "outputId": "9353053b-b4bc-4902-fe2b-f5f88b02491c"
      },
      "execution_count": 40,
      "outputs": [
        {
          "output_type": "stream",
          "name": "stdout",
          "text": [
            "313/313 [==============================] - 1s 3ms/step - loss: 0.0466 - accuracy: 0.6922\n"
          ]
        }
      ]
    },
    {
      "cell_type": "code",
      "source": [
        "print(f\"loss: {score[0]}\")\n",
        "print(f\" 正確率 : {score[1]*100:.2f}%\")"
      ],
      "metadata": {
        "colab": {
          "base_uri": "https://localhost:8080/"
        },
        "id": "9p5wnfCYNVpx",
        "outputId": "38102a95-fb6e-422b-c0a6-b05b9481cc92"
      },
      "execution_count": 41,
      "outputs": [
        {
          "output_type": "stream",
          "name": "stdout",
          "text": [
            "loss: 0.04664399102330208\n",
            " 正確率 : 69.22%\n"
          ]
        }
      ]
    },
    {
      "cell_type": "code",
      "source": [],
      "metadata": {
        "id": "Ir1mDsaMNWoR"
      },
      "execution_count": null,
      "outputs": []
    }
  ]
}