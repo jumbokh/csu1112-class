{
  "nbformat": 4,
  "nbformat_minor": 0,
  "metadata": {
    "colab": {
      "provenance": [],
      "include_colab_link": true
    },
    "kernelspec": {
      "name": "python3",
      "display_name": "Python 3"
    },
    "language_info": {
      "name": "python"
    }
  },
  "cells": [
    {
      "cell_type": "markdown",
      "metadata": {
        "id": "view-in-github",
        "colab_type": "text"
      },
      "source": [
        "<a href=\"https://colab.research.google.com/github/jumbokh/csu1112-class/blob/main/notebooks/%E6%A9%9F%E5%99%A8%E5%AD%B8%E7%BF%92%E7%B7%B4%E7%BF%92.ipynb\" target=\"_parent\"><img src=\"https://colab.research.google.com/assets/colab-badge.svg\" alt=\"Open In Colab\"/></a>"
      ]
    },
    {
      "cell_type": "markdown",
      "metadata": {
        "id": "YVYefSQSxuZd"
      },
      "source": [
        "# **用sklearn做波士頓房價線性回歸**"
      ]
    },
    {
      "cell_type": "markdown",
      "metadata": {
        "id": "Y7aGgUi7vDl7"
      },
      "source": [
        "**參考資料** \n",
        "##政治大學線上課程<成為python數據分析達人的第一門課>\n",
        "![](https://ctld.video.nccu.edu.tw/sysdata/folder/f6ccb5a1c22acfbf/51ea_l.jpg)\n",
        "##<機器學習的數學>\n",
        "![](https://im1.book.com.tw/image/getImage?i=https://www.books.com.tw/img/001/084/60/0010846042.jpg&v=5e131a47&w=348&h=348)\n"
      ]
    },
    {
      "cell_type": "markdown",
      "metadata": {
        "id": "TeSs6QLZyC-O"
      },
      "source": [
        "##**1. 前置練習--畫直線** <br>\n",
        "  先自己創建一組線性二維數據，且自己設定y=mx+b的m與b <br>\n",
        "  再用matplotlib做直線\n"
      ]
    },
    {
      "cell_type": "code",
      "metadata": {
        "id": "hy0L9_uREnOL",
        "colab": {
          "base_uri": "https://localhost:8080/",
          "height": 283
        },
        "outputId": "e300f957-8a8c-4e88-a346-d6ff9444d900"
      },
      "source": [
        "import numpy as np   #引入numpy資源庫\n",
        "import matplotlib.pyplot as plt  #引入matplotlib資源庫\n",
        "x=np.linspace(0,5,50)  #x軸在0-5之間產生50個點\n",
        "y=1.5*x+0.8  #斜率設1.5\n",
        "plt.scatter(x,y) # 下圖藍色點狀圖\n",
        "plt.plot(x,y,'r') # 直線形式(紅色)\n"
      ],
      "execution_count": null,
      "outputs": [
        {
          "output_type": "execute_result",
          "data": {
            "text/plain": [
              "[<matplotlib.lines.Line2D at 0x7f02c337c1d0>]"
            ]
          },
          "metadata": {},
          "execution_count": 2
        },
        {
          "output_type": "display_data",
          "data": {
            "image/png": "[encoded data removed]",
            "text/plain": [
              "<Figure size 432x288 with 1 Axes>"
            ]
          },
          "metadata": {
            "needs_background": "light"
          }
        }
      ]
    },
    {
      "cell_type": "markdown",
      "metadata": {
        "id": "T-vo2HeU4UQS"
      },
      "source": [
        "###**2.  前置練習--加入噪點**<br>\n",
        "##因為真實世界的數據不會如上圖，加入噪點產生隨機數據"
      ]
    },
    {
      "cell_type": "code",
      "metadata": {
        "colab": {
          "base_uri": "https://localhost:8080/",
          "height": 283
        },
        "id": "gb7e2zqT3lQi",
        "outputId": "daef62a8-2688-4200-e845-9387635e1417"
      },
      "source": [
        "y1=1.5*x+0.8+np.random.randn(50) # 因為x軸有50個點，每個點都要加上偏移，所以加上50個隨機偏移\n",
        "plt.scatter(x,y1)"
      ],
      "execution_count": null,
      "outputs": [
        {
          "output_type": "execute_result",
          "data": {
            "text/plain": [
              "<matplotlib.collections.PathCollection at 0x7f02c3352f90>"
            ]
          },
          "metadata": {},
          "execution_count": 3
        },
        {
          "output_type": "display_data",
          "data": {
            "image/png": "[encoded data removed]",
            "text/plain": [
              "<Figure size 432x288 with 1 Axes>"
            ]
          },
          "metadata": {
            "needs_background": "light"
          }
        }
      ]
    },
    {
      "cell_type": "markdown",
      "metadata": {
        "id": "wUpNsCHzxeDM"
      },
      "source": []
    },
    {
      "cell_type": "markdown",
      "metadata": {
        "id": "mL6izw1Ix9oy"
      },
      "source": [
        "#**3.  Sklearn 把X軸數據從50x1改成1x50**"
      ]
    },
    {
      "cell_type": "code",
      "metadata": {
        "id": "ZHgyvYdv1Kmp"
      },
      "source": [
        "from sklearn.linear_model import LinearRegression\n",
        "regr = LinearRegression()\n",
        "X= x.reshape(50,1)"
      ],
      "execution_count": null,
      "outputs": []
    },
    {
      "cell_type": "code",
      "metadata": {
        "colab": {
          "base_uri": "https://localhost:8080/"
        },
        "id": "gQiai-vd0nGb",
        "outputId": "d73d63d6-4cbf-4ddd-b660-17cec992611b"
      },
      "source": [
        "x"
      ],
      "execution_count": null,
      "outputs": [
        {
          "output_type": "execute_result",
          "data": {
            "text/plain": [
              "array([0.        , 0.10204082, 0.20408163, 0.30612245, 0.40816327,\n",
              "       0.51020408, 0.6122449 , 0.71428571, 0.81632653, 0.91836735,\n",
              "       1.02040816, 1.12244898, 1.2244898 , 1.32653061, 1.42857143,\n",
              "       1.53061224, 1.63265306, 1.73469388, 1.83673469, 1.93877551,\n",
              "       2.04081633, 2.14285714, 2.24489796, 2.34693878, 2.44897959,\n",
              "       2.55102041, 2.65306122, 2.75510204, 2.85714286, 2.95918367,\n",
              "       3.06122449, 3.16326531, 3.26530612, 3.36734694, 3.46938776,\n",
              "       3.57142857, 3.67346939, 3.7755102 , 3.87755102, 3.97959184,\n",
              "       4.08163265, 4.18367347, 4.28571429, 4.3877551 , 4.48979592,\n",
              "       4.59183673, 4.69387755, 4.79591837, 4.89795918, 5.        ])"
            ]
          },
          "metadata": {},
          "execution_count": 6
        }
      ]
    },
    {
      "cell_type": "code",
      "metadata": {
        "colab": {
          "base_uri": "https://localhost:8080/"
        },
        "id": "egi5XTHt0pkp",
        "outputId": "a6807a52-8487-4ce2-fedc-36a04d8d814e"
      },
      "source": [
        "X"
      ],
      "execution_count": null,
      "outputs": [
        {
          "output_type": "execute_result",
          "data": {
            "text/plain": [
              "array([[0.        ],\n",
              "       [0.10204082],\n",
              "       [0.20408163],\n",
              "       [0.30612245],\n",
              "       [0.40816327],\n",
              "       [0.51020408],\n",
              "       [0.6122449 ],\n",
              "       [0.71428571],\n",
              "       [0.81632653],\n",
              "       [0.91836735],\n",
              "       [1.02040816],\n",
              "       [1.12244898],\n",
              "       [1.2244898 ],\n",
              "       [1.32653061],\n",
              "       [1.42857143],\n",
              "       [1.53061224],\n",
              "       [1.63265306],\n",
              "       [1.73469388],\n",
              "       [1.83673469],\n",
              "       [1.93877551],\n",
              "       [2.04081633],\n",
              "       [2.14285714],\n",
              "       [2.24489796],\n",
              "       [2.34693878],\n",
              "       [2.44897959],\n",
              "       [2.55102041],\n",
              "       [2.65306122],\n",
              "       [2.75510204],\n",
              "       [2.85714286],\n",
              "       [2.95918367],\n",
              "       [3.06122449],\n",
              "       [3.16326531],\n",
              "       [3.26530612],\n",
              "       [3.36734694],\n",
              "       [3.46938776],\n",
              "       [3.57142857],\n",
              "       [3.67346939],\n",
              "       [3.7755102 ],\n",
              "       [3.87755102],\n",
              "       [3.97959184],\n",
              "       [4.08163265],\n",
              "       [4.18367347],\n",
              "       [4.28571429],\n",
              "       [4.3877551 ],\n",
              "       [4.48979592],\n",
              "       [4.59183673],\n",
              "       [4.69387755],\n",
              "       [4.79591837],\n",
              "       [4.89795918],\n",
              "       [5.        ]])"
            ]
          },
          "metadata": {},
          "execution_count": 7
        }
      ]
    },
    {
      "cell_type": "markdown",
      "metadata": {
        "id": "HeeeDHmTUm0l"
      },
      "source": [
        "# **4. 利用fit功能進行線性回歸**"
      ]
    },
    {
      "cell_type": "code",
      "metadata": {
        "colab": {
          "base_uri": "https://localhost:8080/"
        },
        "id": "sFvuU1IxTs1d",
        "outputId": "f0c1cee6-3392-4d52-f402-0cbd6a57c874"
      },
      "source": [
        "regr.fit(X,y1)\n",
        "#regr為前面步驟調用的線性回歸方法，就有點像自己給有線性回歸功能的寶可夢自己取名字\n",
        "# X為輸入資料，y為正確答案"
      ],
      "execution_count": null,
      "outputs": [
        {
          "output_type": "execute_result",
          "data": {
            "text/plain": [
              "LinearRegression(copy_X=True, fit_intercept=True, n_jobs=None, normalize=False)"
            ]
          },
          "metadata": {},
          "execution_count": 8
        }
      ]
    },
    {
      "cell_type": "markdown",
      "metadata": {
        "id": "rl6k7bzSWgXh"
      },
      "source": [
        "# **5. 利用建立好的regr開始進行預測**"
      ]
    },
    {
      "cell_type": "code",
      "metadata": {
        "id": "62uVUWBpUfHO"
      },
      "source": [
        "Y = regr.predict(X)\n",
        "# f(x) = y1 預設的輸入x和正確答案y\n",
        "# x 進行矩陣行列轉換變成X\n",
        "# 線性回歸尋找X和y1關係,把建立關係式模型寫入regr\n",
        "# 利用建立好的regr模型，預測X輸入後的結果，並把結果命為Y，regr(X)=Y"
      ],
      "execution_count": null,
      "outputs": []
    },
    {
      "cell_type": "markdown",
      "metadata": {
        "id": "j1lHfk7GYIQU"
      },
      "source": [
        "# **6. 對比正確答案和線性預測結果**"
      ]
    },
    {
      "cell_type": "code",
      "metadata": {
        "colab": {
          "base_uri": "https://localhost:8080/",
          "height": 283
        },
        "id": "Mc8rkZPyYb3J",
        "outputId": "b980954c-394c-4038-955d-3b6fad5988e3"
      },
      "source": [
        "plt.scatter(x,y1)# 正確答案\n",
        "plt.plot(x,1.5*x+0.8,'green')# 綠色線為預設線性方程\n",
        "plt.plot(x,Y,'blue') #藍色線為線性回歸結果"
      ],
      "execution_count": null,
      "outputs": [
        {
          "output_type": "execute_result",
          "data": {
            "text/plain": [
              "[<matplotlib.lines.Line2D at 0x7f02b2313150>]"
            ]
          },
          "metadata": {},
          "execution_count": 10
        },
        {
          "output_type": "display_data",
          "data": {
            "image/png": "[encoded data removed]",
            "text/plain": [
              "<Figure size 432x288 with 1 Axes>"
            ]
          },
          "metadata": {
            "needs_background": "light"
          }
        }
      ]
    },
    {
      "cell_type": "markdown",
      "metadata": {
        "id": "S2M9xqJRaCt1"
      },
      "source": [
        "# **7. 避免overfit 進行數據分割練習**\n",
        "![](https://gblobscdn.gitbook.com/assets%2F-LvBP1svpACTB1R1x_U4%2F-LvNWUoWieQqaGmU_gl9%2F-LvNoby-llz4QzAK15nL%2Fimage.png?alt=media&token=41720ce9-bb66-4419-9bd8-640abf1fc415)\n",
        "<br>\n",
        "圖片來源:Sagar Sharma / Towards Data Science\n",
        "\n",
        "overfit就像考試作弊背答案沒有真正理解，<br>雖然劃出來預測線涵蓋所有數據，但一旦脫離預測的數據<br>\n",
        "輸入其他數據進行預測時跑出來的就會失真<br>\n",
        "為了避免被答案，就要分割數據，把一部分的數據拿來考建立好的模型"
      ]
    },
    {
      "cell_type": "markdown",
      "metadata": {
        "id": "2l0tsg-weM0p"
      },
      "source": [
        "# **8. 數據分割練習**"
      ]
    },
    {
      "cell_type": "code",
      "metadata": {
        "colab": {
          "base_uri": "https://localhost:8080/",
          "height": 283
        },
        "id": "TPEJeoidgUNW",
        "outputId": "a3308be2-5a99-4e26-f195-2c470ee71066"
      },
      "source": [
        "x=np.linspace(0,5,100)\n",
        "y=1.2*x+0.9+0.5*np.random.randn(100)\n",
        "plt.scatter(x,y)\n",
        "# 先產生100筆含有噪點的數據"
      ],
      "execution_count": null,
      "outputs": [
        {
          "output_type": "execute_result",
          "data": {
            "text/plain": [
              "<matplotlib.collections.PathCollection at 0x7f02b2306610>"
            ]
          },
          "metadata": {},
          "execution_count": 11
        },
        {
          "output_type": "display_data",
          "data": {
            "image/png": "[encoded data removed]",
            "text/plain": [
              "<Figure size 432x288 with 1 Axes>"
            ]
          },
          "metadata": {
            "needs_background": "light"
          }
        }
      ]
    },
    {
      "cell_type": "code",
      "metadata": {
        "id": "_D5AwrT0eMYx"
      },
      "source": [
        "from sklearn.model_selection import train_test_split\n",
        "# 引入數據分割模組"
      ],
      "execution_count": null,
      "outputs": []
    },
    {
      "cell_type": "markdown",
      "metadata": {
        "id": "yQMnZzXtzCDO"
      },
      "source": [
        "![](https://scontent.fkhh5-1.fna.fbcdn.net/v/t1.6435-9/242241128_10228130182464981_6492835737101843241_n.jpg?_nc_cat=103&_nc_rgb565=1&ccb=1-5&_nc_sid=0debeb&_nc_ohc=rj5WiWoGFIUAX_yxzoV&_nc_ht=scontent.fkhh5-1.fna&oh=650cd96d3ae8f0317c0eb424d1a94b13&oe=6175B7FE)"
      ]
    },
    {
      "cell_type": "code",
      "metadata": {
        "id": "8PmtLPcKfKkD"
      },
      "source": [
        "x_train, x_test, y_train, y_test = train_test_split(x,y,test_size = 0.2,random_state=87)\n",
        "#rain_test_split預設將資料分為 x_train訓練用, x_test測試用, y_train訓練用, y_test測試用\n",
        "#,0.2表示20%分給test，random state為讓隨機狀態產生標籤，指定隨便一個數字，避免每次跑出來不一樣"
      ],
      "execution_count": null,
      "outputs": []
    },
    {
      "cell_type": "code",
      "metadata": {
        "colab": {
          "base_uri": "https://localhost:8080/"
        },
        "id": "gbJgCsa-twqT",
        "outputId": "054054a1-8bb1-46ea-804d-55bca87b44cc"
      },
      "source": [
        "len(x_train) # 確認訓練數據分得80筆\n"
      ],
      "execution_count": null,
      "outputs": [
        {
          "output_type": "execute_result",
          "data": {
            "text/plain": [
              "80"
            ]
          },
          "metadata": {},
          "execution_count": 14
        }
      ]
    },
    {
      "cell_type": "code",
      "metadata": {
        "colab": {
          "base_uri": "https://localhost:8080/"
        },
        "id": "SQqfSoiOt6I6",
        "outputId": "f8dcb54d-e50e-4deb-e9b2-a72aa39fec31"
      },
      "source": [
        "len(x_test) #確認測試數據分得20筆"
      ],
      "execution_count": null,
      "outputs": [
        {
          "output_type": "execute_result",
          "data": {
            "text/plain": [
              "20"
            ]
          },
          "metadata": {},
          "execution_count": 15
        }
      ]
    },
    {
      "cell_type": "code",
      "metadata": {
        "id": "Z1_sJVrauRIK"
      },
      "source": [
        "x_train = x_train.reshape(80,1)\n",
        "# 把80筆變成一維陣列 80列*1行"
      ],
      "execution_count": null,
      "outputs": []
    },
    {
      "cell_type": "code",
      "metadata": {
        "id": "dwSA7pMfuoEr"
      },
      "source": [
        "x_test = x_test.reshape(20,1)\n",
        "#把20筆變成一維陣列 20列*1行"
      ],
      "execution_count": null,
      "outputs": []
    },
    {
      "cell_type": "code",
      "metadata": {
        "colab": {
          "base_uri": "https://localhost:8080/"
        },
        "id": "X2juI4gcu0o1",
        "outputId": "18fe1efa-baf5-4814-c220-f081f6acd193"
      },
      "source": [
        "x_test\n",
        "#確認一下"
      ],
      "execution_count": null,
      "outputs": [
        {
          "output_type": "execute_result",
          "data": {
            "text/plain": [
              "array([[0.80808081],\n",
              "       [4.09090909],\n",
              "       [4.29292929],\n",
              "       [1.61616162],\n",
              "       [1.96969697],\n",
              "       [1.26262626],\n",
              "       [1.31313131],\n",
              "       [1.46464646],\n",
              "       [3.28282828],\n",
              "       [0.35353535],\n",
              "       [4.24242424],\n",
              "       [5.        ],\n",
              "       [2.92929293],\n",
              "       [3.53535354],\n",
              "       [4.64646465],\n",
              "       [3.73737374],\n",
              "       [0.15151515],\n",
              "       [0.        ],\n",
              "       [2.22222222],\n",
              "       [1.66666667]])"
            ]
          },
          "metadata": {},
          "execution_count": 18
        }
      ]
    },
    {
      "cell_type": "code",
      "metadata": {
        "colab": {
          "base_uri": "https://localhost:8080/"
        },
        "id": "0uzkAYxavdPF",
        "outputId": "1a4369ee-eb5d-4c60-f3ad-4b3c2c55b984"
      },
      "source": [
        "regr = LinearRegression()\n",
        "regr.fit(x_train,y_train)\n",
        "# 一樣創建線性回歸模組，並訓練該80筆數據"
      ],
      "execution_count": null,
      "outputs": [
        {
          "output_type": "execute_result",
          "data": {
            "text/plain": [
              "LinearRegression(copy_X=True, fit_intercept=True, n_jobs=None, normalize=False)"
            ]
          },
          "metadata": {},
          "execution_count": 19
        }
      ]
    },
    {
      "cell_type": "markdown",
      "metadata": {
        "id": "3dEK0gkX0lBN"
      },
      "source": [
        "# **9. 查看regr線性回歸 預測結果(藍線) 預設函數(綠)**"
      ]
    },
    {
      "cell_type": "code",
      "metadata": {
        "colab": {
          "base_uri": "https://localhost:8080/",
          "height": 283
        },
        "id": "foeLs6mgv_ln",
        "outputId": "63843dfd-0525-4713-c6b1-3e95451166c6"
      },
      "source": [
        "plt.scatter(x_train,y_train)\n",
        "plt.plot(x_train,regr.predict(x_train),'blue')\n",
        "plt.plot(x,1.2*x+0.9,'green')"
      ],
      "execution_count": null,
      "outputs": [
        {
          "output_type": "execute_result",
          "data": {
            "text/plain": [
              "[<matplotlib.lines.Line2D at 0x7f02b21fab10>]"
            ]
          },
          "metadata": {},
          "execution_count": 20
        },
        {
          "output_type": "display_data",
          "data": {
            "image/png": "[encoded data removed]",
            "text/plain": [
              "<Figure size 432x288 with 1 Axes>"
            ]
          },
          "metadata": {
            "needs_background": "light"
          }
        }
      ]
    },
    {
      "cell_type": "markdown",
      "metadata": {
        "id": "_6bxSh33xAyl"
      },
      "source": [
        "# **10. x_test(考題)輸入建立好的regr模型**"
      ]
    },
    {
      "cell_type": "code",
      "metadata": {
        "colab": {
          "base_uri": "https://localhost:8080/",
          "height": 283
        },
        "id": "4cCf9FOcwHgx",
        "outputId": "8061ef45-d7b5-45fa-cd8a-580e718b4db3"
      },
      "source": [
        "plt.scatter(x_test,y_test) # 問題與正確答案(藍點)\n",
        "plt.plot(x_test, regr.predict(x_test),'r') # 預測出來的回歸線(考試結果)\n",
        "plt.plot(x,1.2*x+0.9,'green') # 正確答案回歸線\n"
      ],
      "execution_count": null,
      "outputs": [
        {
          "output_type": "execute_result",
          "data": {
            "text/plain": [
              "[<matplotlib.lines.Line2D at 0x7f02b2229390>]"
            ]
          },
          "metadata": {},
          "execution_count": 21
        },
        {
          "output_type": "display_data",
          "data": {
            "image/png": "[encoded data removed]",
            "text/plain": [
              "<Figure size 432x288 with 1 Axes>"
            ]
          },
          "metadata": {
            "needs_background": "light"
          }
        }
      ]
    },
    {
      "cell_type": "markdown",
      "metadata": {
        "id": "ThoyaxzE4U3X"
      },
      "source": [
        "# brief summary\n",
        " **經過數據分割後，跑出來的預測回歸線幾乎貼合正確答案**\n"
      ]
    },
    {
      "cell_type": "markdown",
      "metadata": {
        "id": "fpNRT4Dn4ttQ"
      },
      "source": [
        "# **實際數據_波士頓房價分析**\n",
        "![](https://cdn.pixabay.com/photo/2018/11/25/19/07/boston-3838110_1280.jpg)"
      ]
    },
    {
      "cell_type": "markdown",
      "metadata": {
        "id": "akWBPeOBfqYS"
      },
      "source": [
        " **1. 使用sklearn進行線性回歸，並調用內含的房價數據庫** "
      ]
    },
    {
      "cell_type": "code",
      "metadata": {
        "id": "PbREZiQw7GNk"
      },
      "source": [
        "from sklearn.linear_model import LinearRegression\n",
        "from sklearn.model_selection import train_test_split\n",
        "from sklearn.datasets import load_boston"
      ],
      "execution_count": null,
      "outputs": []
    },
    {
      "cell_type": "markdown",
      "metadata": {
        "id": "u3z0QcCTgaxd"
      },
      "source": []
    },
    {
      "cell_type": "code",
      "metadata": {
        "id": "cuDXiL4t7nU_"
      },
      "source": [
        "boston = load_boston()\n"
      ],
      "execution_count": null,
      "outputs": []
    },
    {
      "cell_type": "markdown",
      "metadata": {
        "id": "dW-8eYv9gSMO"
      },
      "source": [
        "**2. 查看數據庫內的標籤**"
      ]
    },
    {
      "cell_type": "code",
      "metadata": {
        "colab": {
          "base_uri": "https://localhost:8080/"
        },
        "id": "3u0PE3Wd72Yf",
        "outputId": "9e99d0a4-ae81-4f4f-f768-acc60dfc1ed3"
      },
      "source": [
        "boston.feature_names"
      ],
      "execution_count": null,
      "outputs": [
        {
          "output_type": "execute_result",
          "data": {
            "text/plain": [
              "array(['CRIM', 'ZN', 'INDUS', 'CHAS', 'NOX', 'RM', 'AGE', 'DIS', 'RAD',\n",
              "       'TAX', 'PTRATIO', 'B', 'LSTAT'], dtype='<U7')"
            ]
          },
          "metadata": {},
          "execution_count": 24
        }
      ]
    },
    {
      "cell_type": "markdown",
      "metadata": {
        "id": "0iP_OxCWP-DU"
      },
      "source": [
        "CRIM\t城鎮人均犯罪率<br> \n",
        "ZN\t住宅用地超過 25000 sq.ft. 的比例<br> \n",
        "AGE\t1940年之前建成的自用房屋比例<br> \n",
        "DIS\t到波士頓5個中心區域的加權距離<br> \n",
        "INDUS\t城鎮非零售商用土地的比例<br> \n",
        "RAD\t輻射性公路的靠近指數<br> \n",
        "TAX\t每10000美元的全值財產稅率<br> \n",
        "CHAS\t邊界是河流為1，否則0<br> \n",
        "NOX\t一氧化氮濃度<br> \n",
        "PTRATIO\t城鎮師生比例<br> \n",
        "RM\t住宅平均房間數<br> \n",
        "LSTAT\t人口中地位低下者的比例"
      ]
    },
    {
      "cell_type": "markdown",
      "metadata": {
        "id": "WLSivWwggdSG"
      },
      "source": [
        "**3. 將要訓練的數據命為X，真實房價為Y**"
      ]
    },
    {
      "cell_type": "code",
      "metadata": {
        "id": "H-jvHAwb7-15"
      },
      "source": [
        "X = boston.data\n",
        "Y = boston.target # 內含正確答案"
      ],
      "execution_count": null,
      "outputs": []
    },
    {
      "cell_type": "code",
      "metadata": {
        "colab": {
          "base_uri": "https://localhost:8080/"
        },
        "id": "WQ8ga-IgDOoz",
        "outputId": "a8468809-7c38-4877-be93-e618c52397d8"
      },
      "source": [
        "len(X) #查看數據筆數"
      ],
      "execution_count": null,
      "outputs": [
        {
          "output_type": "execute_result",
          "data": {
            "text/plain": [
              "506"
            ]
          },
          "metadata": {},
          "execution_count": 26
        }
      ]
    },
    {
      "cell_type": "code",
      "metadata": {
        "colab": {
          "base_uri": "https://localhost:8080/"
        },
        "id": "m6FUJj3kDWFr",
        "outputId": "c64f65cd-ab93-4c09-b7fb-26681a29ac01"
      },
      "source": [
        "len(Y)"
      ],
      "execution_count": null,
      "outputs": [
        {
          "output_type": "execute_result",
          "data": {
            "text/plain": [
              "506"
            ]
          },
          "metadata": {},
          "execution_count": 27
        }
      ]
    },
    {
      "cell_type": "markdown",
      "metadata": {
        "id": "8y8D_Y5Ug_gV"
      },
      "source": [
        "**4. 將數據分割20%給Test**"
      ]
    },
    {
      "cell_type": "code",
      "metadata": {
        "id": "KXrjyO2ADfvs"
      },
      "source": [
        "x_train, x_test, y_train, y_test = train_test_split(X,Y,test_size = 0.2,random_state=87)"
      ],
      "execution_count": null,
      "outputs": []
    },
    {
      "cell_type": "markdown",
      "metadata": {
        "id": "2SDz6QcahMtU"
      },
      "source": [
        "**5. 線性回歸待訓練數據**"
      ]
    },
    {
      "cell_type": "code",
      "metadata": {
        "colab": {
          "base_uri": "https://localhost:8080/"
        },
        "id": "tv_Z8dzlDrY8",
        "outputId": "55607f5d-d68d-4bd3-ce6f-980e455a7a44"
      },
      "source": [
        "regr = LinearRegression()\n",
        "regr.fit(x_train,y_train)"
      ],
      "execution_count": null,
      "outputs": [
        {
          "output_type": "execute_result",
          "data": {
            "text/plain": [
              "LinearRegression(copy_X=True, fit_intercept=True, n_jobs=None, normalize=False)"
            ]
          },
          "metadata": {},
          "execution_count": 29
        }
      ]
    },
    {
      "cell_type": "markdown",
      "metadata": {
        "id": "66rX_mnzhZ1l"
      },
      "source": [
        "**6. 訓練後將測試用x輸入regr模型，輸出predict**"
      ]
    },
    {
      "cell_type": "code",
      "metadata": {
        "id": "JC5RKYxSD18T"
      },
      "source": [
        "y_predict = regr.predict(x_test)"
      ],
      "execution_count": null,
      "outputs": []
    },
    {
      "cell_type": "markdown",
      "metadata": {
        "id": "i9VDGm4ghqB9"
      },
      "source": [
        "**7. 若預測出來的y_predict 和真實的y_test數據極為相近<br>散佈圖會呈現對角線**"
      ]
    },
    {
      "cell_type": "code",
      "metadata": {
        "id": "AduzMlIYEBcb"
      },
      "source": [
        "# 畫紅色對角線\n"
      ],
      "execution_count": null,
      "outputs": []
    },
    {
      "cell_type": "markdown",
      "metadata": {
        "id": "4dsaV54-LIwQ"
      },
      "source": [
        "**8. 列表編號技巧  enumerate**\n",
        "\n"
      ]
    },
    {
      "cell_type": "code",
      "metadata": {
        "colab": {
          "base_uri": "https://localhost:8080/"
        },
        "id": "yyMTOmDDL8Gk",
        "outputId": "38eed333-3020-4b3b-f1a5-f0a2495fb9d1"
      },
      "source": [
        "L =['A','B','C','D']\n",
        "list(enumerate(L))"
      ],
      "execution_count": null,
      "outputs": [
        {
          "output_type": "execute_result",
          "data": {
            "text/plain": [
              "[(0, 'A'), (1, 'B'), (2, 'C'), (3, 'D')]"
            ]
          },
          "metadata": {},
          "execution_count": 32
        }
      ]
    },
    {
      "cell_type": "code",
      "metadata": {
        "colab": {
          "base_uri": "https://localhost:8080/"
        },
        "id": "bYiMYRJ4MjY0",
        "outputId": "17277617-9ceb-465c-e231-c84e7e67f11a"
      },
      "source": [
        "for i,s in enumerate(L):\n",
        "  print(i+1,s)\n"
      ],
      "execution_count": null,
      "outputs": [
        {
          "output_type": "stream",
          "name": "stdout",
          "text": [
            "1 A\n",
            "2 B\n",
            "3 C\n",
            "4 D\n"
          ]
        }
      ]
    },
    {
      "cell_type": "markdown",
      "metadata": {
        "id": "BsyTrZjpNCmc"
      },
      "source": [
        "**9. 畫多張圖技巧**\n",
        "subplot(a,b,i) 一次要畫a列b行共a*b 張圖\n",
        "i 為第幾張圖"
      ]
    },
    {
      "cell_type": "markdown",
      "metadata": {
        "id": "Z9OLH95bNaVU"
      },
      "source": [
        " **10. 利用subplot和enumberate技巧來一次對比各項特徵和房價之間的關係**"
      ]
    },
    {
      "cell_type": "code",
      "metadata": {
        "colab": {
          "base_uri": "https://localhost:8080/",
          "height": 729
        },
        "id": "AbAgVD0wJXf0",
        "outputId": "ce5d4c85-aaf7-402c-897e-2b0918a668d6"
      },
      "source": [
        "plt.figure(figsize=(8,10))\n",
        "for i,feature in enumerate(boston.feature_names):\n",
        "  plt.subplot(5,3,i+1)\n",
        "  plt.scatter(X[:,i],Y,s=1)\n",
        "  plt.ylabel(\"price\")\n",
        "  plt.xlabel(feature)\n",
        "  plt.tight_layout()"
      ],
      "execution_count": null,
      "outputs": [
        {
          "output_type": "display_data",
          "data": {
            "image/png": "[encoded data removed]",
            "text/plain": [
              "<Figure size 576x720 with 13 Axes>"
            ]
          },
          "metadata": {
            "needs_background": "light"
          }
        }
      ]
    },
    {
      "cell_type": "markdown",
      "metadata": {
        "id": "IuKApKDvcQM0"
      },
      "source": []
    }
  ]
}