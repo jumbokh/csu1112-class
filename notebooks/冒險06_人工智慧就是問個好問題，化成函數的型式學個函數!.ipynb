{
  "nbformat": 4,
  "nbformat_minor": 0,
  "metadata": {
    "colab": {
      "name": "冒險6.ipynb",
      "provenance": [],
      "include_colab_link": true
    },
    "kernelspec": {
      "name": "python3",
      "display_name": "Python 3"
    },
    "language_info": {
      "name": "python"
    }
  },
  "cells": [
    {
      "cell_type": "markdown",
      "metadata": {
        "id": "view-in-github",
        "colab_type": "text"
      },
      "source": [
        "<a href=\"https://colab.research.google.com/github/jumbokh/csu1112-class/blob/main/notebooks/%E5%86%92%E9%9A%AA06_%E4%BA%BA%E5%B7%A5%E6%99%BA%E6%85%A7%E5%B0%B1%E6%98%AF%E5%95%8F%E5%80%8B%E5%A5%BD%E5%95%8F%E9%A1%8C%EF%BC%8C%E5%8C%96%E6%88%90%E5%87%BD%E6%95%B8%E7%9A%84%E5%9E%8B%E5%BC%8F%E5%AD%B8%E5%80%8B%E5%87%BD%E6%95%B8!.ipynb\" target=\"_parent\"><img src=\"https://colab.research.google.com/assets/colab-badge.svg\" alt=\"Open In Colab\"/></a>"
      ]
    },
    {
      "cell_type": "code",
      "execution_count": 1,
      "metadata": {
        "id": "oO6NDJHbjZIt"
      },
      "outputs": [],
      "source": [
        "import numpy as np\n",
        "import matplotlib.pyplot as plt"
      ]
    },
    {
      "cell_type": "markdown",
      "source": [
        "## 純量(0階tensor)"
      ],
      "metadata": {
        "id": "UnQtco1lB5bQ"
      }
    },
    {
      "cell_type": "code",
      "source": [
        "x = np.array([[9], [4], [8], [7]])     #一維陣列建立"
      ],
      "metadata": {
        "id": "9zkvcHcLjwu4"
      },
      "execution_count": 2,
      "outputs": []
    },
    {
      "cell_type": "code",
      "source": [
        "x"
      ],
      "metadata": {
        "colab": {
          "base_uri": "https://localhost:8080/"
        },
        "id": "4feJbPBIklCK",
        "outputId": "8ccfe755-96c6-46e4-e0dc-a8927cbe048c"
      },
      "execution_count": 3,
      "outputs": [
        {
          "output_type": "execute_result",
          "data": {
            "text/plain": [
              "array([[9],\n",
              "       [4],\n",
              "       [8],\n",
              "       [7]])"
            ]
          },
          "metadata": {},
          "execution_count": 3
        }
      ]
    },
    {
      "cell_type": "code",
      "source": [
        "x.shape"
      ],
      "metadata": {
        "colab": {
          "base_uri": "https://localhost:8080/"
        },
        "id": "xb79QkMM_UAM",
        "outputId": "b0cf78e6-3040-4d60-c1cb-b24e2012fe1f"
      },
      "execution_count": 4,
      "outputs": [
        {
          "output_type": "execute_result",
          "data": {
            "text/plain": [
              "(4, 1)"
            ]
          },
          "metadata": {},
          "execution_count": 4
        }
      ]
    },
    {
      "cell_type": "markdown",
      "source": [
        "## 向量(1階tensor)"
      ],
      "metadata": {
        "id": "nNH-e9liYbFm"
      }
    },
    {
      "cell_type": "code",
      "source": [
        "x = np.array([[9, 4, 8 , 7], [8, 7, 4, 5]])  #二維陣列建立"
      ],
      "metadata": {
        "id": "B3UlBHrjAyFB"
      },
      "execution_count": 5,
      "outputs": []
    },
    {
      "cell_type": "code",
      "source": [
        "x"
      ],
      "metadata": {
        "colab": {
          "base_uri": "https://localhost:8080/"
        },
        "id": "mswSVV8TklWL",
        "outputId": "89fe6e67-cefc-4583-dd09-847bfeb177b9"
      },
      "execution_count": 6,
      "outputs": [
        {
          "output_type": "execute_result",
          "data": {
            "text/plain": [
              "array([[9, 4, 8, 7],\n",
              "       [8, 7, 4, 5]])"
            ]
          },
          "metadata": {},
          "execution_count": 6
        }
      ]
    },
    {
      "cell_type": "code",
      "source": [
        "x.shape"
      ],
      "metadata": {
        "colab": {
          "base_uri": "https://localhost:8080/"
        },
        "id": "eh6yfoDg_X1Q",
        "outputId": "11bb225e-bab6-43db-a60a-b4ad13c30c48"
      },
      "execution_count": 7,
      "outputs": [
        {
          "output_type": "execute_result",
          "data": {
            "text/plain": [
              "(2, 4)"
            ]
          },
          "metadata": {},
          "execution_count": 7
        }
      ]
    },
    {
      "cell_type": "markdown",
      "source": [
        "## 矩陣(2階tensor)"
      ],
      "metadata": {
        "id": "bJOkIJ7sYpLf"
      }
    },
    {
      "cell_type": "code",
      "source": [
        "# 矩陣\n",
        "a = x[0]\n",
        "b = x[1]"
      ],
      "metadata": {
        "id": "ZeF99aI0_nKZ"
      },
      "execution_count": 8,
      "outputs": []
    },
    {
      "cell_type": "code",
      "source": [
        "a"
      ],
      "metadata": {
        "colab": {
          "base_uri": "https://localhost:8080/"
        },
        "id": "mhiHfJBNBCE_",
        "outputId": "3e8cd5a5-f73c-4d6a-b423-6190d665293f"
      },
      "execution_count": 9,
      "outputs": [
        {
          "output_type": "execute_result",
          "data": {
            "text/plain": [
              "array([9, 4, 8, 7])"
            ]
          },
          "metadata": {},
          "execution_count": 9
        }
      ]
    },
    {
      "cell_type": "code",
      "source": [
        "a.reshape(2,2)"
      ],
      "metadata": {
        "colab": {
          "base_uri": "https://localhost:8080/"
        },
        "id": "afPKcYuTBGfL",
        "outputId": "b8794245-f761-4cad-ee46-be46dbd69e78"
      },
      "execution_count": 10,
      "outputs": [
        {
          "output_type": "execute_result",
          "data": {
            "text/plain": [
              "array([[9, 4],\n",
              "       [8, 7]])"
            ]
          },
          "metadata": {},
          "execution_count": 10
        }
      ]
    },
    {
      "cell_type": "code",
      "source": [
        "a = a.reshape(2,2)\n",
        "b = b.reshape(2,2)"
      ],
      "metadata": {
        "id": "8_e0r1qBBLxE"
      },
      "execution_count": 11,
      "outputs": []
    },
    {
      "cell_type": "code",
      "source": [
        "x = np.array([a,b])"
      ],
      "metadata": {
        "id": "NKDl4obRBULH"
      },
      "execution_count": 12,
      "outputs": []
    },
    {
      "cell_type": "code",
      "source": [
        "x"
      ],
      "metadata": {
        "colab": {
          "base_uri": "https://localhost:8080/"
        },
        "id": "0ALpCf4nBdAN",
        "outputId": "3bc7e022-48e5-47b5-d5b4-e2c2c145892c"
      },
      "execution_count": 13,
      "outputs": [
        {
          "output_type": "execute_result",
          "data": {
            "text/plain": [
              "array([[[9, 4],\n",
              "        [8, 7]],\n",
              "\n",
              "       [[8, 7],\n",
              "        [4, 5]]])"
            ]
          },
          "metadata": {},
          "execution_count": 13
        }
      ]
    },
    {
      "cell_type": "code",
      "source": [
        "x.shape"
      ],
      "metadata": {
        "colab": {
          "base_uri": "https://localhost:8080/"
        },
        "id": "flRPnXWUBe4v",
        "outputId": "ac2274d1-7ff0-4a92-8555-b6c7af707311"
      },
      "execution_count": 14,
      "outputs": [
        {
          "output_type": "execute_result",
          "data": {
            "text/plain": [
              "(2, 2, 2)"
            ]
          },
          "metadata": {},
          "execution_count": 14
        }
      ]
    },
    {
      "cell_type": "markdown",
      "source": [
        "## one hot encoding"
      ],
      "metadata": {
        "id": "z6glZirnBrvN"
      }
    },
    {
      "cell_type": "code",
      "source": [
        "#one hot encoding\n",
        "from tensorflow.keras.utils import to_categorical"
      ],
      "metadata": {
        "id": "LbMyOYikotn5"
      },
      "execution_count": 15,
      "outputs": []
    },
    {
      "cell_type": "code",
      "source": [
        "x=[0,1,2,3,4,5]"
      ],
      "metadata": {
        "id": "PdM0ZaUBxUsf"
      },
      "execution_count": 16,
      "outputs": []
    },
    {
      "cell_type": "code",
      "source": [
        "# 類別個數:6\n",
        "x_1 = to_categorical(x,6)\n",
        "x_1"
      ],
      "metadata": {
        "colab": {
          "base_uri": "https://localhost:8080/"
        },
        "id": "Lzm1CyOVx8oP",
        "outputId": "400da991-e6dc-46ba-8c60-6c673371af31"
      },
      "execution_count": 17,
      "outputs": [
        {
          "output_type": "execute_result",
          "data": {
            "text/plain": [
              "array([[1., 0., 0., 0., 0., 0.],\n",
              "       [0., 1., 0., 0., 0., 0.],\n",
              "       [0., 0., 1., 0., 0., 0.],\n",
              "       [0., 0., 0., 1., 0., 0.],\n",
              "       [0., 0., 0., 0., 1., 0.],\n",
              "       [0., 0., 0., 0., 0., 1.]], dtype=float32)"
            ]
          },
          "metadata": {},
          "execution_count": 17
        }
      ]
    }
  ]
}