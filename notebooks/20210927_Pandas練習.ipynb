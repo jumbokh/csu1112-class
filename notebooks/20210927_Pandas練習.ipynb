{
  "nbformat": 4,
  "nbformat_minor": 0,
  "metadata": {
    "colab": {
      "provenance": [],
      "include_colab_link": true
    },
    "kernelspec": {
      "name": "python3",
      "display_name": "Python 3"
    },
    "language_info": {
      "name": "python"
    }
  },
  "cells": [
    {
      "cell_type": "markdown",
      "metadata": {
        "id": "view-in-github",
        "colab_type": "text"
      },
      "source": [
        "<a href=\"https://colab.research.google.com/github/jumbokh/csu1112-class/blob/main/notebooks/20210927_Pandas%E7%B7%B4%E7%BF%92.ipynb\" target=\"_parent\"><img src=\"https://colab.research.google.com/assets/colab-badge.svg\" alt=\"Open In Colab\"/></a>"
      ]
    },
    {
      "cell_type": "markdown",
      "metadata": {
        "id": "24hFfNNtVztS"
      },
      "source": [
        "# 練習一\n",
        "\n",
        "產生一個測試用的DataFrame, 從底下字串中抽取中文姓名當索引。使用 randint 產生亂數成績。\n",
        "\n",
        "許淑軒、黃孟修、張維紹、王志玲、張瑋雲、彭穎夢、黃益如、吳穎竹、林曉宸、蔡筱孜、翁韻如、蕭有菱、孫珈丞、魏玟君、戴馨儀、金兆寧、林月昕、姚志遠、林琪珮、楊婉緯、陳鳳丞、羅佳芳、林怡君、劉鈺中、朱淑娟、張秋燕、汪珮瑜、夏政一、蔡佩威、高萱萍、曾桂心、王俊毅、莫亮竹、陳冠明、黃涵綸、張阿玄、吳哲維、黃玉生、殷其偉、周依萍、柯冠合、賴雅竹、黃淑玲、劉俊成、林培幸、陳岱迪、吳秉羽、廖翠柏、李美任、郭怡臻、盧佩怡、杜淑娟、別雨岑、陳柏城、黃法夫、張雅婷、詹文賢、林怡信、陳中城、許淑娟、王瑋倫、李俊倫、鄭佳穎、賁憲佐、吳偉倫、賴鴻駿、黃馨慧、許曜宇、張嬌紋、許涵光、廖駿漢、陸富一、邱怡婷、朱軍吟、涂涵峰、懷珍水、牛嘉豪、廖婉哲、黃之明、劉佳芳、潘佩璇、張麗雯、倪建年、高奇慧、楊安月、陳裕伶、幸定學、杜萬丞、黃勳方、林秀凱、方志偉、李俊宏、劉玉婷、姚綠良、郭益海、童雅君、陳金鳳、張呈忠、黃智傑、吳秉傑"
      ]
    },
    {
      "cell_type": "code",
      "metadata": {
        "id": "84weZIVoVdoM"
      },
      "source": [
        "names = \"許淑軒、黃孟修、張維紹、王志玲、張瑋雲、彭穎夢、黃益如、吳穎竹、林曉宸、蔡筱孜、翁韻如、蕭有菱、孫珈丞、魏玟君、戴馨儀、金兆寧、林月昕、姚志遠、林琪珮、楊婉緯、陳鳳丞、羅佳芳、林怡君、劉鈺中、朱淑娟、張秋燕、汪珮瑜、夏政一、蔡佩威、高萱萍、曾桂心、王俊毅、莫亮竹、陳冠明、黃涵綸、張阿玄、吳哲維、黃玉生、殷其偉、周依萍、柯冠合、賴雅竹、黃淑玲、劉俊成、林培幸、陳岱迪、吳秉羽、廖翠柏、李美任、郭怡臻、盧佩怡、杜淑娟、別雨岑、陳柏城、黃法夫、張雅婷、詹文賢、林怡信、陳中城、許淑娟、王瑋倫、李俊倫、鄭佳穎、賁憲佐、吳偉倫、賴鴻駿、黃馨慧、許曜宇、張嬌紋、許涵光、廖駿漢、陸富一、邱怡婷、朱軍吟、涂涵峰、懷珍水、牛嘉豪、廖婉哲、黃之明、劉佳芳、潘佩璇、張麗雯、倪建年、高奇慧、楊安月、陳裕伶、幸定學、杜萬丞、黃勳方、林秀凱、方志偉、李俊宏、劉玉婷、姚綠良、郭益海、童雅君、陳金鳳、張呈忠、黃智傑、吳秉傑\""
      ],
      "execution_count": null,
      "outputs": []
    },
    {
      "cell_type": "code",
      "metadata": {
        "id": "vmVjOI0BWQ5a"
      },
      "source": [
        "namelist = names.split('、')"
      ],
      "execution_count": null,
      "outputs": []
    },
    {
      "cell_type": "code",
      "metadata": {
        "colab": {
          "base_uri": "https://localhost:8080/"
        },
        "id": "RNL47No1Ws0E",
        "outputId": "09f98fa3-1f11-4c8a-d6a1-06a6c63bf555"
      },
      "source": [
        "len(namelist)"
      ],
      "execution_count": null,
      "outputs": [
        {
          "output_type": "execute_result",
          "data": {
            "text/plain": [
              "100"
            ]
          },
          "metadata": {},
          "execution_count": 4
        }
      ]
    },
    {
      "cell_type": "code",
      "metadata": {
        "id": "XarD10IxWwdV"
      },
      "source": [
        "import numpy as np\n",
        "import pandas as pd"
      ],
      "execution_count": null,
      "outputs": []
    },
    {
      "cell_type": "code",
      "metadata": {
        "id": "V1-LIL_MW7A4"
      },
      "source": [
        "data = np.random.randint(20, 101, (100, 4))"
      ],
      "execution_count": null,
      "outputs": []
    },
    {
      "cell_type": "code",
      "metadata": {
        "id": "fx9AYPU3XHfY"
      },
      "source": [
        "df = pd.DataFrame(data, index=namelist)"
      ],
      "execution_count": null,
      "outputs": []
    },
    {
      "cell_type": "code",
      "metadata": {
        "colab": {
          "base_uri": "https://localhost:8080/",
          "height": 203
        },
        "id": "eCC6g5weXNOc",
        "outputId": "be1ba573-9177-4cec-8991-da47a2972fb4"
      },
      "source": [
        "df.head()"
      ],
      "execution_count": null,
      "outputs": [
        {
          "output_type": "execute_result",
          "data": {
            "text/html": [
              "<div>\n",
              "<style scoped>\n",
              "    .dataframe tbody tr th:only-of-type {\n",
              "        vertical-align: middle;\n",
              "    }\n",
              "\n",
              "    .dataframe tbody tr th {\n",
              "        vertical-align: top;\n",
              "    }\n",
              "\n",
              "    .dataframe thead th {\n",
              "        text-align: right;\n",
              "    }\n",
              "</style>\n",
              "<table border=\"1\" class=\"dataframe\">\n",
              "  <thead>\n",
              "    <tr style=\"text-align: right;\">\n",
              "      <th></th>\n",
              "      <th>0</th>\n",
              "      <th>1</th>\n",
              "      <th>2</th>\n",
              "      <th>3</th>\n",
              "    </tr>\n",
              "  </thead>\n",
              "  <tbody>\n",
              "    <tr>\n",
              "      <th>許淑軒</th>\n",
              "      <td>89</td>\n",
              "      <td>73</td>\n",
              "      <td>29</td>\n",
              "      <td>43</td>\n",
              "    </tr>\n",
              "    <tr>\n",
              "      <th>黃孟修</th>\n",
              "      <td>39</td>\n",
              "      <td>26</td>\n",
              "      <td>68</td>\n",
              "      <td>60</td>\n",
              "    </tr>\n",
              "    <tr>\n",
              "      <th>張維紹</th>\n",
              "      <td>48</td>\n",
              "      <td>24</td>\n",
              "      <td>28</td>\n",
              "      <td>71</td>\n",
              "    </tr>\n",
              "    <tr>\n",
              "      <th>王志玲</th>\n",
              "      <td>50</td>\n",
              "      <td>100</td>\n",
              "      <td>88</td>\n",
              "      <td>38</td>\n",
              "    </tr>\n",
              "    <tr>\n",
              "      <th>張瑋雲</th>\n",
              "      <td>87</td>\n",
              "      <td>89</td>\n",
              "      <td>35</td>\n",
              "      <td>20</td>\n",
              "    </tr>\n",
              "  </tbody>\n",
              "</table>\n",
              "</div>"
            ],
            "text/plain": [
              "      0    1   2   3\n",
              "許淑軒  89   73  29  43\n",
              "黃孟修  39   26  68  60\n",
              "張維紹  48   24  28  71\n",
              "王志玲  50  100  88  38\n",
              "張瑋雲  87   89  35  20"
            ]
          },
          "metadata": {},
          "execution_count": 8
        }
      ]
    },
    {
      "cell_type": "code",
      "metadata": {
        "id": "p4gMmM2zXOIw"
      },
      "source": [
        "df.columns = ['國文','英文','數學','理化']"
      ],
      "execution_count": null,
      "outputs": []
    },
    {
      "cell_type": "code",
      "metadata": {
        "colab": {
          "base_uri": "https://localhost:8080/",
          "height": 203
        },
        "id": "SmVymDZjYXWF",
        "outputId": "4cf7271c-68ee-4a59-d126-13a4d68f5881"
      },
      "source": [
        "df.head()"
      ],
      "execution_count": null,
      "outputs": [
        {
          "output_type": "execute_result",
          "data": {
            "text/html": [
              "<div>\n",
              "<style scoped>\n",
              "    .dataframe tbody tr th:only-of-type {\n",
              "        vertical-align: middle;\n",
              "    }\n",
              "\n",
              "    .dataframe tbody tr th {\n",
              "        vertical-align: top;\n",
              "    }\n",
              "\n",
              "    .dataframe thead th {\n",
              "        text-align: right;\n",
              "    }\n",
              "</style>\n",
              "<table border=\"1\" class=\"dataframe\">\n",
              "  <thead>\n",
              "    <tr style=\"text-align: right;\">\n",
              "      <th></th>\n",
              "      <th>國文</th>\n",
              "      <th>英文</th>\n",
              "      <th>數學</th>\n",
              "      <th>理化</th>\n",
              "    </tr>\n",
              "  </thead>\n",
              "  <tbody>\n",
              "    <tr>\n",
              "      <th>許淑軒</th>\n",
              "      <td>89</td>\n",
              "      <td>73</td>\n",
              "      <td>29</td>\n",
              "      <td>43</td>\n",
              "    </tr>\n",
              "    <tr>\n",
              "      <th>黃孟修</th>\n",
              "      <td>39</td>\n",
              "      <td>26</td>\n",
              "      <td>68</td>\n",
              "      <td>60</td>\n",
              "    </tr>\n",
              "    <tr>\n",
              "      <th>張維紹</th>\n",
              "      <td>48</td>\n",
              "      <td>24</td>\n",
              "      <td>28</td>\n",
              "      <td>71</td>\n",
              "    </tr>\n",
              "    <tr>\n",
              "      <th>王志玲</th>\n",
              "      <td>50</td>\n",
              "      <td>100</td>\n",
              "      <td>88</td>\n",
              "      <td>38</td>\n",
              "    </tr>\n",
              "    <tr>\n",
              "      <th>張瑋雲</th>\n",
              "      <td>87</td>\n",
              "      <td>89</td>\n",
              "      <td>35</td>\n",
              "      <td>20</td>\n",
              "    </tr>\n",
              "  </tbody>\n",
              "</table>\n",
              "</div>"
            ],
            "text/plain": [
              "     國文   英文  數學  理化\n",
              "許淑軒  89   73  29  43\n",
              "黃孟修  39   26  68  60\n",
              "張維紹  48   24  28  71\n",
              "王志玲  50  100  88  38\n",
              "張瑋雲  87   89  35  20"
            ]
          },
          "metadata": {},
          "execution_count": 10
        }
      ]
    },
    {
      "cell_type": "markdown",
      "metadata": {
        "id": "BEaqEA2yYnHK"
      },
      "source": [
        "# 練習二\n",
        "\n",
        "如何計算各科平均？各科最高分？各科最低分？"
      ]
    },
    {
      "cell_type": "code",
      "metadata": {
        "colab": {
          "base_uri": "https://localhost:8080/",
          "height": 203
        },
        "id": "27RjrXpXYYIj",
        "outputId": "a6682d80-7c11-4670-df90-696d875e5845"
      },
      "source": [
        "df.head()"
      ],
      "execution_count": null,
      "outputs": [
        {
          "output_type": "execute_result",
          "data": {
            "text/html": [
              "<div>\n",
              "<style scoped>\n",
              "    .dataframe tbody tr th:only-of-type {\n",
              "        vertical-align: middle;\n",
              "    }\n",
              "\n",
              "    .dataframe tbody tr th {\n",
              "        vertical-align: top;\n",
              "    }\n",
              "\n",
              "    .dataframe thead th {\n",
              "        text-align: right;\n",
              "    }\n",
              "</style>\n",
              "<table border=\"1\" class=\"dataframe\">\n",
              "  <thead>\n",
              "    <tr style=\"text-align: right;\">\n",
              "      <th></th>\n",
              "      <th>國文</th>\n",
              "      <th>英文</th>\n",
              "      <th>數學</th>\n",
              "      <th>理化</th>\n",
              "    </tr>\n",
              "  </thead>\n",
              "  <tbody>\n",
              "    <tr>\n",
              "      <th>許淑軒</th>\n",
              "      <td>89</td>\n",
              "      <td>73</td>\n",
              "      <td>29</td>\n",
              "      <td>43</td>\n",
              "    </tr>\n",
              "    <tr>\n",
              "      <th>黃孟修</th>\n",
              "      <td>39</td>\n",
              "      <td>26</td>\n",
              "      <td>68</td>\n",
              "      <td>60</td>\n",
              "    </tr>\n",
              "    <tr>\n",
              "      <th>張維紹</th>\n",
              "      <td>48</td>\n",
              "      <td>24</td>\n",
              "      <td>28</td>\n",
              "      <td>71</td>\n",
              "    </tr>\n",
              "    <tr>\n",
              "      <th>王志玲</th>\n",
              "      <td>50</td>\n",
              "      <td>100</td>\n",
              "      <td>88</td>\n",
              "      <td>38</td>\n",
              "    </tr>\n",
              "    <tr>\n",
              "      <th>張瑋雲</th>\n",
              "      <td>87</td>\n",
              "      <td>89</td>\n",
              "      <td>35</td>\n",
              "      <td>20</td>\n",
              "    </tr>\n",
              "  </tbody>\n",
              "</table>\n",
              "</div>"
            ],
            "text/plain": [
              "     國文   英文  數學  理化\n",
              "許淑軒  89   73  29  43\n",
              "黃孟修  39   26  68  60\n",
              "張維紹  48   24  28  71\n",
              "王志玲  50  100  88  38\n",
              "張瑋雲  87   89  35  20"
            ]
          },
          "metadata": {},
          "execution_count": 11
        }
      ]
    },
    {
      "cell_type": "code",
      "metadata": {
        "colab": {
          "base_uri": "https://localhost:8080/"
        },
        "id": "X85xEqL8Yt7H",
        "outputId": "292fc7b3-3a7d-407c-e756-4b5835e3ed1c"
      },
      "source": [
        "df.mean()"
      ],
      "execution_count": null,
      "outputs": [
        {
          "output_type": "execute_result",
          "data": {
            "text/plain": [
              "國文    60.94\n",
              "英文    62.69\n",
              "數學    58.58\n",
              "理化    61.58\n",
              "dtype: float64"
            ]
          },
          "metadata": {},
          "execution_count": 12
        }
      ]
    },
    {
      "cell_type": "code",
      "metadata": {
        "colab": {
          "base_uri": "https://localhost:8080/"
        },
        "id": "UqECcL0zY2GY",
        "outputId": "c6124a80-2faa-46b7-ef8f-b472deae7980"
      },
      "source": [
        "df.max()"
      ],
      "execution_count": null,
      "outputs": [
        {
          "output_type": "execute_result",
          "data": {
            "text/plain": [
              "國文    100\n",
              "英文    100\n",
              "數學    100\n",
              "理化    100\n",
              "dtype: int64"
            ]
          },
          "metadata": {},
          "execution_count": 13
        }
      ]
    },
    {
      "cell_type": "code",
      "metadata": {
        "colab": {
          "base_uri": "https://localhost:8080/"
        },
        "id": "F35NcxncY8Ri",
        "outputId": "49323992-95d3-4d44-bdf3-68380b330e80"
      },
      "source": [
        "df.min()"
      ],
      "execution_count": null,
      "outputs": [
        {
          "output_type": "execute_result",
          "data": {
            "text/plain": [
              "國文    20\n",
              "英文    20\n",
              "數學    20\n",
              "理化    20\n",
              "dtype: int64"
            ]
          },
          "metadata": {},
          "execution_count": 14
        }
      ]
    },
    {
      "cell_type": "markdown",
      "metadata": {
        "id": "QD7AiqXiZocm"
      },
      "source": [
        "# 練習三\n",
        "\n",
        "如何計算個人總分？"
      ]
    },
    {
      "cell_type": "code",
      "metadata": {
        "colab": {
          "base_uri": "https://localhost:8080/",
          "height": 203
        },
        "id": "aLDVMVGVY-Gx",
        "outputId": "18dd836a-d5e6-44b7-8a93-583c81b3123b"
      },
      "source": [
        "df.head()"
      ],
      "execution_count": null,
      "outputs": [
        {
          "output_type": "execute_result",
          "data": {
            "text/html": [
              "<div>\n",
              "<style scoped>\n",
              "    .dataframe tbody tr th:only-of-type {\n",
              "        vertical-align: middle;\n",
              "    }\n",
              "\n",
              "    .dataframe tbody tr th {\n",
              "        vertical-align: top;\n",
              "    }\n",
              "\n",
              "    .dataframe thead th {\n",
              "        text-align: right;\n",
              "    }\n",
              "</style>\n",
              "<table border=\"1\" class=\"dataframe\">\n",
              "  <thead>\n",
              "    <tr style=\"text-align: right;\">\n",
              "      <th></th>\n",
              "      <th>國文</th>\n",
              "      <th>英文</th>\n",
              "      <th>數學</th>\n",
              "      <th>理化</th>\n",
              "    </tr>\n",
              "  </thead>\n",
              "  <tbody>\n",
              "    <tr>\n",
              "      <th>許淑軒</th>\n",
              "      <td>89</td>\n",
              "      <td>73</td>\n",
              "      <td>29</td>\n",
              "      <td>43</td>\n",
              "    </tr>\n",
              "    <tr>\n",
              "      <th>黃孟修</th>\n",
              "      <td>39</td>\n",
              "      <td>26</td>\n",
              "      <td>68</td>\n",
              "      <td>60</td>\n",
              "    </tr>\n",
              "    <tr>\n",
              "      <th>張維紹</th>\n",
              "      <td>48</td>\n",
              "      <td>24</td>\n",
              "      <td>28</td>\n",
              "      <td>71</td>\n",
              "    </tr>\n",
              "    <tr>\n",
              "      <th>王志玲</th>\n",
              "      <td>50</td>\n",
              "      <td>100</td>\n",
              "      <td>88</td>\n",
              "      <td>38</td>\n",
              "    </tr>\n",
              "    <tr>\n",
              "      <th>張瑋雲</th>\n",
              "      <td>87</td>\n",
              "      <td>89</td>\n",
              "      <td>35</td>\n",
              "      <td>20</td>\n",
              "    </tr>\n",
              "  </tbody>\n",
              "</table>\n",
              "</div>"
            ],
            "text/plain": [
              "     國文   英文  數學  理化\n",
              "許淑軒  89   73  29  43\n",
              "黃孟修  39   26  68  60\n",
              "張維紹  48   24  28  71\n",
              "王志玲  50  100  88  38\n",
              "張瑋雲  87   89  35  20"
            ]
          },
          "metadata": {},
          "execution_count": 15
        }
      ]
    },
    {
      "cell_type": "code",
      "metadata": {
        "colab": {
          "base_uri": "https://localhost:8080/"
        },
        "id": "eGPiq71MZtTi",
        "outputId": "e51fbd05-64e6-44ff-a231-c2c4389876fd"
      },
      "source": [
        "df.sum(axis=1)"
      ],
      "execution_count": null,
      "outputs": [
        {
          "output_type": "execute_result",
          "data": {
            "text/plain": [
              "許淑軒    234\n",
              "黃孟修    193\n",
              "張維紹    171\n",
              "王志玲    276\n",
              "張瑋雲    231\n",
              "      ... \n",
              "童雅君    208\n",
              "陳金鳳    269\n",
              "張呈忠    246\n",
              "黃智傑    187\n",
              "吳秉傑    273\n",
              "Length: 100, dtype: int64"
            ]
          },
          "metadata": {},
          "execution_count": 17
        }
      ]
    },
    {
      "cell_type": "markdown",
      "metadata": {
        "id": "8rWy0j3vbUDb"
      },
      "source": [
        "# 練習四\n",
        "\n",
        "將個人總分放入DataFrame的新的欄位裡面。"
      ]
    },
    {
      "cell_type": "code",
      "metadata": {
        "colab": {
          "base_uri": "https://localhost:8080/",
          "height": 203
        },
        "id": "bhGy8DYKZvlm",
        "outputId": "9d0f588d-b2b3-4113-de2c-6532633b4775"
      },
      "source": [
        "df.head()"
      ],
      "execution_count": null,
      "outputs": [
        {
          "output_type": "execute_result",
          "data": {
            "text/html": [
              "<div>\n",
              "<style scoped>\n",
              "    .dataframe tbody tr th:only-of-type {\n",
              "        vertical-align: middle;\n",
              "    }\n",
              "\n",
              "    .dataframe tbody tr th {\n",
              "        vertical-align: top;\n",
              "    }\n",
              "\n",
              "    .dataframe thead th {\n",
              "        text-align: right;\n",
              "    }\n",
              "</style>\n",
              "<table border=\"1\" class=\"dataframe\">\n",
              "  <thead>\n",
              "    <tr style=\"text-align: right;\">\n",
              "      <th></th>\n",
              "      <th>國文</th>\n",
              "      <th>英文</th>\n",
              "      <th>數學</th>\n",
              "      <th>理化</th>\n",
              "    </tr>\n",
              "  </thead>\n",
              "  <tbody>\n",
              "    <tr>\n",
              "      <th>許淑軒</th>\n",
              "      <td>89</td>\n",
              "      <td>73</td>\n",
              "      <td>29</td>\n",
              "      <td>43</td>\n",
              "    </tr>\n",
              "    <tr>\n",
              "      <th>黃孟修</th>\n",
              "      <td>39</td>\n",
              "      <td>26</td>\n",
              "      <td>68</td>\n",
              "      <td>60</td>\n",
              "    </tr>\n",
              "    <tr>\n",
              "      <th>張維紹</th>\n",
              "      <td>48</td>\n",
              "      <td>24</td>\n",
              "      <td>28</td>\n",
              "      <td>71</td>\n",
              "    </tr>\n",
              "    <tr>\n",
              "      <th>王志玲</th>\n",
              "      <td>50</td>\n",
              "      <td>100</td>\n",
              "      <td>88</td>\n",
              "      <td>38</td>\n",
              "    </tr>\n",
              "    <tr>\n",
              "      <th>張瑋雲</th>\n",
              "      <td>87</td>\n",
              "      <td>89</td>\n",
              "      <td>35</td>\n",
              "      <td>20</td>\n",
              "    </tr>\n",
              "  </tbody>\n",
              "</table>\n",
              "</div>"
            ],
            "text/plain": [
              "     國文   英文  數學  理化\n",
              "許淑軒  89   73  29  43\n",
              "黃孟修  39   26  68  60\n",
              "張維紹  48   24  28  71\n",
              "王志玲  50  100  88  38\n",
              "張瑋雲  87   89  35  20"
            ]
          },
          "metadata": {},
          "execution_count": 18
        }
      ]
    },
    {
      "cell_type": "code",
      "metadata": {
        "id": "zD7tLGyabiBf"
      },
      "source": [
        "df['總分'] = df.sum(axis=1)"
      ],
      "execution_count": null,
      "outputs": []
    },
    {
      "cell_type": "code",
      "metadata": {
        "colab": {
          "base_uri": "https://localhost:8080/",
          "height": 203
        },
        "id": "cAXci8P7blKz",
        "outputId": "50616590-d965-4146-a0d0-a378fb56ed93"
      },
      "source": [
        "df.head()"
      ],
      "execution_count": null,
      "outputs": [
        {
          "output_type": "execute_result",
          "data": {
            "text/html": [
              "<div>\n",
              "<style scoped>\n",
              "    .dataframe tbody tr th:only-of-type {\n",
              "        vertical-align: middle;\n",
              "    }\n",
              "\n",
              "    .dataframe tbody tr th {\n",
              "        vertical-align: top;\n",
              "    }\n",
              "\n",
              "    .dataframe thead th {\n",
              "        text-align: right;\n",
              "    }\n",
              "</style>\n",
              "<table border=\"1\" class=\"dataframe\">\n",
              "  <thead>\n",
              "    <tr style=\"text-align: right;\">\n",
              "      <th></th>\n",
              "      <th>國文</th>\n",
              "      <th>英文</th>\n",
              "      <th>數學</th>\n",
              "      <th>理化</th>\n",
              "      <th>總分</th>\n",
              "    </tr>\n",
              "  </thead>\n",
              "  <tbody>\n",
              "    <tr>\n",
              "      <th>許淑軒</th>\n",
              "      <td>89</td>\n",
              "      <td>73</td>\n",
              "      <td>29</td>\n",
              "      <td>43</td>\n",
              "      <td>234</td>\n",
              "    </tr>\n",
              "    <tr>\n",
              "      <th>黃孟修</th>\n",
              "      <td>39</td>\n",
              "      <td>26</td>\n",
              "      <td>68</td>\n",
              "      <td>60</td>\n",
              "      <td>193</td>\n",
              "    </tr>\n",
              "    <tr>\n",
              "      <th>張維紹</th>\n",
              "      <td>48</td>\n",
              "      <td>24</td>\n",
              "      <td>28</td>\n",
              "      <td>71</td>\n",
              "      <td>171</td>\n",
              "    </tr>\n",
              "    <tr>\n",
              "      <th>王志玲</th>\n",
              "      <td>50</td>\n",
              "      <td>100</td>\n",
              "      <td>88</td>\n",
              "      <td>38</td>\n",
              "      <td>276</td>\n",
              "    </tr>\n",
              "    <tr>\n",
              "      <th>張瑋雲</th>\n",
              "      <td>87</td>\n",
              "      <td>89</td>\n",
              "      <td>35</td>\n",
              "      <td>20</td>\n",
              "      <td>231</td>\n",
              "    </tr>\n",
              "  </tbody>\n",
              "</table>\n",
              "</div>"
            ],
            "text/plain": [
              "     國文   英文  數學  理化   總分\n",
              "許淑軒  89   73  29  43  234\n",
              "黃孟修  39   26  68  60  193\n",
              "張維紹  48   24  28  71  171\n",
              "王志玲  50  100  88  38  276\n",
              "張瑋雲  87   89  35  20  231"
            ]
          },
          "metadata": {},
          "execution_count": 20
        }
      ]
    },
    {
      "cell_type": "markdown",
      "metadata": {
        "id": "pj6w-BGJcTXh"
      },
      "source": [
        "# 練習五\n",
        "\n",
        "查詢個人成績。\n",
        "\n",
        "如：賴雅竹"
      ]
    },
    {
      "cell_type": "code",
      "metadata": {
        "colab": {
          "base_uri": "https://localhost:8080/",
          "height": 203
        },
        "id": "I4zzpgNNbmRt",
        "outputId": "4c7b0a23-ec59-4d2f-9095-cfdc3517f4bc"
      },
      "source": [
        "df.head()"
      ],
      "execution_count": null,
      "outputs": [
        {
          "output_type": "execute_result",
          "data": {
            "text/html": [
              "<div>\n",
              "<style scoped>\n",
              "    .dataframe tbody tr th:only-of-type {\n",
              "        vertical-align: middle;\n",
              "    }\n",
              "\n",
              "    .dataframe tbody tr th {\n",
              "        vertical-align: top;\n",
              "    }\n",
              "\n",
              "    .dataframe thead th {\n",
              "        text-align: right;\n",
              "    }\n",
              "</style>\n",
              "<table border=\"1\" class=\"dataframe\">\n",
              "  <thead>\n",
              "    <tr style=\"text-align: right;\">\n",
              "      <th></th>\n",
              "      <th>國文</th>\n",
              "      <th>英文</th>\n",
              "      <th>數學</th>\n",
              "      <th>理化</th>\n",
              "      <th>總分</th>\n",
              "    </tr>\n",
              "  </thead>\n",
              "  <tbody>\n",
              "    <tr>\n",
              "      <th>許淑軒</th>\n",
              "      <td>89</td>\n",
              "      <td>73</td>\n",
              "      <td>29</td>\n",
              "      <td>43</td>\n",
              "      <td>234</td>\n",
              "    </tr>\n",
              "    <tr>\n",
              "      <th>黃孟修</th>\n",
              "      <td>39</td>\n",
              "      <td>26</td>\n",
              "      <td>68</td>\n",
              "      <td>60</td>\n",
              "      <td>193</td>\n",
              "    </tr>\n",
              "    <tr>\n",
              "      <th>張維紹</th>\n",
              "      <td>48</td>\n",
              "      <td>24</td>\n",
              "      <td>28</td>\n",
              "      <td>71</td>\n",
              "      <td>171</td>\n",
              "    </tr>\n",
              "    <tr>\n",
              "      <th>王志玲</th>\n",
              "      <td>50</td>\n",
              "      <td>100</td>\n",
              "      <td>88</td>\n",
              "      <td>38</td>\n",
              "      <td>276</td>\n",
              "    </tr>\n",
              "    <tr>\n",
              "      <th>張瑋雲</th>\n",
              "      <td>87</td>\n",
              "      <td>89</td>\n",
              "      <td>35</td>\n",
              "      <td>20</td>\n",
              "      <td>231</td>\n",
              "    </tr>\n",
              "  </tbody>\n",
              "</table>\n",
              "</div>"
            ],
            "text/plain": [
              "     國文   英文  數學  理化   總分\n",
              "許淑軒  89   73  29  43  234\n",
              "黃孟修  39   26  68  60  193\n",
              "張維紹  48   24  28  71  171\n",
              "王志玲  50  100  88  38  276\n",
              "張瑋雲  87   89  35  20  231"
            ]
          },
          "metadata": {},
          "execution_count": 21
        }
      ]
    },
    {
      "cell_type": "code",
      "metadata": {
        "colab": {
          "base_uri": "https://localhost:8080/"
        },
        "id": "Af3iDe0xcdtV",
        "outputId": "7565f335-bd74-4602-e05b-2fab1cc24e6b"
      },
      "source": [
        "df.loc['賴雅竹']"
      ],
      "execution_count": null,
      "outputs": [
        {
          "output_type": "execute_result",
          "data": {
            "text/plain": [
              "國文     73\n",
              "英文     37\n",
              "數學     95\n",
              "理化     47\n",
              "總分    252\n",
              "Name: 賴雅竹, dtype: int64"
            ]
          },
          "metadata": {},
          "execution_count": 22
        }
      ]
    },
    {
      "cell_type": "markdown",
      "metadata": {
        "id": "s4H0YFqhczKl"
      },
      "source": [
        "# 練習六\n",
        "\n",
        "查詢總成績前三名！"
      ]
    },
    {
      "cell_type": "code",
      "metadata": {
        "colab": {
          "base_uri": "https://localhost:8080/",
          "height": 203
        },
        "id": "74pi11p-crbA",
        "outputId": "6846abba-a977-4d83-e5f7-31ece073dbe3"
      },
      "source": [
        "df.head()"
      ],
      "execution_count": null,
      "outputs": [
        {
          "output_type": "execute_result",
          "data": {
            "text/html": [
              "<div>\n",
              "<style scoped>\n",
              "    .dataframe tbody tr th:only-of-type {\n",
              "        vertical-align: middle;\n",
              "    }\n",
              "\n",
              "    .dataframe tbody tr th {\n",
              "        vertical-align: top;\n",
              "    }\n",
              "\n",
              "    .dataframe thead th {\n",
              "        text-align: right;\n",
              "    }\n",
              "</style>\n",
              "<table border=\"1\" class=\"dataframe\">\n",
              "  <thead>\n",
              "    <tr style=\"text-align: right;\">\n",
              "      <th></th>\n",
              "      <th>國文</th>\n",
              "      <th>英文</th>\n",
              "      <th>數學</th>\n",
              "      <th>理化</th>\n",
              "      <th>總分</th>\n",
              "    </tr>\n",
              "  </thead>\n",
              "  <tbody>\n",
              "    <tr>\n",
              "      <th>許淑軒</th>\n",
              "      <td>89</td>\n",
              "      <td>73</td>\n",
              "      <td>29</td>\n",
              "      <td>43</td>\n",
              "      <td>234</td>\n",
              "    </tr>\n",
              "    <tr>\n",
              "      <th>黃孟修</th>\n",
              "      <td>39</td>\n",
              "      <td>26</td>\n",
              "      <td>68</td>\n",
              "      <td>60</td>\n",
              "      <td>193</td>\n",
              "    </tr>\n",
              "    <tr>\n",
              "      <th>張維紹</th>\n",
              "      <td>48</td>\n",
              "      <td>24</td>\n",
              "      <td>28</td>\n",
              "      <td>71</td>\n",
              "      <td>171</td>\n",
              "    </tr>\n",
              "    <tr>\n",
              "      <th>王志玲</th>\n",
              "      <td>50</td>\n",
              "      <td>100</td>\n",
              "      <td>88</td>\n",
              "      <td>38</td>\n",
              "      <td>276</td>\n",
              "    </tr>\n",
              "    <tr>\n",
              "      <th>張瑋雲</th>\n",
              "      <td>87</td>\n",
              "      <td>89</td>\n",
              "      <td>35</td>\n",
              "      <td>20</td>\n",
              "      <td>231</td>\n",
              "    </tr>\n",
              "  </tbody>\n",
              "</table>\n",
              "</div>"
            ],
            "text/plain": [
              "     國文   英文  數學  理化   總分\n",
              "許淑軒  89   73  29  43  234\n",
              "黃孟修  39   26  68  60  193\n",
              "張維紹  48   24  28  71  171\n",
              "王志玲  50  100  88  38  276\n",
              "張瑋雲  87   89  35  20  231"
            ]
          },
          "metadata": {},
          "execution_count": 23
        }
      ]
    },
    {
      "cell_type": "code",
      "metadata": {
        "colab": {
          "base_uri": "https://localhost:8080/",
          "height": 141
        },
        "id": "DGcOx0cOdQAm",
        "outputId": "a2b7448b-0a0b-4113-8a67-b559f3aaa4fa"
      },
      "source": [
        "df.sort_values('總分',ascending=False).head(3)"
      ],
      "execution_count": null,
      "outputs": [
        {
          "output_type": "execute_result",
          "data": {
            "text/html": [
              "<div>\n",
              "<style scoped>\n",
              "    .dataframe tbody tr th:only-of-type {\n",
              "        vertical-align: middle;\n",
              "    }\n",
              "\n",
              "    .dataframe tbody tr th {\n",
              "        vertical-align: top;\n",
              "    }\n",
              "\n",
              "    .dataframe thead th {\n",
              "        text-align: right;\n",
              "    }\n",
              "</style>\n",
              "<table border=\"1\" class=\"dataframe\">\n",
              "  <thead>\n",
              "    <tr style=\"text-align: right;\">\n",
              "      <th></th>\n",
              "      <th>國文</th>\n",
              "      <th>英文</th>\n",
              "      <th>數學</th>\n",
              "      <th>理化</th>\n",
              "      <th>總分</th>\n",
              "    </tr>\n",
              "  </thead>\n",
              "  <tbody>\n",
              "    <tr>\n",
              "      <th>金兆寧</th>\n",
              "      <td>69</td>\n",
              "      <td>95</td>\n",
              "      <td>86</td>\n",
              "      <td>91</td>\n",
              "      <td>341</td>\n",
              "    </tr>\n",
              "    <tr>\n",
              "      <th>翁韻如</th>\n",
              "      <td>73</td>\n",
              "      <td>88</td>\n",
              "      <td>93</td>\n",
              "      <td>83</td>\n",
              "      <td>337</td>\n",
              "    </tr>\n",
              "    <tr>\n",
              "      <th>夏政一</th>\n",
              "      <td>86</td>\n",
              "      <td>56</td>\n",
              "      <td>95</td>\n",
              "      <td>98</td>\n",
              "      <td>335</td>\n",
              "    </tr>\n",
              "  </tbody>\n",
              "</table>\n",
              "</div>"
            ],
            "text/plain": [
              "     國文  英文  數學  理化   總分\n",
              "金兆寧  69  95  86  91  341\n",
              "翁韻如  73  88  93  83  337\n",
              "夏政一  86  56  95  98  335"
            ]
          },
          "metadata": {},
          "execution_count": 24
        }
      ]
    },
    {
      "cell_type": "markdown",
      "metadata": {
        "id": "0zVSMnf-d2H4"
      },
      "source": [
        "# 練習七\n",
        "\n",
        "如何刪掉總分那個欄位？"
      ]
    },
    {
      "cell_type": "code",
      "metadata": {
        "colab": {
          "base_uri": "https://localhost:8080/",
          "height": 203
        },
        "id": "BLInelO-dYrB",
        "outputId": "07fc2241-10ff-49fd-8128-0741f01cbab4"
      },
      "source": [
        "df.head()"
      ],
      "execution_count": null,
      "outputs": [
        {
          "output_type": "execute_result",
          "data": {
            "text/html": [
              "<div>\n",
              "<style scoped>\n",
              "    .dataframe tbody tr th:only-of-type {\n",
              "        vertical-align: middle;\n",
              "    }\n",
              "\n",
              "    .dataframe tbody tr th {\n",
              "        vertical-align: top;\n",
              "    }\n",
              "\n",
              "    .dataframe thead th {\n",
              "        text-align: right;\n",
              "    }\n",
              "</style>\n",
              "<table border=\"1\" class=\"dataframe\">\n",
              "  <thead>\n",
              "    <tr style=\"text-align: right;\">\n",
              "      <th></th>\n",
              "      <th>國文</th>\n",
              "      <th>英文</th>\n",
              "      <th>數學</th>\n",
              "      <th>理化</th>\n",
              "      <th>總分</th>\n",
              "    </tr>\n",
              "  </thead>\n",
              "  <tbody>\n",
              "    <tr>\n",
              "      <th>許淑軒</th>\n",
              "      <td>89</td>\n",
              "      <td>73</td>\n",
              "      <td>29</td>\n",
              "      <td>43</td>\n",
              "      <td>234</td>\n",
              "    </tr>\n",
              "    <tr>\n",
              "      <th>黃孟修</th>\n",
              "      <td>39</td>\n",
              "      <td>26</td>\n",
              "      <td>68</td>\n",
              "      <td>60</td>\n",
              "      <td>193</td>\n",
              "    </tr>\n",
              "    <tr>\n",
              "      <th>張維紹</th>\n",
              "      <td>48</td>\n",
              "      <td>24</td>\n",
              "      <td>28</td>\n",
              "      <td>71</td>\n",
              "      <td>171</td>\n",
              "    </tr>\n",
              "    <tr>\n",
              "      <th>王志玲</th>\n",
              "      <td>50</td>\n",
              "      <td>100</td>\n",
              "      <td>88</td>\n",
              "      <td>38</td>\n",
              "      <td>276</td>\n",
              "    </tr>\n",
              "    <tr>\n",
              "      <th>張瑋雲</th>\n",
              "      <td>87</td>\n",
              "      <td>89</td>\n",
              "      <td>35</td>\n",
              "      <td>20</td>\n",
              "      <td>231</td>\n",
              "    </tr>\n",
              "  </tbody>\n",
              "</table>\n",
              "</div>"
            ],
            "text/plain": [
              "     國文   英文  數學  理化   總分\n",
              "許淑軒  89   73  29  43  234\n",
              "黃孟修  39   26  68  60  193\n",
              "張維紹  48   24  28  71  171\n",
              "王志玲  50  100  88  38  276\n",
              "張瑋雲  87   89  35  20  231"
            ]
          },
          "metadata": {},
          "execution_count": 25
        }
      ]
    },
    {
      "cell_type": "code",
      "metadata": {
        "id": "bZwhBYzWeAV2"
      },
      "source": [
        "df = df.drop('總分', axis=1)"
      ],
      "execution_count": null,
      "outputs": []
    },
    {
      "cell_type": "code",
      "metadata": {
        "colab": {
          "base_uri": "https://localhost:8080/",
          "height": 203
        },
        "id": "5mmqAhW-eHsQ",
        "outputId": "799ce190-0b46-406f-b8e7-3904c0e29bcf"
      },
      "source": [
        "df.head()"
      ],
      "execution_count": null,
      "outputs": [
        {
          "output_type": "execute_result",
          "data": {
            "text/html": [
              "<div>\n",
              "<style scoped>\n",
              "    .dataframe tbody tr th:only-of-type {\n",
              "        vertical-align: middle;\n",
              "    }\n",
              "\n",
              "    .dataframe tbody tr th {\n",
              "        vertical-align: top;\n",
              "    }\n",
              "\n",
              "    .dataframe thead th {\n",
              "        text-align: right;\n",
              "    }\n",
              "</style>\n",
              "<table border=\"1\" class=\"dataframe\">\n",
              "  <thead>\n",
              "    <tr style=\"text-align: right;\">\n",
              "      <th></th>\n",
              "      <th>國文</th>\n",
              "      <th>英文</th>\n",
              "      <th>數學</th>\n",
              "      <th>理化</th>\n",
              "    </tr>\n",
              "  </thead>\n",
              "  <tbody>\n",
              "    <tr>\n",
              "      <th>許淑軒</th>\n",
              "      <td>89</td>\n",
              "      <td>73</td>\n",
              "      <td>29</td>\n",
              "      <td>43</td>\n",
              "    </tr>\n",
              "    <tr>\n",
              "      <th>黃孟修</th>\n",
              "      <td>39</td>\n",
              "      <td>26</td>\n",
              "      <td>68</td>\n",
              "      <td>60</td>\n",
              "    </tr>\n",
              "    <tr>\n",
              "      <th>張維紹</th>\n",
              "      <td>48</td>\n",
              "      <td>24</td>\n",
              "      <td>28</td>\n",
              "      <td>71</td>\n",
              "    </tr>\n",
              "    <tr>\n",
              "      <th>王志玲</th>\n",
              "      <td>50</td>\n",
              "      <td>100</td>\n",
              "      <td>88</td>\n",
              "      <td>38</td>\n",
              "    </tr>\n",
              "    <tr>\n",
              "      <th>張瑋雲</th>\n",
              "      <td>87</td>\n",
              "      <td>89</td>\n",
              "      <td>35</td>\n",
              "      <td>20</td>\n",
              "    </tr>\n",
              "  </tbody>\n",
              "</table>\n",
              "</div>"
            ],
            "text/plain": [
              "     國文   英文  數學  理化\n",
              "許淑軒  89   73  29  43\n",
              "黃孟修  39   26  68  60\n",
              "張維紹  48   24  28  71\n",
              "王志玲  50  100  88  38\n",
              "張瑋雲  87   89  35  20"
            ]
          },
          "metadata": {},
          "execution_count": 30
        }
      ]
    },
    {
      "cell_type": "markdown",
      "metadata": {
        "id": "l4jqBweReoKS"
      },
      "source": [
        "# 練習八\n",
        "\n",
        "請加入社會科的欄位，並重新計算總分！"
      ]
    },
    {
      "cell_type": "code",
      "metadata": {
        "id": "Jp5qW0ISeTLo"
      },
      "source": [
        "df['社會'] = np.random.randint(20, 100, (100,))"
      ],
      "execution_count": null,
      "outputs": []
    },
    {
      "cell_type": "code",
      "metadata": {
        "colab": {
          "base_uri": "https://localhost:8080/",
          "height": 203
        },
        "id": "KTomm7PVe4II",
        "outputId": "5aac3d8e-30e4-48c2-b5df-fcc754150afe"
      },
      "source": [
        "df.head()"
      ],
      "execution_count": null,
      "outputs": [
        {
          "output_type": "execute_result",
          "data": {
            "text/html": [
              "<div>\n",
              "<style scoped>\n",
              "    .dataframe tbody tr th:only-of-type {\n",
              "        vertical-align: middle;\n",
              "    }\n",
              "\n",
              "    .dataframe tbody tr th {\n",
              "        vertical-align: top;\n",
              "    }\n",
              "\n",
              "    .dataframe thead th {\n",
              "        text-align: right;\n",
              "    }\n",
              "</style>\n",
              "<table border=\"1\" class=\"dataframe\">\n",
              "  <thead>\n",
              "    <tr style=\"text-align: right;\">\n",
              "      <th></th>\n",
              "      <th>國文</th>\n",
              "      <th>英文</th>\n",
              "      <th>數學</th>\n",
              "      <th>理化</th>\n",
              "      <th>社會</th>\n",
              "    </tr>\n",
              "  </thead>\n",
              "  <tbody>\n",
              "    <tr>\n",
              "      <th>許淑軒</th>\n",
              "      <td>89</td>\n",
              "      <td>73</td>\n",
              "      <td>29</td>\n",
              "      <td>43</td>\n",
              "      <td>51</td>\n",
              "    </tr>\n",
              "    <tr>\n",
              "      <th>黃孟修</th>\n",
              "      <td>39</td>\n",
              "      <td>26</td>\n",
              "      <td>68</td>\n",
              "      <td>60</td>\n",
              "      <td>74</td>\n",
              "    </tr>\n",
              "    <tr>\n",
              "      <th>張維紹</th>\n",
              "      <td>48</td>\n",
              "      <td>24</td>\n",
              "      <td>28</td>\n",
              "      <td>71</td>\n",
              "      <td>38</td>\n",
              "    </tr>\n",
              "    <tr>\n",
              "      <th>王志玲</th>\n",
              "      <td>50</td>\n",
              "      <td>100</td>\n",
              "      <td>88</td>\n",
              "      <td>38</td>\n",
              "      <td>35</td>\n",
              "    </tr>\n",
              "    <tr>\n",
              "      <th>張瑋雲</th>\n",
              "      <td>87</td>\n",
              "      <td>89</td>\n",
              "      <td>35</td>\n",
              "      <td>20</td>\n",
              "      <td>97</td>\n",
              "    </tr>\n",
              "  </tbody>\n",
              "</table>\n",
              "</div>"
            ],
            "text/plain": [
              "     國文   英文  數學  理化  社會\n",
              "許淑軒  89   73  29  43  51\n",
              "黃孟修  39   26  68  60  74\n",
              "張維紹  48   24  28  71  38\n",
              "王志玲  50  100  88  38  35\n",
              "張瑋雲  87   89  35  20  97"
            ]
          },
          "metadata": {},
          "execution_count": 32
        }
      ]
    },
    {
      "cell_type": "code",
      "metadata": {
        "id": "tVHTakawe5YG"
      },
      "source": [
        "df['總分'] = df.sum(axis=1)"
      ],
      "execution_count": null,
      "outputs": []
    },
    {
      "cell_type": "code",
      "metadata": {
        "colab": {
          "base_uri": "https://localhost:8080/",
          "height": 203
        },
        "id": "PrZx-xrCe_3v",
        "outputId": "952d1515-f484-4d99-8903-91d1abb2ee7a"
      },
      "source": [
        "df.head()"
      ],
      "execution_count": null,
      "outputs": [
        {
          "output_type": "execute_result",
          "data": {
            "text/html": [
              "<div>\n",
              "<style scoped>\n",
              "    .dataframe tbody tr th:only-of-type {\n",
              "        vertical-align: middle;\n",
              "    }\n",
              "\n",
              "    .dataframe tbody tr th {\n",
              "        vertical-align: top;\n",
              "    }\n",
              "\n",
              "    .dataframe thead th {\n",
              "        text-align: right;\n",
              "    }\n",
              "</style>\n",
              "<table border=\"1\" class=\"dataframe\">\n",
              "  <thead>\n",
              "    <tr style=\"text-align: right;\">\n",
              "      <th></th>\n",
              "      <th>國文</th>\n",
              "      <th>英文</th>\n",
              "      <th>數學</th>\n",
              "      <th>理化</th>\n",
              "      <th>社會</th>\n",
              "      <th>總分</th>\n",
              "    </tr>\n",
              "  </thead>\n",
              "  <tbody>\n",
              "    <tr>\n",
              "      <th>許淑軒</th>\n",
              "      <td>89</td>\n",
              "      <td>73</td>\n",
              "      <td>29</td>\n",
              "      <td>43</td>\n",
              "      <td>51</td>\n",
              "      <td>285</td>\n",
              "    </tr>\n",
              "    <tr>\n",
              "      <th>黃孟修</th>\n",
              "      <td>39</td>\n",
              "      <td>26</td>\n",
              "      <td>68</td>\n",
              "      <td>60</td>\n",
              "      <td>74</td>\n",
              "      <td>267</td>\n",
              "    </tr>\n",
              "    <tr>\n",
              "      <th>張維紹</th>\n",
              "      <td>48</td>\n",
              "      <td>24</td>\n",
              "      <td>28</td>\n",
              "      <td>71</td>\n",
              "      <td>38</td>\n",
              "      <td>209</td>\n",
              "    </tr>\n",
              "    <tr>\n",
              "      <th>王志玲</th>\n",
              "      <td>50</td>\n",
              "      <td>100</td>\n",
              "      <td>88</td>\n",
              "      <td>38</td>\n",
              "      <td>35</td>\n",
              "      <td>311</td>\n",
              "    </tr>\n",
              "    <tr>\n",
              "      <th>張瑋雲</th>\n",
              "      <td>87</td>\n",
              "      <td>89</td>\n",
              "      <td>35</td>\n",
              "      <td>20</td>\n",
              "      <td>97</td>\n",
              "      <td>328</td>\n",
              "    </tr>\n",
              "  </tbody>\n",
              "</table>\n",
              "</div>"
            ],
            "text/plain": [
              "     國文   英文  數學  理化  社會   總分\n",
              "許淑軒  89   73  29  43  51  285\n",
              "黃孟修  39   26  68  60  74  267\n",
              "張維紹  48   24  28  71  38  209\n",
              "王志玲  50  100  88  38  35  311\n",
              "張瑋雲  87   89  35  20  97  328"
            ]
          },
          "metadata": {},
          "execution_count": 34
        }
      ]
    },
    {
      "cell_type": "code",
      "metadata": {
        "id": "GBHRXuW2fA7A"
      },
      "source": [
        "df.to_excel('成績.xlsx')"
      ],
      "execution_count": null,
      "outputs": []
    },
    {
      "cell_type": "code",
      "metadata": {
        "id": "n3__3bMXfX7w"
      },
      "source": [],
      "execution_count": null,
      "outputs": []
    }
  ]
}