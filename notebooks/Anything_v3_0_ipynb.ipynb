{
  "nbformat": 4,
  "nbformat_minor": 0,
  "metadata": {
    "colab": {
      "provenance": [],
      "private_outputs": true,
      "collapsed_sections": [
        "3zxV1Ul5rtIW",
        "Xot59Arf2_v7"
      ],
      "include_colab_link": true
    },
    "kernelspec": {
      "name": "python3",
      "display_name": "Python 3"
    },
    "language_info": {
      "name": "python"
    },
    "accelerator": "GPU",
    "gpuClass": "standard"
  },
  "cells": [
    {
      "cell_type": "markdown",
      "metadata": {
        "id": "view-in-github",
        "colab_type": "text"
      },
      "source": [
        "<a href=\"https://colab.research.google.com/github/jumbokh/csu1112-class/blob/main/notebooks/Anything_v3_0_ipynb.ipynb\" target=\"_parent\"><img src=\"https://colab.research.google.com/assets/colab-badge.svg\" alt=\"Open In Colab\"/></a>"
      ]
    },
    {
      "cell_type": "markdown",
      "source": [
        "# [Anything V3.0](https://huggingface.co/Linaqruf/anything-v3.0/tree/main) AI繪圖\n",
        "參考自[本地搭建NovelAi](https://mirai.mamoe.net/topic/1659/%E6%9C%AC%E5%9C%B0%E6%90%AD%E5%BB%BAnovelai-%E5%85%8D%E8%B4%B9%E7%9A%84%E8%89%B2%E5%9B%BE%E7%94%9F%E6%88%90%E5%99%A8-%E5%8F%AF%E7%94%A8colab%E5%9C%A8%E7%BA%BF%E8%BF%90%E8%A1%8C?lang=zh-TW)以及[不用幾分鐘就能弄好的免費NovelAI畫圖 AI繪圖](https://home.gamer.com.tw/artwork.php?sn=5577290)\n",
        "\n",
        "先打開**執行階段 變更執行階段類型 硬體加速器選擇GPU**\n",
        "\n",
        "首次執行時\n",
        "\n",
        "1.  按**前置步驟**\n",
        "2.  至**檔案選擇下載**選擇model\n",
        "3.  **執行程式**\n",
        "4.  保存檔案前先停止執行程式\n",
        "\n",
        "非首次執行\n",
        "\n",
        "1. 按**前置步驟**\n",
        "2. **執行程式**\n",
        "\n",
        "不使用時，在**執行階段**選擇**中斷連線**\n",
        "\n",
        "中斷前請先**保存檔案**\n",
        "\n",
        "\n"
      ],
      "metadata": {
        "id": "AVQgtZ11rk44"
      }
    },
    {
      "cell_type": "code",
      "source": [
        "#@title 會回報錯誤，不用擔心繼續執行 { display-mode: \"form\" }\n",
        "import os\n",
        "os.kill(os.getpid(), 9)"
      ],
      "metadata": {
        "id": "0m9PzvSxlmY8"
      },
      "execution_count": null,
      "outputs": []
    },
    {
      "cell_type": "markdown",
      "source": [
        "# 前置步驟"
      ],
      "metadata": {
        "id": "3zxV1Ul5rtIW"
      }
    },
    {
      "cell_type": "code",
      "source": [
        "#@title 開啟雲端權限 { display-mode: \"form\" }\n",
        "from google.colab import drive\n",
        "drive.mount( \"/content/drive/\")"
      ],
      "metadata": {
        "id": "Mha48iWMGjJ-"
      },
      "execution_count": null,
      "outputs": []
    },
    {
      "cell_type": "code",
      "source": [
        "#@title 下載 stable-diffusion-webui { display-mode: \"form\" }\n",
        "!git clone https://github.com/AUTOMATIC1111/stable-diffusion-webui\n",
        "%cd stable-diffusion-webui\n",
        "!git pull"
      ],
      "metadata": {
        "id": "LWcqClo_GVvN"
      },
      "execution_count": null,
      "outputs": []
    },
    {
      "cell_type": "code",
      "source": [
        "#@title 導入大模型 { display-mode: \"form\" }\n",
        "%cd /content/drive/MyDrive/AnythingV3.0\n",
        "\n",
        "import os\n",
        "\n",
        "if os.path.exists('anything-v3-full.safetensors'):\n",
        "  !cp /content/drive/MyDrive/AnythingV3.0/anything-v3-full.safetensors /content/stable-diffusion-webui/models/Stable-diffusion/"
      ],
      "metadata": {
        "id": "kGPCUouFBHC6"
      },
      "execution_count": null,
      "outputs": []
    },
    {
      "cell_type": "code",
      "source": [
        "#@title 導入小模型 { display-mode: \"form\" }\n",
        "%cd /content/drive/MyDrive/AnythingV3.0\n",
        "\n",
        "import os\n",
        "\n",
        "if os.path.exists('anything-v3-fp32-pruned.safetensors'):\n",
        "  !cp /content/drive/MyDrive/AnythingV3.0/anything-v3-fp32-pruned.safetensors /content/stable-diffusion-webui/models/Stable-diffusion/"
      ],
      "metadata": {
        "id": "5k8CSWETleJD"
      },
      "execution_count": null,
      "outputs": []
    },
    {
      "cell_type": "code",
      "source": [
        "#@title 自行導入檔案 { display-mode: \"form\" }\n",
        "輸入檔案名稱 = \"\" #@param {type:\"string\"}\n",
        "file_name = 輸入檔案名稱\n",
        "%cd /content/drive/MyDrive/AnythingV3.0\n",
        "\n",
        "import os\n",
        "\n",
        "if os.path.exists(file_name):\n",
        "  print('複製檔案中...')\n",
        "  !cp /content/drive/MyDrive/AnythingV3.0/{file_name} /content/stable-diffusion-webui/models/Stable-diffusion/"
      ],
      "metadata": {
        "id": "AmMKZ17it2R5"
      },
      "execution_count": null,
      "outputs": []
    },
    {
      "cell_type": "code",
      "source": [
        "#@title 導入設定檔 { display-mode: \"form\" }\n",
        "%cd /content/drive/MyDrive/AnythingV3.0\n",
        "\n",
        "import os\n",
        "\n",
        "if os.path.exists('config.json'):\n",
        "  !cp /content/drive/MyDrive/AnythingV3.0/config.json /content/stable-diffusion-webui/\n",
        "if os.path.exists('styles.csv'):\n",
        "  !cp /content/drive/MyDrive/AnythingV3.0/styles.csv /content/stable-diffusion-webui/"
      ],
      "metadata": {
        "id": "S_otWve240jM"
      },
      "execution_count": null,
      "outputs": []
    },
    {
      "cell_type": "code",
      "source": [
        "#@title 載入環境 { display-mode: \"form\" }\n",
        "%cd /content/stable-diffusion-webui\n",
        "!COMMANDLINE_ARGS=\"--exit\" REQS_FILE=\"requirements.txt\" python launch.py"
      ],
      "metadata": {
        "id": "6wp1ruhHoaCm"
      },
      "execution_count": null,
      "outputs": []
    },
    {
      "cell_type": "markdown",
      "source": [
        "# 檔案選擇下載"
      ],
      "metadata": {
        "id": "ARxB0CPz0-H8"
      }
    },
    {
      "cell_type": "code",
      "source": [
        "#@title 下載 anything-v3-full.safetensors { display-mode: \"form\" }\n",
        "#@markdown 下載大模型(7G) 擁有colab pro再下載\n",
        "%cd /content/drive/MyDrive\n",
        "\n",
        "from google.colab import files\n",
        "import os\n",
        "\n",
        "if not os.path.exists('AnythingV3.0/anything-v3-full.safetensors'):\n",
        "  !mkdir AnythingV3.0\n",
        "  %cd AnythingV3.0\n",
        "  print(\"下載模型...\")\n",
        "  !wget https://huggingface.co/Linaqruf/anything-v3.0/resolve/main/anything-v3-full.safetensors\n",
        "print(\"複製檔案中...\")\n",
        "!cp /content/drive/MyDrive/AnythingV3.0/anything-v3-full.safetensors /content/stable-diffusion-webui/models/Stable-diffusion/"
      ],
      "metadata": {
        "id": "GcoKo4bQ_JXF"
      },
      "execution_count": null,
      "outputs": []
    },
    {
      "cell_type": "code",
      "source": [
        "#@title 下載 anything-v3-fp32-pruned.safetensors { display-mode: \"form\" }\n",
        "#@markdown 下載小模型(4G) 無colab pro只能跑得動小模型\n",
        "%cd /content/drive/MyDrive\n",
        "\n",
        "from google.colab import files\n",
        "import os\n",
        "\n",
        "if not os.path.exists('AnythingV3.0/anything-v3-fp32-pruned.safetensors'):\n",
        "  !mkdir AnythingV3.0\n",
        "  %cd AnythingV3.0\n",
        "  print(\"下載模型...\") \n",
        "  !wget https://huggingface.co/Linaqruf/anything-v3.0/resolve/main/anything-v3-fp32-pruned.safetensors\n",
        "print(\"複製檔案中...\")\n",
        "!cp /content/drive/MyDrive/AnythingV3.0/anything-v3-fp32-pruned.safetensors /content/stable-diffusion-webui/models/Stable-diffusion/"
      ],
      "metadata": {
        "id": "ynaW64_dJZeG"
      },
      "execution_count": null,
      "outputs": []
    },
    {
      "cell_type": "markdown",
      "source": [
        "# 執行程式"
      ],
      "metadata": {
        "id": "DHsO-5uL2kov"
      }
    },
    {
      "cell_type": "code",
      "source": [
        "#@title 執行程式 { display-mode: \"form\" }\n",
        "%cd /content/stable-diffusion-webui\n",
        "!COMMANDLINE_ARGS=\"--share --gradio-debug\" REQS_FILE=\"requirements.txt\" python launch.py"
      ],
      "metadata": {
        "id": "CrOXeish2j1y"
      },
      "execution_count": null,
      "outputs": []
    },
    {
      "cell_type": "markdown",
      "source": [
        "# 保存檔案\n",
        "先關閉執行程式後再使用"
      ],
      "metadata": {
        "id": "Xot59Arf2_v7"
      }
    },
    {
      "cell_type": "code",
      "source": [
        "#@title 保存圖片 { display-mode: \"form\" }\n",
        "#@markdown 圖片將保存在 AnythingV3.0 內的 outputs 資料夾中\n",
        "!cp -r /content/stable-diffusion-webui/outputs /content/drive/MyDrive/AnythingV3.0/"
      ],
      "metadata": {
        "id": "rzMUAqnG3kfv"
      },
      "execution_count": null,
      "outputs": []
    },
    {
      "cell_type": "code",
      "source": [
        "#@title 保存設定檔 { display-mode: \"form\" }\n",
        "!cp -r /content/stable-diffusion-webui/config.json /content/drive/MyDrive/AnythingV3.0/\n",
        "!cp -r /content/stable-diffusion-webui/styles.csv /content/drive/MyDrive/AnythingV3.0/"
      ],
      "metadata": {
        "id": "s2AZxn0E4D3o"
      },
      "execution_count": null,
      "outputs": []
    }
  ]
}