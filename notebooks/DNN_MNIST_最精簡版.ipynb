{
  "nbformat": 4,
  "nbformat_minor": 0,
  "metadata": {
    "colab": {
      "provenance": [],
      "include_colab_link": true
    },
    "kernelspec": {
      "name": "python3",
      "display_name": "Python 3"
    },
    "accelerator": "GPU"
  },
  "cells": [
    {
      "cell_type": "markdown",
      "metadata": {
        "id": "view-in-github",
        "colab_type": "text"
      },
      "source": [
        "<a href=\"https://colab.research.google.com/github/jumbokh/csu1112-class/blob/main/notebooks/DNN_MNIST_%E6%9C%80%E7%B2%BE%E7%B0%A1%E7%89%88.ipynb\" target=\"_parent\"><img src=\"https://colab.research.google.com/assets/colab-badge.svg\" alt=\"Open In Colab\"/></a>"
      ]
    },
    {
      "cell_type": "markdown",
      "metadata": {
        "id": "pYz7IICNBCtU"
      },
      "source": [
        "#  DNN\n",
        "1. 課程介紹了 \n",
        "  * Neurons, layers 與 Fully Connected\n",
        "  * 圖案\n",
        "  * 資料的流動與運算\n",
        "  * 三個步驟學習了辨識\n",
        "1. 實踐程式的 idea 是從題目到資料到模型到訓練\n",
        "  * 題目資料是從 keras 的 datasets 中取出\n",
        "  * 我們會對資料整理好，讓他吻合模型框架的輸入需求。**其中我們會介紹 one hot encoding**\n",
        "  * 進入第一步驟：建一個模型，基本上的 constrain 是輸入與輸出的大小格式。\n",
        "  * 第二步：loss 寫在 compile() 裡頭。\n",
        "  * 第三步：gradient descent 也寫在 compile() 裡頭。\n",
        "  * 訓練時，我們需要放入多少(哪些）資料？（hint: 我們是監督式學習）\n",
        "1. 比較細或可以多說明的參數有： \n",
        "  * activation 通常用到的有 relu, sigmoid, softmax \n",
        "  * loss = 'categorical_crossentropy', 'binary_crossentropy', 'sparse_categorical_crossentropy', 'mse'\n",
        "  * optimizer 常用的有 adam, sgd, rmsprop, adagrad 等\n",
        "  * validation_split: chap 3 有介紹\n",
        "  * batch_size \n",
        "  * metrics\n",
        "  * verbose\n",
        "  * epochs\n"
      ]
    },
    {
      "cell_type": "markdown",
      "source": [
        "# Keras 是機器學習框架套件。其他常用的有 tensorflow, pytorch\n",
        "\n",
        "- ## keras 有兩種模型架構，分別放在 keras.models 的 Sequential 與 Model 裏\n",
        "- Sequential 主要是一層接一層，不會有跳躍的情況。採用的方式就是\n",
        "-- keras.add(layer)\n",
        "\n",
        "我們的機器學習、深度學習三個框架對應 keras.\n",
        "1. 建立一個模型：\n",
        "\n",
        "\n",
        "```\n",
        "keras.add(layer1)\n",
        "keras.add(layer2)\n",
        "...\n",
        "\n",
        "```\n",
        "\n",
        "2. 定義 loss function\n",
        "\n",
        "\n",
        "```\n",
        "keras.compile(loss = 'mse')\n",
        "or\n",
        "keras.compile(loss = 'categorical_crossentropy')\n",
        "```\n",
        "3. 找出一個最好的函式\n",
        "\n",
        "\n",
        "```\n",
        "keras.compile(optimizer = 'adam')\n",
        "keras.fit(data, label)\n",
        "```\n",
        "\n",
        "\n"
      ],
      "metadata": {
        "id": "PedpdeqBS4u3"
      }
    },
    {
      "cell_type": "code",
      "metadata": {
        "id": "sPymYqzQ4kT0"
      },
      "source": [
        "#%tensorflow_version 1.x\n",
        "#從 tensorflow 載入 keras\n",
        "from tensorflow import keras\n",
        "#載入 numpy 這是為了矩陣資料運算\n",
        "import numpy as np\n",
        "#載入 matplotlib.pyplot 呈現資料視覺\n",
        "import matplotlib.pyplot as plt\n",
        "#import tensorflow.keras as keras\n",
        "#keras.datasets 中有一些練習用資料\n",
        "from keras.datasets import mnist, fashion_mnist   # cifar10, cifar100, fashion_mnist(or mnist_fashion)\n",
        "#我們需要處理 onehot encode task，keras.utils.np_utils 有提供 api，\n",
        "#以這個套件為例，因為改版常有，所以要學會上網找解答\n",
        "from keras.utils import np_utils  \n",
        "#keras 是處理深度學習的套件，我們處理的深度學習會有模型與神經元層，所以需要載入 models, layers\n",
        "from keras.models import Sequential, Model\n",
        "from keras.layers import Dense #, Conv2D, LSTM\n",
        "# from keras.utils.vis_utils import plot_model"
      ],
      "execution_count": null,
      "outputs": []
    },
    {
      "cell_type": "code",
      "metadata": {
        "id": "zHvFioXqk0VX",
        "colab": {
          "base_uri": "https://localhost:8080/"
        },
        "outputId": "fe418428-81e6-40f2-e62f-cd1f0804c49f"
      },
      "source": [
        "(X_train, y_train), (X_test, y_test) = mnist.load_data()"
      ],
      "execution_count": null,
      "outputs": [
        {
          "output_type": "stream",
          "name": "stdout",
          "text": [
            "Downloading data from https://storage.googleapis.com/tensorflow/tf-keras-datasets/mnist.npz\n",
            "11493376/11490434 [==============================] - 0s 0us/step\n",
            "11501568/11490434 [==============================] - 0s 0us/step\n"
          ]
        }
      ]
    },
    {
      "cell_type": "code",
      "source": [
        "plt.imshow(X_train[0])\n"
      ],
      "metadata": {
        "colab": {
          "base_uri": "https://localhost:8080/"
        },
        "id": "-NFxEQFwEOVZ",
        "outputId": "34487911-f66c-434f-96ed-26c30b428070"
      },
      "execution_count": null,
      "outputs": [
        {
          "output_type": "execute_result",
          "data": {
            "text/plain": [
              "<matplotlib.image.AxesImage at 0x7f01a438f290>"
            ]
          },
          "metadata": {},
          "execution_count": 18
        },
        {
          "output_type": "display_data",
          "data": {
            "text/plain": [
              "<Figure size 432x288 with 1 Axes>"
            ],
            "image/png": "[encoded data removed]"
          },
          "metadata": {
            "needs_background": "light"
          }
        }
      ]
    },
    {
      "cell_type": "code",
      "metadata": {
        "colab": {
          "base_uri": "https://localhost:8080/"
        },
        "id": "IZfZCaRIk19N",
        "outputId": "ae60defd-e3ca-4684-abf3-ab52de6f6504"
      },
      "source": [
        "X_train.shape #(60000, 28, 28)\n",
        "X_Train = X_train.reshape(60000,784)\n",
        "X_Train.shape\n",
        "X_Train[1]\n",
        "plt.imshow(X_train[1])\n",
        "print(y_train[1])\n",
        "#[1, 0, 0, 0, ..., 0] # 0\n",
        "#[0, 0, 0, 0, 0, 1, ] # 5\n",
        "y_Train = np_utils.to_categorical(y_train,10)\n",
        "print(y_Train[1])"
      ],
      "execution_count": null,
      "outputs": [
        {
          "output_type": "stream",
          "name": "stdout",
          "text": [
            "0\n",
            "[1. 0. 0. 0. 0. 0. 0. 0. 0. 0.]\n"
          ]
        },
        {
          "output_type": "display_data",
          "data": {
            "text/plain": [
              "<Figure size 432x288 with 1 Axes>"
            ],
            "image/png": "[encoded data removed]"
          },
          "metadata": {
            "needs_background": "light"
          }
        }
      ]
    },
    {
      "cell_type": "code",
      "source": [
        "plt.imshow(X_train[1])\n",
        "X_train[1]"
      ],
      "metadata": {
        "colab": {
          "base_uri": "https://localhost:8080/",
          "height": 1000
        },
        "id": "yTY8hMG05Zwp",
        "outputId": "d5ccbb71-d4e6-49ec-ceb5-5c9290d332dd"
      },
      "execution_count": null,
      "outputs": [
        {
          "output_type": "execute_result",
          "data": {
            "text/plain": [
              "array([[  0,   0,   0,   0,   0,   0,   0,   0,   0,   0,   0,   0,   0,\n",
              "          0,   0,   0,   0,   0,   0,   0,   0,   0,   0,   0,   0,   0,\n",
              "          0,   0],\n",
              "       [  0,   0,   0,   0,   0,   0,   0,   0,   0,   0,   0,   0,   0,\n",
              "          0,   0,   0,   0,   0,   0,   0,   0,   0,   0,   0,   0,   0,\n",
              "          0,   0],\n",
              "       [  0,   0,   0,   0,   0,   0,   0,   0,   0,   0,   0,   0,   0,\n",
              "          0,   0,   0,   0,   0,   0,   0,   0,   0,   0,   0,   0,   0,\n",
              "          0,   0],\n",
              "       [  0,   0,   0,   0,   0,   0,   0,   0,   0,   0,   0,   0,   0,\n",
              "          0,   0,   0,   0,   0,   0,   0,   0,   0,   0,   0,   0,   0,\n",
              "          0,   0],\n",
              "       [  0,   0,   0,   0,   0,   0,   0,   0,   0,   0,   0,   0,   0,\n",
              "          0,   0,  51, 159, 253, 159,  50,   0,   0,   0,   0,   0,   0,\n",
              "          0,   0],\n",
              "       [  0,   0,   0,   0,   0,   0,   0,   0,   0,   0,   0,   0,   0,\n",
              "          0,  48, 238, 252, 252, 252, 237,   0,   0,   0,   0,   0,   0,\n",
              "          0,   0],\n",
              "       [  0,   0,   0,   0,   0,   0,   0,   0,   0,   0,   0,   0,   0,\n",
              "         54, 227, 253, 252, 239, 233, 252,  57,   6,   0,   0,   0,   0,\n",
              "          0,   0],\n",
              "       [  0,   0,   0,   0,   0,   0,   0,   0,   0,   0,   0,  10,  60,\n",
              "        224, 252, 253, 252, 202,  84, 252, 253, 122,   0,   0,   0,   0,\n",
              "          0,   0],\n",
              "       [  0,   0,   0,   0,   0,   0,   0,   0,   0,   0,   0, 163, 252,\n",
              "        252, 252, 253, 252, 252,  96, 189, 253, 167,   0,   0,   0,   0,\n",
              "          0,   0],\n",
              "       [  0,   0,   0,   0,   0,   0,   0,   0,   0,   0,  51, 238, 253,\n",
              "        253, 190, 114, 253, 228,  47,  79, 255, 168,   0,   0,   0,   0,\n",
              "          0,   0],\n",
              "       [  0,   0,   0,   0,   0,   0,   0,   0,   0,  48, 238, 252, 252,\n",
              "        179,  12,  75, 121,  21,   0,   0, 253, 243,  50,   0,   0,   0,\n",
              "          0,   0],\n",
              "       [  0,   0,   0,   0,   0,   0,   0,   0,  38, 165, 253, 233, 208,\n",
              "         84,   0,   0,   0,   0,   0,   0, 253, 252, 165,   0,   0,   0,\n",
              "          0,   0],\n",
              "       [  0,   0,   0,   0,   0,   0,   0,   7, 178, 252, 240,  71,  19,\n",
              "         28,   0,   0,   0,   0,   0,   0, 253, 252, 195,   0,   0,   0,\n",
              "          0,   0],\n",
              "       [  0,   0,   0,   0,   0,   0,   0,  57, 252, 252,  63,   0,   0,\n",
              "          0,   0,   0,   0,   0,   0,   0, 253, 252, 195,   0,   0,   0,\n",
              "          0,   0],\n",
              "       [  0,   0,   0,   0,   0,   0,   0, 198, 253, 190,   0,   0,   0,\n",
              "          0,   0,   0,   0,   0,   0,   0, 255, 253, 196,   0,   0,   0,\n",
              "          0,   0],\n",
              "       [  0,   0,   0,   0,   0,   0,  76, 246, 252, 112,   0,   0,   0,\n",
              "          0,   0,   0,   0,   0,   0,   0, 253, 252, 148,   0,   0,   0,\n",
              "          0,   0],\n",
              "       [  0,   0,   0,   0,   0,   0,  85, 252, 230,  25,   0,   0,   0,\n",
              "          0,   0,   0,   0,   0,   7, 135, 253, 186,  12,   0,   0,   0,\n",
              "          0,   0],\n",
              "       [  0,   0,   0,   0,   0,   0,  85, 252, 223,   0,   0,   0,   0,\n",
              "          0,   0,   0,   0,   7, 131, 252, 225,  71,   0,   0,   0,   0,\n",
              "          0,   0],\n",
              "       [  0,   0,   0,   0,   0,   0,  85, 252, 145,   0,   0,   0,   0,\n",
              "          0,   0,   0,  48, 165, 252, 173,   0,   0,   0,   0,   0,   0,\n",
              "          0,   0],\n",
              "       [  0,   0,   0,   0,   0,   0,  86, 253, 225,   0,   0,   0,   0,\n",
              "          0,   0, 114, 238, 253, 162,   0,   0,   0,   0,   0,   0,   0,\n",
              "          0,   0],\n",
              "       [  0,   0,   0,   0,   0,   0,  85, 252, 249, 146,  48,  29,  85,\n",
              "        178, 225, 253, 223, 167,  56,   0,   0,   0,   0,   0,   0,   0,\n",
              "          0,   0],\n",
              "       [  0,   0,   0,   0,   0,   0,  85, 252, 252, 252, 229, 215, 252,\n",
              "        252, 252, 196, 130,   0,   0,   0,   0,   0,   0,   0,   0,   0,\n",
              "          0,   0],\n",
              "       [  0,   0,   0,   0,   0,   0,  28, 199, 252, 252, 253, 252, 252,\n",
              "        233, 145,   0,   0,   0,   0,   0,   0,   0,   0,   0,   0,   0,\n",
              "          0,   0],\n",
              "       [  0,   0,   0,   0,   0,   0,   0,  25, 128, 252, 253, 252, 141,\n",
              "         37,   0,   0,   0,   0,   0,   0,   0,   0,   0,   0,   0,   0,\n",
              "          0,   0],\n",
              "       [  0,   0,   0,   0,   0,   0,   0,   0,   0,   0,   0,   0,   0,\n",
              "          0,   0,   0,   0,   0,   0,   0,   0,   0,   0,   0,   0,   0,\n",
              "          0,   0],\n",
              "       [  0,   0,   0,   0,   0,   0,   0,   0,   0,   0,   0,   0,   0,\n",
              "          0,   0,   0,   0,   0,   0,   0,   0,   0,   0,   0,   0,   0,\n",
              "          0,   0],\n",
              "       [  0,   0,   0,   0,   0,   0,   0,   0,   0,   0,   0,   0,   0,\n",
              "          0,   0,   0,   0,   0,   0,   0,   0,   0,   0,   0,   0,   0,\n",
              "          0,   0],\n",
              "       [  0,   0,   0,   0,   0,   0,   0,   0,   0,   0,   0,   0,   0,\n",
              "          0,   0,   0,   0,   0,   0,   0,   0,   0,   0,   0,   0,   0,\n",
              "          0,   0]], dtype=uint8)"
            ]
          },
          "metadata": {},
          "execution_count": 20
        },
        {
          "output_type": "display_data",
          "data": {
            "text/plain": [
              "<Figure size 432x288 with 1 Axes>"
            ],
            "image/png": "[encoded data removed]"
          },
          "metadata": {
            "needs_background": "light"
          }
        }
      ]
    },
    {
      "cell_type": "code",
      "source": [],
      "metadata": {
        "id": "Egbc0vo85dsZ"
      },
      "execution_count": null,
      "outputs": []
    },
    {
      "cell_type": "markdown",
      "source": [
        "# DL step 0, \n",
        "- 進入我們的framework 前，資料必須與採用的模型吻合\n",
        "- DNN 所吃的資料為一維形式的資料。到了 CNN2D 會採用三維 （寬、高、通道）*通道通常是 1 或 3，1: mono, 3: color/RGB\n",
        "- one hot encoding"
      ],
      "metadata": {
        "id": "k5nK-mSJr6nY"
      }
    },
    {
      "cell_type": "code",
      "metadata": {
        "id": "aNvQBPsL4ljT"
      },
      "source": [
        "(X_train, y_train), (X_test, y_test) = mnist.load_data() \n",
        "X_Train = X_train.reshape(60000,784)\n",
        "X_Test = X_test.reshape(10000,784)\n",
        "\n",
        "X_Train = X_Train/255\n",
        "X_Test = X_Test/255\n",
        "# 我要將標籤改成獨熱 One Hot Encoding\n",
        "y_Train = np_utils.to_categorical(y_train,10)\n",
        "# One Hot Encoding \n",
        "# 在 kmean 中如果同學有嘗試 分成三類、五類，然後觀察與思考，應該會發現照片資料的相似度跟答案大小順序無關\n",
        "y_Test = np_utils.to_categorical(y_test, 10)\n",
        "# 基本上訓練資料如何處理，測試資料送進模型函式前也是要完成相同的處理"
      ],
      "execution_count": null,
      "outputs": []
    },
    {
      "cell_type": "markdown",
      "source": [
        "# Framework step 1, \n",
        "1. ## **建模形**\n",
        "2. loss function\n",
        "3. pick the best one\n"
      ],
      "metadata": {
        "id": "teeNvojLu8nW"
      }
    },
    {
      "cell_type": "markdown",
      "source": [
        "0 ==> one hot ==> 10000000000\n",
        "1 ==> 010000000\n",
        "2 ==> 0010000000\n",
        "3 ==> 0001000000"
      ],
      "metadata": {
        "id": "vbQ0onQVE32V"
      }
    },
    {
      "cell_type": "code",
      "metadata": {
        "id": "eVrkeHHB5Crf"
      },
      "source": [
        "model = Sequential()\n",
        "model.add(Dense(250, input_dim=784, activation='sigmoid'))  \n",
        "model.add(Dense(100, activation = 'sigmoid')) \n",
        "model.add(Dense(252, activation = 'relu'))\n",
        "model.add(Dense(128, activation = 'relu'))\n",
        "model.add(Dense(10, activation = 'relu'))\n",
        "# (250000, relu, adam, bs = 200: 7s)\n",
        "# (250000, sigmoid, adam, bs = 200: 7s)\n",
        "# (250000, sigmoid, sgd, bs = 200: 5s)\n",
        "# (250000, sigmoid, sgd, bs = 10: 36s)\n",
        "\n",
        "model.add(Dense(10, activation='softmax'))\n",
        "#plot_model(model)"
      ],
      "execution_count": null,
      "outputs": []
    },
    {
      "cell_type": "code",
      "metadata": {
        "colab": {
          "base_uri": "https://localhost:8080/"
        },
        "id": "EhBoz2IJGNQ2",
        "outputId": "7fe8570c-2fa1-4783-909f-a7341e6740c0"
      },
      "source": [
        "model.summary()"
      ],
      "execution_count": null,
      "outputs": [
        {
          "output_type": "stream",
          "name": "stdout",
          "text": [
            "Model: \"sequential_1\"\n",
            "_________________________________________________________________\n",
            " Layer (type)                Output Shape              Param #   \n",
            "=================================================================\n",
            " dense_6 (Dense)             (None, 250)               196250    \n",
            "                                                                 \n",
            " dense_7 (Dense)             (None, 100)               25100     \n",
            "                                                                 \n",
            " dense_8 (Dense)             (None, 252)               25452     \n",
            "                                                                 \n",
            " dense_9 (Dense)             (None, 128)               32384     \n",
            "                                                                 \n",
            " dense_10 (Dense)            (None, 10)                1290      \n",
            "                                                                 \n",
            " dense_11 (Dense)            (None, 10)                110       \n",
            "                                                                 \n",
            "=================================================================\n",
            "Total params: 280,586\n",
            "Trainable params: 280,586\n",
            "Non-trainable params: 0\n",
            "_________________________________________________________________\n"
          ]
        }
      ]
    },
    {
      "cell_type": "markdown",
      "source": [
        "# Framework step 2, 3, \n",
        "1. 建模形\n",
        "2. ## **loss function**\n",
        "3. ## **pick the best one**"
      ],
      "metadata": {
        "id": "rtdwlId2vmDr"
      }
    },
    {
      "cell_type": "code",
      "metadata": {
        "id": "dyismgnZ5IIO",
        "colab": {
          "base_uri": "https://localhost:8080/"
        },
        "outputId": "a1361142-6f39-4797-819f-99218bcda6a0"
      },
      "source": [
        "model.compile(loss='categorical_crossentropy', optimizer =\"adam\", metrics=['accuracy'])\n",
        "# loss for 分類 'categorical_crossentropy', 回歸估值 = 'mse'\n",
        "# loss = 'mse', optimizer = 'rmsprop' #'mse'\n",
        "train_history=model.fit(x=X_Train, y=y_Train,validation_split=0.2, epochs=20, batch_size=100, verbose=2)\n",
        "# validation_split = 0 ? batch_size = 50000"
      ],
      "execution_count": null,
      "outputs": [
        {
          "output_type": "stream",
          "name": "stdout",
          "text": [
            "Epoch 1/20\n",
            "480/480 - 2s - loss: 0.8495 - accuracy: 0.7165 - val_loss: 0.3734 - val_accuracy: 0.8853 - 2s/epoch - 4ms/step\n",
            "Epoch 2/20\n",
            "480/480 - 1s - loss: 0.2946 - accuracy: 0.9134 - val_loss: 0.2102 - val_accuracy: 0.9413 - 1s/epoch - 3ms/step\n",
            "Epoch 3/20\n",
            "480/480 - 1s - loss: 0.1946 - accuracy: 0.9425 - val_loss: 0.1854 - val_accuracy: 0.9473 - 1s/epoch - 3ms/step\n",
            "Epoch 4/20\n",
            "480/480 - 1s - loss: 0.1480 - accuracy: 0.9555 - val_loss: 0.1537 - val_accuracy: 0.9561 - 1s/epoch - 3ms/step\n",
            "Epoch 5/20\n",
            "480/480 - 2s - loss: 0.1158 - accuracy: 0.9650 - val_loss: 0.1302 - val_accuracy: 0.9645 - 2s/epoch - 3ms/step\n",
            "Epoch 6/20\n",
            "480/480 - 2s - loss: 0.0945 - accuracy: 0.9711 - val_loss: 0.1260 - val_accuracy: 0.9657 - 2s/epoch - 4ms/step\n",
            "Epoch 7/20\n",
            "480/480 - 1s - loss: 0.0801 - accuracy: 0.9755 - val_loss: 0.1169 - val_accuracy: 0.9669 - 1s/epoch - 3ms/step\n",
            "Epoch 8/20\n",
            "480/480 - 1s - loss: 0.0643 - accuracy: 0.9797 - val_loss: 0.1035 - val_accuracy: 0.9710 - 1s/epoch - 3ms/step\n",
            "Epoch 9/20\n",
            "480/480 - 1s - loss: 0.0548 - accuracy: 0.9826 - val_loss: 0.1074 - val_accuracy: 0.9718 - 1s/epoch - 3ms/step\n",
            "Epoch 10/20\n",
            "480/480 - 2s - loss: 0.0454 - accuracy: 0.9858 - val_loss: 0.1158 - val_accuracy: 0.9709 - 2s/epoch - 3ms/step\n",
            "Epoch 11/20\n",
            "480/480 - 1s - loss: 0.0417 - accuracy: 0.9870 - val_loss: 0.1138 - val_accuracy: 0.9714 - 1s/epoch - 3ms/step\n",
            "Epoch 12/20\n",
            "480/480 - 1s - loss: 0.0330 - accuracy: 0.9892 - val_loss: 0.1067 - val_accuracy: 0.9746 - 1s/epoch - 3ms/step\n",
            "Epoch 13/20\n",
            "480/480 - 1s - loss: 0.0300 - accuracy: 0.9902 - val_loss: 0.1139 - val_accuracy: 0.9732 - 1s/epoch - 3ms/step\n",
            "Epoch 14/20\n",
            "480/480 - 1s - loss: 0.0231 - accuracy: 0.9927 - val_loss: 0.1184 - val_accuracy: 0.9742 - 1s/epoch - 3ms/step\n",
            "Epoch 15/20\n",
            "480/480 - 1s - loss: 0.0241 - accuracy: 0.9916 - val_loss: 0.1190 - val_accuracy: 0.9739 - 1s/epoch - 3ms/step\n",
            "Epoch 16/20\n",
            "480/480 - 1s - loss: 0.0203 - accuracy: 0.9933 - val_loss: 0.1254 - val_accuracy: 0.9733 - 1s/epoch - 3ms/step\n",
            "Epoch 17/20\n",
            "480/480 - 1s - loss: 0.0196 - accuracy: 0.9932 - val_loss: 0.1235 - val_accuracy: 0.9747 - 1s/epoch - 3ms/step\n",
            "Epoch 18/20\n",
            "480/480 - 2s - loss: 0.0161 - accuracy: 0.9943 - val_loss: 0.1190 - val_accuracy: 0.9767 - 2s/epoch - 3ms/step\n",
            "Epoch 19/20\n",
            "480/480 - 1s - loss: 0.0131 - accuracy: 0.9957 - val_loss: 0.1507 - val_accuracy: 0.9722 - 1s/epoch - 3ms/step\n",
            "Epoch 20/20\n",
            "480/480 - 2s - loss: 0.0120 - accuracy: 0.9959 - val_loss: 0.1359 - val_accuracy: 0.9760 - 2s/epoch - 4ms/step\n"
          ]
        }
      ]
    },
    {
      "cell_type": "code",
      "metadata": {
        "colab": {
          "base_uri": "https://localhost:8080/"
        },
        "id": "6vHjhUV6X3fj",
        "outputId": "e5daa4c7-d7c0-4b5b-b1de-da914c722d08"
      },
      "source": [
        "train_history.history.keys()"
      ],
      "execution_count": null,
      "outputs": [
        {
          "output_type": "execute_result",
          "data": {
            "text/plain": [
              "dict_keys(['loss', 'accuracy', 'val_loss', 'val_accuracy'])"
            ]
          },
          "metadata": {},
          "execution_count": 25
        }
      ]
    },
    {
      "cell_type": "code",
      "metadata": {
        "id": "vBrYqWiZ9PJQ",
        "colab": {
          "base_uri": "https://localhost:8080/"
        },
        "outputId": "f5b5f8b2-fe3e-4d0c-8e94-998cd57fa429"
      },
      "source": [
        "plt.plot(train_history.epoch, train_history.history['loss'], label ='loss')\n",
        "plt.plot(train_history.epoch, train_history.history['val_loss'], label='val_loss')\n",
        "plt.xlabel('epoch')\n",
        "plt.ylabel('loss')\n",
        "plt.legend(loc = 1)\n",
        "plt.show()\n",
        "plt.plot(train_history.epoch, train_history.history['accuracy'], label ='accuracy')\n",
        "plt.plot(train_history.epoch, train_history.history['val_accuracy'], label='val_accuracy')\n",
        "plt.xlabel('epoch')\n",
        "plt.ylabel('loss')\n",
        "plt.legend(loc = 4)\n",
        "plt.show()"
      ],
      "execution_count": null,
      "outputs": [
        {
          "output_type": "display_data",
          "data": {
            "text/plain": [
              "<Figure size 432x288 with 1 Axes>"
            ],
            "image/png": "[encoded data removed]"
          },
          "metadata": {
            "needs_background": "light"
          }
        },
        {
          "output_type": "display_data",
          "data": {
            "text/plain": [
              "<Figure size 432x288 with 1 Axes>"
            ],
            "image/png": "[encoded data removed]"
          },
          "metadata": {
            "needs_background": "light"
          }
        }
      ]
    },
    {
      "cell_type": "code",
      "metadata": {
        "colab": {
          "base_uri": "https://localhost:8080/"
        },
        "id": "hY6s1_fdQdqn",
        "outputId": "dda4f6be-5386-4f86-a21a-a73ec560b207"
      },
      "source": [
        "eva = model.evaluate(X_Test, y_Test)"
      ],
      "execution_count": null,
      "outputs": [
        {
          "output_type": "stream",
          "name": "stdout",
          "text": [
            "313/313 [==============================] - 2s 4ms/step - loss: 0.1079 - accuracy: 0.9786\n"
          ]
        }
      ]
    },
    {
      "cell_type": "markdown",
      "source": [
        "一筆資料是 784 維\n",
        "\n",
        "可是訓練時一次送好幾筆 （n, 784)\n",
        "\n"
      ],
      "metadata": {
        "id": "HghivCLDXVCC"
      }
    },
    {
      "cell_type": "code",
      "source": [
        "model.predict(X_Test[0:1])"
      ],
      "metadata": {
        "colab": {
          "base_uri": "https://localhost:8080/"
        },
        "id": "H5t_yuncXsjN",
        "outputId": "77342839-6030-40c4-b505-6470d2198b18"
      },
      "execution_count": null,
      "outputs": [
        {
          "output_type": "execute_result",
          "data": {
            "text/plain": [
              "array([[4.8125523e-12, 8.3386134e-08, 4.3752568e-08, 5.3397033e-09,\n",
              "        1.0933202e-09, 8.1496060e-10, 8.6718332e-18, 9.9999797e-01,\n",
              "        3.0002788e-11, 1.9448626e-06]], dtype=float32)"
            ]
          },
          "metadata": {},
          "execution_count": 28
        }
      ]
    },
    {
      "cell_type": "code",
      "metadata": {
        "colab": {
          "base_uri": "https://localhost:8080/"
        },
        "id": "ObLd5o0zQ7NO",
        "outputId": "1751116e-8dec-41df-89fe-ad2ec9fc24b3"
      },
      "source": [
        "print(model.predict(np.expand_dims(X_Test[0], 0)), '\\n')\n",
        "model.predict(X_Test[0:1])\n",
        "#np.argmax(model.predict(x), axis=-1)\n",
        "print(f\" prediction is {np.argmax(model.predict(np.expand_dims(X_Test[0], 0)))} \\n\")\n",
        "print(f\" label is {y_test[0]}\")\n",
        "\n",
        "#pred = print(f\" prediction is {model.predict_classes(X_Test[:1])} \\n\")\n",
        "## warnings.warn('`model.predict_classes()` is deprecated and '\n",
        "pred = print(f\" prediction is {model.predict(X_Test[:1]).argmax()} \\n\")"
      ],
      "execution_count": null,
      "outputs": [
        {
          "output_type": "stream",
          "name": "stdout",
          "text": [
            "[[4.8125523e-12 8.3386134e-08 4.3752568e-08 5.3397033e-09 1.0933202e-09\n",
            "  8.1496060e-10 8.6718332e-18 9.9999797e-01 3.0002788e-11 1.9448626e-06]] \n",
            "\n",
            " prediction is 7 \n",
            "\n",
            " label is 7\n",
            " prediction is 7 \n",
            "\n"
          ]
        }
      ]
    },
    {
      "cell_type": "markdown",
      "source": [
        "# 以下只是參考，沒有 maintance\n",
        "\n",
        "\n",
        "\n",
        "---\n",
        "\n",
        "\n",
        "---\n",
        "\n",
        "\n",
        "\n",
        "---\n",
        "\n",
        "\n",
        "\n",
        "---\n",
        "\n",
        "\n",
        "\n",
        "---\n",
        "\n",
        "\n",
        "\n",
        "---\n",
        "\n",
        "\n",
        "\n",
        "---\n",
        "\n",
        "\n",
        "\n",
        "---\n",
        "\n",
        "\n",
        "\n"
      ],
      "metadata": {
        "id": "qlYXPVlWSZh7"
      }
    },
    {
      "cell_type": "markdown",
      "metadata": {
        "id": "ACQWWrkkVBVn"
      },
      "source": [
        "# 在我們所謂的訓練過程中沒有用到 測試資料\n",
        "# 在我們的訓練過程中，我們用到的是訓練資料，同時還把訓練資料拆分出訓練資料與驗證資料。"
      ]
    },
    {
      "cell_type": "markdown",
      "metadata": {
        "id": "9skTho7_9Tb0"
      },
      "source": [
        "#[ 練習 20 分鐘]\n",
        "\n",
        "1. 增加神經元層\n",
        "1. 更改 loss = 'rmsprop'\n",
        "1. 更改 verbose = 0, or 1\n",
        "1. 更改 hidden layers' activation to 'relu'\n",
        "1. model.summary()的參數量是怎麼得出的？"
      ]
    },
    {
      "cell_type": "markdown",
      "metadata": {
        "id": "7KhrrRTA54Sw"
      },
      "source": [
        "# 以下參考"
      ]
    },
    {
      "cell_type": "markdown",
      "metadata": {
        "id": "RYjSdssZ6S_e"
      },
      "source": [
        "\n",
        "\n",
        "*   Neural Network Basic\n",
        "*   Practice Colab\n",
        "> * Enable Runtime/Change Runtime Type/GPU\n",
        "> * Check the 3rd icon (folder icon) at left bar\n",
        "> * To add Code, Text in 2 methods\n",
        "> * To Run a code in 2 ways\n",
        "> * To connect linux system, working directory to gdrive\n",
        "> * To download/upload files through the 3rd icon at left bar or colab.files\n",
        "* To define MNIST Problem, to observe data, and to pre-process data\n",
        "* To build the most simple NN, and familiar with def. loss fct, gradient decent"
      ]
    },
    {
      "cell_type": "markdown",
      "metadata": {
        "id": "gLgkhr7SPOA9"
      },
      "source": [
        "# 從認識深度網路的觀點，程式的學習點\n",
        "> 1. ## 觀察輸入資料的格式與要求得的資料的格式設計\n",
        "> 1. ## 設計網路需考慮輸出入資料格式的配合，很可能是最資料做好處理送入網路\n",
        "> 1. ## 介紹 np_utils.to_categorical\n",
        "> 1. ## 嘗試配合底下兩個步驟程序\n",
        ">> * #### 模型、好壞、梯度下降\n",
        ">> * #### model.add、model.compile(loss, optimizer)、model.fit(2 data, pb_strategy \n",
        "> 1. 其他，為什麼知道這些 import\n",
        ">> * 用 keras: 有 models\n",
        ">> * 用 keras: 有 layers\n",
        ">> * 經驗\n",
        ">> * google"
      ]
    },
    {
      "cell_type": "markdown",
      "metadata": {
        "id": "rS46C5OjcEqT"
      },
      "source": [
        "## 這個程式沒有用到 子目錄資料，主要是利用 keras 裡的 api 上網取得資料"
      ]
    },
    {
      "cell_type": "markdown",
      "metadata": {
        "id": "8hLWkBL0KwH5"
      },
      "source": [
        "# Import Libraies"
      ]
    },
    {
      "cell_type": "markdown",
      "metadata": {
        "id": "iaTAVIjj8mc7"
      },
      "source": [
        "##【練習】\n",
        "### 基本上我們剛開始寫程式時，並不知道有那些 api 要引用，我們常常是參考別人的 code，理解後內化成我們的知識與能力，根據程式目標來了解有那些套件需要引用，有時候沒記得清楚，就請用 keywords 在 google 搜尋。\n",
        "### 【練習】**套件功能說明，同時說明為什麼這個程式需要用到這些套件。**"
      ]
    },
    {
      "cell_type": "markdown",
      "metadata": {
        "id": "rAd3NMfsKwIW"
      },
      "source": [
        "# 【步驟 1】 載入資料\n",
        "\n",
        "\n",
        "1.   ### **載入資料**\n",
        "2.   資料前處理 (Preprocessing)\n",
        "\n",
        "1.   建模型\n",
        "2.   設定損失函式、決定梯度下降法\n",
        "1.   訓練\n",
        "\n"
      ]
    },
    {
      "cell_type": "code",
      "metadata": {
        "id": "LVg0jgjnugbr"
      },
      "source": [
        "(X_train, y_train), (X_test, y_test) = mnist.load_data()"
      ],
      "execution_count": null,
      "outputs": []
    },
    {
      "cell_type": "markdown",
      "metadata": {
        "id": "4N8OQmhaSdT-"
      },
      "source": [
        "### xyxy, vs. xxyy <== 這是？"
      ]
    },
    {
      "cell_type": "code",
      "metadata": {
        "id": "9I7KDZVeKwIZ"
      },
      "source": [
        "(X_train_image, y_train_label),(X_test_image, y_test_label) = mnist.load_data()"
      ],
      "execution_count": null,
      "outputs": []
    },
    {
      "cell_type": "code",
      "metadata": {
        "id": "HApfHOaPwdCU",
        "colab": {
          "base_uri": "https://localhost:8080/"
        },
        "outputId": "bf267781-ae38-438f-ae59-f6479dc22cdd"
      },
      "source": [
        "X_train_image\n",
        "import matplotlib.pyplot as plt\n",
        "plt.imshow(X_train_image[2])"
      ],
      "execution_count": null,
      "outputs": [
        {
          "output_type": "execute_result",
          "data": {
            "text/plain": [
              "<matplotlib.image.AxesImage at 0x7f01a4071d10>"
            ]
          },
          "metadata": {},
          "execution_count": 32
        },
        {
          "output_type": "display_data",
          "data": {
            "text/plain": [
              "<Figure size 432x288 with 1 Axes>"
            ],
            "image/png": "[encoded data removed]"
          },
          "metadata": {
            "needs_background": "light"
          }
        }
      ]
    },
    {
      "cell_type": "code",
      "metadata": {
        "id": "dgDV5WkBxQeZ",
        "colab": {
          "base_uri": "https://localhost:8080/"
        },
        "outputId": "201ca48e-5452-479a-e255-54cee76eaccb"
      },
      "source": [
        "X_train_image.shape"
      ],
      "execution_count": null,
      "outputs": [
        {
          "output_type": "execute_result",
          "data": {
            "text/plain": [
              "(60000, 28, 28)"
            ]
          },
          "metadata": {},
          "execution_count": 33
        }
      ]
    },
    {
      "cell_type": "code",
      "metadata": {
        "id": "PD15eRxrIkIr",
        "colab": {
          "base_uri": "https://localhost:8080/"
        },
        "outputId": "7f11cf1f-118d-4b3a-efc5-6a73c5f3104a"
      },
      "source": [
        "X_train_image[2]"
      ],
      "execution_count": null,
      "outputs": [
        {
          "output_type": "execute_result",
          "data": {
            "text/plain": [
              "array([[  0,   0,   0,   0,   0,   0,   0,   0,   0,   0,   0,   0,   0,\n",
              "          0,   0,   0,   0,   0,   0,   0,   0,   0,   0,   0,   0,   0,\n",
              "          0,   0],\n",
              "       [  0,   0,   0,   0,   0,   0,   0,   0,   0,   0,   0,   0,   0,\n",
              "          0,   0,   0,   0,   0,   0,   0,   0,   0,   0,   0,   0,   0,\n",
              "          0,   0],\n",
              "       [  0,   0,   0,   0,   0,   0,   0,   0,   0,   0,   0,   0,   0,\n",
              "          0,   0,   0,   0,   0,   0,   0,   0,   0,   0,   0,   0,   0,\n",
              "          0,   0],\n",
              "       [  0,   0,   0,   0,   0,   0,   0,   0,   0,   0,   0,   0,   0,\n",
              "          0,   0,   0,   0,   0,   0,   0,   0,   0,   0,   0,   0,   0,\n",
              "          0,   0],\n",
              "       [  0,   0,   0,   0,   0,   0,   0,   0,   0,   0,   0,   0,   0,\n",
              "          0,   0,   0,   0,   0,   0,   0,   0,   0,   0,   0,   0,   0,\n",
              "          0,   0],\n",
              "       [  0,   0,   0,   0,   0,   0,   0,   0,   0,   0,   0,   0,   0,\n",
              "          0,   0,   0,   0,   0,   0,   0,  67, 232,  39,   0,   0,   0,\n",
              "          0,   0],\n",
              "       [  0,   0,   0,   0,  62,  81,   0,   0,   0,   0,   0,   0,   0,\n",
              "          0,   0,   0,   0,   0,   0,   0, 120, 180,  39,   0,   0,   0,\n",
              "          0,   0],\n",
              "       [  0,   0,   0,   0, 126, 163,   0,   0,   0,   0,   0,   0,   0,\n",
              "          0,   0,   0,   0,   0,   0,   2, 153, 210,  40,   0,   0,   0,\n",
              "          0,   0],\n",
              "       [  0,   0,   0,   0, 220, 163,   0,   0,   0,   0,   0,   0,   0,\n",
              "          0,   0,   0,   0,   0,   0,  27, 254, 162,   0,   0,   0,   0,\n",
              "          0,   0],\n",
              "       [  0,   0,   0,   0, 222, 163,   0,   0,   0,   0,   0,   0,   0,\n",
              "          0,   0,   0,   0,   0,   0, 183, 254, 125,   0,   0,   0,   0,\n",
              "          0,   0],\n",
              "       [  0,   0,   0,  46, 245, 163,   0,   0,   0,   0,   0,   0,   0,\n",
              "          0,   0,   0,   0,   0,   0, 198, 254,  56,   0,   0,   0,   0,\n",
              "          0,   0],\n",
              "       [  0,   0,   0, 120, 254, 163,   0,   0,   0,   0,   0,   0,   0,\n",
              "          0,   0,   0,   0,   0,  23, 231, 254,  29,   0,   0,   0,   0,\n",
              "          0,   0],\n",
              "       [  0,   0,   0, 159, 254, 120,   0,   0,   0,   0,   0,   0,   0,\n",
              "          0,   0,   0,   0,   0, 163, 254, 216,  16,   0,   0,   0,   0,\n",
              "          0,   0],\n",
              "       [  0,   0,   0, 159, 254,  67,   0,   0,   0,   0,   0,   0,   0,\n",
              "          0,   0,  14,  86, 178, 248, 254,  91,   0,   0,   0,   0,   0,\n",
              "          0,   0],\n",
              "       [  0,   0,   0, 159, 254,  85,   0,   0,   0,  47,  49, 116, 144,\n",
              "        150, 241, 243, 234, 179, 241, 252,  40,   0,   0,   0,   0,   0,\n",
              "          0,   0],\n",
              "       [  0,   0,   0, 150, 253, 237, 207, 207, 207, 253, 254, 250, 240,\n",
              "        198, 143,  91,  28,   5, 233, 250,   0,   0,   0,   0,   0,   0,\n",
              "          0,   0],\n",
              "       [  0,   0,   0,   0, 119, 177, 177, 177, 177, 177,  98,  56,   0,\n",
              "          0,   0,   0,   0, 102, 254, 220,   0,   0,   0,   0,   0,   0,\n",
              "          0,   0],\n",
              "       [  0,   0,   0,   0,   0,   0,   0,   0,   0,   0,   0,   0,   0,\n",
              "          0,   0,   0,   0, 169, 254, 137,   0,   0,   0,   0,   0,   0,\n",
              "          0,   0],\n",
              "       [  0,   0,   0,   0,   0,   0,   0,   0,   0,   0,   0,   0,   0,\n",
              "          0,   0,   0,   0, 169, 254,  57,   0,   0,   0,   0,   0,   0,\n",
              "          0,   0],\n",
              "       [  0,   0,   0,   0,   0,   0,   0,   0,   0,   0,   0,   0,   0,\n",
              "          0,   0,   0,   0, 169, 254,  57,   0,   0,   0,   0,   0,   0,\n",
              "          0,   0],\n",
              "       [  0,   0,   0,   0,   0,   0,   0,   0,   0,   0,   0,   0,   0,\n",
              "          0,   0,   0,   0, 169, 255,  94,   0,   0,   0,   0,   0,   0,\n",
              "          0,   0],\n",
              "       [  0,   0,   0,   0,   0,   0,   0,   0,   0,   0,   0,   0,   0,\n",
              "          0,   0,   0,   0, 169, 254,  96,   0,   0,   0,   0,   0,   0,\n",
              "          0,   0],\n",
              "       [  0,   0,   0,   0,   0,   0,   0,   0,   0,   0,   0,   0,   0,\n",
              "          0,   0,   0,   0, 169, 254, 153,   0,   0,   0,   0,   0,   0,\n",
              "          0,   0],\n",
              "       [  0,   0,   0,   0,   0,   0,   0,   0,   0,   0,   0,   0,   0,\n",
              "          0,   0,   0,   0, 169, 255, 153,   0,   0,   0,   0,   0,   0,\n",
              "          0,   0],\n",
              "       [  0,   0,   0,   0,   0,   0,   0,   0,   0,   0,   0,   0,   0,\n",
              "          0,   0,   0,   0,  96, 254, 153,   0,   0,   0,   0,   0,   0,\n",
              "          0,   0],\n",
              "       [  0,   0,   0,   0,   0,   0,   0,   0,   0,   0,   0,   0,   0,\n",
              "          0,   0,   0,   0,   0,   0,   0,   0,   0,   0,   0,   0,   0,\n",
              "          0,   0],\n",
              "       [  0,   0,   0,   0,   0,   0,   0,   0,   0,   0,   0,   0,   0,\n",
              "          0,   0,   0,   0,   0,   0,   0,   0,   0,   0,   0,   0,   0,\n",
              "          0,   0],\n",
              "       [  0,   0,   0,   0,   0,   0,   0,   0,   0,   0,   0,   0,   0,\n",
              "          0,   0,   0,   0,   0,   0,   0,   0,   0,   0,   0,   0,   0,\n",
              "          0,   0]], dtype=uint8)"
            ]
          },
          "metadata": {},
          "execution_count": 34
        }
      ]
    },
    {
      "cell_type": "markdown",
      "metadata": {
        "id": "FKkZe6fdI1_x"
      },
      "source": [
        "# 步驟 2 資料前處理 (Preprocessing)\n",
        "\n",
        "\n",
        "1.   載入資料\n",
        "2.   ### **資料前處理 (Preprocessing)**\n",
        "\n",
        "1.   建模型\n",
        "2.   設定損失函式、決定梯度下降法\n",
        "1.   訓練\n"
      ]
    },
    {
      "cell_type": "code",
      "metadata": {
        "id": "GADwD_n3G8f8",
        "colab": {
          "base_uri": "https://localhost:8080/"
        },
        "outputId": "20ccbebf-05be-4edf-ef3a-3f7b7863501d"
      },
      "source": [
        "X_train_image.shape  #(60000,28,28)\n",
        "a=X_train_image.reshape(60000, 28*28)\n",
        "a.shape"
      ],
      "execution_count": null,
      "outputs": [
        {
          "output_type": "execute_result",
          "data": {
            "text/plain": [
              "(60000, 784)"
            ]
          },
          "metadata": {},
          "execution_count": 35
        }
      ]
    },
    {
      "cell_type": "code",
      "metadata": {
        "id": "a3dAo1z7KwIk"
      },
      "source": [
        "# 我們沒有要用 CNN, 所以先轉成 一維\n",
        "\n",
        "X_Train = X_train_image.reshape(60000,784).astype('float32')\n",
        "X_Test = X_test_image.reshape(10000,784).astype('float32')"
      ],
      "execution_count": null,
      "outputs": []
    },
    {
      "cell_type": "code",
      "metadata": {
        "id": "22JLN-e2KwIw"
      },
      "source": [
        "X_Train = X_Train/255\n",
        "X_Test = X_Test/255"
      ],
      "execution_count": null,
      "outputs": []
    },
    {
      "cell_type": "code",
      "metadata": {
        "id": "tAw1VhFdH-Kg",
        "colab": {
          "base_uri": "https://localhost:8080/"
        },
        "outputId": "c98ebe71-861c-4dd2-9307-f80a85a471a8"
      },
      "source": [
        "y_train_label[:10]"
      ],
      "execution_count": null,
      "outputs": [
        {
          "output_type": "execute_result",
          "data": {
            "text/plain": [
              "array([5, 0, 4, 1, 9, 2, 1, 3, 1, 4], dtype=uint8)"
            ]
          },
          "metadata": {},
          "execution_count": 38
        }
      ]
    },
    {
      "cell_type": "code",
      "metadata": {
        "id": "OE_rHBjpKwI4"
      },
      "source": [
        "y_Train = np_utils.to_categorical(y_train_label)\n",
        "# One Hot Encoding \n",
        "y_Test = np_utils.to_categorical(y_test_label)"
      ],
      "execution_count": null,
      "outputs": []
    },
    {
      "cell_type": "code",
      "metadata": {
        "id": "OVCctdkTIHuT",
        "colab": {
          "base_uri": "https://localhost:8080/"
        },
        "outputId": "b8796a27-fa9f-4d03-c05b-1d2a6454d713"
      },
      "source": [
        "y_Train[:10]"
      ],
      "execution_count": null,
      "outputs": [
        {
          "output_type": "execute_result",
          "data": {
            "text/plain": [
              "array([[0., 0., 0., 0., 0., 1., 0., 0., 0., 0.],\n",
              "       [1., 0., 0., 0., 0., 0., 0., 0., 0., 0.],\n",
              "       [0., 0., 0., 0., 1., 0., 0., 0., 0., 0.],\n",
              "       [0., 1., 0., 0., 0., 0., 0., 0., 0., 0.],\n",
              "       [0., 0., 0., 0., 0., 0., 0., 0., 0., 1.],\n",
              "       [0., 0., 1., 0., 0., 0., 0., 0., 0., 0.],\n",
              "       [0., 1., 0., 0., 0., 0., 0., 0., 0., 0.],\n",
              "       [0., 0., 0., 1., 0., 0., 0., 0., 0., 0.],\n",
              "       [0., 1., 0., 0., 0., 0., 0., 0., 0., 0.],\n",
              "       [0., 0., 0., 0., 1., 0., 0., 0., 0., 0.]], dtype=float32)"
            ]
          },
          "metadata": {},
          "execution_count": 40
        }
      ]
    },
    {
      "cell_type": "markdown",
      "metadata": {
        "id": "0vWI8_aCKwJA"
      },
      "source": [
        "##【練習】\n",
        "\n",
        "1.   ## 為什麼要做 one hot encoding?\n",
        "2.   ## 上面有 \n",
        "> *   #### X_train_image, y_train_label,X_test_image, y_test_label\n",
        "> *   #### X_Train，X_Test, \n",
        "> *   ####  y_Train, y_Test Indented block\n",
        "## 各代表甚麼資料，都是甚麼類型，甚麼維度。有沒有更好的寫法。\n",
        "\n",
        "\n",
        "\n",
        "\n",
        "\n",
        "\n",
        "\n",
        "    "
      ]
    },
    {
      "cell_type": "markdown",
      "metadata": {
        "id": "fRSQnpoSKwJC"
      },
      "source": [
        "# 步驟 3 DNN Model\n",
        "\n",
        "1.   載入資料\n",
        "2.   資料前處理 (Preprocessing)\n",
        "\n",
        "1.   ### **建模型**\n",
        "2.   設定損失函式、決定梯度下降法\n",
        "1.   訓練\n"
      ]
    },
    {
      "cell_type": "code",
      "metadata": {
        "id": "2nadoOHSbjyb",
        "colab": {
          "base_uri": "https://localhost:8080/"
        },
        "outputId": "826a523f-17bd-4587-8dee-2c6e4adf736b"
      },
      "source": [
        "model = Sequential()\n",
        "model.add(Dense(4, input_dim=784, activation='relu'))   \n",
        "model.add(Dense(4, activation = 'relu'))\n",
        "model.add(Dense(4, activation= 'relu'))\n",
        "model.add(Dense(10, activation='softmax'))                   \n",
        "model.summary()"
      ],
      "execution_count": null,
      "outputs": [
        {
          "output_type": "stream",
          "name": "stdout",
          "text": [
            "Model: \"sequential_2\"\n",
            "_________________________________________________________________\n",
            " Layer (type)                Output Shape              Param #   \n",
            "=================================================================\n",
            " dense_12 (Dense)            (None, 4)                 3140      \n",
            "                                                                 \n",
            " dense_13 (Dense)            (None, 4)                 20        \n",
            "                                                                 \n",
            " dense_14 (Dense)            (None, 4)                 20        \n",
            "                                                                 \n",
            " dense_15 (Dense)            (None, 10)                50        \n",
            "                                                                 \n",
            "=================================================================\n",
            "Total params: 3,230\n",
            "Trainable params: 3,230\n",
            "Non-trainable params: 0\n",
            "_________________________________________________________________\n"
          ]
        }
      ]
    },
    {
      "cell_type": "code",
      "metadata": {
        "id": "hhXHyGiSKwJE",
        "colab": {
          "base_uri": "https://localhost:8080/"
        },
        "outputId": "8889bb95-4980-4a47-a2f4-61afc6e51825"
      },
      "source": [
        "model = Sequential()\n",
        "model.add(Dense(250, input_dim=784, activation='relu'))   \n",
        "# input = 784, output = 250 <== define 2 layers: input and the first layer\n",
        "#model.add(Dense(250, activation = 'sigmoid'))\n",
        "model.add(Dense(128, activation= 'relu'))\n",
        "model.add(Dense(10, activation='softmax'))                   # input = 500, output = 10\n",
        "model.summary()"
      ],
      "execution_count": null,
      "outputs": [
        {
          "output_type": "stream",
          "name": "stdout",
          "text": [
            "Model: \"sequential_3\"\n",
            "_________________________________________________________________\n",
            " Layer (type)                Output Shape              Param #   \n",
            "=================================================================\n",
            " dense_16 (Dense)            (None, 250)               196250    \n",
            "                                                                 \n",
            " dense_17 (Dense)            (None, 128)               32128     \n",
            "                                                                 \n",
            " dense_18 (Dense)            (None, 10)                1290      \n",
            "                                                                 \n",
            "=================================================================\n",
            "Total params: 229,668\n",
            "Trainable params: 229,668\n",
            "Non-trainable params: 0\n",
            "_________________________________________________________________\n"
          ]
        }
      ]
    },
    {
      "cell_type": "code",
      "metadata": {
        "id": "2qWIigiwIPaP"
      },
      "source": [
        "#from google.colab import drive\n",
        "#drive.mount('/content/drive')\n",
        "\n",
        "#keras.utils.plot_model(model, show_shapes=True, to_file='model.png')"
      ],
      "execution_count": null,
      "outputs": []
    },
    {
      "cell_type": "markdown",
      "metadata": {
        "id": "xVtnWoQiK4d_"
      },
      "source": [
        "## 【參數計算】"
      ]
    },
    {
      "cell_type": "code",
      "metadata": {
        "id": "k0mbuMYQK8xY",
        "colab": {
          "base_uri": "https://localhost:8080/"
        },
        "outputId": "a154c3c2-61e1-40b9-8dc4-39bde0ff2fdc"
      },
      "source": [
        "print(f'parameter number of dense_1 layer is, {784*256+256}')\n",
        "print(f'parameter number of dense_2 layer is, {256*128+128}')\n",
        "print(f'parameter number of dense_3 layer is, 填填看')"
      ],
      "execution_count": null,
      "outputs": [
        {
          "output_type": "stream",
          "name": "stdout",
          "text": [
            "parameter number of dense_1 layer is, 200960\n",
            "parameter number of dense_2 layer is, 32896\n",
            "parameter number of dense_3 layer is, 填填看\n"
          ]
        }
      ]
    },
    {
      "cell_type": "markdown",
      "metadata": {
        "id": "FX1hL0WVKwJM"
      },
      "source": [
        "# 步驟 4 設定損失函式、決定梯度下降法\n",
        "\n",
        "1.   載入資料\n",
        "2.   資料前處理 (Preprocessing)\n",
        "\n",
        "1.   建模型\n",
        "2.   ### **設定損失函式、決定梯度下降法**\n",
        "1.   訓練\n",
        "\n"
      ]
    },
    {
      "cell_type": "code",
      "metadata": {
        "id": "a-fG_S9MKwJN"
      },
      "source": [
        "model.compile(loss='categorical_crossentropy', optimizer =\"adam\", metrics=['accuracy'])"
      ],
      "execution_count": null,
      "outputs": []
    },
    {
      "cell_type": "markdown",
      "metadata": {
        "id": "S4viNmSOKWKZ"
      },
      "source": [
        "# 步驟 5 訓練\n",
        "\n",
        "1.   載入資料\n",
        "2.   資料前處理 (Preprocessing)\n",
        "\n",
        "1.   建模型\n",
        "2.   設定損失函式、決定梯度下降法\n",
        "1.   ### **訓練**\n"
      ]
    },
    {
      "cell_type": "code",
      "metadata": {
        "id": "65DZAm2AKwJS",
        "colab": {
          "base_uri": "https://localhost:8080/"
        },
        "outputId": "ae066459-d0ce-4109-f703-d55e0cb4447f"
      },
      "source": [
        "train_history=model.fit(x=X_Train, y=y_Train,validation_split=0.2, epochs=10, batch_size=200, verbose=2)"
      ],
      "execution_count": null,
      "outputs": [
        {
          "output_type": "stream",
          "name": "stdout",
          "text": [
            "Epoch 1/10\n",
            "240/240 - 1s - loss: 0.3533 - accuracy: 0.9013 - val_loss: 0.1628 - val_accuracy: 0.9531 - 1s/epoch - 6ms/step\n",
            "Epoch 2/10\n",
            "240/240 - 1s - loss: 0.1362 - accuracy: 0.9596 - val_loss: 0.1280 - val_accuracy: 0.9632 - 723ms/epoch - 3ms/step\n",
            "Epoch 3/10\n",
            "240/240 - 1s - loss: 0.0922 - accuracy: 0.9727 - val_loss: 0.0977 - val_accuracy: 0.9702 - 716ms/epoch - 3ms/step\n",
            "Epoch 4/10\n",
            "240/240 - 1s - loss: 0.0655 - accuracy: 0.9805 - val_loss: 0.0906 - val_accuracy: 0.9715 - 702ms/epoch - 3ms/step\n",
            "Epoch 5/10\n",
            "240/240 - 1s - loss: 0.0507 - accuracy: 0.9847 - val_loss: 0.0906 - val_accuracy: 0.9740 - 660ms/epoch - 3ms/step\n",
            "Epoch 6/10\n",
            "240/240 - 1s - loss: 0.0376 - accuracy: 0.9887 - val_loss: 0.0828 - val_accuracy: 0.9749 - 691ms/epoch - 3ms/step\n",
            "Epoch 7/10\n",
            "240/240 - 1s - loss: 0.0305 - accuracy: 0.9904 - val_loss: 0.0849 - val_accuracy: 0.9752 - 655ms/epoch - 3ms/step\n",
            "Epoch 8/10\n",
            "240/240 - 1s - loss: 0.0218 - accuracy: 0.9937 - val_loss: 0.0917 - val_accuracy: 0.9743 - 658ms/epoch - 3ms/step\n",
            "Epoch 9/10\n",
            "240/240 - 1s - loss: 0.0145 - accuracy: 0.9963 - val_loss: 0.0817 - val_accuracy: 0.9778 - 655ms/epoch - 3ms/step\n",
            "Epoch 10/10\n",
            "240/240 - 1s - loss: 0.0125 - accuracy: 0.9967 - val_loss: 0.0830 - val_accuracy: 0.9785 - 659ms/epoch - 3ms/step\n"
          ]
        }
      ]
    },
    {
      "cell_type": "code",
      "metadata": {
        "id": "5S5ffTIUQG0K",
        "colab": {
          "base_uri": "https://localhost:8080/"
        },
        "outputId": "00f2022d-f4e8-483e-df33-b870aa783ce7"
      },
      "source": [
        "train_history.history['val_loss']"
      ],
      "execution_count": null,
      "outputs": [
        {
          "output_type": "execute_result",
          "data": {
            "text/plain": [
              "[0.16275398433208466,\n",
              " 0.127965047955513,\n",
              " 0.09765635430812836,\n",
              " 0.0906454399228096,\n",
              " 0.09061665832996368,\n",
              " 0.08281603455543518,\n",
              " 0.08488520234823227,\n",
              " 0.0916607528924942,\n",
              " 0.08170164376497269,\n",
              " 0.08297929167747498]"
            ]
          },
          "metadata": {},
          "execution_count": 47
        }
      ]
    },
    {
      "cell_type": "markdown",
      "metadata": {
        "id": "CufoG2LOKgi2"
      },
      "source": [
        "# 預測"
      ]
    },
    {
      "cell_type": "code",
      "metadata": {
        "id": "jyR0otYlKwJX",
        "colab": {
          "base_uri": "https://localhost:8080/"
        },
        "outputId": "54a50c24-4970-4278-a60c-f61dd12c41c5"
      },
      "source": [
        "pred_test = np.argmax(model.predict(X_Test[0:50]), axis = 1)\n",
        "print(pred_test)\n",
        "print(y_test_label[0:50])"
      ],
      "execution_count": null,
      "outputs": [
        {
          "output_type": "stream",
          "name": "stdout",
          "text": [
            "[7 2 1 0 4 1 4 9 5 9 0 6 9 0 1 5 9 7 3 4 9 6 6 5 4 0 7 4 0 1 3 1 3 4 7 2 7\n",
            " 1 2 1 1 7 4 2 3 5 1 2 4 4]\n",
            "[7 2 1 0 4 1 4 9 5 9 0 6 9 0 1 5 9 7 3 4 9 6 6 5 4 0 7 4 0 1 3 1 3 4 7 2 7\n",
            " 1 2 1 1 7 4 2 3 5 1 2 4 4]\n"
          ]
        }
      ]
    },
    {
      "cell_type": "code",
      "metadata": {
        "id": "RY1e5J3m2WMT",
        "colab": {
          "base_uri": "https://localhost:8080/"
        },
        "outputId": "c190f8df-2c88-4280-924c-22685c043b63"
      },
      "source": [
        "pred_test_simple = model.predict(X_Test[0:2])\n",
        "print(pred_test_simple)"
      ],
      "execution_count": null,
      "outputs": [
        {
          "output_type": "stream",
          "name": "stdout",
          "text": [
            "[[7.2454071e-10 4.7307424e-08 2.5580809e-07 4.4247587e-05 3.0747429e-12\n",
            "  9.1757643e-11 1.2930031e-14 9.9995363e-01 1.6124231e-07 1.6358538e-06]\n",
            " [2.1991035e-13 9.8441740e-07 9.9999905e-01 4.0627244e-09 1.7153393e-15\n",
            "  8.5245856e-12 1.7271697e-13 1.5750441e-12 2.2344089e-08 5.1914256e-18]]\n"
          ]
        }
      ]
    },
    {
      "cell_type": "markdown",
      "metadata": {
        "id": "JiHLYUyvDR-g"
      },
      "source": []
    },
    {
      "cell_type": "markdown",
      "metadata": {
        "id": "GwJxYDPHTA-2"
      },
      "source": [
        "【練習】\n",
        "\n",
        "2. ## check train_history.history\n",
        "3. ## 理解 train_history.history 的 dictionary 結構，利用結構搭配 matplotlib.pyplot 畫出訓練過程的 loss 與 val_loss"
      ]
    },
    {
      "cell_type": "code",
      "metadata": {
        "id": "auq3G-9lD7C5",
        "colab": {
          "base_uri": "https://localhost:8080/"
        },
        "outputId": "4d24d0c6-bd63-4693-a172-3975eb2666f2"
      },
      "source": [
        "plt.plot(train_history.epoch, train_history.history['loss'], label ='loss')\n",
        "plt.plot(train_history.epoch, train_history.history['val_loss'], label='val_loss')\n",
        "plt.xlabel('epoch')\n",
        "plt.ylabel('loss')\n",
        "plt.legend(loc = 8)\n",
        "plt.show()"
      ],
      "execution_count": null,
      "outputs": [
        {
          "output_type": "display_data",
          "data": {
            "text/plain": [
              "<Figure size 432x288 with 1 Axes>"
            ],
            "image/png": "[encoded data removed]"
          },
          "metadata": {
            "needs_background": "light"
          }
        }
      ]
    },
    {
      "cell_type": "markdown",
      "metadata": {
        "id": "ROzzmEM5UbkI"
      },
      "source": [
        "# 『練習』\n",
        "\n",
        "* 加或修改 layers, \n",
        "\n",
        "* 改變 gpu mode, 增加 epochs\n",
        "\n",
        "* loss = 'sparse_categorical_crossentropy' with metric = ['sparse_categorical_accuracy']?\n",
        "* loss = 'mse'\n",
        "\n",
        "* sigmoid?\n",
        "\n",
        "* dataset: cifar100"
      ]
    },
    {
      "cell_type": "markdown",
      "metadata": {
        "id": "sj3-kdl9Knu5"
      },
      "source": [
        "# 評估"
      ]
    },
    {
      "cell_type": "code",
      "metadata": {
        "id": "2JO_pHoz2jOO",
        "colab": {
          "base_uri": "https://localhost:8080/"
        },
        "outputId": "49d7537c-938b-49e8-87c3-409f8b61595c"
      },
      "source": [
        "eva = model.evaluate(X_Test, y_Test)\n",
        "print(f\"loss in model is, {eva[0]}\")\n",
        "print(f\"accuracy of model is, {eva[1]}\")\n",
        "\n",
        "pred_test_proba=model.predict(X_Test[0:3])\n",
        "print(pred_test_proba)  # model.predcit 一樣，但是跟 ML's sklearn 不一樣嗎?"
      ],
      "execution_count": null,
      "outputs": [
        {
          "output_type": "stream",
          "name": "stdout",
          "text": [
            "313/313 [==============================] - 1s 3ms/step - loss: 0.0831 - accuracy: 0.9781\n",
            "loss in model is, 0.08308292925357819\n",
            "accuracy of model is, 0.9781000018119812\n",
            "[[7.2454071e-10 4.7307424e-08 2.5580809e-07 4.4247587e-05 3.0747429e-12\n",
            "  9.1757643e-11 1.2930031e-14 9.9995363e-01 1.6124231e-07 1.6358538e-06]\n",
            " [2.1991035e-13 9.8441740e-07 9.9999905e-01 4.0627244e-09 1.7153393e-15\n",
            "  8.5245856e-12 1.7271697e-13 1.5750441e-12 2.2344089e-08 5.1914256e-18]\n",
            " [5.0158313e-08 9.9928600e-01 1.8528999e-05 2.2515385e-06 8.8956713e-06\n",
            "  4.5264765e-06 5.0012632e-06 2.5484318e-04 4.1964112e-04 4.2197374e-07]]\n"
          ]
        }
      ]
    },
    {
      "cell_type": "markdown",
      "metadata": {
        "id": "6EN5wqVzGBPf"
      },
      "source": [
        "## 單一資料預測需要有第一維度指出資料筆數編號。"
      ]
    },
    {
      "cell_type": "code",
      "metadata": {
        "id": "ItT83ct6FPs4",
        "colab": {
          "base_uri": "https://localhost:8080/"
        },
        "outputId": "9da69137-11fe-4f8a-e409-c9552af5b274"
      },
      "source": [
        "model.predict(np.expand_dims(X_Test[0],axis=0)) "
      ],
      "execution_count": null,
      "outputs": [
        {
          "output_type": "execute_result",
          "data": {
            "text/plain": [
              "array([[7.2453932e-10, 4.7307424e-08, 2.5580761e-07, 4.4247587e-05,\n",
              "        3.0747488e-12, 9.1757817e-11, 1.2930031e-14, 9.9995363e-01,\n",
              "        1.6124231e-07, 1.6358538e-06]], dtype=float32)"
            ]
          },
          "metadata": {},
          "execution_count": 52
        }
      ]
    },
    {
      "cell_type": "markdown",
      "metadata": {
        "id": "6akK4sMdh9fR"
      },
      "source": [
        "# [練習]\n",
        "\n",
        "\n",
        "```\n",
        "(train_x, train_y),(test_x, test_y) = fashion_mnist.load_data()\n",
        "```\n",
        "\n"
      ]
    },
    {
      "cell_type": "markdown",
      "metadata": {
        "id": "NV-xTj6ZGPuf"
      },
      "source": [
        "\n",
        "\n",
        "```\n",
        "import cv2\n",
        "from PIL import Image\n",
        "def imgtest(jpegfile):\n",
        "    filename = colabok  + jpegfile+'.png'\n",
        "    #print(filename)\n",
        "    img = Image.open(filename)\n",
        "    img = img.resize((28,28), Image.BILINEAR)\n",
        "    filename = colabok+ jpegfile+'r.png'\n",
        "    img.save(filename)\n",
        "    img = cv2.imread(filename)\n",
        "    img=img[:,:,0]\n",
        "    img = 1-img\n",
        "    img784 = img.reshape(1,784)\n",
        "    img784 = img784/255\n",
        "    img = img/255\n",
        "    plt.imshow(img)\n",
        "    Prediction_s = model.predict_classes(img784)\n",
        "    #plot_image(img)\n",
        "    return img, Prediction_s\n",
        "```\n",
        "\n",
        "\n",
        "\n",
        "```\n",
        "print('Oh ~~ ')\n",
        "x, pred_b=imgtest('DNN_8r')\n",
        "print(pred_b)\n",
        "\n",
        "plt.imshow(x)\n",
        "plt.show()\n",
        "#plt.imshow(X_Test[0].reshape(28,28))\n",
        "#plt.show\n",
        "```\n",
        "\n",
        "\n",
        "\n"
      ]
    },
    {
      "cell_type": "markdown",
      "metadata": {
        "collapsed": true,
        "id": "UPz-ScHsKwJ4"
      },
      "source": [
        "# 練習與觀察 1:\n",
        "\n",
        "    原本 \n",
        "    model = Sequential()\n",
        "    model.add(Dense(units=256,input_dim=784,kernel_initializer ='normal', activation ='relu'))  \n",
        "    model.add(Dense(units=10, kernel_initializer='normal',activation='softmax'))\n",
        "    為幾個 hidden layers?\n",
        "    \n",
        "    \n",
        "    改為 \n",
        "    model = Sequential()\n",
        "    model.add(Dense(units=10,input_dim=784, activation='softmax'))  \n",
        "    為幾個 hidden layers?\n",
        "    \n",
        "    結果為何？"
      ]
    },
    {
      "cell_type": "markdown",
      "metadata": {
        "id": "TEwi6VjLKwJ5"
      },
      "source": [
        "# 練習與觀察 2:\n",
        "    原本 與處理的 normalization\n",
        "    X_Train = X_Train/255\n",
        "    X_Test = X_Test/255\n",
        "    \n",
        "    如果被 Remark，\n",
        "    結果如何觀察？\n"
      ]
    },
    {
      "cell_type": "markdown",
      "metadata": {
        "id": "a61Y1MZTKwJ8"
      },
      "source": [
        "# 練習與觀察 3:\n",
        "    原本 \n",
        "    model = Sequential()\n",
        "    model.add(Dense(units=256,input_dim=784,kernel_initializer ='normal', activation ='relu'))  \n",
        "    model.add(Dense(units=10, kernel_initializer='normal',activation='softmax'))\n",
        "    為幾個 hidden layers?\n",
        "\n",
        "\n",
        "    改為 \n",
        "    model = Sequential()\n",
        "    model.add(Dense(units=256,input_dim=784,kernel_initializer ='normal', activation ='sigmoid'))  \n",
        "    model.add(Dense(units=10, kernel_initializer='normal',activation='softmax'))\n",
        "    結果為何？"
      ]
    },
    {
      "cell_type": "markdown",
      "metadata": {
        "id": "tobkNVNnKwJ9"
      },
      "source": [
        "# 練習與觀察 4:\n",
        "    其他觀察：\n",
        "        以上改變有沒有造成訓練時間變化？\n",
        "        reset 後 重跑training格子,  與不 reset 再多跑幾次 training 格子，結果是怎樣？\n",
        "        validation_split = 0.1 會發生什麼狀況？\n",
        "        reset 後, epochs 改為 1, , 3, 7, 10, 15, 20 去觀察 big0.jpg 的結果\n",
        "        batch_size =100, 200, 300 的觀察\n",
        "        verbose = 0, 1, 2\n",
        "        \n",
        "### 每次改變後，請記得改回原本得值~~"
      ]
    },
    {
      "cell_type": "markdown",
      "metadata": {
        "id": "CikpGU_jKwKA"
      },
      "source": [
        "    esc +b\n",
        "    esc +m\n",
        "    esc +y\n",
        "    esc +x\n",
        "    esc +h\n",
        "    esc +a\n",
        "    \n",
        "    command + s\n",
        "    \n",
        "    control + enter\n",
        "    control + alt\n",
        "    tab\n",
        "    shif + tab \n",
        "    ?...\n",
        "    !ls\n",
        "    !rm\n",
        "    !cd\n",
        "    %\n",
        "    \n",
        "    ctrl + enter"
      ]
    }
  ]
}