{
 "cells": [
  {
   "cell_type": "markdown",
   "metadata": {},
   "source": [
    "# TensorFlow進階技巧"
   ]
  },
  {
   "cell_type": "markdown",
   "metadata": {},
   "source": [
    "<table class=\"tfo-notebook-buttons\" align=\"left\">\n",
    "  <td>\n",
    "    <a target=\"_blank\" href=\"https://colab.research.google.com/github/taipeitechmmslab/MMSLAB-TF2/blob/master/Lab6.ipynb\"><img src=\"https://www.tensorflow.org/images/colab_logo_32px.png\" />Run in Google Colab</a>\n",
    "  </td>\n",
    "  <td>\n",
    "    <a target=\"_blank\" href=\"https://github.com/taipeitechmmslab/MMSLAB-TF2/blob/master/Lab6.ipynb\"><img src=\"https://www.tensorflow.org/images/GitHub-Mark-32px.png\" />View source on GitHub</a>\n",
    "  </td>\n",
    "</table>"
   ]
  },
  {
   "cell_type": "code",
   "execution_count": 1,
   "metadata": {},
   "outputs": [],
   "source": [
    "import tensorflow as tf"
   ]
  },
  {
   "cell_type": "markdown",
   "metadata": {},
   "source": [
    "## Custom Layers\n",
    "透過繼承`tf.keras.layers.Layer`類別，來輕鬆創建字定義的網路層。\n",
    "\n",
    "你可以到https://www.tensorflow.org/api_docs/python/tf/keras/layers 官方API察看更多的網路層。"
   ]
  },
  {
   "cell_type": "markdown",
   "metadata": {},
   "source": [
    "Example: 簡單的客自化Convolutional layers。"
   ]
  },
  {
   "cell_type": "code",
   "execution_count": 2,
   "metadata": {},
   "outputs": [],
   "source": [
    "class CustomConv2D(tf.keras.layers.Layer):\n",
    "    def __init__(self, filters, kernel_size, strides=(1, 1), padding=\"VALID\", **kwargs):\n",
    "        super(CustomConv2D, self).__init__(**kwargs)\n",
    "        self.filters = filters\n",
    "        self.kernel_size = kernel_size\n",
    "        self.strides = (1, *strides, 1)\n",
    "        self.padding = padding\n",
    "\n",
    "    def build(self, input_shape):\n",
    "        kernel_h, kernel_w = self.kernel_size\n",
    "        input_dim = input_shape[-1]\n",
    "        # 創建卷積的權重值(weights)\n",
    "        self.w = self.add_weight(name='kernel', \n",
    "                                 shape=(kernel_h, kernel_w, input_dim, self.filters),\n",
    "                                 initializer='glorot_uniform',  # 設定初始化方法\n",
    "                                 trainable=True)  # 設定這個權重是否能夠訓練(更動)\n",
    "        # 創建卷積的偏差值(bias)\n",
    "        self.b = self.add_weight(name='bias', \n",
    "                                 shape=(self.filters,),\n",
    "                                 initializer='zeros',  # 設定初始化方法\n",
    "                                 trainable=True)  # 設定這個權重是否能夠訓練(更動)\n",
    "\n",
    "    def call(self, inputs):\n",
    "        x = tf.nn.conv2d(inputs, self.w, self.strides, padding=self.padding) # 卷積運算\n",
    "        x = tf.nn.bias_add(x, self.b)  # 加上偏差值\n",
    "        x = tf.nn.relu(x)  # 激活函數\n",
    "        return x"
   ]
  },
  {
   "cell_type": "markdown",
   "metadata": {},
   "source": [
    "## Custom Loss\n",
    "\n",
    "在設計進階的研究方法或更深入解決問題時，TensorFlow官方文件所提供的損失函數，通常不夠使用，這時候你就必須自己定義損失函數，實作自己設計的損失函數。"
   ]
  },
  {
   "cell_type": "markdown",
   "metadata": {},
   "source": [
    "Example: 簡單的客自化Crossentropy Loss。"
   ]
  },
  {
   "cell_type": "code",
   "execution_count": 3,
   "metadata": {
    "scrolled": true
   },
   "outputs": [],
   "source": [
    "def custom_categorical_crossentropy(y_true, y_pred):\n",
    "    # x = tf.reduce_mean(-tf.reduce_sum(y_true * tf.log(y_pred), reduction_indices=[1]))\n",
    "    x = tf.nn.softmax_cross_entropy_with_logits(labels=y_true, logits=y_pred)\n",
    "    return x"
   ]
  },
  {
   "cell_type": "markdown",
   "metadata": {},
   "source": [
    "## Custom Metrics\n",
    "\n",
    "如果你需要的指標函數官方API並沒有提供，你可以通過繼承`tf.keras.metrics.Metric`類別，來輕鬆創建自定義的指標函數。"
   ]
  },
  {
   "cell_type": "markdown",
   "metadata": {},
   "source": [
    "Example: 計算多少個樣本是正確分類的。"
   ]
  },
  {
   "cell_type": "code",
   "execution_count": 4,
   "metadata": {},
   "outputs": [],
   "source": [
    "class CustomCategoricalAccuracy(tf.keras.metrics.Metric):\n",
    "    def __init__(self, name='custom_catrgorical_accuracy', **kwargs):\n",
    "        super(CustomCategoricalAccuracy, self).__init__(name=name, **kwargs)\n",
    "        # 記錄正確預測的數量\n",
    "        self.correct = self.add_weight('correct_numbers', initializer='zeros')\n",
    "        # 記錄全部資料的量數\n",
    "        self.total = self.add_weight('total_numbers', initializer='zeros')\n",
    "\n",
    "    def update_state(self, y_true, y_pred, sample_weight=None):\n",
    "        # 輸入答案為One-hot編碼，所以取最大的數值為答案\n",
    "        y_true = tf.argmax(y_true, axis=-1)\n",
    "        # 取預測輸出最大的數值為預測結果\n",
    "        y_pred = tf.argmax(y_pred, axis=-1)\n",
    "        # 比較預測結果是否正確，正確會返回True(正確)，錯誤會返回False(錯誤)\n",
    "        values = tf.equal(y_true, y_pred)\n",
    "        # 轉為浮點數True(正確)=1.0，False(錯誤)=0.0\n",
    "        values = tf.cast(values, tf.float32)\n",
    "        # 將values所有數值相加就會等於正確預測的總數\n",
    "        values_sum = tf.reduce_sum(values)\n",
    "        # 計算這個Batch的資料數量\n",
    "        num_values = tf.cast(tf.size(values), tf.float32)\n",
    "        self.correct.assign_add(values_sum)  # 更新正確預測的總數\n",
    "        self.total.assign_add(num_values)  # 更新資料量的總數\n",
    "\n",
    "    def result(self):\n",
    "        # 計算準確率\n",
    "        return tf.math.divide_no_nan(self.correct, self.total)\n",
    "\n",
    "    def reset_states(self):\n",
    "        # 每一次Epoch結束後會重新初始化變數\n",
    "        self.correct.assign(0.)\n",
    "        self.total.assign(0.)"
   ]
  },
  {
   "cell_type": "markdown",
   "metadata": {},
   "source": [
    "## Custom Callbacks\n",
    "\n",
    "如果你需要的監控或執行的操作官方的Callbacks函數沒有提供，你可以通過繼承`tf.keras.callbacks.Callback`類別，來輕鬆創建字定義的Callbacks函數。"
   ]
  },
  {
   "cell_type": "markdown",
   "metadata": {},
   "source": [
    "Example: 紀錄每一個batch的loss值。"
   ]
  },
  {
   "cell_type": "code",
   "execution_count": 5,
   "metadata": {},
   "outputs": [],
   "source": [
    "class SaveModel(tf.keras.callbacks.Callback):\n",
    "    def __init__(self, weights_file, monitor='loss', mode='min', save_weights_only=False):\n",
    "        super(SaveModel, self).__init__()\n",
    "        self.weights_file = weights_file\n",
    "        self.monitor = monitor\n",
    "        self.mode = mode\n",
    "        self.save_weights_only = save_weights_only\n",
    "        if mode == 'min':\n",
    "            self.best = np.Inf\n",
    "        else:\n",
    "            self.best = -np.Inf\n",
    "        \n",
    "    def save_model(self):\n",
    "        if self.save_weights_only:\n",
    "            self.model.save_weights(self.weights_file)\n",
    "        else:\n",
    "            self.model.save(self.weights_file)\n",
    "\n",
    "    def on_epoch_end(self, epoch, logs=None):\n",
    "        monitor_value = logs.get(self.monitor)\n",
    "        if self.mode == 'min' and monitor_value < self.best:\n",
    "            self.save_model()\n",
    "            self.best = monitor_value\n",
    "        elif self.mode == 'max' and monitor_value > self.best:\n",
    "            self.save_model()\n",
    "            self.best = monitor_value"
   ]
  },
  {
   "cell_type": "markdown",
   "metadata": {},
   "source": [
    "# 實驗：比較Keras高階API和客製化API兩種網路訓練的結果"
   ]
  },
  {
   "cell_type": "markdown",
   "metadata": {},
   "source": [
    "### Import 必要套件"
   ]
  },
  {
   "cell_type": "code",
   "execution_count": 6,
   "metadata": {},
   "outputs": [],
   "source": [
    "import os\n",
    "import numpy as np\n",
    "import pandas as pd\n",
    "import tensorflow as tf\n",
    "import tensorflow_datasets as tfds\n",
    "import matplotlib.pyplot as plt\n",
    "from tensorflow import keras\n",
    "from tensorflow.keras import layers\n",
    "from tensorflow.keras import initializers\n",
    "from preprocessing import parse_aug_fn, parse_fn"
   ]
  },
  {
   "cell_type": "markdown",
   "metadata": {},
   "source": [
    "### Cifar 10\n",
    "載入Cifar10數據集"
   ]
  },
  {
   "cell_type": "code",
   "execution_count": 7,
   "metadata": {},
   "outputs": [],
   "source": [
    "# 將train Data重新分成9:1等分，分別分給train data, valid data\n",
    "train_split, valid_split = ['train[:90%]', 'train[90%:]']\n",
    "# 取得訓練數據，並順便讀取data的資訊\n",
    "train_data, info = tfds.load(\"cifar10\", split=train_split, with_info=True)\n",
    "# 取得驗證數據\n",
    "valid_data = tfds.load(\"cifar10\", split=valid_split)\n",
    "# 取得測試數據\n",
    "test_data = tfds.load(\"cifar10\", split=tfds.Split.TEST)"
   ]
  },
  {
   "cell_type": "markdown",
   "metadata": {},
   "source": [
    "### Dataset 設定"
   ]
  },
  {
   "cell_type": "code",
   "execution_count": 8,
   "metadata": {},
   "outputs": [],
   "source": [
    "AUTOTUNE = tf.data.experimental.AUTOTUNE  # 自動調整模式\n",
    "batch_size = 64  # 批次大小\n",
    "train_num = int(info.splits['train'].num_examples / 10) * 9  # 訓練資料數量\n",
    "\n",
    "train_data = train_data.shuffle(train_num)  # 打散資料集\n",
    "# 載入預處理「 parse_aug_fn」function，cpu數量為自動調整模式\n",
    "train_data = train_data.map(map_func=parse_aug_fn, num_parallel_calls=AUTOTUNE)\n",
    "# 設定批次大小並將prefetch模式開啟(暫存空間為自動調整模式)\n",
    "train_data = train_data.batch(batch_size).prefetch(buffer_size=AUTOTUNE)\n",
    "\n",
    "# 載入預處理「 parse_fn」function，cpu數量為自動調整模式\n",
    "valid_data = valid_data.map(map_func=parse_fn, num_parallel_calls=AUTOTUNE)\n",
    "# 設定批次大小並將prefetch模式開啟(暫存空間為自動調整模式)\n",
    "valid_data = valid_data.batch(batch_size).prefetch(buffer_size=AUTOTUNE)\n",
    "\n",
    "# 載入預處理「 parse_fn」function，cpu數量為自動調整模式\n",
    "test_data = test_data.map(map_func=parse_fn, num_parallel_calls=AUTOTUNE)\n",
    "# 設定批次大小並將prefetch模式開啟(暫存空間為自動調整模式)\n",
    "test_data = test_data.batch(batch_size).prefetch(buffer_size=AUTOTUNE)"
   ]
  },
  {
   "cell_type": "markdown",
   "metadata": {},
   "source": [
    "### 1. 使用Keras高階API訓練網路模型"
   ]
  },
  {
   "cell_type": "code",
   "execution_count": 9,
   "metadata": {},
   "outputs": [
    {
     "name": "stdout",
     "output_type": "stream",
     "text": [
      "Model: \"model-1\"\n",
      "_________________________________________________________________\n",
      "Layer (type)                 Output Shape              Param #   \n",
      "=================================================================\n",
      "input_1 (InputLayer)         [(None, 32, 32, 3)]       0         \n",
      "_________________________________________________________________\n",
      "conv2d (Conv2D)              (None, 30, 30, 64)        1792      \n",
      "_________________________________________________________________\n",
      "max_pooling2d (MaxPooling2D) (None, 15, 15, 64)        0         \n",
      "_________________________________________________________________\n",
      "conv2d_1 (Conv2D)            (None, 13, 13, 128)       73856     \n",
      "_________________________________________________________________\n",
      "conv2d_2 (Conv2D)            (None, 11, 11, 256)       295168    \n",
      "_________________________________________________________________\n",
      "conv2d_3 (Conv2D)            (None, 9, 9, 128)         295040    \n",
      "_________________________________________________________________\n",
      "conv2d_4 (Conv2D)            (None, 7, 7, 64)          73792     \n",
      "_________________________________________________________________\n",
      "flatten (Flatten)            (None, 3136)              0         \n",
      "_________________________________________________________________\n",
      "dense (Dense)                (None, 64)                200768    \n",
      "_________________________________________________________________\n",
      "dropout (Dropout)            (None, 64)                0         \n",
      "_________________________________________________________________\n",
      "dense_1 (Dense)              (None, 10)                650       \n",
      "=================================================================\n",
      "Total params: 941,066\n",
      "Trainable params: 941,066\n",
      "Non-trainable params: 0\n",
      "_________________________________________________________________\n"
     ]
    }
   ],
   "source": [
    "inputs = keras.Input(shape=(32, 32, 3))\n",
    "x = layers.Conv2D(64, 3, activation='relu', kernel_initializer='glorot_uniform')(inputs)\n",
    "x = layers.MaxPool2D()(x)\n",
    "x = layers.Conv2D(128, 3, activation='relu', kernel_initializer='glorot_uniform')(x)\n",
    "x = layers.Conv2D(256, 3, activation='relu', kernel_initializer='glorot_uniform')(x)\n",
    "x = layers.Conv2D(128, 3, activation='relu', kernel_initializer='glorot_uniform')(x)\n",
    "x = layers.Conv2D(64, 3, activation='relu', kernel_initializer='glorot_uniform')(x)\n",
    "x = layers.Flatten()(x)\n",
    "x = layers.Dense(64, activation='relu')(x)\n",
    "x = layers.Dropout(0.5)(x)\n",
    "outputs = layers.Dense(10)(x)\n",
    "# 建立網路模型(將輸入到輸出所有經過的網路層連接起來)\n",
    "model_1 = keras.Model(inputs, outputs, name='model-1')\n",
    "model_1.summary()"
   ]
  },
  {
   "cell_type": "markdown",
   "metadata": {},
   "source": [
    "建立Callback function"
   ]
  },
  {
   "cell_type": "code",
   "execution_count": 10,
   "metadata": {},
   "outputs": [],
   "source": [
    "# 儲存訓練記錄檔\n",
    "logs_dirs = 'lab6-logs'\n",
    "model_cbk = keras.callbacks.TensorBoard(log_dir='lab6-logs')\n",
    "\n",
    "# 紀錄每一個batch的Loss值變化\n",
    "model_dirs = logs_dirs + '/models'\n",
    "os.makedirs(model_dirs, exist_ok=True)\n",
    "save_model = tf.keras.callbacks.ModelCheckpoint(model_dirs + '/save.h5', \n",
    "                                                monitor='val_catrgorical_accuracy', \n",
    "                                                mode='max')"
   ]
  },
  {
   "cell_type": "markdown",
   "metadata": {},
   "source": [
    "設定訓練使用的優化器、客自化損失函數和客自化指標函數："
   ]
  },
  {
   "cell_type": "code",
   "execution_count": 11,
   "metadata": {},
   "outputs": [],
   "source": [
    "# 設定訓練使用的優化器、損失函數和指標函數\n",
    "model_1.compile(keras.optimizers.Adam(), \n",
    "                loss=keras.losses.CategoricalCrossentropy(from_logits=True), \n",
    "                metrics=[keras.metrics.CategoricalAccuracy()])\n"
   ]
  },
  {
   "cell_type": "code",
   "execution_count": 19,
   "metadata": {
    "scrolled": true
   },
   "outputs": [
    {
     "name": "stdout",
     "output_type": "stream",
     "text": [
      "Epoch 1/100\n",
      "      1/Unknown - 4s 4s/step - loss: 2.2930 - categorical_accuracy: 0.1406"
     ]
    },
    {
     "name": "stderr",
     "output_type": "stream",
     "text": [
      "WARNING: Logging before flag parsing goes to stderr.\n",
      "W0627 23:19:35.727828 139621473249088 callbacks.py:241] Method (on_train_batch_end) is slow compared to the batch update (0.118311). Check your callbacks.\n"
     ]
    },
    {
     "name": "stdout",
     "output_type": "stream",
     "text": [
      "704/704 [==============================] - 14s 20ms/step - loss: 2.0914 - categorical_accuracy: 0.2103 - val_loss: 0.0000e+00 - val_categorical_accuracy: 0.0000e+00\n",
      "Epoch 2/100\n",
      "704/704 [==============================] - 11s 16ms/step - loss: 1.8493 - categorical_accuracy: 0.3192 - val_loss: 1.5507 - val_categorical_accuracy: 0.4422\n",
      "Epoch 3/100\n",
      "704/704 [==============================] - 11s 16ms/step - loss: 1.7274 - categorical_accuracy: 0.3720 - val_loss: 1.4493 - val_categorical_accuracy: 0.4772\n",
      "Epoch 4/100\n",
      "704/704 [==============================] - 11s 16ms/step - loss: 1.6421 - categorical_accuracy: 0.4086 - val_loss: 1.3750 - val_categorical_accuracy: 0.5116\n",
      "Epoch 5/100\n",
      "704/704 [==============================] - 11s 16ms/step - loss: 1.5768 - categorical_accuracy: 0.4377 - val_loss: 1.2626 - val_categorical_accuracy: 0.5556\n",
      "Epoch 6/100\n",
      "704/704 [==============================] - 11s 16ms/step - loss: 1.5398 - categorical_accuracy: 0.4530 - val_loss: 1.2467 - val_categorical_accuracy: 0.5614\n",
      "Epoch 7/100\n",
      "704/704 [==============================] - 11s 16ms/step - loss: 1.5019 - categorical_accuracy: 0.4657 - val_loss: 1.1385 - val_categorical_accuracy: 0.5948\n",
      "Epoch 8/100\n",
      "704/704 [==============================] - 11s 16ms/step - loss: 1.4713 - categorical_accuracy: 0.4802 - val_loss: 1.1558 - val_categorical_accuracy: 0.5902\n",
      "Epoch 9/100\n",
      "704/704 [==============================] - 11s 16ms/step - loss: 1.4350 - categorical_accuracy: 0.4926 - val_loss: 1.0686 - val_categorical_accuracy: 0.6168\n",
      "Epoch 10/100\n",
      "704/704 [==============================] - 11s 16ms/step - loss: 1.4069 - categorical_accuracy: 0.5056 - val_loss: 1.0793 - val_categorical_accuracy: 0.6204\n",
      "Epoch 11/100\n",
      "704/704 [==============================] - 11s 16ms/step - loss: 1.3776 - categorical_accuracy: 0.5165 - val_loss: 1.0710 - val_categorical_accuracy: 0.6276\n",
      "Epoch 12/100\n",
      "704/704 [==============================] - 11s 16ms/step - loss: 1.3488 - categorical_accuracy: 0.5268 - val_loss: 1.1477 - val_categorical_accuracy: 0.5922\n",
      "Epoch 13/100\n",
      "704/704 [==============================] - 11s 16ms/step - loss: 1.3298 - categorical_accuracy: 0.5356 - val_loss: 1.0076 - val_categorical_accuracy: 0.6450\n",
      "Epoch 14/100\n",
      "704/704 [==============================] - 11s 16ms/step - loss: 1.3097 - categorical_accuracy: 0.5405 - val_loss: 0.9710 - val_categorical_accuracy: 0.6596\n",
      "Epoch 15/100\n",
      "704/704 [==============================] - 11s 16ms/step - loss: 1.2914 - categorical_accuracy: 0.5528 - val_loss: 1.0303 - val_categorical_accuracy: 0.6356\n",
      "Epoch 16/100\n",
      "704/704 [==============================] - 11s 16ms/step - loss: 1.2722 - categorical_accuracy: 0.5605 - val_loss: 0.9646 - val_categorical_accuracy: 0.6564\n",
      "Epoch 17/100\n",
      "704/704 [==============================] - 11s 16ms/step - loss: 1.2536 - categorical_accuracy: 0.5643 - val_loss: 0.9178 - val_categorical_accuracy: 0.6714\n",
      "Epoch 18/100\n",
      "704/704 [==============================] - 11s 16ms/step - loss: 1.2383 - categorical_accuracy: 0.5675 - val_loss: 0.9985 - val_categorical_accuracy: 0.6476\n",
      "Epoch 19/100\n",
      "704/704 [==============================] - 11s 16ms/step - loss: 1.2225 - categorical_accuracy: 0.5761 - val_loss: 0.9512 - val_categorical_accuracy: 0.6560\n",
      "Epoch 20/100\n",
      "704/704 [==============================] - 11s 16ms/step - loss: 1.2116 - categorical_accuracy: 0.5790 - val_loss: 0.8857 - val_categorical_accuracy: 0.6894\n",
      "Epoch 21/100\n",
      "704/704 [==============================] - 11s 16ms/step - loss: 1.1936 - categorical_accuracy: 0.5892 - val_loss: 0.8679 - val_categorical_accuracy: 0.6946\n",
      "Epoch 22/100\n",
      "704/704 [==============================] - 11s 16ms/step - loss: 1.1815 - categorical_accuracy: 0.5932 - val_loss: 0.9466 - val_categorical_accuracy: 0.6686\n",
      "Epoch 23/100\n",
      "704/704 [==============================] - 11s 16ms/step - loss: 1.1681 - categorical_accuracy: 0.5963 - val_loss: 0.9296 - val_categorical_accuracy: 0.6742\n",
      "Epoch 24/100\n",
      "704/704 [==============================] - 11s 16ms/step - loss: 1.1634 - categorical_accuracy: 0.5982 - val_loss: 0.8453 - val_categorical_accuracy: 0.7060\n",
      "Epoch 25/100\n",
      "704/704 [==============================] - 11s 16ms/step - loss: 1.1407 - categorical_accuracy: 0.6039 - val_loss: 0.8302 - val_categorical_accuracy: 0.7096\n",
      "Epoch 26/100\n",
      "704/704 [==============================] - 11s 16ms/step - loss: 1.1378 - categorical_accuracy: 0.6075 - val_loss: 0.8476 - val_categorical_accuracy: 0.7102\n",
      "Epoch 27/100\n",
      "704/704 [==============================] - 11s 16ms/step - loss: 1.1311 - categorical_accuracy: 0.6096 - val_loss: 0.8392 - val_categorical_accuracy: 0.7068\n",
      "Epoch 28/100\n",
      "704/704 [==============================] - 11s 16ms/step - loss: 1.1115 - categorical_accuracy: 0.6190 - val_loss: 0.8445 - val_categorical_accuracy: 0.7024\n",
      "Epoch 29/100\n",
      "704/704 [==============================] - 11s 16ms/step - loss: 1.1032 - categorical_accuracy: 0.6206 - val_loss: 0.8189 - val_categorical_accuracy: 0.7152\n",
      "Epoch 30/100\n",
      "704/704 [==============================] - 11s 16ms/step - loss: 1.0989 - categorical_accuracy: 0.6265 - val_loss: 0.8638 - val_categorical_accuracy: 0.7006\n",
      "Epoch 31/100\n",
      "704/704 [==============================] - 11s 16ms/step - loss: 1.0802 - categorical_accuracy: 0.6314 - val_loss: 0.8378 - val_categorical_accuracy: 0.7048\n",
      "Epoch 32/100\n",
      "704/704 [==============================] - 11s 16ms/step - loss: 1.0766 - categorical_accuracy: 0.6316 - val_loss: 0.8632 - val_categorical_accuracy: 0.7048\n",
      "Epoch 33/100\n",
      "704/704 [==============================] - 11s 16ms/step - loss: 1.0661 - categorical_accuracy: 0.6361 - val_loss: 0.7763 - val_categorical_accuracy: 0.7314\n",
      "Epoch 34/100\n",
      "704/704 [==============================] - 11s 16ms/step - loss: 1.0670 - categorical_accuracy: 0.6374 - val_loss: 0.7555 - val_categorical_accuracy: 0.7360\n",
      "Epoch 35/100\n",
      "704/704 [==============================] - 11s 16ms/step - loss: 1.0527 - categorical_accuracy: 0.6411 - val_loss: 0.7572 - val_categorical_accuracy: 0.7376\n",
      "Epoch 36/100\n",
      "704/704 [==============================] - 11s 16ms/step - loss: 1.0440 - categorical_accuracy: 0.6442 - val_loss: 0.7935 - val_categorical_accuracy: 0.7308\n",
      "Epoch 37/100\n",
      "704/704 [==============================] - 11s 16ms/step - loss: 1.0426 - categorical_accuracy: 0.6428 - val_loss: 0.7976 - val_categorical_accuracy: 0.7182\n",
      "Epoch 38/100\n",
      "704/704 [==============================] - 11s 16ms/step - loss: 1.0287 - categorical_accuracy: 0.6467 - val_loss: 0.8536 - val_categorical_accuracy: 0.7072\n",
      "Epoch 39/100\n",
      "704/704 [==============================] - 11s 16ms/step - loss: 1.0365 - categorical_accuracy: 0.6480 - val_loss: 0.7794 - val_categorical_accuracy: 0.7312\n",
      "Epoch 40/100\n",
      "704/704 [==============================] - 11s 16ms/step - loss: 1.0100 - categorical_accuracy: 0.6550 - val_loss: 0.7386 - val_categorical_accuracy: 0.7426\n",
      "Epoch 41/100\n",
      "704/704 [==============================] - 11s 16ms/step - loss: 1.0087 - categorical_accuracy: 0.6583 - val_loss: 0.7800 - val_categorical_accuracy: 0.7308\n",
      "Epoch 42/100\n",
      "704/704 [==============================] - 11s 16ms/step - loss: 1.0026 - categorical_accuracy: 0.6605 - val_loss: 0.7826 - val_categorical_accuracy: 0.7354\n",
      "Epoch 43/100\n",
      "704/704 [==============================] - 11s 16ms/step - loss: 1.0049 - categorical_accuracy: 0.6589 - val_loss: 0.7172 - val_categorical_accuracy: 0.7536\n",
      "Epoch 44/100\n",
      "704/704 [==============================] - 11s 16ms/step - loss: 0.9914 - categorical_accuracy: 0.6621 - val_loss: 0.7479 - val_categorical_accuracy: 0.7416\n",
      "Epoch 45/100\n",
      "704/704 [==============================] - 11s 16ms/step - loss: 0.9911 - categorical_accuracy: 0.6658 - val_loss: 0.7627 - val_categorical_accuracy: 0.7350\n",
      "Epoch 46/100\n",
      "704/704 [==============================] - 11s 16ms/step - loss: 0.9780 - categorical_accuracy: 0.6695 - val_loss: 0.7431 - val_categorical_accuracy: 0.7442\n",
      "Epoch 47/100\n",
      "704/704 [==============================] - 11s 16ms/step - loss: 0.9750 - categorical_accuracy: 0.6709 - val_loss: 0.8406 - val_categorical_accuracy: 0.7180\n",
      "Epoch 48/100\n",
      "704/704 [==============================] - 11s 16ms/step - loss: 0.9682 - categorical_accuracy: 0.6720 - val_loss: 0.7142 - val_categorical_accuracy: 0.7614\n",
      "Epoch 49/100\n",
      "704/704 [==============================] - 11s 16ms/step - loss: 0.9583 - categorical_accuracy: 0.6750 - val_loss: 0.7467 - val_categorical_accuracy: 0.7524\n",
      "Epoch 50/100\n",
      "704/704 [==============================] - 11s 16ms/step - loss: 0.9536 - categorical_accuracy: 0.6772 - val_loss: 0.7803 - val_categorical_accuracy: 0.7408\n",
      "Epoch 51/100\n",
      "704/704 [==============================] - 11s 16ms/step - loss: 0.9501 - categorical_accuracy: 0.6772 - val_loss: 0.7280 - val_categorical_accuracy: 0.7548\n",
      "Epoch 52/100\n",
      "704/704 [==============================] - 11s 16ms/step - loss: 0.9463 - categorical_accuracy: 0.6792 - val_loss: 0.7436 - val_categorical_accuracy: 0.7494\n",
      "Epoch 53/100\n",
      "704/704 [==============================] - 11s 16ms/step - loss: 0.9417 - categorical_accuracy: 0.6818 - val_loss: 0.7320 - val_categorical_accuracy: 0.7584\n",
      "Epoch 54/100\n",
      "704/704 [==============================] - 11s 16ms/step - loss: 0.9302 - categorical_accuracy: 0.6850 - val_loss: 0.7267 - val_categorical_accuracy: 0.7556\n",
      "Epoch 55/100\n",
      "704/704 [==============================] - 11s 16ms/step - loss: 0.9279 - categorical_accuracy: 0.6889 - val_loss: 0.7016 - val_categorical_accuracy: 0.7630\n",
      "Epoch 56/100\n",
      "704/704 [==============================] - 11s 16ms/step - loss: 0.9286 - categorical_accuracy: 0.6866 - val_loss: 0.7142 - val_categorical_accuracy: 0.7622\n",
      "Epoch 57/100\n",
      "704/704 [==============================] - 11s 16ms/step - loss: 0.9209 - categorical_accuracy: 0.6916 - val_loss: 0.6895 - val_categorical_accuracy: 0.7638\n",
      "Epoch 58/100\n",
      "704/704 [==============================] - 11s 16ms/step - loss: 0.9211 - categorical_accuracy: 0.6911 - val_loss: 0.7674 - val_categorical_accuracy: 0.7480\n",
      "Epoch 59/100\n",
      "704/704 [==============================] - 11s 16ms/step - loss: 0.9223 - categorical_accuracy: 0.6916 - val_loss: 0.6879 - val_categorical_accuracy: 0.7662\n",
      "Epoch 60/100\n",
      "704/704 [==============================] - 11s 16ms/step - loss: 0.9174 - categorical_accuracy: 0.6901 - val_loss: 0.6772 - val_categorical_accuracy: 0.7724\n",
      "Epoch 61/100\n",
      "704/704 [==============================] - 11s 16ms/step - loss: 0.8981 - categorical_accuracy: 0.6975 - val_loss: 0.7369 - val_categorical_accuracy: 0.7596\n",
      "Epoch 62/100\n",
      "704/704 [==============================] - 11s 16ms/step - loss: 0.9031 - categorical_accuracy: 0.6981 - val_loss: 0.6850 - val_categorical_accuracy: 0.7742\n",
      "Epoch 63/100\n",
      "704/704 [==============================] - 12s 17ms/step - loss: 0.9069 - categorical_accuracy: 0.6928 - val_loss: 0.7171 - val_categorical_accuracy: 0.7630\n",
      "Epoch 64/100\n",
      "704/704 [==============================] - 11s 16ms/step - loss: 0.8934 - categorical_accuracy: 0.6995 - val_loss: 0.7155 - val_categorical_accuracy: 0.7626\n",
      "Epoch 65/100\n",
      "704/704 [==============================] - 11s 16ms/step - loss: 0.8921 - categorical_accuracy: 0.7008 - val_loss: 0.6903 - val_categorical_accuracy: 0.7700\n",
      "Epoch 66/100\n",
      "704/704 [==============================] - 11s 16ms/step - loss: 0.8891 - categorical_accuracy: 0.7045 - val_loss: 0.6923 - val_categorical_accuracy: 0.7618\n",
      "Epoch 67/100\n",
      "704/704 [==============================] - 11s 16ms/step - loss: 0.8820 - categorical_accuracy: 0.7029 - val_loss: 0.7351 - val_categorical_accuracy: 0.7614\n",
      "Epoch 68/100\n",
      "704/704 [==============================] - 11s 16ms/step - loss: 0.8915 - categorical_accuracy: 0.7000 - val_loss: 0.6667 - val_categorical_accuracy: 0.7676\n",
      "Epoch 69/100\n",
      "704/704 [==============================] - 11s 16ms/step - loss: 0.8852 - categorical_accuracy: 0.7038 - val_loss: 0.6940 - val_categorical_accuracy: 0.7626\n",
      "Epoch 70/100\n",
      "704/704 [==============================] - 11s 16ms/step - loss: 0.8758 - categorical_accuracy: 0.7054 - val_loss: 0.6675 - val_categorical_accuracy: 0.7802\n",
      "Epoch 71/100\n",
      "704/704 [==============================] - 11s 16ms/step - loss: 0.8855 - categorical_accuracy: 0.7036 - val_loss: 0.7177 - val_categorical_accuracy: 0.7680\n",
      "Epoch 72/100\n",
      "704/704 [==============================] - 11s 16ms/step - loss: 0.8695 - categorical_accuracy: 0.7073 - val_loss: 0.6413 - val_categorical_accuracy: 0.7858\n",
      "Epoch 73/100\n",
      "704/704 [==============================] - 11s 16ms/step - loss: 0.8722 - categorical_accuracy: 0.7068 - val_loss: 0.7247 - val_categorical_accuracy: 0.7624\n",
      "Epoch 74/100\n",
      "704/704 [==============================] - 11s 16ms/step - loss: 0.8726 - categorical_accuracy: 0.7058 - val_loss: 0.6887 - val_categorical_accuracy: 0.7708\n",
      "Epoch 75/100\n",
      "704/704 [==============================] - 11s 16ms/step - loss: 0.8711 - categorical_accuracy: 0.7101 - val_loss: 0.6878 - val_categorical_accuracy: 0.7724\n",
      "Epoch 76/100\n",
      "704/704 [==============================] - 11s 16ms/step - loss: 0.8651 - categorical_accuracy: 0.7092 - val_loss: 0.7190 - val_categorical_accuracy: 0.7598\n",
      "Epoch 77/100\n",
      "704/704 [==============================] - 11s 16ms/step - loss: 0.8665 - categorical_accuracy: 0.7106 - val_loss: 0.7095 - val_categorical_accuracy: 0.7686\n",
      "Epoch 78/100\n",
      "704/704 [==============================] - 11s 16ms/step - loss: 0.8681 - categorical_accuracy: 0.7115 - val_loss: 0.6654 - val_categorical_accuracy: 0.7788\n",
      "Epoch 79/100\n",
      "704/704 [==============================] - 11s 16ms/step - loss: 0.8462 - categorical_accuracy: 0.7166 - val_loss: 0.6722 - val_categorical_accuracy: 0.7786\n",
      "Epoch 80/100\n",
      "704/704 [==============================] - 11s 16ms/step - loss: 0.8535 - categorical_accuracy: 0.7119 - val_loss: 0.6602 - val_categorical_accuracy: 0.7792\n",
      "Epoch 81/100\n",
      "704/704 [==============================] - 11s 16ms/step - loss: 0.8559 - categorical_accuracy: 0.7124 - val_loss: 0.6591 - val_categorical_accuracy: 0.7840\n",
      "Epoch 82/100\n",
      "704/704 [==============================] - 11s 16ms/step - loss: 0.8562 - categorical_accuracy: 0.7148 - val_loss: 0.6712 - val_categorical_accuracy: 0.7730\n",
      "Epoch 83/100\n",
      "704/704 [==============================] - 11s 16ms/step - loss: 0.8376 - categorical_accuracy: 0.7194 - val_loss: 0.6674 - val_categorical_accuracy: 0.7764\n",
      "Epoch 84/100\n",
      "704/704 [==============================] - 11s 16ms/step - loss: 0.8546 - categorical_accuracy: 0.7153 - val_loss: 0.7663 - val_categorical_accuracy: 0.7582\n",
      "Epoch 85/100\n",
      "704/704 [==============================] - 11s 16ms/step - loss: 0.8456 - categorical_accuracy: 0.7167 - val_loss: 0.6648 - val_categorical_accuracy: 0.7782\n",
      "Epoch 86/100\n",
      "704/704 [==============================] - 11s 16ms/step - loss: 0.8436 - categorical_accuracy: 0.7149 - val_loss: 0.6968 - val_categorical_accuracy: 0.7728\n",
      "Epoch 87/100\n",
      "704/704 [==============================] - 11s 16ms/step - loss: 0.8389 - categorical_accuracy: 0.7186 - val_loss: 0.6622 - val_categorical_accuracy: 0.7764\n",
      "Epoch 88/100\n",
      "704/704 [==============================] - 11s 16ms/step - loss: 0.8462 - categorical_accuracy: 0.7169 - val_loss: 0.6851 - val_categorical_accuracy: 0.7770\n",
      "Epoch 89/100\n",
      "704/704 [==============================] - 11s 16ms/step - loss: 0.8427 - categorical_accuracy: 0.7195 - val_loss: 0.6943 - val_categorical_accuracy: 0.7740\n",
      "Epoch 90/100\n",
      "704/704 [==============================] - 11s 16ms/step - loss: 0.8316 - categorical_accuracy: 0.7226 - val_loss: 0.6710 - val_categorical_accuracy: 0.7826\n",
      "Epoch 91/100\n",
      "704/704 [==============================] - 11s 16ms/step - loss: 0.8362 - categorical_accuracy: 0.7233 - val_loss: 0.7114 - val_categorical_accuracy: 0.7676\n",
      "Epoch 92/100\n",
      "704/704 [==============================] - 11s 16ms/step - loss: 0.8335 - categorical_accuracy: 0.7218 - val_loss: 0.6620 - val_categorical_accuracy: 0.7864\n",
      "Epoch 93/100\n",
      "704/704 [==============================] - 11s 16ms/step - loss: 0.8346 - categorical_accuracy: 0.7226 - val_loss: 0.6478 - val_categorical_accuracy: 0.7822\n",
      "Epoch 94/100\n",
      "704/704 [==============================] - 11s 16ms/step - loss: 0.8304 - categorical_accuracy: 0.7231 - val_loss: 0.6759 - val_categorical_accuracy: 0.7718\n",
      "Epoch 95/100\n",
      "704/704 [==============================] - 11s 16ms/step - loss: 0.8259 - categorical_accuracy: 0.7230 - val_loss: 0.6731 - val_categorical_accuracy: 0.7792\n",
      "Epoch 96/100\n",
      "704/704 [==============================] - 11s 16ms/step - loss: 0.8266 - categorical_accuracy: 0.7235 - val_loss: 0.7193 - val_categorical_accuracy: 0.7680\n",
      "Epoch 97/100\n"
     ]
    },
    {
     "name": "stdout",
     "output_type": "stream",
     "text": [
      "704/704 [==============================] - 11s 16ms/step - loss: 0.8225 - categorical_accuracy: 0.7250 - val_loss: 0.6891 - val_categorical_accuracy: 0.7768\n",
      "Epoch 98/100\n",
      "704/704 [==============================] - 11s 16ms/step - loss: 0.8173 - categorical_accuracy: 0.7259 - val_loss: 0.6489 - val_categorical_accuracy: 0.7876\n",
      "Epoch 99/100\n",
      "704/704 [==============================] - 11s 16ms/step - loss: 0.8194 - categorical_accuracy: 0.7248 - val_loss: 0.6111 - val_categorical_accuracy: 0.7952\n",
      "Epoch 100/100\n",
      "704/704 [==============================] - 11s 16ms/step - loss: 0.8293 - categorical_accuracy: 0.7246 - val_loss: 0.6438 - val_categorical_accuracy: 0.7902\n"
     ]
    },
    {
     "data": {
      "text/plain": [
       "<tensorflow.python.keras.callbacks.History at 0x7efc1c0aa4e0>"
      ]
     },
     "execution_count": 19,
     "metadata": {},
     "output_type": "execute_result"
    }
   ],
   "source": [
    "# 訓練網路模型\n",
    "model_1.fit(train_data,\n",
    "            epochs=100, \n",
    "            validation_data=valid_data,\n",
    "            callbacks=[model_cbk, save_model])"
   ]
  },
  {
   "cell_type": "markdown",
   "metadata": {},
   "source": [
    "### 2. 使用客自化API訓練網路模型"
   ]
  },
  {
   "cell_type": "markdown",
   "metadata": {},
   "source": [
    "- Custom Layer：將原本的Conv2d改成CustomConv2D。\n",
    "- Custom Loss：將原本的CategoricalCrossentropy改成custom_loss。\n",
    "- Custom Metrics：加入一個新的指標函數CatgoricalTruePositives。\n",
    "- Custom Callbacks：紀錄每一個batch的Loss值變化。"
   ]
  },
  {
   "cell_type": "code",
   "execution_count": 12,
   "metadata": {},
   "outputs": [
    {
     "name": "stdout",
     "output_type": "stream",
     "text": [
      "Model: \"model-2\"\n",
      "_________________________________________________________________\n",
      "Layer (type)                 Output Shape              Param #   \n",
      "=================================================================\n",
      "input_2 (InputLayer)         [(None, 32, 32, 3)]       0         \n",
      "_________________________________________________________________\n",
      "custom_conv2d (CustomConv2D) (None, 30, 30, 64)        1792      \n",
      "_________________________________________________________________\n",
      "max_pooling2d_1 (MaxPooling2 (None, 15, 15, 64)        0         \n",
      "_________________________________________________________________\n",
      "custom_conv2d_1 (CustomConv2 (None, 13, 13, 128)       73856     \n",
      "_________________________________________________________________\n",
      "custom_conv2d_2 (CustomConv2 (None, 11, 11, 256)       295168    \n",
      "_________________________________________________________________\n",
      "custom_conv2d_3 (CustomConv2 (None, 9, 9, 128)         295040    \n",
      "_________________________________________________________________\n",
      "custom_conv2d_4 (CustomConv2 (None, 7, 7, 64)          73792     \n",
      "_________________________________________________________________\n",
      "flatten_1 (Flatten)          (None, 3136)              0         \n",
      "_________________________________________________________________\n",
      "dense_2 (Dense)              (None, 64)                200768    \n",
      "_________________________________________________________________\n",
      "dropout_1 (Dropout)          (None, 64)                0         \n",
      "_________________________________________________________________\n",
      "dense_3 (Dense)              (None, 10)                650       \n",
      "=================================================================\n",
      "Total params: 941,066\n",
      "Trainable params: 941,066\n",
      "Non-trainable params: 0\n",
      "_________________________________________________________________\n"
     ]
    }
   ],
   "source": [
    "inputs = keras.Input(shape=(32, 32, 3))\n",
    "x = CustomConv2D(64, (3, 3))(inputs)\n",
    "x = layers.MaxPool2D()(x)\n",
    "x = CustomConv2D(128, (3, 3))(x)\n",
    "x = CustomConv2D(256, (3, 3))(x)\n",
    "x = CustomConv2D(128, (3, 3))(x)\n",
    "x = CustomConv2D(64, (3, 3))(x)\n",
    "x = layers.Flatten()(x)\n",
    "x = layers.Dense(64, activation='relu')(x)\n",
    "x = layers.Dropout(0.5)(x)\n",
    "outputs = layers.Dense(10)(x)\n",
    "# 建立網路模型(將輸入到輸出所有經過的網路層連接起來)\n",
    "model_2 = keras.Model(inputs, outputs, name='model-2')\n",
    "model_2.summary()"
   ]
  },
  {
   "cell_type": "code",
   "execution_count": 13,
   "metadata": {},
   "outputs": [],
   "source": [
    "# 儲存訓練記錄檔\n",
    "logs_dirs = 'lab6-logs'\n",
    "model_cbk = keras.callbacks.TensorBoard(log_dir='lab6-logs')\n",
    "\n",
    "# 紀錄每一個batch的Loss值變化\n",
    "model_dirs = logs_dirs + '/models'\n",
    "os.makedirs(model_dirs, exist_ok=True)\n",
    "custom_save_model = SaveModel(model_dirs + '/custom_save.h5', \n",
    "                              monitor='val_custom_catrgorical_accuracy', \n",
    "                              mode='max', \n",
    "                              save_weights_only=True)"
   ]
  },
  {
   "cell_type": "code",
   "execution_count": 22,
   "metadata": {},
   "outputs": [
    {
     "name": "stdout",
     "output_type": "stream",
     "text": [
      "Epoch 1/100\n",
      "704/704 [==============================] - 13s 18ms/step - loss: 2.0388 - custom_catrgorical_accuracy: 0.2328 - val_loss: 0.0000e+00 - val_custom_catrgorical_accuracy: 0.0000e+00\n",
      "Epoch 2/100\n",
      "704/704 [==============================] - 11s 16ms/step - loss: 1.8301 - custom_catrgorical_accuracy: 0.3230 - val_loss: 1.5824 - val_custom_catrgorical_accuracy: 0.4170\n",
      "Epoch 3/100\n",
      "704/704 [==============================] - 11s 16ms/step - loss: 1.7170 - custom_catrgorical_accuracy: 0.3708 - val_loss: 1.4400 - val_custom_catrgorical_accuracy: 0.4712\n",
      "Epoch 4/100\n",
      "704/704 [==============================] - 11s 16ms/step - loss: 1.6366 - custom_catrgorical_accuracy: 0.4070 - val_loss: 1.3337 - val_custom_catrgorical_accuracy: 0.5158\n",
      "Epoch 5/100\n",
      "704/704 [==============================] - 11s 16ms/step - loss: 1.5729 - custom_catrgorical_accuracy: 0.4344 - val_loss: 1.2266 - val_custom_catrgorical_accuracy: 0.5632\n",
      "Epoch 6/100\n",
      "704/704 [==============================] - 11s 16ms/step - loss: 1.5159 - custom_catrgorical_accuracy: 0.4567 - val_loss: 1.1846 - val_custom_catrgorical_accuracy: 0.5730\n",
      "Epoch 7/100\n",
      "704/704 [==============================] - 11s 16ms/step - loss: 1.4615 - custom_catrgorical_accuracy: 0.4821 - val_loss: 1.1368 - val_custom_catrgorical_accuracy: 0.5946\n",
      "Epoch 8/100\n",
      "704/704 [==============================] - 11s 16ms/step - loss: 1.4148 - custom_catrgorical_accuracy: 0.5026 - val_loss: 1.0694 - val_custom_catrgorical_accuracy: 0.6160\n",
      "Epoch 9/100\n",
      "704/704 [==============================] - 11s 16ms/step - loss: 1.3826 - custom_catrgorical_accuracy: 0.5142 - val_loss: 1.0408 - val_custom_catrgorical_accuracy: 0.6362\n",
      "Epoch 10/100\n",
      "704/704 [==============================] - 11s 16ms/step - loss: 1.3450 - custom_catrgorical_accuracy: 0.5268 - val_loss: 0.9922 - val_custom_catrgorical_accuracy: 0.6490\n",
      "Epoch 11/100\n",
      "704/704 [==============================] - 11s 16ms/step - loss: 1.3044 - custom_catrgorical_accuracy: 0.5471 - val_loss: 1.0155 - val_custom_catrgorical_accuracy: 0.6414\n",
      "Epoch 12/100\n",
      "704/704 [==============================] - 11s 16ms/step - loss: 1.2794 - custom_catrgorical_accuracy: 0.5574 - val_loss: 1.0422 - val_custom_catrgorical_accuracy: 0.6356\n",
      "Epoch 13/100\n",
      "704/704 [==============================] - 11s 16ms/step - loss: 1.2644 - custom_catrgorical_accuracy: 0.5622 - val_loss: 0.9703 - val_custom_catrgorical_accuracy: 0.6526\n",
      "Epoch 14/100\n",
      "704/704 [==============================] - 11s 16ms/step - loss: 1.2426 - custom_catrgorical_accuracy: 0.5677 - val_loss: 0.9077 - val_custom_catrgorical_accuracy: 0.6806\n",
      "Epoch 15/100\n",
      "704/704 [==============================] - 11s 16ms/step - loss: 1.2272 - custom_catrgorical_accuracy: 0.5751 - val_loss: 0.8971 - val_custom_catrgorical_accuracy: 0.6768\n",
      "Epoch 16/100\n",
      "704/704 [==============================] - 11s 16ms/step - loss: 1.1940 - custom_catrgorical_accuracy: 0.5858 - val_loss: 0.8805 - val_custom_catrgorical_accuracy: 0.6872\n",
      "Epoch 17/100\n",
      "704/704 [==============================] - 11s 16ms/step - loss: 1.1780 - custom_catrgorical_accuracy: 0.5950 - val_loss: 0.8731 - val_custom_catrgorical_accuracy: 0.6902\n",
      "Epoch 18/100\n",
      "704/704 [==============================] - 11s 16ms/step - loss: 1.1653 - custom_catrgorical_accuracy: 0.6005 - val_loss: 0.8505 - val_custom_catrgorical_accuracy: 0.6968\n",
      "Epoch 19/100\n",
      "704/704 [==============================] - 11s 16ms/step - loss: 1.1382 - custom_catrgorical_accuracy: 0.6117 - val_loss: 0.8606 - val_custom_catrgorical_accuracy: 0.7008\n",
      "Epoch 20/100\n",
      "704/704 [==============================] - 11s 16ms/step - loss: 1.1406 - custom_catrgorical_accuracy: 0.6078 - val_loss: 0.8188 - val_custom_catrgorical_accuracy: 0.7086\n",
      "Epoch 21/100\n",
      "704/704 [==============================] - 11s 16ms/step - loss: 1.1304 - custom_catrgorical_accuracy: 0.6137 - val_loss: 0.8328 - val_custom_catrgorical_accuracy: 0.7108\n",
      "Epoch 22/100\n",
      "704/704 [==============================] - 11s 16ms/step - loss: 1.1049 - custom_catrgorical_accuracy: 0.6201 - val_loss: 0.8140 - val_custom_catrgorical_accuracy: 0.7204\n",
      "Epoch 23/100\n",
      "704/704 [==============================] - 11s 16ms/step - loss: 1.1093 - custom_catrgorical_accuracy: 0.6180 - val_loss: 0.8140 - val_custom_catrgorical_accuracy: 0.7170\n",
      "Epoch 24/100\n",
      "704/704 [==============================] - 11s 16ms/step - loss: 1.0869 - custom_catrgorical_accuracy: 0.6244 - val_loss: 0.8319 - val_custom_catrgorical_accuracy: 0.7112\n",
      "Epoch 25/100\n",
      "704/704 [==============================] - 11s 16ms/step - loss: 1.0748 - custom_catrgorical_accuracy: 0.6303 - val_loss: 0.7934 - val_custom_catrgorical_accuracy: 0.7250\n",
      "Epoch 26/100\n",
      "704/704 [==============================] - 11s 16ms/step - loss: 1.0711 - custom_catrgorical_accuracy: 0.6357 - val_loss: 0.7946 - val_custom_catrgorical_accuracy: 0.7192\n",
      "Epoch 27/100\n",
      "704/704 [==============================] - 11s 16ms/step - loss: 1.0574 - custom_catrgorical_accuracy: 0.6373 - val_loss: 0.7767 - val_custom_catrgorical_accuracy: 0.7380\n",
      "Epoch 28/100\n",
      "704/704 [==============================] - 11s 16ms/step - loss: 1.0480 - custom_catrgorical_accuracy: 0.6417 - val_loss: 0.7809 - val_custom_catrgorical_accuracy: 0.7294\n",
      "Epoch 29/100\n",
      "704/704 [==============================] - 11s 16ms/step - loss: 1.0424 - custom_catrgorical_accuracy: 0.6443 - val_loss: 0.8217 - val_custom_catrgorical_accuracy: 0.7160\n",
      "Epoch 30/100\n",
      "704/704 [==============================] - 11s 16ms/step - loss: 1.0232 - custom_catrgorical_accuracy: 0.6500 - val_loss: 0.7704 - val_custom_catrgorical_accuracy: 0.7386\n",
      "Epoch 31/100\n",
      "704/704 [==============================] - 11s 16ms/step - loss: 1.0200 - custom_catrgorical_accuracy: 0.6537 - val_loss: 0.7596 - val_custom_catrgorical_accuracy: 0.7382\n",
      "Epoch 32/100\n",
      "704/704 [==============================] - 11s 16ms/step - loss: 1.0173 - custom_catrgorical_accuracy: 0.6528 - val_loss: 0.7399 - val_custom_catrgorical_accuracy: 0.7452\n",
      "Epoch 33/100\n",
      "704/704 [==============================] - 11s 16ms/step - loss: 0.9951 - custom_catrgorical_accuracy: 0.6611 - val_loss: 0.7434 - val_custom_catrgorical_accuracy: 0.7484\n",
      "Epoch 34/100\n",
      "704/704 [==============================] - 11s 16ms/step - loss: 0.9982 - custom_catrgorical_accuracy: 0.6618 - val_loss: 0.7199 - val_custom_catrgorical_accuracy: 0.7582\n",
      "Epoch 35/100\n",
      "704/704 [==============================] - 11s 16ms/step - loss: 0.9819 - custom_catrgorical_accuracy: 0.6644 - val_loss: 0.8449 - val_custom_catrgorical_accuracy: 0.7174\n",
      "Epoch 36/100\n",
      "704/704 [==============================] - 11s 16ms/step - loss: 0.9773 - custom_catrgorical_accuracy: 0.6698 - val_loss: 0.7123 - val_custom_catrgorical_accuracy: 0.7524\n",
      "Epoch 37/100\n",
      "704/704 [==============================] - 11s 16ms/step - loss: 0.9814 - custom_catrgorical_accuracy: 0.6659 - val_loss: 0.7947 - val_custom_catrgorical_accuracy: 0.7374\n",
      "Epoch 38/100\n",
      "704/704 [==============================] - 11s 16ms/step - loss: 0.9735 - custom_catrgorical_accuracy: 0.6699 - val_loss: 0.7342 - val_custom_catrgorical_accuracy: 0.7492\n",
      "Epoch 39/100\n",
      "704/704 [==============================] - 11s 16ms/step - loss: 0.9607 - custom_catrgorical_accuracy: 0.6752 - val_loss: 0.7217 - val_custom_catrgorical_accuracy: 0.7536\n",
      "Epoch 40/100\n",
      "704/704 [==============================] - 11s 16ms/step - loss: 0.9520 - custom_catrgorical_accuracy: 0.6793 - val_loss: 0.7515 - val_custom_catrgorical_accuracy: 0.7424\n",
      "Epoch 41/100\n",
      "704/704 [==============================] - 11s 16ms/step - loss: 0.9576 - custom_catrgorical_accuracy: 0.6769 - val_loss: 0.7064 - val_custom_catrgorical_accuracy: 0.7596\n",
      "Epoch 42/100\n",
      "704/704 [==============================] - 11s 16ms/step - loss: 0.9416 - custom_catrgorical_accuracy: 0.6828 - val_loss: 0.7524 - val_custom_catrgorical_accuracy: 0.7448\n",
      "Epoch 43/100\n",
      "704/704 [==============================] - 11s 16ms/step - loss: 0.9410 - custom_catrgorical_accuracy: 0.6795 - val_loss: 0.6835 - val_custom_catrgorical_accuracy: 0.7696\n",
      "Epoch 44/100\n",
      "704/704 [==============================] - 11s 16ms/step - loss: 0.9332 - custom_catrgorical_accuracy: 0.6855 - val_loss: 0.7636 - val_custom_catrgorical_accuracy: 0.7448\n",
      "Epoch 45/100\n",
      "704/704 [==============================] - 11s 16ms/step - loss: 0.9307 - custom_catrgorical_accuracy: 0.6873 - val_loss: 0.7194 - val_custom_catrgorical_accuracy: 0.7622\n",
      "Epoch 46/100\n",
      "704/704 [==============================] - 11s 16ms/step - loss: 0.9215 - custom_catrgorical_accuracy: 0.6891 - val_loss: 0.6757 - val_custom_catrgorical_accuracy: 0.7684\n",
      "Epoch 47/100\n",
      "704/704 [==============================] - 11s 16ms/step - loss: 0.9171 - custom_catrgorical_accuracy: 0.6911 - val_loss: 0.7014 - val_custom_catrgorical_accuracy: 0.7590\n",
      "Epoch 48/100\n",
      "704/704 [==============================] - 11s 16ms/step - loss: 0.9225 - custom_catrgorical_accuracy: 0.6860 - val_loss: 0.6853 - val_custom_catrgorical_accuracy: 0.7708\n",
      "Epoch 49/100\n",
      "704/704 [==============================] - 11s 16ms/step - loss: 0.9006 - custom_catrgorical_accuracy: 0.6948 - val_loss: 0.6817 - val_custom_catrgorical_accuracy: 0.7682\n",
      "Epoch 50/100\n",
      "704/704 [==============================] - 11s 16ms/step - loss: 0.9024 - custom_catrgorical_accuracy: 0.6966 - val_loss: 0.6963 - val_custom_catrgorical_accuracy: 0.7630\n",
      "Epoch 51/100\n",
      "704/704 [==============================] - 11s 16ms/step - loss: 0.9004 - custom_catrgorical_accuracy: 0.6935 - val_loss: 0.6729 - val_custom_catrgorical_accuracy: 0.7730\n",
      "Epoch 52/100\n",
      "704/704 [==============================] - 11s 16ms/step - loss: 0.8972 - custom_catrgorical_accuracy: 0.6996 - val_loss: 0.6790 - val_custom_catrgorical_accuracy: 0.7744\n",
      "Epoch 53/100\n",
      "704/704 [==============================] - 11s 16ms/step - loss: 0.8979 - custom_catrgorical_accuracy: 0.6988 - val_loss: 0.6681 - val_custom_catrgorical_accuracy: 0.7814\n",
      "Epoch 54/100\n",
      "704/704 [==============================] - 11s 16ms/step - loss: 0.8865 - custom_catrgorical_accuracy: 0.7018 - val_loss: 0.6825 - val_custom_catrgorical_accuracy: 0.7784\n",
      "Epoch 55/100\n",
      "704/704 [==============================] - 11s 16ms/step - loss: 0.8790 - custom_catrgorical_accuracy: 0.7031 - val_loss: 0.6639 - val_custom_catrgorical_accuracy: 0.7822\n",
      "Epoch 56/100\n",
      "704/704 [==============================] - 11s 16ms/step - loss: 0.8709 - custom_catrgorical_accuracy: 0.7060 - val_loss: 0.6549 - val_custom_catrgorical_accuracy: 0.7856\n",
      "Epoch 57/100\n",
      "704/704 [==============================] - 11s 16ms/step - loss: 0.8767 - custom_catrgorical_accuracy: 0.7049 - val_loss: 0.6891 - val_custom_catrgorical_accuracy: 0.7712\n",
      "Epoch 58/100\n",
      "704/704 [==============================] - 11s 16ms/step - loss: 0.8804 - custom_catrgorical_accuracy: 0.7078 - val_loss: 0.6496 - val_custom_catrgorical_accuracy: 0.7820\n",
      "Epoch 59/100\n",
      "704/704 [==============================] - 11s 16ms/step - loss: 0.8661 - custom_catrgorical_accuracy: 0.7069 - val_loss: 0.6815 - val_custom_catrgorical_accuracy: 0.7732\n",
      "Epoch 60/100\n",
      "704/704 [==============================] - 11s 16ms/step - loss: 0.8627 - custom_catrgorical_accuracy: 0.7127 - val_loss: 0.6766 - val_custom_catrgorical_accuracy: 0.7752\n",
      "Epoch 61/100\n",
      "704/704 [==============================] - 11s 16ms/step - loss: 0.8674 - custom_catrgorical_accuracy: 0.7114 - val_loss: 0.7857 - val_custom_catrgorical_accuracy: 0.7446\n",
      "Epoch 62/100\n",
      "704/704 [==============================] - 11s 16ms/step - loss: 0.8648 - custom_catrgorical_accuracy: 0.7120 - val_loss: 0.6674 - val_custom_catrgorical_accuracy: 0.7800\n",
      "Epoch 63/100\n",
      "704/704 [==============================] - 11s 16ms/step - loss: 0.8585 - custom_catrgorical_accuracy: 0.7149 - val_loss: 0.6664 - val_custom_catrgorical_accuracy: 0.7832\n",
      "Epoch 64/100\n",
      "704/704 [==============================] - 11s 16ms/step - loss: 0.8670 - custom_catrgorical_accuracy: 0.7099 - val_loss: 0.6778 - val_custom_catrgorical_accuracy: 0.7706\n",
      "Epoch 65/100\n",
      "704/704 [==============================] - 11s 16ms/step - loss: 0.8468 - custom_catrgorical_accuracy: 0.7175 - val_loss: 0.6331 - val_custom_catrgorical_accuracy: 0.7952\n",
      "Epoch 66/100\n",
      "704/704 [==============================] - 11s 16ms/step - loss: 0.8430 - custom_catrgorical_accuracy: 0.7196 - val_loss: 0.6041 - val_custom_catrgorical_accuracy: 0.7952\n",
      "Epoch 67/100\n",
      "704/704 [==============================] - 11s 16ms/step - loss: 0.8411 - custom_catrgorical_accuracy: 0.7184 - val_loss: 0.6826 - val_custom_catrgorical_accuracy: 0.7854\n",
      "Epoch 68/100\n",
      "704/704 [==============================] - 11s 16ms/step - loss: 0.8457 - custom_catrgorical_accuracy: 0.7162 - val_loss: 0.6675 - val_custom_catrgorical_accuracy: 0.7818\n",
      "Epoch 69/100\n",
      "704/704 [==============================] - 11s 16ms/step - loss: 0.8386 - custom_catrgorical_accuracy: 0.7213 - val_loss: 0.6489 - val_custom_catrgorical_accuracy: 0.7884\n",
      "Epoch 70/100\n",
      "704/704 [==============================] - 11s 16ms/step - loss: 0.8433 - custom_catrgorical_accuracy: 0.7213 - val_loss: 0.6703 - val_custom_catrgorical_accuracy: 0.7866\n",
      "Epoch 71/100\n",
      "704/704 [==============================] - 11s 16ms/step - loss: 0.8382 - custom_catrgorical_accuracy: 0.7203 - val_loss: 0.6639 - val_custom_catrgorical_accuracy: 0.7838\n",
      "Epoch 72/100\n",
      "704/704 [==============================] - 11s 16ms/step - loss: 0.8304 - custom_catrgorical_accuracy: 0.7231 - val_loss: 0.6558 - val_custom_catrgorical_accuracy: 0.7834\n",
      "Epoch 73/100\n",
      "704/704 [==============================] - 11s 16ms/step - loss: 0.8194 - custom_catrgorical_accuracy: 0.7243 - val_loss: 0.6365 - val_custom_catrgorical_accuracy: 0.7882\n",
      "Epoch 74/100\n",
      "704/704 [==============================] - 11s 16ms/step - loss: 0.8273 - custom_catrgorical_accuracy: 0.7239 - val_loss: 0.6621 - val_custom_catrgorical_accuracy: 0.7868\n",
      "Epoch 75/100\n",
      "704/704 [==============================] - 11s 16ms/step - loss: 0.8301 - custom_catrgorical_accuracy: 0.7233 - val_loss: 0.6472 - val_custom_catrgorical_accuracy: 0.7860\n",
      "Epoch 76/100\n",
      "704/704 [==============================] - 11s 16ms/step - loss: 0.8306 - custom_catrgorical_accuracy: 0.7232 - val_loss: 0.6527 - val_custom_catrgorical_accuracy: 0.7848\n",
      "Epoch 77/100\n",
      "704/704 [==============================] - 11s 16ms/step - loss: 0.8270 - custom_catrgorical_accuracy: 0.7249 - val_loss: 0.6621 - val_custom_catrgorical_accuracy: 0.7770\n",
      "Epoch 78/100\n",
      "704/704 [==============================] - 11s 16ms/step - loss: 0.8129 - custom_catrgorical_accuracy: 0.7280 - val_loss: 0.6436 - val_custom_catrgorical_accuracy: 0.7922\n",
      "Epoch 79/100\n",
      "704/704 [==============================] - 11s 16ms/step - loss: 0.8067 - custom_catrgorical_accuracy: 0.7299 - val_loss: 0.6399 - val_custom_catrgorical_accuracy: 0.7896\n",
      "Epoch 80/100\n",
      "704/704 [==============================] - 11s 16ms/step - loss: 0.8208 - custom_catrgorical_accuracy: 0.7273 - val_loss: 0.6372 - val_custom_catrgorical_accuracy: 0.7894\n",
      "Epoch 81/100\n",
      "704/704 [==============================] - 11s 16ms/step - loss: 0.8108 - custom_catrgorical_accuracy: 0.7277 - val_loss: 0.6261 - val_custom_catrgorical_accuracy: 0.7990\n",
      "Epoch 82/100\n",
      "704/704 [==============================] - 11s 16ms/step - loss: 0.8103 - custom_catrgorical_accuracy: 0.7322 - val_loss: 0.6392 - val_custom_catrgorical_accuracy: 0.7934\n",
      "Epoch 83/100\n",
      "704/704 [==============================] - 11s 16ms/step - loss: 0.8117 - custom_catrgorical_accuracy: 0.7292 - val_loss: 0.6642 - val_custom_catrgorical_accuracy: 0.7886\n",
      "Epoch 84/100\n",
      "704/704 [==============================] - 11s 16ms/step - loss: 0.8045 - custom_catrgorical_accuracy: 0.7308 - val_loss: 0.6668 - val_custom_catrgorical_accuracy: 0.7840\n",
      "Epoch 85/100\n",
      "704/704 [==============================] - 11s 16ms/step - loss: 0.7971 - custom_catrgorical_accuracy: 0.7353 - val_loss: 0.6803 - val_custom_catrgorical_accuracy: 0.7862\n",
      "Epoch 86/100\n",
      "704/704 [==============================] - 11s 16ms/step - loss: 0.7965 - custom_catrgorical_accuracy: 0.7359 - val_loss: 0.6630 - val_custom_catrgorical_accuracy: 0.7934\n",
      "Epoch 87/100\n",
      "704/704 [==============================] - 11s 16ms/step - loss: 0.8004 - custom_catrgorical_accuracy: 0.7335 - val_loss: 0.6528 - val_custom_catrgorical_accuracy: 0.7920\n",
      "Epoch 88/100\n",
      "704/704 [==============================] - 11s 16ms/step - loss: 0.8006 - custom_catrgorical_accuracy: 0.7339 - val_loss: 0.6685 - val_custom_catrgorical_accuracy: 0.7858\n",
      "Epoch 89/100\n"
     ]
    },
    {
     "name": "stdout",
     "output_type": "stream",
     "text": [
      "704/704 [==============================] - 11s 16ms/step - loss: 0.7966 - custom_catrgorical_accuracy: 0.7341 - val_loss: 0.6417 - val_custom_catrgorical_accuracy: 0.7894\n",
      "Epoch 90/100\n",
      "704/704 [==============================] - 11s 16ms/step - loss: 0.7918 - custom_catrgorical_accuracy: 0.7355 - val_loss: 0.6492 - val_custom_catrgorical_accuracy: 0.7994\n",
      "Epoch 91/100\n",
      "704/704 [==============================] - 11s 16ms/step - loss: 0.7907 - custom_catrgorical_accuracy: 0.7384 - val_loss: 0.6423 - val_custom_catrgorical_accuracy: 0.7832\n",
      "Epoch 92/100\n",
      "704/704 [==============================] - 11s 16ms/step - loss: 0.7920 - custom_catrgorical_accuracy: 0.7351 - val_loss: 0.6629 - val_custom_catrgorical_accuracy: 0.7902\n",
      "Epoch 93/100\n",
      "704/704 [==============================] - 11s 16ms/step - loss: 0.7875 - custom_catrgorical_accuracy: 0.7389 - val_loss: 0.6439 - val_custom_catrgorical_accuracy: 0.7982\n",
      "Epoch 94/100\n",
      "704/704 [==============================] - 11s 16ms/step - loss: 0.7866 - custom_catrgorical_accuracy: 0.7372 - val_loss: 0.6592 - val_custom_catrgorical_accuracy: 0.7868\n",
      "Epoch 95/100\n",
      "704/704 [==============================] - 11s 16ms/step - loss: 0.7880 - custom_catrgorical_accuracy: 0.7408 - val_loss: 0.6545 - val_custom_catrgorical_accuracy: 0.7944\n",
      "Epoch 96/100\n",
      "704/704 [==============================] - 11s 16ms/step - loss: 0.7896 - custom_catrgorical_accuracy: 0.7380 - val_loss: 0.6356 - val_custom_catrgorical_accuracy: 0.7978\n",
      "Epoch 97/100\n",
      "704/704 [==============================] - 11s 16ms/step - loss: 0.7789 - custom_catrgorical_accuracy: 0.7399 - val_loss: 0.6520 - val_custom_catrgorical_accuracy: 0.7886\n",
      "Epoch 98/100\n",
      "704/704 [==============================] - 11s 16ms/step - loss: 0.7828 - custom_catrgorical_accuracy: 0.7406 - val_loss: 0.6067 - val_custom_catrgorical_accuracy: 0.8068\n",
      "Epoch 99/100\n",
      "704/704 [==============================] - 11s 16ms/step - loss: 0.7791 - custom_catrgorical_accuracy: 0.7414 - val_loss: 0.6370 - val_custom_catrgorical_accuracy: 0.7960\n",
      "Epoch 100/100\n",
      "704/704 [==============================] - 11s 16ms/step - loss: 0.7760 - custom_catrgorical_accuracy: 0.7464 - val_loss: 0.6838 - val_custom_catrgorical_accuracy: 0.7820\n"
     ]
    },
    {
     "data": {
      "text/plain": [
       "<tensorflow.python.keras.callbacks.History at 0x7efb485fceb8>"
      ]
     },
     "execution_count": 22,
     "metadata": {},
     "output_type": "execute_result"
    }
   ],
   "source": [
    "# 設定訓練使用的優化器、損失函數和指標函數\n",
    "model_2.compile(keras.optimizers.Adam(), \n",
    "           loss=custom_categorical_crossentropy, \n",
    "           metrics=[CustomCategoricalAccuracy()])\n",
    "\n",
    "# 訓練網路模型\n",
    "model_2.fit(train_data,\n",
    "            epochs=100, \n",
    "            validation_data=valid_data,\n",
    "            callbacks=[model_cbk, custom_save_model])"
   ]
  },
  {
   "cell_type": "markdown",
   "metadata": {},
   "source": [
    "### 比較兩種方法的訓練結果"
   ]
  },
  {
   "cell_type": "markdown",
   "metadata": {},
   "source": [
    "載入兩種方法的模型權重："
   ]
  },
  {
   "cell_type": "code",
   "execution_count": 23,
   "metadata": {},
   "outputs": [],
   "source": [
    "model_1.load_weights(model_dirs+'/save.h5')\n",
    "model_2.load_weights(model_dirs+'/custom_save.h5')"
   ]
  },
  {
   "cell_type": "markdown",
   "metadata": {},
   "source": [
    "驗證網路模型："
   ]
  },
  {
   "cell_type": "code",
   "execution_count": 24,
   "metadata": {},
   "outputs": [
    {
     "name": "stdout",
     "output_type": "stream",
     "text": [
      "    157/Unknown - 1s 7ms/step - loss: 0.6280 - custom_catrgorical_accuracy: 0.8018"
     ]
    },
    {
     "data": {
      "text/html": [
       "<div>\n",
       "<style scoped>\n",
       "    .dataframe tbody tr th:only-of-type {\n",
       "        vertical-align: middle;\n",
       "    }\n",
       "\n",
       "    .dataframe tbody tr th {\n",
       "        vertical-align: top;\n",
       "    }\n",
       "\n",
       "    .dataframe thead th {\n",
       "        text-align: right;\n",
       "    }\n",
       "</style>\n",
       "<table border=\"1\" class=\"dataframe\">\n",
       "  <thead>\n",
       "    <tr style=\"text-align: right;\">\n",
       "      <th></th>\n",
       "      <th>Loss</th>\n",
       "      <th>Accuracy</th>\n",
       "    </tr>\n",
       "  </thead>\n",
       "  <tbody>\n",
       "    <tr>\n",
       "      <th>0</th>\n",
       "      <td>0.661652</td>\n",
       "      <td>0.7897</td>\n",
       "    </tr>\n",
       "    <tr>\n",
       "      <th>1</th>\n",
       "      <td>0.627981</td>\n",
       "      <td>0.8018</td>\n",
       "    </tr>\n",
       "  </tbody>\n",
       "</table>\n",
       "</div>"
      ],
      "text/plain": [
       "       Loss  Accuracy\n",
       "0  0.661652    0.7897\n",
       "1  0.627981    0.8018"
      ]
     },
     "execution_count": 24,
     "metadata": {},
     "output_type": "execute_result"
    }
   ],
   "source": [
    "loss_1, acc_1 = model_1.evaluate(test_data)\n",
    "loss_2, acc_2 = model_2.evaluate(test_data)\n",
    "loss = [loss_1, loss_2]  \n",
    "acc = [acc_1, acc_2]\n",
    "dict = {\"Loss\": loss, \"Accuracy\": acc}\n",
    "pd.DataFrame(dict)"
   ]
  }
 ],
 "metadata": {
  "kernelspec": {
   "display_name": "tf2",
   "language": "python",
   "name": "tf2"
  },
  "language_info": {
   "codemirror_mode": {
    "name": "ipython",
    "version": 3
   },
   "file_extension": ".py",
   "mimetype": "text/x-python",
   "name": "python",
   "nbconvert_exporter": "python",
   "pygments_lexer": "ipython3",
   "version": "3.7.7"
  },
  "pycharm": {
   "stem_cell": {
    "cell_type": "raw",
    "metadata": {
     "collapsed": false
    },
    "source": []
   }
  }
 },
 "nbformat": 4,
 "nbformat_minor": 2
}
