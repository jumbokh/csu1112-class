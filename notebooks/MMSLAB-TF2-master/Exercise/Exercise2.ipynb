{
 "cells": [
  {
   "cell_type": "markdown",
   "metadata": {},
   "source": [
    "# Exercise2：房價預測模型"
   ]
  },
  {
   "cell_type": "markdown",
   "metadata": {},
   "source": [
    "<table class=\"tfo-notebook-buttons\" align=\"left\">\n",
    "  <td>\n",
    "    <a target=\"_blank\" href=\"https://colab.research.google.com/github/taipeitechmmslab/MMSLAB-TF2/blob/master/Exercise/Exercise2.ipynb\"><img src=\"https://www.tensorflow.org/images/colab_logo_32px.png\" />Run in Google Colab</a>\n",
    "  </td>\n",
    "  <td>\n",
    "    <a target=\"_blank\" href=\"https://github.com/taipeitechmmslab/MMSLAB-TF2/blob/master/Exercise/Exercise2.ipynb\"><img src=\"https://www.tensorflow.org/images/GitHub-Mark-32px.png\" />View source on GitHub</a>\n",
    "  </td>\n",
    "</table>"
   ]
  },
  {
   "cell_type": "markdown",
   "metadata": {},
   "source": [
    "### Import必要套件"
   ]
  },
  {
   "cell_type": "code",
   "execution_count": 1,
   "metadata": {},
   "outputs": [],
   "source": [
    "import os\n",
    "import numpy as np\n",
    "import pandas as pd\n",
    "import tensorflow as tf\n",
    "import matplotlib.pyplot as plt\n",
    "\n",
    "from tensorflow import keras\n",
    "from tensorflow.keras import layers"
   ]
  },
  {
   "cell_type": "markdown",
   "metadata": {},
   "source": [
    "### 數據讀取並分析"
   ]
  },
  {
   "cell_type": "code",
   "execution_count": 2,
   "metadata": {
    "scrolled": true
   },
   "outputs": [
    {
     "data": {
      "text/plain": [
       "(21613, 21)"
      ]
     },
     "execution_count": 2,
     "metadata": {},
     "output_type": "execute_result"
    }
   ],
   "source": [
    "data = pd.read_csv(\"kc_house_data.csv\")\n",
    "# 顯示dataset的形狀，共21613比資料，每一比資料有21種不同資訊。\n",
    "data.shape"
   ]
  },
  {
   "cell_type": "code",
   "execution_count": 3,
   "metadata": {},
   "outputs": [
    {
     "data": {
      "text/html": [
       "<div>\n",
       "<style scoped>\n",
       "    .dataframe tbody tr th:only-of-type {\n",
       "        vertical-align: middle;\n",
       "    }\n",
       "\n",
       "    .dataframe tbody tr th {\n",
       "        vertical-align: top;\n",
       "    }\n",
       "\n",
       "    .dataframe thead th {\n",
       "        text-align: right;\n",
       "    }\n",
       "</style>\n",
       "<table border=\"1\" class=\"dataframe\">\n",
       "  <thead>\n",
       "    <tr style=\"text-align: right;\">\n",
       "      <th></th>\n",
       "      <th>id</th>\n",
       "      <th>date</th>\n",
       "      <th>price</th>\n",
       "      <th>bedrooms</th>\n",
       "      <th>bathrooms</th>\n",
       "      <th>sqft_living</th>\n",
       "      <th>sqft_lot</th>\n",
       "      <th>floors</th>\n",
       "      <th>waterfront</th>\n",
       "      <th>view</th>\n",
       "      <th>condition</th>\n",
       "      <th>grade</th>\n",
       "      <th>sqft_above</th>\n",
       "      <th>sqft_basement</th>\n",
       "      <th>yr_built</th>\n",
       "      <th>yr_renovated</th>\n",
       "      <th>zipcode</th>\n",
       "      <th>lat</th>\n",
       "      <th>long</th>\n",
       "      <th>sqft_living15</th>\n",
       "      <th>sqft_lot15</th>\n",
       "    </tr>\n",
       "  </thead>\n",
       "  <tbody>\n",
       "    <tr>\n",
       "      <th>0</th>\n",
       "      <td>7129300520</td>\n",
       "      <td>20141013T000000</td>\n",
       "      <td>221900.0</td>\n",
       "      <td>3</td>\n",
       "      <td>1.00</td>\n",
       "      <td>1180</td>\n",
       "      <td>5650</td>\n",
       "      <td>1.0</td>\n",
       "      <td>0</td>\n",
       "      <td>0</td>\n",
       "      <td>3</td>\n",
       "      <td>7</td>\n",
       "      <td>1180</td>\n",
       "      <td>0</td>\n",
       "      <td>1955</td>\n",
       "      <td>0</td>\n",
       "      <td>98178</td>\n",
       "      <td>47.5112</td>\n",
       "      <td>-122.257</td>\n",
       "      <td>1340</td>\n",
       "      <td>5650</td>\n",
       "    </tr>\n",
       "    <tr>\n",
       "      <th>1</th>\n",
       "      <td>6414100192</td>\n",
       "      <td>20141209T000000</td>\n",
       "      <td>538000.0</td>\n",
       "      <td>3</td>\n",
       "      <td>2.25</td>\n",
       "      <td>2570</td>\n",
       "      <td>7242</td>\n",
       "      <td>2.0</td>\n",
       "      <td>0</td>\n",
       "      <td>0</td>\n",
       "      <td>3</td>\n",
       "      <td>7</td>\n",
       "      <td>2170</td>\n",
       "      <td>400</td>\n",
       "      <td>1951</td>\n",
       "      <td>1991</td>\n",
       "      <td>98125</td>\n",
       "      <td>47.7210</td>\n",
       "      <td>-122.319</td>\n",
       "      <td>1690</td>\n",
       "      <td>7639</td>\n",
       "    </tr>\n",
       "    <tr>\n",
       "      <th>2</th>\n",
       "      <td>5631500400</td>\n",
       "      <td>20150225T000000</td>\n",
       "      <td>180000.0</td>\n",
       "      <td>2</td>\n",
       "      <td>1.00</td>\n",
       "      <td>770</td>\n",
       "      <td>10000</td>\n",
       "      <td>1.0</td>\n",
       "      <td>0</td>\n",
       "      <td>0</td>\n",
       "      <td>3</td>\n",
       "      <td>6</td>\n",
       "      <td>770</td>\n",
       "      <td>0</td>\n",
       "      <td>1933</td>\n",
       "      <td>0</td>\n",
       "      <td>98028</td>\n",
       "      <td>47.7379</td>\n",
       "      <td>-122.233</td>\n",
       "      <td>2720</td>\n",
       "      <td>8062</td>\n",
       "    </tr>\n",
       "    <tr>\n",
       "      <th>3</th>\n",
       "      <td>2487200875</td>\n",
       "      <td>20141209T000000</td>\n",
       "      <td>604000.0</td>\n",
       "      <td>4</td>\n",
       "      <td>3.00</td>\n",
       "      <td>1960</td>\n",
       "      <td>5000</td>\n",
       "      <td>1.0</td>\n",
       "      <td>0</td>\n",
       "      <td>0</td>\n",
       "      <td>5</td>\n",
       "      <td>7</td>\n",
       "      <td>1050</td>\n",
       "      <td>910</td>\n",
       "      <td>1965</td>\n",
       "      <td>0</td>\n",
       "      <td>98136</td>\n",
       "      <td>47.5208</td>\n",
       "      <td>-122.393</td>\n",
       "      <td>1360</td>\n",
       "      <td>5000</td>\n",
       "    </tr>\n",
       "    <tr>\n",
       "      <th>4</th>\n",
       "      <td>1954400510</td>\n",
       "      <td>20150218T000000</td>\n",
       "      <td>510000.0</td>\n",
       "      <td>3</td>\n",
       "      <td>2.00</td>\n",
       "      <td>1680</td>\n",
       "      <td>8080</td>\n",
       "      <td>1.0</td>\n",
       "      <td>0</td>\n",
       "      <td>0</td>\n",
       "      <td>3</td>\n",
       "      <td>8</td>\n",
       "      <td>1680</td>\n",
       "      <td>0</td>\n",
       "      <td>1987</td>\n",
       "      <td>0</td>\n",
       "      <td>98074</td>\n",
       "      <td>47.6168</td>\n",
       "      <td>-122.045</td>\n",
       "      <td>1800</td>\n",
       "      <td>7503</td>\n",
       "    </tr>\n",
       "  </tbody>\n",
       "</table>\n",
       "</div>"
      ],
      "text/plain": [
       "           id             date     price  bedrooms  bathrooms  sqft_living  \\\n",
       "0  7129300520  20141013T000000  221900.0         3       1.00         1180   \n",
       "1  6414100192  20141209T000000  538000.0         3       2.25         2570   \n",
       "2  5631500400  20150225T000000  180000.0         2       1.00          770   \n",
       "3  2487200875  20141209T000000  604000.0         4       3.00         1960   \n",
       "4  1954400510  20150218T000000  510000.0         3       2.00         1680   \n",
       "\n",
       "   sqft_lot  floors  waterfront  view  condition  grade  sqft_above  \\\n",
       "0      5650     1.0           0     0          3      7        1180   \n",
       "1      7242     2.0           0     0          3      7        2170   \n",
       "2     10000     1.0           0     0          3      6         770   \n",
       "3      5000     1.0           0     0          5      7        1050   \n",
       "4      8080     1.0           0     0          3      8        1680   \n",
       "\n",
       "   sqft_basement  yr_built  yr_renovated  zipcode      lat     long  \\\n",
       "0              0      1955             0    98178  47.5112 -122.257   \n",
       "1            400      1951          1991    98125  47.7210 -122.319   \n",
       "2              0      1933             0    98028  47.7379 -122.233   \n",
       "3            910      1965             0    98136  47.5208 -122.393   \n",
       "4              0      1987             0    98074  47.6168 -122.045   \n",
       "\n",
       "   sqft_living15  sqft_lot15  \n",
       "0           1340        5650  \n",
       "1           1690        7639  \n",
       "2           2720        8062  \n",
       "3           1360        5000  \n",
       "4           1800        7503  "
      ]
     },
     "execution_count": 3,
     "metadata": {},
     "output_type": "execute_result"
    }
   ],
   "source": [
    "# 將顯示列數設定為25，不然會有部份資料無法顯示\n",
    "pd.options.display.max_columns = 25\n",
    "# head 會顯示前五行的數據\n",
    "data.head()"
   ]
  },
  {
   "cell_type": "markdown",
   "metadata": {},
   "source": [
    "各個數據的簡寫分別代表下面意思：\n",
    "- date：房屋出售日期。\n",
    "- price：房屋價格（目標）。\n",
    "- bedrooms：臥室數量。\n",
    "- bathrooms：浴室數量。\n",
    "- sqft_living：居住的坪數（平方英尺）。\n",
    "- sqft_lot：實際的坪數（平方英尺）。\n",
    "- floors：房屋總共樓層。\n",
    "- waterfront：海景房。\n",
    "- view：房屋是否看過。\n",
    "- condition：整體條件有多好。\n",
    "- grade：房屋的整體等級（根據King County評分系統）。\n",
    "- sqft_above：除了地下室外的坪數（平方英尺）。\n",
    "- sqft_basement：地下室的坪數（平方英尺）。\n",
    "- yr_built：房屋建造時間。\n",
    "- yr_renovated：何時重新裝修過（一些沒重新裝修過或是裝修紀錄沒被記錄到的數值都為0）。\n",
    "- zipcode：郵政編碼。\n",
    "- lat：緯度座標。\n",
    "- long：經度座標。\n",
    "- sqft_living15：2015年紀錄的居住坪數（可能是翻新的原因導致sqft_living15與sqft_living不同）。\n",
    "- sqft_lot15：2015年紀錄的實際坪數（可能是翻新的原因導致sqft_lot15與sqft_lot不同）。"
   ]
  },
  {
   "cell_type": "markdown",
   "metadata": {},
   "source": [
    "### 檢查資料的型態\n",
    "\n",
    "資料型態總共有五種：object(string),booleab, integer, float and categorical."
   ]
  },
  {
   "cell_type": "code",
   "execution_count": 4,
   "metadata": {},
   "outputs": [
    {
     "data": {
      "text/plain": [
       "id                 int64\n",
       "date              object\n",
       "price            float64\n",
       "bedrooms           int64\n",
       "bathrooms        float64\n",
       "sqft_living        int64\n",
       "sqft_lot           int64\n",
       "floors           float64\n",
       "waterfront         int64\n",
       "view               int64\n",
       "condition          int64\n",
       "grade              int64\n",
       "sqft_above         int64\n",
       "sqft_basement      int64\n",
       "yr_built           int64\n",
       "yr_renovated       int64\n",
       "zipcode            int64\n",
       "lat              float64\n",
       "long             float64\n",
       "sqft_living15      int64\n",
       "sqft_lot15         int64\n",
       "dtype: object"
      ]
     },
     "execution_count": 4,
     "metadata": {},
     "output_type": "execute_result"
    }
   ],
   "source": [
    "data.dtypes"
   ]
  },
  {
   "cell_type": "markdown",
   "metadata": {},
   "source": [
    "### 數據前處理\n",
    "轉換資料型態：\n",
    "因為數據集裡的date數據是字串（string）格式，而模型的輸入只接受數值格式，所以可以透過以下程式碼將其轉為數值，並分成年、月及日三種數據。"
   ]
  },
  {
   "cell_type": "code",
   "execution_count": 5,
   "metadata": {},
   "outputs": [
    {
     "data": {
      "text/html": [
       "<div>\n",
       "<style scoped>\n",
       "    .dataframe tbody tr th:only-of-type {\n",
       "        vertical-align: middle;\n",
       "    }\n",
       "\n",
       "    .dataframe tbody tr th {\n",
       "        vertical-align: top;\n",
       "    }\n",
       "\n",
       "    .dataframe thead th {\n",
       "        text-align: right;\n",
       "    }\n",
       "</style>\n",
       "<table border=\"1\" class=\"dataframe\">\n",
       "  <thead>\n",
       "    <tr style=\"text-align: right;\">\n",
       "      <th></th>\n",
       "      <th>price</th>\n",
       "      <th>bedrooms</th>\n",
       "      <th>bathrooms</th>\n",
       "      <th>sqft_living</th>\n",
       "      <th>sqft_lot</th>\n",
       "      <th>floors</th>\n",
       "      <th>waterfront</th>\n",
       "      <th>view</th>\n",
       "      <th>condition</th>\n",
       "      <th>grade</th>\n",
       "      <th>sqft_above</th>\n",
       "      <th>sqft_basement</th>\n",
       "      <th>yr_built</th>\n",
       "      <th>yr_renovated</th>\n",
       "      <th>zipcode</th>\n",
       "      <th>lat</th>\n",
       "      <th>long</th>\n",
       "      <th>sqft_living15</th>\n",
       "      <th>sqft_lot15</th>\n",
       "      <th>year</th>\n",
       "      <th>month</th>\n",
       "      <th>day</th>\n",
       "    </tr>\n",
       "  </thead>\n",
       "  <tbody>\n",
       "    <tr>\n",
       "      <th>0</th>\n",
       "      <td>221900.0</td>\n",
       "      <td>3</td>\n",
       "      <td>1.00</td>\n",
       "      <td>1180</td>\n",
       "      <td>5650</td>\n",
       "      <td>1.0</td>\n",
       "      <td>0</td>\n",
       "      <td>0</td>\n",
       "      <td>3</td>\n",
       "      <td>7</td>\n",
       "      <td>1180</td>\n",
       "      <td>0</td>\n",
       "      <td>1955</td>\n",
       "      <td>0</td>\n",
       "      <td>98178</td>\n",
       "      <td>47.5112</td>\n",
       "      <td>-122.257</td>\n",
       "      <td>1340</td>\n",
       "      <td>5650</td>\n",
       "      <td>2014</td>\n",
       "      <td>10</td>\n",
       "      <td>13</td>\n",
       "    </tr>\n",
       "    <tr>\n",
       "      <th>1</th>\n",
       "      <td>538000.0</td>\n",
       "      <td>3</td>\n",
       "      <td>2.25</td>\n",
       "      <td>2570</td>\n",
       "      <td>7242</td>\n",
       "      <td>2.0</td>\n",
       "      <td>0</td>\n",
       "      <td>0</td>\n",
       "      <td>3</td>\n",
       "      <td>7</td>\n",
       "      <td>2170</td>\n",
       "      <td>400</td>\n",
       "      <td>1951</td>\n",
       "      <td>1991</td>\n",
       "      <td>98125</td>\n",
       "      <td>47.7210</td>\n",
       "      <td>-122.319</td>\n",
       "      <td>1690</td>\n",
       "      <td>7639</td>\n",
       "      <td>2014</td>\n",
       "      <td>12</td>\n",
       "      <td>9</td>\n",
       "    </tr>\n",
       "    <tr>\n",
       "      <th>2</th>\n",
       "      <td>180000.0</td>\n",
       "      <td>2</td>\n",
       "      <td>1.00</td>\n",
       "      <td>770</td>\n",
       "      <td>10000</td>\n",
       "      <td>1.0</td>\n",
       "      <td>0</td>\n",
       "      <td>0</td>\n",
       "      <td>3</td>\n",
       "      <td>6</td>\n",
       "      <td>770</td>\n",
       "      <td>0</td>\n",
       "      <td>1933</td>\n",
       "      <td>0</td>\n",
       "      <td>98028</td>\n",
       "      <td>47.7379</td>\n",
       "      <td>-122.233</td>\n",
       "      <td>2720</td>\n",
       "      <td>8062</td>\n",
       "      <td>2015</td>\n",
       "      <td>2</td>\n",
       "      <td>25</td>\n",
       "    </tr>\n",
       "    <tr>\n",
       "      <th>3</th>\n",
       "      <td>604000.0</td>\n",
       "      <td>4</td>\n",
       "      <td>3.00</td>\n",
       "      <td>1960</td>\n",
       "      <td>5000</td>\n",
       "      <td>1.0</td>\n",
       "      <td>0</td>\n",
       "      <td>0</td>\n",
       "      <td>5</td>\n",
       "      <td>7</td>\n",
       "      <td>1050</td>\n",
       "      <td>910</td>\n",
       "      <td>1965</td>\n",
       "      <td>0</td>\n",
       "      <td>98136</td>\n",
       "      <td>47.5208</td>\n",
       "      <td>-122.393</td>\n",
       "      <td>1360</td>\n",
       "      <td>5000</td>\n",
       "      <td>2014</td>\n",
       "      <td>12</td>\n",
       "      <td>9</td>\n",
       "    </tr>\n",
       "    <tr>\n",
       "      <th>4</th>\n",
       "      <td>510000.0</td>\n",
       "      <td>3</td>\n",
       "      <td>2.00</td>\n",
       "      <td>1680</td>\n",
       "      <td>8080</td>\n",
       "      <td>1.0</td>\n",
       "      <td>0</td>\n",
       "      <td>0</td>\n",
       "      <td>3</td>\n",
       "      <td>8</td>\n",
       "      <td>1680</td>\n",
       "      <td>0</td>\n",
       "      <td>1987</td>\n",
       "      <td>0</td>\n",
       "      <td>98074</td>\n",
       "      <td>47.6168</td>\n",
       "      <td>-122.045</td>\n",
       "      <td>1800</td>\n",
       "      <td>7503</td>\n",
       "      <td>2015</td>\n",
       "      <td>2</td>\n",
       "      <td>18</td>\n",
       "    </tr>\n",
       "  </tbody>\n",
       "</table>\n",
       "</div>"
      ],
      "text/plain": [
       "      price  bedrooms  bathrooms  sqft_living  sqft_lot  floors  waterfront  \\\n",
       "0  221900.0         3       1.00         1180      5650     1.0           0   \n",
       "1  538000.0         3       2.25         2570      7242     2.0           0   \n",
       "2  180000.0         2       1.00          770     10000     1.0           0   \n",
       "3  604000.0         4       3.00         1960      5000     1.0           0   \n",
       "4  510000.0         3       2.00         1680      8080     1.0           0   \n",
       "\n",
       "   view  condition  grade  sqft_above  sqft_basement  yr_built  yr_renovated  \\\n",
       "0     0          3      7        1180              0      1955             0   \n",
       "1     0          3      7        2170            400      1951          1991   \n",
       "2     0          3      6         770              0      1933             0   \n",
       "3     0          5      7        1050            910      1965             0   \n",
       "4     0          3      8        1680              0      1987             0   \n",
       "\n",
       "   zipcode      lat     long  sqft_living15  sqft_lot15  year  month  day  \n",
       "0    98178  47.5112 -122.257           1340        5650  2014     10   13  \n",
       "1    98125  47.7210 -122.319           1690        7639  2014     12    9  \n",
       "2    98028  47.7379 -122.233           2720        8062  2015      2   25  \n",
       "3    98136  47.5208 -122.393           1360        5000  2014     12    9  \n",
       "4    98074  47.6168 -122.045           1800        7503  2015      2   18  "
      ]
     },
     "execution_count": 5,
     "metadata": {},
     "output_type": "execute_result"
    }
   ],
   "source": [
    "# 將date日期拆為年、月和日並轉成數值\n",
    "data['year'] = pd.to_numeric(data['date'].str.slice(0, 4))\n",
    "data['month'] = pd.to_numeric(data['date'].str.slice(4, 6))\n",
    "data['day'] = pd.to_numeric(data['date'].str.slice(6, 8))\n",
    "\n",
    "# 刪除沒有用的數據，inplace則是將更新後的資料存回原本的地方\n",
    "data.drop(['id'], axis=\"columns\", inplace=True)\n",
    "data.drop(['date'], axis=\"columns\", inplace=True)\n",
    "\n",
    "data.head()"
   ]
  },
  {
   "cell_type": "markdown",
   "metadata": {},
   "source": [
    "分割數據集（Dataset）：將數據集切割成三個部份，訓練數據（Training data）、驗證數據（Validation data）和測試數據（Testing data）。"
   ]
  },
  {
   "cell_type": "code",
   "execution_count": 6,
   "metadata": {},
   "outputs": [],
   "source": [
    "data_num = data.shape[0]\n",
    "# 取得一筆與data數量相同的亂數索引，主要目的是用於打散資料\n",
    "indexes = np.random.permutation(data_num)\n",
    "# 並將亂數索引值分為Train、validation和test分為，這裡的劃分比例為6:2:2\n",
    "train_indexes = indexes[:int(data_num *0.6)]\n",
    "val_indexes = indexes[int(data_num *0.6):int(data_num *0.8)]\n",
    "test_indexes = indexes[int(data_num *0.8):]\n",
    "# 透過索引值從data取出訓練資料、驗證資料和測試資料\n",
    "train_data = data.loc[train_indexes]\n",
    "val_data = data.loc[val_indexes]\n",
    "test_data = data.loc[test_indexes]"
   ]
  },
  {
   "cell_type": "markdown",
   "metadata": {},
   "source": [
    "### Normalization 正規化"
   ]
  },
  {
   "cell_type": "markdown",
   "metadata": {},
   "source": [
    "使用標準分數(Standard Score, 又稱z-score)將數據正規化，經過z-score正規化後數據的都會聚集在0附近， 標準差為1。 \n",
    "\n",
    "(x - 平均值) / 標準差"
   ]
  },
  {
   "cell_type": "code",
   "execution_count": 7,
   "metadata": {
    "scrolled": true
   },
   "outputs": [],
   "source": [
    "train_validation_data = pd.concat([train_data, val_data])\n",
    "mean = train_validation_data.mean()\n",
    "std = train_validation_data.std()\n",
    "\n",
    "train_data = (train_data - mean) / std\n",
    "val_data = (val_data - mean) / std"
   ]
  },
  {
   "cell_type": "markdown",
   "metadata": {},
   "source": [
    "### 建立Numpy array格式的訓練數據"
   ]
  },
  {
   "cell_type": "code",
   "execution_count": 8,
   "metadata": {},
   "outputs": [],
   "source": [
    "x_train = np.array(train_data.drop('price', axis='columns'))\n",
    "y_train = np.array(train_data['price'])\n",
    "x_val = np.array(val_data.drop('price', axis='columns'))\n",
    "y_val = np.array(val_data['price'])"
   ]
  },
  {
   "cell_type": "markdown",
   "metadata": {},
   "source": [
    "整理過後的資料共12967筆，且一筆資料有21種資訊(所以網路輸入必須為21)。"
   ]
  },
  {
   "cell_type": "code",
   "execution_count": 9,
   "metadata": {},
   "outputs": [
    {
     "data": {
      "text/plain": [
       "(12967, 21)"
      ]
     },
     "execution_count": 9,
     "metadata": {},
     "output_type": "execute_result"
    }
   ],
   "source": [
    "x_train.shape"
   ]
  },
  {
   "cell_type": "markdown",
   "metadata": {},
   "source": [
    "### 建立並訓練網路模型\n",
    "\n",
    "這裡建構三層全連接層的網路架構，並且使用ReLU作為隱藏層的激活函數，而由於需得到線性輸出，故輸出層不使用任何激活函數。\n",
    "\n",
    "提示: https://www.tensorflow.org/api_docs/python/tf/keras/layers?hl=zh-cn"
   ]
  },
  {
   "cell_type": "code",
   "execution_count": 37,
   "metadata": {},
   "outputs": [
    {
     "name": "stdout",
     "output_type": "stream",
     "text": [
      "Model: \"model-1\"\n",
      "_________________________________________________________________\n",
      "Layer (type)                 Output Shape              Param #   \n",
      "=================================================================\n",
      "dense_15 (Dense)             (None, 128)               2816      \n",
      "_________________________________________________________________\n",
      "leaky_re_lu_10 (LeakyReLU)   (None, 128)               0         \n",
      "_________________________________________________________________\n",
      "dropout_8 (Dropout)          (None, 128)               0         \n",
      "_________________________________________________________________\n",
      "dense_16 (Dense)             (None, 128)               16512     \n",
      "_________________________________________________________________\n",
      "leaky_re_lu_11 (LeakyReLU)   (None, 128)               0         \n",
      "_________________________________________________________________\n",
      "dropout_9 (Dropout)          (None, 128)               0         \n",
      "_________________________________________________________________\n",
      "dense_17 (Dense)             (None, 1)                 129       \n",
      "=================================================================\n",
      "Total params: 19,457\n",
      "Trainable params: 19,457\n",
      "Non-trainable params: 0\n",
      "_________________________________________________________________\n"
     ]
    }
   ],
   "source": [
    "#========================= Write your code here ========================= #\n",
    "# 建立一個Sequential型態的model\n",
    "\n",
    "# 第1層全連接層設為128個unit，kernel_regularizer=l1，將輸入形狀設定為(21, )\n",
    "\n",
    "# 第3層激活層(activation layer)為LeakyReLU\n",
    "\n",
    "# 第4層Dropout層，捨棄比率設定為20%\n",
    "\n",
    "# 第5層全連接層設為128個unit，kernel_regularizer=l1\n",
    "\n",
    "# 第6層激活層(activation layer)為LeakyReLU\n",
    "\n",
    "# 第7層Dropout層，捨棄比率設定為20%\n",
    "\n",
    "# 最後一層全連接層設為1個unit\n",
    "\n",
    "#======================================================================== #\n",
    "\n",
    "# 顯示網路模型架構\n",
    "model.summary()"
   ]
  },
  {
   "cell_type": "markdown",
   "metadata": {},
   "source": [
    "設定訓練使用的優化器、損失函數和指標函數："
   ]
  },
  {
   "cell_type": "code",
   "execution_count": 38,
   "metadata": {},
   "outputs": [],
   "source": [
    "model.compile(\n",
    "    # optimizers使用Adam(0.002)\n",
    "    optimizer=,                # Write your code here\n",
    "    # loss使用MAE Loss\n",
    "    loss=                      # Write your code here\n",
    ")"
   ]
  },
  {
   "cell_type": "markdown",
   "metadata": {},
   "source": [
    "創建模型儲存目錄："
   ]
  },
  {
   "cell_type": "code",
   "execution_count": 39,
   "metadata": {},
   "outputs": [],
   "source": [
    "model_dir = 'lab2-logs/models/'\n",
    "if not os.path.isdir(model_dir):\n",
    "    os.makedirs(model_dir)"
   ]
  },
  {
   "cell_type": "markdown",
   "metadata": {},
   "source": [
    "設定回調函數："
   ]
  },
  {
   "cell_type": "code",
   "execution_count": 40,
   "metadata": {},
   "outputs": [],
   "source": [
    "# TensorBoard回調函數會幫忙紀錄訓練資訊，並存成TensorBoard的紀錄檔\n",
    "log_dir = os.path.join('lab2-logs', 'model-1')\n",
    "model_cbk = keras.callbacks.TensorBoard(log_dir=log_dir)\n",
    "# ModelCheckpoint回調函數幫忙儲存網路模型，可以設定只儲存最好的模型，「monitor」表示被監測的數據，「mode」min則代表監測數據越小越好。\n",
    "model_mckp = keras.callbacks.ModelCheckpoint(model_dir + '/Best-model-1.h5', \n",
    "                                        monitor='val_mean_absolute_error', \n",
    "                                        save_best_only=True, \n",
    "                                        mode='min')"
   ]
  },
  {
   "cell_type": "markdown",
   "metadata": {},
   "source": [
    "訓練網路模型："
   ]
  },
  {
   "cell_type": "code",
   "execution_count": 41,
   "metadata": {
    "scrolled": true
   },
   "outputs": [
    {
     "name": "stdout",
     "output_type": "stream",
     "text": [
      "Epoch 1/100\n",
      "203/203 [==============================] - 1s 3ms/step - loss: 1.3770 - mean_absolute_error: 0.3650 - val_loss: 0.9062 - val_mean_absolute_error: 0.2872\n",
      "Epoch 2/100\n",
      "203/203 [==============================] - 0s 2ms/step - loss: 0.7307 - mean_absolute_error: 0.3108 - val_loss: 0.5517 - val_mean_absolute_error: 0.2903\n",
      "Epoch 3/100\n",
      "203/203 [==============================] - 0s 2ms/step - loss: 0.4849 - mean_absolute_error: 0.3014 - val_loss: 0.4002 - val_mean_absolute_error: 0.2812\n",
      "Epoch 4/100\n",
      "203/203 [==============================] - 0s 2ms/step - loss: 0.3968 - mean_absolute_error: 0.2969 - val_loss: 0.3538 - val_mean_absolute_error: 0.2818\n",
      "Epoch 5/100\n",
      "203/203 [==============================] - 0s 2ms/step - loss: 0.3502 - mean_absolute_error: 0.2943 - val_loss: 0.3268 - val_mean_absolute_error: 0.2863\n",
      "Epoch 6/100\n",
      "203/203 [==============================] - 0s 2ms/step - loss: 0.3361 - mean_absolute_error: 0.2950 - val_loss: 0.3131 - val_mean_absolute_error: 0.2654\n",
      "Epoch 7/100\n",
      "203/203 [==============================] - 0s 2ms/step - loss: 0.3149 - mean_absolute_error: 0.2878 - val_loss: 0.2805 - val_mean_absolute_error: 0.2597\n",
      "Epoch 8/100\n",
      "203/203 [==============================] - 0s 2ms/step - loss: 0.2905 - mean_absolute_error: 0.2806 - val_loss: 0.3372 - val_mean_absolute_error: 0.2756\n",
      "Epoch 9/100\n",
      "203/203 [==============================] - 0s 2ms/step - loss: 0.3007 - mean_absolute_error: 0.2864 - val_loss: 0.2901 - val_mean_absolute_error: 0.2611\n",
      "Epoch 10/100\n",
      "203/203 [==============================] - 0s 2ms/step - loss: 0.2917 - mean_absolute_error: 0.2830 - val_loss: 0.2710 - val_mean_absolute_error: 0.2604\n",
      "Epoch 11/100\n",
      "203/203 [==============================] - 0s 2ms/step - loss: 0.2809 - mean_absolute_error: 0.2815 - val_loss: 0.2803 - val_mean_absolute_error: 0.2602\n",
      "Epoch 12/100\n",
      "203/203 [==============================] - 0s 2ms/step - loss: 0.2732 - mean_absolute_error: 0.2767 - val_loss: 0.2571 - val_mean_absolute_error: 0.2574\n",
      "Epoch 13/100\n",
      "203/203 [==============================] - 0s 2ms/step - loss: 0.2718 - mean_absolute_error: 0.2811 - val_loss: 0.2481 - val_mean_absolute_error: 0.2472\n",
      "Epoch 14/100\n",
      "203/203 [==============================] - 0s 2ms/step - loss: 0.2860 - mean_absolute_error: 0.2827 - val_loss: 0.2547 - val_mean_absolute_error: 0.2493\n",
      "Epoch 15/100\n",
      "203/203 [==============================] - 0s 2ms/step - loss: 0.2832 - mean_absolute_error: 0.2825 - val_loss: 0.2766 - val_mean_absolute_error: 0.2626\n",
      "Epoch 16/100\n",
      "203/203 [==============================] - 0s 2ms/step - loss: 0.2743 - mean_absolute_error: 0.2810 - val_loss: 0.2481 - val_mean_absolute_error: 0.2542\n",
      "Epoch 17/100\n",
      "203/203 [==============================] - 0s 2ms/step - loss: 0.2763 - mean_absolute_error: 0.2820 - val_loss: 0.2621 - val_mean_absolute_error: 0.2566\n",
      "Epoch 18/100\n",
      "203/203 [==============================] - 0s 2ms/step - loss: 0.2717 - mean_absolute_error: 0.2823 - val_loss: 0.2788 - val_mean_absolute_error: 0.2755\n",
      "Epoch 19/100\n",
      "203/203 [==============================] - 0s 2ms/step - loss: 0.2750 - mean_absolute_error: 0.2826 - val_loss: 0.2462 - val_mean_absolute_error: 0.2479\n",
      "Epoch 20/100\n",
      "203/203 [==============================] - 0s 2ms/step - loss: 0.2684 - mean_absolute_error: 0.2825 - val_loss: 0.2427 - val_mean_absolute_error: 0.2461\n",
      "Epoch 21/100\n",
      "203/203 [==============================] - 0s 2ms/step - loss: 0.2758 - mean_absolute_error: 0.2802 - val_loss: 0.2484 - val_mean_absolute_error: 0.2565\n",
      "Epoch 22/100\n",
      "203/203 [==============================] - 0s 2ms/step - loss: 0.2698 - mean_absolute_error: 0.2804 - val_loss: 0.2392 - val_mean_absolute_error: 0.2474\n",
      "Epoch 23/100\n",
      "203/203 [==============================] - 0s 2ms/step - loss: 0.2692 - mean_absolute_error: 0.2810 - val_loss: 0.2417 - val_mean_absolute_error: 0.2493\n",
      "Epoch 24/100\n",
      "203/203 [==============================] - 0s 2ms/step - loss: 0.2631 - mean_absolute_error: 0.2795 - val_loss: 0.2431 - val_mean_absolute_error: 0.2467\n",
      "Epoch 25/100\n",
      "203/203 [==============================] - 0s 2ms/step - loss: 0.2757 - mean_absolute_error: 0.2824 - val_loss: 0.2481 - val_mean_absolute_error: 0.2475\n",
      "Epoch 26/100\n",
      "203/203 [==============================] - 0s 2ms/step - loss: 0.2729 - mean_absolute_error: 0.2819 - val_loss: 0.2500 - val_mean_absolute_error: 0.2589\n",
      "Epoch 27/100\n",
      "203/203 [==============================] - 0s 2ms/step - loss: 0.2635 - mean_absolute_error: 0.2784 - val_loss: 0.2365 - val_mean_absolute_error: 0.2467\n",
      "Epoch 28/100\n",
      "203/203 [==============================] - 0s 2ms/step - loss: 0.2604 - mean_absolute_error: 0.2793 - val_loss: 0.2312 - val_mean_absolute_error: 0.2493\n",
      "Epoch 29/100\n",
      "203/203 [==============================] - 0s 2ms/step - loss: 0.2548 - mean_absolute_error: 0.2774 - val_loss: 0.2436 - val_mean_absolute_error: 0.2647\n",
      "Epoch 30/100\n",
      "203/203 [==============================] - 0s 2ms/step - loss: 0.2549 - mean_absolute_error: 0.2786 - val_loss: 0.2675 - val_mean_absolute_error: 0.2509\n",
      "Epoch 31/100\n",
      "203/203 [==============================] - 0s 2ms/step - loss: 0.2635 - mean_absolute_error: 0.2800 - val_loss: 0.2830 - val_mean_absolute_error: 0.2586\n",
      "Epoch 32/100\n",
      "203/203 [==============================] - 0s 2ms/step - loss: 0.2590 - mean_absolute_error: 0.2791 - val_loss: 0.2324 - val_mean_absolute_error: 0.2492\n",
      "Epoch 33/100\n",
      "203/203 [==============================] - 0s 2ms/step - loss: 0.2509 - mean_absolute_error: 0.2774 - val_loss: 0.2326 - val_mean_absolute_error: 0.2456\n",
      "Epoch 34/100\n",
      "203/203 [==============================] - 0s 2ms/step - loss: 0.2580 - mean_absolute_error: 0.2776 - val_loss: 0.2350 - val_mean_absolute_error: 0.2425\n",
      "Epoch 35/100\n",
      "203/203 [==============================] - 0s 2ms/step - loss: 0.2616 - mean_absolute_error: 0.2807 - val_loss: 0.2396 - val_mean_absolute_error: 0.2545\n",
      "Epoch 36/100\n",
      "203/203 [==============================] - 0s 2ms/step - loss: 0.2539 - mean_absolute_error: 0.2796 - val_loss: 0.2294 - val_mean_absolute_error: 0.2445\n",
      "Epoch 37/100\n",
      "203/203 [==============================] - 0s 2ms/step - loss: 0.2566 - mean_absolute_error: 0.2789 - val_loss: 0.2545 - val_mean_absolute_error: 0.2563\n",
      "Epoch 38/100\n",
      "203/203 [==============================] - 0s 2ms/step - loss: 0.2570 - mean_absolute_error: 0.2813 - val_loss: 0.2566 - val_mean_absolute_error: 0.2605\n",
      "Epoch 39/100\n",
      "203/203 [==============================] - 0s 2ms/step - loss: 0.2565 - mean_absolute_error: 0.2806 - val_loss: 0.2653 - val_mean_absolute_error: 0.2590\n",
      "Epoch 40/100\n",
      "203/203 [==============================] - 0s 2ms/step - loss: 0.2681 - mean_absolute_error: 0.2814 - val_loss: 0.2596 - val_mean_absolute_error: 0.2492\n",
      "Epoch 41/100\n",
      "203/203 [==============================] - 0s 2ms/step - loss: 0.2798 - mean_absolute_error: 0.2828 - val_loss: 0.2493 - val_mean_absolute_error: 0.2529\n",
      "Epoch 42/100\n",
      "203/203 [==============================] - 0s 2ms/step - loss: 0.2681 - mean_absolute_error: 0.2807 - val_loss: 0.2266 - val_mean_absolute_error: 0.2432\n",
      "Epoch 43/100\n",
      "203/203 [==============================] - 0s 2ms/step - loss: 0.2740 - mean_absolute_error: 0.2841 - val_loss: 0.2484 - val_mean_absolute_error: 0.2576\n",
      "Epoch 44/100\n",
      "203/203 [==============================] - 0s 2ms/step - loss: 0.2583 - mean_absolute_error: 0.2793 - val_loss: 0.2480 - val_mean_absolute_error: 0.2484\n",
      "Epoch 45/100\n",
      "203/203 [==============================] - 0s 2ms/step - loss: 0.2636 - mean_absolute_error: 0.2830 - val_loss: 0.2599 - val_mean_absolute_error: 0.2497\n",
      "Epoch 46/100\n",
      "203/203 [==============================] - 0s 2ms/step - loss: 0.2570 - mean_absolute_error: 0.2793 - val_loss: 0.2348 - val_mean_absolute_error: 0.2449\n",
      "Epoch 47/100\n",
      "203/203 [==============================] - 0s 2ms/step - loss: 0.2503 - mean_absolute_error: 0.2746 - val_loss: 0.2219 - val_mean_absolute_error: 0.2440\n",
      "Epoch 48/100\n",
      "203/203 [==============================] - 0s 2ms/step - loss: 0.2478 - mean_absolute_error: 0.2760 - val_loss: 0.2258 - val_mean_absolute_error: 0.2469\n",
      "Epoch 49/100\n",
      "203/203 [==============================] - 0s 2ms/step - loss: 0.2542 - mean_absolute_error: 0.2816 - val_loss: 0.2240 - val_mean_absolute_error: 0.2462\n",
      "Epoch 50/100\n",
      "203/203 [==============================] - 0s 2ms/step - loss: 0.2514 - mean_absolute_error: 0.2804 - val_loss: 0.2309 - val_mean_absolute_error: 0.2542\n",
      "Epoch 51/100\n",
      "203/203 [==============================] - 0s 2ms/step - loss: 0.2787 - mean_absolute_error: 0.2877 - val_loss: 0.2354 - val_mean_absolute_error: 0.2499\n",
      "Epoch 52/100\n",
      "203/203 [==============================] - 0s 2ms/step - loss: 0.2542 - mean_absolute_error: 0.2782 - val_loss: 0.2325 - val_mean_absolute_error: 0.2555\n",
      "Epoch 53/100\n",
      "203/203 [==============================] - 0s 2ms/step - loss: 0.2556 - mean_absolute_error: 0.2782 - val_loss: 0.2466 - val_mean_absolute_error: 0.2621\n",
      "Epoch 54/100\n",
      "203/203 [==============================] - 0s 2ms/step - loss: 0.2749 - mean_absolute_error: 0.2842 - val_loss: 0.2375 - val_mean_absolute_error: 0.2554\n",
      "Epoch 55/100\n",
      "203/203 [==============================] - 0s 2ms/step - loss: 0.2749 - mean_absolute_error: 0.2844 - val_loss: 0.2321 - val_mean_absolute_error: 0.2517\n",
      "Epoch 56/100\n",
      "203/203 [==============================] - 0s 2ms/step - loss: 0.2572 - mean_absolute_error: 0.2800 - val_loss: 0.2331 - val_mean_absolute_error: 0.2497\n",
      "Epoch 57/100\n",
      "203/203 [==============================] - 0s 2ms/step - loss: 0.2698 - mean_absolute_error: 0.2849 - val_loss: 0.2373 - val_mean_absolute_error: 0.2489\n",
      "Epoch 58/100\n",
      "203/203 [==============================] - 0s 2ms/step - loss: 0.2753 - mean_absolute_error: 0.2819 - val_loss: 0.2340 - val_mean_absolute_error: 0.2564\n",
      "Epoch 59/100\n",
      "203/203 [==============================] - 0s 2ms/step - loss: 0.2470 - mean_absolute_error: 0.2777 - val_loss: 0.2235 - val_mean_absolute_error: 0.2457\n",
      "Epoch 60/100\n",
      "203/203 [==============================] - 0s 2ms/step - loss: 0.2584 - mean_absolute_error: 0.2794 - val_loss: 0.2216 - val_mean_absolute_error: 0.2434\n",
      "Epoch 61/100\n",
      "203/203 [==============================] - 0s 2ms/step - loss: 0.2464 - mean_absolute_error: 0.2741 - val_loss: 0.2228 - val_mean_absolute_error: 0.2479\n",
      "Epoch 62/100\n",
      "203/203 [==============================] - 0s 2ms/step - loss: 0.2533 - mean_absolute_error: 0.2792 - val_loss: 0.2804 - val_mean_absolute_error: 0.2825\n",
      "Epoch 63/100\n",
      "203/203 [==============================] - 0s 2ms/step - loss: 0.2481 - mean_absolute_error: 0.2760 - val_loss: 0.2227 - val_mean_absolute_error: 0.2428\n",
      "Epoch 64/100\n",
      "203/203 [==============================] - 0s 2ms/step - loss: 0.2706 - mean_absolute_error: 0.2815 - val_loss: 0.2745 - val_mean_absolute_error: 0.2663\n",
      "Epoch 65/100\n",
      "203/203 [==============================] - 0s 2ms/step - loss: 0.2877 - mean_absolute_error: 0.2871 - val_loss: 0.2401 - val_mean_absolute_error: 0.2454\n",
      "Epoch 66/100\n",
      "203/203 [==============================] - 0s 2ms/step - loss: 0.2500 - mean_absolute_error: 0.2771 - val_loss: 0.2243 - val_mean_absolute_error: 0.2459\n",
      "Epoch 67/100\n",
      "203/203 [==============================] - 0s 2ms/step - loss: 0.2453 - mean_absolute_error: 0.2777 - val_loss: 0.2489 - val_mean_absolute_error: 0.2651\n",
      "Epoch 68/100\n",
      "203/203 [==============================] - 0s 2ms/step - loss: 0.2620 - mean_absolute_error: 0.2810 - val_loss: 0.2259 - val_mean_absolute_error: 0.2524\n",
      "Epoch 69/100\n",
      "203/203 [==============================] - 0s 2ms/step - loss: 0.2454 - mean_absolute_error: 0.2772 - val_loss: 0.2305 - val_mean_absolute_error: 0.2518\n",
      "Epoch 70/100\n",
      "203/203 [==============================] - 0s 2ms/step - loss: 0.2422 - mean_absolute_error: 0.2747 - val_loss: 0.2421 - val_mean_absolute_error: 0.2525\n",
      "Epoch 71/100\n",
      "203/203 [==============================] - 0s 2ms/step - loss: 0.2496 - mean_absolute_error: 0.2790 - val_loss: 0.2299 - val_mean_absolute_error: 0.2513\n",
      "Epoch 72/100\n",
      "203/203 [==============================] - 0s 2ms/step - loss: 0.2655 - mean_absolute_error: 0.2819 - val_loss: 0.2257 - val_mean_absolute_error: 0.2437\n",
      "Epoch 73/100\n",
      "203/203 [==============================] - 0s 2ms/step - loss: 0.2456 - mean_absolute_error: 0.2785 - val_loss: 0.2230 - val_mean_absolute_error: 0.2443\n",
      "Epoch 74/100\n",
      "203/203 [==============================] - 0s 2ms/step - loss: 0.2618 - mean_absolute_error: 0.2797 - val_loss: 0.2594 - val_mean_absolute_error: 0.2557\n",
      "Epoch 75/100\n",
      "203/203 [==============================] - 0s 2ms/step - loss: 0.2646 - mean_absolute_error: 0.2789 - val_loss: 0.2546 - val_mean_absolute_error: 0.2450\n",
      "Epoch 76/100\n",
      "203/203 [==============================] - 0s 2ms/step - loss: 0.2541 - mean_absolute_error: 0.2831 - val_loss: 0.2509 - val_mean_absolute_error: 0.2480\n",
      "Epoch 77/100\n",
      "203/203 [==============================] - 0s 2ms/step - loss: 0.2637 - mean_absolute_error: 0.2822 - val_loss: 0.2575 - val_mean_absolute_error: 0.2620\n",
      "Epoch 78/100\n",
      "203/203 [==============================] - 0s 2ms/step - loss: 0.2733 - mean_absolute_error: 0.2819 - val_loss: 0.2354 - val_mean_absolute_error: 0.2404\n",
      "Epoch 79/100\n",
      "203/203 [==============================] - 0s 2ms/step - loss: 0.2502 - mean_absolute_error: 0.2774 - val_loss: 0.2443 - val_mean_absolute_error: 0.2503\n",
      "Epoch 80/100\n",
      "203/203 [==============================] - 0s 2ms/step - loss: 0.2465 - mean_absolute_error: 0.2747 - val_loss: 0.2371 - val_mean_absolute_error: 0.2632\n",
      "Epoch 81/100\n",
      "203/203 [==============================] - 0s 2ms/step - loss: 0.2679 - mean_absolute_error: 0.2837 - val_loss: 0.2386 - val_mean_absolute_error: 0.2568\n",
      "Epoch 82/100\n",
      "203/203 [==============================] - 0s 2ms/step - loss: 0.2588 - mean_absolute_error: 0.2809 - val_loss: 0.2407 - val_mean_absolute_error: 0.2494\n",
      "Epoch 83/100\n",
      "203/203 [==============================] - 0s 2ms/step - loss: 0.2408 - mean_absolute_error: 0.2756 - val_loss: 0.2247 - val_mean_absolute_error: 0.2451\n",
      "Epoch 84/100\n",
      "203/203 [==============================] - 0s 2ms/step - loss: 0.2524 - mean_absolute_error: 0.2760 - val_loss: 0.2331 - val_mean_absolute_error: 0.2452\n",
      "Epoch 85/100\n",
      "203/203 [==============================] - 0s 2ms/step - loss: 0.2495 - mean_absolute_error: 0.2758 - val_loss: 0.2319 - val_mean_absolute_error: 0.2552\n",
      "Epoch 86/100\n",
      "203/203 [==============================] - 0s 2ms/step - loss: 0.2616 - mean_absolute_error: 0.2827 - val_loss: 0.2312 - val_mean_absolute_error: 0.2448\n",
      "Epoch 87/100\n",
      "203/203 [==============================] - 0s 2ms/step - loss: 0.2716 - mean_absolute_error: 0.2840 - val_loss: 0.2440 - val_mean_absolute_error: 0.2605\n",
      "Epoch 88/100\n",
      "203/203 [==============================] - 0s 2ms/step - loss: 0.2573 - mean_absolute_error: 0.2798 - val_loss: 0.2310 - val_mean_absolute_error: 0.2648\n",
      "Epoch 89/100\n",
      "203/203 [==============================] - 0s 2ms/step - loss: 0.2594 - mean_absolute_error: 0.2835 - val_loss: 0.2180 - val_mean_absolute_error: 0.2367\n",
      "Epoch 90/100\n",
      "203/203 [==============================] - 0s 2ms/step - loss: 0.2665 - mean_absolute_error: 0.2820 - val_loss: 0.2464 - val_mean_absolute_error: 0.2578\n",
      "Epoch 91/100\n",
      "203/203 [==============================] - 0s 2ms/step - loss: 0.2622 - mean_absolute_error: 0.2787 - val_loss: 0.2304 - val_mean_absolute_error: 0.2424\n",
      "Epoch 92/100\n",
      "203/203 [==============================] - 0s 2ms/step - loss: 0.2553 - mean_absolute_error: 0.2792 - val_loss: 0.2326 - val_mean_absolute_error: 0.2412\n",
      "Epoch 93/100\n",
      "203/203 [==============================] - 0s 2ms/step - loss: 0.2747 - mean_absolute_error: 0.2888 - val_loss: 0.2562 - val_mean_absolute_error: 0.2464\n",
      "Epoch 94/100\n",
      "203/203 [==============================] - 0s 2ms/step - loss: 0.2675 - mean_absolute_error: 0.2785 - val_loss: 0.2547 - val_mean_absolute_error: 0.2475\n",
      "Epoch 95/100\n",
      "203/203 [==============================] - 0s 2ms/step - loss: 0.2552 - mean_absolute_error: 0.2778 - val_loss: 0.2251 - val_mean_absolute_error: 0.2419\n",
      "Epoch 96/100\n",
      "203/203 [==============================] - 0s 2ms/step - loss: 0.2587 - mean_absolute_error: 0.2784 - val_loss: 0.2412 - val_mean_absolute_error: 0.2499\n",
      "Epoch 97/100\n",
      "203/203 [==============================] - 0s 2ms/step - loss: 0.2534 - mean_absolute_error: 0.2798 - val_loss: 0.2327 - val_mean_absolute_error: 0.2486\n",
      "Epoch 98/100\n",
      "203/203 [==============================] - 0s 2ms/step - loss: 0.2798 - mean_absolute_error: 0.2872 - val_loss: 0.2523 - val_mean_absolute_error: 0.2445\n",
      "Epoch 99/100\n"
     ]
    },
    {
     "name": "stdout",
     "output_type": "stream",
     "text": [
      "203/203 [==============================] - 0s 2ms/step - loss: 0.2528 - mean_absolute_error: 0.2760 - val_loss: 0.2363 - val_mean_absolute_error: 0.2526\n",
      "Epoch 100/100\n",
      "203/203 [==============================] - 0s 2ms/step - loss: 0.2615 - mean_absolute_error: 0.2823 - val_loss: 0.2191 - val_mean_absolute_error: 0.2396\n"
     ]
    }
   ],
   "source": [
    "history = model.fit(x_train, y_train,  # 傳入訓練數據\n",
    "               batch_size=64,  # 批次大小設為64\n",
    "               epochs=50,  # 整個dataset訓練50遍\n",
    "               validation_data=(x_val, y_val),  # 驗證數據\n",
    "               callbacks=[model_cbk, model_mckp])  # Tensorboard回調函數紀錄訓練過程，ModelCheckpoint回調函數儲存最好的模型"
   ]
  },
  {
   "cell_type": "markdown",
   "metadata": {},
   "source": [
    "### 訓練結果"
   ]
  },
  {
   "cell_type": "code",
   "execution_count": 42,
   "metadata": {},
   "outputs": [
    {
     "data": {
      "text/plain": [
       "dict_keys(['loss', 'mean_absolute_error', 'val_loss', 'val_mean_absolute_error'])"
      ]
     },
     "execution_count": 42,
     "metadata": {},
     "output_type": "execute_result"
    }
   ],
   "source": [
    "history.history.keys()  # 查看history儲存的資訊有哪些"
   ]
  },
  {
   "cell_type": "code",
   "execution_count": 46,
   "metadata": {},
   "outputs": [
    {
     "data": {
      "text/plain": [
       "<matplotlib.legend.Legend at 0x2981e58ba88>"
      ]
     },
     "execution_count": 46,
     "metadata": {},
     "output_type": "execute_result"
    },
    {
     "data": {
      "image/png": "[encoded data removed]",
      "text/plain": [
       "<Figure size 432x288 with 1 Axes>"
      ]
     },
     "metadata": {
      "needs_background": "light"
     },
     "output_type": "display_data"
    }
   ],
   "source": [
    "plt.plot(history.history['loss'], label='train')\n",
    "plt.plot(history.history['val_loss'], label='validation')\n",
    "plt.title('Mean square error')\n",
    "plt.ylabel('loss')\n",
    "plt.xlabel('epochs')\n",
    "plt.legend(loc='upper right')"
   ]
  },
  {
   "cell_type": "markdown",
   "metadata": {},
   "source": [
    "測試數據的誤差百分比：用測試數據預測房屋價格並與答案計算誤差百分比。"
   ]
  },
  {
   "cell_type": "code",
   "execution_count": 47,
   "metadata": {},
   "outputs": [
    {
     "name": "stdout",
     "output_type": "stream",
     "text": [
      "Model Percentage Error: 15.79%\n"
     ]
    }
   ],
   "source": [
    "# 載入模型\n",
    "model = keras.models.load_model('lab2-logs/models/Best-model-1.h5')\n",
    "# 先將房屋價格取出\n",
    "y_test = np.array(test_data['price'])\n",
    "# 標準化數據\n",
    "test_data = (test_data - mean) / std\n",
    "# 將輸入數據存成Numpy 格式\n",
    "x_test = np.array(test_data.drop('price', axis='columns'))\n",
    "# 預測測試數據\n",
    "y_pred = model.predict(x_test)\n",
    "# 將預測結果轉換回來(因為訓練時的訓練目標也有經過標準化)\n",
    "y_pred = np.reshape(y_pred * std['price'] + mean['price'], y_test.shape)\n",
    "# 計算平均的誤差百分比\n",
    "percentage_error = np.mean(np.abs(y_test - y_pred)) / np.mean(y_test) * 100\n",
    "# 顯示誤差百分比\n",
    "print(\"Model Percentage Error: {:.2f}%\".format(percentage_error))"
   ]
  }
 ],
 "metadata": {
  "kernelspec": {
   "display_name": "tf2",
   "language": "python",
   "name": "tf2"
  },
  "language_info": {
   "codemirror_mode": {
    "name": "ipython",
    "version": 3
   },
   "file_extension": ".py",
   "mimetype": "text/x-python",
   "name": "python",
   "nbconvert_exporter": "python",
   "pygments_lexer": "ipython3",
   "version": "3.7.7"
  },
  "pycharm": {
   "stem_cell": {
    "cell_type": "raw",
    "metadata": {
     "collapsed": false
    },
    "source": []
   }
  }
 },
 "nbformat": 4,
 "nbformat_minor": 2
}
