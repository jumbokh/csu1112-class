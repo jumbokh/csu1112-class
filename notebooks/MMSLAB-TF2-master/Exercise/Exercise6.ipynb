{
 "cells": [
  {
   "cell_type": "markdown",
   "metadata": {},
   "source": [
    "# Exercise6: TensorFlow進階技巧"
   ]
  },
  {
   "cell_type": "markdown",
   "metadata": {},
   "source": [
    "<table class=\"tfo-notebook-buttons\" align=\"left\">\n",
    "  <td>\n",
    "    <a target=\"_blank\" href=\"https://colab.research.google.com/github/taipeitechmmslab/MMSLAB-TF2/blob/master/Exercise/Exercise6.ipynb\"><img src=\"https://www.tensorflow.org/images/colab_logo_32px.png\" />Run in Google Colab</a>\n",
    "  </td>\n",
    "  <td>\n",
    "    <a target=\"_blank\" href=\"https://github.com/taipeitechmmslab/MMSLAB-TF2/blob/master/Exercise/Exercise6.ipynb\"><img src=\"https://www.tensorflow.org/images/GitHub-Mark-32px.png\" />View source on GitHub</a>\n",
    "  </td>\n",
    "</table>"
   ]
  },
  {
   "cell_type": "code",
   "execution_count": 1,
   "metadata": {},
   "outputs": [],
   "source": [
    "import tensorflow as tf"
   ]
  },
  {
   "cell_type": "markdown",
   "metadata": {},
   "source": [
    "## Custom Layers\n",
    "透過繼承`tf.keras.layers.Layer`類別，來輕鬆創建字定義的網路層。\n",
    "\n",
    "你可以到https://www.tensorflow.org/api_docs/python/tf/keras/layers 官方API察看更多的網路層。"
   ]
  },
  {
   "cell_type": "markdown",
   "metadata": {},
   "source": [
    "Example: 簡單的客自化Convolutional layers。"
   ]
  },
  {
   "cell_type": "code",
   "execution_count": 2,
   "metadata": {},
   "outputs": [],
   "source": [
    "class CustomConv2D(tf.keras.layers.Layer):\n",
    "    def __init__(self, filters, kernel_size, strides=(1, 1), padding=\"VALID\", **kwargs):\n",
    "        super(CustomConv2D, self).__init__(**kwargs)\n",
    "        self.filters = filters\n",
    "        self.kernel_size = kernel_size\n",
    "        self.strides = (1, *strides, 1)\n",
    "        self.padding = padding\n",
    "\n",
    "    def build(self, input_shape):\n",
    "        kernel_h, kernel_w = self.kernel_size\n",
    "        input_dim = input_shape[-1]\n",
    "        # 創建卷積的權重值(weights)\n",
    "        self.w = self.add_weight(name='kernel', \n",
    "                                 shape=(kernel_h, kernel_w, input_dim, self.filters),\n",
    "                                 initializer='glorot_uniform',  # 設定初始化方法\n",
    "                                 trainable=True)  # 設定這個權重是否能夠訓練(更動)\n",
    "        # 創建卷積的偏差值(bias)\n",
    "        self.b = self.add_weight(name='bias', \n",
    "                                 shape=(self.filters,),\n",
    "                                 initializer='zeros',  # 設定初始化方法\n",
    "                                 trainable=True)  # 設定這個權重是否能夠訓練(更動)\n",
    "\n",
    "    def call(self, inputs):\n",
    "        x = tf.nn.conv2d(inputs, self.w, self.strides, padding=self.padding) # 卷積運算\n",
    "        x = tf.nn.bias_add(x, self.b)  # 加上偏差值\n",
    "        x = tf.nn.relu(x)  # 激活函數\n",
    "        return x"
   ]
  },
  {
   "cell_type": "markdown",
   "metadata": {},
   "source": [
    "## Custom Dense Layers\n",
    "透過繼承`tf.keras.layers.Layer`類別，來輕鬆創建字定義的網路層。\n",
    "\n",
    "你可以到https://www.tensorflow.org/api_docs/python/tf/keras/layers 官方API察看更多的網路層。"
   ]
  },
  {
   "cell_type": "code",
   "execution_count": 3,
   "metadata": {},
   "outputs": [],
   "source": [
    "class CustomDense(tf.keras.layers.Layer):\n",
    "    def __init__(self, unit, activation=None, use_bias=True, **kwargs):\n",
    "        super(CustomDense, self).__init__(**kwargs)\n",
    "        self.unit = unit\n",
    "        self.activation = tf.keras.activations.get(activation)\n",
    "        self.use_bias = use_bias\n",
    "    \n",
    "    def build(self, input_shape):\n",
    "        input_dim = input_shape[-1]\n",
    "        #========================= Write your code here ========================= #\n",
    "\n",
    "\n",
    "        if self.use_bias:\n",
    "\n",
    "        #======================================================================== #\n",
    "\n",
    "    def call(self, inputs):\n",
    "        outputs = tf.matmul(inputs, self.w) + self.b\n",
    "        if self.activation is not None:\n",
    "            return self.activation(outputs)\n",
    "        return outputs"
   ]
  },
  {
   "cell_type": "markdown",
   "metadata": {},
   "source": [
    "## Custom Loss\n",
    "\n",
    "在設計進階的研究方法或更深入解決問題時，TensorFlow官方文件所提供的損失函數，通常不夠使用，這時候你就必須自己定義損失函數，實作自己設計的損失函數。"
   ]
  },
  {
   "cell_type": "markdown",
   "metadata": {},
   "source": [
    "Example: 簡單的客自化Crossentropy Loss。"
   ]
  },
  {
   "cell_type": "code",
   "execution_count": 4,
   "metadata": {
    "scrolled": true
   },
   "outputs": [],
   "source": [
    "def custom_categorical_crossentropy(y_true, y_pred):\n",
    "    # x = tf.reduce_mean(-tf.reduce_sum(y_true * tf.log(y_pred), reduction_indices=[1]))\n",
    "    x = tf.nn.softmax_cross_entropy_with_logits(labels=y_true, logits=y_pred)\n",
    "    return x"
   ]
  },
  {
   "cell_type": "markdown",
   "metadata": {},
   "source": [
    "## Custom Metrics\n",
    "\n",
    "如果你需要的指標函數官方API並沒有提供，你可以通過繼承`tf.keras.metrics.Metric`類別，來輕鬆創建自定義的指標函數。"
   ]
  },
  {
   "cell_type": "markdown",
   "metadata": {},
   "source": [
    "Example: 計算多少個樣本是正確分類的。"
   ]
  },
  {
   "cell_type": "code",
   "execution_count": 5,
   "metadata": {},
   "outputs": [],
   "source": [
    "class CustomCategoricalAccuracy(tf.keras.metrics.Metric):\n",
    "    def __init__(self, name='custom_catrgorical_accuracy', **kwargs):\n",
    "        super(CustomCategoricalAccuracy, self).__init__(name=name, **kwargs)\n",
    "        # 記錄正確預測的數量\n",
    "        self.correct = self.add_weight('correct_numbers', initializer='zeros')\n",
    "        # 記錄全部資料的量數\n",
    "        self.total = self.add_weight('total_numbers', initializer='zeros')\n",
    "\n",
    "    def update_state(self, y_true, y_pred, sample_weight=None):\n",
    "        # 輸入答案為One-hot編碼，所以取最大的數值為答案\n",
    "        y_true = tf.argmax(y_true, axis=-1)\n",
    "        # 取預測輸出最大的數值為預測結果\n",
    "        y_pred = tf.argmax(y_pred, axis=-1)\n",
    "        # 比較預測結果是否正確，正確會返回True(正確)，錯誤會返回False(錯誤)\n",
    "        values = tf.equal(y_true, y_pred)\n",
    "        # 轉為浮點數True(正確)=1.0，False(錯誤)=0.0\n",
    "        values = tf.cast(values, tf.float32)\n",
    "        # 將values所有數值相加就會等於正確預測的總數\n",
    "        values_sum = tf.reduce_sum(values)\n",
    "        # 計算這個Batch的資料數量\n",
    "        num_values = tf.cast(tf.size(values), tf.float32)\n",
    "        self.correct.assign_add(values_sum)  # 更新正確預測的總數\n",
    "        self.total.assign_add(num_values)  # 更新資料量的總數\n",
    "\n",
    "    def result(self):\n",
    "        # 計算準確率\n",
    "        return tf.math.divide_no_nan(self.correct, self.total)\n",
    "\n",
    "    def reset_states(self):\n",
    "        # 每一次Epoch結束後會重新初始化變數\n",
    "        self.correct.assign(0.)\n",
    "        self.total.assign(0.)"
   ]
  },
  {
   "cell_type": "markdown",
   "metadata": {},
   "source": [
    "## Custom Callbacks\n",
    "\n",
    "如果你需要的監控或執行的操作官方的Callbacks函數沒有提供，你可以通過繼承`tf.keras.callbacks.Callback`類別，來輕鬆創建字定義的Callbacks函數。"
   ]
  },
  {
   "cell_type": "markdown",
   "metadata": {},
   "source": [
    "Example: 紀錄每一個batch的loss值。"
   ]
  },
  {
   "cell_type": "code",
   "execution_count": 6,
   "metadata": {},
   "outputs": [],
   "source": [
    "class SaveModel(tf.keras.callbacks.Callback):\n",
    "    def __init__(self, weights_file, monitor='loss', mode='min', save_weights_only=False):\n",
    "        super(SaveModel, self).__init__()\n",
    "        self.weights_file = weights_file\n",
    "        self.monitor = monitor\n",
    "        self.mode = mode\n",
    "        self.save_weights_only = save_weights_only\n",
    "        if mode == 'min':\n",
    "            self.best = np.Inf\n",
    "        else:\n",
    "            self.best = -np.Inf\n",
    "        \n",
    "    def save_model(self):\n",
    "        if self.save_weights_only:\n",
    "            self.model.save_weights(self.weights_file)\n",
    "        else:\n",
    "            self.model.save(self.weights_file)\n",
    "\n",
    "    def on_epoch_end(self, epoch, logs=None):\n",
    "        monitor_value = logs.get(self.monitor)\n",
    "        if self.mode == 'min' and monitor_value < self.best:\n",
    "            self.save_model()\n",
    "            self.best = monitor_value\n",
    "        elif self.mode == 'max' and monitor_value > self.best:\n",
    "            self.save_model()\n",
    "            self.best = monitor_value"
   ]
  },
  {
   "cell_type": "markdown",
   "metadata": {},
   "source": [
    "# 實驗：比較Keras高階API和客製化API兩種網路訓練的結果"
   ]
  },
  {
   "cell_type": "markdown",
   "metadata": {},
   "source": [
    "### Import 必要套件"
   ]
  },
  {
   "cell_type": "code",
   "execution_count": 7,
   "metadata": {},
   "outputs": [],
   "source": [
    "import os\n",
    "import numpy as np\n",
    "import pandas as pd\n",
    "import tensorflow as tf\n",
    "import tensorflow_datasets as tfds\n",
    "import matplotlib.pyplot as plt\n",
    "from tensorflow import keras\n",
    "from tensorflow.keras import layers\n",
    "from tensorflow.keras import initializers\n",
    "from preprocessing import parse_aug_fn, parse_fn"
   ]
  },
  {
   "cell_type": "markdown",
   "metadata": {},
   "source": [
    "### Cifar 10\n",
    "載入Cifar10數據集"
   ]
  },
  {
   "cell_type": "code",
   "execution_count": 8,
   "metadata": {},
   "outputs": [],
   "source": [
    "# 將train Data重新分成9:1等分，分別分給train data, valid data\n",
    "train_split, valid_split = ['train[:90%]', 'train[90%:]']\n",
    "# 取得訓練數據，並順便讀取data的資訊\n",
    "train_data, info = tfds.load(\"cifar10\", split=train_split, with_info=True)\n",
    "# 取得驗證數據\n",
    "valid_data = tfds.load(\"cifar10\", split=valid_split)\n",
    "# 取得測試數據\n",
    "test_data = tfds.load(\"cifar10\", split=tfds.Split.TEST)"
   ]
  },
  {
   "cell_type": "markdown",
   "metadata": {},
   "source": [
    "### Dataset 設定"
   ]
  },
  {
   "cell_type": "code",
   "execution_count": 9,
   "metadata": {},
   "outputs": [],
   "source": [
    "AUTOTUNE = tf.data.experimental.AUTOTUNE  # 自動調整模式\n",
    "batch_size = 64  # 批次大小\n",
    "train_num = int(info.splits['train'].num_examples / 10) * 9  # 訓練資料數量\n",
    "\n",
    "train_data = train_data.shuffle(train_num)  # 打散資料集\n",
    "# 載入預處理「 parse_aug_fn」function，cpu數量為自動調整模式\n",
    "train_data = train_data.map(map_func=parse_aug_fn, num_parallel_calls=AUTOTUNE)\n",
    "# 設定批次大小並將prefetch模式開啟(暫存空間為自動調整模式)\n",
    "train_data = train_data.batch(batch_size).prefetch(buffer_size=AUTOTUNE)\n",
    "\n",
    "# 載入預處理「 parse_fn」function，cpu數量為自動調整模式\n",
    "valid_data = valid_data.map(map_func=parse_fn, num_parallel_calls=AUTOTUNE)\n",
    "# 設定批次大小並將prefetch模式開啟(暫存空間為自動調整模式)\n",
    "valid_data = valid_data.batch(batch_size).prefetch(buffer_size=AUTOTUNE)\n",
    "\n",
    "# 載入預處理「 parse_fn」function，cpu數量為自動調整模式\n",
    "test_data = test_data.map(map_func=parse_fn, num_parallel_calls=AUTOTUNE)\n",
    "# 設定批次大小並將prefetch模式開啟(暫存空間為自動調整模式)\n",
    "test_data = test_data.batch(batch_size).prefetch(buffer_size=AUTOTUNE)"
   ]
  },
  {
   "cell_type": "markdown",
   "metadata": {},
   "source": [
    "### 2. 使用客自化API訓練網路模型"
   ]
  },
  {
   "cell_type": "markdown",
   "metadata": {},
   "source": [
    "- Custom Layer：將原本的Conv2d改成CustomConv2D。\n",
    "- Custom Loss：將原本的CategoricalCrossentropy改成custom_loss。\n",
    "- Custom Metrics：加入一個新的指標函數CatgoricalTruePositives。\n",
    "- Custom Callbacks：紀錄每一個batch的Loss值變化。"
   ]
  },
  {
   "cell_type": "code",
   "execution_count": 10,
   "metadata": {},
   "outputs": [
    {
     "name": "stdout",
     "output_type": "stream",
     "text": [
      "Model: \"model\"\n",
      "_________________________________________________________________\n",
      "Layer (type)                 Output Shape              Param #   \n",
      "=================================================================\n",
      "input_1 (InputLayer)         [(None, 32, 32, 3)]       0         \n",
      "_________________________________________________________________\n",
      "custom_conv2d (CustomConv2D) (None, 30, 30, 64)        1792      \n",
      "_________________________________________________________________\n",
      "max_pooling2d (MaxPooling2D) (None, 15, 15, 64)        0         \n",
      "_________________________________________________________________\n",
      "custom_conv2d_1 (CustomConv2 (None, 13, 13, 128)       73856     \n",
      "_________________________________________________________________\n",
      "custom_conv2d_2 (CustomConv2 (None, 11, 11, 256)       295168    \n",
      "_________________________________________________________________\n",
      "custom_conv2d_3 (CustomConv2 (None, 9, 9, 128)         295040    \n",
      "_________________________________________________________________\n",
      "custom_conv2d_4 (CustomConv2 (None, 7, 7, 64)          73792     \n",
      "_________________________________________________________________\n",
      "flatten (Flatten)            (None, 3136)              0         \n",
      "_________________________________________________________________\n",
      "custom_dense (CustomDense)   (None, 64)                200768    \n",
      "_________________________________________________________________\n",
      "custom_dense_1 (CustomDense) (None, 10)                650       \n",
      "=================================================================\n",
      "Total params: 941,066\n",
      "Trainable params: 941,066\n",
      "Non-trainable params: 0\n",
      "_________________________________________________________________\n"
     ]
    }
   ],
   "source": [
    "inputs = keras.Input(shape=(32, 32, 3))\n",
    "x = CustomConv2D(64, (3, 3))(inputs)\n",
    "x = layers.MaxPool2D()(x)\n",
    "x = CustomConv2D(128, (3, 3))(x)\n",
    "x = CustomConv2D(256, (3, 3))(x)\n",
    "x = CustomConv2D(128, (3, 3))(x)\n",
    "x = CustomConv2D(64, (3, 3))(x)\n",
    "x = layers.Flatten()(x)\n",
    "x = CustomDense(64, activation='relu')(x)\n",
    "outputs = CustomDense(10)(x)\n",
    "# 建立網路模型(將輸入到輸出所有經過的網路層連接起來)\n",
    "model = keras.Model(inputs, outputs, name='model')\n",
    "model.summary()"
   ]
  },
  {
   "cell_type": "code",
   "execution_count": 11,
   "metadata": {},
   "outputs": [],
   "source": [
    "# 儲存訓練記錄檔\n",
    "logs_dirs = 'lab6-logs'\n",
    "model_cbk = keras.callbacks.TensorBoard(log_dir='lab6-logs')\n",
    "\n",
    "# 紀錄每一個batch的Loss值變化\n",
    "model_dirs = logs_dirs + '/models'\n",
    "os.makedirs(model_dirs, exist_ok=True)\n",
    "custom_save_model = SaveModel(model_dirs + '/custom_save.h5', \n",
    "                              monitor='val_custom_catrgorical_accuracy', \n",
    "                              mode='max', \n",
    "                              save_weights_only=True)"
   ]
  },
  {
   "cell_type": "code",
   "execution_count": 12,
   "metadata": {},
   "outputs": [
    {
     "name": "stdout",
     "output_type": "stream",
     "text": [
      "WARNING:tensorflow:Model failed to serialize as JSON. Ignoring... Layer CustomConv2D has arguments in `__init__` and therefore must override `get_config`.\n"
     ]
    },
    {
     "name": "stderr",
     "output_type": "stream",
     "text": [
      "WARNING:tensorflow:Model failed to serialize as JSON. Ignoring... Layer CustomConv2D has arguments in `__init__` and therefore must override `get_config`.\n"
     ]
    },
    {
     "name": "stdout",
     "output_type": "stream",
     "text": [
      "Epoch 1/20\n",
      "704/704 [==============================] - 82s 117ms/step - loss: 1.9406 - custom_catrgorical_accuracy: 0.2776 - val_loss: 1.5930 - val_custom_catrgorical_accuracy: 0.4088\n",
      "Epoch 2/20\n",
      "704/704 [==============================] - 80s 114ms/step - loss: 1.6719 - custom_catrgorical_accuracy: 0.3926 - val_loss: 1.4190 - val_custom_catrgorical_accuracy: 0.4722\n",
      "Epoch 3/20\n",
      "704/704 [==============================] - 80s 114ms/step - loss: 1.5339 - custom_catrgorical_accuracy: 0.4440 - val_loss: 1.2943 - val_custom_catrgorical_accuracy: 0.5350\n",
      "Epoch 4/20\n",
      "704/704 [==============================] - 82s 117ms/step - loss: 1.4371 - custom_catrgorical_accuracy: 0.4839 - val_loss: 1.1658 - val_custom_catrgorical_accuracy: 0.5890\n",
      "Epoch 5/20\n",
      "704/704 [==============================] - 80s 114ms/step - loss: 1.3517 - custom_catrgorical_accuracy: 0.5180 - val_loss: 1.0889 - val_custom_catrgorical_accuracy: 0.6120\n",
      "Epoch 6/20\n",
      "704/704 [==============================] - 86s 123ms/step - loss: 1.2786 - custom_catrgorical_accuracy: 0.5471 - val_loss: 1.0131 - val_custom_catrgorical_accuracy: 0.6410\n",
      "Epoch 7/20\n",
      "704/704 [==============================] - 83s 117ms/step - loss: 1.2304 - custom_catrgorical_accuracy: 0.5631 - val_loss: 0.9798 - val_custom_catrgorical_accuracy: 0.6516\n",
      "Epoch 8/20\n",
      "704/704 [==============================] - 83s 118ms/step - loss: 1.1801 - custom_catrgorical_accuracy: 0.5835 - val_loss: 0.9499 - val_custom_catrgorical_accuracy: 0.6586\n",
      "Epoch 9/20\n",
      "704/704 [==============================] - 82s 116ms/step - loss: 1.1444 - custom_catrgorical_accuracy: 0.5973 - val_loss: 0.9255 - val_custom_catrgorical_accuracy: 0.6716\n",
      "Epoch 10/20\n",
      "704/704 [==============================] - 80s 113ms/step - loss: 1.1137 - custom_catrgorical_accuracy: 0.6067 - val_loss: 0.8926 - val_custom_catrgorical_accuracy: 0.6922\n",
      "Epoch 11/20\n",
      "704/704 [==============================] - 80s 114ms/step - loss: 1.0845 - custom_catrgorical_accuracy: 0.6196 - val_loss: 0.8345 - val_custom_catrgorical_accuracy: 0.7070\n",
      "Epoch 12/20\n",
      "704/704 [==============================] - 82s 117ms/step - loss: 1.0555 - custom_catrgorical_accuracy: 0.6295 - val_loss: 0.8186 - val_custom_catrgorical_accuracy: 0.7118\n",
      "Epoch 13/20\n",
      "704/704 [==============================] - 82s 116ms/step - loss: 1.0290 - custom_catrgorical_accuracy: 0.6379 - val_loss: 0.8673 - val_custom_catrgorical_accuracy: 0.6974\n",
      "Epoch 14/20\n",
      "704/704 [==============================] - 83s 118ms/step - loss: 1.0094 - custom_catrgorical_accuracy: 0.6478 - val_loss: 0.7776 - val_custom_catrgorical_accuracy: 0.7318\n",
      "Epoch 15/20\n",
      "704/704 [==============================] - 83s 117ms/step - loss: 0.9901 - custom_catrgorical_accuracy: 0.6556 - val_loss: 0.8486 - val_custom_catrgorical_accuracy: 0.7084\n",
      "Epoch 16/20\n",
      "704/704 [==============================] - 81s 115ms/step - loss: 0.9768 - custom_catrgorical_accuracy: 0.6615 - val_loss: 0.7530 - val_custom_catrgorical_accuracy: 0.7370\n",
      "Epoch 17/20\n",
      "704/704 [==============================] - 81s 116ms/step - loss: 0.9613 - custom_catrgorical_accuracy: 0.6653 - val_loss: 0.7844 - val_custom_catrgorical_accuracy: 0.7236\n",
      "Epoch 18/20\n",
      "704/704 [==============================] - 81s 115ms/step - loss: 0.9487 - custom_catrgorical_accuracy: 0.6703 - val_loss: 0.7656 - val_custom_catrgorical_accuracy: 0.7368\n",
      "Epoch 19/20\n",
      "704/704 [==============================] - 80s 114ms/step - loss: 0.9396 - custom_catrgorical_accuracy: 0.6740 - val_loss: 0.7426 - val_custom_catrgorical_accuracy: 0.7462\n",
      "Epoch 20/20\n",
      "704/704 [==============================] - 87s 123ms/step - loss: 0.9254 - custom_catrgorical_accuracy: 0.6788 - val_loss: 0.7401 - val_custom_catrgorical_accuracy: 0.7430\n"
     ]
    },
    {
     "data": {
      "text/plain": [
       "<tensorflow.python.keras.callbacks.History at 0x12bcbaaf088>"
      ]
     },
     "execution_count": 12,
     "metadata": {},
     "output_type": "execute_result"
    }
   ],
   "source": [
    "# 設定訓練使用的優化器、損失函數和指標函數\n",
    "model.compile(keras.optimizers.Adam(), \n",
    "           loss=custom_categorical_crossentropy, \n",
    "           metrics=[CustomCategoricalAccuracy()])\n",
    "\n",
    "# 訓練網路模型\n",
    "model.fit(train_data,\n",
    "            epochs=20, \n",
    "            validation_data=valid_data,\n",
    "            callbacks=[model_cbk, custom_save_model])"
   ]
  },
  {
   "cell_type": "markdown",
   "metadata": {},
   "source": [
    "驗證網路模型："
   ]
  },
  {
   "cell_type": "code",
   "execution_count": 13,
   "metadata": {},
   "outputs": [
    {
     "name": "stdout",
     "output_type": "stream",
     "text": [
      "157/157 [==============================] - 5s 32ms/step - loss: 0.7515 - custom_catrgorical_accuracy: 0.7446\n",
      "Loss: 0.751505434513092, Accuracy: 0.7445999979972839\n"
     ]
    }
   ],
   "source": [
    "model.load_weights(model_dirs+'/custom_save.h5')\n",
    "loss, acc = model.evaluate(test_data)\n",
    "print(\"Loss: {}, Accuracy: {}\".format(loss, acc))"
   ]
  }
 ],
 "metadata": {
  "kernelspec": {
   "display_name": "tf2",
   "language": "python",
   "name": "tf2"
  },
  "language_info": {
   "codemirror_mode": {
    "name": "ipython",
    "version": 3
   },
   "file_extension": ".py",
   "mimetype": "text/x-python",
   "name": "python",
   "nbconvert_exporter": "python",
   "pygments_lexer": "ipython3",
   "version": "3.7.7"
  },
  "pycharm": {
   "stem_cell": {
    "cell_type": "raw",
    "metadata": {
     "collapsed": false
    },
    "source": []
   }
  }
 },
 "nbformat": 4,
 "nbformat_minor": 2
}
