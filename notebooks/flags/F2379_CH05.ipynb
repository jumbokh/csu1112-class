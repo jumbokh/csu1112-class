{
  "cells": [
    {
      "cell_type": "markdown",
      "metadata": {
        "id": "view-in-github",
        "colab_type": "text"
      },
      "source": [
        "<a href=\"https://colab.research.google.com/github/jumbokh/csu1112-class/blob/main/notebooks/flags/F2379_CH05.ipynb\" target=\"_parent\"><img src=\"https://colab.research.google.com/assets/colab-badge.svg\" alt=\"Open In Colab\"/></a>"
      ]
    },
    {
      "cell_type": "markdown",
      "metadata": {
        "id": "kqQznpAnvEg6"
      },
      "source": [
        "#第5章：機器學習的基礎"
      ]
    },
    {
      "cell_type": "markdown",
      "metadata": {
        "id": "p6KzizsbvEg8"
      },
      "source": [
        "##5-1 普適化：機器學習的終極目標"
      ]
    },
    {
      "cell_type": "markdown",
      "metadata": {
        "id": "6MLx1WAsvEg9"
      },
      "source": [
        "###5-1-1 低度配適與過度配適"
      ]
    },
    {
      "cell_type": "markdown",
      "metadata": {
        "id": "7pDwu9nUvEhC"
      },
      "source": [
        "####程式 5.1 在MNIST資料集中新增維度"
      ]
    },
    {
      "cell_type": "code",
      "execution_count": 1,
      "metadata": {
        "id": "ZpKnNzX-vEhD",
        "outputId": "9d960469-886e-4106-e621-7942b0ebf368",
        "colab": {
          "base_uri": "https://localhost:8080/"
        }
      },
      "outputs": [
        {
          "output_type": "stream",
          "name": "stdout",
          "text": [
            "Downloading data from https://storage.googleapis.com/tensorflow/tf-keras-datasets/mnist.npz\n",
            "11490434/11490434 [==============================] - 0s 0us/step\n"
          ]
        }
      ],
      "source": [
        "from tensorflow.keras.datasets import mnist\n",
        "import numpy as np\n",
        "\n",
        "(train_images, train_labels), _ = mnist.load_data()\n",
        "train_images = train_images.reshape((60000, 28 * 28))\n",
        "train_images = train_images.astype(\"float32\") / 255\n",
        "\n",
        "train_images_with_noise_channels = np.concatenate(\n",
        "    [train_images, np.random.random((len(train_images), 784))], axis=1)\n",
        "\n",
        "train_images_with_zeros_channels = np.concatenate(\n",
        "    [train_images, np.zeros((len(train_images), 784))], axis=1)"
      ]
    },
    {
      "cell_type": "markdown",
      "metadata": {
        "id": "Qsl9wElTvEhF"
      },
      "source": [
        "####程式 5.2 用新的資料集來分別訓練模型"
      ]
    },
    {
      "cell_type": "code",
      "execution_count": 2,
      "metadata": {
        "id": "DPiC176lvEhG",
        "outputId": "ca57559d-a214-4f90-b54b-f0970dae6ed4",
        "colab": {
          "base_uri": "https://localhost:8080/"
        }
      },
      "outputs": [
        {
          "output_type": "stream",
          "name": "stdout",
          "text": [
            "Epoch 1/10\n",
            "375/375 [==============================] - 21s 50ms/step - loss: 0.6201 - accuracy: 0.8127 - val_loss: 0.3057 - val_accuracy: 0.9097\n",
            "Epoch 2/10\n",
            "375/375 [==============================] - 7s 19ms/step - loss: 0.2476 - accuracy: 0.9232 - val_loss: 0.1806 - val_accuracy: 0.9448\n",
            "Epoch 3/10\n",
            "375/375 [==============================] - 7s 19ms/step - loss: 0.1641 - accuracy: 0.9491 - val_loss: 0.2004 - val_accuracy: 0.9378\n",
            "Epoch 4/10\n",
            "375/375 [==============================] - 7s 19ms/step - loss: 0.1155 - accuracy: 0.9629 - val_loss: 0.1679 - val_accuracy: 0.9509\n",
            "Epoch 5/10\n",
            "375/375 [==============================] - 7s 19ms/step - loss: 0.0849 - accuracy: 0.9729 - val_loss: 0.1388 - val_accuracy: 0.9592\n",
            "Epoch 6/10\n",
            "375/375 [==============================] - 7s 19ms/step - loss: 0.0643 - accuracy: 0.9794 - val_loss: 0.1280 - val_accuracy: 0.9663\n",
            "Epoch 7/10\n",
            "375/375 [==============================] - 7s 19ms/step - loss: 0.0469 - accuracy: 0.9849 - val_loss: 0.1248 - val_accuracy: 0.9655\n",
            "Epoch 8/10\n",
            "375/375 [==============================] - 7s 19ms/step - loss: 0.0367 - accuracy: 0.9885 - val_loss: 0.1362 - val_accuracy: 0.9650\n",
            "Epoch 9/10\n",
            "375/375 [==============================] - 7s 19ms/step - loss: 0.0277 - accuracy: 0.9916 - val_loss: 0.1246 - val_accuracy: 0.9701\n",
            "Epoch 10/10\n",
            "375/375 [==============================] - 7s 19ms/step - loss: 0.0213 - accuracy: 0.9936 - val_loss: 0.1372 - val_accuracy: 0.9693\n",
            "Epoch 1/10\n",
            "375/375 [==============================] - 9s 22ms/step - loss: 0.2870 - accuracy: 0.9167 - val_loss: 0.1524 - val_accuracy: 0.9568\n",
            "Epoch 2/10\n",
            "375/375 [==============================] - 7s 19ms/step - loss: 0.1192 - accuracy: 0.9649 - val_loss: 0.1115 - val_accuracy: 0.9661\n",
            "Epoch 3/10\n",
            "375/375 [==============================] - 7s 20ms/step - loss: 0.0781 - accuracy: 0.9769 - val_loss: 0.0907 - val_accuracy: 0.9734\n",
            "Epoch 4/10\n",
            "375/375 [==============================] - 8s 22ms/step - loss: 0.0555 - accuracy: 0.9837 - val_loss: 0.0872 - val_accuracy: 0.9739\n",
            "Epoch 5/10\n",
            "375/375 [==============================] - 7s 20ms/step - loss: 0.0412 - accuracy: 0.9877 - val_loss: 0.0849 - val_accuracy: 0.9738\n",
            "Epoch 6/10\n",
            "375/375 [==============================] - 7s 19ms/step - loss: 0.0314 - accuracy: 0.9912 - val_loss: 0.0844 - val_accuracy: 0.9768\n",
            "Epoch 7/10\n",
            "375/375 [==============================] - 7s 20ms/step - loss: 0.0241 - accuracy: 0.9926 - val_loss: 0.0866 - val_accuracy: 0.9765\n",
            "Epoch 8/10\n",
            "375/375 [==============================] - 7s 19ms/step - loss: 0.0184 - accuracy: 0.9945 - val_loss: 0.0817 - val_accuracy: 0.9793\n",
            "Epoch 9/10\n",
            "375/375 [==============================] - 7s 19ms/step - loss: 0.0136 - accuracy: 0.9963 - val_loss: 0.0807 - val_accuracy: 0.9799\n",
            "Epoch 10/10\n",
            "375/375 [==============================] - 7s 19ms/step - loss: 0.0114 - accuracy: 0.9970 - val_loss: 0.0994 - val_accuracy: 0.9764\n"
          ]
        }
      ],
      "source": [
        "from tensorflow import keras\n",
        "from tensorflow.keras import layers\n",
        "\n",
        "def get_model():\n",
        "    model = keras.Sequential([\n",
        "        layers.Dense(512, activation=\"relu\"),\n",
        "        layers.Dense(10, activation=\"softmax\")\n",
        "    ])\n",
        "    model.compile(optimizer=\"rmsprop\",\n",
        "           loss=\"sparse_categorical_crossentropy\",\n",
        "           metrics=[\"accuracy\"])\n",
        "    return model\n",
        "\n",
        "model = get_model()\n",
        "history_noise = model.fit(\n",
        "    train_images_with_noise_channels, train_labels,\n",
        "    epochs=10,\n",
        "    batch_size=128,\n",
        "    validation_split=0.2)\n",
        "\n",
        "model = get_model()\n",
        "history_zeros = model.fit(\n",
        "    train_images_with_zeros_channels, train_labels,\n",
        "    epochs=10,\n",
        "    batch_size=128,\n",
        "    validation_split=0.2)"
      ]
    },
    {
      "cell_type": "markdown",
      "metadata": {
        "id": "2twBXWeFvEhH"
      },
      "source": [
        "####程式 5.3 繪製驗證準確度以進行比較"
      ]
    },
    {
      "cell_type": "code",
      "execution_count": 3,
      "metadata": {
        "id": "sXt8sDyfvEhI",
        "outputId": "dd814936-a1e0-4c0e-ef59-022eec70b04e",
        "colab": {
          "base_uri": "https://localhost:8080/",
          "height": 312
        }
      },
      "outputs": [
        {
          "output_type": "execute_result",
          "data": {
            "text/plain": [
              "<matplotlib.legend.Legend at 0x7f280707ad90>"
            ]
          },
          "metadata": {},
          "execution_count": 3
        },
        {
          "output_type": "display_data",
          "data": {
            "text/plain": [
              "<Figure size 432x288 with 1 Axes>"
            ],
            "image/png": "[encoded data removed]"
          },
          "metadata": {
            "needs_background": "light"
          }
        }
      ],
      "source": [
        "import matplotlib.pyplot as plt\n",
        "val_acc_noise = history_noise.history[\"val_accuracy\"]\n",
        "val_acc_zeros = history_zeros.history[\"val_accuracy\"]\n",
        "epochs = range(1, 11)\n",
        "plt.plot(epochs, val_acc_noise, \"b-\",\n",
        "    label=\"Validation accuracy with noise channels\")\n",
        "plt.plot(epochs, val_acc_zeros, \"b--\",\n",
        "    label=\"Validation accuracy with zeros channels\")\n",
        "plt.title(\"Effect of noise channels on validation accuracy\")\n",
        "plt.xlabel(\"Epochs\")\n",
        "plt.ylabel(\"Accuracy\")\n",
        "plt.legend()"
      ]
    },
    {
      "cell_type": "markdown",
      "metadata": {
        "id": "TdTNy1TUvEhJ"
      },
      "source": [
        "###5-1-2 普適化在深度學習中的本質"
      ]
    },
    {
      "cell_type": "markdown",
      "metadata": {
        "id": "9oX5CFlnvEhK"
      },
      "source": [
        "####程式 5.4 訓練模型來擬合標籤打亂後的MNIST資料集"
      ]
    },
    {
      "cell_type": "code",
      "execution_count": 4,
      "metadata": {
        "id": "7GjF4iMOvEhK",
        "outputId": "20ac1228-0089-43a2-c270-732f5ec2df2c",
        "colab": {
          "base_uri": "https://localhost:8080/"
        }
      },
      "outputs": [
        {
          "output_type": "stream",
          "name": "stdout",
          "text": [
            "Epoch 1/100\n",
            "375/375 [==============================] - 5s 12ms/step - loss: 2.3150 - accuracy: 0.1018 - val_loss: 2.3061 - val_accuracy: 0.1038\n",
            "Epoch 2/100\n",
            "375/375 [==============================] - 5s 12ms/step - loss: 2.2999 - accuracy: 0.1165 - val_loss: 2.3158 - val_accuracy: 0.0954\n",
            "Epoch 3/100\n",
            "375/375 [==============================] - 4s 12ms/step - loss: 2.2893 - accuracy: 0.1308 - val_loss: 2.3169 - val_accuracy: 0.1001\n",
            "Epoch 4/100\n",
            "375/375 [==============================] - 4s 12ms/step - loss: 2.2750 - accuracy: 0.1432 - val_loss: 2.3294 - val_accuracy: 0.0991\n",
            "Epoch 5/100\n",
            "375/375 [==============================] - 4s 12ms/step - loss: 2.2571 - accuracy: 0.1550 - val_loss: 2.3387 - val_accuracy: 0.0957\n",
            "Epoch 6/100\n",
            "375/375 [==============================] - 4s 12ms/step - loss: 2.2353 - accuracy: 0.1690 - val_loss: 2.3590 - val_accuracy: 0.0954\n",
            "Epoch 7/100\n",
            "375/375 [==============================] - 4s 11ms/step - loss: 2.2112 - accuracy: 0.1855 - val_loss: 2.3706 - val_accuracy: 0.0977\n",
            "Epoch 8/100\n",
            "375/375 [==============================] - 5s 12ms/step - loss: 2.1848 - accuracy: 0.1989 - val_loss: 2.3831 - val_accuracy: 0.0972\n",
            "Epoch 9/100\n",
            "375/375 [==============================] - 4s 11ms/step - loss: 2.1539 - accuracy: 0.2166 - val_loss: 2.4094 - val_accuracy: 0.0988\n",
            "Epoch 10/100\n",
            "375/375 [==============================] - 4s 11ms/step - loss: 2.1231 - accuracy: 0.2314 - val_loss: 2.4383 - val_accuracy: 0.0957\n",
            "Epoch 11/100\n",
            "375/375 [==============================] - 4s 12ms/step - loss: 2.0897 - accuracy: 0.2499 - val_loss: 2.4634 - val_accuracy: 0.0994\n",
            "Epoch 12/100\n",
            "375/375 [==============================] - 4s 12ms/step - loss: 2.0548 - accuracy: 0.2656 - val_loss: 2.4792 - val_accuracy: 0.0975\n",
            "Epoch 13/100\n",
            "375/375 [==============================] - 4s 12ms/step - loss: 2.0207 - accuracy: 0.2810 - val_loss: 2.5125 - val_accuracy: 0.0990\n",
            "Epoch 14/100\n",
            "375/375 [==============================] - 4s 12ms/step - loss: 1.9856 - accuracy: 0.2963 - val_loss: 2.5412 - val_accuracy: 0.1071\n",
            "Epoch 15/100\n",
            "375/375 [==============================] - 4s 12ms/step - loss: 1.9508 - accuracy: 0.3092 - val_loss: 2.5575 - val_accuracy: 0.1018\n",
            "Epoch 16/100\n",
            "375/375 [==============================] - 4s 12ms/step - loss: 1.9166 - accuracy: 0.3259 - val_loss: 2.6116 - val_accuracy: 0.0991\n",
            "Epoch 17/100\n",
            "375/375 [==============================] - 4s 12ms/step - loss: 1.8826 - accuracy: 0.3396 - val_loss: 2.6377 - val_accuracy: 0.0988\n",
            "Epoch 18/100\n",
            "375/375 [==============================] - 6s 15ms/step - loss: 1.8487 - accuracy: 0.3516 - val_loss: 2.6669 - val_accuracy: 0.1023\n",
            "Epoch 19/100\n",
            "375/375 [==============================] - 6s 15ms/step - loss: 1.8149 - accuracy: 0.3666 - val_loss: 2.7083 - val_accuracy: 0.1013\n",
            "Epoch 20/100\n",
            "375/375 [==============================] - 4s 12ms/step - loss: 1.7817 - accuracy: 0.3775 - val_loss: 2.7297 - val_accuracy: 0.0960\n",
            "Epoch 21/100\n",
            "375/375 [==============================] - 4s 11ms/step - loss: 1.7523 - accuracy: 0.3878 - val_loss: 2.7830 - val_accuracy: 0.1012\n",
            "Epoch 22/100\n",
            "375/375 [==============================] - 5s 12ms/step - loss: 1.7180 - accuracy: 0.4048 - val_loss: 2.8007 - val_accuracy: 0.1008\n",
            "Epoch 23/100\n",
            "375/375 [==============================] - 4s 11ms/step - loss: 1.6877 - accuracy: 0.4185 - val_loss: 2.8490 - val_accuracy: 0.1000\n",
            "Epoch 24/100\n",
            "375/375 [==============================] - 4s 12ms/step - loss: 1.6575 - accuracy: 0.4286 - val_loss: 2.8996 - val_accuracy: 0.1017\n",
            "Epoch 25/100\n",
            "375/375 [==============================] - 4s 12ms/step - loss: 1.6298 - accuracy: 0.4370 - val_loss: 2.9375 - val_accuracy: 0.0990\n",
            "Epoch 26/100\n",
            "375/375 [==============================] - 4s 12ms/step - loss: 1.6003 - accuracy: 0.4474 - val_loss: 2.9939 - val_accuracy: 0.1005\n",
            "Epoch 27/100\n",
            "375/375 [==============================] - 4s 11ms/step - loss: 1.5718 - accuracy: 0.4569 - val_loss: 3.0149 - val_accuracy: 0.0976\n",
            "Epoch 28/100\n",
            "375/375 [==============================] - 4s 12ms/step - loss: 1.5465 - accuracy: 0.4669 - val_loss: 3.0704 - val_accuracy: 0.0980\n",
            "Epoch 29/100\n",
            "375/375 [==============================] - 4s 12ms/step - loss: 1.5179 - accuracy: 0.4798 - val_loss: 3.1258 - val_accuracy: 0.0985\n",
            "Epoch 30/100\n",
            "375/375 [==============================] - 4s 12ms/step - loss: 1.4929 - accuracy: 0.4872 - val_loss: 3.1680 - val_accuracy: 0.1029\n",
            "Epoch 31/100\n",
            "375/375 [==============================] - 4s 11ms/step - loss: 1.4657 - accuracy: 0.4989 - val_loss: 3.1881 - val_accuracy: 0.1025\n",
            "Epoch 32/100\n",
            "375/375 [==============================] - 4s 12ms/step - loss: 1.4423 - accuracy: 0.5080 - val_loss: 3.2343 - val_accuracy: 0.1001\n",
            "Epoch 33/100\n",
            "375/375 [==============================] - 4s 11ms/step - loss: 1.4157 - accuracy: 0.5164 - val_loss: 3.3061 - val_accuracy: 0.1011\n",
            "Epoch 34/100\n",
            "375/375 [==============================] - 4s 12ms/step - loss: 1.3935 - accuracy: 0.5260 - val_loss: 3.3462 - val_accuracy: 0.1003\n",
            "Epoch 35/100\n",
            "375/375 [==============================] - 4s 12ms/step - loss: 1.3714 - accuracy: 0.5331 - val_loss: 3.3948 - val_accuracy: 0.1028\n",
            "Epoch 36/100\n",
            "375/375 [==============================] - 4s 11ms/step - loss: 1.3462 - accuracy: 0.5400 - val_loss: 3.4387 - val_accuracy: 0.1004\n",
            "Epoch 37/100\n",
            "375/375 [==============================] - 4s 11ms/step - loss: 1.3240 - accuracy: 0.5523 - val_loss: 3.4925 - val_accuracy: 0.0976\n",
            "Epoch 38/100\n",
            "375/375 [==============================] - 4s 12ms/step - loss: 1.3042 - accuracy: 0.5561 - val_loss: 3.5360 - val_accuracy: 0.0993\n",
            "Epoch 39/100\n",
            "375/375 [==============================] - 4s 12ms/step - loss: 1.2826 - accuracy: 0.5638 - val_loss: 3.5921 - val_accuracy: 0.0987\n",
            "Epoch 40/100\n",
            "375/375 [==============================] - 4s 12ms/step - loss: 1.2612 - accuracy: 0.5738 - val_loss: 3.6527 - val_accuracy: 0.1013\n",
            "Epoch 41/100\n",
            "375/375 [==============================] - 4s 11ms/step - loss: 1.2424 - accuracy: 0.5794 - val_loss: 3.6963 - val_accuracy: 0.0994\n",
            "Epoch 42/100\n",
            "375/375 [==============================] - 4s 12ms/step - loss: 1.2207 - accuracy: 0.5865 - val_loss: 3.7248 - val_accuracy: 0.0988\n",
            "Epoch 43/100\n",
            "375/375 [==============================] - 4s 12ms/step - loss: 1.2022 - accuracy: 0.5952 - val_loss: 3.8069 - val_accuracy: 0.1001\n",
            "Epoch 44/100\n",
            "375/375 [==============================] - 4s 12ms/step - loss: 1.1833 - accuracy: 0.6028 - val_loss: 3.8423 - val_accuracy: 0.0991\n",
            "Epoch 45/100\n",
            "375/375 [==============================] - 4s 12ms/step - loss: 1.1630 - accuracy: 0.6107 - val_loss: 3.9451 - val_accuracy: 0.0992\n",
            "Epoch 46/100\n",
            "375/375 [==============================] - 4s 12ms/step - loss: 1.1450 - accuracy: 0.6159 - val_loss: 3.9536 - val_accuracy: 0.0993\n",
            "Epoch 47/100\n",
            "375/375 [==============================] - 4s 12ms/step - loss: 1.1272 - accuracy: 0.6230 - val_loss: 4.0020 - val_accuracy: 0.1020\n",
            "Epoch 48/100\n",
            "375/375 [==============================] - 4s 12ms/step - loss: 1.1086 - accuracy: 0.6274 - val_loss: 4.0708 - val_accuracy: 0.1023\n",
            "Epoch 49/100\n",
            "375/375 [==============================] - 4s 12ms/step - loss: 1.0924 - accuracy: 0.6339 - val_loss: 4.1063 - val_accuracy: 0.0995\n",
            "Epoch 50/100\n",
            "375/375 [==============================] - 4s 12ms/step - loss: 1.0733 - accuracy: 0.6412 - val_loss: 4.1565 - val_accuracy: 0.1035\n",
            "Epoch 51/100\n",
            "375/375 [==============================] - 4s 12ms/step - loss: 1.0569 - accuracy: 0.6451 - val_loss: 4.2337 - val_accuracy: 0.1018\n",
            "Epoch 52/100\n",
            "375/375 [==============================] - 4s 12ms/step - loss: 1.0427 - accuracy: 0.6513 - val_loss: 4.3003 - val_accuracy: 0.1008\n",
            "Epoch 53/100\n",
            "375/375 [==============================] - 5s 12ms/step - loss: 1.0275 - accuracy: 0.6580 - val_loss: 4.3400 - val_accuracy: 0.0984\n",
            "Epoch 54/100\n",
            "375/375 [==============================] - 4s 12ms/step - loss: 1.0095 - accuracy: 0.6626 - val_loss: 4.4059 - val_accuracy: 0.1004\n",
            "Epoch 55/100\n",
            "375/375 [==============================] - 4s 12ms/step - loss: 0.9946 - accuracy: 0.6672 - val_loss: 4.4699 - val_accuracy: 0.1008\n",
            "Epoch 56/100\n",
            "375/375 [==============================] - 4s 12ms/step - loss: 0.9785 - accuracy: 0.6737 - val_loss: 4.4877 - val_accuracy: 0.1023\n",
            "Epoch 57/100\n",
            "375/375 [==============================] - 4s 12ms/step - loss: 0.9663 - accuracy: 0.6805 - val_loss: 4.5285 - val_accuracy: 0.1006\n",
            "Epoch 58/100\n",
            "375/375 [==============================] - 4s 12ms/step - loss: 0.9507 - accuracy: 0.6825 - val_loss: 4.6250 - val_accuracy: 0.1022\n",
            "Epoch 59/100\n",
            "375/375 [==============================] - 4s 12ms/step - loss: 0.9368 - accuracy: 0.6885 - val_loss: 4.6664 - val_accuracy: 0.0997\n",
            "Epoch 60/100\n",
            "375/375 [==============================] - 4s 12ms/step - loss: 0.9196 - accuracy: 0.6978 - val_loss: 4.7603 - val_accuracy: 0.1005\n",
            "Epoch 61/100\n",
            "375/375 [==============================] - 4s 12ms/step - loss: 0.9069 - accuracy: 0.6979 - val_loss: 4.7791 - val_accuracy: 0.0999\n",
            "Epoch 62/100\n",
            "375/375 [==============================] - 6s 16ms/step - loss: 0.8931 - accuracy: 0.7044 - val_loss: 4.8515 - val_accuracy: 0.1014\n",
            "Epoch 63/100\n",
            "375/375 [==============================] - 5s 14ms/step - loss: 0.8784 - accuracy: 0.7077 - val_loss: 4.9185 - val_accuracy: 0.0970\n",
            "Epoch 64/100\n",
            "375/375 [==============================] - 4s 12ms/step - loss: 0.8665 - accuracy: 0.7149 - val_loss: 4.9498 - val_accuracy: 0.1041\n",
            "Epoch 65/100\n",
            "375/375 [==============================] - 4s 12ms/step - loss: 0.8533 - accuracy: 0.7178 - val_loss: 5.0061 - val_accuracy: 0.1032\n",
            "Epoch 66/100\n",
            "375/375 [==============================] - 4s 12ms/step - loss: 0.8410 - accuracy: 0.7243 - val_loss: 5.0579 - val_accuracy: 0.0987\n",
            "Epoch 67/100\n",
            "375/375 [==============================] - 4s 12ms/step - loss: 0.8286 - accuracy: 0.7278 - val_loss: 5.1420 - val_accuracy: 0.1016\n",
            "Epoch 68/100\n",
            "375/375 [==============================] - 4s 12ms/step - loss: 0.8163 - accuracy: 0.7309 - val_loss: 5.1598 - val_accuracy: 0.1026\n",
            "Epoch 69/100\n",
            "375/375 [==============================] - 4s 12ms/step - loss: 0.8029 - accuracy: 0.7353 - val_loss: 5.2456 - val_accuracy: 0.0990\n",
            "Epoch 70/100\n",
            "375/375 [==============================] - 4s 12ms/step - loss: 0.7941 - accuracy: 0.7371 - val_loss: 5.3255 - val_accuracy: 0.1018\n",
            "Epoch 71/100\n",
            "375/375 [==============================] - 4s 12ms/step - loss: 0.7824 - accuracy: 0.7423 - val_loss: 5.3622 - val_accuracy: 0.1008\n",
            "Epoch 72/100\n",
            "375/375 [==============================] - 4s 12ms/step - loss: 0.7690 - accuracy: 0.7474 - val_loss: 5.4369 - val_accuracy: 0.0978\n",
            "Epoch 73/100\n",
            "375/375 [==============================] - 4s 12ms/step - loss: 0.7587 - accuracy: 0.7508 - val_loss: 5.5111 - val_accuracy: 0.1013\n",
            "Epoch 74/100\n",
            "375/375 [==============================] - 4s 12ms/step - loss: 0.7484 - accuracy: 0.7542 - val_loss: 5.5897 - val_accuracy: 0.1005\n",
            "Epoch 75/100\n",
            "375/375 [==============================] - 4s 12ms/step - loss: 0.7358 - accuracy: 0.7595 - val_loss: 5.6324 - val_accuracy: 0.1000\n",
            "Epoch 76/100\n",
            "375/375 [==============================] - 5s 13ms/step - loss: 0.7250 - accuracy: 0.7629 - val_loss: 5.6854 - val_accuracy: 0.0989\n",
            "Epoch 77/100\n",
            "375/375 [==============================] - 4s 12ms/step - loss: 0.7156 - accuracy: 0.7664 - val_loss: 5.7623 - val_accuracy: 0.1005\n",
            "Epoch 78/100\n",
            "375/375 [==============================] - 4s 12ms/step - loss: 0.7056 - accuracy: 0.7676 - val_loss: 5.8252 - val_accuracy: 0.1002\n",
            "Epoch 79/100\n",
            "375/375 [==============================] - 4s 12ms/step - loss: 0.6975 - accuracy: 0.7712 - val_loss: 5.8785 - val_accuracy: 0.1025\n",
            "Epoch 80/100\n",
            "375/375 [==============================] - 4s 12ms/step - loss: 0.6851 - accuracy: 0.7754 - val_loss: 5.9214 - val_accuracy: 0.1013\n",
            "Epoch 81/100\n",
            "375/375 [==============================] - 4s 12ms/step - loss: 0.6751 - accuracy: 0.7794 - val_loss: 6.0624 - val_accuracy: 0.0995\n",
            "Epoch 82/100\n",
            "375/375 [==============================] - 4s 11ms/step - loss: 0.6633 - accuracy: 0.7847 - val_loss: 6.0831 - val_accuracy: 0.1013\n",
            "Epoch 83/100\n",
            "375/375 [==============================] - 6s 15ms/step - loss: 0.6554 - accuracy: 0.7870 - val_loss: 6.1444 - val_accuracy: 0.1028\n",
            "Epoch 84/100\n",
            "375/375 [==============================] - 5s 13ms/step - loss: 0.6468 - accuracy: 0.7902 - val_loss: 6.1712 - val_accuracy: 0.0997\n",
            "Epoch 85/100\n",
            "375/375 [==============================] - 4s 12ms/step - loss: 0.6343 - accuracy: 0.7937 - val_loss: 6.2690 - val_accuracy: 0.1031\n",
            "Epoch 86/100\n",
            "375/375 [==============================] - 4s 12ms/step - loss: 0.6293 - accuracy: 0.7962 - val_loss: 6.3185 - val_accuracy: 0.1010\n",
            "Epoch 87/100\n",
            "375/375 [==============================] - 4s 12ms/step - loss: 0.6189 - accuracy: 0.7995 - val_loss: 6.4140 - val_accuracy: 0.0983\n",
            "Epoch 88/100\n",
            "375/375 [==============================] - 4s 12ms/step - loss: 0.6092 - accuracy: 0.8023 - val_loss: 6.4521 - val_accuracy: 0.1017\n",
            "Epoch 89/100\n",
            "375/375 [==============================] - 4s 12ms/step - loss: 0.6032 - accuracy: 0.8054 - val_loss: 6.4969 - val_accuracy: 0.1000\n",
            "Epoch 90/100\n",
            "375/375 [==============================] - 4s 12ms/step - loss: 0.5941 - accuracy: 0.8077 - val_loss: 6.5703 - val_accuracy: 0.1052\n",
            "Epoch 91/100\n",
            "375/375 [==============================] - 4s 12ms/step - loss: 0.5847 - accuracy: 0.8106 - val_loss: 6.6502 - val_accuracy: 0.1018\n",
            "Epoch 92/100\n",
            "375/375 [==============================] - 4s 12ms/step - loss: 0.5765 - accuracy: 0.8126 - val_loss: 6.7286 - val_accuracy: 0.0997\n",
            "Epoch 93/100\n",
            "375/375 [==============================] - 4s 12ms/step - loss: 0.5674 - accuracy: 0.8175 - val_loss: 6.7999 - val_accuracy: 0.1001\n",
            "Epoch 94/100\n",
            "375/375 [==============================] - 4s 12ms/step - loss: 0.5615 - accuracy: 0.8195 - val_loss: 6.8699 - val_accuracy: 0.0993\n",
            "Epoch 95/100\n",
            "375/375 [==============================] - 4s 12ms/step - loss: 0.5523 - accuracy: 0.8220 - val_loss: 6.9459 - val_accuracy: 0.0979\n",
            "Epoch 96/100\n",
            "375/375 [==============================] - 5s 12ms/step - loss: 0.5446 - accuracy: 0.8254 - val_loss: 6.9949 - val_accuracy: 0.1011\n",
            "Epoch 97/100\n",
            "375/375 [==============================] - 4s 12ms/step - loss: 0.5375 - accuracy: 0.8271 - val_loss: 7.0241 - val_accuracy: 0.1025\n",
            "Epoch 98/100\n",
            "375/375 [==============================] - 4s 12ms/step - loss: 0.5296 - accuracy: 0.8296 - val_loss: 7.1423 - val_accuracy: 0.1004\n",
            "Epoch 99/100\n",
            "375/375 [==============================] - 5s 12ms/step - loss: 0.5236 - accuracy: 0.8317 - val_loss: 7.1691 - val_accuracy: 0.1006\n",
            "Epoch 100/100\n",
            "375/375 [==============================] - 5s 12ms/step - loss: 0.5157 - accuracy: 0.8340 - val_loss: 7.2997 - val_accuracy: 0.1015\n"
          ]
        },
        {
          "output_type": "execute_result",
          "data": {
            "text/plain": [
              "<keras.callbacks.History at 0x7f280708f5b0>"
            ]
          },
          "metadata": {},
          "execution_count": 4
        }
      ],
      "source": [
        "(train_images, train_labels), _ = mnist.load_data()\n",
        "train_images = train_images.reshape((60000, 28 * 28))\n",
        "train_images = train_images.astype(\"float32\") / 255\n",
        "\n",
        "random_train_labels = train_labels[:]\n",
        "np.random.shuffle(random_train_labels)\n",
        "\n",
        "model = keras.Sequential([\n",
        "    layers.Dense(512, activation=\"relu\"),\n",
        "    layers.Dense(10, activation=\"softmax\")\n",
        "])\n",
        "model.compile(optimizer=\"rmsprop\",\n",
        "       loss=\"sparse_categorical_crossentropy\",\n",
        "       metrics=[\"accuracy\"])\n",
        "model.fit(train_images, random_train_labels,\n",
        "     epochs=100,\n",
        "     batch_size=128,\n",
        "     validation_split=0.2)"
      ]
    },
    {
      "cell_type": "markdown",
      "metadata": {
        "id": "w-sX5JRWvEhO"
      },
      "source": [
        "##5-3 提升模型的擬合表現"
      ]
    },
    {
      "cell_type": "markdown",
      "metadata": {
        "id": "Gtv2umXcvEhP"
      },
      "source": [
        "###5-3-1 調整梯度下降的關鍵參數"
      ]
    },
    {
      "cell_type": "markdown",
      "metadata": {
        "id": "udM8fbCSvEhP"
      },
      "source": [
        "####程式 5.7 使用過高的學習率來訓練MNIST模型"
      ]
    },
    {
      "cell_type": "code",
      "execution_count": 5,
      "metadata": {
        "id": "dKbDFSzSvEhP",
        "outputId": "e7be743b-6a53-478c-a3e6-252a4a9cdcd0",
        "colab": {
          "base_uri": "https://localhost:8080/"
        }
      },
      "outputs": [
        {
          "output_type": "stream",
          "name": "stdout",
          "text": [
            "Epoch 1/10\n",
            "375/375 [==============================] - 5s 12ms/step - loss: 689.9052 - accuracy: 0.3646 - val_loss: 2.1518 - val_accuracy: 0.2465\n",
            "Epoch 2/10\n",
            "375/375 [==============================] - 4s 12ms/step - loss: 3.7822 - accuracy: 0.2588 - val_loss: 2.5875 - val_accuracy: 0.2587\n",
            "Epoch 3/10\n",
            "375/375 [==============================] - 5s 13ms/step - loss: 2.9699 - accuracy: 0.2593 - val_loss: 2.6201 - val_accuracy: 0.2558\n",
            "Epoch 4/10\n",
            "375/375 [==============================] - 5s 12ms/step - loss: 3.2344 - accuracy: 0.2471 - val_loss: 2.1813 - val_accuracy: 0.2461\n",
            "Epoch 5/10\n",
            "375/375 [==============================] - 5s 12ms/step - loss: 2.7375 - accuracy: 0.2500 - val_loss: 2.3769 - val_accuracy: 0.2533\n",
            "Epoch 6/10\n",
            "375/375 [==============================] - 5s 12ms/step - loss: 2.6427 - accuracy: 0.2642 - val_loss: 2.5977 - val_accuracy: 0.2898\n",
            "Epoch 7/10\n",
            "375/375 [==============================] - 5s 12ms/step - loss: 2.3743 - accuracy: 0.2654 - val_loss: 2.1605 - val_accuracy: 0.2448\n",
            "Epoch 8/10\n",
            "375/375 [==============================] - 5s 13ms/step - loss: 2.4616 - accuracy: 0.2698 - val_loss: 2.4452 - val_accuracy: 0.2578\n",
            "Epoch 9/10\n",
            "375/375 [==============================] - 5s 12ms/step - loss: 2.4136 - accuracy: 0.2645 - val_loss: 2.2078 - val_accuracy: 0.2464\n",
            "Epoch 10/10\n",
            "375/375 [==============================] - 5s 13ms/step - loss: 2.5672 - accuracy: 0.2711 - val_loss: 2.6259 - val_accuracy: 0.2979\n"
          ]
        },
        {
          "output_type": "execute_result",
          "data": {
            "text/plain": [
              "<keras.callbacks.History at 0x7f2806a27d90>"
            ]
          },
          "metadata": {},
          "execution_count": 5
        }
      ],
      "source": [
        "(train_images, train_labels), _ = mnist.load_data()\n",
        "train_images = train_images.reshape((60000, 28 * 28))\n",
        "train_images = train_images.astype(\"float32\") / 255\n",
        "\n",
        "model = keras.Sequential([\n",
        "    layers.Dense(512, activation=\"relu\"),\n",
        "    layers.Dense(10, activation=\"softmax\")\n",
        "])\n",
        "model.compile(optimizer=keras.optimizers.RMSprop(1.),\n",
        "       loss=\"sparse_categorical_crossentropy\",\n",
        "       metrics=[\"accuracy\"])\n",
        "model.fit(train_images, train_labels,\n",
        "     epochs=10,\n",
        "     batch_size=128,\n",
        "     validation_split=0.2)"
      ]
    },
    {
      "cell_type": "markdown",
      "metadata": {
        "id": "aqvCuqEUvEhQ"
      },
      "source": [
        "####程式 5.8 使用合理的學習率來訓練相同模型"
      ]
    },
    {
      "cell_type": "code",
      "execution_count": 6,
      "metadata": {
        "id": "pDsYS-FXvEhQ",
        "outputId": "ec4b86c1-605c-4361-ee08-7531b7b8b592",
        "colab": {
          "base_uri": "https://localhost:8080/"
        }
      },
      "outputs": [
        {
          "output_type": "stream",
          "name": "stdout",
          "text": [
            "Epoch 1/10\n",
            "375/375 [==============================] - 5s 13ms/step - loss: 0.3492 - accuracy: 0.9115 - val_loss: 0.1356 - val_accuracy: 0.9622\n",
            "Epoch 2/10\n",
            "375/375 [==============================] - 5s 12ms/step - loss: 0.1406 - accuracy: 0.9637 - val_loss: 0.1491 - val_accuracy: 0.9666\n",
            "Epoch 3/10\n",
            "375/375 [==============================] - 5s 12ms/step - loss: 0.1165 - accuracy: 0.9723 - val_loss: 0.1510 - val_accuracy: 0.9682\n",
            "Epoch 4/10\n",
            "375/375 [==============================] - 5s 12ms/step - loss: 0.1014 - accuracy: 0.9775 - val_loss: 0.1887 - val_accuracy: 0.9686\n",
            "Epoch 5/10\n",
            "375/375 [==============================] - 5s 12ms/step - loss: 0.0928 - accuracy: 0.9814 - val_loss: 0.1981 - val_accuracy: 0.9701\n",
            "Epoch 6/10\n",
            "375/375 [==============================] - 5s 12ms/step - loss: 0.0792 - accuracy: 0.9847 - val_loss: 0.2171 - val_accuracy: 0.9736\n",
            "Epoch 7/10\n",
            "375/375 [==============================] - 5s 13ms/step - loss: 0.0706 - accuracy: 0.9864 - val_loss: 0.2297 - val_accuracy: 0.9738\n",
            "Epoch 8/10\n",
            "375/375 [==============================] - 5s 13ms/step - loss: 0.0697 - accuracy: 0.9875 - val_loss: 0.2396 - val_accuracy: 0.9743\n",
            "Epoch 9/10\n",
            "375/375 [==============================] - 5s 12ms/step - loss: 0.0593 - accuracy: 0.9899 - val_loss: 0.2890 - val_accuracy: 0.9711\n",
            "Epoch 10/10\n",
            "375/375 [==============================] - 6s 15ms/step - loss: 0.0618 - accuracy: 0.9900 - val_loss: 0.2956 - val_accuracy: 0.9743\n"
          ]
        },
        {
          "output_type": "execute_result",
          "data": {
            "text/plain": [
              "<keras.callbacks.History at 0x7f2803115e50>"
            ]
          },
          "metadata": {},
          "execution_count": 6
        }
      ],
      "source": [
        "model = keras.Sequential([\n",
        "    layers.Dense(512, activation=\"relu\"),\n",
        "    layers.Dense(10, activation=\"softmax\")\n",
        "])\n",
        "model.compile(optimizer=keras.optimizers.RMSprop(1e-2),\n",
        "       loss=\"sparse_categorical_crossentropy\",\n",
        "       metrics=[\"accuracy\"])\n",
        "model.fit(train_images, train_labels,\n",
        "          epochs=10,\n",
        "          batch_size=128,\n",
        "          validation_split=0.2)"
      ]
    },
    {
      "cell_type": "markdown",
      "metadata": {
        "id": "hHZseAD3vEhQ"
      },
      "source": [
        "###5-3-3 提升模型容量(capacity)"
      ]
    },
    {
      "cell_type": "markdown",
      "metadata": {
        "id": "o_7C8aQ0vEhR"
      },
      "source": [
        "####程式 5.9 使用MNIST資料集訓練小模型"
      ]
    },
    {
      "cell_type": "code",
      "execution_count": 7,
      "metadata": {
        "id": "tUuozQWnvEhR",
        "outputId": "6b197628-a5d7-4160-cb2e-f9f7dd544434",
        "colab": {
          "base_uri": "https://localhost:8080/"
        }
      },
      "outputs": [
        {
          "output_type": "stream",
          "name": "stdout",
          "text": [
            "Epoch 1/20\n",
            "375/375 [==============================] - 2s 4ms/step - loss: 0.6622 - accuracy: 0.8384 - val_loss: 0.3589 - val_accuracy: 0.9022\n",
            "Epoch 2/20\n",
            "375/375 [==============================] - 2s 5ms/step - loss: 0.3507 - accuracy: 0.9037 - val_loss: 0.3083 - val_accuracy: 0.9137\n",
            "Epoch 3/20\n",
            "375/375 [==============================] - 1s 3ms/step - loss: 0.3155 - accuracy: 0.9120 - val_loss: 0.2897 - val_accuracy: 0.9190\n",
            "Epoch 4/20\n",
            "375/375 [==============================] - 1s 3ms/step - loss: 0.2989 - accuracy: 0.9166 - val_loss: 0.2817 - val_accuracy: 0.9214\n",
            "Epoch 5/20\n",
            "375/375 [==============================] - 1s 3ms/step - loss: 0.2895 - accuracy: 0.9192 - val_loss: 0.2772 - val_accuracy: 0.9241\n",
            "Epoch 6/20\n",
            "375/375 [==============================] - 1s 3ms/step - loss: 0.2825 - accuracy: 0.9203 - val_loss: 0.2740 - val_accuracy: 0.9221\n",
            "Epoch 7/20\n",
            "375/375 [==============================] - 1s 3ms/step - loss: 0.2782 - accuracy: 0.9220 - val_loss: 0.2698 - val_accuracy: 0.9244\n",
            "Epoch 8/20\n",
            "375/375 [==============================] - 1s 3ms/step - loss: 0.2741 - accuracy: 0.9233 - val_loss: 0.2669 - val_accuracy: 0.9274\n",
            "Epoch 9/20\n",
            "375/375 [==============================] - 1s 3ms/step - loss: 0.2712 - accuracy: 0.9248 - val_loss: 0.2677 - val_accuracy: 0.9261\n",
            "Epoch 10/20\n",
            "375/375 [==============================] - 1s 3ms/step - loss: 0.2687 - accuracy: 0.9251 - val_loss: 0.2664 - val_accuracy: 0.9265\n",
            "Epoch 11/20\n",
            "375/375 [==============================] - 1s 3ms/step - loss: 0.2665 - accuracy: 0.9263 - val_loss: 0.2642 - val_accuracy: 0.9270\n",
            "Epoch 12/20\n",
            "375/375 [==============================] - 1s 3ms/step - loss: 0.2646 - accuracy: 0.9272 - val_loss: 0.2627 - val_accuracy: 0.9293\n",
            "Epoch 13/20\n",
            "375/375 [==============================] - 1s 3ms/step - loss: 0.2634 - accuracy: 0.9270 - val_loss: 0.2628 - val_accuracy: 0.9298\n",
            "Epoch 14/20\n",
            "375/375 [==============================] - 1s 3ms/step - loss: 0.2619 - accuracy: 0.9277 - val_loss: 0.2610 - val_accuracy: 0.9306\n",
            "Epoch 15/20\n",
            "375/375 [==============================] - 1s 3ms/step - loss: 0.2606 - accuracy: 0.9288 - val_loss: 0.2605 - val_accuracy: 0.9302\n",
            "Epoch 16/20\n",
            "375/375 [==============================] - 1s 3ms/step - loss: 0.2594 - accuracy: 0.9290 - val_loss: 0.2629 - val_accuracy: 0.9292\n",
            "Epoch 17/20\n",
            "375/375 [==============================] - 1s 3ms/step - loss: 0.2581 - accuracy: 0.9296 - val_loss: 0.2609 - val_accuracy: 0.9290\n",
            "Epoch 18/20\n",
            "375/375 [==============================] - 1s 3ms/step - loss: 0.2574 - accuracy: 0.9299 - val_loss: 0.2618 - val_accuracy: 0.9304\n",
            "Epoch 19/20\n",
            "375/375 [==============================] - 1s 3ms/step - loss: 0.2568 - accuracy: 0.9306 - val_loss: 0.2616 - val_accuracy: 0.9301\n",
            "Epoch 20/20\n",
            "375/375 [==============================] - 1s 3ms/step - loss: 0.2556 - accuracy: 0.9298 - val_loss: 0.2611 - val_accuracy: 0.9312\n"
          ]
        }
      ],
      "source": [
        "model = keras.Sequential([layers.Dense(10, activation=\"softmax\")])\n",
        "model.compile(optimizer=\"rmsprop\",\n",
        "       loss=\"sparse_categorical_crossentropy\",\n",
        "       metrics=[\"accuracy\"])\n",
        "history_small_model = model.fit(\n",
        "    train_images, train_labels,\n",
        "    epochs=20,\n",
        "    batch_size=128,\n",
        "    validation_split=0.2)"
      ]
    },
    {
      "cell_type": "code",
      "execution_count": 8,
      "metadata": {
        "id": "K_Z96vh6vEhR",
        "outputId": "b933bbd1-e147-4f97-8c01-fa239ea9b40a",
        "colab": {
          "base_uri": "https://localhost:8080/",
          "height": 312
        }
      },
      "outputs": [
        {
          "output_type": "execute_result",
          "data": {
            "text/plain": [
              "<matplotlib.legend.Legend at 0x7f2802f2e790>"
            ]
          },
          "metadata": {},
          "execution_count": 8
        },
        {
          "output_type": "display_data",
          "data": {
            "text/plain": [
              "<Figure size 432x288 with 1 Axes>"
            ],
            "image/png": "[encoded data removed]"
          },
          "metadata": {
            "needs_background": "light"
          }
        }
      ],
      "source": [
        "import matplotlib.pyplot as plt\n",
        "val_loss = history_small_model.history[\"val_loss\"]\n",
        "epochs = range(1, 21)\n",
        "plt.plot(epochs, val_loss, \"b--\",\n",
        "    label=\"Validation loss\")\n",
        "plt.title(\"Effect of insufficient model capacity on validation loss\")\n",
        "plt.xlabel(\"Epochs\")\n",
        "plt.ylabel(\"Loss\")\n",
        "plt.legend()"
      ]
    },
    {
      "cell_type": "code",
      "execution_count": 9,
      "metadata": {
        "id": "HMdfDWM6vEhS",
        "outputId": "4143da91-c4b1-4dc6-a076-b59f26461fc4",
        "colab": {
          "base_uri": "https://localhost:8080/"
        }
      },
      "outputs": [
        {
          "output_type": "stream",
          "name": "stdout",
          "text": [
            "Epoch 1/20\n",
            "375/375 [==============================] - 3s 7ms/step - loss: 0.3653 - accuracy: 0.8968 - val_loss: 0.1920 - val_accuracy: 0.9446\n",
            "Epoch 2/20\n",
            "375/375 [==============================] - 2s 6ms/step - loss: 0.1611 - accuracy: 0.9521 - val_loss: 0.1374 - val_accuracy: 0.9595\n",
            "Epoch 3/20\n",
            "375/375 [==============================] - 2s 6ms/step - loss: 0.1134 - accuracy: 0.9648 - val_loss: 0.1194 - val_accuracy: 0.9639\n",
            "Epoch 4/20\n",
            "375/375 [==============================] - 2s 6ms/step - loss: 0.0872 - accuracy: 0.9727 - val_loss: 0.1041 - val_accuracy: 0.9693\n",
            "Epoch 5/20\n",
            "375/375 [==============================] - 2s 6ms/step - loss: 0.0697 - accuracy: 0.9789 - val_loss: 0.0945 - val_accuracy: 0.9724\n",
            "Epoch 6/20\n",
            "375/375 [==============================] - 2s 6ms/step - loss: 0.0572 - accuracy: 0.9828 - val_loss: 0.0949 - val_accuracy: 0.9724\n",
            "Epoch 7/20\n",
            "375/375 [==============================] - 2s 6ms/step - loss: 0.0478 - accuracy: 0.9858 - val_loss: 0.0978 - val_accuracy: 0.9716\n",
            "Epoch 8/20\n",
            "375/375 [==============================] - 2s 6ms/step - loss: 0.0399 - accuracy: 0.9873 - val_loss: 0.0881 - val_accuracy: 0.9749\n",
            "Epoch 9/20\n",
            "375/375 [==============================] - 2s 6ms/step - loss: 0.0336 - accuracy: 0.9898 - val_loss: 0.1043 - val_accuracy: 0.9737\n",
            "Epoch 10/20\n",
            "375/375 [==============================] - 2s 6ms/step - loss: 0.0285 - accuracy: 0.9912 - val_loss: 0.0975 - val_accuracy: 0.9741\n",
            "Epoch 11/20\n",
            "375/375 [==============================] - 2s 6ms/step - loss: 0.0242 - accuracy: 0.9925 - val_loss: 0.1061 - val_accuracy: 0.9724\n",
            "Epoch 12/20\n",
            "375/375 [==============================] - 2s 6ms/step - loss: 0.0212 - accuracy: 0.9932 - val_loss: 0.1022 - val_accuracy: 0.9750\n",
            "Epoch 13/20\n",
            "375/375 [==============================] - 2s 5ms/step - loss: 0.0179 - accuracy: 0.9944 - val_loss: 0.1059 - val_accuracy: 0.9749\n",
            "Epoch 14/20\n",
            "375/375 [==============================] - 2s 6ms/step - loss: 0.0157 - accuracy: 0.9954 - val_loss: 0.1058 - val_accuracy: 0.9764\n",
            "Epoch 15/20\n",
            "375/375 [==============================] - 2s 6ms/step - loss: 0.0134 - accuracy: 0.9959 - val_loss: 0.1159 - val_accuracy: 0.9741\n",
            "Epoch 16/20\n",
            "375/375 [==============================] - 2s 6ms/step - loss: 0.0111 - accuracy: 0.9963 - val_loss: 0.1202 - val_accuracy: 0.9760\n",
            "Epoch 17/20\n",
            "375/375 [==============================] - 2s 6ms/step - loss: 0.0093 - accuracy: 0.9972 - val_loss: 0.1193 - val_accuracy: 0.9753\n",
            "Epoch 18/20\n",
            "375/375 [==============================] - 2s 6ms/step - loss: 0.0088 - accuracy: 0.9973 - val_loss: 0.1338 - val_accuracy: 0.9753\n",
            "Epoch 19/20\n",
            "375/375 [==============================] - 2s 6ms/step - loss: 0.0085 - accuracy: 0.9975 - val_loss: 0.1293 - val_accuracy: 0.9762\n",
            "Epoch 20/20\n",
            "375/375 [==============================] - 2s 6ms/step - loss: 0.0073 - accuracy: 0.9977 - val_loss: 0.1406 - val_accuracy: 0.9755\n"
          ]
        }
      ],
      "source": [
        "model = keras.Sequential([\n",
        "    layers.Dense(96, activation=\"relu\"),\n",
        "    layers.Dense(96, activation=\"relu\"),\n",
        "    layers.Dense(10, activation=\"softmax\"),\n",
        "])\n",
        "model.compile(optimizer=\"rmsprop\",\n",
        "       loss=\"sparse_categorical_crossentropy\",\n",
        "       metrics=[\"accuracy\"])\n",
        "history_large_model = model.fit(\n",
        "    train_images, train_labels,\n",
        "    epochs=20,\n",
        "    batch_size=128,\n",
        "    validation_split=0.2)"
      ]
    },
    {
      "cell_type": "markdown",
      "metadata": {
        "id": "tr8Tt3hFvEhS"
      },
      "source": [
        "##5-4 提升普適化能力"
      ]
    },
    {
      "cell_type": "markdown",
      "metadata": {
        "id": "kdZwxSqIvEhT"
      },
      "source": [
        "###5-4-4 將模型常規化"
      ]
    },
    {
      "cell_type": "markdown",
      "metadata": {
        "id": "oqIvowLovEhU"
      },
      "source": [
        "####程式 5.10 原始模型"
      ]
    },
    {
      "cell_type": "code",
      "execution_count": 10,
      "metadata": {
        "id": "4h70DwmcvEhU",
        "outputId": "826019d0-5d3e-4410-8f2f-1e954819763a",
        "colab": {
          "base_uri": "https://localhost:8080/"
        }
      },
      "outputs": [
        {
          "output_type": "stream",
          "name": "stdout",
          "text": [
            "Downloading data from https://storage.googleapis.com/tensorflow/tf-keras-datasets/imdb.npz\n",
            "17464789/17464789 [==============================] - 0s 0us/step\n",
            "Epoch 1/20\n",
            "30/30 [==============================] - 2s 44ms/step - loss: 0.5374 - accuracy: 0.7867 - val_loss: 0.4322 - val_accuracy: 0.8235\n",
            "Epoch 2/20\n",
            "30/30 [==============================] - 1s 33ms/step - loss: 0.3242 - accuracy: 0.8961 - val_loss: 0.3141 - val_accuracy: 0.8850\n",
            "Epoch 3/20\n",
            "30/30 [==============================] - 1s 34ms/step - loss: 0.2357 - accuracy: 0.9239 - val_loss: 0.2966 - val_accuracy: 0.8812\n",
            "Epoch 4/20\n",
            "30/30 [==============================] - 1s 34ms/step - loss: 0.1867 - accuracy: 0.9411 - val_loss: 0.2730 - val_accuracy: 0.8914\n",
            "Epoch 5/20\n",
            "30/30 [==============================] - 1s 33ms/step - loss: 0.1527 - accuracy: 0.9514 - val_loss: 0.2774 - val_accuracy: 0.8912\n",
            "Epoch 6/20\n",
            "30/30 [==============================] - 1s 33ms/step - loss: 0.1270 - accuracy: 0.9611 - val_loss: 0.2882 - val_accuracy: 0.8879\n",
            "Epoch 7/20\n",
            "30/30 [==============================] - 1s 33ms/step - loss: 0.1047 - accuracy: 0.9688 - val_loss: 0.3118 - val_accuracy: 0.8828\n",
            "Epoch 8/20\n",
            "30/30 [==============================] - 1s 34ms/step - loss: 0.0881 - accuracy: 0.9755 - val_loss: 0.3362 - val_accuracy: 0.8799\n",
            "Epoch 9/20\n",
            "30/30 [==============================] - 1s 32ms/step - loss: 0.0750 - accuracy: 0.9790 - val_loss: 0.3477 - val_accuracy: 0.8812\n",
            "Epoch 10/20\n",
            "30/30 [==============================] - 1s 33ms/step - loss: 0.0631 - accuracy: 0.9829 - val_loss: 0.3752 - val_accuracy: 0.8787\n",
            "Epoch 11/20\n",
            "30/30 [==============================] - 2s 60ms/step - loss: 0.0535 - accuracy: 0.9856 - val_loss: 0.4006 - val_accuracy: 0.8779\n",
            "Epoch 12/20\n",
            "30/30 [==============================] - 1s 33ms/step - loss: 0.0443 - accuracy: 0.9883 - val_loss: 0.4435 - val_accuracy: 0.8723\n",
            "Epoch 13/20\n",
            "30/30 [==============================] - 1s 34ms/step - loss: 0.0353 - accuracy: 0.9918 - val_loss: 0.4624 - val_accuracy: 0.8722\n",
            "Epoch 14/20\n",
            "30/30 [==============================] - 1s 34ms/step - loss: 0.0312 - accuracy: 0.9930 - val_loss: 0.5220 - val_accuracy: 0.8680\n",
            "Epoch 15/20\n",
            "30/30 [==============================] - 1s 33ms/step - loss: 0.0241 - accuracy: 0.9950 - val_loss: 0.5367 - val_accuracy: 0.8688\n",
            "Epoch 16/20\n",
            "30/30 [==============================] - 1s 33ms/step - loss: 0.0190 - accuracy: 0.9962 - val_loss: 0.5674 - val_accuracy: 0.8687\n",
            "Epoch 17/20\n",
            "30/30 [==============================] - 1s 33ms/step - loss: 0.0149 - accuracy: 0.9979 - val_loss: 0.6833 - val_accuracy: 0.8598\n",
            "Epoch 18/20\n",
            "30/30 [==============================] - 1s 34ms/step - loss: 0.0110 - accuracy: 0.9983 - val_loss: 0.6492 - val_accuracy: 0.8630\n",
            "Epoch 19/20\n",
            "30/30 [==============================] - 1s 33ms/step - loss: 0.0126 - accuracy: 0.9971 - val_loss: 0.6736 - val_accuracy: 0.8664\n",
            "Epoch 20/20\n",
            "30/30 [==============================] - 1s 32ms/step - loss: 0.0062 - accuracy: 0.9996 - val_loss: 0.7045 - val_accuracy: 0.8640\n"
          ]
        }
      ],
      "source": [
        "from tensorflow.keras.datasets import imdb\n",
        "(train_data, train_labels), _ = imdb.load_data(num_words=10000)\n",
        "\n",
        "def vectorize_sequences(sequences, dimension=10000):\n",
        "    results = np.zeros((len(sequences), dimension))\n",
        "    for i, sequence in enumerate(sequences):\n",
        "        results[i, sequence] = 1.\n",
        "    return results\n",
        "train_data = vectorize_sequences(train_data)\n",
        "\n",
        "model = keras.Sequential([\n",
        "    layers.Dense(16, activation=\"relu\"),\n",
        "    layers.Dense(16, activation=\"relu\"),\n",
        "    layers.Dense(1, activation=\"sigmoid\")\n",
        "])\n",
        "model.compile(optimizer=\"rmsprop\",\n",
        "       loss=\"binary_crossentropy\",\n",
        "       metrics=[\"accuracy\"])\n",
        "history_original = model.fit(train_data, train_labels,\n",
        "                epochs=20, batch_size=512, validation_split=0.4)"
      ]
    },
    {
      "cell_type": "markdown",
      "metadata": {
        "id": "4iJGl6T_vEhU"
      },
      "source": [
        "####程式 5.11 容量較小的模型版本"
      ]
    },
    {
      "cell_type": "code",
      "execution_count": 11,
      "metadata": {
        "id": "TM3Li1uQvEhU",
        "outputId": "c16b618f-9f0e-4e3f-f247-88f8a32ec21f",
        "colab": {
          "base_uri": "https://localhost:8080/"
        }
      },
      "outputs": [
        {
          "output_type": "stream",
          "name": "stdout",
          "text": [
            "Epoch 1/20\n",
            "30/30 [==============================] - 2s 40ms/step - loss: 0.6113 - accuracy: 0.7673 - val_loss: 0.5328 - val_accuracy: 0.8387\n",
            "Epoch 2/20\n",
            "30/30 [==============================] - 1s 35ms/step - loss: 0.4706 - accuracy: 0.8741 - val_loss: 0.4386 - val_accuracy: 0.8614\n",
            "Epoch 3/20\n",
            "30/30 [==============================] - 1s 31ms/step - loss: 0.3781 - accuracy: 0.8948 - val_loss: 0.3728 - val_accuracy: 0.8790\n",
            "Epoch 4/20\n",
            "30/30 [==============================] - 1s 31ms/step - loss: 0.3130 - accuracy: 0.9071 - val_loss: 0.3319 - val_accuracy: 0.8843\n",
            "Epoch 5/20\n",
            "30/30 [==============================] - 1s 30ms/step - loss: 0.2651 - accuracy: 0.9196 - val_loss: 0.3041 - val_accuracy: 0.8878\n",
            "Epoch 6/20\n",
            "30/30 [==============================] - 1s 31ms/step - loss: 0.2286 - accuracy: 0.9294 - val_loss: 0.2922 - val_accuracy: 0.8867\n",
            "Epoch 7/20\n",
            "30/30 [==============================] - 1s 34ms/step - loss: 0.2016 - accuracy: 0.9364 - val_loss: 0.2783 - val_accuracy: 0.8911\n",
            "Epoch 8/20\n",
            "30/30 [==============================] - 1s 31ms/step - loss: 0.1799 - accuracy: 0.9433 - val_loss: 0.2783 - val_accuracy: 0.8887\n",
            "Epoch 9/20\n",
            "30/30 [==============================] - 1s 31ms/step - loss: 0.1614 - accuracy: 0.9511 - val_loss: 0.2722 - val_accuracy: 0.8921\n",
            "Epoch 10/20\n",
            "30/30 [==============================] - 1s 31ms/step - loss: 0.1451 - accuracy: 0.9563 - val_loss: 0.2782 - val_accuracy: 0.8891\n",
            "Epoch 11/20\n",
            "30/30 [==============================] - 1s 31ms/step - loss: 0.1315 - accuracy: 0.9601 - val_loss: 0.2779 - val_accuracy: 0.8904\n",
            "Epoch 12/20\n",
            "30/30 [==============================] - 1s 31ms/step - loss: 0.1184 - accuracy: 0.9660 - val_loss: 0.2859 - val_accuracy: 0.8881\n",
            "Epoch 13/20\n",
            "30/30 [==============================] - 1s 30ms/step - loss: 0.1067 - accuracy: 0.9696 - val_loss: 0.3076 - val_accuracy: 0.8819\n",
            "Epoch 14/20\n",
            "30/30 [==============================] - 1s 35ms/step - loss: 0.0968 - accuracy: 0.9727 - val_loss: 0.3023 - val_accuracy: 0.8853\n",
            "Epoch 15/20\n",
            "30/30 [==============================] - 1s 30ms/step - loss: 0.0882 - accuracy: 0.9765 - val_loss: 0.3096 - val_accuracy: 0.8857\n",
            "Epoch 16/20\n",
            "30/30 [==============================] - 1s 31ms/step - loss: 0.0801 - accuracy: 0.9782 - val_loss: 0.3324 - val_accuracy: 0.8807\n",
            "Epoch 17/20\n",
            "30/30 [==============================] - 1s 38ms/step - loss: 0.0728 - accuracy: 0.9817 - val_loss: 0.3328 - val_accuracy: 0.8839\n",
            "Epoch 18/20\n",
            "30/30 [==============================] - 1s 47ms/step - loss: 0.0663 - accuracy: 0.9841 - val_loss: 0.3492 - val_accuracy: 0.8812\n",
            "Epoch 19/20\n",
            "30/30 [==============================] - 1s 41ms/step - loss: 0.0603 - accuracy: 0.9860 - val_loss: 0.3614 - val_accuracy: 0.8813\n",
            "Epoch 20/20\n",
            "30/30 [==============================] - 1s 30ms/step - loss: 0.0543 - accuracy: 0.9874 - val_loss: 0.3764 - val_accuracy: 0.8791\n"
          ]
        }
      ],
      "source": [
        "model = keras.Sequential([\n",
        "    layers.Dense(4, activation=\"relu\"),\n",
        "    layers.Dense(4, activation=\"relu\"),\n",
        "    layers.Dense(1, activation=\"sigmoid\")\n",
        "])\n",
        "model.compile(optimizer=\"rmsprop\",\n",
        "       loss=\"binary_crossentropy\",\n",
        "       metrics=[\"accuracy\"])\n",
        "history_smaller_model = model.fit(\n",
        "    train_data, train_labels,\n",
        "    epochs=20, batch_size=512, validation_split=0.4)"
      ]
    },
    {
      "cell_type": "markdown",
      "metadata": {
        "id": "zCF3Cea4vEhV"
      },
      "source": [
        "####程式 5.12 具有更高容量的模型版本"
      ]
    },
    {
      "cell_type": "code",
      "execution_count": 12,
      "metadata": {
        "id": "xNqKAa1nvEhV",
        "outputId": "5ad37e31-606c-484e-aece-8126716c87e8",
        "colab": {
          "base_uri": "https://localhost:8080/"
        }
      },
      "outputs": [
        {
          "output_type": "stream",
          "name": "stdout",
          "text": [
            "Epoch 1/20\n",
            "30/30 [==============================] - 11s 352ms/step - loss: 0.5470 - accuracy: 0.7473 - val_loss: 0.3216 - val_accuracy: 0.8827\n",
            "Epoch 2/20\n",
            "30/30 [==============================] - 9s 295ms/step - loss: 0.2708 - accuracy: 0.8967 - val_loss: 0.2677 - val_accuracy: 0.8927\n",
            "Epoch 3/20\n",
            "30/30 [==============================] - 9s 295ms/step - loss: 0.1548 - accuracy: 0.9415 - val_loss: 0.2882 - val_accuracy: 0.8916\n",
            "Epoch 4/20\n",
            "30/30 [==============================] - 9s 292ms/step - loss: 0.0691 - accuracy: 0.9762 - val_loss: 0.3545 - val_accuracy: 0.8875\n",
            "Epoch 5/20\n",
            "30/30 [==============================] - 9s 294ms/step - loss: 0.0887 - accuracy: 0.9803 - val_loss: 0.3643 - val_accuracy: 0.8889\n",
            "Epoch 6/20\n",
            "30/30 [==============================] - 9s 293ms/step - loss: 0.0034 - accuracy: 0.9997 - val_loss: 0.5819 - val_accuracy: 0.8811\n",
            "Epoch 7/20\n",
            "30/30 [==============================] - 9s 293ms/step - loss: 4.1000e-04 - accuracy: 1.0000 - val_loss: 0.6599 - val_accuracy: 0.8882\n",
            "Epoch 8/20\n",
            "30/30 [==============================] - 9s 292ms/step - loss: 5.5173e-05 - accuracy: 1.0000 - val_loss: 0.7776 - val_accuracy: 0.8851\n",
            "Epoch 9/20\n",
            "30/30 [==============================] - 9s 293ms/step - loss: 9.9362e-06 - accuracy: 1.0000 - val_loss: 0.8744 - val_accuracy: 0.8863\n",
            "Epoch 10/20\n",
            "30/30 [==============================] - 9s 293ms/step - loss: 2.2622e-06 - accuracy: 1.0000 - val_loss: 0.9633 - val_accuracy: 0.8845\n",
            "Epoch 11/20\n",
            "30/30 [==============================] - 9s 293ms/step - loss: 6.1809e-07 - accuracy: 1.0000 - val_loss: 1.0521 - val_accuracy: 0.8858\n",
            "Epoch 12/20\n",
            "30/30 [==============================] - 9s 293ms/step - loss: 2.0605e-07 - accuracy: 1.0000 - val_loss: 1.1204 - val_accuracy: 0.8857\n",
            "Epoch 13/20\n",
            "30/30 [==============================] - 9s 292ms/step - loss: 8.0649e-08 - accuracy: 1.0000 - val_loss: 1.1788 - val_accuracy: 0.8853\n",
            "Epoch 14/20\n",
            "30/30 [==============================] - 9s 292ms/step - loss: 3.9576e-08 - accuracy: 1.0000 - val_loss: 1.2248 - val_accuracy: 0.8854\n",
            "Epoch 15/20\n",
            "30/30 [==============================] - 9s 294ms/step - loss: 2.4462e-08 - accuracy: 1.0000 - val_loss: 1.2465 - val_accuracy: 0.8859\n",
            "Epoch 16/20\n",
            "30/30 [==============================] - 9s 312ms/step - loss: 1.7275e-08 - accuracy: 1.0000 - val_loss: 1.2640 - val_accuracy: 0.8852\n",
            "Epoch 17/20\n",
            "30/30 [==============================] - 11s 360ms/step - loss: 1.3451e-08 - accuracy: 1.0000 - val_loss: 1.2809 - val_accuracy: 0.8858\n",
            "Epoch 18/20\n",
            "30/30 [==============================] - 9s 291ms/step - loss: 1.0930e-08 - accuracy: 1.0000 - val_loss: 1.2940 - val_accuracy: 0.8859\n",
            "Epoch 19/20\n",
            "30/30 [==============================] - 9s 293ms/step - loss: 9.2514e-09 - accuracy: 1.0000 - val_loss: 1.3030 - val_accuracy: 0.8858\n",
            "Epoch 20/20\n",
            "30/30 [==============================] - 9s 292ms/step - loss: 8.0405e-09 - accuracy: 1.0000 - val_loss: 1.3117 - val_accuracy: 0.8856\n"
          ]
        }
      ],
      "source": [
        "model = keras.Sequential([\n",
        "    layers.Dense(512, activation=\"relu\"),\n",
        "    layers.Dense(512, activation=\"relu\"),\n",
        "    layers.Dense(1, activation=\"sigmoid\")\n",
        "])\n",
        "model.compile(optimizer=\"rmsprop\",\n",
        "       loss=\"binary_crossentropy\",\n",
        "       metrics=[\"accuracy\"])\n",
        "history_larger_model = model.fit(\n",
        "    train_data, train_labels,\n",
        "    epochs=20, batch_size=512, validation_split=0.4)"
      ]
    },
    {
      "cell_type": "markdown",
      "metadata": {
        "id": "-YzIbrZNvEhV"
      },
      "source": [
        "####程式 5.13 將L2常規化加入模型中"
      ]
    },
    {
      "cell_type": "code",
      "execution_count": 13,
      "metadata": {
        "id": "njm5zkWAvEhW",
        "outputId": "215bd442-5c91-478f-f100-d2e60060ca10",
        "colab": {
          "base_uri": "https://localhost:8080/"
        }
      },
      "outputs": [
        {
          "output_type": "stream",
          "name": "stdout",
          "text": [
            "Epoch 1/20\n",
            "30/30 [==============================] - 2s 43ms/step - loss: 0.5991 - accuracy: 0.7780 - val_loss: 0.4651 - val_accuracy: 0.8726\n",
            "Epoch 2/20\n",
            "30/30 [==============================] - 1s 34ms/step - loss: 0.3929 - accuracy: 0.8969 - val_loss: 0.4396 - val_accuracy: 0.8437\n",
            "Epoch 3/20\n",
            "30/30 [==============================] - 1s 35ms/step - loss: 0.3251 - accuracy: 0.9173 - val_loss: 0.3783 - val_accuracy: 0.8800\n",
            "Epoch 4/20\n",
            "30/30 [==============================] - 1s 34ms/step - loss: 0.2971 - accuracy: 0.9255 - val_loss: 0.3682 - val_accuracy: 0.8819\n",
            "Epoch 5/20\n",
            "30/30 [==============================] - 1s 34ms/step - loss: 0.2743 - accuracy: 0.9342 - val_loss: 0.3644 - val_accuracy: 0.8842\n",
            "Epoch 6/20\n",
            "30/30 [==============================] - 1s 34ms/step - loss: 0.2623 - accuracy: 0.9377 - val_loss: 0.3617 - val_accuracy: 0.8860\n",
            "Epoch 7/20\n",
            "30/30 [==============================] - 1s 34ms/step - loss: 0.2527 - accuracy: 0.9421 - val_loss: 0.3751 - val_accuracy: 0.8805\n",
            "Epoch 8/20\n",
            "30/30 [==============================] - 1s 34ms/step - loss: 0.2465 - accuracy: 0.9427 - val_loss: 0.3731 - val_accuracy: 0.8832\n",
            "Epoch 9/20\n",
            "30/30 [==============================] - 1s 36ms/step - loss: 0.2363 - accuracy: 0.9481 - val_loss: 0.4575 - val_accuracy: 0.8577\n",
            "Epoch 10/20\n",
            "30/30 [==============================] - 1s 34ms/step - loss: 0.2339 - accuracy: 0.9471 - val_loss: 0.3801 - val_accuracy: 0.8798\n",
            "Epoch 11/20\n",
            "30/30 [==============================] - 1s 36ms/step - loss: 0.2231 - accuracy: 0.9540 - val_loss: 0.4244 - val_accuracy: 0.8690\n",
            "Epoch 12/20\n",
            "30/30 [==============================] - 1s 34ms/step - loss: 0.2270 - accuracy: 0.9516 - val_loss: 0.4077 - val_accuracy: 0.8727\n",
            "Epoch 13/20\n",
            "30/30 [==============================] - 1s 34ms/step - loss: 0.2189 - accuracy: 0.9539 - val_loss: 0.3931 - val_accuracy: 0.8794\n",
            "Epoch 14/20\n",
            "30/30 [==============================] - 1s 34ms/step - loss: 0.2130 - accuracy: 0.9575 - val_loss: 0.4192 - val_accuracy: 0.8714\n",
            "Epoch 15/20\n",
            "30/30 [==============================] - 1s 34ms/step - loss: 0.2121 - accuracy: 0.9551 - val_loss: 0.4130 - val_accuracy: 0.8732\n",
            "Epoch 16/20\n",
            "30/30 [==============================] - 1s 34ms/step - loss: 0.2146 - accuracy: 0.9529 - val_loss: 0.4177 - val_accuracy: 0.8741\n",
            "Epoch 17/20\n",
            "30/30 [==============================] - 1s 34ms/step - loss: 0.2032 - accuracy: 0.9623 - val_loss: 0.4106 - val_accuracy: 0.8774\n",
            "Epoch 18/20\n",
            "30/30 [==============================] - 1s 34ms/step - loss: 0.2071 - accuracy: 0.9563 - val_loss: 0.5124 - val_accuracy: 0.8422\n",
            "Epoch 19/20\n",
            "30/30 [==============================] - 1s 34ms/step - loss: 0.2038 - accuracy: 0.9583 - val_loss: 0.4826 - val_accuracy: 0.8545\n",
            "Epoch 20/20\n",
            "30/30 [==============================] - 1s 33ms/step - loss: 0.2036 - accuracy: 0.9581 - val_loss: 0.4273 - val_accuracy: 0.8742\n"
          ]
        }
      ],
      "source": [
        "from tensorflow.keras import regularizers\n",
        "model = keras.Sequential([\n",
        "    layers.Dense(16,\n",
        "                 kernel_regularizer=regularizers.l2(0.002),\n",
        "                 activation=\"relu\"),\n",
        "    layers.Dense(16,\n",
        "                 kernel_regularizer=regularizers.l2(0.002),\n",
        "                 activation=\"relu\"),\n",
        "    layers.Dense(1, activation=\"sigmoid\")\n",
        "])\n",
        "model.compile(optimizer=\"rmsprop\",\n",
        "              loss=\"binary_crossentropy\",\n",
        "              metrics=[\"accuracy\"])\n",
        "history_l2_reg = model.fit(\n",
        "    train_data, train_labels,\n",
        "    epochs=20, batch_size=512, validation_split=0.4)"
      ]
    },
    {
      "cell_type": "markdown",
      "metadata": {
        "id": "pyyG9LtVvEhX"
      },
      "source": [
        "####程式 5.14 Keras提供不同的權重常規化物件"
      ]
    },
    {
      "cell_type": "code",
      "execution_count": 14,
      "metadata": {
        "id": "jaXLRltFvEhX",
        "outputId": "84397c1b-9288-4489-e7d0-a2f4c674105c",
        "colab": {
          "base_uri": "https://localhost:8080/"
        }
      },
      "outputs": [
        {
          "output_type": "execute_result",
          "data": {
            "text/plain": [
              "<keras.regularizers.L1L2 at 0x7f27f93f08e0>"
            ]
          },
          "metadata": {},
          "execution_count": 14
        }
      ],
      "source": [
        "from tensorflow.keras import regularizers\n",
        "regularizers.l1(0.001)\n",
        "regularizers.l1_l2(l1=0.001, l2=0.001)"
      ]
    },
    {
      "cell_type": "markdown",
      "metadata": {
        "id": "-akxf6PavEhY"
      },
      "source": [
        "####程式 5.15 將Dropout層添加到IMDB神經網路"
      ]
    },
    {
      "cell_type": "code",
      "execution_count": 15,
      "metadata": {
        "id": "7DtJZVQgvEhY",
        "outputId": "6f6dc0ae-f007-41b0-c19e-923dc1b2df47",
        "colab": {
          "base_uri": "https://localhost:8080/"
        }
      },
      "outputs": [
        {
          "output_type": "stream",
          "name": "stdout",
          "text": [
            "Epoch 1/20\n",
            "30/30 [==============================] - 2s 45ms/step - loss: 0.6348 - accuracy: 0.6323 - val_loss: 0.5144 - val_accuracy: 0.8415\n",
            "Epoch 2/20\n",
            "30/30 [==============================] - 1s 33ms/step - loss: 0.5122 - accuracy: 0.7637 - val_loss: 0.3915 - val_accuracy: 0.8773\n",
            "Epoch 3/20\n",
            "30/30 [==============================] - 1s 33ms/step - loss: 0.4289 - accuracy: 0.8189 - val_loss: 0.3297 - val_accuracy: 0.8856\n",
            "Epoch 4/20\n",
            "30/30 [==============================] - 1s 33ms/step - loss: 0.3607 - accuracy: 0.8546 - val_loss: 0.2982 - val_accuracy: 0.8897\n",
            "Epoch 5/20\n",
            "30/30 [==============================] - 1s 33ms/step - loss: 0.3110 - accuracy: 0.8812 - val_loss: 0.2923 - val_accuracy: 0.8826\n",
            "Epoch 6/20\n",
            "30/30 [==============================] - 1s 33ms/step - loss: 0.2733 - accuracy: 0.9030 - val_loss: 0.2732 - val_accuracy: 0.8933\n",
            "Epoch 7/20\n",
            "30/30 [==============================] - 1s 33ms/step - loss: 0.2379 - accuracy: 0.9169 - val_loss: 0.2774 - val_accuracy: 0.8927\n",
            "Epoch 8/20\n",
            "30/30 [==============================] - 1s 33ms/step - loss: 0.2159 - accuracy: 0.9261 - val_loss: 0.2844 - val_accuracy: 0.8944\n",
            "Epoch 9/20\n",
            "30/30 [==============================] - 1s 33ms/step - loss: 0.1894 - accuracy: 0.9344 - val_loss: 0.3104 - val_accuracy: 0.8866\n",
            "Epoch 10/20\n",
            "30/30 [==============================] - 1s 33ms/step - loss: 0.1745 - accuracy: 0.9382 - val_loss: 0.3161 - val_accuracy: 0.8912\n",
            "Epoch 11/20\n",
            "30/30 [==============================] - 1s 33ms/step - loss: 0.1560 - accuracy: 0.9464 - val_loss: 0.3372 - val_accuracy: 0.8914\n",
            "Epoch 12/20\n",
            "30/30 [==============================] - 1s 33ms/step - loss: 0.1424 - accuracy: 0.9487 - val_loss: 0.3509 - val_accuracy: 0.8904\n",
            "Epoch 13/20\n",
            "30/30 [==============================] - 1s 33ms/step - loss: 0.1302 - accuracy: 0.9536 - val_loss: 0.3816 - val_accuracy: 0.8886\n",
            "Epoch 14/20\n",
            "30/30 [==============================] - 1s 36ms/step - loss: 0.1196 - accuracy: 0.9594 - val_loss: 0.4012 - val_accuracy: 0.8880\n",
            "Epoch 15/20\n",
            "30/30 [==============================] - 1s 34ms/step - loss: 0.1130 - accuracy: 0.9605 - val_loss: 0.4411 - val_accuracy: 0.8892\n",
            "Epoch 16/20\n",
            "30/30 [==============================] - 1s 33ms/step - loss: 0.1075 - accuracy: 0.9628 - val_loss: 0.4587 - val_accuracy: 0.8823\n",
            "Epoch 17/20\n",
            "30/30 [==============================] - 1s 33ms/step - loss: 0.0973 - accuracy: 0.9679 - val_loss: 0.4863 - val_accuracy: 0.8868\n",
            "Epoch 18/20\n",
            "30/30 [==============================] - 1s 33ms/step - loss: 0.0985 - accuracy: 0.9663 - val_loss: 0.4933 - val_accuracy: 0.8870\n",
            "Epoch 19/20\n",
            "30/30 [==============================] - 1s 33ms/step - loss: 0.0856 - accuracy: 0.9719 - val_loss: 0.5439 - val_accuracy: 0.8869\n",
            "Epoch 20/20\n",
            "30/30 [==============================] - 1s 34ms/step - loss: 0.0808 - accuracy: 0.9738 - val_loss: 0.5591 - val_accuracy: 0.8858\n"
          ]
        }
      ],
      "source": [
        "model = keras.Sequential([\n",
        "    layers.Dense(16, activation=\"relu\"),\n",
        "    layers.Dropout(0.5),\n",
        "    layers.Dense(16, activation=\"relu\"),\n",
        "    layers.Dropout(0.5),\n",
        "    layers.Dense(1, activation=\"sigmoid\")\n",
        "])\n",
        "\n",
        "model.compile(optimizer=\"rmsprop\",\n",
        "              loss=\"binary_crossentropy\",\n",
        "              metrics=[\"accuracy\"])\n",
        "\n",
        "history_dropout = model.fit(\n",
        "    train_data, train_labels,\n",
        "    epochs=20, batch_size=512, validation_split=0.4)"
      ]
    }
  ],
  "metadata": {
    "colab": {
      "provenance": [],
      "include_colab_link": true
    },
    "kernelspec": {
      "display_name": "Python 3",
      "language": "python",
      "name": "python3"
    },
    "language_info": {
      "codemirror_mode": {
        "name": "ipython",
        "version": 3
      },
      "file_extension": ".py",
      "mimetype": "text/x-python",
      "name": "python",
      "nbconvert_exporter": "python",
      "pygments_lexer": "ipython3",
      "version": "3.7.0"
    }
  },
  "nbformat": 4,
  "nbformat_minor": 0
}