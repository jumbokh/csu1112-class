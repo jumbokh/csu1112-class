{
  "cells": [
    {
      "cell_type": "markdown",
      "metadata": {
        "id": "view-in-github",
        "colab_type": "text"
      },
      "source": [
        "<a href=\"https://colab.research.google.com/github/jumbokh/csu1112-class/blob/main/notebooks/flags/F2379_CH13.ipynb\" target=\"_parent\"><img src=\"https://colab.research.google.com/assets/colab-badge.svg\" alt=\"Open In Colab\"/></a>"
      ]
    },
    {
      "cell_type": "markdown",
      "metadata": {
        "id": "VvMh-k9hvgtf"
      },
      "source": [
        "#第13章：實務上的最佳實踐"
      ]
    },
    {
      "cell_type": "markdown",
      "metadata": {
        "id": "vzoH81jfvgtg"
      },
      "source": [
        "#讓模型發揮最大效用"
      ]
    },
    {
      "cell_type": "markdown",
      "metadata": {
        "id": "gL377lc6vgth"
      },
      "source": [
        "###13-1-1 超參數優化"
      ]
    },
    {
      "cell_type": "code",
      "execution_count": null,
      "metadata": {
        "colab": {
          "base_uri": "https://localhost:8080/"
        },
        "id": "J1gBh42vvgti",
        "outputId": "3ce0cb2e-ef0b-4611-9fcc-fea7da6d2e2f"
      },
      "outputs": [
        {
          "output_type": "stream",
          "name": "stdout",
          "text": [
            "\u001b[?25l\r\u001b[K     |██▌                             | 10 kB 17.2 MB/s eta 0:00:01\r\u001b[K     |█████                           | 20 kB 20.1 MB/s eta 0:00:01\r\u001b[K     |███████▍                        | 30 kB 10.3 MB/s eta 0:00:01\r\u001b[K     |█████████▉                      | 40 kB 8.7 MB/s eta 0:00:01\r\u001b[K     |████████████▎                   | 51 kB 4.4 MB/s eta 0:00:01\r\u001b[K     |██████████████▊                 | 61 kB 5.2 MB/s eta 0:00:01\r\u001b[K     |█████████████████▏              | 71 kB 5.8 MB/s eta 0:00:01\r\u001b[K     |███████████████████▋            | 81 kB 6.5 MB/s eta 0:00:01\r\u001b[K     |██████████████████████          | 92 kB 5.1 MB/s eta 0:00:01\r\u001b[K     |████████████████████████▌       | 102 kB 5.4 MB/s eta 0:00:01\r\u001b[K     |███████████████████████████     | 112 kB 5.4 MB/s eta 0:00:01\r\u001b[K     |█████████████████████████████▍  | 122 kB 5.4 MB/s eta 0:00:01\r\u001b[K     |███████████████████████████████▉| 133 kB 5.4 MB/s eta 0:00:01\r\u001b[K     |████████████████████████████████| 133 kB 5.4 MB/s \n",
            "\u001b[?25h"
          ]
        }
      ],
      "source": [
        "!pip install keras-tuner -q"
      ]
    },
    {
      "cell_type": "markdown",
      "metadata": {
        "id": "fdaP8h_rvgtj"
      },
      "source": [
        "####程式 13.1 KerasTuner模型建構函式"
      ]
    },
    {
      "cell_type": "code",
      "execution_count": null,
      "metadata": {
        "id": "0FcbRx_9vgtj"
      },
      "outputs": [],
      "source": [
        "from tensorflow import keras\n",
        "from tensorflow.keras import layers\n",
        "\n",
        "def build_model(hp):\n",
        "    units = hp.Int(name=\"units\", min_value=16, max_value=64, step=16)\n",
        "    model = keras.Sequential([\n",
        "        layers.Dense(units, activation=\"relu\"),\n",
        "        layers.Dense(10, activation=\"softmax\")\n",
        "    ])\n",
        "    optimizer = hp.Choice(name=\"optimizer\", values=[\"rmsprop\", \"adam\"])\n",
        "    model.compile(\n",
        "        optimizer=optimizer,\n",
        "        loss=\"sparse_categorical_crossentropy\",\n",
        "        metrics=[\"accuracy\"])\n",
        "    return model"
      ]
    },
    {
      "cell_type": "markdown",
      "metadata": {
        "id": "wveChCfDvgtk"
      },
      "source": [
        "####程式 13.2 繼承HyperModel的子類別"
      ]
    },
    {
      "cell_type": "code",
      "execution_count": null,
      "metadata": {
        "colab": {
          "base_uri": "https://localhost:8080/"
        },
        "id": "LUkhV6f5vgtk",
        "outputId": "d873e761-b163-40bc-98fc-301742e9cdb0"
      },
      "outputs": [
        {
          "output_type": "stream",
          "name": "stderr",
          "text": [
            "/usr/local/lib/python3.7/dist-packages/ipykernel_launcher.py:1: DeprecationWarning: `import kerastuner` is deprecated, please use `import keras_tuner`.\n",
            "  \"\"\"Entry point for launching an IPython kernel.\n"
          ]
        }
      ],
      "source": [
        "import kerastuner as kt\n",
        "\n",
        "class SimpleMLP(kt.HyperModel):\n",
        "    def __init__(self, num_classes):\n",
        "        self.num_classes = num_classes\n",
        "\n",
        "    def build(self, hp):\n",
        "        units = hp.Int(name=\"units\", min_value=16, max_value=64, step=16)\n",
        "        model = keras.Sequential([\n",
        "            layers.Dense(units, activation=\"relu\"),\n",
        "            layers.Dense(self.num_classes, activation=\"softmax\")\n",
        "        ])\n",
        "        optimizer = hp.Choice(name=\"optimizer\", values=[\"rmsprop\", \"adam\"])\n",
        "        model.compile(\n",
        "            optimizer=optimizer,\n",
        "            loss=\"sparse_categorical_crossentropy\",\n",
        "            metrics=[\"accuracy\"])\n",
        "        return model\n",
        "\n",
        "hypermodel = SimpleMLP(num_classes=10)"
      ]
    },
    {
      "cell_type": "code",
      "execution_count": null,
      "metadata": {
        "id": "5vYsQghevgtl"
      },
      "outputs": [],
      "source": [
        "tuner = kt.BayesianOptimization(\n",
        "    build_model,\n",
        "    objective=\"val_accuracy\",\n",
        "    max_trials=100,\n",
        "    executions_per_trial=2,\n",
        "    directory=\"mnist_kt_test\",\n",
        "    overwrite=True,\n",
        ")"
      ]
    },
    {
      "cell_type": "code",
      "execution_count": null,
      "metadata": {
        "colab": {
          "base_uri": "https://localhost:8080/"
        },
        "id": "cPZA6Xtkvgtl",
        "outputId": "50b1eb8e-9b2d-4ca6-a196-b624c6de08c4"
      },
      "outputs": [
        {
          "output_type": "stream",
          "name": "stdout",
          "text": [
            "Search space summary\n",
            "Default search space size: 2\n",
            "units (Int)\n",
            "{'default': None, 'conditions': [], 'min_value': 16, 'max_value': 64, 'step': 16, 'sampling': None}\n",
            "optimizer (Choice)\n",
            "{'default': 'rmsprop', 'conditions': [], 'values': ['rmsprop', 'adam'], 'ordered': False}\n"
          ]
        }
      ],
      "source": [
        "tuner.search_space_summary()"
      ]
    },
    {
      "cell_type": "code",
      "execution_count": null,
      "metadata": {
        "colab": {
          "base_uri": "https://localhost:8080/",
          "height": 1000
        },
        "id": "YJMbHoAIvgtl",
        "outputId": "b33f1fb9-967e-446e-977d-880589b4bb9a"
      },
      "outputs": [
        {
          "output_type": "stream",
          "name": "stdout",
          "text": [
            "Trial 8 Complete [00h 01m 12s]\n",
            "val_accuracy: 0.974700003862381\n",
            "\n",
            "Best val_accuracy So Far: 0.9760499894618988\n",
            "Total elapsed time: 00h 09m 39s\n",
            "\n",
            "Search: Running Trial #9\n",
            "\n",
            "Value             |Best Value So Far |Hyperparameter\n",
            "64                |64                |units\n",
            "rmsprop           |rmsprop           |optimizer\n",
            "\n",
            "Epoch 1/100\n",
            "391/391 - 2s - loss: 0.4324 - accuracy: 0.8828 - val_loss: 0.2422 - val_accuracy: 0.9335 - 2s/epoch - 5ms/step\n",
            "Epoch 2/100\n",
            "391/391 - 1s - loss: 0.2302 - accuracy: 0.9341 - val_loss: 0.1820 - val_accuracy: 0.9505 - 1s/epoch - 4ms/step\n",
            "Epoch 3/100\n",
            "391/391 - 2s - loss: 0.1776 - accuracy: 0.9495 - val_loss: 0.1621 - val_accuracy: 0.9552 - 2s/epoch - 4ms/step\n",
            "Epoch 4/100\n",
            "391/391 - 1s - loss: 0.1463 - accuracy: 0.9579 - val_loss: 0.1425 - val_accuracy: 0.9585 - 1s/epoch - 3ms/step\n",
            "Epoch 5/100\n",
            "391/391 - 1s - loss: 0.1247 - accuracy: 0.9640 - val_loss: 0.1231 - val_accuracy: 0.9651 - 1s/epoch - 3ms/step\n",
            "Epoch 6/100\n",
            "391/391 - 1s - loss: 0.1089 - accuracy: 0.9684 - val_loss: 0.1255 - val_accuracy: 0.9627 - 1s/epoch - 3ms/step\n",
            "Epoch 7/100\n",
            "391/391 - 1s - loss: 0.0961 - accuracy: 0.9719 - val_loss: 0.1105 - val_accuracy: 0.9680 - 1s/epoch - 3ms/step\n",
            "Epoch 8/100\n",
            "391/391 - 1s - loss: 0.0857 - accuracy: 0.9750 - val_loss: 0.1073 - val_accuracy: 0.9705 - 1s/epoch - 3ms/step\n",
            "Epoch 9/100\n",
            "391/391 - 1s - loss: 0.0772 - accuracy: 0.9777 - val_loss: 0.1071 - val_accuracy: 0.9698 - 1s/epoch - 3ms/step\n",
            "Epoch 10/100\n",
            "391/391 - 1s - loss: 0.0698 - accuracy: 0.9796 - val_loss: 0.0994 - val_accuracy: 0.9710 - 1s/epoch - 3ms/step\n",
            "Epoch 11/100\n",
            "391/391 - 1s - loss: 0.0637 - accuracy: 0.9819 - val_loss: 0.1030 - val_accuracy: 0.9708 - 1s/epoch - 3ms/step\n",
            "Epoch 12/100\n",
            "391/391 - 1s - loss: 0.0585 - accuracy: 0.9833 - val_loss: 0.0960 - val_accuracy: 0.9730 - 1s/epoch - 3ms/step\n",
            "Epoch 13/100\n",
            "391/391 - 1s - loss: 0.0539 - accuracy: 0.9845 - val_loss: 0.0940 - val_accuracy: 0.9739 - 1s/epoch - 3ms/step\n",
            "Epoch 14/100\n"
          ]
        },
        {
          "output_type": "error",
          "ename": "KeyboardInterrupt",
          "evalue": "ignored",
          "traceback": [
            "\u001b[0;31m---------------------------------------------------------------------------\u001b[0m",
            "\u001b[0;31mKeyboardInterrupt\u001b[0m                         Traceback (most recent call last)",
            "\u001b[0;32m<ipython-input-6-1e65ef6c9ce9>\u001b[0m in \u001b[0;36m<module>\u001b[0;34m()\u001b[0m\n\u001b[1;32m     16\u001b[0m     \u001b[0mvalidation_data\u001b[0m\u001b[0;34m=\u001b[0m\u001b[0;34m(\u001b[0m\u001b[0mx_val\u001b[0m\u001b[0;34m,\u001b[0m \u001b[0my_val\u001b[0m\u001b[0;34m)\u001b[0m\u001b[0;34m,\u001b[0m\u001b[0;34m\u001b[0m\u001b[0;34m\u001b[0m\u001b[0m\n\u001b[1;32m     17\u001b[0m     \u001b[0mcallbacks\u001b[0m\u001b[0;34m=\u001b[0m\u001b[0mcallbacks\u001b[0m\u001b[0;34m,\u001b[0m\u001b[0;34m\u001b[0m\u001b[0;34m\u001b[0m\u001b[0m\n\u001b[0;32m---> 18\u001b[0;31m     \u001b[0mverbose\u001b[0m\u001b[0;34m=\u001b[0m\u001b[0;36m2\u001b[0m\u001b[0;34m,\u001b[0m\u001b[0;34m\u001b[0m\u001b[0;34m\u001b[0m\u001b[0m\n\u001b[0m\u001b[1;32m     19\u001b[0m )\n",
            "\u001b[0;32m/usr/local/lib/python3.7/dist-packages/keras_tuner/engine/base_tuner.py\u001b[0m in \u001b[0;36msearch\u001b[0;34m(self, *fit_args, **fit_kwargs)\u001b[0m\n\u001b[1;32m    177\u001b[0m \u001b[0;34m\u001b[0m\u001b[0m\n\u001b[1;32m    178\u001b[0m             \u001b[0mself\u001b[0m\u001b[0;34m.\u001b[0m\u001b[0mon_trial_begin\u001b[0m\u001b[0;34m(\u001b[0m\u001b[0mtrial\u001b[0m\u001b[0;34m)\u001b[0m\u001b[0;34m\u001b[0m\u001b[0;34m\u001b[0m\u001b[0m\n\u001b[0;32m--> 179\u001b[0;31m             \u001b[0mresults\u001b[0m \u001b[0;34m=\u001b[0m \u001b[0mself\u001b[0m\u001b[0;34m.\u001b[0m\u001b[0mrun_trial\u001b[0m\u001b[0;34m(\u001b[0m\u001b[0mtrial\u001b[0m\u001b[0;34m,\u001b[0m \u001b[0;34m*\u001b[0m\u001b[0mfit_args\u001b[0m\u001b[0;34m,\u001b[0m \u001b[0;34m**\u001b[0m\u001b[0mfit_kwargs\u001b[0m\u001b[0;34m)\u001b[0m\u001b[0;34m\u001b[0m\u001b[0;34m\u001b[0m\u001b[0m\n\u001b[0m\u001b[1;32m    180\u001b[0m             \u001b[0;31m# `results` is None indicates user updated oracle in `run_trial()`.\u001b[0m\u001b[0;34m\u001b[0m\u001b[0;34m\u001b[0m\u001b[0;34m\u001b[0m\u001b[0m\n\u001b[1;32m    181\u001b[0m             \u001b[0;32mif\u001b[0m \u001b[0mresults\u001b[0m \u001b[0;32mis\u001b[0m \u001b[0;32mNone\u001b[0m\u001b[0;34m:\u001b[0m\u001b[0;34m\u001b[0m\u001b[0;34m\u001b[0m\u001b[0m\n",
            "\u001b[0;32m/usr/local/lib/python3.7/dist-packages/keras_tuner/engine/tuner.py\u001b[0m in \u001b[0;36mrun_trial\u001b[0;34m(self, trial, *args, **kwargs)\u001b[0m\n\u001b[1;32m    292\u001b[0m             \u001b[0mcallbacks\u001b[0m\u001b[0;34m.\u001b[0m\u001b[0mappend\u001b[0m\u001b[0;34m(\u001b[0m\u001b[0mmodel_checkpoint\u001b[0m\u001b[0;34m)\u001b[0m\u001b[0;34m\u001b[0m\u001b[0;34m\u001b[0m\u001b[0m\n\u001b[1;32m    293\u001b[0m             \u001b[0mcopied_kwargs\u001b[0m\u001b[0;34m[\u001b[0m\u001b[0;34m\"callbacks\"\u001b[0m\u001b[0;34m]\u001b[0m \u001b[0;34m=\u001b[0m \u001b[0mcallbacks\u001b[0m\u001b[0;34m\u001b[0m\u001b[0;34m\u001b[0m\u001b[0m\n\u001b[0;32m--> 294\u001b[0;31m             \u001b[0mobj_value\u001b[0m \u001b[0;34m=\u001b[0m \u001b[0mself\u001b[0m\u001b[0;34m.\u001b[0m\u001b[0m_build_and_fit_model\u001b[0m\u001b[0;34m(\u001b[0m\u001b[0mtrial\u001b[0m\u001b[0;34m,\u001b[0m \u001b[0;34m*\u001b[0m\u001b[0margs\u001b[0m\u001b[0;34m,\u001b[0m \u001b[0;34m**\u001b[0m\u001b[0mcopied_kwargs\u001b[0m\u001b[0;34m)\u001b[0m\u001b[0;34m\u001b[0m\u001b[0;34m\u001b[0m\u001b[0m\n\u001b[0m\u001b[1;32m    295\u001b[0m \u001b[0;34m\u001b[0m\u001b[0m\n\u001b[1;32m    296\u001b[0m             \u001b[0mhistories\u001b[0m\u001b[0;34m.\u001b[0m\u001b[0mappend\u001b[0m\u001b[0;34m(\u001b[0m\u001b[0mobj_value\u001b[0m\u001b[0;34m)\u001b[0m\u001b[0;34m\u001b[0m\u001b[0;34m\u001b[0m\u001b[0m\n",
            "\u001b[0;32m/usr/local/lib/python3.7/dist-packages/keras_tuner/engine/tuner.py\u001b[0m in \u001b[0;36m_build_and_fit_model\u001b[0;34m(self, trial, *args, **kwargs)\u001b[0m\n\u001b[1;32m    220\u001b[0m         \u001b[0mhp\u001b[0m \u001b[0;34m=\u001b[0m \u001b[0mtrial\u001b[0m\u001b[0;34m.\u001b[0m\u001b[0mhyperparameters\u001b[0m\u001b[0;34m\u001b[0m\u001b[0;34m\u001b[0m\u001b[0m\n\u001b[1;32m    221\u001b[0m         \u001b[0mmodel\u001b[0m \u001b[0;34m=\u001b[0m \u001b[0mself\u001b[0m\u001b[0;34m.\u001b[0m\u001b[0m_try_build\u001b[0m\u001b[0;34m(\u001b[0m\u001b[0mhp\u001b[0m\u001b[0;34m)\u001b[0m\u001b[0;34m\u001b[0m\u001b[0;34m\u001b[0m\u001b[0m\n\u001b[0;32m--> 222\u001b[0;31m         \u001b[0mresults\u001b[0m \u001b[0;34m=\u001b[0m \u001b[0mself\u001b[0m\u001b[0;34m.\u001b[0m\u001b[0mhypermodel\u001b[0m\u001b[0;34m.\u001b[0m\u001b[0mfit\u001b[0m\u001b[0;34m(\u001b[0m\u001b[0mhp\u001b[0m\u001b[0;34m,\u001b[0m \u001b[0mmodel\u001b[0m\u001b[0;34m,\u001b[0m \u001b[0;34m*\u001b[0m\u001b[0margs\u001b[0m\u001b[0;34m,\u001b[0m \u001b[0;34m**\u001b[0m\u001b[0mkwargs\u001b[0m\u001b[0;34m)\u001b[0m\u001b[0;34m\u001b[0m\u001b[0;34m\u001b[0m\u001b[0m\n\u001b[0m\u001b[1;32m    223\u001b[0m         return tuner_utils.convert_to_metrics_dict(\n\u001b[1;32m    224\u001b[0m             \u001b[0mresults\u001b[0m\u001b[0;34m,\u001b[0m \u001b[0mself\u001b[0m\u001b[0;34m.\u001b[0m\u001b[0moracle\u001b[0m\u001b[0;34m.\u001b[0m\u001b[0mobjective\u001b[0m\u001b[0;34m,\u001b[0m \u001b[0;34m\"HyperModel.fit()\"\u001b[0m\u001b[0;34m\u001b[0m\u001b[0;34m\u001b[0m\u001b[0m\n",
            "\u001b[0;32m/usr/local/lib/python3.7/dist-packages/keras_tuner/engine/hypermodel.py\u001b[0m in \u001b[0;36mfit\u001b[0;34m(self, hp, model, *args, **kwargs)\u001b[0m\n\u001b[1;32m    135\u001b[0m             \u001b[0mIf\u001b[0m \u001b[0;32mreturn\u001b[0m \u001b[0ma\u001b[0m \u001b[0mfloat\u001b[0m\u001b[0;34m,\u001b[0m \u001b[0mit\u001b[0m \u001b[0mshould\u001b[0m \u001b[0mbe\u001b[0m \u001b[0mthe\u001b[0m\u001b[0;31m \u001b[0m\u001b[0;31m`\u001b[0m\u001b[0mobjective\u001b[0m\u001b[0;31m`\u001b[0m \u001b[0mvalue\u001b[0m\u001b[0;34m.\u001b[0m\u001b[0;34m\u001b[0m\u001b[0;34m\u001b[0m\u001b[0m\n\u001b[1;32m    136\u001b[0m         \"\"\"\n\u001b[0;32m--> 137\u001b[0;31m         \u001b[0;32mreturn\u001b[0m \u001b[0mmodel\u001b[0m\u001b[0;34m.\u001b[0m\u001b[0mfit\u001b[0m\u001b[0;34m(\u001b[0m\u001b[0;34m*\u001b[0m\u001b[0margs\u001b[0m\u001b[0;34m,\u001b[0m \u001b[0;34m**\u001b[0m\u001b[0mkwargs\u001b[0m\u001b[0;34m)\u001b[0m\u001b[0;34m\u001b[0m\u001b[0;34m\u001b[0m\u001b[0m\n\u001b[0m\u001b[1;32m    138\u001b[0m \u001b[0;34m\u001b[0m\u001b[0m\n\u001b[1;32m    139\u001b[0m \u001b[0;34m\u001b[0m\u001b[0m\n",
            "\u001b[0;32m/usr/local/lib/python3.7/dist-packages/keras/utils/traceback_utils.py\u001b[0m in \u001b[0;36merror_handler\u001b[0;34m(*args, **kwargs)\u001b[0m\n\u001b[1;32m     62\u001b[0m     \u001b[0mfiltered_tb\u001b[0m \u001b[0;34m=\u001b[0m \u001b[0;32mNone\u001b[0m\u001b[0;34m\u001b[0m\u001b[0;34m\u001b[0m\u001b[0m\n\u001b[1;32m     63\u001b[0m     \u001b[0;32mtry\u001b[0m\u001b[0;34m:\u001b[0m\u001b[0;34m\u001b[0m\u001b[0;34m\u001b[0m\u001b[0m\n\u001b[0;32m---> 64\u001b[0;31m       \u001b[0;32mreturn\u001b[0m \u001b[0mfn\u001b[0m\u001b[0;34m(\u001b[0m\u001b[0;34m*\u001b[0m\u001b[0margs\u001b[0m\u001b[0;34m,\u001b[0m \u001b[0;34m**\u001b[0m\u001b[0mkwargs\u001b[0m\u001b[0;34m)\u001b[0m\u001b[0;34m\u001b[0m\u001b[0;34m\u001b[0m\u001b[0m\n\u001b[0m\u001b[1;32m     65\u001b[0m     \u001b[0;32mexcept\u001b[0m \u001b[0mException\u001b[0m \u001b[0;32mas\u001b[0m \u001b[0me\u001b[0m\u001b[0;34m:\u001b[0m  \u001b[0;31m# pylint: disable=broad-except\u001b[0m\u001b[0;34m\u001b[0m\u001b[0;34m\u001b[0m\u001b[0m\n\u001b[1;32m     66\u001b[0m       \u001b[0mfiltered_tb\u001b[0m \u001b[0;34m=\u001b[0m \u001b[0m_process_traceback_frames\u001b[0m\u001b[0;34m(\u001b[0m\u001b[0me\u001b[0m\u001b[0;34m.\u001b[0m\u001b[0m__traceback__\u001b[0m\u001b[0;34m)\u001b[0m\u001b[0;34m\u001b[0m\u001b[0;34m\u001b[0m\u001b[0m\n",
            "\u001b[0;32m/usr/local/lib/python3.7/dist-packages/keras/engine/training.py\u001b[0m in \u001b[0;36mfit\u001b[0;34m(self, x, y, batch_size, epochs, verbose, callbacks, validation_split, validation_data, shuffle, class_weight, sample_weight, initial_epoch, steps_per_epoch, validation_steps, validation_batch_size, validation_freq, max_queue_size, workers, use_multiprocessing)\u001b[0m\n\u001b[1;32m   1382\u001b[0m                 _r=1):\n\u001b[1;32m   1383\u001b[0m               \u001b[0mcallbacks\u001b[0m\u001b[0;34m.\u001b[0m\u001b[0mon_train_batch_begin\u001b[0m\u001b[0;34m(\u001b[0m\u001b[0mstep\u001b[0m\u001b[0;34m)\u001b[0m\u001b[0;34m\u001b[0m\u001b[0;34m\u001b[0m\u001b[0m\n\u001b[0;32m-> 1384\u001b[0;31m               \u001b[0mtmp_logs\u001b[0m \u001b[0;34m=\u001b[0m \u001b[0mself\u001b[0m\u001b[0;34m.\u001b[0m\u001b[0mtrain_function\u001b[0m\u001b[0;34m(\u001b[0m\u001b[0miterator\u001b[0m\u001b[0;34m)\u001b[0m\u001b[0;34m\u001b[0m\u001b[0;34m\u001b[0m\u001b[0m\n\u001b[0m\u001b[1;32m   1385\u001b[0m               \u001b[0;32mif\u001b[0m \u001b[0mdata_handler\u001b[0m\u001b[0;34m.\u001b[0m\u001b[0mshould_sync\u001b[0m\u001b[0;34m:\u001b[0m\u001b[0;34m\u001b[0m\u001b[0;34m\u001b[0m\u001b[0m\n\u001b[1;32m   1386\u001b[0m                 \u001b[0mcontext\u001b[0m\u001b[0;34m.\u001b[0m\u001b[0masync_wait\u001b[0m\u001b[0;34m(\u001b[0m\u001b[0;34m)\u001b[0m\u001b[0;34m\u001b[0m\u001b[0;34m\u001b[0m\u001b[0m\n",
            "\u001b[0;32m/usr/local/lib/python3.7/dist-packages/tensorflow/python/util/traceback_utils.py\u001b[0m in \u001b[0;36merror_handler\u001b[0;34m(*args, **kwargs)\u001b[0m\n\u001b[1;32m    148\u001b[0m     \u001b[0mfiltered_tb\u001b[0m \u001b[0;34m=\u001b[0m \u001b[0;32mNone\u001b[0m\u001b[0;34m\u001b[0m\u001b[0;34m\u001b[0m\u001b[0m\n\u001b[1;32m    149\u001b[0m     \u001b[0;32mtry\u001b[0m\u001b[0;34m:\u001b[0m\u001b[0;34m\u001b[0m\u001b[0;34m\u001b[0m\u001b[0m\n\u001b[0;32m--> 150\u001b[0;31m       \u001b[0;32mreturn\u001b[0m \u001b[0mfn\u001b[0m\u001b[0;34m(\u001b[0m\u001b[0;34m*\u001b[0m\u001b[0margs\u001b[0m\u001b[0;34m,\u001b[0m \u001b[0;34m**\u001b[0m\u001b[0mkwargs\u001b[0m\u001b[0;34m)\u001b[0m\u001b[0;34m\u001b[0m\u001b[0;34m\u001b[0m\u001b[0m\n\u001b[0m\u001b[1;32m    151\u001b[0m     \u001b[0;32mexcept\u001b[0m \u001b[0mException\u001b[0m \u001b[0;32mas\u001b[0m \u001b[0me\u001b[0m\u001b[0;34m:\u001b[0m\u001b[0;34m\u001b[0m\u001b[0;34m\u001b[0m\u001b[0m\n\u001b[1;32m    152\u001b[0m       \u001b[0mfiltered_tb\u001b[0m \u001b[0;34m=\u001b[0m \u001b[0m_process_traceback_frames\u001b[0m\u001b[0;34m(\u001b[0m\u001b[0me\u001b[0m\u001b[0;34m.\u001b[0m\u001b[0m__traceback__\u001b[0m\u001b[0;34m)\u001b[0m\u001b[0;34m\u001b[0m\u001b[0;34m\u001b[0m\u001b[0m\n",
            "\u001b[0;32m/usr/local/lib/python3.7/dist-packages/tensorflow/python/eager/def_function.py\u001b[0m in \u001b[0;36m__call__\u001b[0;34m(self, *args, **kwds)\u001b[0m\n\u001b[1;32m    913\u001b[0m \u001b[0;34m\u001b[0m\u001b[0m\n\u001b[1;32m    914\u001b[0m       \u001b[0;32mwith\u001b[0m \u001b[0mOptionalXlaContext\u001b[0m\u001b[0;34m(\u001b[0m\u001b[0mself\u001b[0m\u001b[0;34m.\u001b[0m\u001b[0m_jit_compile\u001b[0m\u001b[0;34m)\u001b[0m\u001b[0;34m:\u001b[0m\u001b[0;34m\u001b[0m\u001b[0;34m\u001b[0m\u001b[0m\n\u001b[0;32m--> 915\u001b[0;31m         \u001b[0mresult\u001b[0m \u001b[0;34m=\u001b[0m \u001b[0mself\u001b[0m\u001b[0;34m.\u001b[0m\u001b[0m_call\u001b[0m\u001b[0;34m(\u001b[0m\u001b[0;34m*\u001b[0m\u001b[0margs\u001b[0m\u001b[0;34m,\u001b[0m \u001b[0;34m**\u001b[0m\u001b[0mkwds\u001b[0m\u001b[0;34m)\u001b[0m\u001b[0;34m\u001b[0m\u001b[0;34m\u001b[0m\u001b[0m\n\u001b[0m\u001b[1;32m    916\u001b[0m \u001b[0;34m\u001b[0m\u001b[0m\n\u001b[1;32m    917\u001b[0m       \u001b[0mnew_tracing_count\u001b[0m \u001b[0;34m=\u001b[0m \u001b[0mself\u001b[0m\u001b[0;34m.\u001b[0m\u001b[0mexperimental_get_tracing_count\u001b[0m\u001b[0;34m(\u001b[0m\u001b[0;34m)\u001b[0m\u001b[0;34m\u001b[0m\u001b[0;34m\u001b[0m\u001b[0m\n",
            "\u001b[0;32m/usr/local/lib/python3.7/dist-packages/tensorflow/python/eager/def_function.py\u001b[0m in \u001b[0;36m_call\u001b[0;34m(self, *args, **kwds)\u001b[0m\n\u001b[1;32m    945\u001b[0m       \u001b[0;31m# In this case we have created variables on the first call, so we run the\u001b[0m\u001b[0;34m\u001b[0m\u001b[0;34m\u001b[0m\u001b[0;34m\u001b[0m\u001b[0m\n\u001b[1;32m    946\u001b[0m       \u001b[0;31m# defunned version which is guaranteed to never create variables.\u001b[0m\u001b[0;34m\u001b[0m\u001b[0;34m\u001b[0m\u001b[0;34m\u001b[0m\u001b[0m\n\u001b[0;32m--> 947\u001b[0;31m       \u001b[0;32mreturn\u001b[0m \u001b[0mself\u001b[0m\u001b[0;34m.\u001b[0m\u001b[0m_stateless_fn\u001b[0m\u001b[0;34m(\u001b[0m\u001b[0;34m*\u001b[0m\u001b[0margs\u001b[0m\u001b[0;34m,\u001b[0m \u001b[0;34m**\u001b[0m\u001b[0mkwds\u001b[0m\u001b[0;34m)\u001b[0m  \u001b[0;31m# pylint: disable=not-callable\u001b[0m\u001b[0;34m\u001b[0m\u001b[0;34m\u001b[0m\u001b[0m\n\u001b[0m\u001b[1;32m    948\u001b[0m     \u001b[0;32melif\u001b[0m \u001b[0mself\u001b[0m\u001b[0;34m.\u001b[0m\u001b[0m_stateful_fn\u001b[0m \u001b[0;32mis\u001b[0m \u001b[0;32mnot\u001b[0m \u001b[0;32mNone\u001b[0m\u001b[0;34m:\u001b[0m\u001b[0;34m\u001b[0m\u001b[0;34m\u001b[0m\u001b[0m\n\u001b[1;32m    949\u001b[0m       \u001b[0;31m# Release the lock early so that multiple threads can perform the call\u001b[0m\u001b[0;34m\u001b[0m\u001b[0;34m\u001b[0m\u001b[0;34m\u001b[0m\u001b[0m\n",
            "\u001b[0;32m/usr/local/lib/python3.7/dist-packages/tensorflow/python/eager/function.py\u001b[0m in \u001b[0;36m__call__\u001b[0;34m(self, *args, **kwargs)\u001b[0m\n\u001b[1;32m   2955\u001b[0m        filtered_flat_args) = self._maybe_define_function(args, kwargs)\n\u001b[1;32m   2956\u001b[0m     return graph_function._call_flat(\n\u001b[0;32m-> 2957\u001b[0;31m         filtered_flat_args, captured_inputs=graph_function.captured_inputs)  # pylint: disable=protected-access\n\u001b[0m\u001b[1;32m   2958\u001b[0m \u001b[0;34m\u001b[0m\u001b[0m\n\u001b[1;32m   2959\u001b[0m   \u001b[0;34m@\u001b[0m\u001b[0mproperty\u001b[0m\u001b[0;34m\u001b[0m\u001b[0;34m\u001b[0m\u001b[0m\n",
            "\u001b[0;32m/usr/local/lib/python3.7/dist-packages/tensorflow/python/eager/function.py\u001b[0m in \u001b[0;36m_call_flat\u001b[0;34m(self, args, captured_inputs, cancellation_manager)\u001b[0m\n\u001b[1;32m   1852\u001b[0m       \u001b[0;31m# No tape is watching; skip to running the function.\u001b[0m\u001b[0;34m\u001b[0m\u001b[0;34m\u001b[0m\u001b[0;34m\u001b[0m\u001b[0m\n\u001b[1;32m   1853\u001b[0m       return self._build_call_outputs(self._inference_function.call(\n\u001b[0;32m-> 1854\u001b[0;31m           ctx, args, cancellation_manager=cancellation_manager))\n\u001b[0m\u001b[1;32m   1855\u001b[0m     forward_backward = self._select_forward_and_backward_functions(\n\u001b[1;32m   1856\u001b[0m         \u001b[0margs\u001b[0m\u001b[0;34m,\u001b[0m\u001b[0;34m\u001b[0m\u001b[0;34m\u001b[0m\u001b[0m\n",
            "\u001b[0;32m/usr/local/lib/python3.7/dist-packages/tensorflow/python/eager/function.py\u001b[0m in \u001b[0;36mcall\u001b[0;34m(self, ctx, args, cancellation_manager)\u001b[0m\n\u001b[1;32m    534\u001b[0m \u001b[0;34m\u001b[0m\u001b[0m\n\u001b[1;32m    535\u001b[0m     \u001b[0;32mfor\u001b[0m \u001b[0mi\u001b[0m\u001b[0;34m,\u001b[0m \u001b[0mfunc_graph_output\u001b[0m \u001b[0;32min\u001b[0m \u001b[0menumerate\u001b[0m\u001b[0;34m(\u001b[0m\u001b[0mself\u001b[0m\u001b[0;34m.\u001b[0m\u001b[0m_func_graph_outputs\u001b[0m\u001b[0;34m)\u001b[0m\u001b[0;34m:\u001b[0m\u001b[0;34m\u001b[0m\u001b[0;34m\u001b[0m\u001b[0m\n\u001b[0;32m--> 536\u001b[0;31m       \u001b[0mhandle_data_util\u001b[0m\u001b[0;34m.\u001b[0m\u001b[0mcopy_handle_data\u001b[0m\u001b[0;34m(\u001b[0m\u001b[0mfunc_graph_output\u001b[0m\u001b[0;34m,\u001b[0m \u001b[0moutputs\u001b[0m\u001b[0;34m[\u001b[0m\u001b[0mi\u001b[0m\u001b[0;34m]\u001b[0m\u001b[0;34m)\u001b[0m\u001b[0;34m\u001b[0m\u001b[0;34m\u001b[0m\u001b[0m\n\u001b[0m\u001b[1;32m    537\u001b[0m     \u001b[0;32mif\u001b[0m \u001b[0mexecuting_eagerly\u001b[0m\u001b[0;34m:\u001b[0m\u001b[0;34m\u001b[0m\u001b[0;34m\u001b[0m\u001b[0m\n\u001b[1;32m    538\u001b[0m       \u001b[0;32mreturn\u001b[0m \u001b[0moutputs\u001b[0m\u001b[0;34m\u001b[0m\u001b[0;34m\u001b[0m\u001b[0m\n",
            "\u001b[0;31mKeyboardInterrupt\u001b[0m: "
          ]
        }
      ],
      "source": [
        "(x_train, y_train), (x_test, y_test) = keras.datasets.mnist.load_data()\n",
        "x_train = x_train.reshape((-1, 28 * 28)).astype(\"float32\") / 255\n",
        "x_test = x_test.reshape((-1, 28 * 28)).astype(\"float32\") / 255\n",
        "x_train_full = x_train[:]\n",
        "y_train_full = y_train[:]\n",
        "num_val_samples = 10000\n",
        "x_train, x_val = x_train[:-num_val_samples], x_train[-num_val_samples:]\n",
        "y_train, y_val = y_train[:-num_val_samples], y_train[-num_val_samples:]\n",
        "callbacks = [\n",
        "    keras.callbacks.EarlyStopping(monitor=\"val_loss\", patience=5),\n",
        "]\n",
        "tuner.search(\n",
        "    x_train, y_train,\n",
        "    batch_size=128,\n",
        "    epochs=100,\n",
        "    validation_data=(x_val, y_val),\n",
        "    callbacks=callbacks,\n",
        "    verbose=2,\n",
        ")"
      ]
    },
    {
      "cell_type": "markdown",
      "metadata": {
        "id": "wjU8JmD3vgtm"
      },
      "source": [
        "####程式13.3 查詢最佳的超參數配置"
      ]
    },
    {
      "cell_type": "code",
      "execution_count": null,
      "metadata": {
        "id": "uoE6zzGJvgtm"
      },
      "outputs": [],
      "source": [
        "top_n = 4\n",
        "best_hps = tuner.get_best_hyperparameters(top_n)"
      ]
    },
    {
      "cell_type": "code",
      "execution_count": null,
      "metadata": {
        "id": "San_UCfQvgtm"
      },
      "outputs": [],
      "source": [
        "def get_best_epoch(hp):\n",
        "    model = build_model(hp)\n",
        "    callbacks=[\n",
        "        keras.callbacks.EarlyStopping(\n",
        "            monitor=\"val_loss\", mode=\"min\", patience=10)\n",
        "    ]\n",
        "    history = model.fit(\n",
        "        x_train, y_train,\n",
        "        validation_data=(x_val, y_val),\n",
        "        epochs=100,\n",
        "        batch_size=128,\n",
        "        callbacks=callbacks)\n",
        "    val_loss_per_epoch = history.history[\"val_loss\"]\n",
        "    best_epoch = val_loss_per_epoch.index(min(val_loss_per_epoch)) + 1\n",
        "    print(f\"Best epoch: {best_epoch}\")\n",
        "    return best_epoch"
      ]
    },
    {
      "cell_type": "code",
      "execution_count": null,
      "metadata": {
        "colab": {
          "base_uri": "https://localhost:8080/"
        },
        "id": "xo41T0jKvgtn",
        "outputId": "1bfbfa6c-5c17-47b4-9aa0-999b61134383"
      },
      "outputs": [
        {
          "output_type": "stream",
          "name": "stdout",
          "text": [
            "Epoch 1/100\n",
            "391/391 [==============================] - 6s 9ms/step - loss: 0.4174 - accuracy: 0.8891 - val_loss: 0.2303 - val_accuracy: 0.9374\n",
            "Epoch 2/100\n",
            "391/391 [==============================] - 3s 7ms/step - loss: 0.2109 - accuracy: 0.9400 - val_loss: 0.1713 - val_accuracy: 0.9540\n",
            "Epoch 3/100\n",
            "391/391 [==============================] - 2s 6ms/step - loss: 0.1598 - accuracy: 0.9539 - val_loss: 0.1477 - val_accuracy: 0.9593\n",
            "Epoch 4/100\n",
            "391/391 [==============================] - 2s 4ms/step - loss: 0.1311 - accuracy: 0.9620 - val_loss: 0.1370 - val_accuracy: 0.9596\n",
            "Epoch 5/100\n",
            "391/391 [==============================] - 2s 4ms/step - loss: 0.1106 - accuracy: 0.9679 - val_loss: 0.1231 - val_accuracy: 0.9655\n",
            "Epoch 6/100\n",
            "391/391 [==============================] - 2s 4ms/step - loss: 0.0961 - accuracy: 0.9721 - val_loss: 0.1145 - val_accuracy: 0.9689\n",
            "Epoch 7/100\n",
            "391/391 [==============================] - 2s 4ms/step - loss: 0.0843 - accuracy: 0.9754 - val_loss: 0.1102 - val_accuracy: 0.9681\n",
            "Epoch 8/100\n",
            "391/391 [==============================] - 2s 4ms/step - loss: 0.0753 - accuracy: 0.9781 - val_loss: 0.1060 - val_accuracy: 0.9707\n",
            "Epoch 9/100\n",
            "391/391 [==============================] - 2s 4ms/step - loss: 0.0681 - accuracy: 0.9804 - val_loss: 0.1093 - val_accuracy: 0.9673\n",
            "Epoch 10/100\n",
            "391/391 [==============================] - 2s 4ms/step - loss: 0.0620 - accuracy: 0.9819 - val_loss: 0.0994 - val_accuracy: 0.9710\n",
            "Epoch 11/100\n",
            "391/391 [==============================] - 2s 4ms/step - loss: 0.0561 - accuracy: 0.9843 - val_loss: 0.0979 - val_accuracy: 0.9732\n",
            "Epoch 12/100\n",
            "391/391 [==============================] - 2s 4ms/step - loss: 0.0509 - accuracy: 0.9855 - val_loss: 0.1058 - val_accuracy: 0.9715\n",
            "Epoch 13/100\n",
            "391/391 [==============================] - 2s 4ms/step - loss: 0.0474 - accuracy: 0.9865 - val_loss: 0.1011 - val_accuracy: 0.9722\n",
            "Epoch 14/100\n",
            "391/391 [==============================] - 2s 4ms/step - loss: 0.0430 - accuracy: 0.9881 - val_loss: 0.0964 - val_accuracy: 0.9740\n",
            "Epoch 15/100\n",
            "391/391 [==============================] - 2s 4ms/step - loss: 0.0396 - accuracy: 0.9889 - val_loss: 0.1027 - val_accuracy: 0.9713\n",
            "Epoch 16/100\n",
            "391/391 [==============================] - 2s 4ms/step - loss: 0.0363 - accuracy: 0.9902 - val_loss: 0.1011 - val_accuracy: 0.9722\n",
            "Epoch 17/100\n",
            "391/391 [==============================] - 2s 4ms/step - loss: 0.0339 - accuracy: 0.9906 - val_loss: 0.1021 - val_accuracy: 0.9731\n",
            "Epoch 18/100\n",
            "391/391 [==============================] - 2s 4ms/step - loss: 0.0312 - accuracy: 0.9913 - val_loss: 0.0976 - val_accuracy: 0.9740\n",
            "Epoch 19/100\n",
            "391/391 [==============================] - 1s 4ms/step - loss: 0.0287 - accuracy: 0.9925 - val_loss: 0.1072 - val_accuracy: 0.9721\n",
            "Epoch 20/100\n",
            "391/391 [==============================] - 2s 4ms/step - loss: 0.0264 - accuracy: 0.9930 - val_loss: 0.1043 - val_accuracy: 0.9744\n",
            "Epoch 21/100\n",
            "391/391 [==============================] - 2s 4ms/step - loss: 0.0243 - accuracy: 0.9932 - val_loss: 0.1015 - val_accuracy: 0.9743\n",
            "Epoch 22/100\n",
            "391/391 [==============================] - 2s 4ms/step - loss: 0.0222 - accuracy: 0.9941 - val_loss: 0.1032 - val_accuracy: 0.9744\n",
            "Epoch 23/100\n",
            "391/391 [==============================] - 2s 4ms/step - loss: 0.0209 - accuracy: 0.9949 - val_loss: 0.1065 - val_accuracy: 0.9730\n",
            "Epoch 24/100\n",
            "391/391 [==============================] - 2s 4ms/step - loss: 0.0193 - accuracy: 0.9951 - val_loss: 0.1060 - val_accuracy: 0.9744\n",
            "Best epoch: 14\n",
            "Epoch 1/16\n",
            "469/469 [==============================] - 2s 4ms/step - loss: 0.3917 - accuracy: 0.8939\n",
            "Epoch 2/16\n",
            "469/469 [==============================] - 2s 4ms/step - loss: 0.2065 - accuracy: 0.9403\n",
            "Epoch 3/16\n",
            "469/469 [==============================] - 2s 4ms/step - loss: 0.1617 - accuracy: 0.9535\n",
            "Epoch 4/16\n",
            "469/469 [==============================] - 2s 4ms/step - loss: 0.1344 - accuracy: 0.9617\n",
            "Epoch 5/16\n",
            "469/469 [==============================] - 2s 4ms/step - loss: 0.1158 - accuracy: 0.9664\n",
            "Epoch 6/16\n",
            "469/469 [==============================] - 2s 4ms/step - loss: 0.1014 - accuracy: 0.9702\n",
            "Epoch 7/16\n",
            "469/469 [==============================] - 2s 4ms/step - loss: 0.0901 - accuracy: 0.9735\n",
            "Epoch 8/16\n",
            "469/469 [==============================] - 2s 4ms/step - loss: 0.0817 - accuracy: 0.9761\n",
            "Epoch 9/16\n",
            "469/469 [==============================] - 2s 4ms/step - loss: 0.0740 - accuracy: 0.9779\n",
            "Epoch 10/16\n",
            "469/469 [==============================] - 2s 4ms/step - loss: 0.0670 - accuracy: 0.9802\n",
            "Epoch 11/16\n",
            "469/469 [==============================] - 2s 4ms/step - loss: 0.0613 - accuracy: 0.9822\n",
            "Epoch 12/16\n",
            "469/469 [==============================] - 2s 4ms/step - loss: 0.0564 - accuracy: 0.9835\n",
            "Epoch 13/16\n",
            "469/469 [==============================] - 2s 4ms/step - loss: 0.0518 - accuracy: 0.9848\n",
            "Epoch 14/16\n",
            "469/469 [==============================] - 2s 4ms/step - loss: 0.0480 - accuracy: 0.9862\n",
            "Epoch 15/16\n",
            "469/469 [==============================] - 2s 4ms/step - loss: 0.0441 - accuracy: 0.9876\n",
            "Epoch 16/16\n",
            "469/469 [==============================] - 2s 4ms/step - loss: 0.0404 - accuracy: 0.9882\n",
            "313/313 [==============================] - 1s 2ms/step - loss: 0.0958 - accuracy: 0.9740\n",
            "Epoch 1/100\n",
            "391/391 [==============================] - 2s 4ms/step - loss: 0.4734 - accuracy: 0.8700 - val_loss: 0.2414 - val_accuracy: 0.9332\n",
            "Epoch 2/100\n",
            "391/391 [==============================] - 2s 4ms/step - loss: 0.2294 - accuracy: 0.9364 - val_loss: 0.1871 - val_accuracy: 0.9494\n",
            "Epoch 3/100\n",
            "391/391 [==============================] - 2s 4ms/step - loss: 0.1762 - accuracy: 0.9507 - val_loss: 0.1561 - val_accuracy: 0.9570\n",
            "Epoch 4/100\n",
            "391/391 [==============================] - 2s 4ms/step - loss: 0.1437 - accuracy: 0.9597 - val_loss: 0.1349 - val_accuracy: 0.9626\n",
            "Epoch 5/100\n",
            "391/391 [==============================] - 1s 4ms/step - loss: 0.1204 - accuracy: 0.9662 - val_loss: 0.1201 - val_accuracy: 0.9662\n",
            "Epoch 6/100\n",
            "391/391 [==============================] - 2s 4ms/step - loss: 0.1036 - accuracy: 0.9713 - val_loss: 0.1117 - val_accuracy: 0.9674\n",
            "Epoch 7/100\n",
            "391/391 [==============================] - 2s 4ms/step - loss: 0.0905 - accuracy: 0.9746 - val_loss: 0.1073 - val_accuracy: 0.9688\n",
            "Epoch 8/100\n",
            "391/391 [==============================] - 2s 4ms/step - loss: 0.0794 - accuracy: 0.9779 - val_loss: 0.0984 - val_accuracy: 0.9716\n",
            "Epoch 9/100\n",
            "391/391 [==============================] - 2s 4ms/step - loss: 0.0711 - accuracy: 0.9801 - val_loss: 0.0976 - val_accuracy: 0.9722\n",
            "Epoch 10/100\n",
            "391/391 [==============================] - 2s 4ms/step - loss: 0.0641 - accuracy: 0.9816 - val_loss: 0.0953 - val_accuracy: 0.9725\n",
            "Epoch 11/100\n",
            "391/391 [==============================] - 2s 4ms/step - loss: 0.0569 - accuracy: 0.9842 - val_loss: 0.0931 - val_accuracy: 0.9726\n",
            "Epoch 12/100\n",
            "391/391 [==============================] - 2s 4ms/step - loss: 0.0518 - accuracy: 0.9851 - val_loss: 0.0918 - val_accuracy: 0.9729\n",
            "Epoch 13/100\n",
            "391/391 [==============================] - 1s 4ms/step - loss: 0.0473 - accuracy: 0.9867 - val_loss: 0.0908 - val_accuracy: 0.9751\n",
            "Epoch 14/100\n",
            "391/391 [==============================] - 1s 4ms/step - loss: 0.0431 - accuracy: 0.9879 - val_loss: 0.0914 - val_accuracy: 0.9740\n",
            "Epoch 15/100\n",
            "391/391 [==============================] - 2s 4ms/step - loss: 0.0384 - accuracy: 0.9899 - val_loss: 0.0930 - val_accuracy: 0.9738\n",
            "Epoch 16/100\n",
            "391/391 [==============================] - 2s 4ms/step - loss: 0.0348 - accuracy: 0.9907 - val_loss: 0.0911 - val_accuracy: 0.9743\n",
            "Epoch 17/100\n",
            "391/391 [==============================] - 2s 4ms/step - loss: 0.0321 - accuracy: 0.9920 - val_loss: 0.0923 - val_accuracy: 0.9734\n",
            "Epoch 18/100\n",
            "391/391 [==============================] - 1s 4ms/step - loss: 0.0289 - accuracy: 0.9928 - val_loss: 0.0894 - val_accuracy: 0.9733\n",
            "Epoch 19/100\n",
            "391/391 [==============================] - 2s 4ms/step - loss: 0.0264 - accuracy: 0.9933 - val_loss: 0.0988 - val_accuracy: 0.9724\n",
            "Epoch 20/100\n",
            "391/391 [==============================] - 1s 4ms/step - loss: 0.0245 - accuracy: 0.9940 - val_loss: 0.0912 - val_accuracy: 0.9747\n",
            "Epoch 21/100\n",
            "391/391 [==============================] - 2s 4ms/step - loss: 0.0211 - accuracy: 0.9954 - val_loss: 0.0931 - val_accuracy: 0.9746\n",
            "Epoch 22/100\n",
            "391/391 [==============================] - 2s 4ms/step - loss: 0.0192 - accuracy: 0.9958 - val_loss: 0.0974 - val_accuracy: 0.9745\n",
            "Epoch 23/100\n",
            "391/391 [==============================] - 2s 4ms/step - loss: 0.0174 - accuracy: 0.9965 - val_loss: 0.0974 - val_accuracy: 0.9737\n",
            "Epoch 24/100\n",
            "391/391 [==============================] - 2s 4ms/step - loss: 0.0167 - accuracy: 0.9965 - val_loss: 0.1008 - val_accuracy: 0.9743\n",
            "Epoch 25/100\n",
            "391/391 [==============================] - 1s 4ms/step - loss: 0.0147 - accuracy: 0.9969 - val_loss: 0.0966 - val_accuracy: 0.9739\n",
            "Epoch 26/100\n",
            "391/391 [==============================] - 1s 4ms/step - loss: 0.0130 - accuracy: 0.9975 - val_loss: 0.0978 - val_accuracy: 0.9756\n",
            "Epoch 27/100\n",
            "391/391 [==============================] - 2s 4ms/step - loss: 0.0113 - accuracy: 0.9979 - val_loss: 0.1008 - val_accuracy: 0.9755\n",
            "Epoch 28/100\n",
            "391/391 [==============================] - 2s 4ms/step - loss: 0.0104 - accuracy: 0.9984 - val_loss: 0.1016 - val_accuracy: 0.9754\n",
            "Best epoch: 18\n",
            "Epoch 1/21\n",
            "469/469 [==============================] - 2s 4ms/step - loss: 0.4123 - accuracy: 0.8884\n",
            "Epoch 2/21\n",
            "469/469 [==============================] - 2s 3ms/step - loss: 0.2012 - accuracy: 0.9427\n",
            "Epoch 3/21\n",
            "469/469 [==============================] - 2s 3ms/step - loss: 0.1539 - accuracy: 0.9566\n",
            "Epoch 4/21\n",
            "469/469 [==============================] - 2s 3ms/step - loss: 0.1252 - accuracy: 0.9636\n",
            "Epoch 5/21\n",
            "469/469 [==============================] - 2s 3ms/step - loss: 0.1054 - accuracy: 0.9697\n",
            "Epoch 6/21\n",
            "469/469 [==============================] - 2s 3ms/step - loss: 0.0904 - accuracy: 0.9738\n",
            "Epoch 7/21\n",
            "469/469 [==============================] - 2s 3ms/step - loss: 0.0784 - accuracy: 0.9775\n",
            "Epoch 8/21\n",
            "469/469 [==============================] - 2s 3ms/step - loss: 0.0690 - accuracy: 0.9799\n",
            "Epoch 9/21\n",
            "469/469 [==============================] - 2s 3ms/step - loss: 0.0613 - accuracy: 0.9822\n",
            "Epoch 10/21\n",
            "469/469 [==============================] - 2s 3ms/step - loss: 0.0546 - accuracy: 0.9839\n",
            "Epoch 11/21\n",
            "469/469 [==============================] - 2s 3ms/step - loss: 0.0491 - accuracy: 0.9856\n",
            "Epoch 12/21\n",
            "469/469 [==============================] - 2s 4ms/step - loss: 0.0440 - accuracy: 0.9876\n",
            "Epoch 13/21\n",
            "469/469 [==============================] - 2s 3ms/step - loss: 0.0398 - accuracy: 0.9887\n",
            "Epoch 14/21\n",
            "469/469 [==============================] - 2s 3ms/step - loss: 0.0357 - accuracy: 0.9901\n",
            "Epoch 15/21\n",
            "469/469 [==============================] - 2s 3ms/step - loss: 0.0321 - accuracy: 0.9912\n",
            "Epoch 16/21\n",
            "469/469 [==============================] - 2s 3ms/step - loss: 0.0296 - accuracy: 0.9917\n",
            "Epoch 17/21\n",
            "469/469 [==============================] - 2s 3ms/step - loss: 0.0265 - accuracy: 0.9933\n",
            "Epoch 18/21\n",
            "469/469 [==============================] - 2s 3ms/step - loss: 0.0243 - accuracy: 0.9931\n",
            "Epoch 19/21\n",
            "469/469 [==============================] - 2s 4ms/step - loss: 0.0219 - accuracy: 0.9944\n",
            "Epoch 20/21\n",
            "469/469 [==============================] - 2s 4ms/step - loss: 0.0200 - accuracy: 0.9948\n",
            "Epoch 21/21\n",
            "469/469 [==============================] - 2s 3ms/step - loss: 0.0178 - accuracy: 0.9960\n",
            "313/313 [==============================] - 1s 2ms/step - loss: 0.0842 - accuracy: 0.9758\n",
            "Epoch 1/100\n",
            "391/391 [==============================] - 2s 4ms/step - loss: 0.4725 - accuracy: 0.8711 - val_loss: 0.2413 - val_accuracy: 0.9337\n",
            "Epoch 2/100\n",
            "391/391 [==============================] - 1s 4ms/step - loss: 0.2309 - accuracy: 0.9345 - val_loss: 0.1932 - val_accuracy: 0.9457\n",
            "Epoch 3/100\n",
            "391/391 [==============================] - 2s 4ms/step - loss: 0.1804 - accuracy: 0.9476 - val_loss: 0.1590 - val_accuracy: 0.9568\n",
            "Epoch 4/100\n",
            "391/391 [==============================] - 2s 4ms/step - loss: 0.1469 - accuracy: 0.9576 - val_loss: 0.1443 - val_accuracy: 0.9613\n",
            "Epoch 5/100\n",
            "391/391 [==============================] - 1s 4ms/step - loss: 0.1230 - accuracy: 0.9645 - val_loss: 0.1282 - val_accuracy: 0.9645\n",
            "Epoch 6/100\n",
            "391/391 [==============================] - 1s 4ms/step - loss: 0.1065 - accuracy: 0.9686 - val_loss: 0.1184 - val_accuracy: 0.9662\n",
            "Epoch 7/100\n",
            "391/391 [==============================] - 2s 4ms/step - loss: 0.0935 - accuracy: 0.9728 - val_loss: 0.1096 - val_accuracy: 0.9683\n",
            "Epoch 8/100\n",
            "391/391 [==============================] - 2s 4ms/step - loss: 0.0834 - accuracy: 0.9754 - val_loss: 0.1079 - val_accuracy: 0.9692\n",
            "Epoch 9/100\n",
            "391/391 [==============================] - 2s 4ms/step - loss: 0.0734 - accuracy: 0.9784 - val_loss: 0.1007 - val_accuracy: 0.9704\n",
            "Epoch 10/100\n",
            "391/391 [==============================] - 2s 4ms/step - loss: 0.0660 - accuracy: 0.9814 - val_loss: 0.0958 - val_accuracy: 0.9718\n",
            "Epoch 11/100\n",
            "391/391 [==============================] - 2s 4ms/step - loss: 0.0599 - accuracy: 0.9825 - val_loss: 0.0955 - val_accuracy: 0.9706\n",
            "Epoch 12/100\n",
            "391/391 [==============================] - 2s 4ms/step - loss: 0.0543 - accuracy: 0.9845 - val_loss: 0.0951 - val_accuracy: 0.9710\n",
            "Epoch 13/100\n",
            "391/391 [==============================] - 1s 4ms/step - loss: 0.0495 - accuracy: 0.9857 - val_loss: 0.0936 - val_accuracy: 0.9712\n",
            "Epoch 14/100\n",
            "391/391 [==============================] - 1s 4ms/step - loss: 0.0442 - accuracy: 0.9874 - val_loss: 0.0901 - val_accuracy: 0.9733\n",
            "Epoch 15/100\n",
            "391/391 [==============================] - 1s 4ms/step - loss: 0.0406 - accuracy: 0.9891 - val_loss: 0.0911 - val_accuracy: 0.9733\n",
            "Epoch 16/100\n",
            "391/391 [==============================] - 1s 4ms/step - loss: 0.0377 - accuracy: 0.9896 - val_loss: 0.0936 - val_accuracy: 0.9739\n",
            "Epoch 17/100\n",
            "391/391 [==============================] - 2s 4ms/step - loss: 0.0328 - accuracy: 0.9919 - val_loss: 0.0907 - val_accuracy: 0.9731\n",
            "Epoch 18/100\n",
            "391/391 [==============================] - 2s 4ms/step - loss: 0.0311 - accuracy: 0.9918 - val_loss: 0.0920 - val_accuracy: 0.9734\n",
            "Epoch 19/100\n",
            "391/391 [==============================] - 1s 4ms/step - loss: 0.0280 - accuracy: 0.9926 - val_loss: 0.0917 - val_accuracy: 0.9740\n",
            "Epoch 20/100\n",
            "391/391 [==============================] - 1s 4ms/step - loss: 0.0260 - accuracy: 0.9932 - val_loss: 0.0919 - val_accuracy: 0.9745\n",
            "Epoch 21/100\n",
            "391/391 [==============================] - 1s 4ms/step - loss: 0.0226 - accuracy: 0.9947 - val_loss: 0.0953 - val_accuracy: 0.9739\n",
            "Epoch 22/100\n",
            "391/391 [==============================] - 2s 4ms/step - loss: 0.0207 - accuracy: 0.9952 - val_loss: 0.0892 - val_accuracy: 0.9760\n",
            "Epoch 23/100\n",
            "391/391 [==============================] - 2s 4ms/step - loss: 0.0200 - accuracy: 0.9952 - val_loss: 0.0911 - val_accuracy: 0.9746\n",
            "Epoch 24/100\n",
            "391/391 [==============================] - 2s 4ms/step - loss: 0.0181 - accuracy: 0.9959 - val_loss: 0.0983 - val_accuracy: 0.9744\n",
            "Epoch 25/100\n",
            "391/391 [==============================] - 2s 4ms/step - loss: 0.0163 - accuracy: 0.9965 - val_loss: 0.0971 - val_accuracy: 0.9743\n",
            "Epoch 26/100\n",
            "391/391 [==============================] - 2s 4ms/step - loss: 0.0148 - accuracy: 0.9972 - val_loss: 0.1016 - val_accuracy: 0.9743\n",
            "Epoch 27/100\n",
            "391/391 [==============================] - 2s 4ms/step - loss: 0.0139 - accuracy: 0.9973 - val_loss: 0.0966 - val_accuracy: 0.9744\n",
            "Epoch 28/100\n",
            "391/391 [==============================] - 2s 4ms/step - loss: 0.0116 - accuracy: 0.9981 - val_loss: 0.0955 - val_accuracy: 0.9758\n",
            "Epoch 29/100\n",
            "391/391 [==============================] - 3s 8ms/step - loss: 0.0109 - accuracy: 0.9983 - val_loss: 0.1000 - val_accuracy: 0.9748\n",
            "Epoch 30/100\n",
            "391/391 [==============================] - 3s 8ms/step - loss: 0.0102 - accuracy: 0.9983 - val_loss: 0.1032 - val_accuracy: 0.9749\n",
            "Epoch 31/100\n",
            "391/391 [==============================] - 3s 8ms/step - loss: 0.0093 - accuracy: 0.9985 - val_loss: 0.1021 - val_accuracy: 0.9743\n",
            "Epoch 32/100\n",
            "391/391 [==============================] - 3s 8ms/step - loss: 0.0092 - accuracy: 0.9985 - val_loss: 0.1105 - val_accuracy: 0.9735\n",
            "Best epoch: 22\n",
            "Epoch 1/26\n",
            "469/469 [==============================] - 2s 3ms/step - loss: 0.4224 - accuracy: 0.8861\n",
            "Epoch 2/26\n",
            "469/469 [==============================] - 2s 4ms/step - loss: 0.2081 - accuracy: 0.9419\n",
            "Epoch 3/26\n",
            "469/469 [==============================] - 2s 3ms/step - loss: 0.1628 - accuracy: 0.9535\n",
            "Epoch 4/26\n",
            "469/469 [==============================] - 2s 3ms/step - loss: 0.1341 - accuracy: 0.9619\n",
            "Epoch 5/26\n",
            "469/469 [==============================] - 2s 3ms/step - loss: 0.1145 - accuracy: 0.9670\n",
            "Epoch 6/26\n",
            "469/469 [==============================] - 2s 3ms/step - loss: 0.1004 - accuracy: 0.9707\n",
            "Epoch 7/26\n",
            "469/469 [==============================] - 2s 3ms/step - loss: 0.0888 - accuracy: 0.9744\n",
            "Epoch 8/26\n",
            "469/469 [==============================] - 2s 4ms/step - loss: 0.0799 - accuracy: 0.9766\n",
            "Epoch 9/26\n",
            "469/469 [==============================] - 2s 4ms/step - loss: 0.0711 - accuracy: 0.9794\n",
            "Epoch 10/26\n",
            "469/469 [==============================] - 2s 4ms/step - loss: 0.0636 - accuracy: 0.9816\n",
            "Epoch 11/26\n",
            "469/469 [==============================] - 2s 3ms/step - loss: 0.0580 - accuracy: 0.9836\n",
            "Epoch 12/26\n",
            "469/469 [==============================] - 2s 3ms/step - loss: 0.0532 - accuracy: 0.9848\n",
            "Epoch 13/26\n",
            "469/469 [==============================] - 2s 3ms/step - loss: 0.0488 - accuracy: 0.9859\n",
            "Epoch 14/26\n",
            "469/469 [==============================] - 2s 4ms/step - loss: 0.0443 - accuracy: 0.9875\n",
            "Epoch 15/26\n",
            "469/469 [==============================] - 2s 4ms/step - loss: 0.0407 - accuracy: 0.9885\n",
            "Epoch 16/26\n",
            "469/469 [==============================] - 2s 3ms/step - loss: 0.0374 - accuracy: 0.9894\n",
            "Epoch 17/26\n",
            "469/469 [==============================] - 2s 3ms/step - loss: 0.0337 - accuracy: 0.9905\n",
            "Epoch 18/26\n",
            "469/469 [==============================] - 2s 3ms/step - loss: 0.0303 - accuracy: 0.9916\n",
            "Epoch 19/26\n",
            "469/469 [==============================] - 2s 3ms/step - loss: 0.0282 - accuracy: 0.9924\n",
            "Epoch 20/26\n",
            "469/469 [==============================] - 2s 4ms/step - loss: 0.0262 - accuracy: 0.9930\n",
            "Epoch 21/26\n",
            "469/469 [==============================] - 2s 4ms/step - loss: 0.0236 - accuracy: 0.9942\n",
            "Epoch 22/26\n",
            "469/469 [==============================] - 2s 3ms/step - loss: 0.0224 - accuracy: 0.9940\n",
            "Epoch 23/26\n",
            "469/469 [==============================] - 2s 3ms/step - loss: 0.0197 - accuracy: 0.9954\n",
            "Epoch 24/26\n",
            "469/469 [==============================] - 2s 3ms/step - loss: 0.0183 - accuracy: 0.9956\n",
            "Epoch 25/26\n",
            "469/469 [==============================] - 2s 3ms/step - loss: 0.0167 - accuracy: 0.9960\n",
            "Epoch 26/26\n",
            "469/469 [==============================] - 2s 3ms/step - loss: 0.0150 - accuracy: 0.9969\n",
            "313/313 [==============================] - 1s 2ms/step - loss: 0.1007 - accuracy: 0.9737\n",
            "Epoch 1/100\n",
            "391/391 [==============================] - 2s 5ms/step - loss: 0.4244 - accuracy: 0.8852 - val_loss: 0.2331 - val_accuracy: 0.9352\n",
            "Epoch 2/100\n",
            "391/391 [==============================] - 2s 4ms/step - loss: 0.2220 - accuracy: 0.9374 - val_loss: 0.1902 - val_accuracy: 0.9466\n",
            "Epoch 3/100\n",
            "391/391 [==============================] - 2s 5ms/step - loss: 0.1702 - accuracy: 0.9507 - val_loss: 0.1603 - val_accuracy: 0.9540\n",
            "Epoch 4/100\n",
            "391/391 [==============================] - 2s 6ms/step - loss: 0.1376 - accuracy: 0.9602 - val_loss: 0.1344 - val_accuracy: 0.9617\n",
            "Epoch 5/100\n",
            "391/391 [==============================] - 2s 4ms/step - loss: 0.1155 - accuracy: 0.9664 - val_loss: 0.1157 - val_accuracy: 0.9673\n",
            "Epoch 6/100\n",
            "391/391 [==============================] - 2s 4ms/step - loss: 0.0992 - accuracy: 0.9718 - val_loss: 0.1091 - val_accuracy: 0.9675\n",
            "Epoch 7/100\n",
            "391/391 [==============================] - 2s 4ms/step - loss: 0.0868 - accuracy: 0.9747 - val_loss: 0.1042 - val_accuracy: 0.9697\n",
            "Epoch 8/100\n",
            "391/391 [==============================] - 2s 4ms/step - loss: 0.0763 - accuracy: 0.9776 - val_loss: 0.1019 - val_accuracy: 0.9696\n",
            "Epoch 9/100\n",
            "391/391 [==============================] - 2s 4ms/step - loss: 0.0688 - accuracy: 0.9801 - val_loss: 0.0937 - val_accuracy: 0.9716\n",
            "Epoch 10/100\n",
            "391/391 [==============================] - 2s 4ms/step - loss: 0.0622 - accuracy: 0.9815 - val_loss: 0.0943 - val_accuracy: 0.9727\n",
            "Epoch 11/100\n",
            "391/391 [==============================] - 2s 5ms/step - loss: 0.0562 - accuracy: 0.9841 - val_loss: 0.0914 - val_accuracy: 0.9729\n",
            "Epoch 12/100\n",
            "391/391 [==============================] - 2s 5ms/step - loss: 0.0514 - accuracy: 0.9855 - val_loss: 0.0914 - val_accuracy: 0.9737\n",
            "Epoch 13/100\n",
            "391/391 [==============================] - 2s 4ms/step - loss: 0.0465 - accuracy: 0.9871 - val_loss: 0.0928 - val_accuracy: 0.9711\n",
            "Epoch 14/100\n",
            "391/391 [==============================] - 2s 4ms/step - loss: 0.0428 - accuracy: 0.9883 - val_loss: 0.0922 - val_accuracy: 0.9729\n",
            "Epoch 15/100\n",
            "391/391 [==============================] - 2s 4ms/step - loss: 0.0395 - accuracy: 0.9895 - val_loss: 0.0944 - val_accuracy: 0.9734\n",
            "Epoch 16/100\n",
            "391/391 [==============================] - 2s 4ms/step - loss: 0.0360 - accuracy: 0.9902 - val_loss: 0.0905 - val_accuracy: 0.9756\n",
            "Epoch 17/100\n",
            "391/391 [==============================] - 2s 4ms/step - loss: 0.0329 - accuracy: 0.9910 - val_loss: 0.0981 - val_accuracy: 0.9727\n",
            "Epoch 18/100\n",
            "391/391 [==============================] - 2s 4ms/step - loss: 0.0307 - accuracy: 0.9917 - val_loss: 0.0912 - val_accuracy: 0.9751\n",
            "Epoch 19/100\n",
            "391/391 [==============================] - 2s 4ms/step - loss: 0.0278 - accuracy: 0.9927 - val_loss: 0.0937 - val_accuracy: 0.9751\n",
            "Epoch 20/100\n",
            "391/391 [==============================] - 2s 4ms/step - loss: 0.0255 - accuracy: 0.9932 - val_loss: 0.0922 - val_accuracy: 0.9747\n",
            "Epoch 21/100\n",
            "391/391 [==============================] - 2s 4ms/step - loss: 0.0234 - accuracy: 0.9942 - val_loss: 0.0947 - val_accuracy: 0.9748\n",
            "Epoch 22/100\n",
            "391/391 [==============================] - 2s 4ms/step - loss: 0.0215 - accuracy: 0.9948 - val_loss: 0.0944 - val_accuracy: 0.9740\n",
            "Epoch 23/100\n",
            "391/391 [==============================] - 2s 4ms/step - loss: 0.0198 - accuracy: 0.9947 - val_loss: 0.0944 - val_accuracy: 0.9754\n",
            "Epoch 24/100\n",
            "391/391 [==============================] - 2s 4ms/step - loss: 0.0182 - accuracy: 0.9953 - val_loss: 0.1020 - val_accuracy: 0.9739\n",
            "Epoch 25/100\n",
            "391/391 [==============================] - 2s 4ms/step - loss: 0.0167 - accuracy: 0.9957 - val_loss: 0.1068 - val_accuracy: 0.9731\n",
            "Epoch 26/100\n",
            "391/391 [==============================] - 2s 4ms/step - loss: 0.0152 - accuracy: 0.9963 - val_loss: 0.1007 - val_accuracy: 0.9735\n",
            "Best epoch: 16\n",
            "Epoch 1/19\n",
            "469/469 [==============================] - 2s 4ms/step - loss: 0.3850 - accuracy: 0.8970\n",
            "Epoch 2/19\n",
            "469/469 [==============================] - 2s 4ms/step - loss: 0.1935 - accuracy: 0.9444\n",
            "Epoch 3/19\n",
            "469/469 [==============================] - 2s 4ms/step - loss: 0.1478 - accuracy: 0.9577\n",
            "Epoch 4/19\n",
            "469/469 [==============================] - 2s 4ms/step - loss: 0.1208 - accuracy: 0.9650\n",
            "Epoch 5/19\n",
            "469/469 [==============================] - 2s 4ms/step - loss: 0.1026 - accuracy: 0.9705\n",
            "Epoch 6/19\n",
            "469/469 [==============================] - 2s 4ms/step - loss: 0.0898 - accuracy: 0.9739\n",
            "Epoch 7/19\n",
            "469/469 [==============================] - 2s 4ms/step - loss: 0.0793 - accuracy: 0.9773\n",
            "Epoch 8/19\n",
            "469/469 [==============================] - 2s 4ms/step - loss: 0.0718 - accuracy: 0.9797\n",
            "Epoch 9/19\n",
            "469/469 [==============================] - 2s 4ms/step - loss: 0.0643 - accuracy: 0.9814\n",
            "Epoch 10/19\n",
            "469/469 [==============================] - 2s 4ms/step - loss: 0.0590 - accuracy: 0.9826\n",
            "Epoch 11/19\n",
            "469/469 [==============================] - 2s 4ms/step - loss: 0.0532 - accuracy: 0.9846\n",
            "Epoch 12/19\n",
            "469/469 [==============================] - 2s 4ms/step - loss: 0.0495 - accuracy: 0.9853\n",
            "Epoch 13/19\n",
            "469/469 [==============================] - 2s 4ms/step - loss: 0.0458 - accuracy: 0.9871\n",
            "Epoch 14/19\n",
            "469/469 [==============================] - 2s 4ms/step - loss: 0.0422 - accuracy: 0.9880\n",
            "Epoch 15/19\n",
            "469/469 [==============================] - 2s 4ms/step - loss: 0.0395 - accuracy: 0.9889\n",
            "Epoch 16/19\n",
            "469/469 [==============================] - 2s 4ms/step - loss: 0.0362 - accuracy: 0.9895\n",
            "Epoch 17/19\n",
            "469/469 [==============================] - 2s 4ms/step - loss: 0.0335 - accuracy: 0.9902\n",
            "Epoch 18/19\n",
            "469/469 [==============================] - 2s 4ms/step - loss: 0.0307 - accuracy: 0.9916\n",
            "Epoch 19/19\n",
            "469/469 [==============================] - 2s 4ms/step - loss: 0.0290 - accuracy: 0.9919\n",
            "313/313 [==============================] - 1s 2ms/step - loss: 0.0894 - accuracy: 0.9751\n"
          ]
        }
      ],
      "source": [
        "def get_best_trained_model(hp):\n",
        "    best_epoch = get_best_epoch(hp)\n",
        "    model = build_model(hp)\n",
        "    model.fit(\n",
        "        x_train_full, y_train_full,\n",
        "        batch_size=128, epochs=int(best_epoch * 1.2))\n",
        "    return model\n",
        "\n",
        "best_models = []\n",
        "for hp in best_hps:\n",
        "    model = get_best_trained_model(hp)\n",
        "    model.evaluate(x_test, y_test)\n",
        "    best_models.append(model)"
      ]
    },
    {
      "cell_type": "code",
      "execution_count": null,
      "metadata": {
        "id": "sO6OZVsWvgto"
      },
      "outputs": [],
      "source": [
        "best_models = tuner.get_best_models(top_n)"
      ]
    },
    {
      "cell_type": "markdown",
      "metadata": {
        "id": "2c61S3wsvgtp"
      },
      "source": [
        "##13-2 擴大模型的訓練規模"
      ]
    },
    {
      "cell_type": "markdown",
      "metadata": {
        "id": "3OxHcc00vgtp"
      },
      "source": [
        "###13-2-1 使用混合精度加速GPU上的訓練"
      ]
    },
    {
      "cell_type": "code",
      "execution_count": null,
      "metadata": {
        "id": "FJXkzGyNvgtq"
      },
      "outputs": [],
      "source": [
        "import tensorflow as tf\n",
        "import numpy as np\n",
        "np_array = np.zeros((2, 2))\n",
        "tf_tensor = tf.convert_to_tensor(np_array)\n",
        "tf_tensor.dtype"
      ]
    },
    {
      "cell_type": "code",
      "execution_count": null,
      "metadata": {
        "id": "nZVWSvhlvgtq",
        "colab": {
          "base_uri": "https://localhost:8080/"
        },
        "outputId": "aace93e3-086d-49ea-c1d5-c308aa427eb9"
      },
      "outputs": [
        {
          "output_type": "execute_result",
          "data": {
            "text/plain": [
              "tf.float32"
            ]
          },
          "metadata": {},
          "execution_count": 13
        }
      ],
      "source": [
        "np_array = np.zeros((2, 2))\n",
        "tf_tensor = tf.convert_to_tensor(np_array, dtype=\"float32\")\n",
        "tf_tensor.dtype"
      ]
    },
    {
      "cell_type": "code",
      "execution_count": null,
      "metadata": {
        "id": "9oW2K_cgvgtq",
        "colab": {
          "base_uri": "https://localhost:8080/"
        },
        "outputId": "0efa6378-c23f-4b33-e068-456020ffcd64"
      },
      "outputs": [
        {
          "output_type": "stream",
          "name": "stdout",
          "text": [
            "WARNING:tensorflow:Mixed precision compatibility check (mixed_float16): WARNING\n",
            "The dtype policy mixed_float16 may run slowly because this machine does not have a GPU. Only Nvidia GPUs with compute capability of at least 7.0 run quickly with mixed_float16.\n",
            "If you will use compatible GPU(s) not attached to this host, e.g. by running a multi-worker model, you can ignore this warning. This message will only be logged once\n"
          ]
        }
      ],
      "source": [
        "from tensorflow import keras\n",
        "keras.mixed_precision.set_global_policy(\"mixed_float16\")"
      ]
    },
    {
      "cell_type": "markdown",
      "metadata": {
        "id": "NIqWK062vgtr"
      },
      "source": [
        "###13-2-3 在TPU上進行訓練"
      ]
    },
    {
      "cell_type": "code",
      "source": [
        "import tensorflow as tf \n",
        "tpu = tf.distribute.cluster_resolver.TPUClusterResolver.connect()\n",
        "print(\"Device:\", tpu.master())"
      ],
      "metadata": {
        "id": "PIH1Auwzygih",
        "colab": {
          "base_uri": "https://localhost:8080/"
        },
        "outputId": "fa8b12c3-fde4-415f-baed-6d2a7b38d14d"
      },
      "execution_count": null,
      "outputs": [
        {
          "output_type": "stream",
          "name": "stdout",
          "text": [
            "INFO:tensorflow:Deallocate tpu buffers before initializing tpu system.\n"
          ]
        },
        {
          "output_type": "stream",
          "name": "stderr",
          "text": [
            "INFO:tensorflow:Deallocate tpu buffers before initializing tpu system.\n"
          ]
        },
        {
          "output_type": "stream",
          "name": "stdout",
          "text": [
            "INFO:tensorflow:Initializing the TPU system: grpc://10.3.51.154:8470\n"
          ]
        },
        {
          "output_type": "stream",
          "name": "stderr",
          "text": [
            "INFO:tensorflow:Initializing the TPU system: grpc://10.3.51.154:8470\n"
          ]
        },
        {
          "output_type": "stream",
          "name": "stdout",
          "text": [
            "INFO:tensorflow:Finished initializing TPU system.\n"
          ]
        },
        {
          "output_type": "stream",
          "name": "stderr",
          "text": [
            "INFO:tensorflow:Finished initializing TPU system.\n"
          ]
        },
        {
          "output_type": "stream",
          "name": "stdout",
          "text": [
            "Device: grpc://10.3.51.154:8470\n"
          ]
        }
      ]
    },
    {
      "cell_type": "markdown",
      "source": [
        "####程式 13.4 在TPUStrategy區塊中建立模型"
      ],
      "metadata": {
        "id": "hrIIcRBiy1Us"
      }
    },
    {
      "cell_type": "code",
      "source": [
        "keras.mixed_precision.set_global_policy(\"float32\")\n",
        "\n",
        "from tensorflow import keras\n",
        "from tensorflow.keras import layers\n",
        "\n",
        "strategy = tf.distribute.TPUStrategy(tpu)\n",
        "print(f\"Number of replicas:{strategy.num_replicas_in_sync}\")\n",
        "\n",
        "def build_model(input_size):\n",
        "    inputs = keras.Input((input_size, input_size, 3))\n",
        "    x = keras.applications.resnet.preprocess_input(inputs)\n",
        "    x = keras.applications.resnet.ResNet50(\n",
        "        weights=None, include_top=False, pooling=\"max\")(x)\n",
        "    outputs = layers.Dense(10, activation=\"softmax\")(x)\n",
        "    model = keras.Model(inputs, outputs)\n",
        "    model.compile(optimizer='rmsprop',\n",
        "           loss=\"sparse_categorical_crossentropy\",\n",
        "           metrics=[\"accuracy\"])\n",
        "    return model\n",
        "\n",
        "with strategy.scope():\n",
        "    model = build_model(input_size=32)"
      ],
      "metadata": {
        "id": "zX_4zmGoy_VF"
      },
      "execution_count": null,
      "outputs": []
    },
    {
      "cell_type": "code",
      "source": [
        "(x_train,y_train), (x_test,y_test) = keras.datasets.cifar10.load_data()\n",
        "model.fit(x_train, y_train, batch_size=1024)"
      ],
      "metadata": {
        "id": "tqp2eRRg1QMV",
        "colab": {
          "base_uri": "https://localhost:8080/"
        },
        "outputId": "f318fc49-0ac5-4360-9013-b392dadc03ea"
      },
      "execution_count": null,
      "outputs": [
        {
          "metadata": {
            "tags": null
          },
          "name": "stdout",
          "output_type": "stream",
          "text": [
            "Downloading data from https://www.cs.toronto.edu/~kriz/cifar-10-python.tar.gz\n",
            "170500096/170498071 [==============================] - 3s 0us/step\n",
            "170508288/170498071 [==============================] - 3s 0us/step\n",
            "49/49 [==============================] - 75s 573ms/step - loss: 2.5839 - accuracy: 0.2814\n"
          ]
        },
        {
          "data": {
            "text/plain": [
              "<keras.callbacks.History at 0x7f846147ad10>"
            ]
          },
          "execution_count": null,
          "metadata": {},
          "output_type": "execute_result"
        }
      ]
    },
    {
      "cell_type": "markdown",
      "metadata": {
        "id": "YJ-QpIUcvgts"
      },
      "source": [
        "## Summary"
      ]
    }
  ],
  "metadata": {
    "colab": {
      "provenance": [],
      "toc_visible": true,
      "include_colab_link": true
    },
    "kernelspec": {
      "display_name": "Python 3",
      "language": "python",
      "name": "python3"
    },
    "language_info": {
      "codemirror_mode": {
        "name": "ipython",
        "version": 3
      },
      "file_extension": ".py",
      "mimetype": "text/x-python",
      "name": "python",
      "nbconvert_exporter": "python",
      "pygments_lexer": "ipython3",
      "version": "3.7.0"
    },
    "accelerator": "TPU"
  },
  "nbformat": 4,
  "nbformat_minor": 0
}