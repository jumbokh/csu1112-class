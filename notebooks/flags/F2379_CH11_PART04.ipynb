{
  "cells": [
    {
      "cell_type": "markdown",
      "metadata": {
        "id": "view-in-github",
        "colab_type": "text"
      },
      "source": [
        "<a href=\"https://colab.research.google.com/github/jumbokh/csu1112-class/blob/main/notebooks/flags/F2379_CH11_PART04.ipynb\" target=\"_parent\"><img src=\"https://colab.research.google.com/assets/colab-badge.svg\" alt=\"Open In Colab\"/></a>"
      ]
    },
    {
      "cell_type": "markdown",
      "metadata": {
        "id": "rMWMrC9hNOxy"
      },
      "source": [
        "#第11章：文字資料的深度學習"
      ]
    },
    {
      "cell_type": "markdown",
      "metadata": {
        "id": "j5fHXBD7NOx4"
      },
      "source": [
        "##11-5 文字分類以外的任務 - 以Seq2seq模型為例"
      ]
    },
    {
      "cell_type": "markdown",
      "metadata": {
        "id": "bwAZlxpqNOx5"
      },
      "source": [
        "###11-5-1 機器翻譯的案例"
      ]
    },
    {
      "cell_type": "code",
      "execution_count": null,
      "metadata": {
        "colab": {
          "base_uri": "https://localhost:8080/"
        },
        "id": "RHvr65tUNOx6",
        "outputId": "6dfa26d3-dff8-48b6-9ea8-eaa9aa4171b8"
      },
      "outputs": [
        {
          "output_type": "stream",
          "name": "stdout",
          "text": [
            "--2022-05-25 05:40:08--  http://storage.googleapis.com/download.tensorflow.org/data/spa-eng.zip\n",
            "Resolving storage.googleapis.com (storage.googleapis.com)... 142.250.188.208, 142.251.33.208, 172.217.15.112, ...\n",
            "Connecting to storage.googleapis.com (storage.googleapis.com)|142.250.188.208|:80... connected.\n",
            "HTTP request sent, awaiting response... 200 OK\n",
            "Length: 2638744 (2.5M) [application/zip]\n",
            "Saving to: ‘spa-eng.zip’\n",
            "\n",
            "\rspa-eng.zip           0%[                    ]       0  --.-KB/s               \rspa-eng.zip         100%[===================>]   2.52M  --.-KB/s    in 0.008s  \n",
            "\n",
            "2022-05-25 05:40:08 (297 MB/s) - ‘spa-eng.zip’ saved [2638744/2638744]\n",
            "\n"
          ]
        }
      ],
      "source": [
        "!wget http://storage.googleapis.com/download.tensorflow.org/data/spa-eng.zip\n",
        "!unzip -q spa-eng.zip"
      ]
    },
    {
      "cell_type": "code",
      "execution_count": null,
      "metadata": {
        "id": "kZCrSzrLNOx9"
      },
      "outputs": [],
      "source": [
        "text_file = \"spa-eng/spa.txt\"\n",
        "with open(text_file) as f:\n",
        "    lines = f.read().split(\"\\n\")[:-1]\n",
        "text_pairs = []\n",
        "for line in lines:\n",
        "    english, spanish = line.split(\"\\t\")\n",
        "    spanish = \"[start] \" + spanish + \" [end]\"\n",
        "    text_pairs.append((english, spanish))"
      ]
    },
    {
      "cell_type": "code",
      "execution_count": null,
      "metadata": {
        "colab": {
          "base_uri": "https://localhost:8080/"
        },
        "id": "sFoj4-LHNOx-",
        "outputId": "eba1e9f0-b129-4458-a7da-7c9ea95226d6"
      },
      "outputs": [
        {
          "output_type": "stream",
          "name": "stdout",
          "text": [
            "(\"I'm busy today, otherwise I would accept.\", '[start] Estoy ocupado hoy, de otra manera, aceptaría. [end]')\n"
          ]
        }
      ],
      "source": [
        "import random\n",
        "print(random.choice(text_pairs))"
      ]
    },
    {
      "cell_type": "code",
      "execution_count": null,
      "metadata": {
        "id": "lme10C46NOx_"
      },
      "outputs": [],
      "source": [
        "import random\n",
        "random.shuffle(text_pairs)\n",
        "num_val_samples = int(0.15 * len(text_pairs))\n",
        "num_train_samples = len(text_pairs) - 2 * num_val_samples\n",
        "train_pairs = text_pairs[:num_train_samples]\n",
        "val_pairs = text_pairs[num_train_samples:num_train_samples + num_val_samples]\n",
        "test_pairs = text_pairs[num_train_samples + num_val_samples:]"
      ]
    },
    {
      "cell_type": "markdown",
      "metadata": {
        "id": "mjHBhrbgNOyC"
      },
      "source": [
        "####程式 11.26 向量化英文和西文的文字組合"
      ]
    },
    {
      "cell_type": "code",
      "execution_count": null,
      "metadata": {
        "id": "11pwllS3NOyE"
      },
      "outputs": [],
      "source": [
        "import tensorflow as tf\n",
        "from tensorflow.keras import layers\n",
        "import string\n",
        "import re\n",
        "\n",
        "strip_chars = string.punctuation + \"¿\"\n",
        "strip_chars = strip_chars.replace(\"[\", \"\")\n",
        "strip_chars = strip_chars.replace(\"]\", \"\")\n",
        "\n",
        "def custom_standardization(input_string):\n",
        "    lowercase = tf.strings.lower(input_string)\n",
        "    return tf.strings.regex_replace(\n",
        "        lowercase, f\"[{re.escape(strip_chars)}]\", \"\")\n",
        "\n",
        "vocab_size = 15000\n",
        "sequence_length = 20\n",
        "\n",
        "source_vectorization = layers.TextVectorization(\n",
        "    max_tokens=vocab_size,\n",
        "    output_mode=\"int\",\n",
        "    output_sequence_length=sequence_length,\n",
        ")\n",
        "target_vectorization = layers.TextVectorization(\n",
        "    max_tokens=vocab_size,\n",
        "    output_mode=\"int\",\n",
        "    output_sequence_length=sequence_length + 1,\n",
        "    standardize=custom_standardization,\n",
        ")\n",
        "train_english_texts = [pair[0] for pair in train_pairs]\n",
        "train_spanish_texts = [pair[1] for pair in train_pairs]\n",
        "source_vectorization.adapt(train_english_texts)\n",
        "target_vectorization.adapt(train_spanish_texts)"
      ]
    },
    {
      "cell_type": "markdown",
      "metadata": {
        "id": "Ktk9VQj0NOyH"
      },
      "source": [
        "####程式 11.27 為翻譯任務準備資料集"
      ]
    },
    {
      "cell_type": "code",
      "execution_count": null,
      "metadata": {
        "id": "yrixjjLDNOyI"
      },
      "outputs": [],
      "source": [
        "batch_size = 64\n",
        "\n",
        "def format_dataset(eng, spa):\n",
        "    eng = source_vectorization(eng)\n",
        "    spa = target_vectorization(spa)\n",
        "    return ({\n",
        "        \"english\": eng,\n",
        "        \"spanish\": spa[:, :-1],\n",
        "    }, spa[:, 1:])\n",
        "\n",
        "def make_dataset(pairs):\n",
        "    eng_texts, spa_texts = zip(*pairs)\n",
        "    eng_texts = list(eng_texts)\n",
        "    spa_texts = list(spa_texts)\n",
        "    dataset = tf.data.Dataset.from_tensor_slices((eng_texts, spa_texts))\n",
        "    dataset = dataset.batch(batch_size)\n",
        "    dataset = dataset.map(format_dataset, num_parallel_calls=4)\n",
        "    return dataset.shuffle(2048).prefetch(16).cache()\n",
        "\n",
        "train_ds = make_dataset(train_pairs)\n",
        "val_ds = make_dataset(val_pairs)"
      ]
    },
    {
      "cell_type": "code",
      "execution_count": null,
      "metadata": {
        "colab": {
          "base_uri": "https://localhost:8080/"
        },
        "id": "1urDvO9CNOyJ",
        "outputId": "3789aea1-73b7-4eed-942a-e9b18a3f2bc0"
      },
      "outputs": [
        {
          "output_type": "stream",
          "name": "stdout",
          "text": [
            "inputs['english'].shape: (64, 20)\n",
            "inputs['spanish'].shape: (64, 20)\n",
            "targets.shape: (64, 20)\n"
          ]
        }
      ],
      "source": [
        "for inputs, targets in train_ds.take(1):\n",
        "    print(f\"inputs['english'].shape: {inputs['english'].shape}\")\n",
        "    print(f\"inputs['spanish'].shape: {inputs['spanish'].shape}\")\n",
        "    print(f\"targets.shape: {targets.shape}\")"
      ]
    },
    {
      "cell_type": "markdown",
      "metadata": {
        "id": "sy49XkBINOyK"
      },
      "source": [
        "###11-5-2 用RNN進行Seq2seq的學習"
      ]
    },
    {
      "cell_type": "markdown",
      "metadata": {
        "id": "z1OkyKaeNOyL"
      },
      "source": [
        "####程式 11.28 使用GRU編碼器"
      ]
    },
    {
      "cell_type": "code",
      "execution_count": null,
      "metadata": {
        "id": "1vWKxa37NOyN"
      },
      "outputs": [],
      "source": [
        "from tensorflow import keras\n",
        "from tensorflow.keras import layers\n",
        "\n",
        "embed_dim = 256\n",
        "latent_dim = 1024\n",
        "\n",
        "source = keras.Input(shape=(None,), dtype=\"int64\", name=\"english\")\n",
        "x = layers.Embedding(vocab_size, embed_dim, mask_zero=True)(source)\n",
        "encoded_source = layers.Bidirectional(\n",
        "    layers.GRU(latent_dim), merge_mode=\"sum\")(x)"
      ]
    },
    {
      "cell_type": "markdown",
      "metadata": {
        "id": "yZaOmmkNNOyN"
      },
      "source": [
        "####程式 11.29 使用GRU解碼器及端到端模型"
      ]
    },
    {
      "cell_type": "code",
      "execution_count": null,
      "metadata": {
        "id": "Iv2ucNwINOyO"
      },
      "outputs": [],
      "source": [
        "past_target = keras.Input(shape=(None,), dtype=\"int64\", name=\"spanish\")\n",
        "x = layers.Embedding(vocab_size, embed_dim, mask_zero=True)(past_target)\n",
        "decoder_gru = layers.GRU(latent_dim, return_sequences=True)\n",
        "x = decoder_gru(x, initial_state=encoded_source)\n",
        "x = layers.Dropout(0.5)(x)\n",
        "target_next_step = layers.Dense(vocab_size, activation=\"softmax\")(x)\n",
        "seq2seq_rnn = keras.Model([source, past_target], target_next_step)"
      ]
    },
    {
      "cell_type": "markdown",
      "metadata": {
        "id": "q4D4HRAiNOyP"
      },
      "source": [
        "####程式 11.30 訓練循環Seq2seq模型"
      ]
    },
    {
      "cell_type": "code",
      "execution_count": null,
      "metadata": {
        "colab": {
          "base_uri": "https://localhost:8080/"
        },
        "id": "rwE7degPNOyQ",
        "outputId": "d9995b3f-58a9-4058-9c5d-4429366a4134"
      },
      "outputs": [
        {
          "output_type": "stream",
          "name": "stdout",
          "text": [
            "Epoch 1/15\n",
            "1302/1302 [==============================] - 138s 94ms/step - loss: 1.6336 - accuracy: 0.4180 - val_loss: 1.3128 - val_accuracy: 0.5072\n",
            "Epoch 2/15\n",
            "1302/1302 [==============================] - 119s 91ms/step - loss: 1.3169 - accuracy: 0.5244 - val_loss: 1.1544 - val_accuracy: 0.5678\n",
            "Epoch 3/15\n",
            "1302/1302 [==============================] - 119s 91ms/step - loss: 1.1724 - accuracy: 0.5750 - val_loss: 1.0736 - val_accuracy: 0.5994\n",
            "Epoch 4/15\n",
            "1302/1302 [==============================] - 119s 91ms/step - loss: 1.0803 - accuracy: 0.6088 - val_loss: 1.0299 - val_accuracy: 0.6205\n",
            "Epoch 5/15\n",
            "1302/1302 [==============================] - 118s 91ms/step - loss: 1.0311 - accuracy: 0.6342 - val_loss: 1.0193 - val_accuracy: 0.6303\n",
            "Epoch 6/15\n",
            "1302/1302 [==============================] - 119s 91ms/step - loss: 1.0024 - accuracy: 0.6521 - val_loss: 1.0156 - val_accuracy: 0.6359\n",
            "Epoch 7/15\n",
            "1302/1302 [==============================] - 119s 91ms/step - loss: 0.9822 - accuracy: 0.6664 - val_loss: 1.0161 - val_accuracy: 0.6386\n",
            "Epoch 8/15\n",
            "1302/1302 [==============================] - 119s 91ms/step - loss: 0.9692 - accuracy: 0.6761 - val_loss: 1.0175 - val_accuracy: 0.6410\n",
            "Epoch 9/15\n",
            "1302/1302 [==============================] - 118s 91ms/step - loss: 0.9592 - accuracy: 0.6837 - val_loss: 1.0199 - val_accuracy: 0.6431\n",
            "Epoch 10/15\n",
            "1302/1302 [==============================] - 118s 91ms/step - loss: 0.9515 - accuracy: 0.6896 - val_loss: 1.0232 - val_accuracy: 0.6433\n",
            "Epoch 11/15\n",
            "1302/1302 [==============================] - 119s 91ms/step - loss: 0.9464 - accuracy: 0.6942 - val_loss: 1.0253 - val_accuracy: 0.6443\n",
            "Epoch 12/15\n",
            "1302/1302 [==============================] - 119s 91ms/step - loss: 0.9416 - accuracy: 0.6975 - val_loss: 1.0284 - val_accuracy: 0.6440\n",
            "Epoch 13/15\n",
            "1302/1302 [==============================] - 119s 91ms/step - loss: 0.9400 - accuracy: 0.6991 - val_loss: 1.0317 - val_accuracy: 0.6444\n",
            "Epoch 14/15\n",
            "1302/1302 [==============================] - 119s 91ms/step - loss: 0.9378 - accuracy: 0.7008 - val_loss: 1.0340 - val_accuracy: 0.6449\n",
            "Epoch 15/15\n",
            "1302/1302 [==============================] - 119s 91ms/step - loss: 0.9373 - accuracy: 0.7016 - val_loss: 1.0358 - val_accuracy: 0.6442\n"
          ]
        },
        {
          "output_type": "execute_result",
          "data": {
            "text/plain": [
              "<keras.callbacks.History at 0x7f7d0f3d7cd0>"
            ]
          },
          "metadata": {},
          "execution_count": 10
        }
      ],
      "source": [
        "seq2seq_rnn.compile(\n",
        "    optimizer=\"rmsprop\",\n",
        "    loss=\"sparse_categorical_crossentropy\",\n",
        "    metrics=[\"accuracy\"])\n",
        "seq2seq_rnn.fit(train_ds, epochs=15, validation_data=val_ds)"
      ]
    },
    {
      "cell_type": "markdown",
      "metadata": {
        "id": "AVrDR-CdNOyS"
      },
      "source": [
        "####程式 11.31 用RNN編碼器和解碼器翻譯新的句子"
      ]
    },
    {
      "cell_type": "code",
      "execution_count": null,
      "metadata": {
        "colab": {
          "base_uri": "https://localhost:8080/"
        },
        "id": "vV8ylmwxNOyU",
        "outputId": "92fc03f6-013f-4247-cc77-e050a31833b1"
      },
      "outputs": [
        {
          "output_type": "stream",
          "name": "stdout",
          "text": [
            "-\n",
            "Tom dove into the pool.\n",
            "[start] tom se [UNK] en la la que la estaba una [UNK] [end]\n",
            "-\n",
            "I don't think that Tom realizes how rude he's being.\n",
            "[start] no creo que tom sea lo que [UNK] de tom [end]\n",
            "-\n",
            "Where did they learn this?\n",
            "[start] dónde lo hizo esto [end]\n",
            "-\n",
            "It is important for me.\n",
            "[start] es importante para mí [end]\n",
            "-\n",
            "Tom suffered from migraine headaches for years.\n",
            "[start] tom se [UNK] de años de años [end]\n",
            "-\n",
            "Where did the accident take place?\n",
            "[start] en qué lugar ese accidente [end]\n",
            "-\n",
            "Are you pleased with your new house?\n",
            "[start] estás [UNK] con tu nueva casa [end]\n",
            "-\n",
            "I never forget a name.\n",
            "[start] nunca se te he nombre un nombre [end]\n",
            "-\n",
            "Anything you say can and will be used against you.\n",
            "[start] algo que puede decir y [UNK] con vos [end]\n",
            "-\n",
            "I'm touched you remembered.\n",
            "[start] te estoy [UNK] [end]\n",
            "-\n",
            "He's completely crazy.\n",
            "[start] está completamente loco [end]\n",
            "-\n",
            "Tom didn't have anything to worry about.\n",
            "[start] tom no tenía nada de qué hacer [end]\n",
            "-\n",
            "Get out of the classroom.\n",
            "[start] [UNK] del cuarto [end]\n",
            "-\n",
            "Tom wants to live in the country after he retires.\n",
            "[start] tom quiere vivir en el más después de la vida [end]\n",
            "-\n",
            "Get down from there.\n",
            "[start] [UNK] de allí [end]\n",
            "-\n",
            "Tom liked to listen to Mary play the piano.\n",
            "[start] a tom le gusta a mary si el piano es mi piano [end]\n",
            "-\n",
            "Her father is tall.\n",
            "[start] su padre es alto [end]\n",
            "-\n",
            "He looks like his father.\n",
            "[start] Él se parece a su padre [end]\n",
            "-\n",
            "It seemed that he was fine.\n",
            "[start] parecía que él era bien [end]\n",
            "-\n",
            "Her beauty will fade in time.\n",
            "[start] su [UNK] se [UNK] con el tiempo [end]\n"
          ]
        }
      ],
      "source": [
        "import numpy as np\n",
        "spa_vocab = target_vectorization.get_vocabulary()\n",
        "spa_index_lookup = dict(zip(range(len(spa_vocab)), spa_vocab))\n",
        "max_decoded_sentence_length = 20\n",
        "\n",
        "def decode_sequence(input_sentence):\n",
        "    tokenized_input_sentence = source_vectorization([input_sentence])\n",
        "    decoded_sentence = \"[start]\"\n",
        "    for i in range(max_decoded_sentence_length):\n",
        "        tokenized_target_sentence = target_vectorization([decoded_sentence])\n",
        "        next_token_predictions = seq2seq_rnn.predict(\n",
        "            [tokenized_input_sentence, tokenized_target_sentence])\n",
        "        sampled_token_index = np.argmax(next_token_predictions[0, i, :])\n",
        "        sampled_token = spa_index_lookup[sampled_token_index]\n",
        "        decoded_sentence += \" \" + sampled_token\n",
        "        if sampled_token == \"[end]\":\n",
        "            break\n",
        "    return decoded_sentence\n",
        "\n",
        "test_eng_texts = [pair[0] for pair in test_pairs]\n",
        "for _ in range(20):\n",
        "    input_sentence = random.choice(test_eng_texts)\n",
        "    print(\"-\")\n",
        "    print(input_sentence)\n",
        "    print(decode_sequence(input_sentence))"
      ]
    },
    {
      "cell_type": "markdown",
      "metadata": {
        "id": "VJ-SUd1JNOyU"
      },
      "source": [
        "###11-5-3 用Transfomer進行Seq2seq學習"
      ]
    },
    {
      "cell_type": "markdown",
      "metadata": {
        "id": "-aJQGO8gNOyW"
      },
      "source": [
        "####程式 11.33 TransformerDecoder\n",
        "####程式 11.34 生成因果遮罩(casual mask)的方法\n",
        "####程式 11.35 TransformerDecoder的正向傳遞"
      ]
    },
    {
      "cell_type": "code",
      "execution_count": null,
      "metadata": {
        "id": "GU3H6MaBNOyW"
      },
      "outputs": [],
      "source": [
        "class TransformerDecoder(layers.Layer):\n",
        "    def __init__(self, embed_dim, dense_dim, num_heads, **kwargs):\n",
        "        super().__init__(**kwargs)\n",
        "        self.embed_dim = embed_dim\n",
        "        self.dense_dim = dense_dim\n",
        "        self.num_heads = num_heads\n",
        "        self.attention_1 = layers.MultiHeadAttention(\n",
        "            num_heads=num_heads, key_dim=embed_dim)\n",
        "        self.attention_2 = layers.MultiHeadAttention(\n",
        "            num_heads=num_heads, key_dim=embed_dim)\n",
        "        self.dense_proj = keras.Sequential(\n",
        "            [layers.Dense(dense_dim, activation=\"relu\"),\n",
        "             layers.Dense(embed_dim),]\n",
        "        )\n",
        "        self.layernorm_1 = layers.LayerNormalization()\n",
        "        self.layernorm_2 = layers.LayerNormalization()\n",
        "        self.layernorm_3 = layers.LayerNormalization()\n",
        "        self.supports_masking = True\n",
        "\n",
        "    def get_config(self):\n",
        "        config = super().get_config()\n",
        "        config.update({\n",
        "            \"embed_dim\": self.embed_dim,\n",
        "            \"num_heads\": self.num_heads,\n",
        "            \"dense_dim\": self.dense_dim,\n",
        "        })\n",
        "        return config\n",
        "\n",
        "    def get_causal_attention_mask(self, inputs):\n",
        "        input_shape = tf.shape(inputs)\n",
        "        batch_size, sequence_length = input_shape[0], input_shape[1]\n",
        "        i = tf.range(sequence_length)[:, tf.newaxis]\n",
        "        j = tf.range(sequence_length)\n",
        "        mask = tf.cast(i >= j, dtype=\"int32\")\n",
        "        mask = tf.reshape(mask, (1, input_shape[1], input_shape[1]))\n",
        "        mult = tf.concat(\n",
        "            [tf.expand_dims(batch_size, -1),\n",
        "             tf.constant([1, 1], dtype=tf.int32)], axis=0)\n",
        "        return tf.tile(mask, mult)\n",
        "\n",
        "    def call(self, inputs, encoder_outputs, mask=None):\n",
        "        causal_mask = self.get_causal_attention_mask(inputs)\n",
        "        if mask is not None:\n",
        "            padding_mask = tf.cast(\n",
        "                mask[:, tf.newaxis, :], dtype=\"int32\")\n",
        "            padding_mask = tf.minimum(padding_mask, causal_mask)\n",
        "        attention_output_1 = self.attention_1(\n",
        "            query=inputs,\n",
        "            value=inputs,\n",
        "            key=inputs,\n",
        "            attention_mask=causal_mask)\n",
        "        attention_output_1 = self.layernorm_1(inputs + attention_output_1)\n",
        "        attention_output_2 = self.attention_2(\n",
        "            query=attention_output_1,\n",
        "            value=encoder_outputs,\n",
        "            key=encoder_outputs,\n",
        "            attention_mask=padding_mask,\n",
        "        )\n",
        "        attention_output_2 = self.layernorm_2(\n",
        "            attention_output_1 + attention_output_2)\n",
        "        proj_output = self.dense_proj(attention_output_2)\n",
        "        return self.layernorm_3(attention_output_2 + proj_output)"
      ]
    },
    {
      "cell_type": "code",
      "execution_count": null,
      "metadata": {
        "id": "Tu1qijuANOyY"
      },
      "outputs": [],
      "source": [
        "class PositionalEmbedding(layers.Layer):\n",
        "    def __init__(self, sequence_length, input_dim, output_dim, **kwargs):\n",
        "        super().__init__(**kwargs)\n",
        "        self.token_embeddings = layers.Embedding(\n",
        "            input_dim=input_dim, output_dim=output_dim)\n",
        "        self.position_embeddings = layers.Embedding(\n",
        "            input_dim=sequence_length, output_dim=output_dim)\n",
        "        self.sequence_length = sequence_length\n",
        "        self.input_dim = input_dim\n",
        "        self.output_dim = output_dim\n",
        "\n",
        "    def call(self, inputs):\n",
        "        length = tf.shape(inputs)[-1]\n",
        "        positions = tf.range(start=0, limit=length, delta=1)\n",
        "        embedded_tokens = self.token_embeddings(inputs)\n",
        "        embedded_positions = self.position_embeddings(positions)\n",
        "        return embedded_tokens + embedded_positions\n",
        "\n",
        "    def compute_mask(self, inputs, mask=None):\n",
        "        return tf.math.not_equal(inputs, 0)\n",
        "\n",
        "    def get_config(self):\n",
        "        config = super(PositionalEmbedding, self).get_config()\n",
        "        config.update({\n",
        "            \"output_dim\": self.output_dim,\n",
        "            \"sequence_length\": self.sequence_length,\n",
        "            \"input_dim\": self.input_dim,\n",
        "        })\n",
        "        return config"
      ]
    },
    {
      "cell_type": "code",
      "source": [
        "class TransformerEncoder(layers.Layer):\n",
        "    def __init__(self, embed_dim, dense_dim, num_heads, **kwargs):\n",
        "        super().__init__(**kwargs)\n",
        "        self.embed_dim = embed_dim\n",
        "        self.dense_dim = dense_dim\n",
        "        self.num_heads = num_heads\n",
        "        self.attention = layers.MultiHeadAttention(\n",
        "            num_heads=num_heads, key_dim=embed_dim)\n",
        "        self.dense_proj = keras.Sequential(\n",
        "            [layers.Dense(dense_dim, activation=\"relu\"),\n",
        "             layers.Dense(embed_dim),]\n",
        "        )\n",
        "        self.layernorm_1 = layers.LayerNormalization()\n",
        "        self.layernorm_2 = layers.LayerNormalization()\n",
        "\n",
        "    def call(self, inputs, mask=None):\n",
        "        if mask is not None:\n",
        "            mask = mask[:, tf.newaxis, :]\n",
        "        attention_output = self.attention(\n",
        "            inputs, inputs, attention_mask=mask)\n",
        "        proj_input = self.layernorm_1(inputs + attention_output)\n",
        "        proj_output = self.dense_proj(proj_input)\n",
        "        return self.layernorm_2(proj_input + proj_output)\n",
        "\n",
        "    def get_config(self):\n",
        "        config = super().get_config()\n",
        "        config.update({\n",
        "            \"embed_dim\": self.embed_dim,\n",
        "            \"num_heads\": self.num_heads,\n",
        "            \"dense_dim\": self.dense_dim,\n",
        "        })\n",
        "        return config"
      ],
      "metadata": {
        "id": "t-h8OC1A3K05"
      },
      "execution_count": null,
      "outputs": []
    },
    {
      "cell_type": "markdown",
      "metadata": {
        "id": "J4uCc2GgNOyZ"
      },
      "source": [
        "####程式 11.36 端到端Transformer"
      ]
    },
    {
      "cell_type": "code",
      "execution_count": null,
      "metadata": {
        "id": "r2Nj68pMNOyZ"
      },
      "outputs": [],
      "source": [
        "embed_dim = 256\n",
        "dense_dim = 2048\n",
        "num_heads = 8\n",
        "\n",
        "encoder_inputs = keras.Input(shape=(None,), dtype=\"int64\", name=\"english\")\n",
        "x = PositionalEmbedding(sequence_length, vocab_size, embed_dim)(encoder_inputs)\n",
        "encoder_outputs = TransformerEncoder(embed_dim, dense_dim, num_heads)(x)\n",
        "\n",
        "decoder_inputs = keras.Input(shape=(None,), dtype=\"int64\", name=\"spanish\")\n",
        "x = PositionalEmbedding(sequence_length, vocab_size, embed_dim)(decoder_inputs)\n",
        "x = TransformerDecoder(embed_dim, dense_dim, num_heads)(x, encoder_outputs)\n",
        "x = layers.Dropout(0.5)(x)\n",
        "decoder_outputs = layers.Dense(vocab_size, activation=\"softmax\")(x)\n",
        "transformer = keras.Model([encoder_inputs, decoder_inputs], decoder_outputs)"
      ]
    },
    {
      "cell_type": "markdown",
      "metadata": {
        "id": "OdYId3NSNOya"
      },
      "source": [
        "####程式 11.37 訓練Seq2seq Transformer"
      ]
    },
    {
      "cell_type": "code",
      "execution_count": null,
      "metadata": {
        "id": "B2hvX1b5NOya",
        "colab": {
          "base_uri": "https://localhost:8080/"
        },
        "outputId": "07b24c5d-8157-4435-fd4d-914dad84763a"
      },
      "outputs": [
        {
          "output_type": "stream",
          "name": "stdout",
          "text": [
            "Epoch 1/30\n",
            "1302/1302 [==============================] - 98s 73ms/step - loss: 1.6668 - accuracy: 0.4210 - val_loss: 1.3262 - val_accuracy: 0.5132\n",
            "Epoch 2/30\n",
            "1302/1302 [==============================] - 94s 72ms/step - loss: 1.3348 - accuracy: 0.5350 - val_loss: 1.1679 - val_accuracy: 0.5691\n",
            "Epoch 3/30\n",
            "1302/1302 [==============================] - 94s 72ms/step - loss: 1.1836 - accuracy: 0.5833 - val_loss: 1.0812 - val_accuracy: 0.6022\n",
            "Epoch 4/30\n",
            "1302/1302 [==============================] - 95s 73ms/step - loss: 1.0937 - accuracy: 0.6161 - val_loss: 1.0335 - val_accuracy: 0.6268\n",
            "Epoch 5/30\n",
            "1302/1302 [==============================] - 94s 72ms/step - loss: 1.0456 - accuracy: 0.6375 - val_loss: 1.0099 - val_accuracy: 0.6376\n",
            "Epoch 6/30\n",
            "1302/1302 [==============================] - 94s 72ms/step - loss: 1.0141 - accuracy: 0.6531 - val_loss: 0.9953 - val_accuracy: 0.6463\n",
            "Epoch 7/30\n",
            "1302/1302 [==============================] - 94s 72ms/step - loss: 0.9918 - accuracy: 0.6658 - val_loss: 0.9899 - val_accuracy: 0.6483\n",
            "Epoch 8/30\n",
            "1302/1302 [==============================] - 94s 72ms/step - loss: 0.9737 - accuracy: 0.6761 - val_loss: 0.9834 - val_accuracy: 0.6535\n",
            "Epoch 9/30\n",
            "1302/1302 [==============================] - 94s 72ms/step - loss: 0.9576 - accuracy: 0.6851 - val_loss: 0.9856 - val_accuracy: 0.6557\n",
            "Epoch 10/30\n",
            "1302/1302 [==============================] - 94s 72ms/step - loss: 0.9432 - accuracy: 0.6923 - val_loss: 0.9915 - val_accuracy: 0.6560\n",
            "Epoch 11/30\n",
            "1302/1302 [==============================] - 94s 72ms/step - loss: 0.9297 - accuracy: 0.6992 - val_loss: 0.9869 - val_accuracy: 0.6578\n",
            "Epoch 12/30\n",
            "1302/1302 [==============================] - 94s 72ms/step - loss: 0.9167 - accuracy: 0.7058 - val_loss: 0.9948 - val_accuracy: 0.6555\n",
            "Epoch 13/30\n",
            "1302/1302 [==============================] - 94s 72ms/step - loss: 0.9051 - accuracy: 0.7111 - val_loss: 0.9865 - val_accuracy: 0.6614\n",
            "Epoch 14/30\n",
            "1302/1302 [==============================] - 94s 72ms/step - loss: 0.8929 - accuracy: 0.7161 - val_loss: 0.9959 - val_accuracy: 0.6583\n",
            "Epoch 15/30\n",
            "1302/1302 [==============================] - 94s 72ms/step - loss: 0.8810 - accuracy: 0.7214 - val_loss: 0.9993 - val_accuracy: 0.6591\n",
            "Epoch 16/30\n",
            "1302/1302 [==============================] - 94s 72ms/step - loss: 0.8697 - accuracy: 0.7258 - val_loss: 1.0025 - val_accuracy: 0.6586\n",
            "Epoch 17/30\n",
            "1302/1302 [==============================] - 94s 72ms/step - loss: 0.8582 - accuracy: 0.7307 - val_loss: 1.0152 - val_accuracy: 0.6545\n",
            "Epoch 18/30\n",
            "1302/1302 [==============================] - 94s 72ms/step - loss: 0.8486 - accuracy: 0.7342 - val_loss: 1.0158 - val_accuracy: 0.6595\n",
            "Epoch 19/30\n",
            "1302/1302 [==============================] - 93s 72ms/step - loss: 0.8385 - accuracy: 0.7383 - val_loss: 1.0232 - val_accuracy: 0.6556\n",
            "Epoch 20/30\n",
            "1302/1302 [==============================] - 94s 72ms/step - loss: 0.8286 - accuracy: 0.7422 - val_loss: 1.0240 - val_accuracy: 0.6585\n",
            "Epoch 21/30\n",
            "1302/1302 [==============================] - 93s 72ms/step - loss: 0.8186 - accuracy: 0.7461 - val_loss: 1.0264 - val_accuracy: 0.6578\n",
            "Epoch 22/30\n",
            "1302/1302 [==============================] - 94s 72ms/step - loss: 0.8099 - accuracy: 0.7493 - val_loss: 1.0270 - val_accuracy: 0.6628\n",
            "Epoch 23/30\n",
            "1302/1302 [==============================] - 93s 72ms/step - loss: 0.8012 - accuracy: 0.7524 - val_loss: 1.0301 - val_accuracy: 0.6606\n",
            "Epoch 24/30\n",
            "1302/1302 [==============================] - 94s 72ms/step - loss: 0.7925 - accuracy: 0.7556 - val_loss: 1.0402 - val_accuracy: 0.6602\n",
            "Epoch 25/30\n",
            "1302/1302 [==============================] - 94s 72ms/step - loss: 0.7842 - accuracy: 0.7586 - val_loss: 1.0418 - val_accuracy: 0.6610\n",
            "Epoch 26/30\n",
            "1302/1302 [==============================] - 93s 72ms/step - loss: 0.7763 - accuracy: 0.7618 - val_loss: 1.0540 - val_accuracy: 0.6533\n",
            "Epoch 27/30\n",
            "1302/1302 [==============================] - 93s 72ms/step - loss: 0.7689 - accuracy: 0.7642 - val_loss: 1.0578 - val_accuracy: 0.6606\n",
            "Epoch 28/30\n",
            "1302/1302 [==============================] - 93s 72ms/step - loss: 0.7614 - accuracy: 0.7671 - val_loss: 1.0630 - val_accuracy: 0.6575\n",
            "Epoch 29/30\n",
            "1302/1302 [==============================] - 94s 72ms/step - loss: 0.7543 - accuracy: 0.7699 - val_loss: 1.0727 - val_accuracy: 0.6580\n",
            "Epoch 30/30\n",
            "1302/1302 [==============================] - 94s 72ms/step - loss: 0.7486 - accuracy: 0.7719 - val_loss: 1.0643 - val_accuracy: 0.6634\n"
          ]
        },
        {
          "output_type": "execute_result",
          "data": {
            "text/plain": [
              "<keras.callbacks.History at 0x7f7d1b6a2250>"
            ]
          },
          "metadata": {},
          "execution_count": 20
        }
      ],
      "source": [
        "transformer.compile(\n",
        "    optimizer=\"rmsprop\",\n",
        "    loss=\"sparse_categorical_crossentropy\",\n",
        "    metrics=[\"accuracy\"])\n",
        "transformer.fit(train_ds, epochs=30, validation_data=val_ds)"
      ]
    },
    {
      "cell_type": "markdown",
      "metadata": {
        "id": "FWd0J4t5NOyb"
      },
      "source": [
        "####程式 11.38 用Transformer模型翻譯新句子"
      ]
    },
    {
      "cell_type": "code",
      "execution_count": null,
      "metadata": {
        "id": "P9_Jd505NOyb",
        "colab": {
          "base_uri": "https://localhost:8080/"
        },
        "outputId": "ee6eae86-0f91-46b1-dceb-0d18ab40cc67"
      },
      "outputs": [
        {
          "output_type": "stream",
          "name": "stdout",
          "text": [
            "-\n",
            "They both want to say something.\n",
            "[start] ellos dos quiero decir algo [end]\n",
            "-\n",
            "Many scientists knew him.\n",
            "[start] muchos invitó a él [end]\n",
            "-\n",
            "Tom knows what you did.\n",
            "[start] tom sabe lo que tú has hecho [end]\n",
            "-\n",
            "He is now almost as tall as his father is.\n",
            "[start] ahora él es casi tan alto como su padre [end]\n",
            "-\n",
            "It doesn't hurt as much as it did before.\n",
            "[start] no pasa tanto como antes [end]\n",
            "-\n",
            "I'm ashamed to go out dressed like this.\n",
            "[start] estoy avergonzado de que te [UNK] esto [end]\n",
            "-\n",
            "He is better off than he was ten years ago.\n",
            "[start] Él es mejor de lo que fue hace diez años [end]\n",
            "-\n",
            "I didn't walk.\n",
            "[start] yo no [UNK] [end]\n",
            "-\n",
            "Tom rinsed off the soap.\n",
            "[start] tom se [UNK] el [UNK] [end]\n",
            "-\n",
            "I paid her five dollars.\n",
            "[start] le yo sabía cinco dólares [end]\n",
            "-\n",
            "Let's shake hands and be friends.\n",
            "[start] vamos [UNK] a tener amigos [end]\n",
            "-\n",
            "Don't make fun of them.\n",
            "[start] no te hagas [UNK] [end]\n",
            "-\n",
            "It's there.\n",
            "[start] está allí [end]\n",
            "-\n",
            "My wife is a good cook.\n",
            "[start] mi esposa es una buena vista [end]\n",
            "-\n",
            "Tom shaved.\n",
            "[start] tom se [UNK] [end]\n",
            "-\n",
            "I got a call from her this morning.\n",
            "[start] yo recibí una llamada de ella la mañana [end]\n",
            "-\n",
            "I turned right.\n",
            "[start] yo acabo de tener la boca [end]\n",
            "-\n",
            "Tom can draw a perfect circle.\n",
            "[start] tom puede me pudo un a un a a a que un a a a a que tom nunca [UNK]\n",
            "-\n",
            "We will clarify what is true and what is false.\n",
            "[start] vamos a [UNK] lo que es importante y lo que es la [UNK] [end]\n",
            "-\n",
            "Do you still really want to go?\n",
            "[start] todavía quieres que voy a ir [end]\n"
          ]
        }
      ],
      "source": [
        "import numpy as np\n",
        "spa_vocab = target_vectorization.get_vocabulary()\n",
        "spa_index_lookup = dict(zip(range(len(spa_vocab)), spa_vocab))\n",
        "max_decoded_sentence_length = 20\n",
        "\n",
        "def decode_sequence(input_sentence):\n",
        "    tokenized_input_sentence = source_vectorization([input_sentence])\n",
        "    decoded_sentence = \"[start]\"\n",
        "    for i in range(max_decoded_sentence_length):\n",
        "        tokenized_target_sentence = target_vectorization(\n",
        "            [decoded_sentence])[:, :-1]\n",
        "        predictions = transformer(\n",
        "            [tokenized_input_sentence, tokenized_target_sentence])\n",
        "        sampled_token_index = np.argmax(predictions[0, i, :])\n",
        "        sampled_token = spa_index_lookup[sampled_token_index]\n",
        "        decoded_sentence += \" \" + sampled_token\n",
        "        if sampled_token == \"[end]\":\n",
        "            break\n",
        "    return decoded_sentence\n",
        "\n",
        "test_eng_texts = [pair[0] for pair in test_pairs]\n",
        "for _ in range(20):\n",
        "    input_sentence = random.choice(test_eng_texts)\n",
        "    print(\"-\")\n",
        "    print(input_sentence)\n",
        "    print(decode_sequence(input_sentence))"
      ]
    }
  ],
  "metadata": {
    "colab": {
      "provenance": [],
      "toc_visible": true,
      "include_colab_link": true
    },
    "kernelspec": {
      "display_name": "Python 3",
      "language": "python",
      "name": "python3"
    },
    "language_info": {
      "codemirror_mode": {
        "name": "ipython",
        "version": 3
      },
      "file_extension": ".py",
      "mimetype": "text/x-python",
      "name": "python",
      "nbconvert_exporter": "python",
      "pygments_lexer": "ipython3",
      "version": "3.7.0"
    },
    "accelerator": "GPU"
  },
  "nbformat": 4,
  "nbformat_minor": 0
}