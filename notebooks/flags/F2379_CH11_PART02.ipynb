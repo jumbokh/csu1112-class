{
  "cells": [
    {
      "cell_type": "markdown",
      "metadata": {
        "id": "view-in-github",
        "colab_type": "text"
      },
      "source": [
        "<a href=\"https://colab.research.google.com/github/jumbokh/csu1112-class/blob/main/notebooks/flags/F2379_CH11_PART02.ipynb\" target=\"_parent\"><img src=\"https://colab.research.google.com/assets/colab-badge.svg\" alt=\"Open In Colab\"/></a>"
      ]
    },
    {
      "cell_type": "markdown",
      "metadata": {
        "id": "x0cJO56TUB93"
      },
      "source": [
        "#第11章：文字資料的深度學習"
      ]
    },
    {
      "cell_type": "markdown",
      "source": [
        "##11-3 表示單字組的兩種方法：集合 (set) 及序列 (sequence)"
      ],
      "metadata": {
        "id": "y7AUkuXxVt0v"
      }
    },
    {
      "cell_type": "markdown",
      "metadata": {
        "id": "7V78U_bMUB9-"
      },
      "source": [
        "###11-3-3 將單字作為序列處理:序列模型 (sequence model)"
      ]
    },
    {
      "cell_type": "code",
      "execution_count": null,
      "metadata": {
        "id": "E3kCtGdMUB-D",
        "colab": {
          "base_uri": "https://localhost:8080/"
        },
        "outputId": "29c8330e-9bbe-4131-dd08-755b37d49f17"
      },
      "outputs": [
        {
          "output_type": "stream",
          "name": "stdout",
          "text": [
            "  % Total    % Received % Xferd  Average Speed   Time    Time     Time  Current\n",
            "                                 Dload  Upload   Total   Spent    Left  Speed\n",
            "100 80.2M  100 80.2M    0     0  4185k      0  0:00:19  0:00:19 --:--:-- 7343k\n"
          ]
        }
      ],
      "source": [
        "!curl -O https://ai.stanford.edu/~amaas/data/sentiment/aclImdb_v1.tar.gz\n",
        "!tar -xf aclImdb_v1.tar.gz\n",
        "!rm -r aclImdb/train/unsup"
      ]
    },
    {
      "cell_type": "code",
      "execution_count": null,
      "metadata": {
        "id": "-5hTHyUdUB-F",
        "colab": {
          "base_uri": "https://localhost:8080/"
        },
        "outputId": "85a87b0c-f659-4074-b256-756ff186389a"
      },
      "outputs": [
        {
          "output_type": "stream",
          "name": "stdout",
          "text": [
            "Found 20000 files belonging to 2 classes.\n",
            "Found 5000 files belonging to 2 classes.\n",
            "Found 25000 files belonging to 2 classes.\n"
          ]
        }
      ],
      "source": [
        "import os, pathlib, shutil, random\n",
        "from tensorflow import keras\n",
        "batch_size = 32\n",
        "base_dir = pathlib.Path(\"aclImdb\")\n",
        "val_dir = base_dir / \"val\"\n",
        "train_dir = base_dir / \"train\"\n",
        "for category in (\"neg\", \"pos\"):\n",
        "    os.makedirs(val_dir / category)\n",
        "    files = os.listdir(train_dir / category)\n",
        "    random.Random(1337).shuffle(files)\n",
        "    num_val_samples = int(0.2 * len(files))\n",
        "    val_files = files[-num_val_samples:]\n",
        "    for fname in val_files:\n",
        "        shutil.move(train_dir / category / fname,\n",
        "                    val_dir / category / fname)\n",
        "\n",
        "train_ds = keras.utils.text_dataset_from_directory(\n",
        "    \"aclImdb/train\", batch_size=batch_size\n",
        ")\n",
        "val_ds = keras.utils.text_dataset_from_directory(\n",
        "    \"aclImdb/val\", batch_size=batch_size\n",
        ")\n",
        "test_ds = keras.utils.text_dataset_from_directory(\n",
        "    \"aclImdb/test\", batch_size=batch_size\n",
        ")\n",
        "text_only_train_ds = train_ds.map(lambda x, y: x)"
      ]
    },
    {
      "cell_type": "markdown",
      "metadata": {
        "id": "NWue_1lTUB-H"
      },
      "source": [
        "####程式 11.12 準備整數序列資料集"
      ]
    },
    {
      "cell_type": "code",
      "execution_count": null,
      "metadata": {
        "id": "N2ahDRo0UB-I"
      },
      "outputs": [],
      "source": [
        "from tensorflow.keras import layers\n",
        "\n",
        "max_length = 600\n",
        "max_tokens = 20000\n",
        "text_vectorization = layers.TextVectorization(\n",
        "    max_tokens=max_tokens,\n",
        "    output_mode=\"int\",\n",
        "    output_sequence_length=max_length,\n",
        ")\n",
        "text_vectorization.adapt(text_only_train_ds)\n",
        "\n",
        "int_train_ds = train_ds.map(\n",
        "    lambda x, y: (text_vectorization(x), y),\n",
        "    num_parallel_calls=4)\n",
        "int_val_ds = val_ds.map(\n",
        "    lambda x, y: (text_vectorization(x), y),\n",
        "    num_parallel_calls=4)\n",
        "int_test_ds = test_ds.map(\n",
        "    lambda x, y: (text_vectorization(x), y),\n",
        "    num_parallel_calls=4)"
      ]
    },
    {
      "cell_type": "markdown",
      "metadata": {
        "id": "FiQ1KzJmUB-J"
      },
      "source": [
        "###程式11.13 接收one-hot編碼向量序列的序列模型"
      ]
    },
    {
      "cell_type": "code",
      "execution_count": null,
      "metadata": {
        "id": "TIYZGsfgUB-J",
        "colab": {
          "base_uri": "https://localhost:8080/"
        },
        "outputId": "93b3ef26-edbd-43ac-ac74-dc202e4d4dd6"
      },
      "outputs": [
        {
          "output_type": "stream",
          "name": "stdout",
          "text": [
            "Model: \"model\"\n",
            "_________________________________________________________________\n",
            " Layer (type)                Output Shape              Param #   \n",
            "=================================================================\n",
            " input_1 (InputLayer)        [(None, None)]            0         \n",
            "                                                                 \n",
            " tf.one_hot (TFOpLambda)     (None, None, 20000)       0         \n",
            "                                                                 \n",
            " bidirectional (Bidirectiona  (None, 64)               5128448   \n",
            " l)                                                              \n",
            "                                                                 \n",
            " dropout (Dropout)           (None, 64)                0         \n",
            "                                                                 \n",
            " dense (Dense)               (None, 1)                 65        \n",
            "                                                                 \n",
            "=================================================================\n",
            "Total params: 5,128,513\n",
            "Trainable params: 5,128,513\n",
            "Non-trainable params: 0\n",
            "_________________________________________________________________\n"
          ]
        }
      ],
      "source": [
        "import tensorflow as tf\n",
        "inputs = keras.Input(shape=(None,), dtype=\"int64\")\n",
        "embedded = tf.one_hot(inputs, depth=max_tokens)\n",
        "x = layers.Bidirectional(layers.LSTM(32))(embedded)\n",
        "x = layers.Dropout(0.5)(x)\n",
        "outputs = layers.Dense(1, activation=\"sigmoid\")(x)\n",
        "model = keras.Model(inputs, outputs) \n",
        "model.compile(optimizer=\"rmsprop\",\n",
        "       loss=\"binary_crossentropy\",\n",
        "       metrics=[\"accuracy\"])\n",
        "model.summary()"
      ]
    },
    {
      "cell_type": "markdown",
      "metadata": {
        "id": "fhxMskjvUB-K"
      },
      "source": [
        "####程式 11.14 訓練第一個基本的序列模型"
      ]
    },
    {
      "cell_type": "code",
      "execution_count": null,
      "metadata": {
        "id": "-JQELI9gUB-L",
        "colab": {
          "base_uri": "https://localhost:8080/"
        },
        "outputId": "c117da30-4e44-4bf5-e2fa-8cd2259f1bcb"
      },
      "outputs": [
        {
          "output_type": "stream",
          "name": "stdout",
          "text": [
            "Epoch 1/10\n",
            "625/625 [==============================] - 181s 276ms/step - loss: 0.5027 - accuracy: 0.7671 - val_loss: 0.4265 - val_accuracy: 0.8102\n",
            "Epoch 2/10\n",
            "625/625 [==============================] - 173s 276ms/step - loss: 0.3297 - accuracy: 0.8801 - val_loss: 0.2873 - val_accuracy: 0.8854\n",
            "Epoch 3/10\n",
            "625/625 [==============================] - 174s 278ms/step - loss: 0.2740 - accuracy: 0.9053 - val_loss: 0.2978 - val_accuracy: 0.8758\n",
            "Epoch 4/10\n",
            "625/625 [==============================] - 175s 279ms/step - loss: 0.2322 - accuracy: 0.9196 - val_loss: 0.2869 - val_accuracy: 0.8922\n",
            "Epoch 5/10\n",
            "625/625 [==============================] - 174s 279ms/step - loss: 0.2018 - accuracy: 0.9334 - val_loss: 0.4433 - val_accuracy: 0.8762\n",
            "Epoch 6/10\n",
            "625/625 [==============================] - 175s 279ms/step - loss: 0.1791 - accuracy: 0.9395 - val_loss: 0.2942 - val_accuracy: 0.8794\n",
            "Epoch 7/10\n",
            "625/625 [==============================] - 174s 279ms/step - loss: 0.1594 - accuracy: 0.9471 - val_loss: 0.3022 - val_accuracy: 0.8790\n",
            "Epoch 8/10\n",
            "625/625 [==============================] - 174s 278ms/step - loss: 0.1450 - accuracy: 0.9524 - val_loss: 0.3160 - val_accuracy: 0.8890\n",
            "Epoch 9/10\n",
            "625/625 [==============================] - 173s 277ms/step - loss: 0.1326 - accuracy: 0.9563 - val_loss: 0.3277 - val_accuracy: 0.8788\n",
            "Epoch 10/10\n",
            "625/625 [==============================] - 173s 277ms/step - loss: 0.1197 - accuracy: 0.9611 - val_loss: 0.3942 - val_accuracy: 0.8900\n",
            "782/782 [==============================] - 104s 132ms/step - loss: 0.3084 - accuracy: 0.8809\n",
            "Test acc: 0.881\n"
          ]
        }
      ],
      "source": [
        "callbacks = [\n",
        "    keras.callbacks.ModelCheckpoint(\"one_hot_bidir_lstm.keras\",\n",
        "                    save_best_only=True)\n",
        "]\n",
        "model.fit(int_train_ds, validation_data=int_val_ds, epochs=10, callbacks=callbacks)\n",
        "model = keras.models.load_model(\"one_hot_bidir_lstm.keras\")\n",
        "print(f\"Test acc: {model.evaluate(int_test_ds)[1]:.3f}\")"
      ]
    },
    {
      "cell_type": "markdown",
      "metadata": {
        "id": "AFE-VCdJUB-N"
      },
      "source": [
        "####程式 11.15 實例化一個Embedding層"
      ]
    },
    {
      "cell_type": "code",
      "execution_count": null,
      "metadata": {
        "id": "-hMNm75WUB-N"
      },
      "outputs": [],
      "source": [
        "embedding_layer = layers.Embedding(input_dim=max_tokens, output_dim=256)"
      ]
    },
    {
      "cell_type": "markdown",
      "metadata": {
        "id": "UZrad57OUB-N"
      },
      "source": [
        "####程式 11.16 從頭開始訓練包含Embedding層的模型"
      ]
    },
    {
      "cell_type": "code",
      "execution_count": null,
      "metadata": {
        "id": "XynzEh64UB-N",
        "colab": {
          "base_uri": "https://localhost:8080/"
        },
        "outputId": "b97582c9-79ae-4556-c105-cae7e9d20d5d"
      },
      "outputs": [
        {
          "output_type": "stream",
          "name": "stdout",
          "text": [
            "Model: \"model_1\"\n",
            "_________________________________________________________________\n",
            " Layer (type)                Output Shape              Param #   \n",
            "=================================================================\n",
            " input_2 (InputLayer)        [(None, None)]            0         \n",
            "                                                                 \n",
            " embedding_1 (Embedding)     (None, None, 256)         5120000   \n",
            "                                                                 \n",
            " bidirectional_1 (Bidirectio  (None, 64)               73984     \n",
            " nal)                                                            \n",
            "                                                                 \n",
            " dropout_1 (Dropout)         (None, 64)                0         \n",
            "                                                                 \n",
            " dense_1 (Dense)             (None, 1)                 65        \n",
            "                                                                 \n",
            "=================================================================\n",
            "Total params: 5,194,049\n",
            "Trainable params: 5,194,049\n",
            "Non-trainable params: 0\n",
            "_________________________________________________________________\n",
            "Epoch 1/10\n",
            "625/625 [==============================] - 39s 57ms/step - loss: 0.4702 - accuracy: 0.7890 - val_loss: 0.3709 - val_accuracy: 0.8558\n",
            "Epoch 2/10\n",
            "625/625 [==============================] - 36s 57ms/step - loss: 0.3071 - accuracy: 0.8885 - val_loss: 0.3459 - val_accuracy: 0.8596\n",
            "Epoch 3/10\n",
            "625/625 [==============================] - 36s 58ms/step - loss: 0.2498 - accuracy: 0.9123 - val_loss: 0.3032 - val_accuracy: 0.8840\n",
            "Epoch 4/10\n",
            "625/625 [==============================] - 36s 58ms/step - loss: 0.2017 - accuracy: 0.9282 - val_loss: 0.5247 - val_accuracy: 0.7926\n",
            "Epoch 5/10\n",
            "625/625 [==============================] - 36s 57ms/step - loss: 0.1679 - accuracy: 0.9447 - val_loss: 0.3260 - val_accuracy: 0.8858\n",
            "Epoch 6/10\n",
            "625/625 [==============================] - 33s 53ms/step - loss: 0.1419 - accuracy: 0.9517 - val_loss: 0.3630 - val_accuracy: 0.8740\n",
            "Epoch 7/10\n",
            "625/625 [==============================] - 33s 53ms/step - loss: 0.1179 - accuracy: 0.9621 - val_loss: 0.3661 - val_accuracy: 0.8866\n",
            "Epoch 8/10\n",
            "625/625 [==============================] - 32s 52ms/step - loss: 0.1007 - accuracy: 0.9675 - val_loss: 0.3740 - val_accuracy: 0.8838\n",
            "Epoch 9/10\n",
            "625/625 [==============================] - 33s 52ms/step - loss: 0.0796 - accuracy: 0.9758 - val_loss: 0.4760 - val_accuracy: 0.8812\n",
            "Epoch 10/10\n",
            "625/625 [==============================] - 33s 53ms/step - loss: 0.0667 - accuracy: 0.9797 - val_loss: 0.4068 - val_accuracy: 0.8866\n",
            "782/782 [==============================] - 24s 30ms/step - loss: 0.3564 - accuracy: 0.8628\n",
            "Test acc: 0.863\n"
          ]
        }
      ],
      "source": [
        "inputs = keras.Input(shape=(None,), dtype=\"int64\")\n",
        "embedded = layers.Embedding(input_dim=max_tokens, output_dim=256)(inputs)\n",
        "x = layers.Bidirectional(layers.LSTM(32))(embedded)\n",
        "x = layers.Dropout(0.5)(x)\n",
        "outputs = layers.Dense(1, activation=\"sigmoid\")(x)\n",
        "model = keras.Model(inputs, outputs)\n",
        "model.compile(optimizer=\"rmsprop\",\n",
        "       loss=\"binary_crossentropy\",\n",
        "       metrics=[\"accuracy\"])\n",
        "model.summary()\n",
        "\n",
        "callbacks = [\n",
        "    keras.callbacks.ModelCheckpoint(\"embeddings_bidir_gru.keras\",\n",
        "    save_best_only=True)\n",
        "]\n",
        "model.fit(int_train_ds, validation_data=int_val_ds, epochs=10, callbacks=callbacks)\n",
        "model = keras.models.load_model(\"embeddings_bidir_gru.keras\")\n",
        "print(f\"Test acc: {model.evaluate(int_test_ds)[1]:.3f}\")"
      ]
    },
    {
      "cell_type": "markdown",
      "metadata": {
        "id": "Zaey0P40UB-O"
      },
      "source": [
        "####程式 11.17 訓練啟用了遮罩的Embedding層"
      ]
    },
    {
      "cell_type": "code",
      "execution_count": null,
      "metadata": {
        "id": "NKGkcTy1UB-O",
        "colab": {
          "base_uri": "https://localhost:8080/"
        },
        "outputId": "26736a0c-129d-46b4-fab7-ea56f76a9b8a"
      },
      "outputs": [
        {
          "output_type": "stream",
          "name": "stdout",
          "text": [
            "Model: \"model_2\"\n",
            "_________________________________________________________________\n",
            " Layer (type)                Output Shape              Param #   \n",
            "=================================================================\n",
            " input_3 (InputLayer)        [(None, None)]            0         \n",
            "                                                                 \n",
            " embedding_2 (Embedding)     (None, None, 256)         5120000   \n",
            "                                                                 \n",
            " bidirectional_2 (Bidirectio  (None, 64)               73984     \n",
            " nal)                                                            \n",
            "                                                                 \n",
            " dropout_2 (Dropout)         (None, 64)                0         \n",
            "                                                                 \n",
            " dense_2 (Dense)             (None, 1)                 65        \n",
            "                                                                 \n",
            "=================================================================\n",
            "Total params: 5,194,049\n",
            "Trainable params: 5,194,049\n",
            "Non-trainable params: 0\n",
            "_________________________________________________________________\n",
            "Epoch 1/10\n",
            "625/625 [==============================] - 50s 68ms/step - loss: 0.4098 - accuracy: 0.8163 - val_loss: 0.3086 - val_accuracy: 0.8802\n",
            "Epoch 2/10\n",
            "625/625 [==============================] - 39s 62ms/step - loss: 0.2460 - accuracy: 0.9036 - val_loss: 0.2595 - val_accuracy: 0.8956\n",
            "Epoch 3/10\n",
            "625/625 [==============================] - 37s 59ms/step - loss: 0.1751 - accuracy: 0.9356 - val_loss: 0.2740 - val_accuracy: 0.8946\n",
            "Epoch 4/10\n",
            "625/625 [==============================] - 38s 60ms/step - loss: 0.1321 - accuracy: 0.9523 - val_loss: 0.3001 - val_accuracy: 0.8872\n",
            "Epoch 5/10\n",
            "625/625 [==============================] - 37s 58ms/step - loss: 0.0988 - accuracy: 0.9663 - val_loss: 0.3434 - val_accuracy: 0.8904\n",
            "Epoch 6/10\n",
            "625/625 [==============================] - 37s 59ms/step - loss: 0.0735 - accuracy: 0.9747 - val_loss: 0.3838 - val_accuracy: 0.8838\n",
            "Epoch 7/10\n",
            "625/625 [==============================] - 38s 60ms/step - loss: 0.0530 - accuracy: 0.9828 - val_loss: 0.5213 - val_accuracy: 0.8722\n",
            "Epoch 8/10\n",
            "625/625 [==============================] - 39s 62ms/step - loss: 0.0397 - accuracy: 0.9871 - val_loss: 0.4523 - val_accuracy: 0.8772\n",
            "Epoch 9/10\n",
            "625/625 [==============================] - 39s 62ms/step - loss: 0.0287 - accuracy: 0.9905 - val_loss: 0.4909 - val_accuracy: 0.8878\n",
            "Epoch 10/10\n",
            "625/625 [==============================] - 39s 62ms/step - loss: 0.0182 - accuracy: 0.9942 - val_loss: 0.6336 - val_accuracy: 0.8720\n",
            "782/782 [==============================] - 25s 29ms/step - loss: 0.3028 - accuracy: 0.8735\n",
            "Test acc: 0.873\n"
          ]
        }
      ],
      "source": [
        "inputs = keras.Input(shape=(None,), dtype=\"int64\")\n",
        "embedded = layers.Embedding(\n",
        "    input_dim=max_tokens, output_dim=256, mask_zero=True)(inputs)\n",
        "x = layers.Bidirectional(layers.LSTM(32))(embedded)\n",
        "x = layers.Dropout(0.5)(x)\n",
        "outputs = layers.Dense(1, activation=\"sigmoid\")(x)\n",
        "model = keras.Model(inputs, outputs)\n",
        "model.compile(optimizer=\"rmsprop\",\n",
        "       loss=\"binary_crossentropy\",\n",
        "       metrics=[\"accuracy\"])\n",
        "model.summary()\n",
        "\n",
        "callbacks = [\n",
        "    keras.callbacks.ModelCheckpoint(\"embeddings_bidir_gru_with_masking.keras\",\n",
        "                    save_best_only=True)\n",
        "]\n",
        "model.fit(int_train_ds, validation_data=int_val_ds, epochs=10, callbacks=callbacks)\n",
        "model = keras.models.load_model(\"embeddings_bidir_gru_with_masking.keras\")\n",
        "print(f\"Test acc: {model.evaluate(int_test_ds)[1]:.3f}\")"
      ]
    },
    {
      "cell_type": "code",
      "execution_count": null,
      "metadata": {
        "id": "rqeDY23tUB-P",
        "colab": {
          "base_uri": "https://localhost:8080/"
        },
        "outputId": "6e3007e3-6458-4581-fa42-350430dd0ac3"
      },
      "outputs": [
        {
          "output_type": "stream",
          "name": "stdout",
          "text": [
            "--2022-05-25 03:53:24--  http://nlp.stanford.edu/data/glove.6B.zip\n",
            "Resolving nlp.stanford.edu (nlp.stanford.edu)... 171.64.67.140\n",
            "Connecting to nlp.stanford.edu (nlp.stanford.edu)|171.64.67.140|:80... connected.\n",
            "HTTP request sent, awaiting response... 302 Found\n",
            "Location: https://nlp.stanford.edu/data/glove.6B.zip [following]\n",
            "--2022-05-25 03:53:24--  https://nlp.stanford.edu/data/glove.6B.zip\n",
            "Connecting to nlp.stanford.edu (nlp.stanford.edu)|171.64.67.140|:443... connected.\n",
            "HTTP request sent, awaiting response... 301 Moved Permanently\n",
            "Location: http://downloads.cs.stanford.edu/nlp/data/glove.6B.zip [following]\n",
            "--2022-05-25 03:53:24--  http://downloads.cs.stanford.edu/nlp/data/glove.6B.zip\n",
            "Resolving downloads.cs.stanford.edu (downloads.cs.stanford.edu)... 171.64.64.22\n",
            "Connecting to downloads.cs.stanford.edu (downloads.cs.stanford.edu)|171.64.64.22|:80... connected.\n",
            "HTTP request sent, awaiting response... 200 OK\n",
            "Length: 862182613 (822M) [application/zip]\n",
            "Saving to: ‘glove.6B.zip’\n",
            "\n",
            "glove.6B.zip        100%[===================>] 822.24M  5.10MB/s    in 2m 40s  \n",
            "\n",
            "2022-05-25 03:56:04 (5.14 MB/s) - ‘glove.6B.zip’ saved [862182613/862182613]\n",
            "\n"
          ]
        }
      ],
      "source": [
        "!wget http://nlp.stanford.edu/data/glove.6B.zip\n",
        "!unzip -q glove.6B.zip"
      ]
    },
    {
      "cell_type": "markdown",
      "metadata": {
        "id": "BUN9MoCDUB-Q"
      },
      "source": [
        "####程式 11.18 到GloVe詞嵌入向量檔案進行解析"
      ]
    },
    {
      "cell_type": "code",
      "execution_count": null,
      "metadata": {
        "id": "KbSzYOR-UB-Q",
        "colab": {
          "base_uri": "https://localhost:8080/"
        },
        "outputId": "e622d2f1-4c07-4001-ed44-47bc967a1146"
      },
      "outputs": [
        {
          "output_type": "stream",
          "name": "stdout",
          "text": [
            "Found 400000 word vectors.\n"
          ]
        }
      ],
      "source": [
        "import numpy as np\n",
        "path_to_glove_file = \"glove.6B.100d.txt\"\n",
        "\n",
        "embeddings_index = {}\n",
        "with open(path_to_glove_file) as f:\n",
        "    for line in f:\n",
        "        word, coefs = line.split(maxsplit=1)\n",
        "        coefs = np.fromstring(coefs, \"f\", sep=\" \")\n",
        "        embeddings_index[word] = coefs\n",
        "\n",
        "print(f\"Found {len(embeddings_index)} word vectors.\")"
      ]
    },
    {
      "cell_type": "markdown",
      "metadata": {
        "id": "IfbfoHfUUB-Q"
      },
      "source": [
        "####程式 11.19 準備GloVe詞嵌入矩陣"
      ]
    },
    {
      "cell_type": "code",
      "execution_count": null,
      "metadata": {
        "id": "1wAH0x-bUB-Q"
      },
      "outputs": [],
      "source": [
        "embedding_dim = 100\n",
        "\n",
        "vocabulary = text_vectorization.get_vocabulary()\n",
        "word_index = dict(zip(vocabulary, range(len(vocabulary))))\n",
        "\n",
        "embedding_matrix = np.zeros((max_tokens, embedding_dim))\n",
        "for word, i in word_index.items():\n",
        "    if i < max_tokens:\n",
        "        embedding_vector = embeddings_index.get(word)\n",
        "    if embedding_vector is not None:\n",
        "        embedding_matrix[i] = embedding_vector"
      ]
    },
    {
      "cell_type": "code",
      "execution_count": null,
      "metadata": {
        "id": "1-VKe3iBUB-R"
      },
      "outputs": [],
      "source": [
        "embedding_layer = layers.Embedding(\n",
        "    max_tokens,\n",
        "    embedding_dim,\n",
        "    embeddings_initializer=keras.initializers.Constant(embedding_matrix),\n",
        "    trainable=False,\n",
        "    mask_zero=True,\n",
        ")"
      ]
    },
    {
      "cell_type": "markdown",
      "metadata": {
        "id": "SJ4fTS47UB-R"
      },
      "source": [
        "####程式 11.20 使用預訓練Embedding層的模型"
      ]
    },
    {
      "cell_type": "code",
      "execution_count": null,
      "metadata": {
        "id": "L85Z8fyzUB-R",
        "colab": {
          "base_uri": "https://localhost:8080/"
        },
        "outputId": "c8c59c81-b958-4e61-c6e2-f728f7f702be"
      },
      "outputs": [
        {
          "output_type": "stream",
          "name": "stdout",
          "text": [
            "Model: \"model_3\"\n",
            "_________________________________________________________________\n",
            " Layer (type)                Output Shape              Param #   \n",
            "=================================================================\n",
            " input_4 (InputLayer)        [(None, None)]            0         \n",
            "                                                                 \n",
            " embedding_3 (Embedding)     (None, None, 100)         2000000   \n",
            "                                                                 \n",
            " bidirectional_3 (Bidirectio  (None, 64)               34048     \n",
            " nal)                                                            \n",
            "                                                                 \n",
            " dropout_3 (Dropout)         (None, 64)                0         \n",
            "                                                                 \n",
            " dense_3 (Dense)             (None, 1)                 65        \n",
            "                                                                 \n",
            "=================================================================\n",
            "Total params: 2,034,113\n",
            "Trainable params: 34,113\n",
            "Non-trainable params: 2,000,000\n",
            "_________________________________________________________________\n",
            "Epoch 1/10\n",
            "625/625 [==============================] - 47s 63ms/step - loss: 0.5710 - accuracy: 0.6956 - val_loss: 0.4510 - val_accuracy: 0.7940\n",
            "Epoch 2/10\n",
            "625/625 [==============================] - 37s 59ms/step - loss: 0.4438 - accuracy: 0.7969 - val_loss: 0.5036 - val_accuracy: 0.7522\n",
            "Epoch 3/10\n",
            "625/625 [==============================] - 37s 59ms/step - loss: 0.3968 - accuracy: 0.8237 - val_loss: 0.3489 - val_accuracy: 0.8458\n",
            "Epoch 4/10\n",
            "625/625 [==============================] - 37s 59ms/step - loss: 0.3604 - accuracy: 0.8480 - val_loss: 0.3409 - val_accuracy: 0.8538\n",
            "Epoch 5/10\n",
            "625/625 [==============================] - 36s 58ms/step - loss: 0.3381 - accuracy: 0.8579 - val_loss: 0.3304 - val_accuracy: 0.8592\n",
            "Epoch 6/10\n",
            "625/625 [==============================] - 37s 59ms/step - loss: 0.3153 - accuracy: 0.8687 - val_loss: 0.3078 - val_accuracy: 0.8716\n",
            "Epoch 7/10\n",
            "625/625 [==============================] - 36s 57ms/step - loss: 0.3019 - accuracy: 0.8745 - val_loss: 0.3440 - val_accuracy: 0.8594\n",
            "Epoch 8/10\n",
            "625/625 [==============================] - 36s 57ms/step - loss: 0.2849 - accuracy: 0.8845 - val_loss: 0.3321 - val_accuracy: 0.8588\n",
            "Epoch 9/10\n",
            "625/625 [==============================] - 37s 59ms/step - loss: 0.2725 - accuracy: 0.8893 - val_loss: 0.2957 - val_accuracy: 0.8790\n",
            "Epoch 10/10\n",
            "625/625 [==============================] - 35s 55ms/step - loss: 0.2597 - accuracy: 0.8939 - val_loss: 0.3018 - val_accuracy: 0.8850\n",
            "782/782 [==============================] - 22s 25ms/step - loss: 0.3033 - accuracy: 0.8666\n",
            "Test acc: 0.867\n"
          ]
        }
      ],
      "source": [
        "inputs = keras.Input(shape=(None,), dtype=\"int64\")\n",
        "embedded = embedding_layer(inputs)\n",
        "x = layers.Bidirectional(layers.LSTM(32))(embedded)\n",
        "x = layers.Dropout(0.5)(x)\n",
        "outputs = layers.Dense(1, activation=\"sigmoid\")(x)\n",
        "model = keras.Model(inputs, outputs)\n",
        "model.compile(optimizer=\"rmsprop\",\n",
        "       loss=\"binary_crossentropy\",\n",
        "       metrics=[\"accuracy\"])\n",
        "model.summary()\n",
        "\n",
        "callbacks = [\n",
        "    keras.callbacks.ModelCheckpoint(\"glove_embeddings_sequence_model.keras\",\n",
        "                    save_best_only=True)\n",
        "]\n",
        "model.fit(int_train_ds, validation_data=int_val_ds, epochs=10, callbacks=callbacks)\n",
        "model = keras.models.load_model(\"glove_embeddings_sequence_model.keras\")\n",
        "print(f\"Test acc: {model.evaluate(int_test_ds)[1]:.3f}\")"
      ]
    }
  ],
  "metadata": {
    "colab": {
      "provenance": [],
      "toc_visible": true,
      "include_colab_link": true
    },
    "kernelspec": {
      "display_name": "Python 3",
      "language": "python",
      "name": "python3"
    },
    "language_info": {
      "codemirror_mode": {
        "name": "ipython",
        "version": 3
      },
      "file_extension": ".py",
      "mimetype": "text/x-python",
      "name": "python",
      "nbconvert_exporter": "python",
      "pygments_lexer": "ipython3",
      "version": "3.7.0"
    },
    "accelerator": "GPU"
  },
  "nbformat": 4,
  "nbformat_minor": 0
}