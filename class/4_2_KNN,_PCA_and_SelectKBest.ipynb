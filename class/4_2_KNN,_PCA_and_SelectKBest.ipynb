{
  "nbformat": 4,
  "nbformat_minor": 0,
  "metadata": {
    "kernelspec": {
      "display_name": "Python 3",
      "language": "python",
      "name": "python3"
    },
    "language_info": {
      "codemirror_mode": {
        "name": "ipython",
        "version": 3
      },
      "file_extension": ".py",
      "mimetype": "text/x-python",
      "name": "python",
      "nbconvert_exporter": "python",
      "pygments_lexer": "ipython3",
      "version": "3.6.6"
    },
    "colab": {
      "name": "4-2 KNN, PCA and SelectKBest.ipynb",
      "provenance": [],
      "include_colab_link": true
    }
  },
  "cells": [
    {
      "cell_type": "markdown",
      "metadata": {
        "id": "view-in-github",
        "colab_type": "text"
      },
      "source": [
        "<a href=\"https://colab.research.google.com/github/jumbokh/csu1112-class/blob/main/class/4_2_KNN%2C_PCA_and_SelectKBest.ipynb\" target=\"_parent\"><img src=\"https://colab.research.google.com/assets/colab-badge.svg\" alt=\"Open In Colab\"/></a>"
      ]
    },
    {
      "cell_type": "markdown",
      "metadata": {
        "id": "KRbgW2Vquuw4"
      },
      "source": [
        "## 作業\n",
        "1. 請用鳶尾花資料集，並用全部的欄位和資料來做預測。  \n",
        "    * 請不要用管道器，自己把所有過程用程式出來。資料要進行標準化、主成分分析(n_components=2)和k最近鄰。  \n",
        "    * 請用管道器再做一次，並比較結果。"
      ]
    },
    {
      "cell_type": "code",
      "metadata": {
        "id": "N0iTZA7yuuw7",
        "colab": {
          "base_uri": "https://localhost:8080/",
          "height": 205
        },
        "outputId": "2c65634c-7d1e-46ae-a0b5-d51572e868f2"
      },
      "source": [
        "import pandas as pd\n",
        "import numpy as np\n",
        "import matplotlib.pyplot as plt\n",
        "import seaborn as sns\n",
        "%matplotlib inline\n",
        "plt.rcParams['font.sans-serif'] = ['DFKai-sb'] \n",
        "plt.rcParams['axes.unicode_minus'] = False\n",
        "%config InlineBackend.figure_format = 'retina'\n",
        "import warnings\n",
        "warnings.filterwarnings('ignore')\n",
        "\n",
        "from sklearn.datasets import load_iris\n",
        "iris = load_iris()\n",
        "df = pd.DataFrame(iris['data'], columns=iris['feature_names'])\n",
        "df['target'] = iris['target']\n",
        "df = df[['sepal width (cm)', 'petal length (cm)','target']]\n",
        "df = df.iloc[50:]\n",
        "df.head()"
      ],
      "execution_count": null,
      "outputs": [
        {
          "output_type": "execute_result",
          "data": {
            "text/html": [
              "<div>\n",
              "<style scoped>\n",
              "    .dataframe tbody tr th:only-of-type {\n",
              "        vertical-align: middle;\n",
              "    }\n",
              "\n",
              "    .dataframe tbody tr th {\n",
              "        vertical-align: top;\n",
              "    }\n",
              "\n",
              "    .dataframe thead th {\n",
              "        text-align: right;\n",
              "    }\n",
              "</style>\n",
              "<table border=\"1\" class=\"dataframe\">\n",
              "  <thead>\n",
              "    <tr style=\"text-align: right;\">\n",
              "      <th></th>\n",
              "      <th>sepal width (cm)</th>\n",
              "      <th>petal length (cm)</th>\n",
              "      <th>target</th>\n",
              "    </tr>\n",
              "  </thead>\n",
              "  <tbody>\n",
              "    <tr>\n",
              "      <th>50</th>\n",
              "      <td>3.2</td>\n",
              "      <td>4.7</td>\n",
              "      <td>1</td>\n",
              "    </tr>\n",
              "    <tr>\n",
              "      <th>51</th>\n",
              "      <td>3.2</td>\n",
              "      <td>4.5</td>\n",
              "      <td>1</td>\n",
              "    </tr>\n",
              "    <tr>\n",
              "      <th>52</th>\n",
              "      <td>3.1</td>\n",
              "      <td>4.9</td>\n",
              "      <td>1</td>\n",
              "    </tr>\n",
              "    <tr>\n",
              "      <th>53</th>\n",
              "      <td>2.3</td>\n",
              "      <td>4.0</td>\n",
              "      <td>1</td>\n",
              "    </tr>\n",
              "    <tr>\n",
              "      <th>54</th>\n",
              "      <td>2.8</td>\n",
              "      <td>4.6</td>\n",
              "      <td>1</td>\n",
              "    </tr>\n",
              "  </tbody>\n",
              "</table>\n",
              "</div>"
            ],
            "text/plain": [
              "    sepal width (cm)  petal length (cm)  target\n",
              "50               3.2                4.7       1\n",
              "51               3.2                4.5       1\n",
              "52               3.1                4.9       1\n",
              "53               2.3                4.0       1\n",
              "54               2.8                4.6       1"
            ]
          },
          "metadata": {
            "tags": []
          },
          "execution_count": 1
        }
      ]
    },
    {
      "cell_type": "code",
      "metadata": {
        "id": "3sEgbsHpuuw9",
        "colab": {
          "base_uri": "https://localhost:8080/"
        },
        "outputId": "7e6a6781-75dd-4ec3-ca9c-000a7082943e"
      },
      "source": [
        "# 沒有用管道器\n",
        "from sklearn.datasets import load_iris\n",
        "iris = load_iris()\n",
        "X = pd.DataFrame(iris['data'], columns=iris['feature_names'])\n",
        "y = iris['target']\n",
        "\n",
        "from sklearn.model_selection import train_test_split\n",
        "X_train, X_test, y_train, y_test = train_test_split(X, y, \n",
        "                                                   test_size=0.33, random_state=42)\n",
        "from sklearn.preprocessing import StandardScaler\n",
        "from sklearn.decomposition import PCA\n",
        "from sklearn.neighbors import KNeighborsClassifier\n",
        "# Step1: Standardization\n",
        "ss = StandardScaler()\n",
        "X_train_ss = ss.fit_transform(X_train)\n",
        "# Step2: PCA\n",
        "pca = PCA(n_components=2)\n",
        "X_train_ss_pca = pca.fit_transform(X_train_ss)\n",
        "# Step3: Knn\n",
        "knn = KNeighborsClassifier()\n",
        "knn.fit(X_train_ss_pca, y_train)\n",
        "# Step4: Transform X_test\n",
        "X_test_ss = ss.transform(X_test)\n",
        "X_test_ss_pca = pca.transform(X_test_ss)\n",
        "# Step5: Predict\n",
        "\n",
        "y_pred = knn.predict(X_test_ss_pca)\n",
        "\n",
        "from sklearn.metrics import accuracy_score, confusion_matrix\n",
        "print('整體正確率:',accuracy_score(y_test, y_pred).round(2))\n",
        "confusion_matrix(y_test, y_pred)"
      ],
      "execution_count": null,
      "outputs": [
        {
          "output_type": "stream",
          "text": [
            "整體正確率: 0.94\n"
          ],
          "name": "stdout"
        },
        {
          "output_type": "execute_result",
          "data": {
            "text/plain": [
              "array([[19,  0,  0],\n",
              "       [ 0, 14,  1],\n",
              "       [ 0,  2, 14]])"
            ]
          },
          "metadata": {
            "tags": []
          },
          "execution_count": 2
        }
      ]
    },
    {
      "cell_type": "code",
      "metadata": {
        "id": "nyGzMfoFuuw-",
        "colab": {
          "base_uri": "https://localhost:8080/"
        },
        "outputId": "6443204a-ff1e-431e-9b64-5ae20a14aec0"
      },
      "source": [
        "# 管道器實作\n",
        "from sklearn.pipeline import make_pipeline\n",
        "model_pl_knn = make_pipeline(\n",
        "    StandardScaler(),\n",
        "    PCA(2),\n",
        "    KNeighborsClassifier()\n",
        ")\n",
        "model_pl_knn.fit(X_train, y_train)\n",
        "y_pred = model_pl_knn.predict(X_test)\n",
        "print('整體正確率:',accuracy_score(y_test, y_pred).round(2))\n",
        "confusion_matrix(y_test, y_pred)"
      ],
      "execution_count": null,
      "outputs": [
        {
          "output_type": "stream",
          "text": [
            "整體正確率: 0.94\n"
          ],
          "name": "stdout"
        },
        {
          "output_type": "execute_result",
          "data": {
            "text/plain": [
              "array([[19,  0,  0],\n",
              "       [ 0, 14,  1],\n",
              "       [ 0,  2, 14]])"
            ]
          },
          "metadata": {
            "tags": []
          },
          "execution_count": 3
        }
      ]
    }
  ]
}