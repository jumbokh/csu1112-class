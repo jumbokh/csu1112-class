{
  "nbformat": 4,
  "nbformat_minor": 0,
  "metadata": {
    "colab": {
      "provenance": [],
      "toc_visible": true,
      "include_colab_link": true
    },
    "kernelspec": {
      "name": "python3",
      "display_name": "Python 3"
    },
    "language_info": {
      "name": "python"
    }
  },
  "cells": [
    {
      "cell_type": "markdown",
      "metadata": {
        "id": "view-in-github",
        "colab_type": "text"
      },
      "source": [
        "<a href=\"https://colab.research.google.com/github/jumbokh/csu1112-class/blob/main/class/openai/20230418.ipynb\" target=\"_parent\"><img src=\"https://colab.research.google.com/assets/colab-badge.svg\" alt=\"Open In Colab\"/></a>"
      ]
    },
    {
      "cell_type": "markdown",
      "source": [
        "# AQI API 資料應用"
      ],
      "metadata": {
        "id": "pAx0m08naEtA"
      }
    },
    {
      "cell_type": "code",
      "source": [
        "import requests\n",
        "url = \"https://data.epa.gov.tw/api/v2/aqx_p_432?api_key=e8dd42e6-9b8b-43f8-991e-b3dee723a52d&limit=1000&sort=ImportDate%20desc&format=JSON\"\n",
        "r = requests.get(url)\n",
        "r"
      ],
      "metadata": {
        "colab": {
          "base_uri": "https://localhost:8080/"
        },
        "id": "7qL_PgWGPVOY",
        "outputId": "d519d69f-4156-4472-b2fa-2ad921d6fa73"
      },
      "execution_count": null,
      "outputs": [
        {
          "output_type": "execute_result",
          "data": {
            "text/plain": [
              "<Response [200]>"
            ]
          },
          "metadata": {},
          "execution_count": 3
        }
      ]
    },
    {
      "cell_type": "code",
      "source": [
        "print(r.text)"
      ],
      "metadata": {
        "id": "h6Lt7nzUP_Sv"
      },
      "execution_count": null,
      "outputs": []
    },
    {
      "cell_type": "code",
      "source": [
        "# datas = r.json()\n",
        "# type(datas)\n",
        "# datas.keys()\n",
        "# datas['total']\n",
        "for i in range(len(datas['records'])):\n",
        "    print(datas['records'][i]['county'], end=\",\")\n",
        "    print(datas['records'][i]['sitename'], end=\",\")\n",
        "    print(datas['records'][i]['aqi'], end=\",\")\n",
        "    print(datas['records'][i]['status'])"
      ],
      "metadata": {
        "id": "tKqtZzhWR6oE"
      },
      "execution_count": null,
      "outputs": []
    },
    {
      "cell_type": "code",
      "source": [
        "q = input(\"請輸入你要查詢的縣市:\")\n",
        "for i in range(len(datas['records'])):\n",
        "    # if datas['records'][i]['county'] == q.replace(\"台\",\"臺\"):\n",
        "    if q.replace(\"台\",\"臺\") in datas['records'][i]['county']:\n",
        "        print(datas['records'][i]['county'], end=\",\")\n",
        "        print(datas['records'][i]['sitename'], end=\",\")\n",
        "        print(datas['records'][i]['aqi'], end=\",\")\n",
        "        print(datas['records'][i]['status'])"
      ],
      "metadata": {
        "colab": {
          "base_uri": "https://localhost:8080/"
        },
        "id": "pbZTRgT0VQBz",
        "outputId": "562f3dc4-e742-4e3d-e9d6-b960a5d82cb6"
      },
      "execution_count": null,
      "outputs": [
        {
          "output_type": "stream",
          "name": "stdout",
          "text": [
            "請輸入你要查詢的縣市:屏東\n",
            "屏東縣,屏東,97,普通\n",
            "屏東縣,潮州,85,普通\n",
            "屏東縣,恆春,40,良好\n",
            "屏東縣,屏東(琉球),59,普通\n",
            "屏東縣,屏東(枋山),37,良好\n"
          ]
        }
      ]
    },
    {
      "cell_type": "markdown",
      "source": [
        "# 隨機小貓圖片\n",
        "\n",
        "https://api.thecatapi.com/v1/images/search"
      ],
      "metadata": {
        "id": "Tur7okEEXYqi"
      }
    },
    {
      "cell_type": "code",
      "source": [
        "import requests\n",
        "url = \"https://api.thecatapi.com/v1/images/search\"\n",
        "r = requests.get(url)\n",
        "datas = r.json()"
      ],
      "metadata": {
        "id": "tVDMeADMXcS2"
      },
      "execution_count": null,
      "outputs": []
    },
    {
      "cell_type": "code",
      "source": [
        "datas[0]['url']"
      ],
      "metadata": {
        "colab": {
          "base_uri": "https://localhost:8080/",
          "height": 35
        },
        "id": "4HRF6sLCXmPi",
        "outputId": "a676775c-403b-444c-dc2e-85f5ec0a45f9"
      },
      "execution_count": null,
      "outputs": [
        {
          "output_type": "execute_result",
          "data": {
            "text/plain": [
              "'https://cdn2.thecatapi.com/images/2hb.jpg'"
            ],
            "application/vnd.google.colaboratory.intrinsic+json": {
              "type": "string"
            }
          },
          "metadata": {},
          "execution_count": 24
        }
      ]
    },
    {
      "cell_type": "code",
      "source": [
        "from IPython.display import HTML\n",
        "HTML(f\"<img src={datas[0]['url']}>\")"
      ],
      "metadata": {
        "colab": {
          "base_uri": "https://localhost:8080/",
          "height": 492
        },
        "id": "b0QDGM7PYKE8",
        "outputId": "7db0c2e6-2fbb-4cac-d653-f044f3beb0f9"
      },
      "execution_count": null,
      "outputs": [
        {
          "output_type": "execute_result",
          "data": {
            "text/plain": [
              "<IPython.core.display.HTML object>"
            ],
            "text/html": [
              "<img src=https://cdn2.thecatapi.com/images/2hb.jpg>"
            ]
          },
          "metadata": {},
          "execution_count": 25
        }
      ]
    },
    {
      "cell_type": "code",
      "source": [
        "import requests\n",
        "from IPython.display import HTML\n",
        "\n",
        "url = \"https://api.thecatapi.com/v1/images/search\"\n",
        "r = requests.get(url)\n",
        "datas = r.json()\n",
        "HTML(f\"<img src={datas[0]['url']}>\")"
      ],
      "metadata": {
        "colab": {
          "base_uri": "https://localhost:8080/",
          "height": 552
        },
        "id": "uLUB097KYkRL",
        "outputId": "ef63df20-0bf2-4b8d-9009-4c6abd41ec49"
      },
      "execution_count": null,
      "outputs": [
        {
          "output_type": "execute_result",
          "data": {
            "text/plain": [
              "<IPython.core.display.HTML object>"
            ],
            "text/html": [
              "<img src=https://cdn2.thecatapi.com/images/a51.jpg>"
            ]
          },
          "metadata": {},
          "execution_count": 30
        }
      ]
    },
    {
      "cell_type": "markdown",
      "source": [
        "# ChatGPT API 串接(WebAPI)"
      ],
      "metadata": {
        "id": "Dfy_CEVKaVAF"
      }
    },
    {
      "cell_type": "code",
      "source": [
        "import requests\n",
        "api_key = \"API_KEY\"\n",
        "headers = {'Authorization':f'Bearer {api_key}'}\n",
        "url = 'https://api.openai.com/v1/completions'\n",
        "data = {\n",
        "    'prompt':'愛情是什麼?',\n",
        "    'model':'text-davinci-003',\n",
        "    'temperature':0.5,\n",
        "    'max_tokens':1024,\n",
        "}\n",
        "response = requests.post(url, json=data, headers = headers)\n",
        "response"
      ],
      "metadata": {
        "colab": {
          "base_uri": "https://localhost:8080/"
        },
        "id": "893V3CsPaerL",
        "outputId": "9bdfecec-1e9d-4ce7-d0f9-b2f3a70c8b03"
      },
      "execution_count": null,
      "outputs": [
        {
          "output_type": "execute_result",
          "data": {
            "text/plain": [
              "<Response [200]>"
            ]
          },
          "metadata": {},
          "execution_count": 31
        }
      ]
    },
    {
      "cell_type": "code",
      "source": [
        "print(response.text)"
      ],
      "metadata": {
        "colab": {
          "base_uri": "https://localhost:8080/"
        },
        "id": "A8qow9qxdnAa",
        "outputId": "266d4572-444c-4674-ae04-c221418336cc"
      },
      "execution_count": null,
      "outputs": [
        {
          "output_type": "stream",
          "name": "stdout",
          "text": [
            "{\"id\":\"cmpl-76WXmofpEMnjAiIZauk8MrAzKsdY1\",\"object\":\"text_completion\",\"created\":1681789422,\"model\":\"text-davinci-003\",\"choices\":[{\"text\":\"\\n\\n愛情是一種深刻的情感，表現在對另一個人的尊重、信任和關愛。它可以是情侶之間的感情，也可以是家庭成員、朋友或其他人之間的感情。\",\"index\":0,\"logprobs\":null,\"finish_reason\":\"stop\"}],\"usage\":{\"prompt_tokens\":11,\"completion_tokens\":118,\"total_tokens\":129}}\n",
            "\n"
          ]
        }
      ]
    },
    {
      "cell_type": "code",
      "source": [
        "datas = response.json()\n",
        "print(datas['choices'][0]['text'])"
      ],
      "metadata": {
        "colab": {
          "base_uri": "https://localhost:8080/"
        },
        "id": "kQpRxmO4eh-z",
        "outputId": "80cadc4d-94e0-4a5e-c8ca-24fe8ba9786a"
      },
      "execution_count": null,
      "outputs": [
        {
          "output_type": "stream",
          "name": "stdout",
          "text": [
            "\n",
            "\n",
            "愛情是一種深刻的情感，表現在對另一個人的尊重、信任和關愛。它可以是情侶之間的感情，也可以是家庭成員、朋友或其他人之間的感情。\n"
          ]
        }
      ]
    },
    {
      "cell_type": "code",
      "source": [
        "import requests\n",
        "api_key = \"API_KEY\"\n",
        "headers = {'Authorization':f'Bearer {api_key}'}\n",
        "url = 'https://api.openai.com/v1/completions'\n",
        "\n",
        "q = input('請輸入你的問題：')\n",
        "data = {\n",
        "    'prompt':q,\n",
        "    'model':'text-davinci-003',\n",
        "    'temperature':0.5,\n",
        "    'max_tokens':1024,\n",
        "}\n",
        "response = requests.post(url, json=data, headers = headers)\n",
        "\n",
        "datas = response.json()\n",
        "print('既然你誠心誠意的發問，我就大發慈悲的回答你：')\n",
        "print(datas['choices'][0]['text'].strip())"
      ],
      "metadata": {
        "colab": {
          "base_uri": "https://localhost:8080/"
        },
        "id": "jtqfcv-efDmF",
        "outputId": "698b5b1a-c0dd-492c-df61-1cd1a17015ff"
      },
      "execution_count": null,
      "outputs": [
        {
          "output_type": "stream",
          "name": "stdout",
          "text": [
            "請輸入你的問題：請問愛情是什麼?\n",
            "既然你誠心誠意的發問，我就大發慈悲的回答你：\n",
            "愛情是一種深沉的情感，是一種深深的感情，它可以是柔情的、深情的、熱情的或是純潔的。愛情可以是為了對方而活的，也可以是為了自己而活的，它可以是一種喜悅，也可以是一種痛苦。\n"
          ]
        }
      ]
    }
  ]
}