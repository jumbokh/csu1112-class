{
  "cells": [
    {
      "cell_type": "markdown",
      "metadata": {
        "id": "dRDhD5e0DKW1"
      },
      "source": [
        "# 計算投資組合報酬率"
      ]
    },
    {
      "cell_type": "code",
      "source": [
        "!pip install yfinance --upgrade --no-cache-dir"
      ],
      "metadata": {
        "id": "mlHQkj--DQrd",
        "outputId": "95d92aa7-2e49-43f8-9cd1-46e91fb2e179",
        "colab": {
          "base_uri": "https://localhost:8080/"
        }
      },
      "execution_count": 1,
      "outputs": [
        {
          "output_type": "stream",
          "name": "stdout",
          "text": [
            "Looking in indexes: https://pypi.org/simple, https://us-python.pkg.dev/colab-wheels/public/simple/\n",
            "Requirement already satisfied: yfinance in /usr/local/lib/python3.9/dist-packages (0.2.14)\n",
            "Requirement already satisfied: numpy>=1.16.5 in /usr/local/lib/python3.9/dist-packages (from yfinance) (1.22.4)\n",
            "Requirement already satisfied: lxml>=4.9.1 in /usr/local/lib/python3.9/dist-packages (from yfinance) (4.9.2)\n",
            "Requirement already satisfied: cryptography>=3.3.2 in /usr/local/lib/python3.9/dist-packages (from yfinance) (40.0.1)\n",
            "Requirement already satisfied: html5lib>=1.1 in /usr/local/lib/python3.9/dist-packages (from yfinance) (1.1)\n",
            "Requirement already satisfied: multitasking>=0.0.7 in /usr/local/lib/python3.9/dist-packages (from yfinance) (0.0.11)\n",
            "Requirement already satisfied: beautifulsoup4>=4.11.1 in /usr/local/lib/python3.9/dist-packages (from yfinance) (4.11.2)\n",
            "Requirement already satisfied: pandas>=1.3.0 in /usr/local/lib/python3.9/dist-packages (from yfinance) (1.4.4)\n",
            "Requirement already satisfied: appdirs>=1.4.4 in /usr/local/lib/python3.9/dist-packages (from yfinance) (1.4.4)\n",
            "Requirement already satisfied: pytz>=2022.5 in /usr/local/lib/python3.9/dist-packages (from yfinance) (2022.7.1)\n",
            "Requirement already satisfied: requests>=2.26 in /usr/local/lib/python3.9/dist-packages (from yfinance) (2.27.1)\n",
            "Requirement already satisfied: frozendict>=2.3.4 in /usr/local/lib/python3.9/dist-packages (from yfinance) (2.3.6)\n",
            "Requirement already satisfied: soupsieve>1.2 in /usr/local/lib/python3.9/dist-packages (from beautifulsoup4>=4.11.1->yfinance) (2.4)\n",
            "Requirement already satisfied: cffi>=1.12 in /usr/local/lib/python3.9/dist-packages (from cryptography>=3.3.2->yfinance) (1.15.1)\n",
            "Requirement already satisfied: webencodings in /usr/local/lib/python3.9/dist-packages (from html5lib>=1.1->yfinance) (0.5.1)\n",
            "Requirement already satisfied: six>=1.9 in /usr/local/lib/python3.9/dist-packages (from html5lib>=1.1->yfinance) (1.16.0)\n",
            "Requirement already satisfied: python-dateutil>=2.8.1 in /usr/local/lib/python3.9/dist-packages (from pandas>=1.3.0->yfinance) (2.8.2)\n",
            "Requirement already satisfied: charset-normalizer~=2.0.0 in /usr/local/lib/python3.9/dist-packages (from requests>=2.26->yfinance) (2.0.12)\n",
            "Requirement already satisfied: idna<4,>=2.5 in /usr/local/lib/python3.9/dist-packages (from requests>=2.26->yfinance) (3.4)\n",
            "Requirement already satisfied: urllib3<1.27,>=1.21.1 in /usr/local/lib/python3.9/dist-packages (from requests>=2.26->yfinance) (1.26.15)\n",
            "Requirement already satisfied: certifi>=2017.4.17 in /usr/local/lib/python3.9/dist-packages (from requests>=2.26->yfinance) (2022.12.7)\n",
            "Requirement already satisfied: pycparser in /usr/local/lib/python3.9/dist-packages (from cffi>=1.12->cryptography>=3.3.2->yfinance) (2.21)\n"
          ]
        }
      ]
    },
    {
      "cell_type": "code",
      "execution_count": 2,
      "metadata": {
        "id": "HfXv-8AODKW6"
      },
      "outputs": [],
      "source": [
        "import numpy as np\n",
        "import pandas as pd\n",
        "from pandas_datareader import data as pdr\n",
        "import yfinance as yf\n",
        "yf.pdr_override()"
      ]
    },
    {
      "cell_type": "code",
      "execution_count": 3,
      "metadata": {
        "id": "E0-2eKeXDKW7"
      },
      "outputs": [],
      "source": [
        "start = \"2017-01-01\"\n",
        "end = \"2017-12-31\""
      ]
    },
    {
      "cell_type": "markdown",
      "metadata": {
        "id": "_SmFrByrDKW8"
      },
      "source": [
        "## 美股投資組合報酬\n",
        "\n",
        "選股參考：[S&P500成分股](https://en.wikipedia.org/wiki/List_of_S%26P_500_companies)"
      ]
    },
    {
      "cell_type": "code",
      "execution_count": 4,
      "metadata": {
        "id": "7BCsdA5MDKW8"
      },
      "outputs": [],
      "source": [
        "portfolio = ['AAPL', 'GOOG', 'AMZN', 'MSFT']"
      ]
    },
    {
      "cell_type": "code",
      "execution_count": 5,
      "metadata": {
        "id": "kuD6YeDPDKW8",
        "outputId": "6358f8ac-8785-439f-b4e0-d69faeb21db8",
        "colab": {
          "base_uri": "https://localhost:8080/"
        }
      },
      "outputs": [
        {
          "output_type": "stream",
          "name": "stdout",
          "text": [
            "[*********************100%***********************]  1 of 1 completed\n",
            "[*********************100%***********************]  1 of 1 completed\n",
            "[*********************100%***********************]  1 of 1 completed\n",
            "[*********************100%***********************]  1 of 1 completed\n"
          ]
        }
      ],
      "source": [
        "data = {}\n",
        "for i in portfolio:\n",
        "    try:\n",
        "        data[i] = pdr.get_data_yahoo(i,start=start,end=end)\n",
        "    except Exception as e:\n",
        "        print(\"Error accesing symbol:\", i, \"==>\", e.args)"
      ]
    },
    {
      "cell_type": "code",
      "execution_count": 6,
      "metadata": {
        "id": "hYHKdzYEDKW9"
      },
      "outputs": [],
      "source": [
        "ret = []\n",
        "for i in portfolio:\n",
        "    ret.append(data[i].iloc[-1]['Adj Close']/data[i].iloc[0]['Adj Close'])"
      ]
    },
    {
      "cell_type": "code",
      "execution_count": 7,
      "metadata": {
        "id": "-6LyRBw0DKW9",
        "outputId": "58d738dc-1fce-442f-b674-b6231cdb77a6",
        "colab": {
          "base_uri": "https://localhost:8080/"
        }
      },
      "outputs": [
        {
          "output_type": "execute_result",
          "data": {
            "text/plain": [
              "[1.480425045470592, 1.3310606444389967, 1.5517003942803884, 1.3974110952548733]"
            ]
          },
          "metadata": {},
          "execution_count": 7
        }
      ],
      "source": [
        "ret"
      ]
    },
    {
      "cell_type": "code",
      "execution_count": 8,
      "metadata": {
        "id": "BbU2WqpODKW-"
      },
      "outputs": [],
      "source": [
        "weights = [0.25, 0.25, 0.25, 0.25]"
      ]
    },
    {
      "cell_type": "code",
      "execution_count": 9,
      "metadata": {
        "id": "drpirLugDKW-",
        "outputId": "e5aa7eef-2c47-4136-92b9-068beba7cb48",
        "colab": {
          "base_uri": "https://localhost:8080/"
        }
      },
      "outputs": [
        {
          "output_type": "execute_result",
          "data": {
            "text/plain": [
              "1.4401492948612127"
            ]
          },
          "metadata": {},
          "execution_count": 9
        }
      ],
      "source": [
        "(np.array(ret)*np.array(weights)).sum()"
      ]
    },
    {
      "cell_type": "markdown",
      "metadata": {
        "id": "dDEoprW6DKW_"
      },
      "source": [
        "## 台股投資組合報酬\n",
        "\n",
        "選股參考：[元大台灣50成分股](https://www.cnyes.com/twstock/Etfingredient/0050.htm)"
      ]
    },
    {
      "cell_type": "code",
      "execution_count": 10,
      "metadata": {
        "id": "h5SYBUtxDKW_"
      },
      "outputs": [],
      "source": [
        "portfolio = [\"2330.tw\", \"2317.tw\", \"2412.tw\", \"2454.tw\"]"
      ]
    },
    {
      "cell_type": "code",
      "execution_count": 11,
      "metadata": {
        "id": "osSP5qLSDKW_",
        "outputId": "f4b4dfa1-bd8a-4ece-bc17-500cc142cc5d",
        "colab": {
          "base_uri": "https://localhost:8080/"
        }
      },
      "outputs": [
        {
          "output_type": "stream",
          "name": "stdout",
          "text": [
            "[*********************100%***********************]  1 of 1 completed\n",
            "[*********************100%***********************]  1 of 1 completed\n",
            "[*********************100%***********************]  1 of 1 completed\n",
            "[*********************100%***********************]  1 of 1 completed\n"
          ]
        }
      ],
      "source": [
        "data = {}\n",
        "for i in portfolio:\n",
        "    try:\n",
        "        data[i] = pdr.get_data_yahoo(i,start=start,end=end)\n",
        "    except Exception as e:\n",
        "        print(\"Error accesing symbol:\", i, \"==>\", e.args)"
      ]
    },
    {
      "cell_type": "code",
      "execution_count": 12,
      "metadata": {
        "id": "on8TglsYDKXA"
      },
      "outputs": [],
      "source": [
        "ret = []\n",
        "for i in portfolio:\n",
        "    ret.append(data[i].iloc[-1]['Adj Close']/data[i].iloc[0]['Adj Close'])"
      ]
    },
    {
      "cell_type": "code",
      "execution_count": 13,
      "metadata": {
        "id": "7khhwL_VDKXA",
        "outputId": "9ac87f87-3546-4f74-fe0b-3282066229fe",
        "colab": {
          "base_uri": "https://localhost:8080/"
        }
      },
      "outputs": [
        {
          "output_type": "execute_result",
          "data": {
            "text/plain": [
              "[1.2959019287304037, 1.1738776915836637, 1.083024867057015, 1.3906042710466022]"
            ]
          },
          "metadata": {},
          "execution_count": 13
        }
      ],
      "source": [
        "ret"
      ]
    },
    {
      "cell_type": "code",
      "execution_count": 14,
      "metadata": {
        "id": "PmxIlNFMDKXA"
      },
      "outputs": [],
      "source": [
        "weights = [0.25, 0.25, 0.25, 0.25]"
      ]
    },
    {
      "cell_type": "code",
      "execution_count": 15,
      "metadata": {
        "id": "z9UwVAYRDKXA",
        "outputId": "7894da8d-2d2c-4c07-ceca-e8a5cb6956d1",
        "colab": {
          "base_uri": "https://localhost:8080/"
        }
      },
      "outputs": [
        {
          "output_type": "execute_result",
          "data": {
            "text/plain": [
              "1.2358521896044212"
            ]
          },
          "metadata": {},
          "execution_count": 15
        }
      ],
      "source": [
        "(np.array(ret)*np.array(weights)).sum()"
      ]
    }
  ],
  "metadata": {
    "kernelspec": {
      "display_name": "Python 3",
      "language": "python",
      "name": "python3"
    },
    "language_info": {
      "codemirror_mode": {
        "name": "ipython",
        "version": 3
      },
      "file_extension": ".py",
      "mimetype": "text/x-python",
      "name": "python",
      "nbconvert_exporter": "python",
      "pygments_lexer": "ipython3",
      "version": "3.8.3"
    },
    "colab": {
      "provenance": []
    }
  },
  "nbformat": 4,
  "nbformat_minor": 0
}