{
  "cells": [
    {
      "cell_type": "markdown",
      "metadata": {
        "id": "dRDhD5e0DKW1"
      },
      "source": [
        "# 計算投資組合報酬率"
      ]
    },
    {
      "cell_type": "code",
      "source": [
        "!pip install yfinance --upgrade --no-cache-dir"
      ],
      "metadata": {
        "id": "mlHQkj--DQrd",
        "outputId": "85e05bb1-f5ce-4ed6-dcd7-285dd2cd4a10",
        "colab": {
          "base_uri": "https://localhost:8080/"
        }
      },
      "execution_count": 31,
      "outputs": [
        {
          "output_type": "stream",
          "name": "stdout",
          "text": [
            "Looking in indexes: https://pypi.org/simple, https://us-python.pkg.dev/colab-wheels/public/simple/\n",
            "Requirement already satisfied: yfinance in /usr/local/lib/python3.9/dist-packages (0.2.14)\n",
            "Requirement already satisfied: html5lib>=1.1 in /usr/local/lib/python3.9/dist-packages (from yfinance) (1.1)\n",
            "Requirement already satisfied: pandas>=1.3.0 in /usr/local/lib/python3.9/dist-packages (from yfinance) (1.4.4)\n",
            "Requirement already satisfied: beautifulsoup4>=4.11.1 in /usr/local/lib/python3.9/dist-packages (from yfinance) (4.11.2)\n",
            "Requirement already satisfied: frozendict>=2.3.4 in /usr/local/lib/python3.9/dist-packages (from yfinance) (2.3.6)\n",
            "Requirement already satisfied: multitasking>=0.0.7 in /usr/local/lib/python3.9/dist-packages (from yfinance) (0.0.11)\n",
            "Requirement already satisfied: requests>=2.26 in /usr/local/lib/python3.9/dist-packages (from yfinance) (2.27.1)\n",
            "Requirement already satisfied: appdirs>=1.4.4 in /usr/local/lib/python3.9/dist-packages (from yfinance) (1.4.4)\n",
            "Requirement already satisfied: cryptography>=3.3.2 in /usr/local/lib/python3.9/dist-packages (from yfinance) (40.0.1)\n",
            "Requirement already satisfied: numpy>=1.16.5 in /usr/local/lib/python3.9/dist-packages (from yfinance) (1.22.4)\n",
            "Requirement already satisfied: pytz>=2022.5 in /usr/local/lib/python3.9/dist-packages (from yfinance) (2022.7.1)\n",
            "Requirement already satisfied: lxml>=4.9.1 in /usr/local/lib/python3.9/dist-packages (from yfinance) (4.9.2)\n",
            "Requirement already satisfied: soupsieve>1.2 in /usr/local/lib/python3.9/dist-packages (from beautifulsoup4>=4.11.1->yfinance) (2.4)\n",
            "Requirement already satisfied: cffi>=1.12 in /usr/local/lib/python3.9/dist-packages (from cryptography>=3.3.2->yfinance) (1.15.1)\n",
            "Requirement already satisfied: webencodings in /usr/local/lib/python3.9/dist-packages (from html5lib>=1.1->yfinance) (0.5.1)\n",
            "Requirement already satisfied: six>=1.9 in /usr/local/lib/python3.9/dist-packages (from html5lib>=1.1->yfinance) (1.16.0)\n",
            "Requirement already satisfied: python-dateutil>=2.8.1 in /usr/local/lib/python3.9/dist-packages (from pandas>=1.3.0->yfinance) (2.8.2)\n",
            "Requirement already satisfied: idna<4,>=2.5 in /usr/local/lib/python3.9/dist-packages (from requests>=2.26->yfinance) (3.4)\n",
            "Requirement already satisfied: certifi>=2017.4.17 in /usr/local/lib/python3.9/dist-packages (from requests>=2.26->yfinance) (2022.12.7)\n",
            "Requirement already satisfied: urllib3<1.27,>=1.21.1 in /usr/local/lib/python3.9/dist-packages (from requests>=2.26->yfinance) (1.26.15)\n",
            "Requirement already satisfied: charset-normalizer~=2.0.0 in /usr/local/lib/python3.9/dist-packages (from requests>=2.26->yfinance) (2.0.12)\n",
            "Requirement already satisfied: pycparser in /usr/local/lib/python3.9/dist-packages (from cffi>=1.12->cryptography>=3.3.2->yfinance) (2.21)\n"
          ]
        }
      ]
    },
    {
      "cell_type": "code",
      "execution_count": 32,
      "metadata": {
        "id": "HfXv-8AODKW6"
      },
      "outputs": [],
      "source": [
        "import numpy as np\n",
        "import pandas as pd\n",
        "from pandas_datareader import data as pdr\n",
        "import yfinance as yf\n",
        "yf.pdr_override()"
      ]
    },
    {
      "cell_type": "code",
      "execution_count": 33,
      "metadata": {
        "id": "E0-2eKeXDKW7"
      },
      "outputs": [],
      "source": [
        "start = \"2022-01-01\"\n",
        "end = \"2022-12-31\""
      ]
    },
    {
      "cell_type": "markdown",
      "metadata": {
        "id": "_SmFrByrDKW8"
      },
      "source": [
        "## 美股投資組合報酬\n",
        "\n",
        "選股參考：[S&P500成分股](https://en.wikipedia.org/wiki/List_of_S%26P_500_companies)"
      ]
    },
    {
      "cell_type": "code",
      "execution_count": 34,
      "metadata": {
        "id": "7BCsdA5MDKW8"
      },
      "outputs": [],
      "source": [
        "portfolio = ['AAPL', 'GOOG', 'AMZN', 'MSFT']"
      ]
    },
    {
      "cell_type": "code",
      "execution_count": 35,
      "metadata": {
        "id": "kuD6YeDPDKW8",
        "outputId": "3717c65b-2365-4d55-c412-d0d2bf2b1658",
        "colab": {
          "base_uri": "https://localhost:8080/"
        }
      },
      "outputs": [
        {
          "output_type": "stream",
          "name": "stdout",
          "text": [
            "[*********************100%***********************]  1 of 1 completed\n",
            "[*********************100%***********************]  1 of 1 completed\n",
            "[*********************100%***********************]  1 of 1 completed\n",
            "[*********************100%***********************]  1 of 1 completed\n"
          ]
        }
      ],
      "source": [
        "data = {}\n",
        "for i in portfolio:\n",
        "    try:\n",
        "        data[i] = pdr.get_data_yahoo(i,start=start,end=end)\n",
        "    except Exception as e:\n",
        "        print(\"Error accesing symbol:\", i, \"==>\", e.args)"
      ]
    },
    {
      "cell_type": "code",
      "execution_count": 36,
      "metadata": {
        "id": "hYHKdzYEDKW9"
      },
      "outputs": [],
      "source": [
        "ret = []\n",
        "for i in portfolio:\n",
        "    ret.append(data[i].iloc[-1]['Adj Close']/data[i].iloc[0]['Adj Close'])"
      ]
    },
    {
      "cell_type": "code",
      "execution_count": 37,
      "metadata": {
        "id": "-6LyRBw0DKW9",
        "outputId": "737fa87e-51e7-45e4-962b-bd1b7e803879",
        "colab": {
          "base_uri": "https://localhost:8080/"
        }
      },
      "outputs": [
        {
          "output_type": "execute_result",
          "data": {
            "text/plain": [
              "[0.7180049856020851,\n",
              " 0.6116168409237156,\n",
              " 0.49294474234414487,\n",
              " 0.7231281530471696]"
            ]
          },
          "metadata": {},
          "execution_count": 37
        }
      ],
      "source": [
        "ret"
      ]
    },
    {
      "cell_type": "code",
      "execution_count": 38,
      "metadata": {
        "id": "BbU2WqpODKW-"
      },
      "outputs": [],
      "source": [
        "weights = [0.25, 0.20, 0.20, 0.35]"
      ]
    },
    {
      "cell_type": "code",
      "execution_count": 39,
      "metadata": {
        "id": "drpirLugDKW-",
        "outputId": "dc631036-445e-4ba2-84de-53027fb1da47",
        "colab": {
          "base_uri": "https://localhost:8080/"
        }
      },
      "outputs": [
        {
          "output_type": "execute_result",
          "data": {
            "text/plain": [
              "0.6535084166206028"
            ]
          },
          "metadata": {},
          "execution_count": 39
        }
      ],
      "source": [
        "(np.array(ret)*np.array(weights)).sum()"
      ]
    },
    {
      "cell_type": "markdown",
      "metadata": {
        "id": "dDEoprW6DKW_"
      },
      "source": [
        "## 台股投資組合報酬\n",
        "\n",
        "選股參考：[元大台灣50成分股](https://www.cnyes.com/twstock/Etfingredient/0050.htm)"
      ]
    },
    {
      "cell_type": "code",
      "execution_count": 40,
      "metadata": {
        "id": "h5SYBUtxDKW_"
      },
      "outputs": [],
      "source": [
        "portfolio = [\"2330.tw\", \"2317.tw\", \"2412.tw\", \"2454.tw\"]"
      ]
    },
    {
      "cell_type": "code",
      "execution_count": 41,
      "metadata": {
        "id": "osSP5qLSDKW_",
        "outputId": "f0354ca2-777c-461b-9d49-4c827c8ecd58",
        "colab": {
          "base_uri": "https://localhost:8080/"
        }
      },
      "outputs": [
        {
          "output_type": "stream",
          "name": "stdout",
          "text": [
            "[*********************100%***********************]  1 of 1 completed\n",
            "[*********************100%***********************]  1 of 1 completed\n",
            "[*********************100%***********************]  1 of 1 completed\n",
            "[*********************100%***********************]  1 of 1 completed\n"
          ]
        }
      ],
      "source": [
        "data = {}\n",
        "for i in portfolio:\n",
        "    try:\n",
        "        data[i] = pdr.get_data_yahoo(i,start=start,end=end)\n",
        "    except Exception as e:\n",
        "        print(\"Error accesing symbol:\", i, \"==>\", e.args)"
      ]
    },
    {
      "cell_type": "code",
      "execution_count": 42,
      "metadata": {
        "id": "on8TglsYDKXA"
      },
      "outputs": [],
      "source": [
        "ret = []\n",
        "for i in portfolio:\n",
        "    ret.append(data[i].iloc[-1]['Adj Close']/data[i].iloc[0]['Adj Close'])"
      ]
    },
    {
      "cell_type": "code",
      "execution_count": 43,
      "metadata": {
        "id": "7khhwL_VDKXA",
        "outputId": "b29f5d94-43c3-4255-f3fa-25f129a897da",
        "colab": {
          "base_uri": "https://localhost:8080/"
        }
      },
      "outputs": [
        {
          "output_type": "execute_result",
          "data": {
            "text/plain": [
              "[0.72647291620964, 1.0199375578939367, 1.01416552527588, 0.5975307973441624]"
            ]
          },
          "metadata": {},
          "execution_count": 43
        }
      ],
      "source": [
        "ret"
      ]
    },
    {
      "cell_type": "code",
      "execution_count": 44,
      "metadata": {
        "id": "PmxIlNFMDKXA"
      },
      "outputs": [],
      "source": [
        "weights = [0.25, 0.25, 0.25, 0.25]"
      ]
    },
    {
      "cell_type": "code",
      "execution_count": 45,
      "metadata": {
        "id": "z9UwVAYRDKXA",
        "outputId": "b686f749-9733-4f42-ce1e-dd3f2d5da61e",
        "colab": {
          "base_uri": "https://localhost:8080/"
        }
      },
      "outputs": [
        {
          "output_type": "execute_result",
          "data": {
            "text/plain": [
              "0.8395266991809047"
            ]
          },
          "metadata": {},
          "execution_count": 45
        }
      ],
      "source": [
        "(np.array(ret)*np.array(weights)).sum()"
      ]
    }
  ],
  "metadata": {
    "kernelspec": {
      "display_name": "Python 3",
      "language": "python",
      "name": "python3"
    },
    "language_info": {
      "codemirror_mode": {
        "name": "ipython",
        "version": 3
      },
      "file_extension": ".py",
      "mimetype": "text/x-python",
      "name": "python",
      "nbconvert_exporter": "python",
      "pygments_lexer": "ipython3",
      "version": "3.8.3"
    },
    "colab": {
      "provenance": []
    }
  },
  "nbformat": 4,
  "nbformat_minor": 0
}