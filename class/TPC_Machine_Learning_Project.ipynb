{
  "nbformat": 4,
  "nbformat_minor": 0,
  "metadata": {
    "colab": {
      "name": "TPC- Machine Learning Project.ipynb",
      "provenance": [],
      "authorship_tag": "ABX9TyPH1T7YOGLWpP0g8oiRet9M",
      "include_colab_link": true
    },
    "kernelspec": {
      "name": "python3",
      "display_name": "Python 3"
    },
    "language_info": {
      "name": "python"
    }
  },
  "cells": [
    {
      "cell_type": "markdown",
      "metadata": {
        "id": "view-in-github",
        "colab_type": "text"
      },
      "source": [
        "<a href=\"https://colab.research.google.com/github/jumbokh/csu1112-class/blob/main/class/TPC_Machine_Learning_Project.ipynb\" target=\"_parent\"><img src=\"https://colab.research.google.com/assets/colab-badge.svg\" alt=\"Open In Colab\"/></a>"
      ]
    },
    {
      "cell_type": "markdown",
      "metadata": {
        "id": "_KXZHASw7BqY"
      },
      "source": [
        "* 安裝 Python 和 SciPy 平台。\n",
        "* 加載數據集。\n",
        "* 總結數據集。\n",
        "* 可視化數據集。\n",
        "* 評估一些算法。\n",
        "* 做出一些預測。\n",
        "## [你的第一個 Python 機器學習項目分步指南](https://machinelearningmastery.com/machine-learning-in-python-step-by-step/?fbclid=IwAR1WSpv2o1CDmp6ZwVLB8NetIJCs23EjL84wgALi12xiWBEQ_VXk6ESUYOc)\n",
        "### 1.1 安裝 SciPy 庫\n",
        "* scipy\n",
        "* numpy\n",
        "* matplotlib\n",
        "* pandas\n",
        "* sklearn\n",
        "##\n",
        "### 1.2 啟動Python並檢查版本"
      ]
    },
    {
      "cell_type": "code",
      "metadata": {
        "colab": {
          "base_uri": "https://localhost:8080/"
        },
        "id": "B77Lw_I53Q_P",
        "outputId": "23476d99-9716-426c-bba6-f166837baaec"
      },
      "source": [
        "# Check the versions of libraries\n",
        "# Python version\n",
        "import sys\n",
        "print('Python: {}'.format(sys.version))\n",
        "# scipy\n",
        "import scipy\n",
        "print('scipy: {}'.format(scipy.__version__))\n",
        "# numpy\n",
        "import numpy\n",
        "print('numpy: {}'.format(numpy.__version__))\n",
        "# matplotlib\n",
        "import matplotlib\n",
        "print('matplotlib: {}'.format(matplotlib.__version__))\n",
        "# pandas\n",
        "import pandas\n",
        "print('pandas: {}'.format(pandas.__version__))\n",
        "# scikit-learn\n",
        "import sklearn\n",
        "print('sklearn: {}'.format(sklearn.__version__))"
      ],
      "execution_count": null,
      "outputs": [
        {
          "output_type": "stream",
          "text": [
            "Python: 3.7.10 (default, May  3 2021, 02:48:31) \n",
            "[GCC 7.5.0]\n",
            "scipy: 1.4.1\n",
            "numpy: 1.19.5\n",
            "matplotlib: 3.2.2\n",
            "pandas: 1.1.5\n",
            "sklearn: 0.22.2.post1\n"
          ],
          "name": "stdout"
        }
      ]
    },
    {
      "cell_type": "markdown",
      "metadata": {
        "id": "VlEe9B4W7kFD"
      },
      "source": [
        "## 2. Load The Data\n",
        "### 2.1 Import libraries"
      ]
    },
    {
      "cell_type": "code",
      "metadata": {
        "id": "6zVy7y9J4eSv"
      },
      "source": [
        "# Load libraries\n",
        "from pandas import read_csv\n",
        "from pandas.plotting import scatter_matrix\n",
        "from matplotlib import pyplot\n",
        "from sklearn.model_selection import train_test_split\n",
        "from sklearn.model_selection import cross_val_score\n",
        "from sklearn.model_selection import StratifiedKFold\n",
        "from sklearn.metrics import classification_report\n",
        "from sklearn.metrics import confusion_matrix\n",
        "from sklearn.metrics import accuracy_score\n",
        "from sklearn.linear_model import LogisticRegression\n",
        "from sklearn.tree import DecisionTreeClassifier\n",
        "from sklearn.neighbors import KNeighborsClassifier\n",
        "from sklearn.discriminant_analysis import LinearDiscriminantAnalysis\n",
        "from sklearn.naive_bayes import GaussianNB\n",
        "from sklearn.svm import SVC"
      ],
      "execution_count": null,
      "outputs": []
    },
    {
      "cell_type": "markdown",
      "metadata": {
        "id": "t-VcNm287uCr"
      },
      "source": [
        "### 2.2 Load Dataset"
      ]
    },
    {
      "cell_type": "code",
      "metadata": {
        "id": "_PgJdhVe4uow"
      },
      "source": [
        "# Load dataset\n",
        "dataset = read_csv('vTestData102.csv')"
      ],
      "execution_count": null,
      "outputs": []
    },
    {
      "cell_type": "markdown",
      "metadata": {
        "id": "lzHkTfOl72Fj"
      },
      "source": [
        "### 3. Summarize the Dataset\n",
        "#### 3.1 Dimensions of Dataset"
      ]
    },
    {
      "cell_type": "code",
      "metadata": {
        "colab": {
          "base_uri": "https://localhost:8080/"
        },
        "id": "WdDY5g0D5Eim",
        "outputId": "51f0baaa-31fb-4dc0-cbd9-097cda5ed16a"
      },
      "source": [
        "# shape\n",
        "print(dataset.shape)"
      ],
      "execution_count": null,
      "outputs": [
        {
          "output_type": "stream",
          "text": [
            "(195, 16)\n"
          ],
          "name": "stdout"
        }
      ]
    },
    {
      "cell_type": "markdown",
      "metadata": {
        "id": "xOkNDITi8CBt"
      },
      "source": [
        "#### 3.2 Peek at the Data"
      ]
    },
    {
      "cell_type": "code",
      "metadata": {
        "colab": {
          "base_uri": "https://localhost:8080/"
        },
        "id": "Sh9t96-K5F1Y",
        "outputId": "a89a44f2-abcc-402b-9fcc-d84742c79d05"
      },
      "source": [
        "# head\n",
        "print(dataset.head(20))"
      ],
      "execution_count": null,
      "outputs": [
        {
          "output_type": "stream",
          "text": [
            "   CustomID  A  B  C  D  A1  A2  A3  A4  B1  B2  B3  B4  C1  D1  D2\n",
            "0    C00001  1  1  1  1   0   0   0   0   0   0   0   0   0   0   0\n",
            "1    C00002  1  1  1  1   0   0   0   0   0   0   0   0   0   0   0\n",
            "2    C00003  1  1  1  1   0   0   0   0   0   0   0   0   0   0   0\n",
            "3    C00004  1  1  1  1   0   0   0   0   0   0   0   0   0   0   0\n",
            "4    C00005  1  1  1  1   0   0   0   0   0   0   0   0   0   0   0\n",
            "5    C00006  1  1  1  1   0   0   0   0   0   0   0   0   0   0   0\n",
            "6    C00007  1  1  1  1   0   0   0   0   0   0   0   0   0   0   0\n",
            "7    C00008  1  1  1  1   0   0   0   0   0   0   0   0   0   0   0\n",
            "8    C00009  1  1  1  1   0   0   0   0   0   0   0   0   0   0   0\n",
            "9    C00010  1  1  1  1   0   0   0   0   0   0   0   0   0   0   0\n",
            "10   C00011  1  1  1  1   0   0   0   0   0   0   0   0   0   0   0\n",
            "11   C00012  1  1  1  1   0   0   0   0   0   0   0   0   0   0   0\n",
            "12   C00013  1  1  1  1   0   0   0   0   0   0   0   0   0   0   0\n",
            "13   C00014  1  1  1  1   0   0   0   0   0   0   0   0   0   0   0\n",
            "14   C00015  1  1  1  1   0   0   0   0   0   0   0   0   0   0   0\n",
            "15   C00016  1  1  1  1   0   0   0   0   0   0   0   0   0   0   0\n",
            "16   C00017  1  1  1  1   0   0   0   0   0   0   0   0   0   0   0\n",
            "17   C00018  1  1  1  1   0   0   0   0   0   0   0   0   0   0   0\n",
            "18   C00019  1  1  1  1   0   0   0   0   0   0   0   0   0   0   0\n",
            "19   C00020  1  1  1  1   0   0   0   0   0   0   0   0   0   0   0\n"
          ],
          "name": "stdout"
        }
      ]
    },
    {
      "cell_type": "markdown",
      "metadata": {
        "id": "ace4vx838LIh"
      },
      "source": [
        "#### 3.3 Statistical Summary"
      ]
    },
    {
      "cell_type": "markdown",
      "metadata": {
        "id": "mtVx_qL4_uv-"
      },
      "source": [
        "#### 每個屬性的摘要。\n",
        "\n",
        "#### 這包括計數、平均值、最小值和最大值以及一些百分位數。"
      ]
    },
    {
      "cell_type": "code",
      "metadata": {
        "colab": {
          "base_uri": "https://localhost:8080/"
        },
        "id": "tBCqxCxW5Mi5",
        "outputId": "05adb8cf-c004-4182-b3e3-1221e2c4b049"
      },
      "source": [
        "# descriptions\n",
        "print(dataset.describe())"
      ],
      "execution_count": null,
      "outputs": [
        {
          "output_type": "stream",
          "text": [
            "                A           B           C  ...          C1          D1          D2\n",
            "count  195.000000  195.000000  195.000000  ...  195.000000  195.000000  195.000000\n",
            "mean     0.969231    0.974359    0.974359  ...    0.025641    0.025641    0.020513\n",
            "std      0.173136    0.158469    0.158469  ...    0.158469    0.158469    0.142111\n",
            "min      0.000000    0.000000    0.000000  ...    0.000000    0.000000    0.000000\n",
            "25%      1.000000    1.000000    1.000000  ...    0.000000    0.000000    0.000000\n",
            "50%      1.000000    1.000000    1.000000  ...    0.000000    0.000000    0.000000\n",
            "75%      1.000000    1.000000    1.000000  ...    0.000000    0.000000    0.000000\n",
            "max      1.000000    1.000000    1.000000  ...    1.000000    1.000000    1.000000\n",
            "\n",
            "[8 rows x 15 columns]\n"
          ],
          "name": "stdout"
        }
      ]
    },
    {
      "cell_type": "markdown",
      "metadata": {
        "id": "IdavaDys8QnW"
      },
      "source": [
        "#### 3.4 Class Distribution"
      ]
    },
    {
      "cell_type": "markdown",
      "metadata": {
        "id": "PNqqqYNv_6MT"
      },
      "source": [
        "#### 看看屬於每個類的實例（列）數。我們可以將其視為絕對計數。"
      ]
    },
    {
      "cell_type": "markdown",
      "metadata": {
        "id": "EnOWRHHqAW92"
      },
      "source": [
        "*　每個類都有相同數量的實例（數據集的 50 或 33%）"
      ]
    },
    {
      "cell_type": "code",
      "metadata": {
        "colab": {
          "base_uri": "https://localhost:8080/"
        },
        "id": "6YEs8c6c5SP1",
        "outputId": "9a41a4a7-ab4c-4451-9e71-6887e951c0c6"
      },
      "source": [
        "# class distribution\n",
        "#print(dataset.groupby('class').size())\n",
        "dataset.groupby(['A','B','C','D']).size()"
      ],
      "execution_count": null,
      "outputs": [
        {
          "output_type": "execute_result",
          "data": {
            "text/plain": [
              "A  B  C  D\n",
              "0  0  0  0      5\n",
              "   1  1  1      1\n",
              "1  1  1  1    189\n",
              "dtype: int64"
            ]
          },
          "metadata": {
            "tags": []
          },
          "execution_count": 10
        }
      ]
    },
    {
      "cell_type": "code",
      "metadata": {
        "id": "yfgbbfNx9LRK"
      },
      "source": [
        "gb = dataset.groupby(['A','B','C','D'])   \n",
        "ds = [gb.get_group(x) for x in gb.groups]"
      ],
      "execution_count": null,
      "outputs": []
    },
    {
      "cell_type": "code",
      "metadata": {
        "colab": {
          "base_uri": "https://localhost:8080/"
        },
        "id": "cA-R1Xq3-Id2",
        "outputId": "4a140eee-3ca9-4c9e-a6b0-2bc241c36e50"
      },
      "source": [
        "import pandas as pd\n",
        "s = pd.DataFrame(ds[0])\n",
        "s1 = pd.DataFrame(ds[1])\n",
        "s2 = pd.DataFrame(ds[2])\n",
        "print(s)\n",
        "print('=======================================================================')\n",
        "print(s1)\n",
        "print('=======================================================================')\n",
        "print(s2)"
      ],
      "execution_count": null,
      "outputs": [
        {
          "output_type": "stream",
          "text": [
            "    CustomID  A  B  C  D  A1  A2  A3  A4  B1  B2  B3  B4  C1  D1  D2\n",
            "39    C00040  0  0  0  0   0   0   1   0   0   1   0   1   1   1   0\n",
            "140   C00141  0  0  0  0   0   0   0   1   1   1   1   1   1   1   1\n",
            "178   C00179  0  0  0  0   0   0   1   0   1   0   1   0   1   1   1\n",
            "179   C00180  0  0  0  0   0   1   1   0   1   0   1   0   1   1   1\n",
            "180   C00181  0  0  0  0   0   0   1   0   1   0   1   0   1   1   1\n",
            "CustomID    5\n",
            "A           5\n",
            "B           5\n",
            "C           5\n",
            "D           5\n",
            "A1          5\n",
            "A2          5\n",
            "A3          5\n",
            "A4          5\n",
            "B1          5\n",
            "B2          5\n",
            "B3          5\n",
            "B4          5\n",
            "C1          5\n",
            "D1          5\n",
            "D2          5\n",
            "dtype: int64\n",
            "=======================================================================\n",
            "   CustomID  A  B  C  D  A1  A2  A3  A4  B1  B2  B3  B4  C1  D1  D2\n",
            "58   C00059  0  1  1  1   0   1   0   0   0   0   0   0   0   0   0\n",
            "CustomID    1\n",
            "A           1\n",
            "B           1\n",
            "C           1\n",
            "D           1\n",
            "A1          1\n",
            "A2          1\n",
            "A3          1\n",
            "A4          1\n",
            "B1          1\n",
            "B2          1\n",
            "B3          1\n",
            "B4          1\n",
            "C1          1\n",
            "D1          1\n",
            "D2          1\n",
            "dtype: int64\n",
            "=======================================================================\n",
            "    CustomID  A  B  C  D  A1  A2  A3  A4  B1  B2  B3  B4  C1  D1  D2\n",
            "0     C00001  1  1  1  1   0   0   0   0   0   0   0   0   0   0   0\n",
            "1     C00002  1  1  1  1   0   0   0   0   0   0   0   0   0   0   0\n",
            "2     C00003  1  1  1  1   0   0   0   0   0   0   0   0   0   0   0\n",
            "3     C00004  1  1  1  1   0   0   0   0   0   0   0   0   0   0   0\n",
            "4     C00005  1  1  1  1   0   0   0   0   0   0   0   0   0   0   0\n",
            "..       ... .. .. .. ..  ..  ..  ..  ..  ..  ..  ..  ..  ..  ..  ..\n",
            "190   C00191  1  1  1  1   0   0   0   0   0   0   0   0   0   0   0\n",
            "191   C00192  1  1  1  1   0   0   0   0   0   0   0   0   0   0   0\n",
            "192   C00193  1  1  1  1   0   0   0   0   0   0   0   0   0   0   0\n",
            "193   C00194  1  1  1  1   0   0   0   0   0   0   0   0   0   0   0\n",
            "194   C00195  1  1  1  1   0   0   0   0   0   0   0   0   0   0   0\n",
            "\n",
            "[189 rows x 16 columns]\n",
            "CustomID    189\n",
            "A           189\n",
            "B           189\n",
            "C           189\n",
            "D           189\n",
            "A1          189\n",
            "A2          189\n",
            "A3          189\n",
            "A4          189\n",
            "B1          189\n",
            "B2          189\n",
            "B3          189\n",
            "B4          189\n",
            "C1          189\n",
            "D1          189\n",
            "D2          189\n",
            "dtype: int64\n"
          ],
          "name": "stdout"
        }
      ]
    },
    {
      "cell_type": "code",
      "metadata": {
        "colab": {
          "base_uri": "https://localhost:8080/",
          "height": 1000
        },
        "id": "nYNFOhWYAmcG",
        "outputId": "ac03cf00-832e-4e5a-bf69-a37c4d9e0dac"
      },
      "source": [
        "cname = ['A1','A2','A3','A4','B1','B2','B3','B4','C1','D1','D2']\n",
        "for x in cname:\n",
        "  g = s[x]\n",
        "  a = g.value_counts()\n",
        "  print(a)\n",
        "  #ax = g.plot.hist(bins=12, alpha=0.5)\n",
        "  g.plot.hist()\n",
        "  pyplot.show()\n",
        "  print('************************************************************')\n"
      ],
      "execution_count": null,
      "outputs": [
        {
          "output_type": "stream",
          "text": [
            "0    5\n",
            "Name: A1, dtype: int64\n"
          ],
          "name": "stdout"
        },
        {
          "output_type": "display_data",
          "data": {
            "image/png": "[encoded data removed]",
            "text/plain": [
              "<Figure size 432x288 with 1 Axes>"
            ]
          },
          "metadata": {
            "tags": [],
            "needs_background": "light"
          }
        },
        {
          "output_type": "stream",
          "text": [
            "************************************************************\n",
            "0    4\n",
            "1    1\n",
            "Name: A2, dtype: int64\n"
          ],
          "name": "stdout"
        },
        {
          "output_type": "display_data",
          "data": {
            "image/png": "[encoded data removed]",
            "text/plain": [
              "<Figure size 432x288 with 1 Axes>"
            ]
          },
          "metadata": {
            "tags": [],
            "needs_background": "light"
          }
        },
        {
          "output_type": "stream",
          "text": [
            "************************************************************\n",
            "1    4\n",
            "0    1\n",
            "Name: A3, dtype: int64\n"
          ],
          "name": "stdout"
        },
        {
          "output_type": "display_data",
          "data": {
            "image/png": "[encoded data removed]",
            "text/plain": [
              "<Figure size 432x288 with 1 Axes>"
            ]
          },
          "metadata": {
            "tags": [],
            "needs_background": "light"
          }
        },
        {
          "output_type": "stream",
          "text": [
            "************************************************************\n",
            "0    4\n",
            "1    1\n",
            "Name: A4, dtype: int64\n"
          ],
          "name": "stdout"
        },
        {
          "output_type": "display_data",
          "data": {
            "image/png": "[encoded data removed]",
            "text/plain": [
              "<Figure size 432x288 with 1 Axes>"
            ]
          },
          "metadata": {
            "tags": [],
            "needs_background": "light"
          }
        },
        {
          "output_type": "stream",
          "text": [
            "************************************************************\n",
            "1    4\n",
            "0    1\n",
            "Name: B1, dtype: int64\n"
          ],
          "name": "stdout"
        },
        {
          "output_type": "display_data",
          "data": {
            "image/png": "[encoded data removed]",
            "text/plain": [
              "<Figure size 432x288 with 1 Axes>"
            ]
          },
          "metadata": {
            "tags": [],
            "needs_background": "light"
          }
        },
        {
          "output_type": "stream",
          "text": [
            "************************************************************\n",
            "0    3\n",
            "1    2\n",
            "Name: B2, dtype: int64\n"
          ],
          "name": "stdout"
        },
        {
          "output_type": "display_data",
          "data": {
            "image/png": "[encoded data removed]",
            "text/plain": [
              "<Figure size 432x288 with 1 Axes>"
            ]
          },
          "metadata": {
            "tags": [],
            "needs_background": "light"
          }
        },
        {
          "output_type": "stream",
          "text": [
            "************************************************************\n",
            "1    4\n",
            "0    1\n",
            "Name: B3, dtype: int64\n"
          ],
          "name": "stdout"
        },
        {
          "output_type": "display_data",
          "data": {
            "image/png": "[encoded data removed]",
            "text/plain": [
              "<Figure size 432x288 with 1 Axes>"
            ]
          },
          "metadata": {
            "tags": [],
            "needs_background": "light"
          }
        },
        {
          "output_type": "stream",
          "text": [
            "************************************************************\n",
            "0    3\n",
            "1    2\n",
            "Name: B4, dtype: int64\n"
          ],
          "name": "stdout"
        },
        {
          "output_type": "display_data",
          "data": {
            "image/png": "[encoded data removed]",
            "text/plain": [
              "<Figure size 432x288 with 1 Axes>"
            ]
          },
          "metadata": {
            "tags": [],
            "needs_background": "light"
          }
        },
        {
          "output_type": "stream",
          "text": [
            "************************************************************\n",
            "1    5\n",
            "Name: C1, dtype: int64\n"
          ],
          "name": "stdout"
        },
        {
          "output_type": "display_data",
          "data": {
            "image/png": "[encoded data removed]",
            "text/plain": [
              "<Figure size 432x288 with 1 Axes>"
            ]
          },
          "metadata": {
            "tags": [],
            "needs_background": "light"
          }
        },
        {
          "output_type": "stream",
          "text": [
            "************************************************************\n",
            "1    5\n",
            "Name: D1, dtype: int64\n"
          ],
          "name": "stdout"
        },
        {
          "output_type": "display_data",
          "data": {
            "image/png": "[encoded data removed]",
            "text/plain": [
              "<Figure size 432x288 with 1 Axes>"
            ]
          },
          "metadata": {
            "tags": [],
            "needs_background": "light"
          }
        },
        {
          "output_type": "stream",
          "text": [
            "************************************************************\n",
            "1    4\n",
            "0    1\n",
            "Name: D2, dtype: int64\n"
          ],
          "name": "stdout"
        },
        {
          "output_type": "display_data",
          "data": {
            "image/png": "[encoded data removed]",
            "text/plain": [
              "<Figure size 432x288 with 1 Axes>"
            ]
          },
          "metadata": {
            "tags": [],
            "needs_background": "light"
          }
        },
        {
          "output_type": "stream",
          "text": [
            "************************************************************\n"
          ],
          "name": "stdout"
        }
      ]
    },
    {
      "cell_type": "code",
      "metadata": {
        "colab": {
          "base_uri": "https://localhost:8080/"
        },
        "id": "swUVmQYtCVd3",
        "outputId": "92c58ad4-8173-4539-cf05-3c446bf95a68"
      },
      "source": [
        "cname = ['A1','A2','A3','A4','B1','B2','B3','B4','C1','D1','D2']\n",
        "for x in cname:\n",
        "  g = s1[x]\n",
        "  a = g.value_counts()\n",
        "  print(a)"
      ],
      "execution_count": null,
      "outputs": [
        {
          "output_type": "stream",
          "text": [
            "0    1\n",
            "Name: A1, dtype: int64\n",
            "1    1\n",
            "Name: A2, dtype: int64\n",
            "0    1\n",
            "Name: A3, dtype: int64\n",
            "0    1\n",
            "Name: A4, dtype: int64\n",
            "0    1\n",
            "Name: B1, dtype: int64\n",
            "0    1\n",
            "Name: B2, dtype: int64\n",
            "0    1\n",
            "Name: B3, dtype: int64\n",
            "0    1\n",
            "Name: B4, dtype: int64\n",
            "0    1\n",
            "Name: C1, dtype: int64\n",
            "0    1\n",
            "Name: D1, dtype: int64\n",
            "0    1\n",
            "Name: D2, dtype: int64\n"
          ],
          "name": "stdout"
        }
      ]
    },
    {
      "cell_type": "code",
      "metadata": {
        "colab": {
          "base_uri": "https://localhost:8080/"
        },
        "id": "Z4RT1brQCezt",
        "outputId": "51f69cf5-1c3d-475b-bd70-adc8344c7418"
      },
      "source": [
        "cname = ['A1','A2','A3','A4','B1','B2','B3','B4','C1','D1','D2']\n",
        "for x in cname:\n",
        "  g = s2[x]\n",
        "  a = g.value_counts()\n",
        "  print(a)"
      ],
      "execution_count": null,
      "outputs": [
        {
          "output_type": "stream",
          "text": [
            "0    189\n",
            "Name: A1, dtype: int64\n",
            "0    189\n",
            "Name: A2, dtype: int64\n",
            "0    189\n",
            "Name: A3, dtype: int64\n",
            "0    189\n",
            "Name: A4, dtype: int64\n",
            "0    189\n",
            "Name: B1, dtype: int64\n",
            "0    189\n",
            "Name: B2, dtype: int64\n",
            "0    189\n",
            "Name: B3, dtype: int64\n",
            "0    189\n",
            "Name: B4, dtype: int64\n",
            "0    189\n",
            "Name: C1, dtype: int64\n",
            "0    189\n",
            "Name: D1, dtype: int64\n",
            "0    189\n",
            "Name: D2, dtype: int64\n"
          ],
          "name": "stdout"
        }
      ]
    },
    {
      "cell_type": "markdown",
      "metadata": {
        "id": "Qxj974I08X_G"
      },
      "source": [
        "#### 3.5 Complete Example"
      ]
    },
    {
      "cell_type": "markdown",
      "metadata": {
        "id": "cqM9LKgE8g2D"
      },
      "source": [
        "### 4. Data Visualization\n",
        "我們將看兩種類型的圖：\n",
        "\n",
        "單變量圖以更好地理解每個屬性。\n",
        "多變量圖以更好地理解屬性之間的關係。\n",
        "#### 4.1 Univariate Plots\n",
        "單變量圖:即每個單獨變量的圖"
      ]
    },
    {
      "cell_type": "code",
      "metadata": {
        "colab": {
          "base_uri": "https://localhost:8080/",
          "height": 265
        },
        "id": "OOEHnqA25iED",
        "outputId": "b0596e77-963a-49a2-de01-d2463192e086"
      },
      "source": [
        "# box and whisker plots\n",
        "#dataset.plot(figsize=(20, 10))\n",
        "dataset.plot(kind='box', subplots=False, sharex=False, sharey=False)\n",
        "pyplot.show()"
      ],
      "execution_count": null,
      "outputs": [
        {
          "output_type": "display_data",
          "data": {
            "image/png": "[encoded data removed]",
            "text/plain": [
              "<Figure size 432x288 with 1 Axes>"
            ]
          },
          "metadata": {
            "tags": [],
            "needs_background": "light"
          }
        }
      ]
    },
    {
      "cell_type": "markdown",
      "metadata": {
        "id": "V06Gjlm-BSwB"
      },
      "source": [
        "#### 每個輸入變量的直方圖以了解分佈情況"
      ]
    },
    {
      "cell_type": "markdown",
      "metadata": {
        "id": "p-9TAPWDBdvy"
      },
      "source": [
        "鳶尾花數據集每個輸入變量的直方圖"
      ]
    },
    {
      "cell_type": "code",
      "metadata": {
        "colab": {
          "base_uri": "https://localhost:8080/",
          "height": 281
        },
        "id": "s1kNrYR65pdT",
        "outputId": "b386a1b5-a7d7-4de4-91a8-dcb0ac739f38"
      },
      "source": [
        "# histograms \n",
        "dataset.hist()\n",
        "pyplot.show()"
      ],
      "execution_count": null,
      "outputs": [
        {
          "output_type": "display_data",
          "data": {
            "image/png": "[encoded data removed]",
            "text/plain": [
              "<Figure size 432x288 with 16 Axes>"
            ]
          },
          "metadata": {
            "tags": [],
            "needs_background": "light"
          }
        }
      ]
    },
    {
      "cell_type": "markdown",
      "metadata": {
        "id": "b4Mdqjp58siG"
      },
      "source": [
        "#### 4.2 Multivariate Plots\n",
        "變量之間的相互作用\n",
        "所有屬性對的散點圖。這有助於發現輸入變量之間的結構化關係"
      ]
    },
    {
      "cell_type": "code",
      "metadata": {
        "colab": {
          "base_uri": "https://localhost:8080/",
          "height": 419
        },
        "id": "GHvSCmK25vfK",
        "outputId": "ac840628-b061-40da-ae52-a4ad4fada13b"
      },
      "source": [
        "# scatter plot matrix\n",
        "scatter_matrix(dataset)\n",
        "pyplot.show()"
      ],
      "execution_count": null,
      "outputs": [
        {
          "output_type": "stream",
          "text": [
            "/usr/local/lib/python3.7/dist-packages/pandas/plotting/_matplotlib/misc.py:80: UserWarning: Attempting to set identical left == right == 0.0 results in singular transformations; automatically expanding.\n",
            "  ax.set_xlim(boundaries_list[j])\n",
            "/usr/local/lib/python3.7/dist-packages/pandas/plotting/_matplotlib/misc.py:81: UserWarning: Attempting to set identical bottom == top == 0.0 results in singular transformations; automatically expanding.\n",
            "  ax.set_ylim(boundaries_list[i])\n",
            "/usr/local/lib/python3.7/dist-packages/pandas/plotting/_matplotlib/misc.py:71: UserWarning: Attempting to set identical left == right == 0.0 results in singular transformations; automatically expanding.\n",
            "  ax.set_xlim(boundaries_list[i])\n"
          ],
          "name": "stderr"
        },
        {
          "output_type": "display_data",
          "data": {
            "image/png": "[encoded data removed]",
            "text/plain": [
              "<Figure size 432x288 with 225 Axes>"
            ]
          },
          "metadata": {
            "tags": [],
            "needs_background": "light"
          }
        }
      ]
    },
    {
      "cell_type": "markdown",
      "metadata": {
        "id": "IpiDLEgv9J4_"
      },
      "source": [
        "### 5. Evaluate Some Algorithms\n",
        "* 分離出一個驗證數據集。\n",
        "* 設置測試工具以使用 10 折交叉驗證。\n",
        "* 建立多個不同的模型，從花卉測量中預測物種\n",
        "* 選擇最佳模型。\n",
        "#### 5.1 Create a Validation Dataset\n",
        "* 80% 將用於訓練、評估和在模型中選擇，20% 將作為驗證數據集保留"
      ]
    },
    {
      "cell_type": "code",
      "metadata": {
        "id": "bVviFjk9560L"
      },
      "source": [
        "# Split-out validation dataset\n",
        "array = dataset.values\n",
        "X = array[:,0:4]\n",
        "y = array[:,4]\n",
        "X_train, X_validation, Y_train, Y_validation = train_test_split(X, y, test_size=0.20, random_state=1)"
      ],
      "execution_count": null,
      "outputs": []
    },
    {
      "cell_type": "markdown",
      "metadata": {
        "id": "S7sMM1SG9Om4"
      },
      "source": [
        "#### 5.2 Test Harness\n",
        "* 使用分層 10 折交叉驗證來估計模型準確性"
      ]
    },
    {
      "cell_type": "markdown",
      "metadata": {
        "id": "CzNSqXIv9cws"
      },
      "source": [
        "#### 5.3 Build Models\n",
        "* 測試 6 種不同的算法：\n",
        "\n",
        "    * 邏輯回歸 (LR)\n",
        "    * 線性判別分析 (LDA)\n",
        "    * K-最近鄰（KNN）。\n",
        "    * 分類和回歸樹 (CART)。\n",
        "    * 高斯樸素貝葉斯 (NB)。\n",
        "    * 支持向量機 (SVM)。\n",
        "* 這是簡單線性（LR 和 LDA）、非線性（KNN、CART、NB 和 SVM）算法的良好混合。"
      ]
    },
    {
      "cell_type": "code",
      "metadata": {
        "colab": {
          "base_uri": "https://localhost:8080/"
        },
        "id": "S6ZnF5xl6Iye",
        "outputId": "0d9f75c5-b8f3-40b0-ca5c-0fe6b2089bc1"
      },
      "source": [
        "# Spot Check Algorithms\n",
        "models = []\n",
        "models.append(('LR', LogisticRegression(solver='liblinear', multi_class='ovr')))\n",
        "models.append(('LDA', LinearDiscriminantAnalysis()))\n",
        "models.append(('KNN', KNeighborsClassifier()))\n",
        "models.append(('CART', DecisionTreeClassifier()))\n",
        "models.append(('NB', GaussianNB()))\n",
        "models.append(('SVM', SVC(gamma='auto')))\n",
        "# evaluate each model in turn\n",
        "results = []\n",
        "names = []\n",
        "for name, model in models:\n",
        "\tkfold = StratifiedKFold(n_splits=10, random_state=1, shuffle=True)\n",
        "\tcv_results = cross_val_score(model, X_train, Y_train, cv=kfold, scoring='accuracy')\n",
        "\tresults.append(cv_results)\n",
        "\tnames.append(name)\n",
        "\tprint('%s: %f (%f)' % (name, cv_results.mean(), cv_results.std()))"
      ],
      "execution_count": null,
      "outputs": [
        {
          "output_type": "stream",
          "text": [
            "LR: 0.941667 (0.065085)\n",
            "LDA: 0.975000 (0.038188)\n",
            "KNN: 0.958333 (0.041667)\n",
            "CART: 0.933333 (0.050000)\n",
            "NB: 0.950000 (0.055277)\n",
            "SVM: 0.983333 (0.033333)\n"
          ],
          "name": "stdout"
        }
      ]
    },
    {
      "cell_type": "markdown",
      "metadata": {
        "id": "MQNUCwXg9jcc"
      },
      "source": [
        "#### 5.4 Select Best Model\n",
        "* 支持向量機 (SVM) 的估計準確度得分最高，約為 0.98 或 98%\n",
        "* 我們還可以創建模型評估結果圖，並比較每個模型的傳播和平均準確度。每個算法都有一組準確度度量，因為每個算法都被評估了 10 次（通過 10 倍交叉驗證）。\n",
        "\n",
        "#### 比較每個算法的結果樣本的一種有用方法是為每個分佈創建一個箱線圖並比較這些分佈。"
      ]
    },
    {
      "cell_type": "code",
      "metadata": {
        "colab": {
          "base_uri": "https://localhost:8080/",
          "height": 281
        },
        "id": "T3Bk4bGN6QRz",
        "outputId": "05bef667-55da-45ac-95e9-fb98a679d595"
      },
      "source": [
        "# Compare Algorithms\n",
        "pyplot.boxplot(results, labels=names)\n",
        "pyplot.title('Algorithm Comparison')\n",
        "pyplot.show()"
      ],
      "execution_count": null,
      "outputs": [
        {
          "output_type": "display_data",
          "data": {
            "image/png": "[encoded data removed]",
            "text/plain": [
              "<Figure size 432x288 with 1 Axes>"
            ]
          },
          "metadata": {
            "tags": [],
            "needs_background": "light"
          }
        }
      ]
    },
    {
      "cell_type": "code",
      "metadata": {
        "colab": {
          "base_uri": "https://localhost:8080/",
          "height": 384
        },
        "id": "LiZ3ukSg6Yo9",
        "outputId": "38afa37e-22db-4681-c6cc-08baa11c9dee"
      },
      "source": [
        "# compare algorithms\n",
        "from pandas import read_csv\n",
        "from matplotlib import pyplot\n",
        "from sklearn.model_selection import train_test_split\n",
        "from sklearn.model_selection import cross_val_score\n",
        "from sklearn.model_selection import StratifiedKFold\n",
        "from sklearn.linear_model import LogisticRegression\n",
        "from sklearn.tree import DecisionTreeClassifier\n",
        "from sklearn.neighbors import KNeighborsClassifier\n",
        "from sklearn.discriminant_analysis import LinearDiscriminantAnalysis\n",
        "from sklearn.naive_bayes import GaussianNB\n",
        "from sklearn.svm import SVC\n",
        "# Load dataset\n",
        "url = \"https://raw.githubusercontent.com/jbrownlee/Datasets/master/iris.csv\"\n",
        "names = ['sepal-length', 'sepal-width', 'petal-length', 'petal-width', 'class']\n",
        "dataset = read_csv(url, names=names)\n",
        "# Split-out validation dataset\n",
        "array = dataset.values\n",
        "X = array[:,0:4]\n",
        "y = array[:,4]\n",
        "X_train, X_validation, Y_train, Y_validation = train_test_split(X, y, test_size=0.20, random_state=1, shuffle=True)\n",
        "# Spot Check Algorithms\n",
        "models = []\n",
        "models.append(('LR', LogisticRegression(solver='liblinear', multi_class='ovr')))\n",
        "models.append(('LDA', LinearDiscriminantAnalysis()))\n",
        "models.append(('KNN', KNeighborsClassifier()))\n",
        "models.append(('CART', DecisionTreeClassifier()))\n",
        "models.append(('NB', GaussianNB()))\n",
        "models.append(('SVM', SVC(gamma='auto')))\n",
        "# evaluate each model in turn\n",
        "results = []\n",
        "names = []\n",
        "for name, model in models:\n",
        "\tkfold = StratifiedKFold(n_splits=10, random_state=1, shuffle=True)\n",
        "\tcv_results = cross_val_score(model, X_train, Y_train, cv=kfold, scoring='accuracy')\n",
        "\tresults.append(cv_results)\n",
        "\tnames.append(name)\n",
        "\tprint('%s: %f (%f)' % (name, cv_results.mean(), cv_results.std()))\n",
        "# Compare Algorithms\n",
        "pyplot.boxplot(results, labels=names)\n",
        "pyplot.title('Algorithm Comparison')\n",
        "pyplot.show()"
      ],
      "execution_count": null,
      "outputs": [
        {
          "output_type": "stream",
          "text": [
            "LR: 0.941667 (0.065085)\n",
            "LDA: 0.975000 (0.038188)\n",
            "KNN: 0.958333 (0.041667)\n",
            "CART: 0.941667 (0.038188)\n",
            "NB: 0.950000 (0.055277)\n",
            "SVM: 0.983333 (0.033333)\n"
          ],
          "name": "stdout"
        },
        {
          "output_type": "display_data",
          "data": {
            "image/png": "[encoded data removed]",
            "text/plain": [
              "<Figure size 432x288 with 1 Axes>"
            ]
          },
          "metadata": {
            "tags": [],
            "needs_background": "light"
          }
        }
      ]
    },
    {
      "cell_type": "code",
      "metadata": {
        "id": "OLGeCBo46gPn"
      },
      "source": [
        "# Make predictions on validation dataset\n",
        "model = SVC(gamma='auto')\n",
        "model.fit(X_train, Y_train)\n",
        "predictions = model.predict(X_validation)"
      ],
      "execution_count": null,
      "outputs": []
    },
    {
      "cell_type": "code",
      "metadata": {
        "colab": {
          "base_uri": "https://localhost:8080/"
        },
        "id": "s4g76DsK6pP3",
        "outputId": "258163cc-ef41-4365-8296-a97c8420e68a"
      },
      "source": [
        "# Evaluate predictions\n",
        "print(accuracy_score(Y_validation, predictions))\n",
        "print(confusion_matrix(Y_validation, predictions))\n",
        "print(classification_report(Y_validation, predictions))"
      ],
      "execution_count": null,
      "outputs": [
        {
          "output_type": "stream",
          "text": [
            "0.9666666666666667\n",
            "[[11  0  0]\n",
            " [ 0 12  1]\n",
            " [ 0  0  6]]\n",
            "                 precision    recall  f1-score   support\n",
            "\n",
            "    Iris-setosa       1.00      1.00      1.00        11\n",
            "Iris-versicolor       1.00      0.92      0.96        13\n",
            " Iris-virginica       0.86      1.00      0.92         6\n",
            "\n",
            "       accuracy                           0.97        30\n",
            "      macro avg       0.95      0.97      0.96        30\n",
            "   weighted avg       0.97      0.97      0.97        30\n",
            "\n"
          ],
          "name": "stdout"
        }
      ]
    },
    {
      "cell_type": "markdown",
      "metadata": {
        "id": "fQSxv0vC9z3I"
      },
      "source": [
        "#### 5.5 Complete Example"
      ]
    },
    {
      "cell_type": "code",
      "metadata": {
        "colab": {
          "base_uri": "https://localhost:8080/",
          "height": 384
        },
        "id": "fjx_zPDO6uo3",
        "outputId": "5e3f6ddd-d77b-4cbf-ca01-91a70beafda1"
      },
      "source": [
        "# compare algorithms\n",
        "from pandas import read_csv\n",
        "from matplotlib import pyplot\n",
        "from sklearn.model_selection import train_test_split\n",
        "from sklearn.model_selection import cross_val_score\n",
        "from sklearn.model_selection import StratifiedKFold\n",
        "from sklearn.linear_model import LogisticRegression\n",
        "from sklearn.tree import DecisionTreeClassifier\n",
        "from sklearn.neighbors import KNeighborsClassifier\n",
        "from sklearn.discriminant_analysis import LinearDiscriminantAnalysis\n",
        "from sklearn.naive_bayes import GaussianNB\n",
        "from sklearn.svm import SVC\n",
        "# Load dataset\n",
        "url = \"https://raw.githubusercontent.com/jbrownlee/Datasets/master/iris.csv\"\n",
        "names = ['sepal-length', 'sepal-width', 'petal-length', 'petal-width', 'class']\n",
        "dataset = read_csv(url, names=names)\n",
        "# Split-out validation dataset\n",
        "array = dataset.values\n",
        "X = array[:,0:4]\n",
        "y = array[:,4]\n",
        "X_train, X_validation, Y_train, Y_validation = train_test_split(X, y, test_size=0.20, random_state=1, shuffle=True)\n",
        "# Spot Check Algorithms\n",
        "models = []\n",
        "models.append(('LR', LogisticRegression(solver='liblinear', multi_class='ovr')))\n",
        "models.append(('LDA', LinearDiscriminantAnalysis()))\n",
        "models.append(('KNN', KNeighborsClassifier()))\n",
        "models.append(('CART', DecisionTreeClassifier()))\n",
        "models.append(('NB', GaussianNB()))\n",
        "models.append(('SVM', SVC(gamma='auto')))\n",
        "# evaluate each model in turn\n",
        "results = []\n",
        "names = []\n",
        "for name, model in models:\n",
        "\tkfold = StratifiedKFold(n_splits=10, random_state=1, shuffle=True)\n",
        "\tcv_results = cross_val_score(model, X_train, Y_train, cv=kfold, scoring='accuracy')\n",
        "\tresults.append(cv_results)\n",
        "\tnames.append(name)\n",
        "\tprint('%s: %f (%f)' % (name, cv_results.mean(), cv_results.std()))\n",
        "# Compare Algorithms\n",
        "pyplot.boxplot(results, labels=names)\n",
        "pyplot.title('Algorithm Comparison')\n",
        "pyplot.show()"
      ],
      "execution_count": null,
      "outputs": [
        {
          "output_type": "stream",
          "text": [
            "LR: 0.941667 (0.065085)\n",
            "LDA: 0.975000 (0.038188)\n",
            "KNN: 0.958333 (0.041667)\n",
            "CART: 0.950000 (0.040825)\n",
            "NB: 0.950000 (0.055277)\n",
            "SVM: 0.983333 (0.033333)\n"
          ],
          "name": "stdout"
        },
        {
          "output_type": "display_data",
          "data": {
            "image/png": "[encoded data removed]",
            "text/plain": [
              "<Figure size 432x288 with 1 Axes>"
            ]
          },
          "metadata": {
            "tags": [],
            "needs_background": "light"
          }
        }
      ]
    },
    {
      "cell_type": "markdown",
      "metadata": {
        "id": "tJlgqh4V89X3"
      },
      "source": [
        "### 6. Make Predictions\n",
        "#### 6.1 Make Predictions\n",
        "想了解模型在驗證集上的準確性\n",
        "在整個訓練數據集上擬合模型並對驗證數據集進行預測"
      ]
    },
    {
      "cell_type": "code",
      "metadata": {
        "id": "3roScsJZ63yz"
      },
      "source": [
        "# Make predictions on validation dataset\n",
        "model = SVC(gamma='auto')\n",
        "model.fit(X_train, Y_train)\n",
        "predictions = model.predict(X_validation)"
      ],
      "execution_count": null,
      "outputs": []
    },
    {
      "cell_type": "markdown",
      "metadata": {
        "id": "k_KsrJOb-et2"
      },
      "source": [
        "#### 6.2 Evaluate Predictions"
      ]
    },
    {
      "cell_type": "code",
      "metadata": {
        "colab": {
          "base_uri": "https://localhost:8080/"
        },
        "id": "GLPD8QKV-aBh",
        "outputId": "994f96bb-a3dc-40cc-eb54-b80d30a194f5"
      },
      "source": [
        "# Evaluate predictions\n",
        "print(accuracy_score(Y_validation, predictions))\n",
        "print(confusion_matrix(Y_validation, predictions))\n",
        "print(classification_report(Y_validation, predictions))"
      ],
      "execution_count": null,
      "outputs": [
        {
          "output_type": "stream",
          "text": [
            "0.9666666666666667\n",
            "[[11  0  0]\n",
            " [ 0 12  1]\n",
            " [ 0  0  6]]\n",
            "                 precision    recall  f1-score   support\n",
            "\n",
            "    Iris-setosa       1.00      1.00      1.00        11\n",
            "Iris-versicolor       1.00      0.92      0.96        13\n",
            " Iris-virginica       0.86      1.00      0.92         6\n",
            "\n",
            "       accuracy                           0.97        30\n",
            "      macro avg       0.95      0.97      0.96        30\n",
            "   weighted avg       0.97      0.97      0.97        30\n",
            "\n"
          ],
          "name": "stdout"
        }
      ]
    },
    {
      "cell_type": "markdown",
      "metadata": {
        "id": "NXq2yRlqDlyI"
      },
      "source": [
        "在保留數據集上的準確率為 0.966 或約 96%。\n",
        "\n",
        "混淆矩陣提供了所犯錯誤的指示。"
      ]
    },
    {
      "cell_type": "markdown",
      "metadata": {
        "id": "_pqMTSQR-sMY"
      },
      "source": [
        "### 6.3 Complete Example"
      ]
    },
    {
      "cell_type": "code",
      "metadata": {
        "colab": {
          "base_uri": "https://localhost:8080/"
        },
        "id": "phLQHFrC-l2o",
        "outputId": "3ab37cce-dbbd-4932-dc60-6bbe91a904c0"
      },
      "source": [
        "# make predictions\n",
        "from pandas import read_csv\n",
        "from sklearn.model_selection import train_test_split\n",
        "from sklearn.metrics import classification_report\n",
        "from sklearn.metrics import confusion_matrix\n",
        "from sklearn.metrics import accuracy_score\n",
        "from sklearn.svm import SVC\n",
        "# Load dataset\n",
        "url = \"https://raw.githubusercontent.com/jbrownlee/Datasets/master/iris.csv\"\n",
        "names = ['sepal-length', 'sepal-width', 'petal-length', 'petal-width', 'class']\n",
        "dataset = read_csv(url, names=names)\n",
        "# Split-out validation dataset\n",
        "array = dataset.values\n",
        "X = array[:,0:4]\n",
        "y = array[:,4]\n",
        "X_train, X_validation, Y_train, Y_validation = train_test_split(X, y, test_size=0.20, random_state=1)\n",
        "# Make predictions on validation dataset\n",
        "model = SVC(gamma='auto')\n",
        "model.fit(X_train, Y_train)\n",
        "predictions = model.predict(X_validation)\n",
        "# Evaluate predictions\n",
        "print(accuracy_score(Y_validation, predictions))\n",
        "print(confusion_matrix(Y_validation, predictions))\n",
        "print(classification_report(Y_validation, predictions))"
      ],
      "execution_count": null,
      "outputs": [
        {
          "output_type": "stream",
          "text": [
            "0.9666666666666667\n",
            "[[11  0  0]\n",
            " [ 0 12  1]\n",
            " [ 0  0  6]]\n",
            "                 precision    recall  f1-score   support\n",
            "\n",
            "    Iris-setosa       1.00      1.00      1.00        11\n",
            "Iris-versicolor       1.00      0.92      0.96        13\n",
            " Iris-virginica       0.86      1.00      0.92         6\n",
            "\n",
            "       accuracy                           0.97        30\n",
            "      macro avg       0.95      0.97      0.96        30\n",
            "   weighted avg       0.97      0.97      0.97        30\n",
            "\n"
          ],
          "name": "stdout"
        }
      ]
    },
    {
      "cell_type": "code",
      "metadata": {
        "id": "LzVhq_mh-zU_"
      },
      "source": [],
      "execution_count": null,
      "outputs": []
    }
  ]
}