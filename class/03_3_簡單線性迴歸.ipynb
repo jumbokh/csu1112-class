{
  "nbformat": 4,
  "nbformat_minor": 0,
  "metadata": {
    "kernelspec": {
      "display_name": "Python 3",
      "language": "python",
      "name": "python3"
    },
    "language_info": {
      "codemirror_mode": {
        "name": "ipython",
        "version": 3
      },
      "file_extension": ".py",
      "mimetype": "text/x-python",
      "name": "python",
      "nbconvert_exporter": "python",
      "pygments_lexer": "ipython3",
      "version": "3.8.3"
    },
    "colab": {
      "name": "03_3_簡單線性迴歸.ipynb",
      "provenance": [],
      "include_colab_link": true
    }
  },
  "cells": [
    {
      "cell_type": "markdown",
      "metadata": {
        "id": "view-in-github",
        "colab_type": "text"
      },
      "source": [
        "<a href=\"https://colab.research.google.com/github/jumbokh/csu1112-class/blob/main/class/03_3_%E7%B0%A1%E5%96%AE%E7%B7%9A%E6%80%A7%E8%BF%B4%E6%AD%B8.ipynb\" target=\"_parent\"><img src=\"https://colab.research.google.com/assets/colab-badge.svg\" alt=\"Open In Colab\"/></a>"
      ]
    },
    {
      "cell_type": "markdown",
      "metadata": {
        "id": "JTwsZBy5u518"
      },
      "source": [
        "# 範例1. 使用自動微分估算簡單線性迴歸的參數(w、b)\n",
        "## $ y = wx + b$"
      ]
    },
    {
      "cell_type": "code",
      "metadata": {
        "id": "o_AG10X0u52B"
      },
      "source": [
        "# 載入套件\n",
        "import numpy as np \n",
        "import tensorflow as tf "
      ],
      "execution_count": null,
      "outputs": []
    },
    {
      "cell_type": "markdown",
      "metadata": {
        "id": "CPou7IFFu52D"
      },
      "source": [
        "## 定義訓練函數"
      ]
    },
    {
      "cell_type": "code",
      "metadata": {
        "id": "PiF7w0dgu52D"
      },
      "source": [
        "# 定義損失函數\n",
        "def loss(y, y_pred):\n",
        "    return tf.reduce_mean(tf.square(y - y_pred))"
      ],
      "execution_count": null,
      "outputs": []
    },
    {
      "cell_type": "code",
      "metadata": {
        "id": "xp2h_Vhwu52E"
      },
      "source": [
        "# 定義預測值函數\n",
        "def predict(X):\n",
        "    return w * X + b    "
      ],
      "execution_count": null,
      "outputs": []
    },
    {
      "cell_type": "code",
      "metadata": {
        "id": "AunOEfDYu52F"
      },
      "source": [
        "# 定義訓練函數\n",
        "def train(X, y, epochs=40, lr=0.0001):\n",
        "    current_loss=0                                # 損失函數值\n",
        "    for epoch in range(epochs):                   # 執行訓練週期\n",
        "        with tf.GradientTape() as t:              # 自動微分\n",
        "            t.watch(tf.constant(X))               # 宣告 TensorFlow 常數參與自動微分\n",
        "            current_loss = loss(y, predict(X))    # 計算損失函數值\n",
        "        \n",
        "        dw, db = t.gradient(current_loss, [w, b]) # 取得 w, b 個別的梯度\n",
        "\n",
        "        # 更新權重：新權重 = 原權重 — 學習率(learning_rate) * 梯度(gradient)\n",
        "        w.assign_sub(lr * dw) # w -= lr * dw\n",
        "        b.assign_sub(lr * db) # b -= lr * db\n",
        "\n",
        "        # 顯示每一訓練週期的損失函數\n",
        "        print(f'Epoch {epoch}: Loss: {current_loss.numpy()}') "
      ],
      "execution_count": null,
      "outputs": []
    },
    {
      "cell_type": "markdown",
      "metadata": {
        "id": "TbgJmVxnu52F"
      },
      "source": [
        "## 產生隨機資料"
      ]
    },
    {
      "cell_type": "code",
      "metadata": {
        "id": "y-Rwdn0Lu52G"
      },
      "source": [
        "# 產生線性隨機資料100筆，介於 0-50\n",
        "n = 100\n",
        "X = np.linspace(0, 50, n) \n",
        "y = np.linspace(0, 50, n) \n",
        "  \n",
        "# 資料加一點雜訊(noise)\n",
        "X += np.random.uniform(-10, 10, n) \n",
        "y += np.random.uniform(-10, 10, n) "
      ],
      "execution_count": null,
      "outputs": []
    },
    {
      "cell_type": "code",
      "metadata": {
        "id": "hThU_mtxu52H",
        "outputId": "74c52142-8826-45df-e39e-89d2eb9ccd00"
      },
      "source": [
        "X"
      ],
      "execution_count": null,
      "outputs": [
        {
          "data": {
            "text/plain": [
              "array([ 5.05683393, -8.13353909, -6.52464149, -5.50940943, 11.66358626,\n",
              "        9.31853754, -5.14093202,  5.01731668, 10.57559768, -4.78618216,\n",
              "        8.44986335,  4.16497382, -1.27368303, 10.85146034, 15.30914714,\n",
              "       14.26535163, -0.6331097 , 13.38742355,  5.51097519,  7.21306803,\n",
              "        8.68363776, 11.61408491,  9.02919419,  2.37980562,  9.81521208,\n",
              "       16.88044306,  9.3212144 , 18.78037109, 16.00073258,  9.26335497,\n",
              "       16.86699858,  9.40279713, 10.98483436, 19.59055894, 17.52213998,\n",
              "       10.88094558, 26.86063116, 18.1373789 , 14.29707927, 24.5175653 ,\n",
              "       20.07366248, 23.82504613, 16.39122476, 27.79423363, 27.79278329,\n",
              "       19.10799661, 25.49652043, 23.54407923, 15.03184501, 29.90820105,\n",
              "       22.50911764, 18.84882127, 32.76063904, 24.73656876, 24.21448625,\n",
              "       29.36006822, 25.74498214, 30.62373175, 26.90133786, 28.08688738,\n",
              "       38.9461851 , 25.87609548, 37.8438448 , 37.7069019 , 36.27067197,\n",
              "       31.65913731, 42.10272761, 31.09995469, 26.48630227, 39.85752912,\n",
              "       43.96397125, 33.0206601 , 36.16815961, 46.34469767, 47.12982529,\n",
              "       44.6903732 , 30.09204352, 41.28954643, 48.05313622, 47.66891977,\n",
              "       43.14912397, 40.39127056, 50.2837384 , 40.05431866, 48.80824101,\n",
              "       44.45343344, 37.47050919, 49.56799998, 40.30013877, 34.98544808,\n",
              "       46.19751187, 50.80050232, 52.72489989, 40.72158721, 39.93151182,\n",
              "       50.87954018, 49.89198923, 58.57853361, 58.06102015, 53.94626959])"
            ]
          },
          "execution_count": 3,
          "metadata": {},
          "output_type": "execute_result"
        }
      ]
    },
    {
      "cell_type": "code",
      "metadata": {
        "scrolled": true,
        "id": "nHepv3hSu52J",
        "outputId": "fb14dbdc-7eb8-4aa5-e205-d20d6525e4f7"
      },
      "source": [
        "y"
      ],
      "execution_count": null,
      "outputs": [
        {
          "data": {
            "text/plain": [
              "array([ 2.38619247, -3.82597851,  5.342754  , -0.22965924, 10.31906107,\n",
              "        1.31012597, -2.59944819,  0.98036408, -2.53023523, -3.89497905,\n",
              "        8.04977276,  7.10383458,  4.58969484,  8.05577634, -1.2762334 ,\n",
              "       12.56327823, 16.32239383,  2.03126244,  3.86361026, 14.78686812,\n",
              "       17.07589569, 14.2002982 ,  5.92602891,  4.71014098,  7.43518557,\n",
              "        4.67401872, 13.22523957, 18.78654672,  6.28702838, 14.36463968,\n",
              "       14.60763563,  7.02462127, 20.57982258, 20.49972768, 20.40041445,\n",
              "       14.18823199, 10.50301796, 17.27589055, 28.58775655, 22.88628943,\n",
              "       12.52098699, 26.84182246, 26.3892489 , 18.53832592, 20.71381709,\n",
              "       19.93247216, 15.80723015, 19.7253919 , 14.86651948, 28.75855758,\n",
              "       33.37882854, 23.1185613 , 30.80023235, 35.14025344, 36.37698381,\n",
              "       24.36227103, 28.61423123, 31.92153211, 37.42577826, 37.6251155 ,\n",
              "       23.99382037, 40.6644072 , 31.72834581, 32.89175579, 26.26632139,\n",
              "       35.94883329, 40.02587834, 39.74611919, 27.11969056, 31.8597817 ,\n",
              "       36.49670669, 31.82472181, 37.91302333, 33.61947345, 43.04842875,\n",
              "       37.32884038, 32.1312891 , 38.5539482 , 45.32510143, 49.18804546,\n",
              "       49.10827192, 32.38718911, 35.92433949, 40.07184945, 36.10304496,\n",
              "       43.25138873, 42.4165207 , 40.80811642, 41.8040783 , 34.98507213,\n",
              "       46.46927661, 49.12648499, 48.24287817, 56.70224579, 56.38754993,\n",
              "       45.52082822, 49.81626693, 51.77317806, 53.51573977, 50.06252213])"
            ]
          },
          "execution_count": 4,
          "metadata": {},
          "output_type": "execute_result"
        }
      ]
    },
    {
      "cell_type": "markdown",
      "metadata": {
        "id": "FLCWouiTu52J"
      },
      "source": [
        "## 執行訓練"
      ]
    },
    {
      "cell_type": "code",
      "metadata": {
        "scrolled": true,
        "id": "-rDNLYzyu52K",
        "outputId": "05c006bf-e743-4ea3-984a-2c474fa9869c"
      },
      "source": [
        "# w、b 初始值均設為 0\n",
        "w = tf.Variable(0.0)\n",
        "b = tf.Variable(0.0)\n",
        "\n",
        "# 執行訓練\n",
        "train(X, y)\n",
        "\n",
        "# w、b 的最佳解\n",
        "print(f'w={w.numpy()}, b={b.numpy()}')"
      ],
      "execution_count": null,
      "outputs": [
        {
          "name": "stdout",
          "output_type": "stream",
          "text": [
            "Epoch 0: Loss: 890.1063232421875\n",
            "Epoch 1: Loss: 607.071533203125\n",
            "Epoch 2: Loss: 419.7763671875\n",
            "Epoch 3: Loss: 295.8358459472656\n",
            "Epoch 4: Loss: 213.81948852539062\n",
            "Epoch 5: Loss: 159.5459747314453\n",
            "Epoch 6: Loss: 123.63106536865234\n",
            "Epoch 7: Loss: 99.86465454101562\n",
            "Epoch 8: Loss: 84.1374282836914\n",
            "Epoch 9: Loss: 73.7300033569336\n",
            "Epoch 10: Loss: 66.84292602539062\n",
            "Epoch 11: Loss: 62.28538513183594\n",
            "Epoch 12: Loss: 59.269386291503906\n",
            "Epoch 13: Loss: 57.27349090576172\n",
            "Epoch 14: Loss: 55.95263671875\n",
            "Epoch 15: Loss: 55.078487396240234\n",
            "Epoch 16: Loss: 54.49993133544922\n",
            "Epoch 17: Loss: 54.116981506347656\n",
            "Epoch 18: Loss: 53.86347579956055\n",
            "Epoch 19: Loss: 53.69562911987305\n",
            "Epoch 20: Loss: 53.584468841552734\n",
            "Epoch 21: Loss: 53.51081085205078\n",
            "Epoch 22: Loss: 53.461978912353516\n",
            "Epoch 23: Loss: 53.429569244384766\n",
            "Epoch 24: Loss: 53.408023834228516\n",
            "Epoch 25: Loss: 53.393672943115234\n",
            "Epoch 26: Loss: 53.384090423583984\n",
            "Epoch 27: Loss: 53.377655029296875\n",
            "Epoch 28: Loss: 53.373294830322266\n",
            "Epoch 29: Loss: 53.37032699584961\n",
            "Epoch 30: Loss: 53.368263244628906\n",
            "Epoch 31: Loss: 53.36680221557617\n",
            "Epoch 32: Loss: 53.36574172973633\n",
            "Epoch 33: Loss: 53.364952087402344\n",
            "Epoch 34: Loss: 53.36433029174805\n",
            "Epoch 35: Loss: 53.363834381103516\n",
            "Epoch 36: Loss: 53.363407135009766\n",
            "Epoch 37: Loss: 53.3630256652832\n",
            "Epoch 38: Loss: 53.36268997192383\n",
            "Epoch 39: Loss: 53.362369537353516\n",
            "w=0.9464060664176941, b=0.03266216814517975\n"
          ]
        }
      ]
    },
    {
      "cell_type": "markdown",
      "metadata": {
        "id": "-OLQwJlNu52K"
      },
      "source": [
        "## 顯示迴歸線"
      ]
    },
    {
      "cell_type": "code",
      "metadata": {
        "id": "qI2VM0CNu52L",
        "outputId": "45604b4d-6b42-481c-db45-a2995988784e"
      },
      "source": [
        "import matplotlib.pyplot as plt \n",
        "\n",
        "plt.scatter(X, y, label='data')\n",
        "plt.plot(X, predict(X), 'r-', label='predicted')\n",
        "plt.legend()"
      ],
      "execution_count": null,
      "outputs": [
        {
          "data": {
            "text/plain": [
              "<matplotlib.legend.Legend at 0x1d9d6bd4580>"
            ]
          },
          "execution_count": 6,
          "metadata": {},
          "output_type": "execute_result"
        },
        {
          "data": {
            "image/png": "[encoded data removed]",
            "text/plain": [
              "<Figure size 432x288 with 1 Axes>"
            ]
          },
          "metadata": {
            "needs_background": "light"
          },
          "output_type": "display_data"
        }
      ]
    },
    {
      "cell_type": "code",
      "metadata": {
        "id": "E31OgVYYu52L"
      },
      "source": [],
      "execution_count": null,
      "outputs": []
    }
  ]
}