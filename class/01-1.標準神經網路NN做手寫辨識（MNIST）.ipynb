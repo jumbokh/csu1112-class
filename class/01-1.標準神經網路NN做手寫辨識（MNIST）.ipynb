{
  "nbformat": 4,
  "nbformat_minor": 0,
  "metadata": {
    "anaconda-cloud": {},
    "kernelspec": {
      "name": "python3",
      "display_name": "Python 3"
    },
    "language_info": {
      "mimetype": "text/x-python",
      "nbconvert_exporter": "python",
      "name": "python",
      "pygments_lexer": "ipython3",
      "version": "3.5.4",
      "file_extension": ".py",
      "codemirror_mode": {
        "version": 3,
        "name": "ipython"
      }
    },
    "colab": {
      "name": "11_標準神經網路NN做手寫辨識（MNIST）.ipynb",
      "provenance": [],
      "collapsed_sections": [
        "gK_T1dwNSUfO",
        "7AuqWi7NRyp1",
        "VwdDvd7RRyqA",
        "XICSWkOmRyqI",
        "7Gy9Wa0pRyqL",
        "Do74rX3jRyqc",
        "5h-awa8PRyrO",
        "7_F6XTCJcr06",
        "51u2xAJeizpb",
        "xZakPSSpjCGm",
        "Xqoppkr-6ll6",
        "iKmkDAgW7GCb",
        "TIcak-yc9D8f",
        "GpI6qQTO-BVk",
        "WBtdTeSv-_RY",
        "3BsrkkVH_Fke",
        "pwPZBn_vAHgx",
        "_NMuK4W9_1BI",
        "Qoy6Ls72A7nB",
        "CAEg_lQpBdVQ",
        "U-c2g7lSRyrh"
      ]
    },
    "accelerator": "GPU",
    "widgets": {
      "application/vnd.jupyter.widget-state+json": {
        "031aebed23f84176b9b802979f96e462": {
          "model_module": "@jupyter-widgets/controls",
          "model_name": "VBoxModel",
          "model_module_version": "1.5.0",
          "state": {
            "_dom_classes": [
              "widget-interact"
            ],
            "_model_module": "@jupyter-widgets/controls",
            "_model_module_version": "1.5.0",
            "_model_name": "VBoxModel",
            "_view_count": null,
            "_view_module": "@jupyter-widgets/controls",
            "_view_module_version": "1.5.0",
            "_view_name": "VBoxView",
            "box_style": "",
            "children": [
              "IPY_MODEL_fe1f98209e96448aa620c7ba65fb06d5",
              "IPY_MODEL_0e3077297a174486bee7e6ca10bf0a0d",
              "IPY_MODEL_5e8016a2c22d49a096621ec0dcab6297"
            ],
            "layout": "IPY_MODEL_3f04afa1bc824b72930dbf5d1050b12b"
          }
        },
        "fe1f98209e96448aa620c7ba65fb06d5": {
          "model_module": "@jupyter-widgets/controls",
          "model_name": "IntSliderModel",
          "model_module_version": "1.5.0",
          "state": {
            "_dom_classes": [],
            "_model_module": "@jupyter-widgets/controls",
            "_model_module_version": "1.5.0",
            "_model_name": "IntSliderModel",
            "_view_count": null,
            "_view_module": "@jupyter-widgets/controls",
            "_view_module_version": "1.5.0",
            "_view_name": "IntSliderView",
            "continuous_update": true,
            "description": "測試編號",
            "description_tooltip": null,
            "disabled": false,
            "layout": "IPY_MODEL_316fdf2eccdb4d5db89ea503429f86a1",
            "max": 9999,
            "min": 0,
            "orientation": "horizontal",
            "readout": true,
            "readout_format": "d",
            "step": 1,
            "style": "IPY_MODEL_e9dcde62c86747989a7cb9422a2fce93",
            "value": 4999
          }
        },
        "0e3077297a174486bee7e6ca10bf0a0d": {
          "model_module": "@jupyter-widgets/controls",
          "model_name": "ButtonModel",
          "model_module_version": "1.5.0",
          "state": {
            "_dom_classes": [],
            "_model_module": "@jupyter-widgets/controls",
            "_model_module_version": "1.5.0",
            "_model_name": "ButtonModel",
            "_view_count": null,
            "_view_module": "@jupyter-widgets/controls",
            "_view_module_version": "1.5.0",
            "_view_name": "ButtonView",
            "button_style": "",
            "description": "Run Interact",
            "disabled": false,
            "icon": "",
            "layout": "IPY_MODEL_e441b36456fb408f98a3c2c5be7bea97",
            "style": "IPY_MODEL_6129679520cc496fa890300daf992192",
            "tooltip": ""
          }
        },
        "5e8016a2c22d49a096621ec0dcab6297": {
          "model_module": "@jupyter-widgets/output",
          "model_name": "OutputModel",
          "model_module_version": "1.0.0",
          "state": {
            "_dom_classes": [],
            "_model_module": "@jupyter-widgets/output",
            "_model_module_version": "1.0.0",
            "_model_name": "OutputModel",
            "_view_count": null,
            "_view_module": "@jupyter-widgets/output",
            "_view_module_version": "1.0.0",
            "_view_name": "OutputView",
            "layout": "IPY_MODEL_def6db4152f5415d881b4130e877660b",
            "msg_id": "",
            "outputs": []
          }
        },
        "3f04afa1bc824b72930dbf5d1050b12b": {
          "model_module": "@jupyter-widgets/base",
          "model_name": "LayoutModel",
          "model_module_version": "1.2.0",
          "state": {
            "_model_module": "@jupyter-widgets/base",
            "_model_module_version": "1.2.0",
            "_model_name": "LayoutModel",
            "_view_count": null,
            "_view_module": "@jupyter-widgets/base",
            "_view_module_version": "1.2.0",
            "_view_name": "LayoutView",
            "align_content": null,
            "align_items": null,
            "align_self": null,
            "border": null,
            "bottom": null,
            "display": null,
            "flex": null,
            "flex_flow": null,
            "grid_area": null,
            "grid_auto_columns": null,
            "grid_auto_flow": null,
            "grid_auto_rows": null,
            "grid_column": null,
            "grid_gap": null,
            "grid_row": null,
            "grid_template_areas": null,
            "grid_template_columns": null,
            "grid_template_rows": null,
            "height": null,
            "justify_content": null,
            "justify_items": null,
            "left": null,
            "margin": null,
            "max_height": null,
            "max_width": null,
            "min_height": null,
            "min_width": null,
            "object_fit": null,
            "object_position": null,
            "order": null,
            "overflow": null,
            "overflow_x": null,
            "overflow_y": null,
            "padding": null,
            "right": null,
            "top": null,
            "visibility": null,
            "width": null
          }
        },
        "316fdf2eccdb4d5db89ea503429f86a1": {
          "model_module": "@jupyter-widgets/base",
          "model_name": "LayoutModel",
          "model_module_version": "1.2.0",
          "state": {
            "_model_module": "@jupyter-widgets/base",
            "_model_module_version": "1.2.0",
            "_model_name": "LayoutModel",
            "_view_count": null,
            "_view_module": "@jupyter-widgets/base",
            "_view_module_version": "1.2.0",
            "_view_name": "LayoutView",
            "align_content": null,
            "align_items": null,
            "align_self": null,
            "border": null,
            "bottom": null,
            "display": null,
            "flex": null,
            "flex_flow": null,
            "grid_area": null,
            "grid_auto_columns": null,
            "grid_auto_flow": null,
            "grid_auto_rows": null,
            "grid_column": null,
            "grid_gap": null,
            "grid_row": null,
            "grid_template_areas": null,
            "grid_template_columns": null,
            "grid_template_rows": null,
            "height": null,
            "justify_content": null,
            "justify_items": null,
            "left": null,
            "margin": null,
            "max_height": null,
            "max_width": null,
            "min_height": null,
            "min_width": null,
            "object_fit": null,
            "object_position": null,
            "order": null,
            "overflow": null,
            "overflow_x": null,
            "overflow_y": null,
            "padding": null,
            "right": null,
            "top": null,
            "visibility": null,
            "width": null
          }
        },
        "e9dcde62c86747989a7cb9422a2fce93": {
          "model_module": "@jupyter-widgets/controls",
          "model_name": "SliderStyleModel",
          "model_module_version": "1.5.0",
          "state": {
            "_model_module": "@jupyter-widgets/controls",
            "_model_module_version": "1.5.0",
            "_model_name": "SliderStyleModel",
            "_view_count": null,
            "_view_module": "@jupyter-widgets/base",
            "_view_module_version": "1.2.0",
            "_view_name": "StyleView",
            "description_width": "",
            "handle_color": null
          }
        },
        "e441b36456fb408f98a3c2c5be7bea97": {
          "model_module": "@jupyter-widgets/base",
          "model_name": "LayoutModel",
          "model_module_version": "1.2.0",
          "state": {
            "_model_module": "@jupyter-widgets/base",
            "_model_module_version": "1.2.0",
            "_model_name": "LayoutModel",
            "_view_count": null,
            "_view_module": "@jupyter-widgets/base",
            "_view_module_version": "1.2.0",
            "_view_name": "LayoutView",
            "align_content": null,
            "align_items": null,
            "align_self": null,
            "border": null,
            "bottom": null,
            "display": null,
            "flex": null,
            "flex_flow": null,
            "grid_area": null,
            "grid_auto_columns": null,
            "grid_auto_flow": null,
            "grid_auto_rows": null,
            "grid_column": null,
            "grid_gap": null,
            "grid_row": null,
            "grid_template_areas": null,
            "grid_template_columns": null,
            "grid_template_rows": null,
            "height": null,
            "justify_content": null,
            "justify_items": null,
            "left": null,
            "margin": null,
            "max_height": null,
            "max_width": null,
            "min_height": null,
            "min_width": null,
            "object_fit": null,
            "object_position": null,
            "order": null,
            "overflow": null,
            "overflow_x": null,
            "overflow_y": null,
            "padding": null,
            "right": null,
            "top": null,
            "visibility": null,
            "width": null
          }
        },
        "6129679520cc496fa890300daf992192": {
          "model_module": "@jupyter-widgets/controls",
          "model_name": "ButtonStyleModel",
          "model_module_version": "1.5.0",
          "state": {
            "_model_module": "@jupyter-widgets/controls",
            "_model_module_version": "1.5.0",
            "_model_name": "ButtonStyleModel",
            "_view_count": null,
            "_view_module": "@jupyter-widgets/base",
            "_view_module_version": "1.2.0",
            "_view_name": "StyleView",
            "button_color": null,
            "font_weight": ""
          }
        },
        "def6db4152f5415d881b4130e877660b": {
          "model_module": "@jupyter-widgets/base",
          "model_name": "LayoutModel",
          "model_module_version": "1.2.0",
          "state": {
            "_model_module": "@jupyter-widgets/base",
            "_model_module_version": "1.2.0",
            "_model_name": "LayoutModel",
            "_view_count": null,
            "_view_module": "@jupyter-widgets/base",
            "_view_module_version": "1.2.0",
            "_view_name": "LayoutView",
            "align_content": null,
            "align_items": null,
            "align_self": null,
            "border": null,
            "bottom": null,
            "display": null,
            "flex": null,
            "flex_flow": null,
            "grid_area": null,
            "grid_auto_columns": null,
            "grid_auto_flow": null,
            "grid_auto_rows": null,
            "grid_column": null,
            "grid_gap": null,
            "grid_row": null,
            "grid_template_areas": null,
            "grid_template_columns": null,
            "grid_template_rows": null,
            "height": null,
            "justify_content": null,
            "justify_items": null,
            "left": null,
            "margin": null,
            "max_height": null,
            "max_width": null,
            "min_height": null,
            "min_width": null,
            "object_fit": null,
            "object_position": null,
            "order": null,
            "overflow": null,
            "overflow_x": null,
            "overflow_y": null,
            "padding": null,
            "right": null,
            "top": null,
            "visibility": null,
            "width": null
          }
        }
      }
    }
  },
  "cells": [
    {
      "cell_type": "markdown",
      "metadata": {
        "id": "1Jg2jL8CRypr"
      },
      "source": [
        "# 標準神經網路做手寫辨識\n"
      ]
    },
    {
      "cell_type": "markdown",
      "metadata": {
        "id": "gK_T1dwNSUfO"
      },
      "source": [
        "## 使用Keras(Tensorflow 1.X版本)示範\n",
        "- 這邊先以Tensorflow 1.X版本進行示範\n"
      ]
    },
    {
      "cell_type": "markdown",
      "metadata": {
        "id": "1dXbiLbERypt"
      },
      "source": [
        "###  1. 初始準備\n",
        "\n",
        "Keras 可以用各種不同的深度學習套件當底層, 我們在此指定用 Tensorflow 以確保執行的一致性。"
      ]
    },
    {
      "cell_type": "code",
      "metadata": {
        "trusted": true,
        "id": "QJPPavfBRypu",
        "outputId": "de65abba-0778-49e6-b469-eb5680b8c4ca",
        "colab": {
          "base_uri": "https://localhost:8080/"
        }
      },
      "source": [
        "%env KERAS_BACKEND=tensorflow"
      ],
      "execution_count": 1,
      "outputs": [
        {
          "output_type": "stream",
          "name": "stdout",
          "text": [
            "env: KERAS_BACKEND=tensorflow\n"
          ]
        }
      ]
    },
    {
      "cell_type": "markdown",
      "metadata": {
        "id": "zTufU335Rypy"
      },
      "source": [
        "再來是我們標準數據分析動作!"
      ]
    },
    {
      "cell_type": "code",
      "metadata": {
        "trusted": true,
        "id": "GroVEm5XRypy"
      },
      "source": [
        "%matplotlib inline\n",
        "import numpy as np\n",
        "import matplotlib.pyplot as plt"
      ],
      "execution_count": 2,
      "outputs": []
    },
    {
      "cell_type": "markdown",
      "metadata": {
        "id": "MZ0AxX2PRyp1"
      },
      "source": [
        "### 2. 讀入 MNIST 數據庫\n",
        "\n",
        "MNIST 是有一堆 0-9 的手寫數字圖庫。有 6 萬筆訓練資料, 1 萬筆測試資料。它是 \"Modified\" 版的 NIST 數據庫, 原來的版本有更多資料。這個 Modified 的版本是由 LeCun, Cortes, 及 Burges 等人做的。可以參考這個數據庫的[原始網頁](http://yann.lecun.com/exdb/mnist/)。\n",
        "\n",
        "MNIST 可以說是 Deep Learning 最有名的範例, 它被 Deep Learning 大師 Hinton 稱為「機器學習的果蠅」。"
      ]
    },
    {
      "cell_type": "markdown",
      "metadata": {
        "id": "7AuqWi7NRyp1"
      },
      "source": [
        "#### 2.1 由 Keras 讀入 MNIST"
      ]
    },
    {
      "cell_type": "markdown",
      "metadata": {
        "id": "T1mixqn3TwWa"
      },
      "source": [
        "Keras 很貼心的幫我們準備好 MNIST 數據庫, 但現在會建議要升級為 TensorFlow 2.x版，這在第二部分再使用。"
      ]
    },
    {
      "cell_type": "code",
      "metadata": {
        "trusted": true,
        "id": "_5M_bPW0Ryp2"
      },
      "source": [
        "from keras.datasets import mnist"
      ],
      "execution_count": 3,
      "outputs": []
    },
    {
      "cell_type": "code",
      "metadata": {
        "trusted": true,
        "id": "sDB__RCPRyp4",
        "outputId": "6d7abb90-6183-4f2b-a1de-254b334f58dc",
        "colab": {
          "base_uri": "https://localhost:8080/"
        }
      },
      "source": [
        "(x_train, y_train), (x_test, y_test) = mnist.load_data()"
      ],
      "execution_count": 4,
      "outputs": [
        {
          "output_type": "stream",
          "name": "stdout",
          "text": [
            "Downloading data from https://storage.googleapis.com/tensorflow/tf-keras-datasets/mnist.npz\n",
            "11490434/11490434 [==============================] - 1s 0us/step\n"
          ]
        }
      ]
    },
    {
      "cell_type": "markdown",
      "metadata": {
        "id": "Bu6PpS20Ryp6"
      },
      "source": [
        "我們來看看訓練資料是不是 6 萬筆、測試資料是不是有 1 筆。"
      ]
    },
    {
      "cell_type": "code",
      "metadata": {
        "trusted": true,
        "id": "Z80NbO3mRyp7",
        "outputId": "37e31e3a-b74d-4685-b133-ddd060a69639",
        "colab": {
          "base_uri": "https://localhost:8080/"
        }
      },
      "source": [
        "print(len(x_train))\n",
        "print(len(y_train))\n",
        "print(len(x_test))\n",
        "print(len(y_test))"
      ],
      "execution_count": 5,
      "outputs": [
        {
          "output_type": "stream",
          "name": "stdout",
          "text": [
            "60000\n",
            "60000\n",
            "10000\n",
            "10000\n"
          ]
        }
      ]
    },
    {
      "cell_type": "markdown",
      "metadata": {
        "id": "VwdDvd7RRyqA"
      },
      "source": [
        "#### 2.2 數據庫的內容\n",
        "\n"
      ]
    },
    {
      "cell_type": "markdown",
      "metadata": {
        "id": "Dij_3lz6Zdfs"
      },
      "source": [
        "每筆輸入 (x) 就是一個手寫的 0-9 中一個數字的圖檔, 大小為 28x28。而輸出 (y) 當然就是「正確答案」。我們來看看訓練資料。"
      ]
    },
    {
      "cell_type": "code",
      "metadata": {
        "trusted": true,
        "id": "qRGy7ionRyqA",
        "outputId": "fc546a38-ba03-421d-f731-d3b0273a5716",
        "colab": {
          "base_uri": "https://localhost:8080/"
        }
      },
      "source": [
        "x_train[9487].shape"
      ],
      "execution_count": 6,
      "outputs": [
        {
          "output_type": "execute_result",
          "data": {
            "text/plain": [
              "(28, 28)"
            ]
          },
          "metadata": {},
          "execution_count": 6
        }
      ]
    },
    {
      "cell_type": "markdown",
      "metadata": {
        "id": "Fkh_YnsuRyqD"
      },
      "source": [
        "因為是圖檔, 當然可以顯示出來!"
      ]
    },
    {
      "cell_type": "code",
      "metadata": {
        "trusted": true,
        "id": "NfWJ3QlYRyqE",
        "outputId": "f665f1ba-3283-467b-94f7-f753be8f29ad",
        "colab": {
          "base_uri": "https://localhost:8080/",
          "height": 283
        }
      },
      "source": [
        "plt.imshow(x_train[9487], cmap='Greys')"
      ],
      "execution_count": 7,
      "outputs": [
        {
          "output_type": "execute_result",
          "data": {
            "text/plain": [
              "<matplotlib.image.AxesImage at 0x7f0375269910>"
            ]
          },
          "metadata": {},
          "execution_count": 7
        },
        {
          "output_type": "display_data",
          "data": {
            "text/plain": [
              "<Figure size 432x288 with 1 Axes>"
            ],
            "image/png": "[encoded data removed]"
          },
          "metadata": {
            "needs_background": "light"
          }
        }
      ]
    },
    {
      "cell_type": "code",
      "metadata": {
        "id": "ouVxNjulLYto",
        "colab": {
          "base_uri": "https://localhost:8080/"
        },
        "outputId": "d3362469-3bc6-4488-9733-767d17152317"
      },
      "source": [
        "x_train[9487]"
      ],
      "execution_count": 8,
      "outputs": [
        {
          "output_type": "execute_result",
          "data": {
            "text/plain": [
              "array([[  0,   0,   0,   0,   0,   0,   0,   0,   0,   0,   0,   0,   0,\n",
              "          0,   0,   0,   0,   0,   0,   0,   0,   0,   0,   0,   0,   0,\n",
              "          0,   0],\n",
              "       [  0,   0,   0,   0,   0,   0,   0,   0,   0,   0,   0,   0,   0,\n",
              "          0,   0,   0,   0,   0,   0,   0,   0,   0,   0,   0,   0,   0,\n",
              "          0,   0],\n",
              "       [  0,   0,   0,   0,   0,   0,   0,   0,   0,   0,   0,   0,   0,\n",
              "          0,   0,   0,   0,   0,   0,   0,   0,   0,   0,   0,   0,   0,\n",
              "          0,   0],\n",
              "       [  0,   0,   0,   0,   0,   0,   0,   0,   0,   0,   0,   0,   0,\n",
              "          0,   0,   0,   0,   0,   0,   0,   0,   0,   0,   0,   0,   0,\n",
              "          0,   0],\n",
              "       [  0,   0,   0,   0,   0,   0,   0,   0,   0,   0,   0,   0, 240,\n",
              "        253, 165,   0,   0,   0,   0,   0,   0,   0,   0,   0,   0,   0,\n",
              "          0,   0],\n",
              "       [  0,   0,   0,   0,   0,   0,   0,   0,   0,   0,   0,  32, 241,\n",
              "        252, 252,   0,   0,   0,   0,   0,   0,   0,   0,   0,   0,   0,\n",
              "          0,   0],\n",
              "       [  0,   0,   0,   0,   0,   0,   0,   0,   0,   0,   2, 141, 252,\n",
              "        252, 252,  98,   0,   0,   0,   0,   0,   0,   0,   0,   0,   0,\n",
              "          0,   0],\n",
              "       [  0,   0,   0,   0,   0,   0,   0,   0,   0,   0,  30, 252, 252,\n",
              "        252, 252, 149,   0,   0,   0,   0,   0,   0,   0,   0,   0,   0,\n",
              "          0,   0],\n",
              "       [  0,   0,   0,   0,   0,   0,   0,   0,   0,   0,  21, 217, 252,\n",
              "        252, 252, 149,   0,   0,   0,   0,   0,   0,   0,   0,   0,   0,\n",
              "          0,   0],\n",
              "       [  0,   0,   0,   0,   0,   0,   0,   0,   0,   0,   0, 134, 252,\n",
              "        252, 252, 223,  31,   0,   0,   0,   0,   0,   0,   0,   0,   0,\n",
              "          0,   0],\n",
              "       [  0,   0,   0,   0,   0,   0,   0,   0,   0,   0,   0, 134, 252,\n",
              "        252, 252, 253,  44,   0,   0,   0,   0,   0,   0,   0,   0,   0,\n",
              "          0,   0],\n",
              "       [  0,   0,   0,   0,   0,   0,   0,   0,   0,   0,   0,   8, 239,\n",
              "        252, 252, 253,  44,   0,   0,   0,   0,   0,   0,   0,   0,   0,\n",
              "          0,   0],\n",
              "       [  0,   0,   0,   0,   0,   0,   0,   0,   0,   0,   0,   0, 238,\n",
              "        252, 252, 253,  44,   0,   0,   0,   0,   0,   0,   0,   0,   0,\n",
              "          0,   0],\n",
              "       [  0,   0,   0,   0,   0,   0,   0,   0,   0,   0,   0,   0, 238,\n",
              "        252, 252, 253,  44,   0,   0,   0,   0,   0,   0,   0,   0,   0,\n",
              "          0,   0],\n",
              "       [  0,   0,   0,   0,   0,   0,   0,   0,   0,   0,   0,   0, 178,\n",
              "        253, 253, 255, 106,   0,   0,   0,   0,   0,   0,   0,   0,   0,\n",
              "          0,   0],\n",
              "       [  0,   0,   0,   0,   0,   0,   0,   0,   0,   0,   0,   0,  90,\n",
              "        252, 252, 253, 206,  21,   0,   0,   0,   0,   0,   0,   0,   0,\n",
              "          0,   0],\n",
              "       [  0,   0,   0,   0,   0,   0,   0,   0,   0,   0,   0,   0,  90,\n",
              "        252, 252, 253, 252,  88,   0,   0,   0,   0,   0,   0,   0,   0,\n",
              "          0,   0],\n",
              "       [  0,   0,   0,   0,   0,   0,   0,   0,   0,   0,   0,   0,  90,\n",
              "        252, 252, 253, 252,  88,   0,   0,   0,   0,   0,   0,   0,   0,\n",
              "          0,   0],\n",
              "       [  0,   0,   0,   0,   0,   0,   0,   0,   0,   0,   0,   0,  63,\n",
              "        234, 252, 253, 252, 220,   0,   0,   0,   0,   0,   0,   0,   0,\n",
              "          0,   0],\n",
              "       [  0,   0,   0,   0,   0,   0,   0,   0,   0,   0,   0,   0,   0,\n",
              "        176, 252, 253, 252, 237,   0,   0,   0,   0,   0,   0,   0,   0,\n",
              "          0,   0],\n",
              "       [  0,   0,   0,   0,   0,   0,   0,   0,   0,   0,   0,   0,   0,\n",
              "         45, 252, 253, 252, 245,  71,   0,   0,   0,   0,   0,   0,   0,\n",
              "          0,   0],\n",
              "       [  0,   0,   0,   0,   0,   0,   0,   0,   0,   0,   0,   0,   0,\n",
              "         29, 215, 253, 252, 237,   8,   0,   0,   0,   0,   0,   0,   0,\n",
              "          0,   0],\n",
              "       [  0,   0,   0,   0,   0,   0,   0,   0,   0,   0,   0,   0,   0,\n",
              "          0, 149, 253, 252, 237,   0,   0,   0,   0,   0,   0,   0,   0,\n",
              "          0,   0],\n",
              "       [  0,   0,   0,   0,   0,   0,   0,   0,   0,   0,   0,   0,   0,\n",
              "          0,  61, 165, 252, 237,   0,   0,   0,   0,   0,   0,   0,   0,\n",
              "          0,   0],\n",
              "       [  0,   0,   0,   0,   0,   0,   0,   0,   0,   0,   0,   0,   0,\n",
              "          0,   0,   0,   0,   0,   0,   0,   0,   0,   0,   0,   0,   0,\n",
              "          0,   0],\n",
              "       [  0,   0,   0,   0,   0,   0,   0,   0,   0,   0,   0,   0,   0,\n",
              "          0,   0,   0,   0,   0,   0,   0,   0,   0,   0,   0,   0,   0,\n",
              "          0,   0],\n",
              "       [  0,   0,   0,   0,   0,   0,   0,   0,   0,   0,   0,   0,   0,\n",
              "          0,   0,   0,   0,   0,   0,   0,   0,   0,   0,   0,   0,   0,\n",
              "          0,   0],\n",
              "       [  0,   0,   0,   0,   0,   0,   0,   0,   0,   0,   0,   0,   0,\n",
              "          0,   0,   0,   0,   0,   0,   0,   0,   0,   0,   0,   0,   0,\n",
              "          0,   0]], dtype=uint8)"
            ]
          },
          "metadata": {},
          "execution_count": 8
        }
      ]
    },
    {
      "cell_type": "markdown",
      "metadata": {
        "id": "zJwTMjtWRyqG"
      },
      "source": [
        "我們人眼辨識就知道這是 1, 我們看答案是不是和我們想的一樣。"
      ]
    },
    {
      "cell_type": "code",
      "metadata": {
        "trusted": true,
        "id": "Dp9itUA-RyqH",
        "outputId": "a7c865d9-34a9-41a0-fd54-a8fef9a6c0a4",
        "colab": {
          "base_uri": "https://localhost:8080/"
        }
      },
      "source": [
        "y_train[9487]"
      ],
      "execution_count": 9,
      "outputs": [
        {
          "output_type": "execute_result",
          "data": {
            "text/plain": [
              "1"
            ]
          },
          "metadata": {},
          "execution_count": 9
        }
      ]
    },
    {
      "cell_type": "markdown",
      "metadata": {
        "id": "XICSWkOmRyqI"
      },
      "source": [
        "#### 2.3 輸入格式整理\n",
        "\n",
        "我們現在要用標準神經網路學學手寫辨識。原來的每筆數據是個 28x28 的矩陣 (array), 但標準神經網路只吃「平平的」, 也就是每次要 28x28=784 長的向量。因此我們要用 `reshape` 調校一下。"
      ]
    },
    {
      "cell_type": "code",
      "metadata": {
        "trusted": true,
        "id": "4J9JBsnZRyqJ"
      },
      "source": [
        "x_train = x_train.reshape(60000, 784)\n",
        "x_test = x_test.reshape(10000, 784)"
      ],
      "execution_count": 10,
      "outputs": []
    },
    {
      "cell_type": "markdown",
      "metadata": {
        "id": "7Gy9Wa0pRyqL"
      },
      "source": [
        "#### 2.4 輸出格式整理"
      ]
    },
    {
      "cell_type": "markdown",
      "metadata": {
        "id": "m2JAaT2CZiIA"
      },
      "source": [
        "我們可能會想, 我們想學的函數是這樣的型式:\n",
        "\n",
        "$$\\hat{f} \\colon \\mathbb{R}^{784} \\to \\mathbb{R}$$\n",
        "\n",
        "其實這樣不太好! 為什麼呢? 比如說我們的輸入 x 是一張 0 的圖, 因為我們訓練的神經網路總會有點誤差, 所以可能會得到:\n",
        "\n",
        "$$\\hat{f}(x) = 0.5$$\n",
        "\n",
        "那這意思是有可能是 0, 也有可能是 1 嗎!!?? 可是 0 和 1 根本不像啊。換句話說分類的問題這樣做其實不合理!\n",
        "\n",
        "於是我們會做 \"1-hot enconding\", 也就是\n",
        "\n",
        "* 1 -> [0, 1, 0, 0, 0, 0, 0, 0, 0]\n",
        "* 5 -> [0, 0, 0, 0, 0, 1, 0, 0, 0]\n",
        "\n",
        "等等。因為分類問題基本上都要做這件事, Keras 其實已幫我們準備好套件!"
      ]
    },
    {
      "cell_type": "code",
      "metadata": {
        "trusted": true,
        "id": "tnzE3fwnRyqM"
      },
      "source": [
        "from keras.utils import np_utils"
      ],
      "execution_count": 11,
      "outputs": []
    },
    {
      "cell_type": "code",
      "metadata": {
        "trusted": true,
        "id": "EqvTNI1dRyqQ"
      },
      "source": [
        "y_train = np_utils.to_categorical(y_train,10)"
      ],
      "execution_count": 12,
      "outputs": []
    },
    {
      "cell_type": "code",
      "metadata": {
        "trusted": true,
        "id": "gp7qgAdPRyqS"
      },
      "source": [
        "y_test = np_utils.to_categorical(y_test,10)"
      ],
      "execution_count": 13,
      "outputs": []
    },
    {
      "cell_type": "markdown",
      "metadata": {
        "id": "yneYPs8ZRyqV"
      },
      "source": [
        "我們來看看剛剛是 1 的 9487 號數據的答案。"
      ]
    },
    {
      "cell_type": "code",
      "metadata": {
        "trusted": true,
        "id": "40ZS7JDqRyqW",
        "outputId": "c58811f5-1b0f-4a85-b13b-200ae8ba2bea",
        "colab": {
          "base_uri": "https://localhost:8080/"
        }
      },
      "source": [
        "y_train[9487]"
      ],
      "execution_count": 14,
      "outputs": [
        {
          "output_type": "execute_result",
          "data": {
            "text/plain": [
              "array([0., 1., 0., 0., 0., 0., 0., 0., 0., 0.], dtype=float32)"
            ]
          },
          "metadata": {},
          "execution_count": 14
        }
      ]
    },
    {
      "cell_type": "markdown",
      "metadata": {
        "id": "Rm-VBVUvRyqY"
      },
      "source": [
        "和我們想的一樣! 至此我們可以打造我們的神經網路了。"
      ]
    },
    {
      "cell_type": "markdown",
      "metadata": {
        "id": "du23jwPGRyqZ"
      },
      "source": [
        "### 3.打造第一個神經網路\n",
        "\n"
      ]
    },
    {
      "cell_type": "markdown",
      "metadata": {
        "id": "4OmkJhWGU83s"
      },
      "source": [
        "我們決定了我們的函數是\n",
        "\n",
        "$$\\hat{f} \\colon \\mathbb{R}^{784} \\to \\mathbb{R}^{10}$$\n",
        "\n",
        "這個樣子。而我們又說第一次要用標準神網路試試, 所以我們只需要再決定要幾個隱藏層、每層要幾個神經元, 用哪個激發函數就可以了。\n",
        "\n"
      ]
    },
    {
      "cell_type": "markdown",
      "metadata": {
        "id": "Pz9m-XVbU-nc"
      },
      "source": [
        "#### 3.1 決定神經網路架構、讀入相關套件\n",
        "\n"
      ]
    },
    {
      "cell_type": "markdown",
      "metadata": {
        "id": "DoZ_OUmcVAJr"
      },
      "source": [
        "假如我們要這麼做:\n",
        "\n",
        "* 使用 <span style=\"color:red;\">2</span> 個 hidden layers\n",
        "* 每個 hidden layer 用 <span style=\"color:red;\">500</span> 個神經元\n",
        "* Activation Function 唯一指名 <span style=\"color:red;\">sigmoid</span>\n",
        "\n",
        "於是從 Keras 把相關套件讀進來。"
      ]
    },
    {
      "cell_type": "code",
      "metadata": {
        "trusted": true,
        "id": "2HDt5gJ9Ryqa"
      },
      "source": [
        "from keras.models import Sequential\n",
        "from keras.layers import Dense, Activation\n",
        "from keras.optimizers import SGD"
      ],
      "execution_count": 15,
      "outputs": []
    },
    {
      "cell_type": "markdown",
      "metadata": {
        "id": "Do74rX3jRyqc"
      },
      "source": [
        "#### 3.2 建構我們的神經網路"
      ]
    },
    {
      "cell_type": "markdown",
      "metadata": {
        "id": "ICr-6y6dZpA5"
      },
      "source": [
        "和以前做迴歸或機器學習一樣, 我們就打開個「函數學習機」。標準一層一層傳遞的神經網路叫 `Sequential`, 於是我們打開一個空的神經網路。"
      ]
    },
    {
      "cell_type": "code",
      "metadata": {
        "trusted": true,
        "id": "pd_n8yDvRyqe"
      },
      "source": [
        "model = Sequential()"
      ],
      "execution_count": 16,
      "outputs": []
    },
    {
      "cell_type": "markdown",
      "metadata": {
        "id": "j1TLcfFCRyqi"
      },
      "source": [
        "我們每次用 `add` 去加一層, 從第一個隱藏層開始。而第一個隱藏層因為 Keras 當然猜不到輸入有幾個 features, 所以我們要告訴它。"
      ]
    },
    {
      "cell_type": "code",
      "metadata": {
        "trusted": true,
        "id": "FtopNM8QRyqj"
      },
      "source": [
        "model.add(Dense(500, input_dim=784))\n",
        "model.add(Activation('sigmoid'))"
      ],
      "execution_count": 17,
      "outputs": []
    },
    {
      "cell_type": "markdown",
      "metadata": {
        "id": "8ebsv7fSRyqm"
      },
      "source": [
        "第二層 hidden layer 因為前面輸出是 500, 現在輸入是 500, 就不用再說了! 這裡的 500 只告訴 Keras, 我們第二層還是用 500!"
      ]
    },
    {
      "cell_type": "code",
      "metadata": {
        "trusted": true,
        "id": "wOlfzPJaRyqm"
      },
      "source": [
        "model.add(Dense(500))\n",
        "model.add(Activation('sigmoid'))"
      ],
      "execution_count": 18,
      "outputs": []
    },
    {
      "cell_type": "markdown",
      "metadata": {
        "id": "qIa5eTdLRyqp"
      },
      "source": [
        "輸出有 10 個數字, 所以輸出層的神經元是 10 個! 而如果我們的網路輸出是 \n",
        "\n",
        "$$(y_1, y_2, \\ldots, y_{10})$$\n",
        "\n",
        "我們還希望\n",
        "\n",
        "$$\\sum_{i=1}^{10} y_i = 1$$\n",
        "\n",
        "這可能嗎, 結果是很容易, 就用 `softmax` 當激發函數就可以!!"
      ]
    },
    {
      "cell_type": "code",
      "metadata": {
        "trusted": true,
        "id": "54-S3zJnRyqp"
      },
      "source": [
        "model.add(Dense(10))\n",
        "model.add(Activation('softmax'))"
      ],
      "execution_count": 19,
      "outputs": []
    },
    {
      "cell_type": "markdown",
      "metadata": {
        "id": "WuyNDGESRyqs"
      },
      "source": [
        "至此我們的第一個神經網路就建好了!"
      ]
    },
    {
      "cell_type": "markdown",
      "metadata": {
        "id": "4K8wX4s-Ryqw"
      },
      "source": [
        "#### 3.3 組裝"
      ]
    },
    {
      "cell_type": "markdown",
      "metadata": {
        "id": "LKjVUqwOZuto"
      },
      "source": [
        "繼續將 `compile`建立才正式把我們的神經網路建好。你可以發現我們還需要做幾件事:\n",
        "\n",
        "* 決定使用的 loss function, 一般是 `mse`\n",
        "* 決定 optimizer, 我們用標準的 SGD\n",
        "* 設 learning rate\n",
        "\n",
        "為了一邊訓練一邊看到結果, 我們加設\n",
        "\n",
        "    metrics=['accuracy']\n",
        "    \n",
        "本行基本上和我們的神經網路功能沒有什麼關係。"
      ]
    },
    {
      "cell_type": "code",
      "metadata": {
        "trusted": true,
        "id": "gln7cNBhRyqx",
        "outputId": "18d73daf-2412-491d-bf2b-b0bc0a71df4a",
        "colab": {
          "base_uri": "https://localhost:8080/"
        }
      },
      "source": [
        "model.compile(loss='mse', optimizer=SGD(lr=0.1), metrics=['accuracy'])"
      ],
      "execution_count": 20,
      "outputs": [
        {
          "output_type": "stream",
          "name": "stderr",
          "text": [
            "/usr/local/lib/python3.9/dist-packages/keras/optimizers/optimizer_v2/gradient_descent.py:114: UserWarning: The `lr` argument is deprecated, use `learning_rate` instead.\n",
            "  super().__init__(name, **kwargs)\n"
          ]
        }
      ]
    },
    {
      "cell_type": "markdown",
      "metadata": {
        "id": "RyrUUOjeRyrC"
      },
      "source": [
        "### 4. 檢視我們的神經網路"
      ]
    },
    {
      "cell_type": "markdown",
      "metadata": {
        "id": "N1ZFeHVtRyrD"
      },
      "source": [
        "我們可以檢視我們神經網路的架構, 可以確認一下是不是和我們想像的一樣。"
      ]
    },
    {
      "cell_type": "markdown",
      "metadata": {
        "id": "GQxw99JnRyrD"
      },
      "source": [
        "#### 4.1 看 model 的 summary"
      ]
    },
    {
      "cell_type": "code",
      "metadata": {
        "trusted": true,
        "id": "RsW6gALFRyrE",
        "outputId": "330474bd-39f8-4fe1-eee6-905ace5ef048",
        "colab": {
          "base_uri": "https://localhost:8080/"
        }
      },
      "source": [
        "model.summary()"
      ],
      "execution_count": 21,
      "outputs": [
        {
          "output_type": "stream",
          "name": "stdout",
          "text": [
            "Model: \"sequential\"\n",
            "_________________________________________________________________\n",
            " Layer (type)                Output Shape              Param #   \n",
            "=================================================================\n",
            " dense (Dense)               (None, 500)               392500    \n",
            "                                                                 \n",
            " activation (Activation)     (None, 500)               0         \n",
            "                                                                 \n",
            " dense_1 (Dense)             (None, 500)               250500    \n",
            "                                                                 \n",
            " activation_1 (Activation)   (None, 500)               0         \n",
            "                                                                 \n",
            " dense_2 (Dense)             (None, 10)                5010      \n",
            "                                                                 \n",
            " activation_2 (Activation)   (None, 10)                0         \n",
            "                                                                 \n",
            "=================================================================\n",
            "Total params: 648,010\n",
            "Trainable params: 648,010\n",
            "Non-trainable params: 0\n",
            "_________________________________________________________________\n"
          ]
        }
      ]
    },
    {
      "cell_type": "markdown",
      "metadata": {
        "id": "b9ABnn4URyrF"
      },
      "source": [
        "#### 4.2 畫出結構圖\n",
        "\n",
        "要使用這個功能要安裝 `pydot` 及 `graphviz` 兩個套件,Colab已經有包含。"
      ]
    },
    {
      "cell_type": "code",
      "metadata": {
        "trusted": true,
        "id": "Fpw3GZoyRyrG",
        "outputId": "61bed2f4-d997-43a6-a658-df2f420d008d",
        "colab": {
          "base_uri": "https://localhost:8080/",
          "height": 754
        }
      },
      "source": [
        "from keras.utils import plot_model\n",
        "plot_model(model, show_shapes=True, to_file='model01.png')"
      ],
      "execution_count": 22,
      "outputs": [
        {
          "output_type": "execute_result",
          "data": {
            "image/png": "[encoded data removed]",
            "text/plain": [
              "<IPython.core.display.Image object>"
            ]
          },
          "metadata": {},
          "execution_count": 22
        }
      ]
    },
    {
      "cell_type": "markdown",
      "metadata": {
        "id": "1uEEDSoIRyrJ"
      },
      "source": [
        "### 5. 訓練你的第一個神經網路\n"
      ]
    },
    {
      "cell_type": "markdown",
      "metadata": {
        "id": "5SROpGSdcIGb"
      },
      "source": [
        "恭喜! 我們完成了第一個神經網路。這裡我們還有兩件事要決定:\n",
        "\n",
        "* 一次要訓練幾筆資料 (`batch_size`)?\n",
        "* 資料一共要訓練幾次 (`epochs`)?\n",
        "\n",
        "於是最精彩的就來了。你要有等待的心理準備..."
      ]
    },
    {
      "cell_type": "code",
      "metadata": {
        "scrolled": true,
        "trusted": true,
        "id": "pTBZFcoJRyrL",
        "outputId": "8a7808d5-670a-47a6-f827-493c10eb3cbb",
        "colab": {
          "base_uri": "https://localhost:8080/"
        }
      },
      "source": [
        "model.fit(x_train, y_train, batch_size=100, epochs=20)"
      ],
      "execution_count": 23,
      "outputs": [
        {
          "output_type": "stream",
          "name": "stdout",
          "text": [
            "Epoch 1/20\n",
            "600/600 [==============================] - 8s 6ms/step - loss: 0.0825 - accuracy: 0.3675\n",
            "Epoch 2/20\n",
            "600/600 [==============================] - 3s 4ms/step - loss: 0.0635 - accuracy: 0.6386\n",
            "Epoch 3/20\n",
            "600/600 [==============================] - 3s 5ms/step - loss: 0.0454 - accuracy: 0.7828\n",
            "Epoch 4/20\n",
            "600/600 [==============================] - 3s 4ms/step - loss: 0.0327 - accuracy: 0.8487\n",
            "Epoch 5/20\n",
            "600/600 [==============================] - 3s 6ms/step - loss: 0.0252 - accuracy: 0.8760\n",
            "Epoch 6/20\n",
            "600/600 [==============================] - 2s 4ms/step - loss: 0.0211 - accuracy: 0.8899\n",
            "Epoch 7/20\n",
            "600/600 [==============================] - 1s 2ms/step - loss: 0.0185 - accuracy: 0.8986\n",
            "Epoch 8/20\n",
            "600/600 [==============================] - 1s 2ms/step - loss: 0.0167 - accuracy: 0.9057\n",
            "Epoch 9/20\n",
            "600/600 [==============================] - 1s 2ms/step - loss: 0.0154 - accuracy: 0.9118\n",
            "Epoch 10/20\n",
            "600/600 [==============================] - 1s 2ms/step - loss: 0.0145 - accuracy: 0.9162\n",
            "Epoch 11/20\n",
            "600/600 [==============================] - 1s 2ms/step - loss: 0.0136 - accuracy: 0.9207\n",
            "Epoch 12/20\n",
            "600/600 [==============================] - 2s 3ms/step - loss: 0.0129 - accuracy: 0.9241\n",
            "Epoch 13/20\n",
            "600/600 [==============================] - 2s 3ms/step - loss: 0.0123 - accuracy: 0.9265\n",
            "Epoch 14/20\n",
            "600/600 [==============================] - 1s 2ms/step - loss: 0.0118 - accuracy: 0.9302\n",
            "Epoch 15/20\n",
            "600/600 [==============================] - 1s 2ms/step - loss: 0.0113 - accuracy: 0.9333\n",
            "Epoch 16/20\n",
            "600/600 [==============================] - 1s 2ms/step - loss: 0.0109 - accuracy: 0.9354\n",
            "Epoch 17/20\n",
            "600/600 [==============================] - 1s 2ms/step - loss: 0.0105 - accuracy: 0.9379\n",
            "Epoch 18/20\n",
            "600/600 [==============================] - 1s 2ms/step - loss: 0.0102 - accuracy: 0.9398\n",
            "Epoch 19/20\n",
            "600/600 [==============================] - 1s 2ms/step - loss: 0.0098 - accuracy: 0.9418\n",
            "Epoch 20/20\n",
            "600/600 [==============================] - 2s 3ms/step - loss: 0.0095 - accuracy: 0.9435\n"
          ]
        },
        {
          "output_type": "execute_result",
          "data": {
            "text/plain": [
              "<keras.callbacks.History at 0x7f02ec413c70>"
            ]
          },
          "metadata": {},
          "execution_count": 23
        }
      ]
    },
    {
      "cell_type": "markdown",
      "metadata": {
        "id": "5h-awa8PRyrO"
      },
      "source": [
        "### 6. 試用我們的結果\n"
      ]
    },
    {
      "cell_type": "code",
      "metadata": {
        "trusted": true,
        "id": "H9BusEkrRyrO"
      },
      "source": [
        "from ipywidgets import interact_manual"
      ],
      "execution_count": 24,
      "outputs": []
    },
    {
      "cell_type": "markdown",
      "metadata": {
        "id": "fDUEh-KPRyrQ"
      },
      "source": [
        "我們 \"predict\" 放的是我們神經網路的學習結果。這裡用 `predict_classes` 會讓我們 Keras 選 10 個輸出機率最大的那類。"
      ]
    },
    {
      "cell_type": "code",
      "metadata": {
        "trusted": true,
        "id": "hbq7-lwURyrR",
        "colab": {
          "base_uri": "https://localhost:8080/"
        },
        "outputId": "e6f7209a-6406-4790-b4a7-ebeb428b1398"
      },
      "source": [
        "#predict = model.predict_classes(x_test)\n",
        "predict = np.argmax(model.predict(x_test), axis=-1)"
      ],
      "execution_count": 26,
      "outputs": [
        {
          "output_type": "stream",
          "name": "stdout",
          "text": [
            "313/313 [==============================] - 1s 1ms/step\n"
          ]
        }
      ]
    },
    {
      "cell_type": "markdown",
      "metadata": {
        "id": "6D8CctPnRyrS"
      },
      "source": [
        "不要忘了我們的 `x_test` 每筆資料已經換成 784 維的向量, 我們要整型回 28x28 的矩陣才能當成圖形顯示出來!"
      ]
    },
    {
      "cell_type": "code",
      "metadata": {
        "trusted": true,
        "id": "eH8FQzCBRyrT"
      },
      "source": [
        "def test(測試編號):\n",
        "  plt.imshow(x_test[測試編號].reshape(28,28), cmap=\"Greys\")\n",
        "  print(\"神經網路判斷為:\", predict[測試編號])"
      ],
      "execution_count": 27,
      "outputs": []
    },
    {
      "cell_type": "code",
      "metadata": {
        "trusted": true,
        "id": "TrARaEyBRyrU",
        "outputId": "a3de0155-eaec-4e28-f0a9-43072b40f3e6",
        "colab": {
          "base_uri": "https://localhost:8080/",
          "height": 81,
          "referenced_widgets": [
            "031aebed23f84176b9b802979f96e462",
            "fe1f98209e96448aa620c7ba65fb06d5",
            "0e3077297a174486bee7e6ca10bf0a0d",
            "5e8016a2c22d49a096621ec0dcab6297",
            "3f04afa1bc824b72930dbf5d1050b12b",
            "316fdf2eccdb4d5db89ea503429f86a1",
            "e9dcde62c86747989a7cb9422a2fce93",
            "e441b36456fb408f98a3c2c5be7bea97",
            "6129679520cc496fa890300daf992192",
            "def6db4152f5415d881b4130e877660b"
          ]
        }
      },
      "source": [
        "interact_manual(test, 測試編號 = (0, 9999));"
      ],
      "execution_count": 28,
      "outputs": [
        {
          "output_type": "display_data",
          "data": {
            "text/plain": [
              "interactive(children=(IntSlider(value=4999, description='測試編號', max=9999), Button(description='Run Interact', …"
            ],
            "application/vnd.jupyter.widget-view+json": {
              "version_major": 2,
              "version_minor": 0,
              "model_id": "031aebed23f84176b9b802979f96e462"
            }
          },
          "metadata": {}
        }
      ]
    },
    {
      "cell_type": "markdown",
      "metadata": {
        "id": "aRG42sH-RyrX"
      },
      "source": [
        "到底測試資料總的狀況如何呢? 我們可以給我們神經網路「考一下試」。"
      ]
    },
    {
      "cell_type": "code",
      "metadata": {
        "trusted": true,
        "id": "pSTacZeIRyrY",
        "outputId": "600a00bc-97fb-4f6b-bccc-536e293ade24",
        "colab": {
          "base_uri": "https://localhost:8080/"
        }
      },
      "source": [
        "score = model.evaluate(x_test, y_test)"
      ],
      "execution_count": 29,
      "outputs": [
        {
          "output_type": "stream",
          "name": "stdout",
          "text": [
            "313/313 [==============================] - 1s 2ms/step - loss: 0.0108 - accuracy: 0.9317\n"
          ]
        }
      ]
    },
    {
      "cell_type": "code",
      "metadata": {
        "trusted": true,
        "id": "kG6Pqa_GRyrb",
        "outputId": "456693bc-561d-43d6-b80f-f09a88a24fdb",
        "colab": {
          "base_uri": "https://localhost:8080/"
        }
      },
      "source": [
        "print('測試資料的 loss:', score[0])\n",
        "print('測試資料正確率:', score[1])"
      ],
      "execution_count": 30,
      "outputs": [
        {
          "output_type": "stream",
          "name": "stdout",
          "text": [
            "測試資料的 loss: 0.010770943947136402\n",
            "測試資料正確率: 0.9316999912261963\n"
          ]
        }
      ]
    },
    {
      "cell_type": "markdown",
      "metadata": {
        "id": "JMSiFraERyrf"
      },
      "source": [
        "### 7. 訓練好的神經網路存起來!\n",
        "\n",
        "如果對訓練成果滿意, 我們當然不想每次都再訓練一次! 我們可以把神經網路的架構和訓練好的參數都存起來, 以供日後使用!"
      ]
    },
    {
      "cell_type": "markdown",
      "metadata": {
        "id": "LkAQ4ycoRyrf"
      },
      "source": [
        "之前還沒裝 pyh5 要在終端機 (Anaconda Prompt) 下安裝:\n",
        "    \n",
        "    conda install h5py"
      ]
    },
    {
      "cell_type": "code",
      "metadata": {
        "trusted": true,
        "id": "73ZZvfEERyrg"
      },
      "source": [
        "model_json = model.to_json()\n",
        "# open('./data/handwriting_model_architecture.json', 'w').write(model_json)\n",
        "model.save_weights('handwriting_model_weights.h5')"
      ],
      "execution_count": 31,
      "outputs": []
    },
    {
      "cell_type": "markdown",
      "metadata": {
        "id": "7_F6XTCJcr06"
      },
      "source": [
        "## 使用Tensorflow 2.X版本(服裝圖像分析)\n"
      ]
    },
    {
      "cell_type": "markdown",
      "metadata": {
        "id": "9mdIvIv6gmz5"
      },
      "source": [
        "- TensorFlow 2.0 has been [released](https://tensorflow.org)!\n",
        "\n",
        "- Colab預設為TensorFlow 1.x 版，但建議逐步改為 TensorFlow 2.x 版\n"
      ]
    },
    {
      "cell_type": "markdown",
      "metadata": {
        "id": "NA0gIR04g-de"
      },
      "source": [
        "###  0. 切換為2.X版(需要重啟)"
      ]
    },
    {
      "cell_type": "markdown",
      "metadata": {
        "id": "51u2xAJeizpb"
      },
      "source": [
        "### 1. 確認版本\n",
        "\n",
        "- 切換為2.X版(需要重啟)"
      ]
    },
    {
      "cell_type": "code",
      "metadata": {
        "id": "F9v0m0PKhCyr",
        "colab": {
          "base_uri": "https://localhost:8080/"
        },
        "outputId": "5877006b-b65d-4236-dd26-ea55f1e3f703"
      },
      "source": [
        "%tensorflow_version 2.x"
      ],
      "execution_count": 32,
      "outputs": [
        {
          "output_type": "stream",
          "name": "stdout",
          "text": [
            "Colab only includes TensorFlow 2.x; %tensorflow_version has no effect.\n"
          ]
        }
      ]
    },
    {
      "cell_type": "code",
      "metadata": {
        "id": "h7My149Ti3o-",
        "outputId": "c6e47e17-c2be-4596-b687-be8a17b147e8",
        "colab": {
          "base_uri": "https://localhost:8080/"
        }
      },
      "source": [
        "import tensorflow as tf\n",
        "\n",
        "print(tf.__version__)"
      ],
      "execution_count": 33,
      "outputs": [
        {
          "output_type": "stream",
          "name": "stdout",
          "text": [
            "2.11.0\n"
          ]
        }
      ]
    },
    {
      "cell_type": "code",
      "metadata": {
        "id": "rEKwAEHFlL_g"
      },
      "source": [
        "%matplotlib inline\n",
        "import numpy as np\n",
        "import matplotlib.pyplot as plt"
      ],
      "execution_count": 34,
      "outputs": []
    },
    {
      "cell_type": "markdown",
      "metadata": {
        "id": "xZakPSSpjCGm"
      },
      "source": [
        "### 2.載入數據"
      ]
    },
    {
      "cell_type": "markdown",
      "metadata": {
        "id": "Xqoppkr-6ll6"
      },
      "source": [
        "#### 數據說明"
      ]
    },
    {
      "cell_type": "markdown",
      "metadata": {
        "id": "vJoe3BUKjjps"
      },
      "source": [
        "- 本次使用 [Fashion MNIST](https://github.com/zalandoresearch/fashion-mnist)資料集，一樣包含70,000個衣服圖像、分為10種類別，同樣為28*28像素、灰階。\n",
        "![](https://tensorflow.org/images/fashion-mnist-sprite.png)\n",
        " \n",
        " - 你可以當作這就是衣服版的手寫辨識資料及，但比手寫版MNIST更具挑戰。\n",
        " - 我們接著同樣用60,000張圖像來訓練網絡，並使用10,000張圖像來評估網絡學習對圖像進行分類的準確程度。\n"
      ]
    },
    {
      "cell_type": "markdown",
      "metadata": {
        "id": "MLEoDoKfl3kj"
      },
      "source": [
        "`train_labels`與`test_labels`分為10類:\n",
        "\n",
        "|Label| Class|中文|\n",
        "|-|-|-\n",
        "0|T-shirt/top|T恤/上衣\n",
        "1|Trouser|褲\n",
        "2|Pullover|套衫\n",
        "3|Dress|連衣裙\n",
        "4|Coat|外套\n",
        "5|Sandal|涼鞋\n",
        "6|Shirt|襯衫\n",
        "7|Sneaker|運動鞋\n",
        "8|Bag|包\n",
        "9|Ankle boot|踝靴"
      ]
    },
    {
      "cell_type": "code",
      "metadata": {
        "id": "hJY-74YulUdV",
        "outputId": "9a1f3fbd-5e70-406c-b7ff-167e97f541f2",
        "colab": {
          "base_uri": "https://localhost:8080/"
        }
      },
      "source": [
        "from tensorflow import keras\n",
        "\n",
        "fashion_mnist = keras.datasets.fashion_mnist\n",
        "\n",
        "(train_images, train_labels), (test_images, test_labels) = fashion_mnist.load_data()"
      ],
      "execution_count": 35,
      "outputs": [
        {
          "output_type": "stream",
          "name": "stdout",
          "text": [
            "Downloading data from https://storage.googleapis.com/tensorflow/tf-keras-datasets/train-labels-idx1-ubyte.gz\n",
            "29515/29515 [==============================] - 0s 0us/step\n",
            "Downloading data from https://storage.googleapis.com/tensorflow/tf-keras-datasets/train-images-idx3-ubyte.gz\n",
            "26421880/26421880 [==============================] - 1s 0us/step\n",
            "Downloading data from https://storage.googleapis.com/tensorflow/tf-keras-datasets/t10k-labels-idx1-ubyte.gz\n",
            "5148/5148 [==============================] - 0s 0us/step\n",
            "Downloading data from https://storage.googleapis.com/tensorflow/tf-keras-datasets/t10k-images-idx3-ubyte.gz\n",
            "4422102/4422102 [==============================] - 0s 0us/step\n"
          ]
        }
      ]
    },
    {
      "cell_type": "code",
      "metadata": {
        "id": "TSg4fxCzlqs0"
      },
      "source": [
        "class_names = ['T-shirt/top', 'Trouser', 'Pullover', 'Dress', 'Coat','Sandal', 'Shirt', 'Sneaker', 'Bag', 'Ankle boot']"
      ],
      "execution_count": 36,
      "outputs": []
    },
    {
      "cell_type": "markdown",
      "metadata": {
        "id": "iKmkDAgW7GCb"
      },
      "source": [
        "### 3. 探索資料EDA"
      ]
    },
    {
      "cell_type": "code",
      "metadata": {
        "id": "f3exQ3Um7PpF",
        "outputId": "7bb2411a-7940-4668-893d-abd9062f3df1",
        "colab": {
          "base_uri": "https://localhost:8080/"
        }
      },
      "source": [
        "train_images.shape"
      ],
      "execution_count": 37,
      "outputs": [
        {
          "output_type": "execute_result",
          "data": {
            "text/plain": [
              "(60000, 28, 28)"
            ]
          },
          "metadata": {},
          "execution_count": 37
        }
      ]
    },
    {
      "cell_type": "code",
      "metadata": {
        "id": "lYWKEfYr7Voa",
        "outputId": "efd52141-de6b-4a8e-8448-524b797d951d",
        "colab": {
          "base_uri": "https://localhost:8080/"
        }
      },
      "source": [
        "print(len(train_images))\n",
        "print(len(train_labels))\n",
        "print(len(test_images))\n",
        "print(len(test_labels))"
      ],
      "execution_count": 38,
      "outputs": [
        {
          "output_type": "stream",
          "name": "stdout",
          "text": [
            "60000\n",
            "60000\n",
            "10000\n",
            "10000\n"
          ]
        }
      ]
    },
    {
      "cell_type": "markdown",
      "metadata": {
        "id": "mKNXOXt87x_-"
      },
      "source": [
        "每個標籤都是0到9之間的整數"
      ]
    },
    {
      "cell_type": "code",
      "metadata": {
        "id": "dY8dj3X67tVJ",
        "outputId": "c2fdad32-7e83-406f-d9fa-bb97c5fa8f09",
        "colab": {
          "base_uri": "https://localhost:8080/"
        }
      },
      "source": [
        "train_labels"
      ],
      "execution_count": 39,
      "outputs": [
        {
          "output_type": "execute_result",
          "data": {
            "text/plain": [
              "array([9, 0, 0, ..., 3, 0, 5], dtype=uint8)"
            ]
          },
          "metadata": {},
          "execution_count": 39
        }
      ]
    },
    {
      "cell_type": "markdown",
      "metadata": {
        "id": "4Tgc3r7C72ik"
      },
      "source": [
        "每個圖像都表示為28 x 28像素"
      ]
    },
    {
      "cell_type": "code",
      "metadata": {
        "id": "1Cd_a1Uh73Og",
        "outputId": "d33e430e-45f0-48e0-d94a-3805038e1bde",
        "colab": {
          "base_uri": "https://localhost:8080/"
        }
      },
      "source": [
        "test_images.shape"
      ],
      "execution_count": 40,
      "outputs": [
        {
          "output_type": "execute_result",
          "data": {
            "text/plain": [
              "(10000, 28, 28)"
            ]
          },
          "metadata": {},
          "execution_count": 40
        }
      ]
    },
    {
      "cell_type": "code",
      "metadata": {
        "id": "pISp2FR-8Jm5",
        "outputId": "10e874c8-3668-4042-8ae1-e55ba1489809",
        "colab": {
          "base_uri": "https://localhost:8080/",
          "height": 283
        }
      },
      "source": [
        "plt.imshow(train_images[9487], cmap='Greys')"
      ],
      "execution_count": 41,
      "outputs": [
        {
          "output_type": "execute_result",
          "data": {
            "text/plain": [
              "<matplotlib.image.AxesImage at 0x7f037152baf0>"
            ]
          },
          "metadata": {},
          "execution_count": 41
        },
        {
          "output_type": "display_data",
          "data": {
            "text/plain": [
              "<Figure size 432x288 with 1 Axes>"
            ],
            "image/png": "[encoded data removed]"
          },
          "metadata": {
            "needs_background": "light"
          }
        }
      ]
    },
    {
      "cell_type": "code",
      "metadata": {
        "id": "RozaEGE084Je",
        "outputId": "95ea0077-3864-40f9-fc6f-2e2d707ffc7a",
        "colab": {
          "base_uri": "https://localhost:8080/"
        }
      },
      "source": [
        "train_labels[9487]"
      ],
      "execution_count": 42,
      "outputs": [
        {
          "output_type": "execute_result",
          "data": {
            "text/plain": [
              "0"
            ]
          },
          "metadata": {},
          "execution_count": 42
        }
      ]
    },
    {
      "cell_type": "markdown",
      "metadata": {
        "id": "TIcak-yc9D8f"
      },
      "source": [
        "### 4. 預處理 Preprocess the data"
      ]
    },
    {
      "cell_type": "markdown",
      "metadata": {
        "id": "8Mx1wxdf9S2W"
      },
      "source": [
        "在訓練網絡之前，必須對數據進行預處理。如果檢查訓練集中的第一張圖像，您將看到像素值落在0到255的範圍內："
      ]
    },
    {
      "cell_type": "code",
      "metadata": {
        "id": "SYRf95dr9VDy",
        "outputId": "2e3de172-4caf-43a8-80a4-e8fdcda8e927",
        "colab": {
          "base_uri": "https://localhost:8080/",
          "height": 265
        }
      },
      "source": [
        "plt.figure()\n",
        "plt.imshow(train_images[0])\n",
        "plt.colorbar()\n",
        "plt.grid(False)\n",
        "plt.show()"
      ],
      "execution_count": 43,
      "outputs": [
        {
          "output_type": "display_data",
          "data": {
            "text/plain": [
              "<Figure size 432x288 with 2 Axes>"
            ],
            "image/png": "[encoded data removed]"
          },
          "metadata": {
            "needs_background": "light"
          }
        }
      ]
    },
    {
      "cell_type": "markdown",
      "metadata": {
        "id": "YdQwJnIE9nCb"
      },
      "source": [
        "在將它們輸入神經網絡模型之前，將這些值縮放到0到1的範圍。為此，將值除以255。以相同的方式預處理訓練集和測試集非常重要"
      ]
    },
    {
      "cell_type": "code",
      "metadata": {
        "id": "KDOrtE2Z9rju"
      },
      "source": [
        "train_images = train_images / 255.0\n",
        "\n",
        "test_images = test_images / 255.0"
      ],
      "execution_count": 44,
      "outputs": []
    },
    {
      "cell_type": "markdown",
      "metadata": {
        "id": "P6HRAit99y3U"
      },
      "source": [
        "為了驗證數據的格式正確，並準備好構建和訓練網絡，讓我們顯示訓練集中的前25張圖像，並在每個圖像下方顯示類別名稱。"
      ]
    },
    {
      "cell_type": "code",
      "metadata": {
        "id": "t_PFxBmJ9zFA",
        "outputId": "414af347-8ad0-45c8-b553-7304147955ea",
        "colab": {
          "base_uri": "https://localhost:8080/",
          "height": 589
        }
      },
      "source": [
        "plt.figure(figsize=(10,10))\n",
        "for i in range(25):\n",
        "    plt.subplot(5,5,i+1)\n",
        "    plt.xticks([])\n",
        "    plt.yticks([])\n",
        "    plt.grid(False)\n",
        "    plt.imshow(train_images[i], cmap=plt.cm.binary)\n",
        "    plt.xlabel(train_labels[i])\n",
        "plt.show()"
      ],
      "execution_count": 45,
      "outputs": [
        {
          "output_type": "display_data",
          "data": {
            "text/plain": [
              "<Figure size 720x720 with 25 Axes>"
            ],
            "image/png": "[encoded data removed]"
          },
          "metadata": {}
        }
      ]
    },
    {
      "cell_type": "markdown",
      "metadata": {
        "id": "GpI6qQTO-BVk"
      },
      "source": [
        "### 5. 建立模型"
      ]
    },
    {
      "cell_type": "markdown",
      "metadata": {
        "id": "WBtdTeSv-_RY"
      },
      "source": [
        "#### 設定模型網路層、激勵函數"
      ]
    },
    {
      "cell_type": "code",
      "metadata": {
        "id": "_4aAmyg7-HFQ"
      },
      "source": [
        "model = keras.Sequential([\n",
        "                          keras.layers.Flatten(input_shape=(28, 28)),\n",
        "                          keras.layers.Dense(500, activation='sigmoid'),\n",
        "                          keras.layers.Dense(500, activation='relu'),\n",
        "                          keras.layers.Dense(10, activation='softmax')\n",
        "                          ])"
      ],
      "execution_count": 46,
      "outputs": []
    },
    {
      "cell_type": "markdown",
      "metadata": {
        "id": "3BsrkkVH_Fke"
      },
      "source": [
        "#### 編譯模型"
      ]
    },
    {
      "cell_type": "code",
      "metadata": {
        "id": "VK2iAru0_LIY"
      },
      "source": [
        "from keras.optimizers import SGD\n",
        "\n",
        "model.compile(\n",
        "    optimizer='adam',\n",
        "    loss='sparse_categorical_crossentropy',\n",
        "    metrics=['accuracy'])"
      ],
      "execution_count": 47,
      "outputs": []
    },
    {
      "cell_type": "markdown",
      "metadata": {
        "id": "pwPZBn_vAHgx"
      },
      "source": [
        "#### 檢視模型"
      ]
    },
    {
      "cell_type": "code",
      "metadata": {
        "id": "FOY39dCdAJV2",
        "outputId": "f3e89136-1ba2-4da8-d485-668a7926b9b6",
        "colab": {
          "base_uri": "https://localhost:8080/"
        }
      },
      "source": [
        "model.summary()"
      ],
      "execution_count": 48,
      "outputs": [
        {
          "output_type": "stream",
          "name": "stdout",
          "text": [
            "Model: \"sequential_1\"\n",
            "_________________________________________________________________\n",
            " Layer (type)                Output Shape              Param #   \n",
            "=================================================================\n",
            " flatten (Flatten)           (None, 784)               0         \n",
            "                                                                 \n",
            " dense_3 (Dense)             (None, 500)               392500    \n",
            "                                                                 \n",
            " dense_4 (Dense)             (None, 500)               250500    \n",
            "                                                                 \n",
            " dense_5 (Dense)             (None, 10)                5010      \n",
            "                                                                 \n",
            "=================================================================\n",
            "Total params: 648,010\n",
            "Trainable params: 648,010\n",
            "Non-trainable params: 0\n",
            "_________________________________________________________________\n"
          ]
        }
      ]
    },
    {
      "cell_type": "code",
      "metadata": {
        "id": "VfRIdTJvAX-E",
        "outputId": "0d746888-41e6-4486-db89-e6a6c3127b45",
        "colab": {
          "base_uri": "https://localhost:8080/",
          "height": 533
        }
      },
      "source": [
        "tf.keras.utils.plot_model(model, show_shapes=True, to_file='model02.png')"
      ],
      "execution_count": 49,
      "outputs": [
        {
          "output_type": "execute_result",
          "data": {
            "image/png": "[encoded data removed]",
            "text/plain": [
              "<IPython.core.display.Image object>"
            ]
          },
          "metadata": {},
          "execution_count": 49
        }
      ]
    },
    {
      "cell_type": "markdown",
      "metadata": {
        "id": "_NMuK4W9_1BI"
      },
      "source": [
        "#### 訓練模型"
      ]
    },
    {
      "cell_type": "code",
      "metadata": {
        "id": "eUiuMlJu_8bB",
        "outputId": "33cc5379-42f0-4442-aedc-622acfe7a817",
        "colab": {
          "base_uri": "https://localhost:8080/"
        }
      },
      "source": [
        "model.fit(train_images, train_labels, epochs=10)"
      ],
      "execution_count": 50,
      "outputs": [
        {
          "output_type": "stream",
          "name": "stdout",
          "text": [
            "Epoch 1/10\n",
            "1875/1875 [==============================] - 9s 4ms/step - loss: 0.5047 - accuracy: 0.8158\n",
            "Epoch 2/10\n",
            "1875/1875 [==============================] - 5s 3ms/step - loss: 0.3697 - accuracy: 0.8644\n",
            "Epoch 3/10\n",
            "1875/1875 [==============================] - 6s 3ms/step - loss: 0.3280 - accuracy: 0.8785\n",
            "Epoch 4/10\n",
            "1875/1875 [==============================] - 5s 3ms/step - loss: 0.2989 - accuracy: 0.8881\n",
            "Epoch 5/10\n",
            "1875/1875 [==============================] - 6s 3ms/step - loss: 0.2768 - accuracy: 0.8953\n",
            "Epoch 6/10\n",
            "1875/1875 [==============================] - 5s 3ms/step - loss: 0.2593 - accuracy: 0.9025\n",
            "Epoch 7/10\n",
            "1875/1875 [==============================] - 5s 3ms/step - loss: 0.2426 - accuracy: 0.9079\n",
            "Epoch 8/10\n",
            "1875/1875 [==============================] - 6s 3ms/step - loss: 0.2300 - accuracy: 0.9129\n",
            "Epoch 9/10\n",
            "1875/1875 [==============================] - 5s 3ms/step - loss: 0.2176 - accuracy: 0.9173\n",
            "Epoch 10/10\n",
            "1875/1875 [==============================] - 6s 3ms/step - loss: 0.2062 - accuracy: 0.9213\n"
          ]
        },
        {
          "output_type": "execute_result",
          "data": {
            "text/plain": [
              "<keras.callbacks.History at 0x7f02e4108b80>"
            ]
          },
          "metadata": {},
          "execution_count": 50
        }
      ]
    },
    {
      "cell_type": "markdown",
      "metadata": {
        "id": "Qoy6Ls72A7nB"
      },
      "source": [
        "#### 評估準確性"
      ]
    },
    {
      "cell_type": "markdown",
      "metadata": {
        "id": "DZcO6000BC-A"
      },
      "source": [
        "接下來，比較模型在測試數據集上的表現：\n",
        "- 測試數據集的準確性略低於訓練數據集的準確性。訓練準確性和測試準確性之間的差距代表過度擬合。"
      ]
    },
    {
      "cell_type": "code",
      "metadata": {
        "id": "NOrk7uLWBNjk",
        "outputId": "68e27dbe-6976-470b-cf47-66751bb775d9",
        "colab": {
          "base_uri": "https://localhost:8080/"
        }
      },
      "source": [
        "test_loss, test_acc = model.evaluate(test_images,  test_labels, verbose=2)\n",
        "\n",
        "print('\\nTest accuracy:', test_acc)"
      ],
      "execution_count": 51,
      "outputs": [
        {
          "output_type": "stream",
          "name": "stdout",
          "text": [
            "313/313 - 1s - loss: 0.3193 - accuracy: 0.8903 - 695ms/epoch - 2ms/step\n",
            "\n",
            "Test accuracy: 0.8902999758720398\n"
          ]
        }
      ]
    },
    {
      "cell_type": "markdown",
      "metadata": {
        "id": "CAEg_lQpBdVQ"
      },
      "source": [
        "#### 做出預測"
      ]
    },
    {
      "cell_type": "code",
      "metadata": {
        "id": "UoNy9AYhBD28",
        "colab": {
          "base_uri": "https://localhost:8080/"
        },
        "outputId": "a59c7133-7dff-418b-9828-dc5e928eed1c"
      },
      "source": [
        "predictions = model.predict(test_images)"
      ],
      "execution_count": 52,
      "outputs": [
        {
          "output_type": "stream",
          "name": "stdout",
          "text": [
            "313/313 [==============================] - 1s 2ms/step\n"
          ]
        }
      ]
    },
    {
      "cell_type": "markdown",
      "metadata": {
        "id": "vrFB7uVxB2aY"
      },
      "source": [
        "- 最有信心的最高值即為預測結果"
      ]
    },
    {
      "cell_type": "code",
      "metadata": {
        "id": "LLGnNZ_9BjTn",
        "outputId": "e5b9b3d0-734a-48d0-ddb4-c75207ff9115",
        "colab": {
          "base_uri": "https://localhost:8080/"
        }
      },
      "source": [
        "predictions[9527]"
      ],
      "execution_count": 53,
      "outputs": [
        {
          "output_type": "execute_result",
          "data": {
            "text/plain": [
              "array([2.0103038e-03, 9.4994066e-09, 9.9508721e-01, 1.0807910e-05,\n",
              "       1.0097218e-03, 6.4462204e-09, 1.8817944e-03, 2.1830826e-09,\n",
              "       1.1273635e-07, 7.1483069e-10], dtype=float32)"
            ]
          },
          "metadata": {},
          "execution_count": 53
        }
      ]
    },
    {
      "cell_type": "code",
      "metadata": {
        "id": "TR17_P30BvlU",
        "outputId": "fd911f14-f314-4f86-a200-512efa1187a0",
        "colab": {
          "base_uri": "https://localhost:8080/"
        }
      },
      "source": [
        "np.argmax(predictions[9527])\n",
        "\n",
        "# 2，Pullover\t套衫"
      ],
      "execution_count": 54,
      "outputs": [
        {
          "output_type": "execute_result",
          "data": {
            "text/plain": [
              "2"
            ]
          },
          "metadata": {},
          "execution_count": 54
        }
      ]
    },
    {
      "cell_type": "code",
      "metadata": {
        "id": "2LYkSGSlCMXZ",
        "outputId": "04b7f9e8-f7f9-4ba5-d210-942f2d3f043d",
        "colab": {
          "base_uri": "https://localhost:8080/"
        }
      },
      "source": [
        "test_labels[9527]"
      ],
      "execution_count": 55,
      "outputs": [
        {
          "output_type": "execute_result",
          "data": {
            "text/plain": [
              "2"
            ]
          },
          "metadata": {},
          "execution_count": 55
        }
      ]
    },
    {
      "cell_type": "markdown",
      "metadata": {
        "id": "7zi6PJlxDAGA"
      },
      "source": [
        "- 以圖形方式查看10個類別預測"
      ]
    },
    {
      "cell_type": "code",
      "metadata": {
        "id": "hxPl9k33DJoI"
      },
      "source": [
        "def plot_image(i, predictions_array, true_label, img):\n",
        "  predictions_array, true_label, img = predictions_array, true_label[i], img[i]\n",
        "  plt.grid(False)\n",
        "  plt.xticks([])\n",
        "  plt.yticks([])\n",
        "\n",
        "  plt.imshow(img, cmap=plt.cm.binary)\n",
        "\n",
        "  predicted_label = np.argmax(predictions_array)\n",
        "  if predicted_label == true_label:\n",
        "    color = 'blue'\n",
        "  else:\n",
        "    color = 'red'\n",
        "\n",
        "  plt.xlabel(\"{} {:2.0f}% ({})\".format(predicted_label,\n",
        "                                100*np.max(predictions_array),\n",
        "                                true_label),\n",
        "                                color=color)\n",
        "\n",
        "def plot_value_array(i, predictions_array, true_label):\n",
        "  predictions_array, true_label = predictions_array, true_label[i]\n",
        "  plt.grid(False)\n",
        "  plt.xticks(range(10))\n",
        "  plt.yticks([])\n",
        "  thisplot = plt.bar(range(10), predictions_array, color=\"#777777\")\n",
        "  plt.ylim([0, 1])\n",
        "  predicted_label = np.argmax(predictions_array)\n",
        "\n",
        "  thisplot[predicted_label].set_color('red')\n",
        "  thisplot[true_label].set_color('blue')"
      ],
      "execution_count": 56,
      "outputs": []
    },
    {
      "cell_type": "markdown",
      "metadata": {
        "id": "HU0FBgPFDQGX"
      },
      "source": [
        "讓我們看一下第0張圖片，預測和預測數組。正確的預測標籤為藍色，錯誤的預測標籤為紅色。該數字給出了預測標籤的百分比（滿分為100）。"
      ]
    },
    {
      "cell_type": "code",
      "metadata": {
        "id": "kQtVqR_vDSwx",
        "outputId": "ff5ce1ec-d7f5-4d96-de86-b48d4b1410f0",
        "colab": {
          "base_uri": "https://localhost:8080/",
          "height": 211
        }
      },
      "source": [
        "i = 9527\n",
        "plt.figure(figsize=(6,3))\n",
        "plt.subplot(1,2,1)\n",
        "plot_image(i, predictions[i], test_labels, test_images)\n",
        "plt.subplot(1,2,2)\n",
        "plot_value_array(i, predictions[i],  test_labels)\n",
        "plt.show()"
      ],
      "execution_count": 57,
      "outputs": [
        {
          "output_type": "display_data",
          "data": {
            "text/plain": [
              "<Figure size 432x216 with 2 Axes>"
            ],
            "image/png": "[encoded data removed]"
          },
          "metadata": {
            "needs_background": "light"
          }
        }
      ]
    },
    {
      "cell_type": "code",
      "metadata": {
        "id": "TwDppx8ZDUbZ",
        "outputId": "f8badae5-1ec9-4416-e6e5-9df5bf2e7902",
        "colab": {
          "base_uri": "https://localhost:8080/",
          "height": 211
        }
      },
      "source": [
        "i = 12\n",
        "plt.figure(figsize=(6,3))\n",
        "plt.subplot(1,2,1)\n",
        "plot_image(i, predictions[i], test_labels, test_images)\n",
        "plt.subplot(1,2,2)\n",
        "plot_value_array(i, predictions[i],  test_labels)\n",
        "plt.show()"
      ],
      "execution_count": 58,
      "outputs": [
        {
          "output_type": "display_data",
          "data": {
            "text/plain": [
              "<Figure size 432x216 with 2 Axes>"
            ],
            "image/png": "[encoded data removed]"
          },
          "metadata": {
            "needs_background": "light"
          }
        }
      ]
    },
    {
      "cell_type": "markdown",
      "metadata": {
        "id": "z_HZAnSLDXUM"
      },
      "source": [
        "讓我們繪製一些帶有預測的圖像。請注意，即使非常自信，該模型也可能是錯誤的。"
      ]
    },
    {
      "cell_type": "code",
      "metadata": {
        "id": "EA6BJNFrDasy",
        "outputId": "85919dbe-97df-431d-8c20-59f864a07ace",
        "colab": {
          "base_uri": "https://localhost:8080/",
          "height": 729
        }
      },
      "source": [
        "# Plot the first X test images, their predicted labels, and the true labels.\n",
        "#正確預測為藍色、不正確預測為紅色\n",
        "num_rows = 5\n",
        "num_cols = 3\n",
        "num_images = num_rows*num_cols\n",
        "plt.figure(figsize=(2*2*num_cols, 2*num_rows))\n",
        "for i in range(num_images):\n",
        "  plt.subplot(num_rows, 2*num_cols, 2*i+1)\n",
        "  plot_image(i, predictions[i], test_labels, test_images)\n",
        "  plt.subplot(num_rows, 2*num_cols, 2*i+2)\n",
        "  plot_value_array(i, predictions[i], test_labels)\n",
        "plt.tight_layout()\n",
        "plt.show()"
      ],
      "execution_count": 59,
      "outputs": [
        {
          "output_type": "display_data",
          "data": {
            "text/plain": [
              "<Figure size 864x720 with 30 Axes>"
            ],
            "image/png": "[encoded data removed]"
          },
          "metadata": {
            "needs_background": "light"
          }
        }
      ]
    },
    {
      "cell_type": "markdown",
      "metadata": {
        "id": "U-c2g7lSRyrh"
      },
      "source": [
        "### reference\n",
        "- 蔡炎龍老師的Deep Learning MOOC 教學\n",
        "- https://colab.research.google.com/github/tensorflow/docs/blob/master/site/en/tutorials/keras/classification.ipynb#scrollTo=DvYmmrpIy6Y1"
      ]
    }
  ]
}