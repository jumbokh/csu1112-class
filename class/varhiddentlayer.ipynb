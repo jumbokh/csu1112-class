{
  "nbformat": 4,
  "nbformat_minor": 0,
  "metadata": {
    "colab": {
      "provenance": [],
      "authorship_tag": "ABX9TyOu+njxObjZvJoE6l+KMnGB",
      "include_colab_link": true
    },
    "kernelspec": {
      "name": "python3",
      "display_name": "Python 3"
    },
    "language_info": {
      "name": "python"
    },
    "accelerator": "GPU",
    "gpuClass": "standard"
  },
  "cells": [
    {
      "cell_type": "markdown",
      "metadata": {
        "id": "view-in-github",
        "colab_type": "text"
      },
      "source": [
        "<a href=\"https://colab.research.google.com/github/jumbokh/csu1112-class/blob/main/class/varhiddentlayer.ipynb\" target=\"_parent\"><img src=\"https://colab.research.google.com/assets/colab-badge.svg\" alt=\"Open In Colab\"/></a>"
      ]
    },
    {
      "cell_type": "code",
      "execution_count": 1,
      "metadata": {
        "id": "bcDdxalUF_Tg"
      },
      "outputs": [],
      "source": [
        "from tensorflow.keras.models import Sequential\n",
        "from tensorflow.keras import layers\n",
        "from tensorflow.keras import metrics\n",
        "from tensorflow.keras.callbacks import EarlyStopping"
      ]
    },
    {
      "cell_type": "code",
      "source": [
        "# 匯入Keras 的 mnist模組\n",
        "from tensorflow.keras.datasets import mnist\n",
        "(train_Data, train_Label), (test_Data, test_Label) = mnist.load_data()"
      ],
      "metadata": {
        "colab": {
          "base_uri": "https://localhost:8080/"
        },
        "id": "zlAPAg5NGUzW",
        "outputId": "c80354f0-e166-43b0-f02a-b125bfc55024"
      },
      "execution_count": 2,
      "outputs": [
        {
          "output_type": "stream",
          "name": "stdout",
          "text": [
            "Downloading data from https://storage.googleapis.com/tensorflow/tf-keras-datasets/mnist.npz\n",
            "11490434/11490434 [==============================] - 2s 0us/step\n"
          ]
        }
      ]
    },
    {
      "cell_type": "code",
      "source": [
        "model = Sequential([\n",
        "    layers.Flatten(input_shape=(28, 28)),   # 將輸入資料從 28x28 攤平成 784\n",
        "    layers.Dense(256, activation='relu'),\n",
        "    layers.Dense(128, activation='relu'),\n",
        "    layers.Dense(64, activation='relu'),\n",
        "    layers.Dense(10, activation='softmax') # output 為 10 個 class\n",
        "])"
      ],
      "metadata": {
        "id": "AOhFC4uoGZW9"
      },
      "execution_count": 3,
      "outputs": []
    },
    {
      "cell_type": "code",
      "source": [
        "# 定義訓練的步驟數目\n",
        "NUM_EPOCHS = 100\n",
        "# model 每層定義好後需要經過 compile\n",
        "model.compile(optimizer='adam',\n",
        "              loss= 'sparse_categorical_crossentropy',\n",
        "              metrics=['acc',metrics.mse,\n",
        "                       metrics.sparse_top_k_categorical_accuracy])"
      ],
      "metadata": {
        "id": "HmicbbvkGf-F"
      },
      "execution_count": 4,
      "outputs": []
    },
    {
      "cell_type": "code",
      "source": [
        "# 定義 tf.keras.EarlyStopping 回調函數,\n",
        "# 並指名監控的對象 => val_sparse_top_k_categorical_accuracy\n",
        "earlystop_callback = EarlyStopping(\n",
        "  monitor='val_sparse_top_k_categorical_accuracy', min_delta=0.001,\n",
        "  patience=1, verbose=1, mode='auto')"
      ],
      "metadata": {
        "id": "yZdUA4bnGk7t"
      },
      "execution_count": 5,
      "outputs": []
    },
    {
      "cell_type": "code",
      "source": [
        "# 將建立好的 model 去 fit 我們的 training data\n",
        "model.fit(train_Data, train_Label,\n",
        "          validation_split = 0.2,    # 劃分資料集的 20% 作為驗證集用\n",
        "          epochs=NUM_EPOCHS,callbacks=[earlystop_callback],)"
      ],
      "metadata": {
        "colab": {
          "base_uri": "https://localhost:8080/"
        },
        "id": "WmslRuFAGolF",
        "outputId": "2fe67248-2158-4b0b-b3a5-4e0fea4c6fe5"
      },
      "execution_count": 6,
      "outputs": [
        {
          "output_type": "stream",
          "name": "stdout",
          "text": [
            "Epoch 1/100\n",
            "1500/1500 [==============================] - 12s 4ms/step - loss: 1.1492 - acc: 0.8716 - mean_squared_error: 27.3745 - sparse_top_k_categorical_accuracy: 0.9858 - val_loss: 0.2815 - val_acc: 0.9241 - val_mean_squared_error: 27.4406 - val_sparse_top_k_categorical_accuracy: 0.9928\n",
            "Epoch 2/100\n",
            "1500/1500 [==============================] - 5s 3ms/step - loss: 0.2300 - acc: 0.9391 - mean_squared_error: 27.3748 - sparse_top_k_categorical_accuracy: 0.9959 - val_loss: 0.2009 - val_acc: 0.9476 - val_mean_squared_error: 27.4421 - val_sparse_top_k_categorical_accuracy: 0.9958\n",
            "Epoch 3/100\n",
            "1500/1500 [==============================] - 6s 4ms/step - loss: 0.1676 - acc: 0.9531 - mean_squared_error: 27.3757 - sparse_top_k_categorical_accuracy: 0.9974 - val_loss: 0.1838 - val_acc: 0.9550 - val_mean_squared_error: 27.4434 - val_sparse_top_k_categorical_accuracy: 0.9970\n",
            "Epoch 4/100\n",
            "1500/1500 [==============================] - 6s 4ms/step - loss: 0.1458 - acc: 0.9580 - mean_squared_error: 27.3763 - sparse_top_k_categorical_accuracy: 0.9979 - val_loss: 0.1772 - val_acc: 0.9585 - val_mean_squared_error: 27.4439 - val_sparse_top_k_categorical_accuracy: 0.9965\n",
            "Epoch 4: early stopping\n"
          ]
        },
        {
          "output_type": "execute_result",
          "data": {
            "text/plain": [
              "<keras.callbacks.History at 0x7fbc28c5fe50>"
            ]
          },
          "metadata": {},
          "execution_count": 6
        }
      ]
    },
    {
      "cell_type": "code",
      "source": [
        "# 利用 test_Data 去進行模型評估\n",
        "# verbose = 2 為每個 epoch 輸出一行紀錄\n",
        "model.evaluate(test_Data, test_Label, verbose=2)"
      ],
      "metadata": {
        "colab": {
          "base_uri": "https://localhost:8080/"
        },
        "id": "ol3-6kbzGsFs",
        "outputId": "6ee22fb5-82ed-4928-bfef-711de6ae896b"
      },
      "execution_count": 7,
      "outputs": [
        {
          "output_type": "stream",
          "name": "stdout",
          "text": [
            "313/313 - 1s - loss: 0.1701 - acc: 0.9589 - mean_squared_error: 27.3361 - sparse_top_k_categorical_accuracy: 0.9958 - 798ms/epoch - 3ms/step\n"
          ]
        },
        {
          "output_type": "execute_result",
          "data": {
            "text/plain": [
              "[0.17013439536094666, 0.958899974822998, 27.33608055114746, 0.9958000183105469]"
            ]
          },
          "metadata": {},
          "execution_count": 7
        }
      ]
    },
    {
      "cell_type": "code",
      "source": [
        "for n in range(5):\n",
        "  model = Sequential()\n",
        "  model.add(layers.Flatten(input_shape=(28, 28))   # 將輸入資料從 28x28 攤平成 784\n",
        "  for _ in range(n):\n",
        "    model.add(layers.Dense(32, activation='relu'))\n",
        "  model.add(layers.Dense(1, activation='sigmoid'))\n",
        "  model.compile(optimizer='adam',\n",
        "              loss= 'sparse_categorical_crossentropy',\n",
        "              metrics=['acc',metrics.mse,\n",
        "                       metrics.sparse_top_k_categorical_accuracy])\n",
        "  model.fit(train_Data, train_Label,\n",
        "          epochs=NUM_EPOCHS,callbacks=[earlystop_callback],)\n"
      ],
      "metadata": {
        "colab": {
          "base_uri": "https://localhost:8080/",
          "height": 132
        },
        "id": "stGWut0kG28O",
        "outputId": "9afc074a-dc7d-42ff-c118-a7e9626c95a3"
      },
      "execution_count": 14,
      "outputs": [
        {
          "output_type": "error",
          "ename": "SyntaxError",
          "evalue": "ignored",
          "traceback": [
            "\u001b[0;36m  File \u001b[0;32m\"<ipython-input-14-f2db32cab566>\"\u001b[0;36m, line \u001b[0;32m4\u001b[0m\n\u001b[0;31m    for _ in range(n):\u001b[0m\n\u001b[0m                     ^\u001b[0m\n\u001b[0;31mSyntaxError\u001b[0m\u001b[0;31m:\u001b[0m invalid syntax\n"
          ]
        }
      ]
    }
  ]
}