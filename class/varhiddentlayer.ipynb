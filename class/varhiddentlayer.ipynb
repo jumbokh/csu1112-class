{
  "nbformat": 4,
  "nbformat_minor": 0,
  "metadata": {
    "colab": {
      "provenance": [],
      "authorship_tag": "ABX9TyN0INUjRxRHt+PUv/0rRCkw",
      "include_colab_link": true
    },
    "kernelspec": {
      "name": "python3",
      "display_name": "Python 3"
    },
    "language_info": {
      "name": "python"
    }
  },
  "cells": [
    {
      "cell_type": "markdown",
      "metadata": {
        "id": "view-in-github",
        "colab_type": "text"
      },
      "source": [
        "<a href=\"https://colab.research.google.com/github/jumbokh/csu1112-class/blob/main/class/varhiddentlayer.ipynb\" target=\"_parent\"><img src=\"https://colab.research.google.com/assets/colab-badge.svg\" alt=\"Open In Colab\"/></a>"
      ]
    },
    {
      "cell_type": "code",
      "execution_count": null,
      "metadata": {
        "id": "bcDdxalUF_Tg"
      },
      "outputs": [],
      "source": [
        "from tensorflow.keras.models import Sequential\n",
        "from tensorflow.keras import layers\n",
        "from tensorflow.keras import metrics\n",
        "from tensorflow.keras.callbacks import EarlyStopping"
      ]
    },
    {
      "cell_type": "code",
      "source": [
        "# 匯入Keras 的 mnist模組\n",
        "from tensorflow.keras.datasets import mnist\n",
        "(train_Data, train_Label), (test_Data, test_Label) = mnist.load_data()"
      ],
      "metadata": {
        "id": "zlAPAg5NGUzW"
      },
      "execution_count": null,
      "outputs": []
    },
    {
      "cell_type": "code",
      "source": [
        "model = Sequential([\n",
        "    layers.Flatten(input_shape=(28, 28)),   # 將輸入資料從 28x28 攤平成 784\n",
        "    layers.Dense(256, activation='relu'),\n",
        "    layers.Dense(128, activation='relu'),\n",
        "    layers.Dense(64, activation='relu'),\n",
        "    layers.Dense(10, activation='softmax') # output 為 10 個 class\n",
        "])"
      ],
      "metadata": {
        "id": "AOhFC4uoGZW9"
      },
      "execution_count": null,
      "outputs": []
    },
    {
      "cell_type": "code",
      "source": [
        "# 定義訓練的步驟數目\n",
        "NUM_EPOCHS = 100\n",
        "# model 每層定義好後需要經過 compile\n",
        "model.compile(optimizer='adam',\n",
        "              loss= 'sparse_categorical_crossentropy',\n",
        "              metrics=['acc',metrics.mse,\n",
        "                       metrics.sparse_top_k_categorical_accuracy])"
      ],
      "metadata": {
        "id": "HmicbbvkGf-F"
      },
      "execution_count": null,
      "outputs": []
    },
    {
      "cell_type": "code",
      "source": [
        "# 定義 tf.keras.EarlyStopping 回調函數,\n",
        "# 並指名監控的對象 => val_sparse_top_k_categorical_accuracy\n",
        "earlystop_callback = EarlyStopping(\n",
        "  monitor='val_sparse_top_k_categorical_accuracy', min_delta=0.001,\n",
        "  patience=1, verbose=1, mode='auto')"
      ],
      "metadata": {
        "id": "yZdUA4bnGk7t"
      },
      "execution_count": null,
      "outputs": []
    },
    {
      "cell_type": "code",
      "source": [
        "# 將建立好的 model 去 fit 我們的 training data\n",
        "model.fit(train_Data, train_Label,\n",
        "          validation_split = 0.2,    # 劃分資料集的 20% 作為驗證集用\n",
        "          epochs=NUM_EPOCHS,callbacks=[earlystop_callback],)"
      ],
      "metadata": {
        "id": "WmslRuFAGolF"
      },
      "execution_count": null,
      "outputs": []
    },
    {
      "cell_type": "code",
      "source": [
        "# 利用 test_Data 去進行模型評估\n",
        "# verbose = 2 為每個 epoch 輸出一行紀錄\n",
        "model.evaluate(test_Data, test_Label, verbose=2)"
      ],
      "metadata": {
        "id": "ol3-6kbzGsFs"
      },
      "execution_count": null,
      "outputs": []
    },
    {
      "cell_type": "code",
      "source": [
        "for n in range(5):\n",
        "  model = Sequential()\n",
        "  model.add(layers.Dense(32, activation='relu'))\n",
        "  for _ in range(n):\n",
        "    model.add(layers.Dense(32, activation='relu'))\n",
        "  model.add(layers.Dense(1, activation='sigmoid'))\n",
        "  model.compile(loss='binary_crossentropy', optimizer='adam', metrics=['accuracy'])\n",
        "  model.fit(train_Data, train_Label,\n",
        "          validation_split = 0.2,    # 劃分資料集的 20% 作為驗證集用\n",
        "          epochs=NUM_EPOCHS,callbacks=[earlystop_callback])\n"
      ],
      "metadata": {
        "id": "stGWut0kG28O"
      },
      "execution_count": null,
      "outputs": []
    }
  ]
}