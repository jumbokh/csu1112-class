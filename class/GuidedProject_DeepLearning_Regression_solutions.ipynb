{
  "nbformat": 4,
  "nbformat_minor": 0,
  "metadata": {
    "colab": {
      "provenance": [],
      "toc_visible": true,
      "include_colab_link": true
    },
    "kernelspec": {
      "name": "python3",
      "display_name": "Python 3"
    },
    "language_info": {
      "name": "python"
    },
    "accelerator": "GPU",
    "gpuClass": "standard"
  },
  "cells": [
    {
      "cell_type": "markdown",
      "metadata": {
        "id": "view-in-github",
        "colab_type": "text"
      },
      "source": [
        "<a href=\"https://colab.research.google.com/github/jumbokh/csu1112-class/blob/main/class/GuidedProject_DeepLearning_Regression_solutions.ipynb\" target=\"_parent\"><img src=\"https://colab.research.google.com/assets/colab-badge.svg\" alt=\"Open In Colab\"/></a>"
      ]
    },
    {
      "cell_type": "markdown",
      "source": [
        "# Regression Deep Learning Problem\n",
        "## Stock Price Prediction of Google\n",
        "\n",
        " https://www.kaggle.com/datasets/varpit94/google-stock-data?select=GOOGL.csv\n",
        "\n",
        "DataSimple\n",
        "\n",
        " https://www.datasimple.education/"
      ],
      "metadata": {
        "id": "AwtPlwmb4hN0"
      }
    },
    {
      "cell_type": "code",
      "execution_count": 1,
      "metadata": {
        "colab": {
          "base_uri": "https://localhost:8080/"
        },
        "id": "U-G6EmbO4cNP",
        "outputId": "ff39fc04-1884-409f-ff77-2a2196106e11"
      },
      "outputs": [
        {
          "output_type": "stream",
          "name": "stdout",
          "text": [
            "Mounted at /content/gdrive\n"
          ]
        }
      ],
      "source": [
        "from google.colab import drive\n",
        "drive.mount('/content/gdrive')"
      ]
    },
    {
      "cell_type": "code",
      "source": [],
      "metadata": {
        "id": "3Wh6nhYv6cUM"
      },
      "execution_count": 1,
      "outputs": []
    },
    {
      "cell_type": "code",
      "source": [
        "import pandas as pd\n",
        "import numpy as np\n",
        "import tensorflow as tf\n",
        "import seaborn as sns\n",
        "import matplotlib.pyplot as plt\n",
        "from sklearn.preprocessing import StandardScaler"
      ],
      "metadata": {
        "id": "jYd1nxFc5MNY"
      },
      "execution_count": 2,
      "outputs": []
    },
    {
      "cell_type": "markdown",
      "source": [
        "# import data"
      ],
      "metadata": {
        "id": "_SjJ3t3U50i0"
      }
    },
    {
      "cell_type": "code",
      "source": [
        "df = pd.read_csv('https://raw.githubusercontent.com/brandynewanek/brandynewanek/main/GOOGL.csv')"
      ],
      "metadata": {
        "id": "j0bbhQqa5ns4"
      },
      "execution_count": 3,
      "outputs": []
    },
    {
      "cell_type": "code",
      "source": [
        "df.head()"
      ],
      "metadata": {
        "colab": {
          "base_uri": "https://localhost:8080/",
          "height": 206
        },
        "id": "kemDFmJB5w3Y",
        "outputId": "23baa59b-1b02-430f-fa17-ef10c5a19b9d"
      },
      "execution_count": 4,
      "outputs": [
        {
          "output_type": "execute_result",
          "data": {
            "text/plain": [
              "         Date       Open       High        Low      Close  Adj Close    Volume\n",
              "0  2004-08-19  50.050049  52.082081  48.028027  50.220219  50.220219  44659096\n",
              "1  2004-08-20  50.555557  54.594597  50.300301  54.209209  54.209209  22834343\n",
              "2  2004-08-23  55.430431  56.796799  54.579578  54.754753  54.754753  18256126\n",
              "3  2004-08-24  55.675674  55.855858  51.836838  52.487488  52.487488  15247337\n",
              "4  2004-08-25  52.532532  54.054054  51.991993  53.053055  53.053055   9188602"
            ],
            "text/html": [
              "\n",
              "  <div id=\"df-9c7edc65-d862-4d13-8cbc-14de7aba3e43\">\n",
              "    <div class=\"colab-df-container\">\n",
              "      <div>\n",
              "<style scoped>\n",
              "    .dataframe tbody tr th:only-of-type {\n",
              "        vertical-align: middle;\n",
              "    }\n",
              "\n",
              "    .dataframe tbody tr th {\n",
              "        vertical-align: top;\n",
              "    }\n",
              "\n",
              "    .dataframe thead th {\n",
              "        text-align: right;\n",
              "    }\n",
              "</style>\n",
              "<table border=\"1\" class=\"dataframe\">\n",
              "  <thead>\n",
              "    <tr style=\"text-align: right;\">\n",
              "      <th></th>\n",
              "      <th>Date</th>\n",
              "      <th>Open</th>\n",
              "      <th>High</th>\n",
              "      <th>Low</th>\n",
              "      <th>Close</th>\n",
              "      <th>Adj Close</th>\n",
              "      <th>Volume</th>\n",
              "    </tr>\n",
              "  </thead>\n",
              "  <tbody>\n",
              "    <tr>\n",
              "      <th>0</th>\n",
              "      <td>2004-08-19</td>\n",
              "      <td>50.050049</td>\n",
              "      <td>52.082081</td>\n",
              "      <td>48.028027</td>\n",
              "      <td>50.220219</td>\n",
              "      <td>50.220219</td>\n",
              "      <td>44659096</td>\n",
              "    </tr>\n",
              "    <tr>\n",
              "      <th>1</th>\n",
              "      <td>2004-08-20</td>\n",
              "      <td>50.555557</td>\n",
              "      <td>54.594597</td>\n",
              "      <td>50.300301</td>\n",
              "      <td>54.209209</td>\n",
              "      <td>54.209209</td>\n",
              "      <td>22834343</td>\n",
              "    </tr>\n",
              "    <tr>\n",
              "      <th>2</th>\n",
              "      <td>2004-08-23</td>\n",
              "      <td>55.430431</td>\n",
              "      <td>56.796799</td>\n",
              "      <td>54.579578</td>\n",
              "      <td>54.754753</td>\n",
              "      <td>54.754753</td>\n",
              "      <td>18256126</td>\n",
              "    </tr>\n",
              "    <tr>\n",
              "      <th>3</th>\n",
              "      <td>2004-08-24</td>\n",
              "      <td>55.675674</td>\n",
              "      <td>55.855858</td>\n",
              "      <td>51.836838</td>\n",
              "      <td>52.487488</td>\n",
              "      <td>52.487488</td>\n",
              "      <td>15247337</td>\n",
              "    </tr>\n",
              "    <tr>\n",
              "      <th>4</th>\n",
              "      <td>2004-08-25</td>\n",
              "      <td>52.532532</td>\n",
              "      <td>54.054054</td>\n",
              "      <td>51.991993</td>\n",
              "      <td>53.053055</td>\n",
              "      <td>53.053055</td>\n",
              "      <td>9188602</td>\n",
              "    </tr>\n",
              "  </tbody>\n",
              "</table>\n",
              "</div>\n",
              "      <button class=\"colab-df-convert\" onclick=\"convertToInteractive('df-9c7edc65-d862-4d13-8cbc-14de7aba3e43')\"\n",
              "              title=\"Convert this dataframe to an interactive table.\"\n",
              "              style=\"display:none;\">\n",
              "        \n",
              "  <svg xmlns=\"http://www.w3.org/2000/svg\" height=\"24px\"viewBox=\"0 0 24 24\"\n",
              "       width=\"24px\">\n",
              "    <path d=\"M0 0h24v24H0V0z\" fill=\"none\"/>\n",
              "    <path d=\"M18.56 5.44l.94 2.06.94-2.06 2.06-.94-2.06-.94-.94-2.06-.94 2.06-2.06.94zm-11 1L8.5 8.5l.94-2.06 2.06-.94-2.06-.94L8.5 2.5l-.94 2.06-2.06.94zm10 10l.94 2.06.94-2.06 2.06-.94-2.06-.94-.94-2.06-.94 2.06-2.06.94z\"/><path d=\"M17.41 7.96l-1.37-1.37c-.4-.4-.92-.59-1.43-.59-.52 0-1.04.2-1.43.59L10.3 9.45l-7.72 7.72c-.78.78-.78 2.05 0 2.83L4 21.41c.39.39.9.59 1.41.59.51 0 1.02-.2 1.41-.59l7.78-7.78 2.81-2.81c.8-.78.8-2.07 0-2.86zM5.41 20L4 18.59l7.72-7.72 1.47 1.35L5.41 20z\"/>\n",
              "  </svg>\n",
              "      </button>\n",
              "      \n",
              "  <style>\n",
              "    .colab-df-container {\n",
              "      display:flex;\n",
              "      flex-wrap:wrap;\n",
              "      gap: 12px;\n",
              "    }\n",
              "\n",
              "    .colab-df-convert {\n",
              "      background-color: #E8F0FE;\n",
              "      border: none;\n",
              "      border-radius: 50%;\n",
              "      cursor: pointer;\n",
              "      display: none;\n",
              "      fill: #1967D2;\n",
              "      height: 32px;\n",
              "      padding: 0 0 0 0;\n",
              "      width: 32px;\n",
              "    }\n",
              "\n",
              "    .colab-df-convert:hover {\n",
              "      background-color: #E2EBFA;\n",
              "      box-shadow: 0px 1px 2px rgba(60, 64, 67, 0.3), 0px 1px 3px 1px rgba(60, 64, 67, 0.15);\n",
              "      fill: #174EA6;\n",
              "    }\n",
              "\n",
              "    [theme=dark] .colab-df-convert {\n",
              "      background-color: #3B4455;\n",
              "      fill: #D2E3FC;\n",
              "    }\n",
              "\n",
              "    [theme=dark] .colab-df-convert:hover {\n",
              "      background-color: #434B5C;\n",
              "      box-shadow: 0px 1px 3px 1px rgba(0, 0, 0, 0.15);\n",
              "      filter: drop-shadow(0px 1px 2px rgba(0, 0, 0, 0.3));\n",
              "      fill: #FFFFFF;\n",
              "    }\n",
              "  </style>\n",
              "\n",
              "      <script>\n",
              "        const buttonEl =\n",
              "          document.querySelector('#df-9c7edc65-d862-4d13-8cbc-14de7aba3e43 button.colab-df-convert');\n",
              "        buttonEl.style.display =\n",
              "          google.colab.kernel.accessAllowed ? 'block' : 'none';\n",
              "\n",
              "        async function convertToInteractive(key) {\n",
              "          const element = document.querySelector('#df-9c7edc65-d862-4d13-8cbc-14de7aba3e43');\n",
              "          const dataTable =\n",
              "            await google.colab.kernel.invokeFunction('convertToInteractive',\n",
              "                                                     [key], {});\n",
              "          if (!dataTable) return;\n",
              "\n",
              "          const docLinkHtml = 'Like what you see? Visit the ' +\n",
              "            '<a target=\"_blank\" href=https://colab.research.google.com/notebooks/data_table.ipynb>data table notebook</a>'\n",
              "            + ' to learn more about interactive tables.';\n",
              "          element.innerHTML = '';\n",
              "          dataTable['output_type'] = 'display_data';\n",
              "          await google.colab.output.renderOutput(dataTable, element);\n",
              "          const docLink = document.createElement('div');\n",
              "          docLink.innerHTML = docLinkHtml;\n",
              "          element.appendChild(docLink);\n",
              "        }\n",
              "      </script>\n",
              "    </div>\n",
              "  </div>\n",
              "  "
            ]
          },
          "metadata": {},
          "execution_count": 4
        }
      ]
    },
    {
      "cell_type": "code",
      "source": [
        "df.shape"
      ],
      "metadata": {
        "colab": {
          "base_uri": "https://localhost:8080/"
        },
        "id": "HsSq6Gne53v3",
        "outputId": "6bcde781-c167-4eda-c8c8-219ad931d443"
      },
      "execution_count": 5,
      "outputs": [
        {
          "output_type": "execute_result",
          "data": {
            "text/plain": [
              "(4431, 7)"
            ]
          },
          "metadata": {},
          "execution_count": 5
        }
      ]
    },
    {
      "cell_type": "markdown",
      "source": [
        "# EDA"
      ],
      "metadata": {
        "id": "XRhDj_0Y6hZE"
      }
    },
    {
      "cell_type": "markdown",
      "source": [
        "## palette"
      ],
      "metadata": {
        "id": "ULsPPD8rLtqW"
      }
    },
    {
      "cell_type": "code",
      "source": [
        "palette = ['#164B57', '#3DB37F']"
      ],
      "metadata": {
        "id": "tkiFcDos67CU"
      },
      "execution_count": 6,
      "outputs": []
    },
    {
      "cell_type": "code",
      "source": [
        "for feat in df.columns:\n",
        "  if df[feat].dtype != 'object':\n",
        "    sns.histplot(df, x=feat, color=palette[0])\n",
        "    plt.show()"
      ],
      "metadata": {
        "colab": {
          "base_uri": "https://localhost:8080/",
          "height": 1000
        },
        "id": "4jPkZI3q57XW",
        "outputId": "16a1a9b5-4c9c-47f1-9a86-22bda10d0fbc"
      },
      "execution_count": 7,
      "outputs": [
        {
          "output_type": "display_data",
          "data": {
            "text/plain": [
              "<Figure size 640x480 with 1 Axes>"
            ],
            "image/png": "[encoded data removed]"
          },
          "metadata": {}
        },
        {
          "output_type": "display_data",
          "data": {
            "text/plain": [
              "<Figure size 640x480 with 1 Axes>"
            ],
            "image/png": "[encoded data removed]"
          },
          "metadata": {}
        },
        {
          "output_type": "display_data",
          "data": {
            "text/plain": [
              "<Figure size 640x480 with 1 Axes>"
            ],
            "image/png": "[encoded data removed]"
          },
          "metadata": {}
        },
        {
          "output_type": "display_data",
          "data": {
            "text/plain": [
              "<Figure size 640x480 with 1 Axes>"
            ],
            "image/png": "[encoded data removed]"
          },
          "metadata": {}
        },
        {
          "output_type": "display_data",
          "data": {
            "text/plain": [
              "<Figure size 640x480 with 1 Axes>"
            ],
            "image/png": "[encoded data removed]"
          },
          "metadata": {}
        },
        {
          "output_type": "display_data",
          "data": {
            "text/plain": [
              "<Figure size 640x480 with 1 Axes>"
            ],
            "image/png": "[encoded data removed]"
          },
          "metadata": {}
        }
      ]
    },
    {
      "cell_type": "markdown",
      "source": [
        "**Observations**\n",
        "\n",
        "+ all distributions show exponential distribution"
      ],
      "metadata": {
        "id": "Kpmy7XCR7ISa"
      }
    },
    {
      "cell_type": "markdown",
      "source": [
        "# Preprocessing"
      ],
      "metadata": {
        "id": "57TMj2MAJ5l-"
      }
    },
    {
      "cell_type": "markdown",
      "source": [
        "## Indicator Development"
      ],
      "metadata": {
        "id": "2XCy8uazJ-K9"
      }
    },
    {
      "cell_type": "markdown",
      "source": [
        "### MACD"
      ],
      "metadata": {
        "id": "I5QBY0SvKB5V"
      }
    },
    {
      "cell_type": "code",
      "source": [
        "df['ema_12'] = df['Close'].ewm(span=12).mean()\n",
        "df['ema_26'] = df['Close'].ewm(span=26).mean()"
      ],
      "metadata": {
        "id": "EhfgPI4K7DQW"
      },
      "execution_count": 8,
      "outputs": []
    },
    {
      "cell_type": "code",
      "source": [
        "df['macd_fast'] = df['ema_12'] - df['ema_26']"
      ],
      "metadata": {
        "id": "bx8iShdEKXz3"
      },
      "execution_count": 9,
      "outputs": []
    },
    {
      "cell_type": "code",
      "source": [
        "df['slow_macd'] = df['macd_fast'].ewm(span=9).mean()"
      ],
      "metadata": {
        "id": "XEjxnSk3KcBH"
      },
      "execution_count": 10,
      "outputs": []
    },
    {
      "cell_type": "code",
      "source": [
        "df['macd'] = df['macd_fast'] - df['slow_macd']"
      ],
      "metadata": {
        "id": "gGmMlAqVKllb"
      },
      "execution_count": 11,
      "outputs": []
    },
    {
      "cell_type": "markdown",
      "source": [
        "### RSI"
      ],
      "metadata": {
        "id": "sabfgHjILI4F"
      }
    },
    {
      "cell_type": "code",
      "source": [
        "change = df['Close'].diff(1)\n",
        "df['Gain'] = change.mask(change<0,0)\n",
        "df['Loss'] = abs(change.mask(change>0,0))\n",
        "df['AVG_Gain'] = df.Gain.rolling(14).mean()\n",
        "df['AVG_Loss'] = df.Loss.rolling(14).mean()\n",
        "df['RS'] = df['AVG_Gain']/df['AVG_Loss']\n",
        "df['rsi'] = 100 - (100/(1+df['RS']))"
      ],
      "metadata": {
        "id": "hhcPXtaxK3SY"
      },
      "execution_count": 12,
      "outputs": []
    },
    {
      "cell_type": "markdown",
      "source": [
        "## Visualize Indicators"
      ],
      "metadata": {
        "id": "EYDKDKETLXNZ"
      }
    },
    {
      "cell_type": "code",
      "source": [
        "df[['rsi', 'macd']].plot(kind='line', color=palette, subplots=2, layout=(2,1))"
      ],
      "metadata": {
        "colab": {
          "base_uri": "https://localhost:8080/",
          "height": 468
        },
        "id": "oU9az8jTLSjT",
        "outputId": "6091f3be-fcc4-4b8d-ff6d-c60cb00b10b6"
      },
      "execution_count": 13,
      "outputs": [
        {
          "output_type": "execute_result",
          "data": {
            "text/plain": [
              "array([[<Axes: >],\n",
              "       [<Axes: >]], dtype=object)"
            ]
          },
          "metadata": {},
          "execution_count": 13
        },
        {
          "output_type": "display_data",
          "data": {
            "text/plain": [
              "<Figure size 640x480 with 2 Axes>"
            ],
            "image/png": "[encoded data removed]"
          },
          "metadata": {}
        }
      ]
    },
    {
      "cell_type": "markdown",
      "source": [
        "## making target stationary "
      ],
      "metadata": {
        "id": "O9BAnLDxVHok"
      }
    },
    {
      "cell_type": "code",
      "source": [
        "df['Close_pct_chng'] = df['Close'].pct_change()"
      ],
      "metadata": {
        "id": "dKSSWXulVICa"
      },
      "execution_count": 14,
      "outputs": []
    },
    {
      "cell_type": "code",
      "source": [
        "df.isnull().sum()"
      ],
      "metadata": {
        "colab": {
          "base_uri": "https://localhost:8080/"
        },
        "id": "wuT11hWhYMcq",
        "outputId": "6b297db2-07f1-44c4-b970-45482d0a2d2f"
      },
      "execution_count": 15,
      "outputs": [
        {
          "output_type": "execute_result",
          "data": {
            "text/plain": [
              "Date               0\n",
              "Open               0\n",
              "High               0\n",
              "Low                0\n",
              "Close              0\n",
              "Adj Close          0\n",
              "Volume             0\n",
              "ema_12             0\n",
              "ema_26             0\n",
              "macd_fast          0\n",
              "slow_macd          0\n",
              "macd               0\n",
              "Gain               1\n",
              "Loss               1\n",
              "AVG_Gain          14\n",
              "AVG_Loss          14\n",
              "RS                14\n",
              "rsi               14\n",
              "Close_pct_chng     1\n",
              "dtype: int64"
            ]
          },
          "metadata": {},
          "execution_count": 15
        }
      ]
    },
    {
      "cell_type": "markdown",
      "source": [
        "## Engineer Time Features"
      ],
      "metadata": {
        "id": "E4aSkxNgMlCD"
      }
    },
    {
      "cell_type": "code",
      "source": [
        "days_macd = [1,2,3,4,5,6,7,8,9,10]\n",
        "days_rsi = [1,2,3,4,5,6,7,8,9,10]"
      ],
      "metadata": {
        "id": "aiAYnmMiLyVL"
      },
      "execution_count": 16,
      "outputs": []
    },
    {
      "cell_type": "code",
      "source": [
        "for d in days_macd:\n",
        "    df[f'macd_{d}_dyago'] = df['macd'].shift(d)"
      ],
      "metadata": {
        "id": "MKO5HYsSNSGT"
      },
      "execution_count": 17,
      "outputs": []
    },
    {
      "cell_type": "code",
      "source": [
        "for d in days_rsi:\n",
        "    df[f'rsi_{d}_dyago'] = df['rsi'].shift(d)"
      ],
      "metadata": {
        "id": "8aNqtsNkNc54"
      },
      "execution_count": 18,
      "outputs": []
    },
    {
      "cell_type": "code",
      "source": [
        "df.head()"
      ],
      "metadata": {
        "colab": {
          "base_uri": "https://localhost:8080/",
          "height": 403
        },
        "id": "9aMPoiWTNjIL",
        "outputId": "255255f6-e76f-4dbe-b075-460eb3899de5"
      },
      "execution_count": 19,
      "outputs": [
        {
          "output_type": "execute_result",
          "data": {
            "text/plain": [
              "         Date       Open       High        Low      Close  Adj Close  \\\n",
              "0  2004-08-19  50.050049  52.082081  48.028027  50.220219  50.220219   \n",
              "1  2004-08-20  50.555557  54.594597  50.300301  54.209209  54.209209   \n",
              "2  2004-08-23  55.430431  56.796799  54.579578  54.754753  54.754753   \n",
              "3  2004-08-24  55.675674  55.855858  51.836838  52.487488  52.487488   \n",
              "4  2004-08-25  52.532532  54.054054  51.991993  53.053055  53.053055   \n",
              "\n",
              "     Volume     ema_12     ema_26  macd_fast  ...  rsi_1_dyago  rsi_2_dyago  \\\n",
              "0  44659096  50.220219  50.220219   0.000000  ...          NaN          NaN   \n",
              "1  22834343  52.380922  52.291425   0.089497  ...          NaN          NaN   \n",
              "2  18256126  53.307429  53.176475   0.130954  ...          NaN          NaN   \n",
              "3  15247337  53.048605  52.983864   0.064741  ...          NaN          NaN   \n",
              "4   9188602  53.049814  52.999910   0.049904  ...          NaN          NaN   \n",
              "\n",
              "   rsi_3_dyago  rsi_4_dyago  rsi_5_dyago  rsi_6_dyago  rsi_7_dyago  \\\n",
              "0          NaN          NaN          NaN          NaN          NaN   \n",
              "1          NaN          NaN          NaN          NaN          NaN   \n",
              "2          NaN          NaN          NaN          NaN          NaN   \n",
              "3          NaN          NaN          NaN          NaN          NaN   \n",
              "4          NaN          NaN          NaN          NaN          NaN   \n",
              "\n",
              "   rsi_8_dyago  rsi_9_dyago  rsi_10_dyago  \n",
              "0          NaN          NaN           NaN  \n",
              "1          NaN          NaN           NaN  \n",
              "2          NaN          NaN           NaN  \n",
              "3          NaN          NaN           NaN  \n",
              "4          NaN          NaN           NaN  \n",
              "\n",
              "[5 rows x 39 columns]"
            ],
            "text/html": [
              "\n",
              "  <div id=\"df-fa549acd-2b23-4be1-ac91-342355dfccf4\">\n",
              "    <div class=\"colab-df-container\">\n",
              "      <div>\n",
              "<style scoped>\n",
              "    .dataframe tbody tr th:only-of-type {\n",
              "        vertical-align: middle;\n",
              "    }\n",
              "\n",
              "    .dataframe tbody tr th {\n",
              "        vertical-align: top;\n",
              "    }\n",
              "\n",
              "    .dataframe thead th {\n",
              "        text-align: right;\n",
              "    }\n",
              "</style>\n",
              "<table border=\"1\" class=\"dataframe\">\n",
              "  <thead>\n",
              "    <tr style=\"text-align: right;\">\n",
              "      <th></th>\n",
              "      <th>Date</th>\n",
              "      <th>Open</th>\n",
              "      <th>High</th>\n",
              "      <th>Low</th>\n",
              "      <th>Close</th>\n",
              "      <th>Adj Close</th>\n",
              "      <th>Volume</th>\n",
              "      <th>ema_12</th>\n",
              "      <th>ema_26</th>\n",
              "      <th>macd_fast</th>\n",
              "      <th>...</th>\n",
              "      <th>rsi_1_dyago</th>\n",
              "      <th>rsi_2_dyago</th>\n",
              "      <th>rsi_3_dyago</th>\n",
              "      <th>rsi_4_dyago</th>\n",
              "      <th>rsi_5_dyago</th>\n",
              "      <th>rsi_6_dyago</th>\n",
              "      <th>rsi_7_dyago</th>\n",
              "      <th>rsi_8_dyago</th>\n",
              "      <th>rsi_9_dyago</th>\n",
              "      <th>rsi_10_dyago</th>\n",
              "    </tr>\n",
              "  </thead>\n",
              "  <tbody>\n",
              "    <tr>\n",
              "      <th>0</th>\n",
              "      <td>2004-08-19</td>\n",
              "      <td>50.050049</td>\n",
              "      <td>52.082081</td>\n",
              "      <td>48.028027</td>\n",
              "      <td>50.220219</td>\n",
              "      <td>50.220219</td>\n",
              "      <td>44659096</td>\n",
              "      <td>50.220219</td>\n",
              "      <td>50.220219</td>\n",
              "      <td>0.000000</td>\n",
              "      <td>...</td>\n",
              "      <td>NaN</td>\n",
              "      <td>NaN</td>\n",
              "      <td>NaN</td>\n",
              "      <td>NaN</td>\n",
              "      <td>NaN</td>\n",
              "      <td>NaN</td>\n",
              "      <td>NaN</td>\n",
              "      <td>NaN</td>\n",
              "      <td>NaN</td>\n",
              "      <td>NaN</td>\n",
              "    </tr>\n",
              "    <tr>\n",
              "      <th>1</th>\n",
              "      <td>2004-08-20</td>\n",
              "      <td>50.555557</td>\n",
              "      <td>54.594597</td>\n",
              "      <td>50.300301</td>\n",
              "      <td>54.209209</td>\n",
              "      <td>54.209209</td>\n",
              "      <td>22834343</td>\n",
              "      <td>52.380922</td>\n",
              "      <td>52.291425</td>\n",
              "      <td>0.089497</td>\n",
              "      <td>...</td>\n",
              "      <td>NaN</td>\n",
              "      <td>NaN</td>\n",
              "      <td>NaN</td>\n",
              "      <td>NaN</td>\n",
              "      <td>NaN</td>\n",
              "      <td>NaN</td>\n",
              "      <td>NaN</td>\n",
              "      <td>NaN</td>\n",
              "      <td>NaN</td>\n",
              "      <td>NaN</td>\n",
              "    </tr>\n",
              "    <tr>\n",
              "      <th>2</th>\n",
              "      <td>2004-08-23</td>\n",
              "      <td>55.430431</td>\n",
              "      <td>56.796799</td>\n",
              "      <td>54.579578</td>\n",
              "      <td>54.754753</td>\n",
              "      <td>54.754753</td>\n",
              "      <td>18256126</td>\n",
              "      <td>53.307429</td>\n",
              "      <td>53.176475</td>\n",
              "      <td>0.130954</td>\n",
              "      <td>...</td>\n",
              "      <td>NaN</td>\n",
              "      <td>NaN</td>\n",
              "      <td>NaN</td>\n",
              "      <td>NaN</td>\n",
              "      <td>NaN</td>\n",
              "      <td>NaN</td>\n",
              "      <td>NaN</td>\n",
              "      <td>NaN</td>\n",
              "      <td>NaN</td>\n",
              "      <td>NaN</td>\n",
              "    </tr>\n",
              "    <tr>\n",
              "      <th>3</th>\n",
              "      <td>2004-08-24</td>\n",
              "      <td>55.675674</td>\n",
              "      <td>55.855858</td>\n",
              "      <td>51.836838</td>\n",
              "      <td>52.487488</td>\n",
              "      <td>52.487488</td>\n",
              "      <td>15247337</td>\n",
              "      <td>53.048605</td>\n",
              "      <td>52.983864</td>\n",
              "      <td>0.064741</td>\n",
              "      <td>...</td>\n",
              "      <td>NaN</td>\n",
              "      <td>NaN</td>\n",
              "      <td>NaN</td>\n",
              "      <td>NaN</td>\n",
              "      <td>NaN</td>\n",
              "      <td>NaN</td>\n",
              "      <td>NaN</td>\n",
              "      <td>NaN</td>\n",
              "      <td>NaN</td>\n",
              "      <td>NaN</td>\n",
              "    </tr>\n",
              "    <tr>\n",
              "      <th>4</th>\n",
              "      <td>2004-08-25</td>\n",
              "      <td>52.532532</td>\n",
              "      <td>54.054054</td>\n",
              "      <td>51.991993</td>\n",
              "      <td>53.053055</td>\n",
              "      <td>53.053055</td>\n",
              "      <td>9188602</td>\n",
              "      <td>53.049814</td>\n",
              "      <td>52.999910</td>\n",
              "      <td>0.049904</td>\n",
              "      <td>...</td>\n",
              "      <td>NaN</td>\n",
              "      <td>NaN</td>\n",
              "      <td>NaN</td>\n",
              "      <td>NaN</td>\n",
              "      <td>NaN</td>\n",
              "      <td>NaN</td>\n",
              "      <td>NaN</td>\n",
              "      <td>NaN</td>\n",
              "      <td>NaN</td>\n",
              "      <td>NaN</td>\n",
              "    </tr>\n",
              "  </tbody>\n",
              "</table>\n",
              "<p>5 rows × 39 columns</p>\n",
              "</div>\n",
              "      <button class=\"colab-df-convert\" onclick=\"convertToInteractive('df-fa549acd-2b23-4be1-ac91-342355dfccf4')\"\n",
              "              title=\"Convert this dataframe to an interactive table.\"\n",
              "              style=\"display:none;\">\n",
              "        \n",
              "  <svg xmlns=\"http://www.w3.org/2000/svg\" height=\"24px\"viewBox=\"0 0 24 24\"\n",
              "       width=\"24px\">\n",
              "    <path d=\"M0 0h24v24H0V0z\" fill=\"none\"/>\n",
              "    <path d=\"M18.56 5.44l.94 2.06.94-2.06 2.06-.94-2.06-.94-.94-2.06-.94 2.06-2.06.94zm-11 1L8.5 8.5l.94-2.06 2.06-.94-2.06-.94L8.5 2.5l-.94 2.06-2.06.94zm10 10l.94 2.06.94-2.06 2.06-.94-2.06-.94-.94-2.06-.94 2.06-2.06.94z\"/><path d=\"M17.41 7.96l-1.37-1.37c-.4-.4-.92-.59-1.43-.59-.52 0-1.04.2-1.43.59L10.3 9.45l-7.72 7.72c-.78.78-.78 2.05 0 2.83L4 21.41c.39.39.9.59 1.41.59.51 0 1.02-.2 1.41-.59l7.78-7.78 2.81-2.81c.8-.78.8-2.07 0-2.86zM5.41 20L4 18.59l7.72-7.72 1.47 1.35L5.41 20z\"/>\n",
              "  </svg>\n",
              "      </button>\n",
              "      \n",
              "  <style>\n",
              "    .colab-df-container {\n",
              "      display:flex;\n",
              "      flex-wrap:wrap;\n",
              "      gap: 12px;\n",
              "    }\n",
              "\n",
              "    .colab-df-convert {\n",
              "      background-color: #E8F0FE;\n",
              "      border: none;\n",
              "      border-radius: 50%;\n",
              "      cursor: pointer;\n",
              "      display: none;\n",
              "      fill: #1967D2;\n",
              "      height: 32px;\n",
              "      padding: 0 0 0 0;\n",
              "      width: 32px;\n",
              "    }\n",
              "\n",
              "    .colab-df-convert:hover {\n",
              "      background-color: #E2EBFA;\n",
              "      box-shadow: 0px 1px 2px rgba(60, 64, 67, 0.3), 0px 1px 3px 1px rgba(60, 64, 67, 0.15);\n",
              "      fill: #174EA6;\n",
              "    }\n",
              "\n",
              "    [theme=dark] .colab-df-convert {\n",
              "      background-color: #3B4455;\n",
              "      fill: #D2E3FC;\n",
              "    }\n",
              "\n",
              "    [theme=dark] .colab-df-convert:hover {\n",
              "      background-color: #434B5C;\n",
              "      box-shadow: 0px 1px 3px 1px rgba(0, 0, 0, 0.15);\n",
              "      filter: drop-shadow(0px 1px 2px rgba(0, 0, 0, 0.3));\n",
              "      fill: #FFFFFF;\n",
              "    }\n",
              "  </style>\n",
              "\n",
              "      <script>\n",
              "        const buttonEl =\n",
              "          document.querySelector('#df-fa549acd-2b23-4be1-ac91-342355dfccf4 button.colab-df-convert');\n",
              "        buttonEl.style.display =\n",
              "          google.colab.kernel.accessAllowed ? 'block' : 'none';\n",
              "\n",
              "        async function convertToInteractive(key) {\n",
              "          const element = document.querySelector('#df-fa549acd-2b23-4be1-ac91-342355dfccf4');\n",
              "          const dataTable =\n",
              "            await google.colab.kernel.invokeFunction('convertToInteractive',\n",
              "                                                     [key], {});\n",
              "          if (!dataTable) return;\n",
              "\n",
              "          const docLinkHtml = 'Like what you see? Visit the ' +\n",
              "            '<a target=\"_blank\" href=https://colab.research.google.com/notebooks/data_table.ipynb>data table notebook</a>'\n",
              "            + ' to learn more about interactive tables.';\n",
              "          element.innerHTML = '';\n",
              "          dataTable['output_type'] = 'display_data';\n",
              "          await google.colab.output.renderOutput(dataTable, element);\n",
              "          const docLink = document.createElement('div');\n",
              "          docLink.innerHTML = docLinkHtml;\n",
              "          element.appendChild(docLink);\n",
              "        }\n",
              "      </script>\n",
              "    </div>\n",
              "  </div>\n",
              "  "
            ]
          },
          "metadata": {},
          "execution_count": 19
        }
      ]
    },
    {
      "cell_type": "code",
      "source": [
        "df[['macd', 'macd_1_dyago']]"
      ],
      "metadata": {
        "colab": {
          "base_uri": "https://localhost:8080/",
          "height": 423
        },
        "id": "8R_tEwMdNkVL",
        "outputId": "653656cc-bb36-44f5-db01-22b51b210ac5"
      },
      "execution_count": 20,
      "outputs": [
        {
          "output_type": "execute_result",
          "data": {
            "text/plain": [
              "           macd  macd_1_dyago\n",
              "0      0.000000           NaN\n",
              "1      0.039776      0.000000\n",
              "2      0.047941      0.039776\n",
              "3     -0.012082      0.047941\n",
              "4     -0.018911     -0.012082\n",
              "...         ...           ...\n",
              "4426  13.312184      7.243642\n",
              "4427  16.659076     13.312184\n",
              "4428  22.924694     16.659076\n",
              "4429  23.799019     22.924694\n",
              "4430  27.434203     23.799019\n",
              "\n",
              "[4431 rows x 2 columns]"
            ],
            "text/html": [
              "\n",
              "  <div id=\"df-9bd5d270-53de-4003-856f-d0d8a8616ea8\">\n",
              "    <div class=\"colab-df-container\">\n",
              "      <div>\n",
              "<style scoped>\n",
              "    .dataframe tbody tr th:only-of-type {\n",
              "        vertical-align: middle;\n",
              "    }\n",
              "\n",
              "    .dataframe tbody tr th {\n",
              "        vertical-align: top;\n",
              "    }\n",
              "\n",
              "    .dataframe thead th {\n",
              "        text-align: right;\n",
              "    }\n",
              "</style>\n",
              "<table border=\"1\" class=\"dataframe\">\n",
              "  <thead>\n",
              "    <tr style=\"text-align: right;\">\n",
              "      <th></th>\n",
              "      <th>macd</th>\n",
              "      <th>macd_1_dyago</th>\n",
              "    </tr>\n",
              "  </thead>\n",
              "  <tbody>\n",
              "    <tr>\n",
              "      <th>0</th>\n",
              "      <td>0.000000</td>\n",
              "      <td>NaN</td>\n",
              "    </tr>\n",
              "    <tr>\n",
              "      <th>1</th>\n",
              "      <td>0.039776</td>\n",
              "      <td>0.000000</td>\n",
              "    </tr>\n",
              "    <tr>\n",
              "      <th>2</th>\n",
              "      <td>0.047941</td>\n",
              "      <td>0.039776</td>\n",
              "    </tr>\n",
              "    <tr>\n",
              "      <th>3</th>\n",
              "      <td>-0.012082</td>\n",
              "      <td>0.047941</td>\n",
              "    </tr>\n",
              "    <tr>\n",
              "      <th>4</th>\n",
              "      <td>-0.018911</td>\n",
              "      <td>-0.012082</td>\n",
              "    </tr>\n",
              "    <tr>\n",
              "      <th>...</th>\n",
              "      <td>...</td>\n",
              "      <td>...</td>\n",
              "    </tr>\n",
              "    <tr>\n",
              "      <th>4426</th>\n",
              "      <td>13.312184</td>\n",
              "      <td>7.243642</td>\n",
              "    </tr>\n",
              "    <tr>\n",
              "      <th>4427</th>\n",
              "      <td>16.659076</td>\n",
              "      <td>13.312184</td>\n",
              "    </tr>\n",
              "    <tr>\n",
              "      <th>4428</th>\n",
              "      <td>22.924694</td>\n",
              "      <td>16.659076</td>\n",
              "    </tr>\n",
              "    <tr>\n",
              "      <th>4429</th>\n",
              "      <td>23.799019</td>\n",
              "      <td>22.924694</td>\n",
              "    </tr>\n",
              "    <tr>\n",
              "      <th>4430</th>\n",
              "      <td>27.434203</td>\n",
              "      <td>23.799019</td>\n",
              "    </tr>\n",
              "  </tbody>\n",
              "</table>\n",
              "<p>4431 rows × 2 columns</p>\n",
              "</div>\n",
              "      <button class=\"colab-df-convert\" onclick=\"convertToInteractive('df-9bd5d270-53de-4003-856f-d0d8a8616ea8')\"\n",
              "              title=\"Convert this dataframe to an interactive table.\"\n",
              "              style=\"display:none;\">\n",
              "        \n",
              "  <svg xmlns=\"http://www.w3.org/2000/svg\" height=\"24px\"viewBox=\"0 0 24 24\"\n",
              "       width=\"24px\">\n",
              "    <path d=\"M0 0h24v24H0V0z\" fill=\"none\"/>\n",
              "    <path d=\"M18.56 5.44l.94 2.06.94-2.06 2.06-.94-2.06-.94-.94-2.06-.94 2.06-2.06.94zm-11 1L8.5 8.5l.94-2.06 2.06-.94-2.06-.94L8.5 2.5l-.94 2.06-2.06.94zm10 10l.94 2.06.94-2.06 2.06-.94-2.06-.94-.94-2.06-.94 2.06-2.06.94z\"/><path d=\"M17.41 7.96l-1.37-1.37c-.4-.4-.92-.59-1.43-.59-.52 0-1.04.2-1.43.59L10.3 9.45l-7.72 7.72c-.78.78-.78 2.05 0 2.83L4 21.41c.39.39.9.59 1.41.59.51 0 1.02-.2 1.41-.59l7.78-7.78 2.81-2.81c.8-.78.8-2.07 0-2.86zM5.41 20L4 18.59l7.72-7.72 1.47 1.35L5.41 20z\"/>\n",
              "  </svg>\n",
              "      </button>\n",
              "      \n",
              "  <style>\n",
              "    .colab-df-container {\n",
              "      display:flex;\n",
              "      flex-wrap:wrap;\n",
              "      gap: 12px;\n",
              "    }\n",
              "\n",
              "    .colab-df-convert {\n",
              "      background-color: #E8F0FE;\n",
              "      border: none;\n",
              "      border-radius: 50%;\n",
              "      cursor: pointer;\n",
              "      display: none;\n",
              "      fill: #1967D2;\n",
              "      height: 32px;\n",
              "      padding: 0 0 0 0;\n",
              "      width: 32px;\n",
              "    }\n",
              "\n",
              "    .colab-df-convert:hover {\n",
              "      background-color: #E2EBFA;\n",
              "      box-shadow: 0px 1px 2px rgba(60, 64, 67, 0.3), 0px 1px 3px 1px rgba(60, 64, 67, 0.15);\n",
              "      fill: #174EA6;\n",
              "    }\n",
              "\n",
              "    [theme=dark] .colab-df-convert {\n",
              "      background-color: #3B4455;\n",
              "      fill: #D2E3FC;\n",
              "    }\n",
              "\n",
              "    [theme=dark] .colab-df-convert:hover {\n",
              "      background-color: #434B5C;\n",
              "      box-shadow: 0px 1px 3px 1px rgba(0, 0, 0, 0.15);\n",
              "      filter: drop-shadow(0px 1px 2px rgba(0, 0, 0, 0.3));\n",
              "      fill: #FFFFFF;\n",
              "    }\n",
              "  </style>\n",
              "\n",
              "      <script>\n",
              "        const buttonEl =\n",
              "          document.querySelector('#df-9bd5d270-53de-4003-856f-d0d8a8616ea8 button.colab-df-convert');\n",
              "        buttonEl.style.display =\n",
              "          google.colab.kernel.accessAllowed ? 'block' : 'none';\n",
              "\n",
              "        async function convertToInteractive(key) {\n",
              "          const element = document.querySelector('#df-9bd5d270-53de-4003-856f-d0d8a8616ea8');\n",
              "          const dataTable =\n",
              "            await google.colab.kernel.invokeFunction('convertToInteractive',\n",
              "                                                     [key], {});\n",
              "          if (!dataTable) return;\n",
              "\n",
              "          const docLinkHtml = 'Like what you see? Visit the ' +\n",
              "            '<a target=\"_blank\" href=https://colab.research.google.com/notebooks/data_table.ipynb>data table notebook</a>'\n",
              "            + ' to learn more about interactive tables.';\n",
              "          element.innerHTML = '';\n",
              "          dataTable['output_type'] = 'display_data';\n",
              "          await google.colab.output.renderOutput(dataTable, element);\n",
              "          const docLink = document.createElement('div');\n",
              "          docLink.innerHTML = docLinkHtml;\n",
              "          element.appendChild(docLink);\n",
              "        }\n",
              "      </script>\n",
              "    </div>\n",
              "  </div>\n",
              "  "
            ]
          },
          "metadata": {},
          "execution_count": 20
        }
      ]
    },
    {
      "cell_type": "markdown",
      "source": [
        "## drop null"
      ],
      "metadata": {
        "id": "m0axXY53YnQs"
      }
    },
    {
      "cell_type": "code",
      "source": [
        "df = df.dropna()"
      ],
      "metadata": {
        "id": "6voH7UzQm6Kz"
      },
      "execution_count": 21,
      "outputs": []
    },
    {
      "cell_type": "markdown",
      "source": [
        "# Modeling"
      ],
      "metadata": {
        "id": "0rYvtxfoN-ii"
      }
    },
    {
      "cell_type": "markdown",
      "source": [
        "## train test split"
      ],
      "metadata": {
        "id": "Y6ImLCfDOvq6"
      }
    },
    {
      "cell_type": "code",
      "source": [
        "df.columns"
      ],
      "metadata": {
        "colab": {
          "base_uri": "https://localhost:8080/"
        },
        "id": "Sl3OeOwiPPIq",
        "outputId": "61ff4214-4ccd-441c-9df1-9d5c010fd89e"
      },
      "execution_count": 22,
      "outputs": [
        {
          "output_type": "execute_result",
          "data": {
            "text/plain": [
              "Index(['Date', 'Open', 'High', 'Low', 'Close', 'Adj Close', 'Volume', 'ema_12',\n",
              "       'ema_26', 'macd_fast', 'slow_macd', 'macd', 'Gain', 'Loss', 'AVG_Gain',\n",
              "       'AVG_Loss', 'RS', 'rsi', 'Close_pct_chng', 'macd_1_dyago',\n",
              "       'macd_2_dyago', 'macd_3_dyago', 'macd_4_dyago', 'macd_5_dyago',\n",
              "       'macd_6_dyago', 'macd_7_dyago', 'macd_8_dyago', 'macd_9_dyago',\n",
              "       'macd_10_dyago', 'rsi_1_dyago', 'rsi_2_dyago', 'rsi_3_dyago',\n",
              "       'rsi_4_dyago', 'rsi_5_dyago', 'rsi_6_dyago', 'rsi_7_dyago',\n",
              "       'rsi_8_dyago', 'rsi_9_dyago', 'rsi_10_dyago'],\n",
              "      dtype='object')"
            ]
          },
          "metadata": {},
          "execution_count": 22
        }
      ]
    },
    {
      "cell_type": "code",
      "source": [
        "features = ['macd_1_dyago', 'macd_2_dyago', 'macd_3_dyago',\n",
        "        'macd_4_dyago', 'macd_5_dyago', 'macd_6_dyago', 'macd_7_dyago',\n",
        "        'macd_8_dyago', 'macd_9_dyago','macd_10_dyago',\n",
        "        'rsi_1_dyago', 'rsi_2_dyago', 'rsi_3_dyago',\n",
        "        'rsi_4_dyago', 'rsi_5_dyago', 'rsi_6_dyago', 'rsi_7_dyago',\n",
        "        'rsi_8_dyago', 'rsi_9_dyago', 'rsi_10_dyago']\n",
        "target = ['Close_pct_chng']"
      ],
      "metadata": {
        "id": "p1JeApu-PQ4v"
      },
      "execution_count": 23,
      "outputs": []
    },
    {
      "cell_type": "code",
      "source": [
        "split_ind = 4000"
      ],
      "metadata": {
        "id": "rv-B4wVbRHlu"
      },
      "execution_count": 24,
      "outputs": []
    },
    {
      "cell_type": "code",
      "source": [
        "df_tr = df.iloc[5:split_ind]\n",
        "df_ts = df.iloc[split_ind:]"
      ],
      "metadata": {
        "id": "iHEk4Ao7PQz-"
      },
      "execution_count": 25,
      "outputs": []
    },
    {
      "cell_type": "code",
      "source": [
        "df_tr.isnull().sum()"
      ],
      "metadata": {
        "colab": {
          "base_uri": "https://localhost:8080/"
        },
        "id": "n49wicadmDcF",
        "outputId": "98356d33-a2ce-4e49-8c4f-3379e24ca7c9"
      },
      "execution_count": 26,
      "outputs": [
        {
          "output_type": "execute_result",
          "data": {
            "text/plain": [
              "Date              0\n",
              "Open              0\n",
              "High              0\n",
              "Low               0\n",
              "Close             0\n",
              "Adj Close         0\n",
              "Volume            0\n",
              "ema_12            0\n",
              "ema_26            0\n",
              "macd_fast         0\n",
              "slow_macd         0\n",
              "macd              0\n",
              "Gain              0\n",
              "Loss              0\n",
              "AVG_Gain          0\n",
              "AVG_Loss          0\n",
              "RS                0\n",
              "rsi               0\n",
              "Close_pct_chng    0\n",
              "macd_1_dyago      0\n",
              "macd_2_dyago      0\n",
              "macd_3_dyago      0\n",
              "macd_4_dyago      0\n",
              "macd_5_dyago      0\n",
              "macd_6_dyago      0\n",
              "macd_7_dyago      0\n",
              "macd_8_dyago      0\n",
              "macd_9_dyago      0\n",
              "macd_10_dyago     0\n",
              "rsi_1_dyago       0\n",
              "rsi_2_dyago       0\n",
              "rsi_3_dyago       0\n",
              "rsi_4_dyago       0\n",
              "rsi_5_dyago       0\n",
              "rsi_6_dyago       0\n",
              "rsi_7_dyago       0\n",
              "rsi_8_dyago       0\n",
              "rsi_9_dyago       0\n",
              "rsi_10_dyago      0\n",
              "dtype: int64"
            ]
          },
          "metadata": {},
          "execution_count": 26
        }
      ]
    },
    {
      "cell_type": "code",
      "source": [
        "x_tr = df_tr[features]\n",
        "y_tr = df_tr[target]\n",
        "\n",
        "x_ts = df_ts[features]\n",
        "y_ts = df_ts[target]"
      ],
      "metadata": {
        "id": "85-KlvMzPQxA"
      },
      "execution_count": 27,
      "outputs": []
    },
    {
      "cell_type": "code",
      "source": [
        "print(x_tr.shape)\n",
        "print(x_ts.shape)"
      ],
      "metadata": {
        "colab": {
          "base_uri": "https://localhost:8080/"
        },
        "id": "TrEYLzBFRpsC",
        "outputId": "128a0b03-bf26-41a8-b678-65c4259ecbe0"
      },
      "execution_count": 28,
      "outputs": [
        {
          "output_type": "stream",
          "name": "stdout",
          "text": [
            "(3995, 20)\n",
            "(407, 20)\n"
          ]
        }
      ]
    },
    {
      "cell_type": "markdown",
      "source": [
        "## standardize"
      ],
      "metadata": {
        "id": "fmO6oY_3TLXb"
      }
    },
    {
      "cell_type": "code",
      "source": [
        "std_scaler = StandardScaler().fit(x_tr)\n",
        "x_tr = std_scaler.transform(x_tr)\n",
        "x_ts = std_scaler.transform(x_ts)"
      ],
      "metadata": {
        "id": "j95tRA9aTPYr"
      },
      "execution_count": 29,
      "outputs": []
    },
    {
      "cell_type": "code",
      "source": [
        "dim = x_tr.shape[1]\n",
        "dim"
      ],
      "metadata": {
        "id": "8dfyScwVULx6",
        "colab": {
          "base_uri": "https://localhost:8080/"
        },
        "outputId": "a68f065b-1645-4621-b66b-0b8edd8837f9"
      },
      "execution_count": 30,
      "outputs": [
        {
          "output_type": "execute_result",
          "data": {
            "text/plain": [
              "20"
            ]
          },
          "metadata": {},
          "execution_count": 30
        }
      ]
    },
    {
      "cell_type": "markdown",
      "source": [
        "## architecture"
      ],
      "metadata": {
        "id": "sGCB9h7AOCLm"
      }
    },
    {
      "cell_type": "code",
      "source": [
        "dense_act = 'elu'\n",
        "recur_act = 'tanh'\n",
        "eps = 500\n",
        "lrning_rt = .001\n",
        "ls = 'mae'\n",
        "opt = tf.keras.optimizers.SGD(learning_rate=lrning_rt)"
      ],
      "metadata": {
        "id": "E7xVL1VwNuUL"
      },
      "execution_count": 31,
      "outputs": []
    },
    {
      "cell_type": "code",
      "source": [
        "model = tf.keras.models.Sequential([\n",
        "                                    tf.keras.layers.LSTM(13, recurrent_activation=recur_act, input_shape=[dim,1]),\n",
        "                                    tf.keras.layers.Dropout(.2),\n",
        "                                    tf.keras.layers.Dense(16, activation=dense_act),\n",
        "                                    tf.keras.layers.Dense(8, activation=dense_act),\n",
        "                                    tf.keras.layers.Dropout(.2),\n",
        "                                    tf.keras.layers.Dense(12, activation=dense_act),\n",
        "                                    tf.keras.layers.Dense(1)\n",
        "])\n",
        "model.compile(loss=ls, optimizer=opt)#, metrics=['mse']"
      ],
      "metadata": {
        "id": "uQacej4gOmNj",
        "colab": {
          "base_uri": "https://localhost:8080/"
        },
        "outputId": "aba75fb1-d89c-4e79-80f2-28cbf7ad0fea"
      },
      "execution_count": 32,
      "outputs": [
        {
          "output_type": "stream",
          "name": "stderr",
          "text": [
            "WARNING:tensorflow:Layer lstm will not use cuDNN kernels since it doesn't meet the criteria. It will use a generic GPU kernel as fallback when running on GPU.\n"
          ]
        }
      ]
    },
    {
      "cell_type": "code",
      "source": [
        "history = model.fit(x_tr, y_tr, \n",
        "          validation_split=.2,\n",
        "          epochs=eps, batch_size=1024)"
      ],
      "metadata": {
        "colab": {
          "base_uri": "https://localhost:8080/"
        },
        "id": "tF95NbgbUwUi",
        "outputId": "d01fed7f-12ae-4901-aef0-1b957771fa56"
      },
      "execution_count": 33,
      "outputs": [
        {
          "output_type": "stream",
          "name": "stdout",
          "text": [
            "Epoch 1/500\n",
            "4/4 [==============================] - 13s 612ms/step - loss: 0.0220 - val_loss: 0.0149\n",
            "Epoch 2/500\n",
            "4/4 [==============================] - 0s 44ms/step - loss: 0.0219 - val_loss: 0.0148\n",
            "Epoch 3/500\n",
            "4/4 [==============================] - 0s 38ms/step - loss: 0.0219 - val_loss: 0.0148\n",
            "Epoch 4/500\n",
            "4/4 [==============================] - 0s 39ms/step - loss: 0.0224 - val_loss: 0.0148\n",
            "Epoch 5/500\n",
            "4/4 [==============================] - 0s 40ms/step - loss: 0.0226 - val_loss: 0.0147\n",
            "Epoch 6/500\n",
            "4/4 [==============================] - 0s 41ms/step - loss: 0.0220 - val_loss: 0.0147\n",
            "Epoch 7/500\n",
            "4/4 [==============================] - 1s 295ms/step - loss: 0.0220 - val_loss: 0.0147\n",
            "Epoch 8/500\n",
            "4/4 [==============================] - 1s 317ms/step - loss: 0.0215 - val_loss: 0.0147\n",
            "Epoch 9/500\n",
            "4/4 [==============================] - 2s 610ms/step - loss: 0.0218 - val_loss: 0.0147\n",
            "Epoch 10/500\n",
            "4/4 [==============================] - 0s 146ms/step - loss: 0.0219 - val_loss: 0.0147\n",
            "Epoch 11/500\n",
            "4/4 [==============================] - 0s 42ms/step - loss: 0.0213 - val_loss: 0.0147\n",
            "Epoch 12/500\n",
            "4/4 [==============================] - 0s 41ms/step - loss: 0.0219 - val_loss: 0.0146\n",
            "Epoch 13/500\n",
            "4/4 [==============================] - 0s 42ms/step - loss: 0.0211 - val_loss: 0.0146\n",
            "Epoch 14/500\n",
            "4/4 [==============================] - 0s 41ms/step - loss: 0.0216 - val_loss: 0.0146\n",
            "Epoch 15/500\n",
            "4/4 [==============================] - 0s 44ms/step - loss: 0.0220 - val_loss: 0.0146\n",
            "Epoch 16/500\n",
            "4/4 [==============================] - 0s 38ms/step - loss: 0.0216 - val_loss: 0.0146\n",
            "Epoch 17/500\n",
            "4/4 [==============================] - 0s 40ms/step - loss: 0.0216 - val_loss: 0.0146\n",
            "Epoch 18/500\n",
            "4/4 [==============================] - 0s 40ms/step - loss: 0.0216 - val_loss: 0.0146\n",
            "Epoch 19/500\n",
            "4/4 [==============================] - 0s 40ms/step - loss: 0.0211 - val_loss: 0.0145\n",
            "Epoch 20/500\n",
            "4/4 [==============================] - 0s 47ms/step - loss: 0.0206 - val_loss: 0.0145\n",
            "Epoch 21/500\n",
            "4/4 [==============================] - 2s 622ms/step - loss: 0.0214 - val_loss: 0.0145\n",
            "Epoch 22/500\n",
            "4/4 [==============================] - 1s 315ms/step - loss: 0.0214 - val_loss: 0.0145\n",
            "Epoch 23/500\n",
            "4/4 [==============================] - 1s 422ms/step - loss: 0.0223 - val_loss: 0.0145\n",
            "Epoch 24/500\n",
            "4/4 [==============================] - 0s 40ms/step - loss: 0.0222 - val_loss: 0.0145\n",
            "Epoch 25/500\n",
            "4/4 [==============================] - 0s 43ms/step - loss: 0.0215 - val_loss: 0.0145\n",
            "Epoch 26/500\n",
            "4/4 [==============================] - 0s 40ms/step - loss: 0.0218 - val_loss: 0.0145\n",
            "Epoch 27/500\n",
            "4/4 [==============================] - 0s 40ms/step - loss: 0.0213 - val_loss: 0.0144\n",
            "Epoch 28/500\n",
            "4/4 [==============================] - 0s 39ms/step - loss: 0.0218 - val_loss: 0.0144\n",
            "Epoch 29/500\n",
            "4/4 [==============================] - 0s 45ms/step - loss: 0.0210 - val_loss: 0.0144\n",
            "Epoch 30/500\n",
            "4/4 [==============================] - 0s 39ms/step - loss: 0.0211 - val_loss: 0.0144\n",
            "Epoch 31/500\n",
            "4/4 [==============================] - 0s 39ms/step - loss: 0.0212 - val_loss: 0.0144\n",
            "Epoch 32/500\n",
            "4/4 [==============================] - 0s 40ms/step - loss: 0.0212 - val_loss: 0.0144\n",
            "Epoch 33/500\n",
            "4/4 [==============================] - 1s 325ms/step - loss: 0.0211 - val_loss: 0.0144\n",
            "Epoch 34/500\n",
            "4/4 [==============================] - 2s 609ms/step - loss: 0.0214 - val_loss: 0.0144\n",
            "Epoch 35/500\n",
            "4/4 [==============================] - 0s 128ms/step - loss: 0.0212 - val_loss: 0.0143\n",
            "Epoch 36/500\n",
            "4/4 [==============================] - 0s 40ms/step - loss: 0.0212 - val_loss: 0.0143\n",
            "Epoch 37/500\n",
            "4/4 [==============================] - 0s 43ms/step - loss: 0.0212 - val_loss: 0.0143\n",
            "Epoch 38/500\n",
            "4/4 [==============================] - 0s 40ms/step - loss: 0.0205 - val_loss: 0.0143\n",
            "Epoch 39/500\n",
            "4/4 [==============================] - 0s 38ms/step - loss: 0.0213 - val_loss: 0.0143\n",
            "Epoch 40/500\n",
            "4/4 [==============================] - 1s 301ms/step - loss: 0.0213 - val_loss: 0.0143\n",
            "Epoch 41/500\n",
            "4/4 [==============================] - 0s 135ms/step - loss: 0.0210 - val_loss: 0.0143\n",
            "Epoch 42/500\n",
            "4/4 [==============================] - 0s 40ms/step - loss: 0.0205 - val_loss: 0.0142\n",
            "Epoch 43/500\n",
            "4/4 [==============================] - 0s 44ms/step - loss: 0.0208 - val_loss: 0.0142\n",
            "Epoch 44/500\n",
            "4/4 [==============================] - 0s 65ms/step - loss: 0.0210 - val_loss: 0.0142\n",
            "Epoch 45/500\n",
            "4/4 [==============================] - 1s 346ms/step - loss: 0.0211 - val_loss: 0.0142\n",
            "Epoch 46/500\n",
            "4/4 [==============================] - 2s 623ms/step - loss: 0.0211 - val_loss: 0.0142\n",
            "Epoch 47/500\n",
            "4/4 [==============================] - 1s 338ms/step - loss: 0.0213 - val_loss: 0.0142\n",
            "Epoch 48/500\n",
            "4/4 [==============================] - 0s 146ms/step - loss: 0.0205 - val_loss: 0.0142\n",
            "Epoch 49/500\n",
            "4/4 [==============================] - 0s 41ms/step - loss: 0.0208 - val_loss: 0.0142\n",
            "Epoch 50/500\n",
            "4/4 [==============================] - 0s 38ms/step - loss: 0.0212 - val_loss: 0.0142\n",
            "Epoch 51/500\n",
            "4/4 [==============================] - 0s 40ms/step - loss: 0.0206 - val_loss: 0.0142\n",
            "Epoch 52/500\n",
            "4/4 [==============================] - 0s 44ms/step - loss: 0.0206 - val_loss: 0.0141\n",
            "Epoch 53/500\n",
            "4/4 [==============================] - 0s 43ms/step - loss: 0.0210 - val_loss: 0.0141\n",
            "Epoch 54/500\n",
            "4/4 [==============================] - 2s 584ms/step - loss: 0.0207 - val_loss: 0.0141\n",
            "Epoch 55/500\n",
            "4/4 [==============================] - 1s 323ms/step - loss: 0.0211 - val_loss: 0.0141\n",
            "Epoch 56/500\n",
            "4/4 [==============================] - 1s 429ms/step - loss: 0.0205 - val_loss: 0.0141\n",
            "Epoch 57/500\n",
            "4/4 [==============================] - 0s 41ms/step - loss: 0.0206 - val_loss: 0.0141\n",
            "Epoch 58/500\n",
            "4/4 [==============================] - 0s 42ms/step - loss: 0.0211 - val_loss: 0.0141\n",
            "Epoch 59/500\n",
            "4/4 [==============================] - 0s 41ms/step - loss: 0.0207 - val_loss: 0.0141\n",
            "Epoch 60/500\n",
            "4/4 [==============================] - 0s 43ms/step - loss: 0.0208 - val_loss: 0.0140\n",
            "Epoch 61/500\n",
            "4/4 [==============================] - 0s 138ms/step - loss: 0.0210 - val_loss: 0.0140\n",
            "Epoch 62/500\n",
            "4/4 [==============================] - 0s 39ms/step - loss: 0.0208 - val_loss: 0.0140\n",
            "Epoch 63/500\n",
            "4/4 [==============================] - 0s 38ms/step - loss: 0.0204 - val_loss: 0.0140\n",
            "Epoch 64/500\n",
            "4/4 [==============================] - 0s 43ms/step - loss: 0.0206 - val_loss: 0.0140\n",
            "Epoch 65/500\n",
            "4/4 [==============================] - 0s 41ms/step - loss: 0.0207 - val_loss: 0.0140\n",
            "Epoch 66/500\n",
            "4/4 [==============================] - 0s 39ms/step - loss: 0.0206 - val_loss: 0.0140\n",
            "Epoch 67/500\n",
            "4/4 [==============================] - 3s 916ms/step - loss: 0.0202 - val_loss: 0.0140\n",
            "Epoch 68/500\n",
            "4/4 [==============================] - 1s 326ms/step - loss: 0.0209 - val_loss: 0.0140\n",
            "Epoch 69/500\n",
            "4/4 [==============================] - 1s 420ms/step - loss: 0.0208 - val_loss: 0.0140\n",
            "Epoch 70/500\n",
            "4/4 [==============================] - 0s 45ms/step - loss: 0.0202 - val_loss: 0.0140\n",
            "Epoch 71/500\n",
            "4/4 [==============================] - 0s 39ms/step - loss: 0.0202 - val_loss: 0.0139\n",
            "Epoch 72/500\n",
            "4/4 [==============================] - 0s 40ms/step - loss: 0.0210 - val_loss: 0.0140\n",
            "Epoch 73/500\n",
            "4/4 [==============================] - 0s 59ms/step - loss: 0.0205 - val_loss: 0.0139\n",
            "Epoch 74/500\n",
            "4/4 [==============================] - 0s 41ms/step - loss: 0.0206 - val_loss: 0.0139\n",
            "Epoch 75/500\n",
            "4/4 [==============================] - 1s 291ms/step - loss: 0.0205 - val_loss: 0.0139\n",
            "Epoch 76/500\n",
            "4/4 [==============================] - 2s 597ms/step - loss: 0.0198 - val_loss: 0.0139\n",
            "Epoch 77/500\n",
            "4/4 [==============================] - 1s 328ms/step - loss: 0.0206 - val_loss: 0.0139\n",
            "Epoch 78/500\n",
            "4/4 [==============================] - 0s 141ms/step - loss: 0.0201 - val_loss: 0.0139\n",
            "Epoch 79/500\n",
            "4/4 [==============================] - 0s 41ms/step - loss: 0.0205 - val_loss: 0.0139\n",
            "Epoch 80/500\n",
            "4/4 [==============================] - 0s 44ms/step - loss: 0.0200 - val_loss: 0.0139\n",
            "Epoch 81/500\n",
            "4/4 [==============================] - 0s 38ms/step - loss: 0.0206 - val_loss: 0.0138\n",
            "Epoch 82/500\n",
            "4/4 [==============================] - 0s 43ms/step - loss: 0.0196 - val_loss: 0.0138\n",
            "Epoch 83/500\n",
            "4/4 [==============================] - 0s 40ms/step - loss: 0.0203 - val_loss: 0.0138\n",
            "Epoch 84/500\n",
            "4/4 [==============================] - 0s 40ms/step - loss: 0.0204 - val_loss: 0.0139\n",
            "Epoch 85/500\n",
            "4/4 [==============================] - 0s 38ms/step - loss: 0.0201 - val_loss: 0.0138\n",
            "Epoch 86/500\n",
            "4/4 [==============================] - 0s 41ms/step - loss: 0.0199 - val_loss: 0.0138\n",
            "Epoch 87/500\n",
            "4/4 [==============================] - 0s 38ms/step - loss: 0.0204 - val_loss: 0.0138\n",
            "Epoch 88/500\n",
            "4/4 [==============================] - 0s 43ms/step - loss: 0.0202 - val_loss: 0.0138\n",
            "Epoch 89/500\n",
            "4/4 [==============================] - 2s 617ms/step - loss: 0.0199 - val_loss: 0.0138\n",
            "Epoch 90/500\n",
            "4/4 [==============================] - 1s 327ms/step - loss: 0.0201 - val_loss: 0.0138\n",
            "Epoch 91/500\n",
            "4/4 [==============================] - 0s 142ms/step - loss: 0.0196 - val_loss: 0.0138\n",
            "Epoch 92/500\n",
            "4/4 [==============================] - 0s 39ms/step - loss: 0.0208 - val_loss: 0.0138\n",
            "Epoch 93/500\n",
            "4/4 [==============================] - 0s 41ms/step - loss: 0.0205 - val_loss: 0.0137\n",
            "Epoch 94/500\n",
            "4/4 [==============================] - 0s 39ms/step - loss: 0.0202 - val_loss: 0.0137\n",
            "Epoch 95/500\n",
            "4/4 [==============================] - 0s 41ms/step - loss: 0.0201 - val_loss: 0.0137\n",
            "Epoch 96/500\n",
            "4/4 [==============================] - 0s 41ms/step - loss: 0.0200 - val_loss: 0.0137\n",
            "Epoch 97/500\n",
            "4/4 [==============================] - 1s 309ms/step - loss: 0.0202 - val_loss: 0.0137\n",
            "Epoch 98/500\n",
            "4/4 [==============================] - 2s 592ms/step - loss: 0.0199 - val_loss: 0.0137\n",
            "Epoch 99/500\n",
            "4/4 [==============================] - 1s 331ms/step - loss: 0.0197 - val_loss: 0.0137\n",
            "Epoch 100/500\n",
            "4/4 [==============================] - 0s 143ms/step - loss: 0.0199 - val_loss: 0.0137\n",
            "Epoch 101/500\n",
            "4/4 [==============================] - 0s 38ms/step - loss: 0.0200 - val_loss: 0.0138\n",
            "Epoch 102/500\n",
            "4/4 [==============================] - 0s 38ms/step - loss: 0.0198 - val_loss: 0.0137\n",
            "Epoch 103/500\n",
            "4/4 [==============================] - 0s 39ms/step - loss: 0.0204 - val_loss: 0.0137\n",
            "Epoch 104/500\n",
            "4/4 [==============================] - 0s 41ms/step - loss: 0.0203 - val_loss: 0.0136\n",
            "Epoch 105/500\n",
            "4/4 [==============================] - 0s 42ms/step - loss: 0.0199 - val_loss: 0.0136\n",
            "Epoch 106/500\n",
            "4/4 [==============================] - 0s 39ms/step - loss: 0.0198 - val_loss: 0.0136\n",
            "Epoch 107/500\n",
            "4/4 [==============================] - 0s 40ms/step - loss: 0.0200 - val_loss: 0.0137\n",
            "Epoch 108/500\n",
            "4/4 [==============================] - 0s 39ms/step - loss: 0.0195 - val_loss: 0.0137\n",
            "Epoch 109/500\n",
            "4/4 [==============================] - 0s 38ms/step - loss: 0.0195 - val_loss: 0.0136\n",
            "Epoch 110/500\n",
            "4/4 [==============================] - 0s 41ms/step - loss: 0.0202 - val_loss: 0.0136\n",
            "Epoch 111/500\n",
            "4/4 [==============================] - 2s 588ms/step - loss: 0.0198 - val_loss: 0.0136\n",
            "Epoch 112/500\n",
            "4/4 [==============================] - 2s 636ms/step - loss: 0.0198 - val_loss: 0.0136\n",
            "Epoch 113/500\n",
            "4/4 [==============================] - 2s 607ms/step - loss: 0.0196 - val_loss: 0.0136\n",
            "Epoch 114/500\n",
            "4/4 [==============================] - 0s 145ms/step - loss: 0.0194 - val_loss: 0.0136\n",
            "Epoch 115/500\n",
            "4/4 [==============================] - 0s 46ms/step - loss: 0.0198 - val_loss: 0.0136\n",
            "Epoch 116/500\n",
            "4/4 [==============================] - 0s 39ms/step - loss: 0.0199 - val_loss: 0.0136\n",
            "Epoch 117/500\n",
            "4/4 [==============================] - 0s 41ms/step - loss: 0.0198 - val_loss: 0.0136\n",
            "Epoch 118/500\n",
            "4/4 [==============================] - 0s 40ms/step - loss: 0.0195 - val_loss: 0.0135\n",
            "Epoch 119/500\n",
            "4/4 [==============================] - 0s 45ms/step - loss: 0.0195 - val_loss: 0.0135\n",
            "Epoch 120/500\n",
            "4/4 [==============================] - 1s 323ms/step - loss: 0.0196 - val_loss: 0.0135\n",
            "Epoch 121/500\n",
            "4/4 [==============================] - 2s 609ms/step - loss: 0.0194 - val_loss: 0.0135\n",
            "Epoch 122/500\n",
            "4/4 [==============================] - 0s 146ms/step - loss: 0.0199 - val_loss: 0.0135\n",
            "Epoch 123/500\n",
            "4/4 [==============================] - 0s 45ms/step - loss: 0.0198 - val_loss: 0.0135\n",
            "Epoch 124/500\n",
            "4/4 [==============================] - 0s 41ms/step - loss: 0.0193 - val_loss: 0.0135\n",
            "Epoch 125/500\n",
            "4/4 [==============================] - 0s 41ms/step - loss: 0.0203 - val_loss: 0.0135\n",
            "Epoch 126/500\n",
            "4/4 [==============================] - 1s 152ms/step - loss: 0.0195 - val_loss: 0.0135\n",
            "Epoch 127/500\n",
            "4/4 [==============================] - 0s 50ms/step - loss: 0.0198 - val_loss: 0.0135\n",
            "Epoch 128/500\n",
            "4/4 [==============================] - 0s 41ms/step - loss: 0.0189 - val_loss: 0.0135\n",
            "Epoch 129/500\n",
            "4/4 [==============================] - 0s 50ms/step - loss: 0.0198 - val_loss: 0.0135\n",
            "Epoch 130/500\n",
            "4/4 [==============================] - 0s 39ms/step - loss: 0.0196 - val_loss: 0.0135\n",
            "Epoch 131/500\n",
            "4/4 [==============================] - 0s 45ms/step - loss: 0.0196 - val_loss: 0.0135\n",
            "Epoch 132/500\n",
            "4/4 [==============================] - 3s 630ms/step - loss: 0.0198 - val_loss: 0.0135\n",
            "Epoch 133/500\n",
            "4/4 [==============================] - 1s 311ms/step - loss: 0.0196 - val_loss: 0.0134\n",
            "Epoch 134/500\n",
            "4/4 [==============================] - 0s 141ms/step - loss: 0.0199 - val_loss: 0.0134\n",
            "Epoch 135/500\n",
            "4/4 [==============================] - 0s 38ms/step - loss: 0.0196 - val_loss: 0.0135\n",
            "Epoch 136/500\n",
            "4/4 [==============================] - 0s 47ms/step - loss: 0.0193 - val_loss: 0.0134\n",
            "Epoch 137/500\n",
            "4/4 [==============================] - 0s 40ms/step - loss: 0.0195 - val_loss: 0.0135\n",
            "Epoch 138/500\n",
            "4/4 [==============================] - 0s 133ms/step - loss: 0.0194 - val_loss: 0.0134\n",
            "Epoch 139/500\n",
            "4/4 [==============================] - 0s 41ms/step - loss: 0.0197 - val_loss: 0.0134\n",
            "Epoch 140/500\n",
            "4/4 [==============================] - 0s 42ms/step - loss: 0.0198 - val_loss: 0.0134\n",
            "Epoch 141/500\n",
            "4/4 [==============================] - 0s 39ms/step - loss: 0.0200 - val_loss: 0.0134\n",
            "Epoch 142/500\n",
            "4/4 [==============================] - 0s 38ms/step - loss: 0.0194 - val_loss: 0.0134\n",
            "Epoch 143/500\n",
            "4/4 [==============================] - 0s 43ms/step - loss: 0.0195 - val_loss: 0.0134\n",
            "Epoch 144/500\n",
            "4/4 [==============================] - 1s 292ms/step - loss: 0.0197 - val_loss: 0.0134\n",
            "Epoch 145/500\n",
            "4/4 [==============================] - 2s 604ms/step - loss: 0.0194 - val_loss: 0.0134\n",
            "Epoch 146/500\n",
            "4/4 [==============================] - 0s 128ms/step - loss: 0.0197 - val_loss: 0.0134\n",
            "Epoch 147/500\n",
            "4/4 [==============================] - 0s 39ms/step - loss: 0.0196 - val_loss: 0.0134\n",
            "Epoch 148/500\n",
            "4/4 [==============================] - 0s 45ms/step - loss: 0.0191 - val_loss: 0.0134\n",
            "Epoch 149/500\n",
            "4/4 [==============================] - 0s 46ms/step - loss: 0.0198 - val_loss: 0.0134\n",
            "Epoch 150/500\n",
            "4/4 [==============================] - 0s 40ms/step - loss: 0.0192 - val_loss: 0.0134\n",
            "Epoch 151/500\n",
            "4/4 [==============================] - 1s 363ms/step - loss: 0.0195 - val_loss: 0.0134\n",
            "Epoch 152/500\n",
            "4/4 [==============================] - 1s 276ms/step - loss: 0.0189 - val_loss: 0.0133\n",
            "Epoch 153/500\n",
            "4/4 [==============================] - 2s 686ms/step - loss: 0.0195 - val_loss: 0.0133\n",
            "Epoch 154/500\n",
            "4/4 [==============================] - 1s 428ms/step - loss: 0.0191 - val_loss: 0.0134\n",
            "Epoch 155/500\n",
            "4/4 [==============================] - 0s 44ms/step - loss: 0.0191 - val_loss: 0.0133\n",
            "Epoch 156/500\n",
            "4/4 [==============================] - 0s 42ms/step - loss: 0.0196 - val_loss: 0.0133\n",
            "Epoch 157/500\n",
            "4/4 [==============================] - 0s 44ms/step - loss: 0.0196 - val_loss: 0.0133\n",
            "Epoch 158/500\n",
            "4/4 [==============================] - 0s 42ms/step - loss: 0.0194 - val_loss: 0.0133\n",
            "Epoch 159/500\n",
            "4/4 [==============================] - 0s 122ms/step - loss: 0.0193 - val_loss: 0.0133\n",
            "Epoch 160/500\n",
            "4/4 [==============================] - 0s 39ms/step - loss: 0.0192 - val_loss: 0.0134\n",
            "Epoch 161/500\n",
            "4/4 [==============================] - 0s 39ms/step - loss: 0.0193 - val_loss: 0.0133\n",
            "Epoch 162/500\n",
            "4/4 [==============================] - 0s 43ms/step - loss: 0.0188 - val_loss: 0.0133\n",
            "Epoch 163/500\n",
            "4/4 [==============================] - 0s 39ms/step - loss: 0.0190 - val_loss: 0.0133\n",
            "Epoch 164/500\n",
            "4/4 [==============================] - 0s 41ms/step - loss: 0.0196 - val_loss: 0.0133\n",
            "Epoch 165/500\n",
            "4/4 [==============================] - 2s 575ms/step - loss: 0.0191 - val_loss: 0.0133\n",
            "Epoch 166/500\n",
            "4/4 [==============================] - 1s 315ms/step - loss: 0.0188 - val_loss: 0.0133\n",
            "Epoch 167/500\n",
            "4/4 [==============================] - 0s 141ms/step - loss: 0.0191 - val_loss: 0.0133\n",
            "Epoch 168/500\n",
            "4/4 [==============================] - 0s 39ms/step - loss: 0.0190 - val_loss: 0.0133\n",
            "Epoch 169/500\n",
            "4/4 [==============================] - 0s 43ms/step - loss: 0.0194 - val_loss: 0.0133\n",
            "Epoch 170/500\n",
            "4/4 [==============================] - 0s 43ms/step - loss: 0.0187 - val_loss: 0.0133\n",
            "Epoch 171/500\n",
            "4/4 [==============================] - 0s 41ms/step - loss: 0.0193 - val_loss: 0.0133\n",
            "Epoch 172/500\n",
            "4/4 [==============================] - 1s 335ms/step - loss: 0.0189 - val_loss: 0.0132\n",
            "Epoch 173/500\n",
            "4/4 [==============================] - 2s 613ms/step - loss: 0.0192 - val_loss: 0.0132\n",
            "Epoch 174/500\n",
            "4/4 [==============================] - 2s 659ms/step - loss: 0.0191 - val_loss: 0.0132\n",
            "Epoch 175/500\n",
            "4/4 [==============================] - 1s 325ms/step - loss: 0.0190 - val_loss: 0.0132\n",
            "Epoch 176/500\n",
            "4/4 [==============================] - 1s 424ms/step - loss: 0.0193 - val_loss: 0.0132\n",
            "Epoch 177/500\n",
            "4/4 [==============================] - 0s 39ms/step - loss: 0.0194 - val_loss: 0.0133\n",
            "Epoch 178/500\n",
            "4/4 [==============================] - 0s 39ms/step - loss: 0.0191 - val_loss: 0.0132\n",
            "Epoch 179/500\n",
            "4/4 [==============================] - 0s 43ms/step - loss: 0.0189 - val_loss: 0.0132\n",
            "Epoch 180/500\n",
            "4/4 [==============================] - 0s 39ms/step - loss: 0.0192 - val_loss: 0.0132\n",
            "Epoch 181/500\n",
            "4/4 [==============================] - 0s 41ms/step - loss: 0.0189 - val_loss: 0.0132\n",
            "Epoch 182/500\n",
            "4/4 [==============================] - 1s 315ms/step - loss: 0.0191 - val_loss: 0.0132\n",
            "Epoch 183/500\n",
            "4/4 [==============================] - 2s 600ms/step - loss: 0.0187 - val_loss: 0.0132\n",
            "Epoch 184/500\n",
            "4/4 [==============================] - 0s 135ms/step - loss: 0.0192 - val_loss: 0.0132\n",
            "Epoch 185/500\n",
            "4/4 [==============================] - 0s 42ms/step - loss: 0.0186 - val_loss: 0.0132\n",
            "Epoch 186/500\n",
            "4/4 [==============================] - 0s 42ms/step - loss: 0.0187 - val_loss: 0.0132\n",
            "Epoch 187/500\n",
            "4/4 [==============================] - 0s 42ms/step - loss: 0.0188 - val_loss: 0.0132\n",
            "Epoch 188/500\n",
            "4/4 [==============================] - 0s 40ms/step - loss: 0.0190 - val_loss: 0.0132\n",
            "Epoch 189/500\n",
            "4/4 [==============================] - 1s 406ms/step - loss: 0.0189 - val_loss: 0.0132\n",
            "Epoch 190/500\n",
            "4/4 [==============================] - 0s 40ms/step - loss: 0.0192 - val_loss: 0.0132\n",
            "Epoch 191/500\n",
            "4/4 [==============================] - 0s 41ms/step - loss: 0.0193 - val_loss: 0.0132\n",
            "Epoch 192/500\n",
            "4/4 [==============================] - 0s 47ms/step - loss: 0.0192 - val_loss: 0.0131\n",
            "Epoch 193/500\n",
            "4/4 [==============================] - 0s 47ms/step - loss: 0.0189 - val_loss: 0.0131\n",
            "Epoch 194/500\n",
            "4/4 [==============================] - 0s 43ms/step - loss: 0.0189 - val_loss: 0.0131\n",
            "Epoch 195/500\n",
            "4/4 [==============================] - 1s 314ms/step - loss: 0.0188 - val_loss: 0.0131\n",
            "Epoch 196/500\n",
            "4/4 [==============================] - 2s 646ms/step - loss: 0.0187 - val_loss: 0.0131\n",
            "Epoch 197/500\n",
            "4/4 [==============================] - 1s 324ms/step - loss: 0.0188 - val_loss: 0.0131\n",
            "Epoch 198/500\n",
            "4/4 [==============================] - 2s 615ms/step - loss: 0.0187 - val_loss: 0.0131\n",
            "Epoch 199/500\n",
            "4/4 [==============================] - 1s 329ms/step - loss: 0.0183 - val_loss: 0.0132\n",
            "Epoch 200/500\n",
            "4/4 [==============================] - 0s 145ms/step - loss: 0.0189 - val_loss: 0.0131\n",
            "Epoch 201/500\n",
            "4/4 [==============================] - 0s 39ms/step - loss: 0.0187 - val_loss: 0.0131\n",
            "Epoch 202/500\n",
            "4/4 [==============================] - 0s 40ms/step - loss: 0.0184 - val_loss: 0.0131\n",
            "Epoch 203/500\n",
            "4/4 [==============================] - 0s 41ms/step - loss: 0.0191 - val_loss: 0.0131\n",
            "Epoch 204/500\n",
            "4/4 [==============================] - 0s 39ms/step - loss: 0.0190 - val_loss: 0.0131\n",
            "Epoch 205/500\n",
            "4/4 [==============================] - 0s 44ms/step - loss: 0.0185 - val_loss: 0.0131\n",
            "Epoch 206/500\n",
            "4/4 [==============================] - 2s 586ms/step - loss: 0.0183 - val_loss: 0.0131\n",
            "Epoch 207/500\n",
            "4/4 [==============================] - 1s 334ms/step - loss: 0.0187 - val_loss: 0.0131\n",
            "Epoch 208/500\n",
            "4/4 [==============================] - 1s 175ms/step - loss: 0.0184 - val_loss: 0.0131\n",
            "Epoch 209/500\n",
            "4/4 [==============================] - 0s 71ms/step - loss: 0.0191 - val_loss: 0.0131\n",
            "Epoch 210/500\n",
            "4/4 [==============================] - 0s 68ms/step - loss: 0.0190 - val_loss: 0.0131\n",
            "Epoch 211/500\n",
            "4/4 [==============================] - 1s 346ms/step - loss: 0.0188 - val_loss: 0.0131\n",
            "Epoch 212/500\n",
            "4/4 [==============================] - 1s 420ms/step - loss: 0.0191 - val_loss: 0.0131\n",
            "Epoch 213/500\n",
            "4/4 [==============================] - 0s 44ms/step - loss: 0.0184 - val_loss: 0.0131\n",
            "Epoch 214/500\n",
            "4/4 [==============================] - 0s 42ms/step - loss: 0.0186 - val_loss: 0.0131\n",
            "Epoch 215/500\n",
            "4/4 [==============================] - 0s 41ms/step - loss: 0.0186 - val_loss: 0.0131\n",
            "Epoch 216/500\n",
            "4/4 [==============================] - 0s 44ms/step - loss: 0.0187 - val_loss: 0.0131\n",
            "Epoch 217/500\n",
            "4/4 [==============================] - 0s 41ms/step - loss: 0.0187 - val_loss: 0.0131\n",
            "Epoch 218/500\n",
            "4/4 [==============================] - 0s 39ms/step - loss: 0.0187 - val_loss: 0.0131\n",
            "Epoch 219/500\n",
            "4/4 [==============================] - 1s 310ms/step - loss: 0.0188 - val_loss: 0.0131\n",
            "Epoch 220/500\n",
            "4/4 [==============================] - 2s 624ms/step - loss: 0.0185 - val_loss: 0.0130\n",
            "Epoch 221/500\n",
            "4/4 [==============================] - 1s 329ms/step - loss: 0.0190 - val_loss: 0.0130\n",
            "Epoch 222/500\n",
            "4/4 [==============================] - 0s 138ms/step - loss: 0.0185 - val_loss: 0.0130\n",
            "Epoch 223/500\n",
            "4/4 [==============================] - 0s 43ms/step - loss: 0.0183 - val_loss: 0.0131\n",
            "Epoch 224/500\n",
            "4/4 [==============================] - 0s 43ms/step - loss: 0.0187 - val_loss: 0.0130\n",
            "Epoch 225/500\n",
            "4/4 [==============================] - 0s 43ms/step - loss: 0.0185 - val_loss: 0.0130\n",
            "Epoch 226/500\n",
            "4/4 [==============================] - 0s 47ms/step - loss: 0.0184 - val_loss: 0.0130\n",
            "Epoch 227/500\n",
            "4/4 [==============================] - 0s 42ms/step - loss: 0.0187 - val_loss: 0.0130\n",
            "Epoch 228/500\n",
            "4/4 [==============================] - 1s 350ms/step - loss: 0.0188 - val_loss: 0.0130\n",
            "Epoch 229/500\n",
            "4/4 [==============================] - 2s 642ms/step - loss: 0.0183 - val_loss: 0.0130\n",
            "Epoch 230/500\n",
            "4/4 [==============================] - 1s 315ms/step - loss: 0.0188 - val_loss: 0.0130\n",
            "Epoch 231/500\n",
            "4/4 [==============================] - 0s 145ms/step - loss: 0.0185 - val_loss: 0.0130\n",
            "Epoch 232/500\n",
            "4/4 [==============================] - 0s 42ms/step - loss: 0.0188 - val_loss: 0.0130\n",
            "Epoch 233/500\n",
            "4/4 [==============================] - 0s 44ms/step - loss: 0.0186 - val_loss: 0.0130\n",
            "Epoch 234/500\n",
            "4/4 [==============================] - 0s 40ms/step - loss: 0.0186 - val_loss: 0.0130\n",
            "Epoch 235/500\n",
            "4/4 [==============================] - 0s 47ms/step - loss: 0.0182 - val_loss: 0.0130\n",
            "Epoch 236/500\n",
            "4/4 [==============================] - 1s 322ms/step - loss: 0.0187 - val_loss: 0.0130\n",
            "Epoch 237/500\n",
            "4/4 [==============================] - 2s 595ms/step - loss: 0.0186 - val_loss: 0.0130\n",
            "Epoch 238/500\n",
            "4/4 [==============================] - 0s 130ms/step - loss: 0.0186 - val_loss: 0.0130\n",
            "Epoch 239/500\n",
            "4/4 [==============================] - 0s 42ms/step - loss: 0.0185 - val_loss: 0.0130\n",
            "Epoch 240/500\n",
            "4/4 [==============================] - 0s 41ms/step - loss: 0.0184 - val_loss: 0.0130\n",
            "Epoch 241/500\n",
            "4/4 [==============================] - 0s 44ms/step - loss: 0.0189 - val_loss: 0.0131\n",
            "Epoch 242/500\n",
            "4/4 [==============================] - 0s 46ms/step - loss: 0.0186 - val_loss: 0.0130\n",
            "Epoch 243/500\n",
            "4/4 [==============================] - 1s 411ms/step - loss: 0.0183 - val_loss: 0.0130\n",
            "Epoch 244/500\n",
            "4/4 [==============================] - 0s 39ms/step - loss: 0.0186 - val_loss: 0.0130\n",
            "Epoch 245/500\n",
            "4/4 [==============================] - 0s 39ms/step - loss: 0.0183 - val_loss: 0.0130\n",
            "Epoch 246/500\n",
            "4/4 [==============================] - 0s 39ms/step - loss: 0.0189 - val_loss: 0.0130\n",
            "Epoch 247/500\n",
            "4/4 [==============================] - 0s 41ms/step - loss: 0.0183 - val_loss: 0.0130\n",
            "Epoch 248/500\n",
            "4/4 [==============================] - 0s 44ms/step - loss: 0.0187 - val_loss: 0.0130\n",
            "Epoch 249/500\n",
            "4/4 [==============================] - 1s 294ms/step - loss: 0.0187 - val_loss: 0.0129\n",
            "Epoch 250/500\n",
            "4/4 [==============================] - 3s 966ms/step - loss: 0.0182 - val_loss: 0.0129\n",
            "Epoch 251/500\n",
            "4/4 [==============================] - 1s 141ms/step - loss: 0.0186 - val_loss: 0.0129\n",
            "Epoch 252/500\n",
            "4/4 [==============================] - 0s 41ms/step - loss: 0.0187 - val_loss: 0.0129\n",
            "Epoch 253/500\n",
            "4/4 [==============================] - 0s 39ms/step - loss: 0.0183 - val_loss: 0.0130\n",
            "Epoch 254/500\n",
            "4/4 [==============================] - 0s 38ms/step - loss: 0.0188 - val_loss: 0.0129\n",
            "Epoch 255/500\n",
            "4/4 [==============================] - 0s 41ms/step - loss: 0.0182 - val_loss: 0.0130\n",
            "Epoch 256/500\n",
            "4/4 [==============================] - 0s 43ms/step - loss: 0.0181 - val_loss: 0.0129\n",
            "Epoch 257/500\n",
            "4/4 [==============================] - 1s 301ms/step - loss: 0.0182 - val_loss: 0.0130\n",
            "Epoch 258/500\n",
            "4/4 [==============================] - 2s 600ms/step - loss: 0.0185 - val_loss: 0.0129\n",
            "Epoch 259/500\n",
            "4/4 [==============================] - 0s 132ms/step - loss: 0.0185 - val_loss: 0.0129\n",
            "Epoch 260/500\n",
            "4/4 [==============================] - 0s 40ms/step - loss: 0.0182 - val_loss: 0.0129\n",
            "Epoch 261/500\n",
            "4/4 [==============================] - 0s 39ms/step - loss: 0.0183 - val_loss: 0.0130\n",
            "Epoch 262/500\n",
            "4/4 [==============================] - 0s 39ms/step - loss: 0.0181 - val_loss: 0.0130\n",
            "Epoch 263/500\n",
            "4/4 [==============================] - 0s 41ms/step - loss: 0.0182 - val_loss: 0.0129\n",
            "Epoch 264/500\n",
            "4/4 [==============================] - 1s 325ms/step - loss: 0.0180 - val_loss: 0.0129\n",
            "Epoch 265/500\n",
            "4/4 [==============================] - 1s 428ms/step - loss: 0.0179 - val_loss: 0.0129\n",
            "Epoch 266/500\n",
            "4/4 [==============================] - 0s 48ms/step - loss: 0.0181 - val_loss: 0.0129\n",
            "Epoch 267/500\n",
            "4/4 [==============================] - 0s 46ms/step - loss: 0.0180 - val_loss: 0.0129\n",
            "Epoch 268/500\n",
            "4/4 [==============================] - 0s 42ms/step - loss: 0.0184 - val_loss: 0.0129\n",
            "Epoch 269/500\n",
            "4/4 [==============================] - 0s 49ms/step - loss: 0.0182 - val_loss: 0.0129\n",
            "Epoch 270/500\n",
            "4/4 [==============================] - 1s 385ms/step - loss: 0.0187 - val_loss: 0.0129\n",
            "Epoch 271/500\n",
            "4/4 [==============================] - 1s 316ms/step - loss: 0.0178 - val_loss: 0.0129\n",
            "Epoch 272/500\n",
            "4/4 [==============================] - 0s 154ms/step - loss: 0.0182 - val_loss: 0.0129\n",
            "Epoch 273/500\n",
            "4/4 [==============================] - 0s 44ms/step - loss: 0.0180 - val_loss: 0.0129\n",
            "Epoch 274/500\n",
            "4/4 [==============================] - 0s 44ms/step - loss: 0.0182 - val_loss: 0.0129\n",
            "Epoch 275/500\n",
            "4/4 [==============================] - 0s 47ms/step - loss: 0.0181 - val_loss: 0.0129\n",
            "Epoch 276/500\n",
            "4/4 [==============================] - 0s 42ms/step - loss: 0.0183 - val_loss: 0.0129\n",
            "Epoch 277/500\n",
            "4/4 [==============================] - 0s 45ms/step - loss: 0.0183 - val_loss: 0.0129\n",
            "Epoch 278/500\n",
            "4/4 [==============================] - 1s 321ms/step - loss: 0.0185 - val_loss: 0.0129\n",
            "Epoch 279/500\n",
            "4/4 [==============================] - 1s 415ms/step - loss: 0.0181 - val_loss: 0.0129\n",
            "Epoch 280/500\n",
            "4/4 [==============================] - 0s 42ms/step - loss: 0.0179 - val_loss: 0.0129\n",
            "Epoch 281/500\n",
            "4/4 [==============================] - 0s 42ms/step - loss: 0.0180 - val_loss: 0.0129\n",
            "Epoch 282/500\n",
            "4/4 [==============================] - 0s 42ms/step - loss: 0.0180 - val_loss: 0.0129\n",
            "Epoch 283/500\n",
            "4/4 [==============================] - 0s 45ms/step - loss: 0.0181 - val_loss: 0.0129\n",
            "Epoch 284/500\n",
            "4/4 [==============================] - 0s 44ms/step - loss: 0.0182 - val_loss: 0.0129\n",
            "Epoch 285/500\n",
            "4/4 [==============================] - 1s 310ms/step - loss: 0.0184 - val_loss: 0.0128\n",
            "Epoch 286/500\n",
            "4/4 [==============================] - 2s 622ms/step - loss: 0.0179 - val_loss: 0.0128\n",
            "Epoch 287/500\n",
            "4/4 [==============================] - 1s 210ms/step - loss: 0.0180 - val_loss: 0.0129\n",
            "Epoch 288/500\n",
            "4/4 [==============================] - 0s 87ms/step - loss: 0.0179 - val_loss: 0.0128\n",
            "Epoch 289/500\n",
            "4/4 [==============================] - 2s 660ms/step - loss: 0.0181 - val_loss: 0.0128\n",
            "Epoch 290/500\n",
            "4/4 [==============================] - 1s 424ms/step - loss: 0.0181 - val_loss: 0.0128\n",
            "Epoch 291/500\n",
            "4/4 [==============================] - 0s 47ms/step - loss: 0.0179 - val_loss: 0.0129\n",
            "Epoch 292/500\n",
            "4/4 [==============================] - 0s 39ms/step - loss: 0.0179 - val_loss: 0.0128\n",
            "Epoch 293/500\n",
            "4/4 [==============================] - 0s 40ms/step - loss: 0.0182 - val_loss: 0.0128\n",
            "Epoch 294/500\n",
            "4/4 [==============================] - 0s 41ms/step - loss: 0.0179 - val_loss: 0.0128\n",
            "Epoch 295/500\n",
            "4/4 [==============================] - 0s 41ms/step - loss: 0.0182 - val_loss: 0.0129\n",
            "Epoch 296/500\n",
            "4/4 [==============================] - 1s 295ms/step - loss: 0.0180 - val_loss: 0.0128\n",
            "Epoch 297/500\n",
            "4/4 [==============================] - 2s 615ms/step - loss: 0.0178 - val_loss: 0.0128\n",
            "Epoch 298/500\n",
            "4/4 [==============================] - 1s 324ms/step - loss: 0.0180 - val_loss: 0.0128\n",
            "Epoch 299/500\n",
            "4/4 [==============================] - 0s 139ms/step - loss: 0.0178 - val_loss: 0.0128\n",
            "Epoch 300/500\n",
            "4/4 [==============================] - 0s 44ms/step - loss: 0.0179 - val_loss: 0.0128\n",
            "Epoch 301/500\n",
            "4/4 [==============================] - 0s 39ms/step - loss: 0.0183 - val_loss: 0.0128\n",
            "Epoch 302/500\n",
            "4/4 [==============================] - 0s 41ms/step - loss: 0.0177 - val_loss: 0.0128\n",
            "Epoch 303/500\n",
            "4/4 [==============================] - 0s 137ms/step - loss: 0.0179 - val_loss: 0.0128\n",
            "Epoch 304/500\n",
            "4/4 [==============================] - 0s 47ms/step - loss: 0.0181 - val_loss: 0.0128\n",
            "Epoch 305/500\n",
            "4/4 [==============================] - 0s 41ms/step - loss: 0.0178 - val_loss: 0.0128\n",
            "Epoch 306/500\n",
            "4/4 [==============================] - 0s 43ms/step - loss: 0.0181 - val_loss: 0.0128\n",
            "Epoch 307/500\n",
            "4/4 [==============================] - 0s 42ms/step - loss: 0.0177 - val_loss: 0.0128\n",
            "Epoch 308/500\n",
            "4/4 [==============================] - 0s 46ms/step - loss: 0.0184 - val_loss: 0.0128\n",
            "Epoch 309/500\n",
            "4/4 [==============================] - 2s 593ms/step - loss: 0.0178 - val_loss: 0.0128\n",
            "Epoch 310/500\n",
            "4/4 [==============================] - 2s 612ms/step - loss: 0.0178 - val_loss: 0.0128\n",
            "Epoch 311/500\n",
            "4/4 [==============================] - 1s 425ms/step - loss: 0.0181 - val_loss: 0.0128\n",
            "Epoch 312/500\n",
            "4/4 [==============================] - 0s 42ms/step - loss: 0.0178 - val_loss: 0.0128\n",
            "Epoch 313/500\n",
            "4/4 [==============================] - 0s 50ms/step - loss: 0.0177 - val_loss: 0.0128\n",
            "Epoch 314/500\n",
            "4/4 [==============================] - 0s 47ms/step - loss: 0.0180 - val_loss: 0.0128\n",
            "Epoch 315/500\n",
            "4/4 [==============================] - 1s 163ms/step - loss: 0.0177 - val_loss: 0.0128\n",
            "Epoch 316/500\n",
            "4/4 [==============================] - 0s 46ms/step - loss: 0.0173 - val_loss: 0.0128\n",
            "Epoch 317/500\n",
            "4/4 [==============================] - 0s 47ms/step - loss: 0.0181 - val_loss: 0.0128\n",
            "Epoch 318/500\n",
            "4/4 [==============================] - 0s 44ms/step - loss: 0.0183 - val_loss: 0.0128\n",
            "Epoch 319/500\n",
            "4/4 [==============================] - 0s 54ms/step - loss: 0.0181 - val_loss: 0.0128\n",
            "Epoch 320/500\n",
            "4/4 [==============================] - 1s 311ms/step - loss: 0.0178 - val_loss: 0.0128\n",
            "Epoch 321/500\n",
            "4/4 [==============================] - 2s 602ms/step - loss: 0.0178 - val_loss: 0.0128\n",
            "Epoch 322/500\n",
            "4/4 [==============================] - 0s 141ms/step - loss: 0.0182 - val_loss: 0.0128\n",
            "Epoch 323/500\n",
            "4/4 [==============================] - 0s 47ms/step - loss: 0.0181 - val_loss: 0.0128\n",
            "Epoch 324/500\n",
            "4/4 [==============================] - 0s 44ms/step - loss: 0.0173 - val_loss: 0.0128\n",
            "Epoch 325/500\n",
            "4/4 [==============================] - 0s 40ms/step - loss: 0.0177 - val_loss: 0.0128\n",
            "Epoch 326/500\n",
            "4/4 [==============================] - 0s 40ms/step - loss: 0.0181 - val_loss: 0.0128\n",
            "Epoch 327/500\n",
            "4/4 [==============================] - 0s 41ms/step - loss: 0.0180 - val_loss: 0.0128\n",
            "Epoch 328/500\n",
            "4/4 [==============================] - 1s 293ms/step - loss: 0.0179 - val_loss: 0.0128\n",
            "Epoch 329/500\n",
            "4/4 [==============================] - 3s 937ms/step - loss: 0.0182 - val_loss: 0.0128\n",
            "Epoch 330/500\n",
            "4/4 [==============================] - 1s 417ms/step - loss: 0.0178 - val_loss: 0.0128\n",
            "Epoch 331/500\n",
            "4/4 [==============================] - 0s 44ms/step - loss: 0.0175 - val_loss: 0.0128\n",
            "Epoch 332/500\n",
            "4/4 [==============================] - 0s 42ms/step - loss: 0.0174 - val_loss: 0.0128\n",
            "Epoch 333/500\n",
            "4/4 [==============================] - 0s 41ms/step - loss: 0.0179 - val_loss: 0.0128\n",
            "Epoch 334/500\n",
            "4/4 [==============================] - 1s 158ms/step - loss: 0.0180 - val_loss: 0.0128\n",
            "Epoch 335/500\n",
            "4/4 [==============================] - 0s 46ms/step - loss: 0.0176 - val_loss: 0.0128\n",
            "Epoch 336/500\n",
            "4/4 [==============================] - 0s 46ms/step - loss: 0.0178 - val_loss: 0.0128\n",
            "Epoch 337/500\n",
            "4/4 [==============================] - 0s 42ms/step - loss: 0.0175 - val_loss: 0.0128\n",
            "Epoch 338/500\n",
            "4/4 [==============================] - 0s 43ms/step - loss: 0.0175 - val_loss: 0.0128\n",
            "Epoch 339/500\n",
            "4/4 [==============================] - 1s 313ms/step - loss: 0.0177 - val_loss: 0.0128\n",
            "Epoch 340/500\n",
            "4/4 [==============================] - 1s 418ms/step - loss: 0.0177 - val_loss: 0.0128\n",
            "Epoch 341/500\n",
            "4/4 [==============================] - 0s 39ms/step - loss: 0.0175 - val_loss: 0.0128\n",
            "Epoch 342/500\n",
            "4/4 [==============================] - 0s 43ms/step - loss: 0.0177 - val_loss: 0.0128\n",
            "Epoch 343/500\n",
            "4/4 [==============================] - 0s 41ms/step - loss: 0.0177 - val_loss: 0.0128\n",
            "Epoch 344/500\n",
            "4/4 [==============================] - 0s 45ms/step - loss: 0.0176 - val_loss: 0.0128\n",
            "Epoch 345/500\n",
            "4/4 [==============================] - 0s 46ms/step - loss: 0.0176 - val_loss: 0.0128\n",
            "Epoch 346/500\n",
            "4/4 [==============================] - 1s 330ms/step - loss: 0.0174 - val_loss: 0.0129\n",
            "Epoch 347/500\n",
            "4/4 [==============================] - 0s 47ms/step - loss: 0.0176 - val_loss: 0.0128\n",
            "Epoch 348/500\n",
            "4/4 [==============================] - 0s 45ms/step - loss: 0.0178 - val_loss: 0.0127\n",
            "Epoch 349/500\n",
            "4/4 [==============================] - 0s 42ms/step - loss: 0.0181 - val_loss: 0.0128\n",
            "Epoch 350/500\n",
            "4/4 [==============================] - 0s 49ms/step - loss: 0.0175 - val_loss: 0.0128\n",
            "Epoch 351/500\n",
            "4/4 [==============================] - 0s 42ms/step - loss: 0.0177 - val_loss: 0.0127\n",
            "Epoch 352/500\n",
            "4/4 [==============================] - 1s 343ms/step - loss: 0.0174 - val_loss: 0.0128\n",
            "Epoch 353/500\n",
            "4/4 [==============================] - 1s 191ms/step - loss: 0.0175 - val_loss: 0.0128\n",
            "Epoch 354/500\n",
            "4/4 [==============================] - 0s 41ms/step - loss: 0.0176 - val_loss: 0.0127\n",
            "Epoch 355/500\n",
            "4/4 [==============================] - 0s 40ms/step - loss: 0.0176 - val_loss: 0.0127\n",
            "Epoch 356/500\n",
            "4/4 [==============================] - 0s 43ms/step - loss: 0.0177 - val_loss: 0.0128\n",
            "Epoch 357/500\n",
            "4/4 [==============================] - 0s 144ms/step - loss: 0.0176 - val_loss: 0.0127\n",
            "Epoch 358/500\n",
            "4/4 [==============================] - 0s 43ms/step - loss: 0.0175 - val_loss: 0.0127\n",
            "Epoch 359/500\n",
            "4/4 [==============================] - 0s 46ms/step - loss: 0.0179 - val_loss: 0.0128\n",
            "Epoch 360/500\n",
            "4/4 [==============================] - 0s 44ms/step - loss: 0.0177 - val_loss: 0.0127\n",
            "Epoch 361/500\n",
            "4/4 [==============================] - 0s 41ms/step - loss: 0.0175 - val_loss: 0.0127\n",
            "Epoch 362/500\n",
            "4/4 [==============================] - 0s 48ms/step - loss: 0.0175 - val_loss: 0.0127\n",
            "Epoch 363/500\n",
            "4/4 [==============================] - 1s 324ms/step - loss: 0.0174 - val_loss: 0.0128\n",
            "Epoch 364/500\n",
            "4/4 [==============================] - 2s 627ms/step - loss: 0.0176 - val_loss: 0.0127\n",
            "Epoch 365/500\n",
            "4/4 [==============================] - 0s 147ms/step - loss: 0.0175 - val_loss: 0.0127\n",
            "Epoch 366/500\n",
            "4/4 [==============================] - 0s 45ms/step - loss: 0.0175 - val_loss: 0.0127\n",
            "Epoch 367/500\n",
            "4/4 [==============================] - 0s 51ms/step - loss: 0.0176 - val_loss: 0.0128\n",
            "Epoch 368/500\n",
            "4/4 [==============================] - 0s 47ms/step - loss: 0.0174 - val_loss: 0.0128\n",
            "Epoch 369/500\n",
            "4/4 [==============================] - 0s 149ms/step - loss: 0.0174 - val_loss: 0.0127\n",
            "Epoch 370/500\n",
            "4/4 [==============================] - 0s 45ms/step - loss: 0.0174 - val_loss: 0.0127\n",
            "Epoch 371/500\n",
            "4/4 [==============================] - 0s 45ms/step - loss: 0.0171 - val_loss: 0.0127\n",
            "Epoch 372/500\n",
            "4/4 [==============================] - 0s 44ms/step - loss: 0.0173 - val_loss: 0.0128\n",
            "Epoch 373/500\n",
            "4/4 [==============================] - 0s 40ms/step - loss: 0.0178 - val_loss: 0.0128\n",
            "Epoch 374/500\n",
            "4/4 [==============================] - 1s 295ms/step - loss: 0.0172 - val_loss: 0.0127\n",
            "Epoch 375/500\n",
            "4/4 [==============================] - 3s 948ms/step - loss: 0.0172 - val_loss: 0.0127\n",
            "Epoch 376/500\n",
            "4/4 [==============================] - 1s 328ms/step - loss: 0.0177 - val_loss: 0.0127\n",
            "Epoch 377/500\n",
            "4/4 [==============================] - 1s 425ms/step - loss: 0.0179 - val_loss: 0.0127\n",
            "Epoch 378/500\n",
            "4/4 [==============================] - 0s 44ms/step - loss: 0.0177 - val_loss: 0.0127\n",
            "Epoch 379/500\n",
            "4/4 [==============================] - 0s 43ms/step - loss: 0.0174 - val_loss: 0.0128\n",
            "Epoch 380/500\n",
            "4/4 [==============================] - 0s 41ms/step - loss: 0.0178 - val_loss: 0.0129\n",
            "Epoch 381/500\n",
            "4/4 [==============================] - 0s 41ms/step - loss: 0.0174 - val_loss: 0.0127\n",
            "Epoch 382/500\n",
            "4/4 [==============================] - 0s 44ms/step - loss: 0.0178 - val_loss: 0.0127\n",
            "Epoch 383/500\n",
            "4/4 [==============================] - 1s 317ms/step - loss: 0.0173 - val_loss: 0.0127\n",
            "Epoch 384/500\n",
            "4/4 [==============================] - 2s 613ms/step - loss: 0.0174 - val_loss: 0.0128\n",
            "Epoch 385/500\n",
            "4/4 [==============================] - 1s 327ms/step - loss: 0.0179 - val_loss: 0.0127\n",
            "Epoch 386/500\n",
            "4/4 [==============================] - 0s 146ms/step - loss: 0.0180 - val_loss: 0.0127\n",
            "Epoch 387/500\n",
            "4/4 [==============================] - 0s 41ms/step - loss: 0.0176 - val_loss: 0.0127\n",
            "Epoch 388/500\n",
            "4/4 [==============================] - 0s 41ms/step - loss: 0.0173 - val_loss: 0.0127\n",
            "Epoch 389/500\n",
            "4/4 [==============================] - 0s 44ms/step - loss: 0.0174 - val_loss: 0.0127\n",
            "Epoch 390/500\n",
            "4/4 [==============================] - 0s 45ms/step - loss: 0.0175 - val_loss: 0.0127\n",
            "Epoch 391/500\n",
            "4/4 [==============================] - 2s 638ms/step - loss: 0.0174 - val_loss: 0.0127\n",
            "Epoch 392/500\n",
            "4/4 [==============================] - 1s 163ms/step - loss: 0.0174 - val_loss: 0.0127\n",
            "Epoch 393/500\n",
            "4/4 [==============================] - 0s 42ms/step - loss: 0.0173 - val_loss: 0.0127\n",
            "Epoch 394/500\n",
            "4/4 [==============================] - 0s 42ms/step - loss: 0.0176 - val_loss: 0.0127\n",
            "Epoch 395/500\n",
            "4/4 [==============================] - 0s 51ms/step - loss: 0.0170 - val_loss: 0.0127\n",
            "Epoch 396/500\n",
            "4/4 [==============================] - 1s 327ms/step - loss: 0.0176 - val_loss: 0.0127\n",
            "Epoch 397/500\n",
            "4/4 [==============================] - 0s 143ms/step - loss: 0.0177 - val_loss: 0.0127\n",
            "Epoch 398/500\n",
            "4/4 [==============================] - 0s 44ms/step - loss: 0.0170 - val_loss: 0.0128\n",
            "Epoch 399/500\n",
            "4/4 [==============================] - 0s 43ms/step - loss: 0.0176 - val_loss: 0.0127\n",
            "Epoch 400/500\n",
            "4/4 [==============================] - 0s 44ms/step - loss: 0.0173 - val_loss: 0.0127\n",
            "Epoch 401/500\n",
            "4/4 [==============================] - 0s 46ms/step - loss: 0.0174 - val_loss: 0.0127\n",
            "Epoch 402/500\n",
            "4/4 [==============================] - 1s 409ms/step - loss: 0.0168 - val_loss: 0.0127\n",
            "Epoch 403/500\n",
            "4/4 [==============================] - 0s 42ms/step - loss: 0.0170 - val_loss: 0.0127\n",
            "Epoch 404/500\n",
            "4/4 [==============================] - 0s 41ms/step - loss: 0.0173 - val_loss: 0.0127\n",
            "Epoch 405/500\n",
            "4/4 [==============================] - 0s 42ms/step - loss: 0.0178 - val_loss: 0.0127\n",
            "Epoch 406/500\n",
            "4/4 [==============================] - 0s 41ms/step - loss: 0.0170 - val_loss: 0.0127\n",
            "Epoch 407/500\n",
            "4/4 [==============================] - 0s 45ms/step - loss: 0.0178 - val_loss: 0.0127\n",
            "Epoch 408/500\n",
            "4/4 [==============================] - 2s 596ms/step - loss: 0.0169 - val_loss: 0.0127\n",
            "Epoch 409/500\n",
            "4/4 [==============================] - 1s 327ms/step - loss: 0.0171 - val_loss: 0.0127\n",
            "Epoch 410/500\n",
            "4/4 [==============================] - 2s 363ms/step - loss: 0.0174 - val_loss: 0.0127\n",
            "Epoch 411/500\n",
            "4/4 [==============================] - 0s 84ms/step - loss: 0.0170 - val_loss: 0.0127\n",
            "Epoch 412/500\n",
            "4/4 [==============================] - 0s 83ms/step - loss: 0.0173 - val_loss: 0.0127\n",
            "Epoch 413/500\n",
            "4/4 [==============================] - 1s 321ms/step - loss: 0.0171 - val_loss: 0.0127\n",
            "Epoch 414/500\n",
            "4/4 [==============================] - 2s 603ms/step - loss: 0.0172 - val_loss: 0.0127\n",
            "Epoch 415/500\n",
            "4/4 [==============================] - 0s 132ms/step - loss: 0.0173 - val_loss: 0.0127\n",
            "Epoch 416/500\n",
            "4/4 [==============================] - 0s 45ms/step - loss: 0.0169 - val_loss: 0.0127\n",
            "Epoch 417/500\n",
            "4/4 [==============================] - 0s 48ms/step - loss: 0.0171 - val_loss: 0.0127\n",
            "Epoch 418/500\n",
            "4/4 [==============================] - 0s 46ms/step - loss: 0.0168 - val_loss: 0.0128\n",
            "Epoch 419/500\n",
            "4/4 [==============================] - 0s 46ms/step - loss: 0.0171 - val_loss: 0.0127\n",
            "Epoch 420/500\n",
            "4/4 [==============================] - 2s 325ms/step - loss: 0.0172 - val_loss: 0.0127\n",
            "Epoch 421/500\n",
            "4/4 [==============================] - 0s 142ms/step - loss: 0.0173 - val_loss: 0.0127\n",
            "Epoch 422/500\n",
            "4/4 [==============================] - 0s 42ms/step - loss: 0.0172 - val_loss: 0.0127\n",
            "Epoch 423/500\n",
            "4/4 [==============================] - 0s 48ms/step - loss: 0.0173 - val_loss: 0.0128\n",
            "Epoch 424/500\n",
            "4/4 [==============================] - 0s 48ms/step - loss: 0.0170 - val_loss: 0.0127\n",
            "Epoch 425/500\n",
            "4/4 [==============================] - 0s 47ms/step - loss: 0.0174 - val_loss: 0.0127\n",
            "Epoch 426/500\n",
            "4/4 [==============================] - 1s 324ms/step - loss: 0.0171 - val_loss: 0.0127\n",
            "Epoch 427/500\n",
            "4/4 [==============================] - 2s 611ms/step - loss: 0.0171 - val_loss: 0.0127\n",
            "Epoch 428/500\n",
            "4/4 [==============================] - 1s 180ms/step - loss: 0.0169 - val_loss: 0.0127\n",
            "Epoch 429/500\n",
            "4/4 [==============================] - 0s 86ms/step - loss: 0.0169 - val_loss: 0.0128\n",
            "Epoch 430/500\n",
            "4/4 [==============================] - 0s 85ms/step - loss: 0.0171 - val_loss: 0.0127\n",
            "Epoch 431/500\n",
            "4/4 [==============================] - 2s 596ms/step - loss: 0.0173 - val_loss: 0.0127\n",
            "Epoch 432/500\n",
            "4/4 [==============================] - 1s 317ms/step - loss: 0.0179 - val_loss: 0.0127\n",
            "Epoch 433/500\n",
            "4/4 [==============================] - 1s 423ms/step - loss: 0.0172 - val_loss: 0.0127\n",
            "Epoch 434/500\n",
            "4/4 [==============================] - 0s 41ms/step - loss: 0.0169 - val_loss: 0.0127\n",
            "Epoch 435/500\n",
            "4/4 [==============================] - 0s 45ms/step - loss: 0.0169 - val_loss: 0.0127\n",
            "Epoch 436/500\n",
            "4/4 [==============================] - 0s 42ms/step - loss: 0.0171 - val_loss: 0.0127\n",
            "Epoch 437/500\n",
            "4/4 [==============================] - 0s 51ms/step - loss: 0.0169 - val_loss: 0.0128\n",
            "Epoch 438/500\n",
            "4/4 [==============================] - 0s 41ms/step - loss: 0.0172 - val_loss: 0.0127\n",
            "Epoch 439/500\n",
            "4/4 [==============================] - 0s 41ms/step - loss: 0.0170 - val_loss: 0.0127\n",
            "Epoch 440/500\n",
            "4/4 [==============================] - 0s 42ms/step - loss: 0.0172 - val_loss: 0.0127\n",
            "Epoch 441/500\n",
            "4/4 [==============================] - 0s 45ms/step - loss: 0.0172 - val_loss: 0.0127\n",
            "Epoch 442/500\n",
            "4/4 [==============================] - 0s 47ms/step - loss: 0.0171 - val_loss: 0.0127\n",
            "Epoch 443/500\n",
            "4/4 [==============================] - 1s 306ms/step - loss: 0.0169 - val_loss: 0.0127\n",
            "Epoch 444/500\n",
            "4/4 [==============================] - 2s 592ms/step - loss: 0.0173 - val_loss: 0.0127\n",
            "Epoch 445/500\n",
            "4/4 [==============================] - 0s 150ms/step - loss: 0.0173 - val_loss: 0.0127\n",
            "Epoch 446/500\n",
            "4/4 [==============================] - 0s 45ms/step - loss: 0.0175 - val_loss: 0.0127\n",
            "Epoch 447/500\n",
            "4/4 [==============================] - 0s 46ms/step - loss: 0.0175 - val_loss: 0.0127\n",
            "Epoch 448/500\n",
            "4/4 [==============================] - 0s 47ms/step - loss: 0.0174 - val_loss: 0.0127\n",
            "Epoch 449/500\n",
            "4/4 [==============================] - 0s 45ms/step - loss: 0.0168 - val_loss: 0.0127\n",
            "Epoch 450/500\n",
            "4/4 [==============================] - 1s 334ms/step - loss: 0.0171 - val_loss: 0.0127\n",
            "Epoch 451/500\n",
            "4/4 [==============================] - 0s 72ms/step - loss: 0.0171 - val_loss: 0.0127\n",
            "Epoch 452/500\n",
            "4/4 [==============================] - 0s 88ms/step - loss: 0.0174 - val_loss: 0.0127\n",
            "Epoch 453/500\n",
            "4/4 [==============================] - 1s 349ms/step - loss: 0.0169 - val_loss: 0.0128\n",
            "Epoch 454/500\n",
            "4/4 [==============================] - 2s 600ms/step - loss: 0.0170 - val_loss: 0.0127\n",
            "Epoch 455/500\n",
            "4/4 [==============================] - 1s 328ms/step - loss: 0.0173 - val_loss: 0.0127\n",
            "Epoch 456/500\n",
            "4/4 [==============================] - 0s 138ms/step - loss: 0.0169 - val_loss: 0.0127\n",
            "Epoch 457/500\n",
            "4/4 [==============================] - 0s 42ms/step - loss: 0.0168 - val_loss: 0.0127\n",
            "Epoch 458/500\n",
            "4/4 [==============================] - 0s 42ms/step - loss: 0.0172 - val_loss: 0.0127\n",
            "Epoch 459/500\n",
            "4/4 [==============================] - 0s 45ms/step - loss: 0.0171 - val_loss: 0.0127\n",
            "Epoch 460/500\n",
            "4/4 [==============================] - 0s 142ms/step - loss: 0.0171 - val_loss: 0.0127\n",
            "Epoch 461/500\n",
            "4/4 [==============================] - 0s 51ms/step - loss: 0.0171 - val_loss: 0.0127\n",
            "Epoch 462/500\n",
            "4/4 [==============================] - 0s 50ms/step - loss: 0.0173 - val_loss: 0.0127\n",
            "Epoch 463/500\n",
            "4/4 [==============================] - 0s 50ms/step - loss: 0.0170 - val_loss: 0.0127\n",
            "Epoch 464/500\n",
            "4/4 [==============================] - 1s 325ms/step - loss: 0.0166 - val_loss: 0.0127\n",
            "Epoch 465/500\n",
            "4/4 [==============================] - 0s 139ms/step - loss: 0.0168 - val_loss: 0.0127\n",
            "Epoch 466/500\n",
            "4/4 [==============================] - 0s 42ms/step - loss: 0.0170 - val_loss: 0.0127\n",
            "Epoch 467/500\n",
            "4/4 [==============================] - 0s 42ms/step - loss: 0.0170 - val_loss: 0.0127\n",
            "Epoch 468/500\n",
            "4/4 [==============================] - 0s 45ms/step - loss: 0.0171 - val_loss: 0.0127\n",
            "Epoch 469/500\n",
            "4/4 [==============================] - 0s 44ms/step - loss: 0.0170 - val_loss: 0.0127\n",
            "Epoch 470/500\n",
            "4/4 [==============================] - 2s 606ms/step - loss: 0.0171 - val_loss: 0.0127\n",
            "Epoch 471/500\n",
            "4/4 [==============================] - 1s 359ms/step - loss: 0.0164 - val_loss: 0.0127\n",
            "Epoch 472/500\n",
            "4/4 [==============================] - 1s 351ms/step - loss: 0.0169 - val_loss: 0.0127\n",
            "Epoch 473/500\n",
            "4/4 [==============================] - 1s 326ms/step - loss: 0.0168 - val_loss: 0.0127\n",
            "Epoch 474/500\n",
            "4/4 [==============================] - 0s 46ms/step - loss: 0.0168 - val_loss: 0.0127\n",
            "Epoch 475/500\n",
            "4/4 [==============================] - 0s 42ms/step - loss: 0.0169 - val_loss: 0.0127\n",
            "Epoch 476/500\n",
            "4/4 [==============================] - 0s 43ms/step - loss: 0.0170 - val_loss: 0.0127\n",
            "Epoch 477/500\n",
            "4/4 [==============================] - 0s 46ms/step - loss: 0.0163 - val_loss: 0.0127\n",
            "Epoch 478/500\n",
            "4/4 [==============================] - 0s 47ms/step - loss: 0.0169 - val_loss: 0.0127\n",
            "Epoch 479/500\n",
            "4/4 [==============================] - 0s 42ms/step - loss: 0.0168 - val_loss: 0.0127\n",
            "Epoch 480/500\n",
            "4/4 [==============================] - 0s 41ms/step - loss: 0.0169 - val_loss: 0.0127\n",
            "Epoch 481/500\n",
            "4/4 [==============================] - 0s 45ms/step - loss: 0.0168 - val_loss: 0.0127\n",
            "Epoch 482/500\n",
            "4/4 [==============================] - 0s 46ms/step - loss: 0.0170 - val_loss: 0.0127\n",
            "Epoch 483/500\n",
            "4/4 [==============================] - 1s 281ms/step - loss: 0.0170 - val_loss: 0.0127\n",
            "Epoch 484/500\n",
            "4/4 [==============================] - 1s 423ms/step - loss: 0.0171 - val_loss: 0.0127\n",
            "Epoch 485/500\n",
            "4/4 [==============================] - 0s 50ms/step - loss: 0.0166 - val_loss: 0.0127\n",
            "Epoch 486/500\n",
            "4/4 [==============================] - 0s 42ms/step - loss: 0.0169 - val_loss: 0.0127\n",
            "Epoch 487/500\n",
            "4/4 [==============================] - 0s 43ms/step - loss: 0.0167 - val_loss: 0.0127\n",
            "Epoch 488/500\n",
            "4/4 [==============================] - 0s 45ms/step - loss: 0.0170 - val_loss: 0.0127\n",
            "Epoch 489/500\n",
            "4/4 [==============================] - 0s 43ms/step - loss: 0.0168 - val_loss: 0.0127\n",
            "Epoch 490/500\n",
            "4/4 [==============================] - 2s 577ms/step - loss: 0.0169 - val_loss: 0.0127\n",
            "Epoch 491/500\n",
            "4/4 [==============================] - 1s 328ms/step - loss: 0.0166 - val_loss: 0.0126\n",
            "Epoch 492/500\n",
            "4/4 [==============================] - 2s 674ms/step - loss: 0.0167 - val_loss: 0.0126\n",
            "Epoch 493/500\n",
            "4/4 [==============================] - 0s 142ms/step - loss: 0.0171 - val_loss: 0.0127\n",
            "Epoch 494/500\n",
            "4/4 [==============================] - 0s 45ms/step - loss: 0.0170 - val_loss: 0.0127\n",
            "Epoch 495/500\n",
            "4/4 [==============================] - 0s 42ms/step - loss: 0.0166 - val_loss: 0.0127\n",
            "Epoch 496/500\n",
            "4/4 [==============================] - 0s 41ms/step - loss: 0.0169 - val_loss: 0.0126\n",
            "Epoch 497/500\n",
            "4/4 [==============================] - 0s 48ms/step - loss: 0.0170 - val_loss: 0.0127\n",
            "Epoch 498/500\n",
            "4/4 [==============================] - 2s 603ms/step - loss: 0.0167 - val_loss: 0.0127\n",
            "Epoch 499/500\n",
            "4/4 [==============================] - 1s 329ms/step - loss: 0.0170 - val_loss: 0.0126\n",
            "Epoch 500/500\n",
            "4/4 [==============================] - 0s 143ms/step - loss: 0.0166 - val_loss: 0.0127\n"
          ]
        }
      ]
    },
    {
      "cell_type": "code",
      "source": [
        "pd.DataFrame(history.history).plot(color=palette)"
      ],
      "metadata": {
        "colab": {
          "base_uri": "https://localhost:8080/",
          "height": 448
        },
        "id": "ITwNnbelVR-Z",
        "outputId": "7cb38f46-75bb-4723-d1c4-84481c9355c1"
      },
      "execution_count": 34,
      "outputs": [
        {
          "output_type": "execute_result",
          "data": {
            "text/plain": [
              "<Axes: >"
            ]
          },
          "metadata": {},
          "execution_count": 34
        },
        {
          "output_type": "display_data",
          "data": {
            "text/plain": [
              "<Figure size 640x480 with 1 Axes>"
            ],
            "image/png": "[encoded data removed]"
          },
          "metadata": {}
        }
      ]
    },
    {
      "cell_type": "code",
      "source": [
        "score = model.evaluate(x_ts, y_ts)"
      ],
      "metadata": {
        "colab": {
          "base_uri": "https://localhost:8080/"
        },
        "id": "JijwTw9NYbWH",
        "outputId": "e54c69d6-75fd-46ee-a466-3ac47cfbca94"
      },
      "execution_count": 35,
      "outputs": [
        {
          "output_type": "stream",
          "name": "stdout",
          "text": [
            "13/13 [==============================] - 0s 5ms/step - loss: 0.0152\n"
          ]
        }
      ]
    },
    {
      "cell_type": "code",
      "source": [],
      "metadata": {
        "id": "xkXNiRZBXzzZ"
      },
      "execution_count": 35,
      "outputs": []
    }
  ]
}