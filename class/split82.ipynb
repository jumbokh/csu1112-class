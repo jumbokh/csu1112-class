{
  "nbformat": 4,
  "nbformat_minor": 0,
  "metadata": {
    "colab": {
      "provenance": [],
      "authorship_tag": "ABX9TyPMPC3MQksMa53cW3oTTdFQ",
      "include_colab_link": true
    },
    "kernelspec": {
      "name": "python3",
      "display_name": "Python 3"
    },
    "language_info": {
      "name": "python"
    }
  },
  "cells": [
    {
      "cell_type": "markdown",
      "metadata": {
        "id": "view-in-github",
        "colab_type": "text"
      },
      "source": [
        "<a href=\"https://colab.research.google.com/github/jumbokh/csu1112-class/blob/main/class/split82.ipynb\" target=\"_parent\"><img src=\"https://colab.research.google.com/assets/colab-badge.svg\" alt=\"Open In Colab\"/></a>"
      ]
    },
    {
      "cell_type": "code",
      "execution_count": 1,
      "metadata": {
        "id": "jbTtFB7Ane2z"
      },
      "outputs": [],
      "source": [
        "from sklearn.model_selection import train_test_split\n",
        "import tensorflow as tf\n",
        "from tensorflow.keras.models import Sequential\n",
        "from tensorflow.keras import layers"
      ]
    },
    {
      "cell_type": "code",
      "source": [
        "(train_image,train_label),(test_image,test_label)=\\\n",
        "    tf.keras.datasets.fashion_mnist.load_data()\n",
        "\n",
        "print(\"train_image.shape :\",train_image.shape)\n",
        "print(\"train_image.shape :\",train_label.shape)"
      ],
      "metadata": {
        "colab": {
          "base_uri": "https://localhost:8080/"
        },
        "id": "uGlp41ijnjrv",
        "outputId": "8b042003-77eb-4d4b-d926-d8a21c22935c"
      },
      "execution_count": 2,
      "outputs": [
        {
          "output_type": "stream",
          "name": "stdout",
          "text": [
            "train_image.shape : (60000, 28, 28)\n",
            "train_image.shape : (60000,)\n"
          ]
        }
      ]
    },
    {
      "cell_type": "code",
      "source": [
        "# 把訓練集切分成 80% 訓練集, 20% 驗證集\n",
        "train_data, Valid_data, train_labelNew,  Valid_LabelNew = \\\n",
        "    train_test_split(train_image,train_label,test_size=0.2)\n",
        "\n",
        "print(\"train_data.shape :\",train_data.shape)\n",
        "print(\"Valid_data.shape :\",Valid_data.shape)"
      ],
      "metadata": {
        "colab": {
          "base_uri": "https://localhost:8080/"
        },
        "id": "L_qhTWPjnn23",
        "outputId": "b61fc284-6686-4dd2-c58e-a69a6eb84fc9"
      },
      "execution_count": 3,
      "outputs": [
        {
          "output_type": "stream",
          "name": "stdout",
          "text": [
            "train_data.shape : (48000, 28, 28)\n",
            "Valid_data.shape : (12000, 28, 28)\n"
          ]
        }
      ]
    },
    {
      "cell_type": "code",
      "source": [
        "model = Sequential([\n",
        "    layers.Flatten(input_shape=(28, 28)),   # 將輸入資料從 28x28 攤平成 784\n",
        "    layers.Dense(256, activation='relu'),\n",
        "    layers.Dense(128, activation='relu'),\n",
        "    layers.Dense(64, activation='relu'),\n",
        "    layers.Dense(10, activation='softmax') # output 為 10 個 class\n",
        "])"
      ],
      "metadata": {
        "id": "h9vnRvX4nwoO"
      },
      "execution_count": 4,
      "outputs": []
    },
    {
      "cell_type": "code",
      "source": [
        "# model 每層定義好後需要經過 compile\n",
        "# sparse_categorical_crossentropy 的標籤是 integer\n",
        "model.compile(optimizer='adam',\n",
        "              loss= 'sparse_categorical_crossentropy',\n",
        "              metrics=['acc'])"
      ],
      "metadata": {
        "id": "fEEe88gGn1U2"
      },
      "execution_count": 5,
      "outputs": []
    },
    {
      "cell_type": "code",
      "source": [
        "history = model.fit(train_data,train_labelNew,\n",
        "                    # 驗證集可以在這邊設定\n",
        "                    #validation_data=0.2, # 訓練集切出20%給驗證集\n",
        "                    epochs=50,\n",
        "                    batch_size=128,  # 設定批次大小\n",
        "                    shuffle=True)    # 是否打散"
      ],
      "metadata": {
        "colab": {
          "base_uri": "https://localhost:8080/"
        },
        "id": "OWL08k0FqH0N",
        "outputId": "551d0aa3-0d87-4907-e8fc-33761ab6bc0d"
      },
      "execution_count": null,
      "outputs": [
        {
          "output_type": "stream",
          "name": "stdout",
          "text": [
            "Epoch 1/50\n",
            "375/375 [==============================] - 4s 11ms/step - loss: 0.6693 - acc: 0.8086\n",
            "Epoch 2/50\n",
            "375/375 [==============================] - 3s 7ms/step - loss: 0.5033 - acc: 0.8335\n",
            "Epoch 3/50\n",
            "375/375 [==============================] - 3s 7ms/step - loss: 0.4268 - acc: 0.8522\n",
            "Epoch 4/50\n",
            "375/375 [==============================] - 3s 7ms/step - loss: 0.3910 - acc: 0.8622\n",
            "Epoch 5/50\n",
            "375/375 [==============================] - 4s 10ms/step - loss: 0.3634 - acc: 0.8697\n",
            "Epoch 6/50\n",
            "375/375 [==============================] - 3s 9ms/step - loss: 0.3534 - acc: 0.8715\n",
            "Epoch 7/50\n",
            "375/375 [==============================] - 3s 7ms/step - loss: 0.3383 - acc: 0.8770\n",
            "Epoch 8/50\n",
            "375/375 [==============================] - 3s 7ms/step - loss: 0.3310 - acc: 0.8777\n",
            "Epoch 9/50\n",
            "375/375 [==============================] - 3s 8ms/step - loss: 0.3289 - acc: 0.8802\n",
            "Epoch 10/50\n",
            "375/375 [==============================] - 4s 10ms/step - loss: 0.3100 - acc: 0.8864\n",
            "Epoch 11/50\n",
            "375/375 [==============================] - 3s 7ms/step - loss: 0.3056 - acc: 0.8872\n",
            "Epoch 12/50\n",
            "375/375 [==============================] - 3s 7ms/step - loss: 0.3066 - acc: 0.8882\n",
            "Epoch 13/50\n",
            "375/375 [==============================] - 3s 7ms/step - loss: 0.2947 - acc: 0.8909\n",
            "Epoch 14/50\n",
            "375/375 [==============================] - 4s 10ms/step - loss: 0.2901 - acc: 0.8933\n",
            "Epoch 15/50\n",
            "375/375 [==============================] - 3s 8ms/step - loss: 0.2885 - acc: 0.8934\n",
            "Epoch 16/50\n",
            "375/375 [==============================] - 3s 7ms/step - loss: 0.2876 - acc: 0.8926\n",
            "Epoch 17/50\n",
            "375/375 [==============================] - 3s 7ms/step - loss: 0.2726 - acc: 0.8987\n",
            "Epoch 18/50\n",
            "375/375 [==============================] - 3s 9ms/step - loss: 0.2772 - acc: 0.8971\n",
            "Epoch 19/50\n",
            "375/375 [==============================] - 3s 9ms/step - loss: 0.2676 - acc: 0.9011\n",
            "Epoch 20/50\n",
            "375/375 [==============================] - 3s 7ms/step - loss: 0.2642 - acc: 0.9018\n",
            "Epoch 21/50\n",
            "375/375 [==============================] - 3s 7ms/step - loss: 0.2629 - acc: 0.9029\n",
            "Epoch 22/50\n",
            "375/375 [==============================] - 3s 7ms/step - loss: 0.2517 - acc: 0.9071\n",
            "Epoch 23/50\n",
            "375/375 [==============================] - 4s 10ms/step - loss: 0.2549 - acc: 0.9067\n",
            "Epoch 24/50\n",
            "375/375 [==============================] - 3s 7ms/step - loss: 0.2463 - acc: 0.9088\n",
            "Epoch 25/50\n",
            "375/375 [==============================] - 3s 7ms/step - loss: 0.2497 - acc: 0.9082\n",
            "Epoch 26/50\n",
            "375/375 [==============================] - 3s 7ms/step - loss: 0.2390 - acc: 0.9124\n",
            "Epoch 27/50\n",
            "375/375 [==============================] - 4s 10ms/step - loss: 0.2295 - acc: 0.9144\n",
            "Epoch 28/50\n",
            "375/375 [==============================] - 3s 8ms/step - loss: 0.2313 - acc: 0.9143\n",
            "Epoch 29/50\n",
            "375/375 [==============================] - 3s 7ms/step - loss: 0.2301 - acc: 0.9153\n",
            "Epoch 30/50\n",
            "375/375 [==============================] - 3s 7ms/step - loss: 0.2248 - acc: 0.9172\n",
            "Epoch 31/50\n",
            "375/375 [==============================] - 3s 7ms/step - loss: 0.2164 - acc: 0.9204\n",
            "Epoch 32/50\n",
            "375/375 [==============================] - 4s 10ms/step - loss: 0.2172 - acc: 0.9201\n",
            "Epoch 33/50\n",
            "375/375 [==============================] - 3s 7ms/step - loss: 0.2147 - acc: 0.9209\n",
            "Epoch 34/50\n",
            "375/375 [==============================] - 3s 7ms/step - loss: 0.2146 - acc: 0.9219\n",
            "Epoch 35/50\n",
            "375/375 [==============================] - 3s 7ms/step - loss: 0.2051 - acc: 0.9238\n",
            "Epoch 36/50\n",
            "375/375 [==============================] - 4s 10ms/step - loss: 0.2026 - acc: 0.9241\n",
            "Epoch 37/50\n",
            "375/375 [==============================] - 3s 8ms/step - loss: 0.1962 - acc: 0.9269\n",
            "Epoch 38/50\n",
            "375/375 [==============================] - 3s 8ms/step - loss: 0.1965 - acc: 0.9265\n",
            "Epoch 39/50\n",
            "375/375 [==============================] - 3s 7ms/step - loss: 0.1906 - acc: 0.9280\n",
            "Epoch 40/50\n",
            "375/375 [==============================] - 3s 9ms/step - loss: 0.1855 - acc: 0.9308\n",
            "Epoch 41/50\n",
            "375/375 [==============================] - 3s 9ms/step - loss: 0.1862 - acc: 0.9316\n",
            "Epoch 42/50\n",
            "375/375 [==============================] - 3s 7ms/step - loss: 0.1890 - acc: 0.9301\n",
            "Epoch 43/50\n",
            "375/375 [==============================] - 3s 7ms/step - loss: 0.1778 - acc: 0.9355\n",
            "Epoch 44/50\n",
            "375/375 [==============================] - 3s 7ms/step - loss: 0.1719 - acc: 0.9367\n",
            "Epoch 45/50\n",
            "375/375 [==============================] - 4s 10ms/step - loss: 0.1719 - acc: 0.9356\n",
            "Epoch 46/50\n",
            "375/375 [==============================] - 3s 7ms/step - loss: 0.1805 - acc: 0.9339\n",
            "Epoch 47/50\n",
            "375/375 [==============================] - 3s 7ms/step - loss: 0.1737 - acc: 0.9359\n",
            "Epoch 48/50\n",
            "375/375 [==============================] - 3s 7ms/step - loss: 0.1646 - acc: 0.9382\n",
            "Epoch 49/50\n",
            "375/375 [==============================] - 4s 9ms/step - loss: 0.1618 - acc: 0.9399\n",
            "Epoch 50/50\n",
            "375/375 [==============================] - 3s 9ms/step - loss: 0.1721 - acc: 0.9364\n"
          ]
        }
      ]
    }
  ]
}