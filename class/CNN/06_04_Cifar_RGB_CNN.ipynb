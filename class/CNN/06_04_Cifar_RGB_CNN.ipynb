{
  "cells": [
    {
      "cell_type": "markdown",
      "metadata": {
        "id": "KbWWIohMLb5v"
      },
      "source": [
        "# 手寫阿拉伯數字辨識 完整版"
      ]
    },
    {
      "cell_type": "markdown",
      "metadata": {
        "id": "H0ZHOheILb6C"
      },
      "source": [
        "## 步驟1：載入 Cifar 10 資料"
      ]
    },
    {
      "cell_type": "code",
      "execution_count": 1,
      "metadata": {
        "id": "pnCZk15qLb6G",
        "outputId": "aa36f612-e580-4677-c9b5-3263edee0494",
        "colab": {
          "base_uri": "https://localhost:8080/"
        }
      },
      "outputs": [
        {
          "output_type": "stream",
          "name": "stdout",
          "text": [
            "Downloading data from https://www.cs.toronto.edu/~kriz/cifar-10-python.tar.gz\n",
            "170498071/170498071 [==============================] - 4s 0us/step\n",
            "(50000, 32, 32, 3) (50000, 1) (10000, 32, 32, 3) (10000, 1)\n"
          ]
        }
      ],
      "source": [
        "import tensorflow as tf\n",
        "cifar10 = tf.keras.datasets.cifar10\n",
        "\n",
        "# 載入 MNIST 手寫阿拉伯數字資料\n",
        "(x_train, y_train),(x_test, y_test) = cifar10.load_data()\n",
        "\n",
        "# 訓練/測試資料的 X/y 維度\n",
        "print(x_train.shape, y_train.shape,x_test.shape, y_test.shape)"
      ]
    },
    {
      "cell_type": "markdown",
      "metadata": {
        "id": "7CwXGrvwLb6K"
      },
      "source": [
        "## 步驟2：資料清理，此步驟無需進行"
      ]
    },
    {
      "cell_type": "markdown",
      "metadata": {
        "id": "0g8OXaZgLb6M"
      },
      "source": [
        "## 步驟3：進行特徵工程，將特徵縮放成(0, 1)之間"
      ]
    },
    {
      "cell_type": "code",
      "execution_count": 2,
      "metadata": {
        "id": "qtwCk3cnLb6N",
        "outputId": "f507172f-e249-44b5-955b-e0782083d6da",
        "colab": {
          "base_uri": "https://localhost:8080/"
        }
      },
      "outputs": [
        {
          "output_type": "execute_result",
          "data": {
            "text/plain": [
              "array([[[0.23137255, 0.24313725, 0.24705882],\n",
              "        [0.16862745, 0.18039216, 0.17647059],\n",
              "        [0.19607843, 0.18823529, 0.16862745],\n",
              "        ...,\n",
              "        [0.61960784, 0.51764706, 0.42352941],\n",
              "        [0.59607843, 0.49019608, 0.4       ],\n",
              "        [0.58039216, 0.48627451, 0.40392157]],\n",
              "\n",
              "       [[0.0627451 , 0.07843137, 0.07843137],\n",
              "        [0.        , 0.        , 0.        ],\n",
              "        [0.07058824, 0.03137255, 0.        ],\n",
              "        ...,\n",
              "        [0.48235294, 0.34509804, 0.21568627],\n",
              "        [0.46666667, 0.3254902 , 0.19607843],\n",
              "        [0.47843137, 0.34117647, 0.22352941]],\n",
              "\n",
              "       [[0.09803922, 0.09411765, 0.08235294],\n",
              "        [0.0627451 , 0.02745098, 0.        ],\n",
              "        [0.19215686, 0.10588235, 0.03137255],\n",
              "        ...,\n",
              "        [0.4627451 , 0.32941176, 0.19607843],\n",
              "        [0.47058824, 0.32941176, 0.19607843],\n",
              "        [0.42745098, 0.28627451, 0.16470588]],\n",
              "\n",
              "       ...,\n",
              "\n",
              "       [[0.81568627, 0.66666667, 0.37647059],\n",
              "        [0.78823529, 0.6       , 0.13333333],\n",
              "        [0.77647059, 0.63137255, 0.10196078],\n",
              "        ...,\n",
              "        [0.62745098, 0.52156863, 0.2745098 ],\n",
              "        [0.21960784, 0.12156863, 0.02745098],\n",
              "        [0.20784314, 0.13333333, 0.07843137]],\n",
              "\n",
              "       [[0.70588235, 0.54509804, 0.37647059],\n",
              "        [0.67843137, 0.48235294, 0.16470588],\n",
              "        [0.72941176, 0.56470588, 0.11764706],\n",
              "        ...,\n",
              "        [0.72156863, 0.58039216, 0.36862745],\n",
              "        [0.38039216, 0.24313725, 0.13333333],\n",
              "        [0.3254902 , 0.20784314, 0.13333333]],\n",
              "\n",
              "       [[0.69411765, 0.56470588, 0.45490196],\n",
              "        [0.65882353, 0.50588235, 0.36862745],\n",
              "        [0.70196078, 0.55686275, 0.34117647],\n",
              "        ...,\n",
              "        [0.84705882, 0.72156863, 0.54901961],\n",
              "        [0.59215686, 0.4627451 , 0.32941176],\n",
              "        [0.48235294, 0.36078431, 0.28235294]]])"
            ]
          },
          "metadata": {},
          "execution_count": 2
        }
      ],
      "source": [
        "# 特徵縮放，使用常態化(Normalization)，公式 = (x - min) / (max - min)\n",
        "# 顏色範圍：0~255，所以，公式簡化為 x / 255\n",
        "# 注意，顏色0為白色，與RGB顏色不同，(0,0,0) 為黑色。\n",
        "x_train_norm, x_test_norm = x_train / 255.0, x_test / 255.0\n",
        "x_train_norm[0]"
      ]
    },
    {
      "cell_type": "markdown",
      "metadata": {
        "id": "cCb9wvGOLb6R"
      },
      "source": [
        "## 步驟4：資料分割，此步驟無需進行，載入MNIST資料時，已經切割好了\n",
        "\n",
        "## 步驟5：建立模型結構\n",
        "\n",
        "## 步驟6：結合訓練資料及模型，進行模型訓練\n",
        "\n",
        "## 步驟7：評分(Score Model)"
      ]
    },
    {
      "cell_type": "code",
      "execution_count": 3,
      "metadata": {
        "id": "ZBRx0vonLb6U",
        "outputId": "3fd351b0-509e-4e9b-8ef1-75cf91864e89",
        "colab": {
          "base_uri": "https://localhost:8080/"
        }
      },
      "outputs": [
        {
          "output_type": "stream",
          "name": "stdout",
          "text": [
            "Epoch 1/10\n",
            "1250/1250 [==============================] - 72s 56ms/step - loss: 1.6205 - accuracy: 0.4023 - val_loss: 1.3933 - val_accuracy: 0.4895\n",
            "Epoch 2/10\n",
            "1250/1250 [==============================] - 70s 56ms/step - loss: 1.2802 - accuracy: 0.5391 - val_loss: 1.2147 - val_accuracy: 0.5600\n",
            "Epoch 3/10\n",
            "1250/1250 [==============================] - 69s 55ms/step - loss: 1.1248 - accuracy: 0.6018 - val_loss: 1.1192 - val_accuracy: 0.6042\n",
            "Epoch 4/10\n",
            "1250/1250 [==============================] - 74s 59ms/step - loss: 1.0165 - accuracy: 0.6438 - val_loss: 1.0316 - val_accuracy: 0.6416\n",
            "Epoch 5/10\n",
            "1250/1250 [==============================] - 68s 54ms/step - loss: 0.9449 - accuracy: 0.6679 - val_loss: 1.0169 - val_accuracy: 0.6433\n",
            "Epoch 6/10\n",
            "1250/1250 [==============================] - 69s 55ms/step - loss: 0.8839 - accuracy: 0.6879 - val_loss: 0.9546 - val_accuracy: 0.6663\n",
            "Epoch 7/10\n",
            "1250/1250 [==============================] - 69s 55ms/step - loss: 0.8329 - accuracy: 0.7074 - val_loss: 0.9154 - val_accuracy: 0.6856\n",
            "Epoch 8/10\n",
            "1250/1250 [==============================] - 71s 57ms/step - loss: 0.7909 - accuracy: 0.7252 - val_loss: 0.8955 - val_accuracy: 0.6878\n",
            "Epoch 9/10\n",
            "1250/1250 [==============================] - 69s 55ms/step - loss: 0.7554 - accuracy: 0.7334 - val_loss: 0.9067 - val_accuracy: 0.6891\n",
            "Epoch 10/10\n",
            "1250/1250 [==============================] - 69s 55ms/step - loss: 0.7205 - accuracy: 0.7474 - val_loss: 0.9095 - val_accuracy: 0.6936\n",
            "loss: 0.9206\n",
            "accuracy: 0.6825\n"
          ]
        }
      ],
      "source": [
        "# 建立模型\n",
        "model = tf.keras.models.Sequential([\n",
        "    tf.keras.layers.Conv2D(32, (3, 3), activation='relu', input_shape=(32, 32, 3)),\n",
        "    tf.keras.layers.MaxPooling2D((2, 2)),\n",
        "    tf.keras.layers.Conv2D(64, (3, 3), activation='relu'),\n",
        "    tf.keras.layers.MaxPooling2D((2, 2)),\n",
        "    tf.keras.layers.Conv2D(64, (3, 3), activation='relu'),    \n",
        "    tf.keras.layers.Flatten(),    \n",
        "    tf.keras.layers.Dense(64, activation='relu'),    \n",
        "    tf.keras.layers.Dense(10)    \n",
        "])\n",
        "\n",
        "# 設定優化器(optimizer)、損失函數(loss)、效能衡量指標(metrics)的類別\n",
        "model.compile(optimizer='adam',\n",
        "              loss=tf.keras.losses.SparseCategoricalCrossentropy(from_logits=True),\n",
        "              metrics=['accuracy'])\n",
        "\n",
        "# 模型訓練\n",
        "history = model.fit(x_train_norm, y_train, epochs=10, validation_split=0.2)\n",
        "\n",
        "# 評分(Score Model)\n",
        "score=model.evaluate(x_test_norm, y_test, verbose=0)\n",
        "\n",
        "for i, x in enumerate(score):\n",
        "    print(f'{model.metrics_names[i]}: {score[i]:.4f}')"
      ]
    },
    {
      "cell_type": "code",
      "execution_count": 4,
      "metadata": {
        "id": "6sZ5Bmp1Lb6W",
        "outputId": "016d66f6-0b48-4256-ccf4-324c03f7f363",
        "colab": {
          "base_uri": "https://localhost:8080/",
          "height": 472
        }
      },
      "outputs": [
        {
          "output_type": "execute_result",
          "data": {
            "text/plain": [
              "<matplotlib.legend.Legend at 0x7fac4aa0c670>"
            ]
          },
          "metadata": {},
          "execution_count": 4
        },
        {
          "output_type": "display_data",
          "data": {
            "text/plain": [
              "<Figure size 640x480 with 1 Axes>"
            ],
            "image/png": "[encoded data removed]"
          },
          "metadata": {}
        }
      ],
      "source": [
        "import matplotlib.pyplot as plt\n",
        "\n",
        "plt.plot(history.history['accuracy'], label='accuracy')\n",
        "plt.plot(history.history['val_accuracy'], label = 'val_accuracy')\n",
        "plt.xlabel('Epoch')\n",
        "plt.ylabel('Accuracy')\n",
        "plt.ylim([0.5, 1])\n",
        "plt.legend(loc='lower right')"
      ]
    },
    {
      "cell_type": "code",
      "execution_count": 5,
      "metadata": {
        "id": "WqJQJZ7uLb6v",
        "outputId": "05fda013-1ce7-4881-b304-7411d1913d1d",
        "colab": {
          "base_uri": "https://localhost:8080/"
        }
      },
      "outputs": [
        {
          "output_type": "stream",
          "name": "stdout",
          "text": [
            "Model: \"sequential\"\n",
            "_________________________________________________________________\n",
            " Layer (type)                Output Shape              Param #   \n",
            "=================================================================\n",
            " conv2d (Conv2D)             (None, 30, 30, 32)        896       \n",
            "                                                                 \n",
            " max_pooling2d (MaxPooling2D  (None, 15, 15, 32)       0         \n",
            " )                                                               \n",
            "                                                                 \n",
            " conv2d_1 (Conv2D)           (None, 13, 13, 64)        18496     \n",
            "                                                                 \n",
            " max_pooling2d_1 (MaxPooling  (None, 6, 6, 64)         0         \n",
            " 2D)                                                             \n",
            "                                                                 \n",
            " conv2d_2 (Conv2D)           (None, 4, 4, 64)          36928     \n",
            "                                                                 \n",
            " flatten (Flatten)           (None, 1024)              0         \n",
            "                                                                 \n",
            " dense (Dense)               (None, 64)                65600     \n",
            "                                                                 \n",
            " dense_1 (Dense)             (None, 10)                650       \n",
            "                                                                 \n",
            "=================================================================\n",
            "Total params: 122,570\n",
            "Trainable params: 122,570\n",
            "Non-trainable params: 0\n",
            "_________________________________________________________________\n"
          ]
        }
      ],
      "source": [
        "model.summary()"
      ]
    },
    {
      "cell_type": "code",
      "execution_count": null,
      "metadata": {
        "id": "V9IeXmMLLb6y"
      },
      "outputs": [],
      "source": []
    }
  ],
  "metadata": {
    "kernelspec": {
      "display_name": "Python 3",
      "language": "python",
      "name": "python3"
    },
    "language_info": {
      "codemirror_mode": {
        "name": "ipython",
        "version": 3
      },
      "file_extension": ".py",
      "mimetype": "text/x-python",
      "name": "python",
      "nbconvert_exporter": "python",
      "pygments_lexer": "ipython3",
      "version": "3.8.3"
    },
    "colab": {
      "provenance": []
    }
  },
  "nbformat": 4,
  "nbformat_minor": 0
}