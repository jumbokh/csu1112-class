{
  "cells": [
    {
      "cell_type": "markdown",
      "metadata": {
        "id": "x-qZI9MrKhhL"
      },
      "source": [
        "# cifar10 辨識"
      ]
    },
    {
      "cell_type": "markdown",
      "metadata": {
        "id": "xzrHJAJDKhhZ"
      },
      "source": [
        "## 步驟1：載入 cifar10 資料"
      ]
    },
    {
      "cell_type": "code",
      "execution_count": 1,
      "metadata": {
        "id": "CVlCpyaaKhhb",
        "outputId": "d28ee946-1095-41f1-b90d-c15bc644461e",
        "colab": {
          "base_uri": "https://localhost:8080/"
        }
      },
      "outputs": [
        {
          "output_type": "stream",
          "name": "stdout",
          "text": [
            "Downloading data from https://www.cs.toronto.edu/~kriz/cifar-10-python.tar.gz\n",
            "170498071/170498071 [==============================] - 13s 0us/step\n",
            "(50000, 32, 32, 3) (50000, 1) (10000, 32, 32, 3) (10000, 1)\n"
          ]
        }
      ],
      "source": [
        "import tensorflow as tf\n",
        "cifar10 = tf.keras.datasets.cifar10\n",
        "\n",
        "# 載入 cifar10 資料\n",
        "(x_train, y_train),(x_test, y_test) = cifar10.load_data()\n",
        "\n",
        "# 訓練/測試資料的 X/y 維度\n",
        "print(x_train.shape, y_train.shape,x_test.shape, y_test.shape)"
      ]
    },
    {
      "cell_type": "markdown",
      "metadata": {
        "id": "jRrNFdXZKhhg"
      },
      "source": [
        "## 轉成單色"
      ]
    },
    {
      "cell_type": "code",
      "execution_count": 2,
      "metadata": {
        "id": "FxmYnE6JKhhj",
        "outputId": "33a557fc-6da4-4e46-d9a0-d1c43ce78805",
        "colab": {
          "base_uri": "https://localhost:8080/"
        }
      },
      "outputs": [
        {
          "output_type": "stream",
          "name": "stdout",
          "text": [
            "(50000, 32, 32, 1) (10000, 32, 32, 1)\n"
          ]
        }
      ],
      "source": [
        "# 轉成單色：rgb_to_grayscale\n",
        "x_train = tf.image.rgb_to_grayscale(x_train)\n",
        "x_test = tf.image.rgb_to_grayscale(x_test)\n",
        "print(x_train.shape, x_test.shape)"
      ]
    },
    {
      "cell_type": "markdown",
      "metadata": {
        "id": "FxKfREAIKhhl"
      },
      "source": [
        "## 步驟2：資料清理，此步驟無需進行"
      ]
    },
    {
      "cell_type": "markdown",
      "metadata": {
        "id": "td2ADSiQKhhm"
      },
      "source": [
        "## 步驟3：進行特徵工程，將特徵縮放成(0, 1)之間"
      ]
    },
    {
      "cell_type": "code",
      "execution_count": 3,
      "metadata": {
        "id": "cfXfoKqzKhid"
      },
      "outputs": [],
      "source": [
        "# 特徵縮放，使用常態化(Normalization)，公式 = (x - min) / (max - min)\n",
        "x_train_norm, x_test_norm = x_train / 255, x_test / 255"
      ]
    },
    {
      "cell_type": "code",
      "execution_count": 4,
      "metadata": {
        "id": "PcguaLGyKhif",
        "outputId": "9f8d8f84-9fa1-49b8-80f0-1d993f0830a1",
        "colab": {
          "base_uri": "https://localhost:8080/"
        }
      },
      "outputs": [
        {
          "output_type": "execute_result",
          "data": {
            "text/plain": [
              "<tf.Tensor: shape=(32, 32, 1), dtype=float32, numpy=\n",
              "array([[[0.23921569],\n",
              "        [0.1764706 ],\n",
              "        [0.1882353 ],\n",
              "        ...,\n",
              "        [0.5372549 ],\n",
              "        [0.50980395],\n",
              "        [0.5058824 ]],\n",
              "\n",
              "       [[0.07058824],\n",
              "        [0.        ],\n",
              "        [0.03921569],\n",
              "        ...,\n",
              "        [0.36862746],\n",
              "        [0.3529412 ],\n",
              "        [0.36862746]],\n",
              "\n",
              "       [[0.09411765],\n",
              "        [0.03137255],\n",
              "        [0.12156863],\n",
              "        ...,\n",
              "        [0.3529412 ],\n",
              "        [0.35686275],\n",
              "        [0.3137255 ]],\n",
              "\n",
              "       ...,\n",
              "\n",
              "       [[0.6784314 ],\n",
              "        [0.6039216 ],\n",
              "        [0.6117647 ],\n",
              "        ...,\n",
              "        [0.5254902 ],\n",
              "        [0.13725491],\n",
              "        [0.14901961]],\n",
              "\n",
              "       [[0.57254905],\n",
              "        [0.5019608 ],\n",
              "        [0.56078434],\n",
              "        ...,\n",
              "        [0.59607846],\n",
              "        [0.27058825],\n",
              "        [0.23137255]],\n",
              "\n",
              "       [[0.5882353 ],\n",
              "        [0.53333336],\n",
              "        [0.5764706 ],\n",
              "        ...,\n",
              "        [0.7372549 ],\n",
              "        [0.4862745 ],\n",
              "        [0.3882353 ]]], dtype=float32)>"
            ]
          },
          "metadata": {},
          "execution_count": 4
        }
      ],
      "source": [
        "# 確認轉換成功\n",
        "x_train_norm[0]"
      ]
    },
    {
      "cell_type": "markdown",
      "metadata": {
        "id": "1OUH6UegKhig"
      },
      "source": [
        "## 步驟4：資料分割，此步驟無需進行，載入MNIST資料時，已經切割好了\n",
        "\n",
        "## 步驟5：建立模型結構\n",
        "\n",
        "## 步驟6：結合訓練資料及模型，進行模型訓練\n",
        "\n",
        "## 步驟7：評分(Score Model)"
      ]
    },
    {
      "cell_type": "code",
      "execution_count": 5,
      "metadata": {
        "id": "DzVILS6FKhim",
        "outputId": "7e0833db-7d00-4e6a-a30d-9b17b1836de2",
        "colab": {
          "base_uri": "https://localhost:8080/"
        }
      },
      "outputs": [
        {
          "output_type": "stream",
          "name": "stdout",
          "text": [
            "Epoch 1/10\n"
          ]
        },
        {
          "output_type": "stream",
          "name": "stderr",
          "text": [
            "/usr/local/lib/python3.9/dist-packages/keras/backend.py:5612: UserWarning: \"`sparse_categorical_crossentropy` received `from_logits=True`, but the `output` argument was produced by a Softmax activation and thus does not represent logits. Was this intended?\n",
            "  output, from_logits = _get_logits(\n"
          ]
        },
        {
          "output_type": "stream",
          "name": "stdout",
          "text": [
            "1250/1250 [==============================] - 7s 3ms/step - loss: 2.1306 - accuracy: 0.2093 - val_loss: 2.0536 - val_accuracy: 0.2562\n",
            "Epoch 2/10\n",
            "1250/1250 [==============================] - 4s 3ms/step - loss: 2.0487 - accuracy: 0.2530 - val_loss: 1.9996 - val_accuracy: 0.2844\n",
            "Epoch 3/10\n",
            "1250/1250 [==============================] - 4s 3ms/step - loss: 2.0068 - accuracy: 0.2742 - val_loss: 1.9470 - val_accuracy: 0.2980\n",
            "Epoch 4/10\n",
            "1250/1250 [==============================] - 4s 3ms/step - loss: 1.9879 - accuracy: 0.2808 - val_loss: 1.9283 - val_accuracy: 0.3074\n",
            "Epoch 5/10\n",
            "1250/1250 [==============================] - 3s 3ms/step - loss: 1.9713 - accuracy: 0.2868 - val_loss: 1.9162 - val_accuracy: 0.3175\n",
            "Epoch 6/10\n",
            "1250/1250 [==============================] - 4s 3ms/step - loss: 1.9581 - accuracy: 0.2922 - val_loss: 1.9030 - val_accuracy: 0.3182\n",
            "Epoch 7/10\n",
            "1250/1250 [==============================] - 5s 4ms/step - loss: 1.9532 - accuracy: 0.2918 - val_loss: 1.9138 - val_accuracy: 0.3196\n",
            "Epoch 8/10\n",
            "1250/1250 [==============================] - 4s 3ms/step - loss: 1.9422 - accuracy: 0.2982 - val_loss: 1.8784 - val_accuracy: 0.3335\n",
            "Epoch 9/10\n",
            "1250/1250 [==============================] - 4s 3ms/step - loss: 1.9365 - accuracy: 0.3004 - val_loss: 1.8836 - val_accuracy: 0.3252\n",
            "Epoch 10/10\n",
            "1250/1250 [==============================] - 4s 3ms/step - loss: 1.9311 - accuracy: 0.2989 - val_loss: 1.8915 - val_accuracy: 0.3173\n",
            "loss: 1.8945\n",
            "accuracy: 0.3148\n"
          ]
        }
      ],
      "source": [
        "# 建立模型\n",
        "model = tf.keras.models.Sequential([\n",
        "    tf.keras.layers.Flatten(input_shape=x_train.shape[1:3]),\n",
        "    tf.keras.layers.Dense(128, activation='relu'),\n",
        "    tf.keras.layers.Dropout(0.2),\n",
        "    tf.keras.layers.Dense(10, activation='softmax')\n",
        "])\n",
        "\n",
        "# 設定優化器(optimizer)、損失函數(loss)、效能衡量指標(metrics)的類別\n",
        "model.compile(optimizer='adam',\n",
        "              loss=tf.keras.losses.SparseCategoricalCrossentropy(from_logits=True),\n",
        "              metrics=['accuracy'])\n",
        "\n",
        "# 模型訓練\n",
        "history = model.fit(x_train_norm, y_train, epochs=10, validation_split=0.2)\n",
        "\n",
        "# 評分(Score Model)\n",
        "score=model.evaluate(x_test_norm, y_test, verbose=0)\n",
        "\n",
        "for i, x in enumerate(score):\n",
        "    print(f'{model.metrics_names[i]}: {score[i]:.4f}')"
      ]
    },
    {
      "cell_type": "code",
      "execution_count": 6,
      "metadata": {
        "id": "EVNmDmR0Khi3",
        "outputId": "5147f379-e911-4fc0-b2e9-f7575dee1855",
        "colab": {
          "base_uri": "https://localhost:8080/",
          "height": 466
        }
      },
      "outputs": [
        {
          "output_type": "execute_result",
          "data": {
            "text/plain": [
              "<matplotlib.legend.Legend at 0x7f9c387a8160>"
            ]
          },
          "metadata": {},
          "execution_count": 6
        },
        {
          "output_type": "display_data",
          "data": {
            "text/plain": [
              "<Figure size 640x480 with 1 Axes>"
            ],
            "image/png": "[encoded data removed]"
          },
          "metadata": {}
        }
      ],
      "source": [
        "import matplotlib.pyplot as plt\n",
        "\n",
        "plt.plot(history.history['accuracy'], label='accuracy')\n",
        "plt.plot(history.history['val_accuracy'], label = 'val_accuracy')\n",
        "plt.xlabel('Epoch')\n",
        "plt.ylabel('Accuracy')\n",
        "plt.legend(loc='lower right')"
      ]
    },
    {
      "cell_type": "code",
      "execution_count": 7,
      "metadata": {
        "id": "gJahNbJQKhi4",
        "outputId": "807c4b6a-7a73-4889-81e7-e8148b07e3e5",
        "colab": {
          "base_uri": "https://localhost:8080/"
        }
      },
      "outputs": [
        {
          "output_type": "stream",
          "name": "stdout",
          "text": [
            "Model: \"sequential\"\n",
            "_________________________________________________________________\n",
            " Layer (type)                Output Shape              Param #   \n",
            "=================================================================\n",
            " flatten (Flatten)           (None, 1024)              0         \n",
            "                                                                 \n",
            " dense (Dense)               (None, 128)               131200    \n",
            "                                                                 \n",
            " dropout (Dropout)           (None, 128)               0         \n",
            "                                                                 \n",
            " dense_1 (Dense)             (None, 10)                1290      \n",
            "                                                                 \n",
            "=================================================================\n",
            "Total params: 132,490\n",
            "Trainable params: 132,490\n",
            "Non-trainable params: 0\n",
            "_________________________________________________________________\n"
          ]
        }
      ],
      "source": [
        "model.summary()"
      ]
    },
    {
      "cell_type": "code",
      "execution_count": null,
      "metadata": {
        "id": "i08WZyy2Khi6"
      },
      "outputs": [],
      "source": []
    }
  ],
  "metadata": {
    "kernelspec": {
      "display_name": "Python 3",
      "language": "python",
      "name": "python3"
    },
    "language_info": {
      "codemirror_mode": {
        "name": "ipython",
        "version": 3
      },
      "file_extension": ".py",
      "mimetype": "text/x-python",
      "name": "python",
      "nbconvert_exporter": "python",
      "pygments_lexer": "ipython3",
      "version": "3.8.3"
    },
    "colab": {
      "provenance": []
    },
    "accelerator": "GPU",
    "gpuClass": "standard"
  },
  "nbformat": 4,
  "nbformat_minor": 0
}