{
  "nbformat": 4,
  "nbformat_minor": 0,
  "metadata": {
    "colab": {
      "provenance": [],
      "authorship_tag": "ABX9TyMuck8hbitGwrfd3gKAKoGa",
      "include_colab_link": true
    },
    "kernelspec": {
      "name": "python3",
      "display_name": "Python 3"
    },
    "language_info": {
      "name": "python"
    }
  },
  "cells": [
    {
      "cell_type": "markdown",
      "metadata": {
        "id": "view-in-github",
        "colab_type": "text"
      },
      "source": [
        "<a href=\"https://colab.research.google.com/github/jumbokh/csu1112-class/blob/main/class/face/solve_people.ipynb\" target=\"_parent\"><img src=\"https://colab.research.google.com/assets/colab-badge.svg\" alt=\"Open In Colab\"/></a>"
      ]
    },
    {
      "cell_type": "code",
      "execution_count": null,
      "metadata": {
        "id": "fzFbp6ZrOJfA"
      },
      "outputs": [],
      "source": [
        "# ch27_6_2.py\n",
        "import cv2\n",
        "\n",
        "pictPath = r'C:\\opencv\\data\\haarcascade_profileface.xml'\n",
        "face_cascade = cv2.CascadeClassifier(pictPath)      # 建立辨識物件\n",
        "img = cv2.imread(\"s_1927.jpg\")                      # 讀取影像\n",
        "faces = face_cascade.detectMultiScale(img, scaleFactor=1.3,\n",
        "        minNeighbors = 4, minSize=(20,20))\n",
        "# 標註右下角底色是黃色\n",
        "cv2.rectangle(img, (img.shape[1]-140, img.shape[0]-20),         \n",
        "              (img.shape[1],img.shape[0]), (0,255,255), -1)\n",
        "# 標註找到多少的人臉\n",
        "cv2.putText(img, \"Finding \" + str(len(faces)) + \" face\",\n",
        "            (img.shape[1]-135, img.shape[0]-5),\n",
        "            cv2.FONT_HERSHEY_COMPLEX, 0.5, (255,0,0), 1)\n",
        "# 將人臉框起來, 由於有可能找到好幾個臉所以用迴圈繪出來\n",
        "for (x,y,w,h) in faces:\n",
        "    cv2.rectangle(img,(x,y),(x+w,y+h),(255,0,0),2)  # 藍色框住人臉\n",
        "cv2.imshow(\"Face\", img)                             # 顯示影像\n",
        "\n",
        "cv2.waitKey(0)\n",
        "cv2.destroyAllWindows()"
      ]
    }
  ]
}