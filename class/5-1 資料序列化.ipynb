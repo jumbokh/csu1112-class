{
  "cells": [
    {
      "cell_type": "markdown",
      "metadata": {
        "id": "dHXKciTw8wXk"
      },
      "source": [
        "# 資料序列化"
      ]
    },
    {
      "cell_type": "code",
      "execution_count": 1,
      "metadata": {
        "id": "-_XOgrZq8wXo"
      },
      "outputs": [],
      "source": [
        "import pickle"
      ]
    },
    {
      "cell_type": "code",
      "execution_count": 2,
      "metadata": {
        "id": "QnmCp9iN8wXp"
      },
      "outputs": [],
      "source": [
        "data1 = {'orange':10, 'banana':20, 'apple':30}"
      ]
    },
    {
      "cell_type": "code",
      "execution_count": 3,
      "metadata": {
        "id": "q0EO8fHu8wXq"
      },
      "outputs": [],
      "source": [
        "filename = 'ROE.pkl'"
      ]
    },
    {
      "cell_type": "markdown",
      "metadata": {
        "id": "jW4oqFCa8wXq"
      },
      "source": [
        "## 將資料存到硬碟"
      ]
    },
    {
      "cell_type": "code",
      "execution_count": 4,
      "metadata": {
        "id": "eW0wyv8p8wXr"
      },
      "outputs": [],
      "source": [
        "with open(filename, 'wb') as f:\n",
        "    pickle.dump(data1, file=f)"
      ]
    },
    {
      "cell_type": "markdown",
      "metadata": {
        "id": "iw3TfRVm8wXr"
      },
      "source": [
        "## 將資料從硬碟讀出來"
      ]
    },
    {
      "cell_type": "code",
      "execution_count": 5,
      "metadata": {
        "id": "je0l9aqc8wXs"
      },
      "outputs": [],
      "source": [
        "with open(filename, 'rb') as f:\n",
        "    data2 = pickle.load(file=f)"
      ]
    },
    {
      "cell_type": "code",
      "execution_count": 6,
      "metadata": {
        "id": "V5s5f6P28wXs",
        "outputId": "4214f2ee-eeea-4111-c94f-cd33dbbf59d9",
        "colab": {
          "base_uri": "https://localhost:8080/"
        }
      },
      "outputs": [
        {
          "output_type": "execute_result",
          "data": {
            "text/plain": [
              "{'orange': 10, 'banana': 20, 'apple': 30}"
            ]
          },
          "metadata": {},
          "execution_count": 6
        }
      ],
      "source": [
        "data2"
      ]
    }
  ],
  "metadata": {
    "kernelspec": {
      "display_name": "Python 3",
      "language": "python",
      "name": "python3"
    },
    "language_info": {
      "codemirror_mode": {
        "name": "ipython",
        "version": 3
      },
      "file_extension": ".py",
      "mimetype": "text/x-python",
      "name": "python",
      "nbconvert_exporter": "python",
      "pygments_lexer": "ipython3",
      "version": "3.8.3"
    },
    "colab": {
      "provenance": []
    }
  },
  "nbformat": 4,
  "nbformat_minor": 0
}